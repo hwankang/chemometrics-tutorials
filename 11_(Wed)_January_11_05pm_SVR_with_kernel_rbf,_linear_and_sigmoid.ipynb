{
  "nbformat": 4,
  "nbformat_minor": 0,
  "metadata": {
    "colab": {
      "private_outputs": true,
      "provenance": [],
      "authorship_tag": "ABX9TyMf47jri54PsaRTLAh93PrB",
      "include_colab_link": true
    },
    "kernelspec": {
      "name": "python3",
      "display_name": "Python 3"
    },
    "language_info": {
      "name": "python"
    }
  },
  "cells": [
    {
      "cell_type": "markdown",
      "metadata": {
        "id": "view-in-github",
        "colab_type": "text"
      },
      "source": [
        "<a href=\"https://colab.research.google.com/github/hwankang/chemometrics-tutorials/blob/master/11_(Wed)_January_11_05pm_SVR_with_kernel_rbf%2C_linear_and_sigmoid.ipynb\" target=\"_parent\"><img src=\"https://colab.research.google.com/assets/colab-badge.svg\" alt=\"Open In Colab\"/></a>"
      ]
    },
    {
      "cell_type": "code",
      "execution_count": null,
      "metadata": {
        "id": "1OqJKImVZgb8"
      },
      "outputs": [],
      "source": [
        "import multiprocessing\n",
        "import pandas as pd\n",
        "import numpy as pd\n",
        "import matplotlib.pyplot as plt\n",
        "plt.style.use(['seaborn-whitegrid'])"
      ]
    },
    {
      "cell_type": "code",
      "source": [
        "from sklearn.svm import SVR, SVC\n",
        "from sklearn.datasets import load_boston, load_diabetes\n",
        "from sklearn.datasets import load_breast_cancer, load_iris, load_wine\n",
        "from sklearn.pipeline import make_pipeline,Pipeline\n",
        "from sklearn.model_selection import train_test_split,cross_validate, GridSearchCV\n",
        "from sklearn.preprocessing import StandardScaler, MinMaxScaler\n",
        "from sklearn.manifold import TSNE\n"
      ],
      "metadata": {
        "id": "aTWrdJnlZ6QC"
      },
      "execution_count": null,
      "outputs": []
    },
    {
      "cell_type": "markdown",
      "source": [
        "#SVM을 사용한 분류모델 \n",
        "# 커널기법"
      ],
      "metadata": {
        "id": "BypkTxpIb6fd"
      }
    },
    {
      "cell_type": "code",
      "source": [
        "X,y = load_boston(return_X_y=True)\n",
        "X_train, X_test, y_train, y_test=train_test_split(X, y, random_state=123)\n",
        "\n",
        "model = SVR()\n",
        "model.fit(X_train, y_train)\n",
        "\n",
        "print(\"힉습 데이터 점수:{}\".format(model.score(X_train, y_train)))\n",
        "print(\"평가 데이터 점수:{}\".format(model.score(X_test, y_test)))"
      ],
      "metadata": {
        "id": "S6s4Jpkjbzna"
      },
      "execution_count": null,
      "outputs": []
    },
    {
      "cell_type": "code",
      "source": [
        "X,y = load_breast_cancer(return_X_y=True)\n",
        "X_train, X_test, y_train, y_test=train_test_split(X, y, random_state=123)\n",
        "\n",
        "model = SVC()\n",
        "model.fit(X_train, y_train)\n",
        "\n",
        "print(\"힉습 데이터 점수:{}\".format(model.score(X_train, y_train)))\n",
        "print(\"평가 데이터 점수:{}\".format(model.score(X_test, y_test)))"
      ],
      "metadata": {
        "id": "alZPIHxUdbzy"
      },
      "execution_count": null,
      "outputs": []
    },
    {
      "cell_type": "markdown",
      "source": [
        "#커널기법"
      ],
      "metadata": {
        "id": "zYn_lqxCduc1"
      }
    },
    {
      "cell_type": "code",
      "source": [
        "X,y=load_boston(return_X_y=True)\n",
        "X_train, X_test,y_train, y_test=train_test_split(X,y,random_state=123)\n",
        "\n",
        "linear_svr=SVR(kernel='linear')\n",
        "linear_svr.fit(X_train,y_train)\n",
        "\n",
        "print(\"Linear SVR 힉습 데이터 점수:{}\".format(linear_svr.score(X_train, y_train)))\n",
        "print(\"Linear SVR 평가 데이터 점수:{}\".format(linear_svr.score(X_test, y_test)))\n",
        "\n",
        "poly_svr=SVR(kernel='poly')\n",
        "poly_svr.fit(X_train,y_train)\n",
        "\n",
        "print(\"Polynomial SVR 힉습 데이터 점수:{}\".format(poly_svr.score(X_train, y_train)))\n",
        "print(\"Polynomial SVR 평가 데이터 점수:{}\".format(poly_svr.score(X_test, y_test)))\n",
        "\n",
        "rbf_svr=SVR(kernel='rbf')\n",
        "rbf_svr.fit(X_train,y_train)\n",
        "\n",
        "print(\"RBF SVR 힉습 데이터 점수:{}\".format(rbf_svr.score(X_train, y_train)))\n",
        "print(\"RBF SVR 평가 데이터 점수:{}\".format(rbf_svr.score(X_test, y_test)))"
      ],
      "metadata": {
        "id": "wWAJqb1ZdrnN"
      },
      "execution_count": null,
      "outputs": []
    },
    {
      "cell_type": "code",
      "source": [],
      "metadata": {
        "id": "dweo6Rzqful3"
      },
      "execution_count": null,
      "outputs": []
    },
    {
      "cell_type": "code",
      "source": [
        "X,y=load_breast_cancer(return_X_y=True)\n",
        "X_train, X_test,y_train, y_test=train_test_split(X,y,random_state=123)\n",
        "\n",
        "linear_svc=SVC(kernel='linear')\n",
        "linear_svc.fit(X_train,y_train)\n",
        "\n",
        "print(\"Linear SVC 힉습 데이터 점수:{}\".format(linear_svc.score(X_train, y_train)))\n",
        "print(\"Linear SVC 평가 데이터 점수:{}\".format(linear_svc.score(X_test, y_test)))\n",
        "\n",
        "poly_svc=SVC(kernel='poly')\n",
        "poly_svc.fit(X_train,y_train)\n",
        "\n",
        "print(\"Polynomial SVC 힉습 데이터 점수:{}\".format(poly_svc.score(X_train, y_train)))\n",
        "print(\"Polynomial SVC 평가 데이터 점수:{}\".format(poly_svc.score(X_test, y_test)))\n",
        "\n",
        "rbf_svc=SVC(kernel='rbf')\n",
        "rbf_svc.fit(X_train,y_train)\n",
        "\n",
        "print(\"RBF SVR 힉습 데이터 점수:{}\".format(rbf_svc.score(X_train, y_train)))\n",
        "print(\"RBF SVR 평가 데이터 점수:{}\".format(rbf_svc.score(X_test, y_test)))"
      ],
      "metadata": {
        "id": "0szD4XB9iLKv"
      },
      "execution_count": null,
      "outputs": []
    },
    {
      "cell_type": "markdown",
      "source": [
        "#매개변수 튜닝"
      ],
      "metadata": {
        "id": "35VKkXg-kxp7"
      }
    },
    {
      "cell_type": "code",
      "source": [
        "X,y=load_breast_cancer(return_X_y=True)\n",
        "X_train, X_test,y_train, y_test=train_test_split(X,y,random_state=123)\n",
        "\n",
        "poly_svc=SVC(kernel='poly',degree=2,C=0.1,gamma='auto')\n",
        "poly_svc.fit(X_train,y_train)\n",
        "\n",
        "print(\"kernel=poly, degree={},C={},gamma={}\".format(2,0.1,'auto'))\n",
        "\n",
        "print(\"Polynomial SVC 힉습 데이터 점수:{}\".format(poly_svc.score(X_train, y_train)))\n",
        "print(\"Polynomial SVC 평가 데이터 점수:{}\".format(poly_svc.score(X_test, y_test)))\n"
      ],
      "metadata": {
        "id": "to2eA5LNilKT"
      },
      "execution_count": null,
      "outputs": []
    },
    {
      "cell_type": "code",
      "source": [
        "rbf_svc=SVC(kernel='rbf',C=2.0, gamma='scale')\n",
        "rbf_svc.fit(X_train,y_train)\n",
        "print(\"kernel=rbf,C={},gamma={}\".format(2,0,'scale'))\n",
        "print(\"RBF SVR 힉습 데이터 점수:{}\".format(rbf_svc.score(X_train, y_train)))\n",
        "print(\"RBF SVR 평가 데이터 점수:{}\".format(rbf_svc.score(X_test, y_test)))"
      ],
      "metadata": {
        "id": "rLciKpcBmNt7"
      },
      "execution_count": null,
      "outputs": []
    },
    {
      "cell_type": "code",
      "source": [
        "scaler=MinMaxScaler()\n",
        "X_train=scaler.fit_transform(X_train)\n",
        "X_test=scaler.transform(X_test)"
      ],
      "metadata": {
        "id": "KAgJ6Lr4n-By"
      },
      "execution_count": null,
      "outputs": []
    },
    {
      "cell_type": "code",
      "source": [
        "model=SVC()\n",
        "model.fit(X_train,y_train)"
      ],
      "metadata": {
        "id": "jWf8erQwoUGB"
      },
      "execution_count": null,
      "outputs": []
    },
    {
      "cell_type": "code",
      "source": [
        "print(\"SVC 힉습 데이터 점수:{}\".format(model.score(X_train, y_train)))\n",
        "print(\"SVC 평가 데이터 점수:{}\".format(model.score(X_test, y_test)))"
      ],
      "metadata": {
        "id": "2NsYc03bomrx"
      },
      "execution_count": null,
      "outputs": []
    },
    {
      "cell_type": "markdown",
      "source": [
        "#Linear SVR"
      ],
      "metadata": {
        "id": "-ZnoCbjyo-1r"
      }
    },
    {
      "cell_type": "code",
      "source": [
        "X,y=load_boston(return_X_y=True)\n",
        "X_train,X_test,y_train,y_test=train_test_split(X,y,test_size=0.2)"
      ],
      "metadata": {
        "id": "zoOIgUvfpBt0"
      },
      "execution_count": null,
      "outputs": []
    },
    {
      "cell_type": "code",
      "source": [
        "scaler=StandardScaler()\n",
        "scaler.fit(X_train)\n",
        "X_train=scaler.transform(X_train)\n",
        "X_test=scaler.transform(X_test)"
      ],
      "metadata": {
        "id": "QPrPS8n1pZDl"
      },
      "execution_count": null,
      "outputs": []
    },
    {
      "cell_type": "code",
      "source": [
        "model=SVR(kernel='linear')\n",
        "model.fit(X_train,y_train)"
      ],
      "metadata": {
        "id": "8K8jEukKp1fL"
      },
      "execution_count": null,
      "outputs": []
    },
    {
      "cell_type": "code",
      "source": [
        "print(\"학습 데이터 점수:{}\".format(model.score(X_train, y_train)))\n",
        "print(\"평가 데이터 점수:{}\".format(model.score(X_test, y_test)))"
      ],
      "metadata": {
        "id": "VVmW6qiTqBI8"
      },
      "execution_count": null,
      "outputs": []
    },
    {
      "cell_type": "code",
      "source": [
        "X_comp=TSNE(n_components=1).fit_transform(X)\n",
        "plt.scatter(X_comp,y);"
      ],
      "metadata": {
        "id": "lvlKrddRrEAK"
      },
      "execution_count": null,
      "outputs": []
    },
    {
      "cell_type": "code",
      "source": [
        "model.fit(X_comp,y)\n",
        "predict=model.predict(X_comp)\n",
        "plt.scatter(X_comp,y)\n",
        "plt.scatter(X_comp,predict)\n"
      ],
      "metadata": {
        "id": "LA-_hIQNr53J"
      },
      "execution_count": null,
      "outputs": []
    },
    {
      "cell_type": "code",
      "source": [
        "estimator=make_pipeline(StandardScaler(), SVR(kernel='linear'))\n",
        "cross_validate(\n",
        "    estimator=estimator,\n",
        "    X=X, y=y,\n",
        "    cv=5,\n",
        "    n_jobs=multiprocessing.cpu_count(),\n",
        "    verbose=True\n",
        ")"
      ],
      "metadata": {
        "id": "WPLjeMfjriZw"
      },
      "execution_count": null,
      "outputs": []
    },
    {
      "cell_type": "code",
      "source": [
        "pipe=Pipeline([('scaler',StandardScaler()),\n",
        "               ('model', SVR(kernel='linear'))])\n",
        "param_grid=[{'model__gamma':['scale','auto'],\n",
        "              'model__C':[1.0, 0.1, 0.01],\n",
        "              'model__epsilon':[1.0, 0.1, 0.01]}]\n",
        "gs=GridSearchCV(\n",
        "    estimator=pipe,\n",
        "    param_grid = param_grid,\n",
        "    n_jobs=multiprocessing.cpu_count(),\n",
        "    cv=5,\n",
        "    verbose=True\n",
        ")\n",
        "\n"
      ],
      "metadata": {
        "id": "DCee17JJiOe9"
      },
      "execution_count": null,
      "outputs": []
    },
    {
      "cell_type": "code",
      "source": [
        "gs.fit(X,y)"
      ],
      "metadata": {
        "id": "eXCQnArGw8NV"
      },
      "execution_count": null,
      "outputs": []
    },
    {
      "cell_type": "code",
      "source": [
        "gs.best_estimator_"
      ],
      "metadata": {
        "id": "m4yebLmcw-ta"
      },
      "execution_count": null,
      "outputs": []
    },
    {
      "cell_type": "markdown",
      "source": [
        "#당뇨병"
      ],
      "metadata": {
        "id": "-qAIvw75zOya"
      }
    },
    {
      "cell_type": "code",
      "source": [
        "X,y=load_diabetes(return_X_y=True)\n",
        "X_train,X_test,y_train,y_test=train_test_split(X,y,test_size=0.2)"
      ],
      "metadata": {
        "id": "TX68MLRBzj4B"
      },
      "execution_count": null,
      "outputs": []
    },
    {
      "cell_type": "code",
      "source": [
        "scaler=StandardScaler()\n",
        "scaler.fit(X_train)\n",
        "X_train=scaler.transform(X_train)\n",
        "X_test=scaler.transform(X_test)"
      ],
      "metadata": {
        "id": "baH1zwuezj4H"
      },
      "execution_count": null,
      "outputs": []
    },
    {
      "cell_type": "code",
      "source": [
        "model=SVR(kernel='linear')\n",
        "model.fit(X_train,y_train)"
      ],
      "metadata": {
        "id": "wenS-vJZzj4H"
      },
      "execution_count": null,
      "outputs": []
    },
    {
      "cell_type": "code",
      "source": [
        "print(\"학습 데이터 점수:{}\".format(model.score(X_train, y_train)))\n",
        "print(\"평가 데이터 점수:{}\".format(model.score(X_test, y_test)))"
      ],
      "metadata": {
        "id": "GdBe2FAZzj4H"
      },
      "execution_count": null,
      "outputs": []
    },
    {
      "cell_type": "code",
      "source": [
        "X_comp=TSNE(n_components=1).fit_transform(X)\n",
        "plt.scatter(X_comp,y);"
      ],
      "metadata": {
        "id": "ldS0Ro2jzj4I"
      },
      "execution_count": null,
      "outputs": []
    },
    {
      "cell_type": "code",
      "source": [
        "model.fit(X_comp,y)\n",
        "predict=model.predict(X_comp)\n",
        "plt.scatter(X_comp,y)\n",
        "plt.scatter(X_comp,predict)\n"
      ],
      "metadata": {
        "id": "uVJPEJGBzj4I"
      },
      "execution_count": null,
      "outputs": []
    },
    {
      "cell_type": "code",
      "source": [
        "estimator=make_pipeline(StandardScaler(), SVR(kernel='linear'))\n",
        "cross_validate(\n",
        "    estimator=estimator,\n",
        "    X=X, y=y,\n",
        "    cv=5,\n",
        "    n_jobs=multiprocessing.cpu_count(),\n",
        "    verbose=True\n",
        ")"
      ],
      "metadata": {
        "id": "edC5C3mEzj4I"
      },
      "execution_count": null,
      "outputs": []
    },
    {
      "cell_type": "code",
      "source": [
        "pipe=Pipeline([('scaler',StandardScaler()),\n",
        "               ('model', SVR(kernel='linear'))])\n",
        "param_grid=[{'model__gamma':['scale','auto'],\n",
        "              'model__C':[1.0, 0.1, 0.01],\n",
        "              'model__epsilon':[1.0, 0.1, 0.01]}]\n",
        "gs=GridSearchCV(\n",
        "    estimator=pipe,\n",
        "    param_grid = param_grid,\n",
        "    n_jobs=multiprocessing.cpu_count(),\n",
        "    cv=5,\n",
        "    verbose=True\n",
        ")\n",
        "\n"
      ],
      "metadata": {
        "id": "l3Zs0XcKzj4I"
      },
      "execution_count": null,
      "outputs": []
    },
    {
      "cell_type": "code",
      "source": [
        "gs.fit(X,y)"
      ],
      "metadata": {
        "id": "48AaGDiQzj4I"
      },
      "execution_count": null,
      "outputs": []
    },
    {
      "cell_type": "code",
      "source": [
        "gs.best_estimator_"
      ],
      "metadata": {
        "id": "lO2tXerczj4I"
      },
      "execution_count": null,
      "outputs": []
    },
    {
      "cell_type": "markdown",
      "source": [
        "#당뇨병\n"
      ],
      "metadata": {
        "id": "c-nPSFMy0oXK"
      }
    },
    {
      "cell_type": "code",
      "source": [
        "X,y=load_diabetes(return_X_y=True)\n",
        "X_train,X_test,y_train,y_test=train_test_split(X,y,test_size=0.2)"
      ],
      "metadata": {
        "id": "Cdb3tb8H055L"
      },
      "execution_count": null,
      "outputs": []
    },
    {
      "cell_type": "code",
      "source": [
        "scaler=StandardScaler()\n",
        "scaler.fit(X_train)\n",
        "X_train=scaler.transform(X_train)\n",
        "X_test=scaler.transform(X_test)"
      ],
      "metadata": {
        "id": "q_rXdC-v055M"
      },
      "execution_count": null,
      "outputs": []
    },
    {
      "cell_type": "code",
      "source": [
        "model=SVR(kernel='rbf')\n",
        "model.fit(X_train,y_train)"
      ],
      "metadata": {
        "id": "umZH2l9k055M"
      },
      "execution_count": null,
      "outputs": []
    },
    {
      "cell_type": "code",
      "source": [
        "print(\"학습 데이터 점수:{}\".format(model.score(X_train, y_train)))\n",
        "print(\"평가 데이터 점수:{}\".format(model.score(X_test, y_test)))"
      ],
      "metadata": {
        "id": "xWvibKiL055M"
      },
      "execution_count": null,
      "outputs": []
    },
    {
      "cell_type": "code",
      "source": [
        "X_comp=TSNE(n_components=1).fit_transform(X)\n",
        "plt.scatter(X_comp,y);"
      ],
      "metadata": {
        "id": "3jz_KMge055M"
      },
      "execution_count": null,
      "outputs": []
    },
    {
      "cell_type": "code",
      "source": [
        "model.fit(X_comp,y)\n",
        "predict=model.predict(X_comp)\n",
        "plt.scatter(X_comp,y)\n",
        "plt.scatter(X_comp,predict)\n"
      ],
      "metadata": {
        "id": "iaHNRoHT055M"
      },
      "execution_count": null,
      "outputs": []
    },
    {
      "cell_type": "code",
      "source": [
        "estimator=make_pipeline(StandardScaler(), SVR(kernel='rbf'))\n",
        "cross_validate(\n",
        "    estimator=estimator,\n",
        "    X=X, y=y,\n",
        "    cv=5,\n",
        "    n_jobs=multiprocessing.cpu_count(),\n",
        "    verbose=True\n",
        ")"
      ],
      "metadata": {
        "id": "OKWqahRi055M"
      },
      "execution_count": null,
      "outputs": []
    },
    {
      "cell_type": "code",
      "source": [
        "pipe=Pipeline([('scaler',StandardScaler()),\n",
        "               ('model', SVR(kernel='rbf'))])\n",
        "param_grid=[{'model__kernel':['rbf','polynomial', 'sigmoid']}]\n",
        "        \n",
        "gs=GridSearchCV(\n",
        "    estimator=pipe,\n",
        "    param_grid = param_grid,\n",
        "    n_jobs=multiprocessing.cpu_count(),\n",
        "    cv=5,\n",
        "    verbose=True\n",
        ")\n",
        "\n"
      ],
      "metadata": {
        "id": "15nYjm50055M"
      },
      "execution_count": null,
      "outputs": []
    },
    {
      "cell_type": "code",
      "source": [
        "gs.fit(X,y)"
      ],
      "metadata": {
        "id": "e34bB6GI055N"
      },
      "execution_count": null,
      "outputs": []
    },
    {
      "cell_type": "code",
      "source": [
        "gs.best_estimator_"
      ],
      "metadata": {
        "id": "9X-iMxLe055N"
      },
      "execution_count": null,
      "outputs": []
    },
    {
      "cell_type": "code",
      "source": [
        "pipe=Pipeline([('scaler',StandardScaler()),\n",
        "               ('model', SVR(kernel='sigmoid'))])\n",
        "param_grid=[{'model__gamma':['scale','auto'],\n",
        "             'model__C':[1.0, 0.1,0.01],\n",
        "             'model__epsilon':[1.0, 0.1, 0.01]}]\n",
        "        \n",
        "gs=GridSearchCV(\n",
        "    estimator=pipe,\n",
        "    param_grid = param_grid,\n",
        "    n_jobs=multiprocessing.cpu_count(),\n",
        "    cv=5,\n",
        "    verbose=True\n",
        ")\n",
        "\n"
      ],
      "metadata": {
        "id": "zvmgEtrU3RwR"
      },
      "execution_count": null,
      "outputs": []
    },
    {
      "cell_type": "code",
      "source": [
        "gs.fit(X,y)"
      ],
      "metadata": {
        "id": "9aSg6WLr3RwR"
      },
      "execution_count": null,
      "outputs": []
    },
    {
      "cell_type": "code",
      "source": [
        "gs.best_estimator_"
      ],
      "metadata": {
        "id": "fnBJIGx93RwS"
      },
      "execution_count": null,
      "outputs": []
    },
    {
      "cell_type": "code",
      "source": [
        "model=gs.best_estimator_\n",
        "model.fit(X_train, y_train)"
      ],
      "metadata": {
        "id": "eIIA6sH-7OWJ"
      },
      "execution_count": null,
      "outputs": []
    },
    {
      "cell_type": "code",
      "source": [
        "print(\"학습 데이터 점수:{}\".format(model.score(X_train, y_train)))\n",
        "print(\"평가 데이터 점수:{}\".format(model.score(X_test, y_test)))"
      ],
      "metadata": {
        "id": "sdwoUQcX7Otf"
      },
      "execution_count": null,
      "outputs": []
    },
    {
      "cell_type": "markdown",
      "source": [
        "#linear SVC\n",
        "#유방암 "
      ],
      "metadata": {
        "id": "znnqPBxL055N"
      }
    },
    {
      "cell_type": "code",
      "source": [
        "X,y=load_breast_cancer(return_X_y=True)\n",
        "X_train,X_test,y_train,y_test=train_test_split(X,y,test_size=0.2)"
      ],
      "metadata": {
        "id": "hzuxgQrR8Q5c"
      },
      "execution_count": null,
      "outputs": []
    },
    {
      "cell_type": "code",
      "source": [
        "scaler=StandardScaler()\n",
        "scaler.fit(X_train)\n",
        "X_train=scaler.transform(X_train)\n",
        "X_test=scaler.transform(X_test)"
      ],
      "metadata": {
        "id": "72f2yUfm8Q5d"
      },
      "execution_count": null,
      "outputs": []
    },
    {
      "cell_type": "code",
      "source": [
        "model=SVC(kernel='linear')\n",
        "model.fit(X_train,y_train)"
      ],
      "metadata": {
        "id": "lXo2ihSs8Q5d"
      },
      "execution_count": null,
      "outputs": []
    },
    {
      "cell_type": "code",
      "source": [
        "print(\"학습 데이터 점수:{}\".format(model.score(X_train, y_train)))\n",
        "print(\"평가 데이터 점수:{}\".format(model.score(X_test, y_test)))"
      ],
      "metadata": {
        "id": "BN60KBi-8Q5d"
      },
      "execution_count": null,
      "outputs": []
    },
    {
      "cell_type": "code",
      "source": [
        "import numpy as np\n",
        "def make_meshgrid(x,y,h=.02):\n",
        "    x_min,x_max=x.min()-1,x.max()+1\n",
        "    y_min,y_max=y.min()-1,y.max()+1\n",
        "    xx,yy = np.meshgrid(np.arange(x_min,x_max,h),\n",
        "                        np.arange(y_min,y_max,h))\n",
        "    return xx, yy"
      ],
      "metadata": {
        "id": "WzaBMxOo8wg9"
      },
      "execution_count": null,
      "outputs": []
    },
    {
      "cell_type": "code",
      "source": [
        "def plot_contours(clf,xx,yy,**params):\n",
        "    Z=clf.predict(np.c_[xx.ravel(),yy.ravel()])\n",
        "    Z=Z.reshape(xx.shape)\n",
        "    out=plt.contourf(xx,yy,Z,**params)\n",
        "\n",
        "    return out"
      ],
      "metadata": {
        "id": "1sc7kBtx9jjy"
      },
      "execution_count": null,
      "outputs": []
    },
    {
      "cell_type": "code",
      "source": [
        "X_comp=TSNE(n_components=2).fit_transform(X)\n",
        "X0,X1=X_comp[:,0],X_comp[:,1]\n",
        "xx,yy=make_meshgrid(X0,X1)"
      ],
      "metadata": {
        "id": "8-qQx3j28Q5d"
      },
      "execution_count": null,
      "outputs": []
    },
    {
      "cell_type": "code",
      "source": [
        "model.fit(X_comp,y)\n",
        "plot_contours(model, xx, yy, cmap=plt.cm.coolwarm, alpha=0.7)\n",
        "plt.scatter(X0,X1,c=y, cmap=plt.cm.coolwarm,s=20,edgecolors='k');\n"
      ],
      "metadata": {
        "id": "hzsByU_v8Q5d"
      },
      "execution_count": null,
      "outputs": []
    },
    {
      "cell_type": "code",
      "source": [
        "estimator=make_pipeline(StandardScaler(), SVC(kernel='linear'))\n",
        "cross_validate(\n",
        "    estimator=estimator,\n",
        "    X=X, y=y,\n",
        "    cv=5,\n",
        "    n_jobs=multiprocessing.cpu_count(),\n",
        "    verbose=True\n",
        ")"
      ],
      "metadata": {
        "id": "AKqerbKl8Q5d"
      },
      "execution_count": null,
      "outputs": []
    },
    {
      "cell_type": "code",
      "source": [
        "pipe=Pipeline([('scaler',StandardScaler()),\n",
        "               ('model', SVC(kernel='linear'))])\n",
        "param_grid=[{'model__gamma':['scale','auto'],\n",
        "             'model__C':[1.0,0.1,0.01]}]\n",
        "        \n",
        "gs=GridSearchCV(\n",
        "    estimator=pipe,\n",
        "    param_grid = param_grid,\n",
        "    n_jobs=multiprocessing.cpu_count(),\n",
        "    cv=5,\n",
        "    verbose=True\n",
        ")\n",
        "gs.fit(X,y)\n"
      ],
      "metadata": {
        "id": "l4FsjOV98Q5e"
      },
      "execution_count": null,
      "outputs": []
    },
    {
      "cell_type": "code",
      "source": [
        "gs.best_estimator_"
      ],
      "metadata": {
        "id": "IqrPvRKG8Q5e"
      },
      "execution_count": null,
      "outputs": []
    },
    {
      "cell_type": "code",
      "source": [
        "model=gs.best_estimator_\n",
        "model.fit(X_train, y_train)"
      ],
      "metadata": {
        "id": "ui8lX2Pe8Q5f"
      },
      "execution_count": null,
      "outputs": []
    },
    {
      "cell_type": "code",
      "source": [
        "print(\"학습 데이터 점수:{}\".format(model.score(X_train, y_train)))\n",
        "print(\"평가 데이터 점수:{}\".format(model.score(X_test, y_test)))"
      ],
      "metadata": {
        "id": "tQBdbPml8Q5f"
      },
      "execution_count": null,
      "outputs": []
    },
    {
      "cell_type": "markdown",
      "source": [
        "#붓꽃"
      ],
      "metadata": {
        "id": "NaWmq2g48Q5f"
      }
    },
    {
      "cell_type": "code",
      "source": [
        "X,y=load_iris(return_X_y=True)\n",
        "X_train,X_test,y_train,y_test=train_test_split(X,y,test_size=0.2)"
      ],
      "metadata": {
        "id": "av4Q7H74C2VZ"
      },
      "execution_count": null,
      "outputs": []
    },
    {
      "cell_type": "code",
      "source": [
        "scaler=StandardScaler()\n",
        "scaler.fit(X_train)\n",
        "X_train=scaler.transform(X_train)\n",
        "X_test=scaler.transform(X_test)"
      ],
      "metadata": {
        "id": "spAlmpBSC2Vd"
      },
      "execution_count": null,
      "outputs": []
    },
    {
      "cell_type": "code",
      "source": [
        "model=SVC(kernel='linear')\n",
        "model.fit(X_train,y_train)"
      ],
      "metadata": {
        "id": "ZO-ckFiaC2Ve"
      },
      "execution_count": null,
      "outputs": []
    },
    {
      "cell_type": "code",
      "source": [
        "print(\"학습 데이터 점수:{}\".format(model.score(X_train, y_train)))\n",
        "print(\"평가 데이터 점수:{}\".format(model.score(X_test, y_test)))"
      ],
      "metadata": {
        "id": "b-7j38bzC2Ve"
      },
      "execution_count": null,
      "outputs": []
    },
    {
      "cell_type": "code",
      "source": [
        "import numpy as np\n",
        "def make_meshgrid(x,y,h=.02):\n",
        "    x_min,x_max=x.min()-1,x.max()+1\n",
        "    y_min,y_max=y.min()-1,y.max()+1\n",
        "    xx,yy = np.meshgrid(np.arange(x_min,x_max,h),\n",
        "                        np.arange(y_min,y_max,h))\n",
        "    return xx, yy"
      ],
      "metadata": {
        "id": "DRFQ6Xc7C2Ve"
      },
      "execution_count": null,
      "outputs": []
    },
    {
      "cell_type": "code",
      "source": [
        "def plot_contours(clf,xx,yy,**params):\n",
        "    Z=clf.predict(np.c_[xx.ravel(),yy.ravel()])\n",
        "    Z=Z.reshape(xx.shape)\n",
        "    out=plt.contourf(xx,yy,Z,**params)\n",
        "\n",
        "    return out"
      ],
      "metadata": {
        "id": "U5iVEJPUC2Ve"
      },
      "execution_count": null,
      "outputs": []
    },
    {
      "cell_type": "code",
      "source": [
        "X_comp=TSNE(n_components=2).fit_transform(X)\n",
        "X0,X1=X_comp[:,0],X_comp[:,1]\n",
        "xx,yy=make_meshgrid(X0,X1)"
      ],
      "metadata": {
        "id": "1R5WkjRkC2Ve"
      },
      "execution_count": null,
      "outputs": []
    },
    {
      "cell_type": "code",
      "source": [
        "model.fit(X_comp,y)\n",
        "plot_contours(model, xx, yy, cmap=plt.cm.coolwarm, alpha=0.7)\n",
        "plt.scatter(X0,X1,c=y, cmap=plt.cm.coolwarm,s=20,edgecolors='k');\n"
      ],
      "metadata": {
        "id": "b-L6bRPVC2Ve"
      },
      "execution_count": null,
      "outputs": []
    },
    {
      "cell_type": "code",
      "source": [
        "estimator=make_pipeline(StandardScaler(), SVC(kernel='linear'))\n",
        "cross_validate(\n",
        "    estimator=estimator,\n",
        "    X=X, y=y,\n",
        "    cv=5,\n",
        "    n_jobs=multiprocessing.cpu_count(),\n",
        "    verbose=True\n",
        ")"
      ],
      "metadata": {
        "id": "X-O-yoTbC2Ve"
      },
      "execution_count": null,
      "outputs": []
    },
    {
      "cell_type": "code",
      "source": [
        "pipe=Pipeline([('scaler',StandardScaler()),\n",
        "               ('model', SVC(kernel='linear'))])\n",
        "param_grid=[{'model__gamma':['scale','auto'],\n",
        "             'model__C':[1.0,0.1,0.01]}]\n",
        "        \n",
        "gs=GridSearchCV(\n",
        "    estimator=pipe,\n",
        "    param_grid = param_grid,\n",
        "    n_jobs=multiprocessing.cpu_count(),\n",
        "    cv=5,\n",
        "    verbose=True\n",
        ")\n",
        "gs.fit(X,y)\n"
      ],
      "metadata": {
        "id": "0o3SS_wVC2Ve"
      },
      "execution_count": null,
      "outputs": []
    },
    {
      "cell_type": "code",
      "source": [
        "gs.best_estimator_"
      ],
      "metadata": {
        "id": "5EbJsWrjC2Ve"
      },
      "execution_count": null,
      "outputs": []
    },
    {
      "cell_type": "code",
      "source": [
        "model=gs.best_estimator_\n",
        "model.fit(X_train, y_train)"
      ],
      "metadata": {
        "id": "O2mhLykEC2Ve"
      },
      "execution_count": null,
      "outputs": []
    },
    {
      "cell_type": "code",
      "source": [
        "print(\"학습 데이터 점수:{}\".format(model.score(X_train, y_train)))\n",
        "print(\"평가 데이터 점수:{}\".format(model.score(X_test, y_test)))"
      ],
      "metadata": {
        "id": "pbwb55W4C2Ve"
      },
      "execution_count": null,
      "outputs": []
    },
    {
      "cell_type": "markdown",
      "source": [
        "#와인"
      ],
      "metadata": {
        "id": "JLlb_6wiC2Ve"
      }
    },
    {
      "cell_type": "code",
      "source": [
        "X,y=load_wine(return_X_y=True)\n",
        "X_train,X_test,y_train,y_test=train_test_split(X,y,test_size=0.2)"
      ],
      "metadata": {
        "id": "qmGnpBZRD6I4"
      },
      "execution_count": null,
      "outputs": []
    },
    {
      "cell_type": "code",
      "source": [
        "scaler=StandardScaler()\n",
        "scaler.fit(X_train)\n",
        "X_train=scaler.transform(X_train)\n",
        "X_test=scaler.transform(X_test)"
      ],
      "metadata": {
        "id": "iRS_jRIqD6JA"
      },
      "execution_count": null,
      "outputs": []
    },
    {
      "cell_type": "code",
      "source": [
        "model=SVC(kernel='linear')\n",
        "model.fit(X_train,y_train)"
      ],
      "metadata": {
        "id": "6zbdxlkYD6JA"
      },
      "execution_count": null,
      "outputs": []
    },
    {
      "cell_type": "code",
      "source": [
        "print(\"학습 데이터 점수:{}\".format(model.score(X_train, y_train)))\n",
        "print(\"평가 데이터 점수:{}\".format(model.score(X_test, y_test)))"
      ],
      "metadata": {
        "id": "29hCy09-D6JA"
      },
      "execution_count": null,
      "outputs": []
    },
    {
      "cell_type": "code",
      "source": [
        "import numpy as np\n",
        "def make_meshgrid(x,y,h=.02):\n",
        "    x_min,x_max=x.min()-1,x.max()+1\n",
        "    y_min,y_max=y.min()-1,y.max()+1\n",
        "    xx,yy = np.meshgrid(np.arange(x_min,x_max,h),\n",
        "                        np.arange(y_min,y_max,h))\n",
        "    return xx, yy"
      ],
      "metadata": {
        "id": "1uP4pxjuD6JA"
      },
      "execution_count": null,
      "outputs": []
    },
    {
      "cell_type": "code",
      "source": [
        "def plot_contours(clf,xx,yy,**params):\n",
        "    Z=clf.predict(np.c_[xx.ravel(),yy.ravel()])\n",
        "    Z=Z.reshape(xx.shape)\n",
        "    out=plt.contourf(xx,yy,Z,**params)\n",
        "\n",
        "    return out"
      ],
      "metadata": {
        "id": "oII0Sxz9D6JA"
      },
      "execution_count": null,
      "outputs": []
    },
    {
      "cell_type": "code",
      "source": [
        "X_comp=TSNE(n_components=2).fit_transform(X)\n",
        "X0,X1=X_comp[:,0],X_comp[:,1]\n",
        "xx,yy=make_meshgrid(X0,X1)"
      ],
      "metadata": {
        "id": "j0f0AGLND6JA"
      },
      "execution_count": null,
      "outputs": []
    },
    {
      "cell_type": "code",
      "source": [
        "model.fit(X_comp,y)\n",
        "plot_contours(model, xx, yy, cmap=plt.cm.coolwarm, alpha=0.7)\n",
        "plt.scatter(X0,X1,c=y, cmap=plt.cm.coolwarm,s=20,edgecolors='k');\n"
      ],
      "metadata": {
        "id": "p_rsLiaxD6JA"
      },
      "execution_count": null,
      "outputs": []
    },
    {
      "cell_type": "code",
      "source": [
        "estimator=make_pipeline(StandardScaler(), SVC(kernel='linear'))\n",
        "cross_validate(\n",
        "    estimator=estimator,\n",
        "    X=X, y=y,\n",
        "    cv=5,\n",
        "    n_jobs=multiprocessing.cpu_count(),\n",
        "    verbose=True\n",
        ")"
      ],
      "metadata": {
        "id": "x43NXxG7D6JA"
      },
      "execution_count": null,
      "outputs": []
    },
    {
      "cell_type": "code",
      "source": [
        "pipe=Pipeline([('scaler',StandardScaler()),\n",
        "               ('model', SVC(kernel='linear'))])\n",
        "param_grid=[{'model__gamma':['scale','auto'],\n",
        "             'model__C':[1.0,0.1,0.01]}]\n",
        "        \n",
        "gs=GridSearchCV(\n",
        "    estimator=pipe,\n",
        "    param_grid = param_grid,\n",
        "    n_jobs=multiprocessing.cpu_count(),\n",
        "    cv=5,\n",
        "    verbose=True\n",
        ")\n",
        "gs.fit(X,y)\n"
      ],
      "metadata": {
        "id": "PRGfS8XPD6JA"
      },
      "execution_count": null,
      "outputs": []
    },
    {
      "cell_type": "code",
      "source": [
        "gs.best_estimator_"
      ],
      "metadata": {
        "id": "esBameH_D6JB"
      },
      "execution_count": null,
      "outputs": []
    },
    {
      "cell_type": "code",
      "source": [
        "model=gs.best_estimator_\n",
        "model.fit(X_train, y_train)"
      ],
      "metadata": {
        "id": "DQTS6_dlD6JB"
      },
      "execution_count": null,
      "outputs": []
    },
    {
      "cell_type": "code",
      "source": [
        "print(\"학습 데이터 점수:{}\".format(model.score(X_train, y_train)))\n",
        "print(\"평가 데이터 점수:{}\".format(model.score(X_test, y_test)))"
      ],
      "metadata": {
        "id": "YWRwe52gD6JB"
      },
      "execution_count": null,
      "outputs": []
    },
    {
      "cell_type": "markdown",
      "source": [
        "#붓꽃"
      ],
      "metadata": {
        "id": "TI7yvLKsD6JC"
      }
    },
    {
      "cell_type": "code",
      "source": [],
      "metadata": {
        "id": "ovvq602A8Q5f"
      },
      "execution_count": null,
      "outputs": []
    },
    {
      "cell_type": "code",
      "source": [
        "print(\"학습 데이터 점수:{}\".format(model.score(X_train, y_train)))\n",
        "print(\"평가 데이터 점수:{}\".format(model.score(X_test, y_test)))"
      ],
      "metadata": {
        "id": "5x4ZZgov8Q5f"
      },
      "execution_count": null,
      "outputs": []
    },
    {
      "cell_type": "code",
      "source": [
        "print(\"학습 데이터 점수:{}\".format(model.score(X_train, y_train)))\n",
        "print(\"평가 데이터 점수:{}\".format(model.score(X_test, y_test)))"
      ],
      "metadata": {
        "id": "WV0NMwBe8Fvb"
      },
      "execution_count": null,
      "outputs": []
    },
    {
      "cell_type": "code",
      "source": [
        "pipe=Pipeline([('scaler',StandardScaler()),\n",
        "               ('model', SVR(kernel='rbf'))])\n",
        "param_grid=[{'model__kernel':['rbf','polynomial', 'sigmoid']}]\n",
        "        \n",
        "gs=GridSearchCV(\n",
        "    estimator=pipe,\n",
        "    param_grid = param_grid,\n",
        "    n_jobs=multiprocessing.cpu_count(),\n",
        "    cv=5,\n",
        "    verbose=True\n",
        ")\n",
        "\n"
      ],
      "metadata": {
        "id": "gemak4EP5Amd"
      },
      "execution_count": null,
      "outputs": []
    },
    {
      "cell_type": "code",
      "source": [
        "gs.fit(X,y)"
      ],
      "metadata": {
        "id": "sj6_4nBs5Ami"
      },
      "execution_count": null,
      "outputs": []
    },
    {
      "cell_type": "code",
      "source": [
        "gs.best_estimator_"
      ],
      "metadata": {
        "id": "zfemdaNC5Ami"
      },
      "execution_count": null,
      "outputs": []
    },
    {
      "cell_type": "markdown",
      "source": [
        "#유방암"
      ],
      "metadata": {
        "id": "bVzwhEaNFLJ6"
      }
    },
    {
      "cell_type": "code",
      "source": [
        "X,y=load_breast_cancer(return_X_y=True)\n",
        "X_train,X_test,y_train,y_test=train_test_split(X,y,test_size=0.2)"
      ],
      "metadata": {
        "id": "P6buRyd4FNTz"
      },
      "execution_count": null,
      "outputs": []
    },
    {
      "cell_type": "code",
      "source": [
        "scaler=StandardScaler()\n",
        "scaler.fit(X_train)\n",
        "X_train=scaler.transform(X_train)\n",
        "X_test=scaler.transform(X_test)"
      ],
      "metadata": {
        "id": "qs_UDAg8FNTz"
      },
      "execution_count": null,
      "outputs": []
    },
    {
      "cell_type": "code",
      "source": [
        "model=SVC(kernel='rbf')\n",
        "model.fit(X_train,y_train)"
      ],
      "metadata": {
        "id": "VerSaIyIFNTz"
      },
      "execution_count": null,
      "outputs": []
    },
    {
      "cell_type": "code",
      "source": [
        "print(\"학습 데이터 점수:{}\".format(model.score(X_train, y_train)))\n",
        "print(\"평가 데이터 점수:{}\".format(model.score(X_test, y_test)))"
      ],
      "metadata": {
        "id": "1tdUIARJFNTz"
      },
      "execution_count": null,
      "outputs": []
    },
    {
      "cell_type": "code",
      "source": [
        "import numpy as np\n",
        "def make_meshgrid(x,y,h=.02):\n",
        "    x_min,x_max=x.min()-1,x.max()+1\n",
        "    y_min,y_max=y.min()-1,y.max()+1\n",
        "    xx,yy = np.meshgrid(np.arange(x_min,x_max,h),\n",
        "                        np.arange(y_min,y_max,h))\n",
        "    return xx, yy"
      ],
      "metadata": {
        "id": "J9fn92iwFNT0"
      },
      "execution_count": null,
      "outputs": []
    },
    {
      "cell_type": "code",
      "source": [
        "def plot_contours(clf,xx,yy,**params):\n",
        "    Z=clf.predict(np.c_[xx.ravel(),yy.ravel()])\n",
        "    Z=Z.reshape(xx.shape)\n",
        "    out=plt.contourf(xx,yy,Z,**params)\n",
        "\n",
        "    return out"
      ],
      "metadata": {
        "id": "WGAdT2RFFNT0"
      },
      "execution_count": null,
      "outputs": []
    },
    {
      "cell_type": "code",
      "source": [
        "X_comp=TSNE(n_components=2).fit_transform(X)\n",
        "X0,X1=X_comp[:,0],X_comp[:,1]\n",
        "xx,yy=make_meshgrid(X0,X1)"
      ],
      "metadata": {
        "id": "Co6tEe2bFNT0"
      },
      "execution_count": null,
      "outputs": []
    },
    {
      "cell_type": "code",
      "source": [
        "model.fit(X_comp,y)\n",
        "plot_contours(model, xx, yy, cmap=plt.cm.coolwarm, alpha=0.7)\n",
        "plt.scatter(X0,X1,c=y, cmap=plt.cm.coolwarm,s=20,edgecolors='k');\n"
      ],
      "metadata": {
        "id": "JVEzXXxGFNT0"
      },
      "execution_count": null,
      "outputs": []
    },
    {
      "cell_type": "code",
      "source": [
        "estimator=make_pipeline(StandardScaler(), SVC(kernel='linear'))\n",
        "cross_validate(\n",
        "    estimator=estimator,\n",
        "    X=X, y=y,\n",
        "    cv=5,\n",
        "    n_jobs=multiprocessing.cpu_count(),\n",
        "    verbose=True\n",
        ")"
      ],
      "metadata": {
        "id": "tDWb4cHdFNT0"
      },
      "execution_count": null,
      "outputs": []
    },
    {
      "cell_type": "code",
      "source": [
        "pipe=Pipeline([('scaler',StandardScaler()),\n",
        "               ('model', SVC(kernel='rbf'))])\n",
        "param_grid=[{'model__gamma':['scale','auto'],\n",
        "             'model__C':[1.0,0.1,0.01]}]\n",
        "        \n",
        "gs=GridSearchCV(\n",
        "    estimator=pipe,\n",
        "    param_grid = param_grid,\n",
        "    n_jobs=multiprocessing.cpu_count(),\n",
        "    cv=5,\n",
        "    verbose=True\n",
        ")\n",
        "gs.fit(X,y)\n"
      ],
      "metadata": {
        "id": "tkmfYcKgFNT0"
      },
      "execution_count": null,
      "outputs": []
    },
    {
      "cell_type": "code",
      "source": [
        "gs.best_estimator_"
      ],
      "metadata": {
        "id": "PjAybXmaFNT1"
      },
      "execution_count": null,
      "outputs": []
    },
    {
      "cell_type": "code",
      "source": [
        "model=gs.best_estimator_\n",
        "model.fit(X_train, y_train)"
      ],
      "metadata": {
        "id": "WbWafhPDFNT1"
      },
      "execution_count": null,
      "outputs": []
    },
    {
      "cell_type": "code",
      "source": [
        "print(\"학습 데이터 점수:{}\".format(model.score(X_train, y_train)))\n",
        "print(\"평가 데이터 점수:{}\".format(model.score(X_test, y_test)))"
      ],
      "metadata": {
        "id": "UkPUglCIFNT1"
      },
      "execution_count": null,
      "outputs": []
    },
    {
      "cell_type": "markdown",
      "source": [
        "#붓꽃"
      ],
      "metadata": {
        "id": "sSKe_XUwFNT1"
      }
    },
    {
      "cell_type": "code",
      "source": [
        "X,y=load_iris(return_X_y=True)\n",
        "X_train,X_test,y_train,y_test=train_test_split(X,y,test_size=0.2)"
      ],
      "metadata": {
        "id": "EcVHkr8tGyIg"
      },
      "execution_count": null,
      "outputs": []
    },
    {
      "cell_type": "code",
      "source": [
        "scaler=StandardScaler()\n",
        "scaler.fit(X_train)\n",
        "X_train=scaler.transform(X_train)\n",
        "X_test=scaler.transform(X_test)"
      ],
      "metadata": {
        "id": "APNY93AfGyIo"
      },
      "execution_count": null,
      "outputs": []
    },
    {
      "cell_type": "code",
      "source": [
        "model=SVC(kernel='rbf')\n",
        "model.fit(X_train,y_train)"
      ],
      "metadata": {
        "id": "lmRHyr8uGyIo"
      },
      "execution_count": null,
      "outputs": []
    },
    {
      "cell_type": "code",
      "source": [
        "print(\"학습 데이터 점수:{}\".format(model.score(X_train, y_train)))\n",
        "print(\"평가 데이터 점수:{}\".format(model.score(X_test, y_test)))"
      ],
      "metadata": {
        "id": "siwhVv3qGyIo"
      },
      "execution_count": null,
      "outputs": []
    },
    {
      "cell_type": "code",
      "source": [
        "import numpy as np\n",
        "def make_meshgrid(x,y,h=.02):\n",
        "    x_min,x_max=x.min()-1,x.max()+1\n",
        "    y_min,y_max=y.min()-1,y.max()+1\n",
        "    xx,yy = np.meshgrid(np.arange(x_min,x_max,h),\n",
        "                        np.arange(y_min,y_max,h))\n",
        "    return xx, yy"
      ],
      "metadata": {
        "id": "2KMNg9amGyIo"
      },
      "execution_count": null,
      "outputs": []
    },
    {
      "cell_type": "code",
      "source": [
        "def plot_contours(clf,xx,yy,**params):\n",
        "    Z=clf.predict(np.c_[xx.ravel(),yy.ravel()])\n",
        "    Z=Z.reshape(xx.shape)\n",
        "    out=plt.contourf(xx,yy,Z,**params)\n",
        "\n",
        "    return out"
      ],
      "metadata": {
        "id": "4NC8PzEGGyIp"
      },
      "execution_count": null,
      "outputs": []
    },
    {
      "cell_type": "code",
      "source": [
        "X_comp=TSNE(n_components=2).fit_transform(X)\n",
        "X0,X1=X_comp[:,0],X_comp[:,1]\n",
        "xx,yy=make_meshgrid(X0,X1)"
      ],
      "metadata": {
        "id": "YInmqtwHGyIp"
      },
      "execution_count": null,
      "outputs": []
    },
    {
      "cell_type": "code",
      "source": [
        "model.fit(X_comp,y)\n",
        "plot_contours(model, xx, yy, cmap=plt.cm.coolwarm, alpha=0.7)\n",
        "plt.scatter(X0,X1,c=y, cmap=plt.cm.coolwarm,s=20,edgecolors='k');\n"
      ],
      "metadata": {
        "id": "VrbxfefVGyIp"
      },
      "execution_count": null,
      "outputs": []
    },
    {
      "cell_type": "code",
      "source": [
        "estimator=make_pipeline(StandardScaler(), SVC(kernel='linear'))\n",
        "cross_validate(\n",
        "    estimator=estimator,\n",
        "    X=X, y=y,\n",
        "    cv=5,\n",
        "    n_jobs=multiprocessing.cpu_count(),\n",
        "    verbose=True\n",
        ")"
      ],
      "metadata": {
        "id": "o2JLj9yeGyIp"
      },
      "execution_count": null,
      "outputs": []
    },
    {
      "cell_type": "code",
      "source": [
        "pipe=Pipeline([('scaler',StandardScaler()),\n",
        "               ('model', SVC(kernel='rbf'))])\n",
        "param_grid=[{'model__gamma':['scale','auto'],\n",
        "             'model__C':[1.0,0.1,0.01]}]\n",
        "        \n",
        "gs=GridSearchCV(\n",
        "    estimator=pipe,\n",
        "    param_grid = param_grid,\n",
        "    n_jobs=multiprocessing.cpu_count(),\n",
        "    cv=5,\n",
        "    verbose=True\n",
        ")\n",
        "gs.fit(X,y)\n"
      ],
      "metadata": {
        "id": "Ba2OBkCZGyIp"
      },
      "execution_count": null,
      "outputs": []
    },
    {
      "cell_type": "code",
      "source": [
        "gs.best_estimator_"
      ],
      "metadata": {
        "id": "fQWr3p90GyIp"
      },
      "execution_count": null,
      "outputs": []
    },
    {
      "cell_type": "code",
      "source": [
        "model=gs.best_estimator_\n",
        "model.fit(X_train, y_train)"
      ],
      "metadata": {
        "id": "jHpfJnDSGyIp"
      },
      "execution_count": null,
      "outputs": []
    },
    {
      "cell_type": "code",
      "source": [
        "print(\"학습 데이터 점수:{}\".format(model.score(X_train, y_train)))\n",
        "print(\"평가 데이터 점수:{}\".format(model.score(X_test, y_test)))"
      ],
      "metadata": {
        "id": "Wb_Reyn7GyIp"
      },
      "execution_count": null,
      "outputs": []
    },
    {
      "cell_type": "markdown",
      "source": [
        "#와인"
      ],
      "metadata": {
        "id": "HEmPL3W6GyIp"
      }
    },
    {
      "cell_type": "code",
      "source": [
        "X,y=load_wine(return_X_y=True)\n",
        "X_train,X_test,y_train,y_test=train_test_split(X,y,test_size=0.2)"
      ],
      "metadata": {
        "id": "lnd33uhXITwI"
      },
      "execution_count": null,
      "outputs": []
    },
    {
      "cell_type": "code",
      "source": [
        "scaler=StandardScaler()\n",
        "scaler.fit(X_train)\n",
        "X_train=scaler.transform(X_train)\n",
        "X_test=scaler.transform(X_test)"
      ],
      "metadata": {
        "id": "BRs-k5SJITwI"
      },
      "execution_count": null,
      "outputs": []
    },
    {
      "cell_type": "code",
      "source": [
        "model=SVC(kernel='rbf')\n",
        "model.fit(X_train,y_train)"
      ],
      "metadata": {
        "id": "AqDnllyCITwI"
      },
      "execution_count": null,
      "outputs": []
    },
    {
      "cell_type": "code",
      "source": [
        "print(\"학습 데이터 점수:{}\".format(model.score(X_train, y_train)))\n",
        "print(\"평가 데이터 점수:{}\".format(model.score(X_test, y_test)))"
      ],
      "metadata": {
        "id": "MAH4tGJLITwI"
      },
      "execution_count": null,
      "outputs": []
    },
    {
      "cell_type": "code",
      "source": [
        "import numpy as np\n",
        "def make_meshgrid(x,y,h=.02):\n",
        "    x_min,x_max=x.min()-1,x.max()+1\n",
        "    y_min,y_max=y.min()-1,y.max()+1\n",
        "    xx,yy = np.meshgrid(np.arange(x_min,x_max,h),\n",
        "                        np.arange(y_min,y_max,h))\n",
        "    return xx, yy"
      ],
      "metadata": {
        "id": "QnvGR6Y6ITwJ"
      },
      "execution_count": null,
      "outputs": []
    },
    {
      "cell_type": "code",
      "source": [
        "def plot_contours(clf,xx,yy,**params):\n",
        "    Z=clf.predict(np.c_[xx.ravel(),yy.ravel()])\n",
        "    Z=Z.reshape(xx.shape)\n",
        "    out=plt.contourf(xx,yy,Z,**params)\n",
        "\n",
        "    return out"
      ],
      "metadata": {
        "id": "ZVFvQjqHITwK"
      },
      "execution_count": null,
      "outputs": []
    },
    {
      "cell_type": "code",
      "source": [
        "X_comp=TSNE(n_components=2).fit_transform(X)\n",
        "X0,X1=X_comp[:,0],X_comp[:,1]\n",
        "xx,yy=make_meshgrid(X0,X1)"
      ],
      "metadata": {
        "id": "gLdVMYJZITwK"
      },
      "execution_count": null,
      "outputs": []
    },
    {
      "cell_type": "code",
      "source": [
        "model.fit(X_comp,y)\n",
        "plot_contours(model, xx, yy, cmap=plt.cm.coolwarm, alpha=0.7)\n",
        "plt.scatter(X0,X1,c=y, cmap=plt.cm.coolwarm,s=20,edgecolors='k');\n"
      ],
      "metadata": {
        "id": "BmcZibkSITwK"
      },
      "execution_count": null,
      "outputs": []
    },
    {
      "cell_type": "code",
      "source": [
        "estimator=make_pipeline(StandardScaler(), SVC(kernel='linear'))\n",
        "cross_validate(\n",
        "    estimator=estimator,\n",
        "    X=X, y=y,\n",
        "    cv=5,\n",
        "    n_jobs=multiprocessing.cpu_count(),\n",
        "    verbose=True\n",
        ")"
      ],
      "metadata": {
        "id": "w-2eb8AZITwK"
      },
      "execution_count": null,
      "outputs": []
    },
    {
      "cell_type": "code",
      "source": [
        "pipe=Pipeline([('scaler',StandardScaler()),\n",
        "               ('model', SVC(kernel='rbf'))])\n",
        "param_grid=[{'model__gamma':['scale','auto'],\n",
        "             'model__C':[1.0,0.1,0.01]}]\n",
        "        \n",
        "gs=GridSearchCV(\n",
        "    estimator=pipe,\n",
        "    param_grid = param_grid,\n",
        "    n_jobs=multiprocessing.cpu_count(),\n",
        "    cv=5,\n",
        "    verbose=True\n",
        ")\n",
        "gs.fit(X,y)\n"
      ],
      "metadata": {
        "id": "WesvtmXNITwL"
      },
      "execution_count": null,
      "outputs": []
    },
    {
      "cell_type": "code",
      "source": [
        "gs.best_estimator_"
      ],
      "metadata": {
        "id": "E2uxPJqtITwL"
      },
      "execution_count": null,
      "outputs": []
    },
    {
      "cell_type": "code",
      "source": [
        "model=gs.best_estimator_\n",
        "model.fit(X_train, y_train)"
      ],
      "metadata": {
        "id": "iJAPseeVITwL"
      },
      "execution_count": null,
      "outputs": []
    },
    {
      "cell_type": "code",
      "source": [
        "print(\"학습 데이터 점수:{}\".format(model.score(X_train, y_train)))\n",
        "print(\"평가 데이터 점수:{}\".format(model.score(X_test, y_test)))"
      ],
      "metadata": {
        "id": "7M8lHtm-ITwL"
      },
      "execution_count": null,
      "outputs": []
    },
    {
      "cell_type": "markdown",
      "source": [
        "#end"
      ],
      "metadata": {
        "id": "FuXEi1tnITwL"
      }
    },
    {
      "cell_type": "code",
      "source": [],
      "metadata": {
        "id": "qWqBLAPFJl7l"
      },
      "execution_count": null,
      "outputs": []
    }
  ]
}