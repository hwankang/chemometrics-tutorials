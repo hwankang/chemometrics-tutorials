{
  "nbformat": 4,
  "nbformat_minor": 0,
  "metadata": {
    "colab": {
      "private_outputs": true,
      "provenance": [],
      "authorship_tag": "ABX9TyMFiVmoKS5EILIgGudw7VBz",
      "include_colab_link": true
    },
    "kernelspec": {
      "name": "python3",
      "display_name": "Python 3"
    },
    "language_info": {
      "name": "python"
    },
    "gpuClass": "standard"
  },
  "cells": [
    {
      "cell_type": "markdown",
      "metadata": {
        "id": "view-in-github",
        "colab_type": "text"
      },
      "source": [
        "<a href=\"https://colab.research.google.com/github/hwankang/chemometrics-tutorials/blob/master/15(tues)_nov_Data_A_visual.ipynb\" target=\"_parent\"><img src=\"https://colab.research.google.com/assets/colab-badge.svg\" alt=\"Open In Colab\"/></a>"
      ]
    },
    {
      "cell_type": "code",
      "execution_count": null,
      "metadata": {
        "id": "JydGsXEhDdPR"
      },
      "outputs": [],
      "source": [
        "from google.colab import drive\n",
        "drive.mount('/content/drive')"
      ]
    },
    {
      "cell_type": "code",
      "source": [
        "filename_a='/content/drive/MyDrive/machine_learning/A_NIR_DATA_csv.csv'\n",
        "import pandas as pd\n",
        "data_a = pd.read_csv(filename_a,header=0, \n",
        "                   encoding=\"unicode-escape\")"
      ],
      "metadata": {
        "id": "cYkH0l8qDh1q"
      },
      "execution_count": null,
      "outputs": []
    },
    {
      "cell_type": "code",
      "source": [
        "data_a.head()"
      ],
      "metadata": {
        "id": "YuVZ4eSsVSYG"
      },
      "execution_count": null,
      "outputs": []
    },
    {
      "cell_type": "code",
      "source": [
        "xx,yy=data_a.shape\n",
        "xx,yy"
      ],
      "metadata": {
        "id": "yWCUtwUZDuCC"
      },
      "execution_count": null,
      "outputs": []
    },
    {
      "cell_type": "code",
      "source": [
        "dn=data_a.keys().to_numpy()\n",
        "axisscale=dn[3::].astype('float')\n",
        "axisscale"
      ],
      "metadata": {
        "id": "f1Lcstz_Nv53"
      },
      "execution_count": null,
      "outputs": []
    },
    {
      "cell_type": "code",
      "source": [
        "2*26*26+16*26+14\n",
        "2*26*26+6*26+24"
      ],
      "metadata": {
        "id": "hbKq--zxGol_"
      },
      "execution_count": null,
      "outputs": []
    },
    {
      "cell_type": "code",
      "source": [
        "data_a1=data_a.iloc[0::,3:yy+1]\n",
        "data_a1.head()"
      ],
      "metadata": {
        "id": "l0gVBAXqD71P"
      },
      "execution_count": null,
      "outputs": []
    },
    {
      "cell_type": "code",
      "source": [
        "data_a1_n=data_a1.to_numpy()\n",
        "data_a1_input=data_a1_n\n",
        "data_a1_input"
      ],
      "metadata": {
        "id": "_s8DmJvBEFQs"
      },
      "execution_count": null,
      "outputs": []
    },
    {
      "cell_type": "code",
      "source": [
        "data_a1_output=data_a.iloc[0::,2:3]\n",
        "data_a1_output.head()"
      ],
      "metadata": {
        "id": "dStb1pwsElmr"
      },
      "execution_count": null,
      "outputs": []
    },
    {
      "cell_type": "code",
      "source": [
        "data_a1_output_n=data_a1_output.to_numpy().flatten()\n",
        "data_a1_target=data_a1_output_n\n",
        "data_a1_target"
      ],
      "metadata": {
        "id": "3iCRZTPAS1T1"
      },
      "execution_count": null,
      "outputs": []
    },
    {
      "cell_type": "markdown",
      "source": [],
      "metadata": {
        "id": "L7_8PV-xKRj2"
      }
    },
    {
      "cell_type": "code",
      "source": [
        "import numpy as np\n",
        "import matplotlib.pyplot as plt\n",
        "#plt.plot([100:3426], raman[:,0:1])\n",
        "#xx=np.linspace(100,3425,3326)\n",
        "for i in range(1):\n",
        "    plt.plot(axisscale,data_a1_input[i:i+1,:].flatten())\n",
        "plt.xlabel('nm')\n",
        "plt.ylabel(' intensity')\n",
        "plt.title('NIR spectroscopy')\n",
        "plt.show()"
      ],
      "metadata": {
        "id": "589Ygv4nJfLr"
      },
      "execution_count": null,
      "outputs": []
    },
    {
      "cell_type": "code",
      "source": [
        "Y_1=data_a1_target\n",
        "y=[Y_1[0]]\n",
        "x=np.arange(len(y))\n",
        "xlabel=['Y_1']\n",
        "plt.title(\"True Values\")\n",
        "plt.bar(x,y,width=0.2)\n",
        "plt.xticks(x,xlabel)\n",
        "plt.yticks(sorted(y))\n",
        "plt.xlabel(\"Chemicals\")\n",
        "plt.ylabel(\"measured values\")\n",
        "plt.show"
      ],
      "metadata": {
        "id": "mDujghuAT2b4"
      },
      "execution_count": null,
      "outputs": []
    },
    {
      "cell_type": "code",
      "source": [
        "import numpy as np\n",
        "import matplotlib.pyplot as plt\n",
        "#plt.plot([100:3426], raman[:,0:1])\n",
        "#xx=np.linspace(100,3425,3326)\n",
        "for i in range(xx):\n",
        "    plt.plot(axisscale,data_a1_input[i:i+1,:].flatten())\n",
        "plt.xlabel('nm')\n",
        "plt.ylabel(' intensity')\n",
        "plt.title('NIR spectroscopy')\n",
        "plt.show()"
      ],
      "metadata": {
        "id": "IE5BiYzLXLSf"
      },
      "execution_count": null,
      "outputs": []
    },
    {
      "cell_type": "code",
      "source": [
        "YY_1=data_a1_target\n",
        "YY_1[0]"
      ],
      "metadata": {
        "id": "Fl6IltVCexYS"
      },
      "execution_count": null,
      "outputs": []
    },
    {
      "cell_type": "code",
      "source": [
        "YY_1=data_a1_target\n",
        "YY_1[0]\n",
        "#y=[Y_1]\n",
        "#x=np.arange(len(y))\n",
        "#xlabel=['Y_1']\n",
        "plt.title(\"True Values\")\n",
        "for i in range(xx):\n",
        "    plt.plot(i,YY_1[i],'o')\n",
        "    #plt,bar()\n",
        "#plt.xticks(x,xlabel)\n",
        "#plt.yticks(sorted(y))\n",
        "plt.xlabel(\"Sample\")\n",
        "plt.ylabel(\"Output values\")\n",
        "plt.show()"
      ],
      "metadata": {
        "id": "6u6kmKsjZPPz"
      },
      "execution_count": null,
      "outputs": []
    },
    {
      "cell_type": "code",
      "source": [],
      "metadata": {
        "id": "7h7seicqZn7t"
      },
      "execution_count": null,
      "outputs": []
    }
  ]
}