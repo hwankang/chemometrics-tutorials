{
  "nbformat": 4,
  "nbformat_minor": 0,
  "metadata": {
    "colab": {
      "provenance": [],
      "authorship_tag": "ABX9TyOXWUuWA3rhswMTXG8YKpG/",
      "include_colab_link": true
    },
    "kernelspec": {
      "name": "python3",
      "display_name": "Python 3"
    },
    "language_info": {
      "name": "python"
    },
    "gpuClass": "standard"
  },
  "cells": [
    {
      "cell_type": "markdown",
      "metadata": {
        "id": "view-in-github",
        "colab_type": "text"
      },
      "source": [
        "<a href=\"https://colab.research.google.com/github/hwankang/chemometrics-tutorials/blob/master/14_(sat)_January_00_29am_Raman_y_3d_cannot_run_ipynb%EC%9D%98_%EC%82%AC%EB%B3%B8.ipynb\" target=\"_parent\"><img src=\"https://colab.research.google.com/assets/colab-badge.svg\" alt=\"Open In Colab\"/></a>"
      ]
    },
    {
      "cell_type": "code",
      "source": [
        "from google.colab import drive\n",
        "drive.mount('/content/drive')"
      ],
      "metadata": {
        "id": "y6t3wE6bvI6C",
        "colab": {
          "base_uri": "https://localhost:8080/"
        },
        "outputId": "c044cdd8-6c8b-4705-9700-c108eecbaa8f"
      },
      "execution_count": null,
      "outputs": [
        {
          "output_type": "stream",
          "name": "stdout",
          "text": [
            "Mounted at /content/drive\n"
          ]
        }
      ]
    },
    {
      "cell_type": "code",
      "source": [
        "#filename_a='/content/drive/MyDrive/machine_learning/B_NIR_DATA_csv.csv'\n",
        "filename_a='/content/drive/MyDrive/machine_learning/123_Raman_DATA_csv.csv'\n",
        "import pandas as pd\n",
        "data_a = pd.read_csv(filename_a,header=0, \n",
        "                   encoding=\"unicode-escape\")"
      ],
      "metadata": {
        "id": "D2WELDX-vfds"
      },
      "execution_count": null,
      "outputs": []
    },
    {
      "cell_type": "code",
      "source": [
        "xx,yy=data_a.shape\n",
        "xx"
      ],
      "metadata": {
        "colab": {
          "base_uri": "https://localhost:8080/"
        },
        "id": "IpWM_SxKvqXd",
        "outputId": "8c2d416d-dcb2-4403-d360-cc83e688ded5"
      },
      "execution_count": null,
      "outputs": [
        {
          "output_type": "execute_result",
          "data": {
            "text/plain": [
              "404"
            ]
          },
          "metadata": {},
          "execution_count": 3
        }
      ]
    },
    {
      "cell_type": "code",
      "source": [
        "data_a2=data_a.iloc[0::,1:yy+1]\n",
        "data_a2.head()"
      ],
      "metadata": {
        "colab": {
          "base_uri": "https://localhost:8080/",
          "height": 317
        },
        "id": "PhmuebIKvwJh",
        "outputId": "6a84b4d2-371f-4a56-eb29-52b56e1a07ff"
      },
      "execution_count": null,
      "outputs": [
        {
          "output_type": "execute_result",
          "data": {
            "text/plain": [
              "   ëª¨ë¸ í¬í¨    Y_1    Y_2    Y_3       100       101       102       103  \\\n",
              "0           True  0.152  0.554  0.706  146639.0  148544.0  150764.0  153224.0   \n",
              "1           True  0.079  1.406  1.485  206566.0  209838.0  213493.0  217388.0   \n",
              "2           True  0.100  2.243  2.343  218727.0  225835.0  232885.0  239820.0   \n",
              "3           True  0.238  3.225  3.463  295718.0  303733.0  311632.0  319355.0   \n",
              "4           True  0.415  3.744  4.159  326139.0  334950.0  343489.0  351643.0   \n",
              "\n",
              "        104       105  ...      3416      3417      3418      3419      3420  \\\n",
              "0  155800.0  158297.0  ...  334369.0  336153.0  334933.0  333409.0  334084.0   \n",
              "1  221327.0  225052.0  ...  294614.0  294377.0  291739.0  293169.0  296291.0   \n",
              "2  246478.0  252605.0  ...   79871.5   76713.4   74038.4   73694.4   72858.8   \n",
              "3  326706.0  333419.0  ...  103212.0   99360.4   95507.3   96183.6   97782.4   \n",
              "4  359265.0  366171.0  ...  122042.0  119156.0  116189.0  117152.0  118201.0   \n",
              "\n",
              "       3421      3422      3423      3424      3425  \n",
              "0  335164.0  333873.0  331936.0  333974.0  338195.0  \n",
              "1  296085.0  293815.0  290288.0  287718.0  289398.0  \n",
              "2   69432.9   66287.1   64690.1   64200.5   65122.9  \n",
              "3   96121.2   93317.4   91037.1   89635.4   90149.7  \n",
              "4  116130.0  113295.0  110994.0  109691.0  109699.0  \n",
              "\n",
              "[5 rows x 3330 columns]"
            ],
            "text/html": [
              "\n",
              "  <div id=\"df-70be8899-338f-48c5-802b-f3e8f296ad73\">\n",
              "    <div class=\"colab-df-container\">\n",
              "      <div>\n",
              "<style scoped>\n",
              "    .dataframe tbody tr th:only-of-type {\n",
              "        vertical-align: middle;\n",
              "    }\n",
              "\n",
              "    .dataframe tbody tr th {\n",
              "        vertical-align: top;\n",
              "    }\n",
              "\n",
              "    .dataframe thead th {\n",
              "        text-align: right;\n",
              "    }\n",
              "</style>\n",
              "<table border=\"1\" class=\"dataframe\">\n",
              "  <thead>\n",
              "    <tr style=\"text-align: right;\">\n",
              "      <th></th>\n",
              "      <th>ëª¨ë¸ í¬í¨</th>\n",
              "      <th>Y_1</th>\n",
              "      <th>Y_2</th>\n",
              "      <th>Y_3</th>\n",
              "      <th>100</th>\n",
              "      <th>101</th>\n",
              "      <th>102</th>\n",
              "      <th>103</th>\n",
              "      <th>104</th>\n",
              "      <th>105</th>\n",
              "      <th>...</th>\n",
              "      <th>3416</th>\n",
              "      <th>3417</th>\n",
              "      <th>3418</th>\n",
              "      <th>3419</th>\n",
              "      <th>3420</th>\n",
              "      <th>3421</th>\n",
              "      <th>3422</th>\n",
              "      <th>3423</th>\n",
              "      <th>3424</th>\n",
              "      <th>3425</th>\n",
              "    </tr>\n",
              "  </thead>\n",
              "  <tbody>\n",
              "    <tr>\n",
              "      <th>0</th>\n",
              "      <td>True</td>\n",
              "      <td>0.152</td>\n",
              "      <td>0.554</td>\n",
              "      <td>0.706</td>\n",
              "      <td>146639.0</td>\n",
              "      <td>148544.0</td>\n",
              "      <td>150764.0</td>\n",
              "      <td>153224.0</td>\n",
              "      <td>155800.0</td>\n",
              "      <td>158297.0</td>\n",
              "      <td>...</td>\n",
              "      <td>334369.0</td>\n",
              "      <td>336153.0</td>\n",
              "      <td>334933.0</td>\n",
              "      <td>333409.0</td>\n",
              "      <td>334084.0</td>\n",
              "      <td>335164.0</td>\n",
              "      <td>333873.0</td>\n",
              "      <td>331936.0</td>\n",
              "      <td>333974.0</td>\n",
              "      <td>338195.0</td>\n",
              "    </tr>\n",
              "    <tr>\n",
              "      <th>1</th>\n",
              "      <td>True</td>\n",
              "      <td>0.079</td>\n",
              "      <td>1.406</td>\n",
              "      <td>1.485</td>\n",
              "      <td>206566.0</td>\n",
              "      <td>209838.0</td>\n",
              "      <td>213493.0</td>\n",
              "      <td>217388.0</td>\n",
              "      <td>221327.0</td>\n",
              "      <td>225052.0</td>\n",
              "      <td>...</td>\n",
              "      <td>294614.0</td>\n",
              "      <td>294377.0</td>\n",
              "      <td>291739.0</td>\n",
              "      <td>293169.0</td>\n",
              "      <td>296291.0</td>\n",
              "      <td>296085.0</td>\n",
              "      <td>293815.0</td>\n",
              "      <td>290288.0</td>\n",
              "      <td>287718.0</td>\n",
              "      <td>289398.0</td>\n",
              "    </tr>\n",
              "    <tr>\n",
              "      <th>2</th>\n",
              "      <td>True</td>\n",
              "      <td>0.100</td>\n",
              "      <td>2.243</td>\n",
              "      <td>2.343</td>\n",
              "      <td>218727.0</td>\n",
              "      <td>225835.0</td>\n",
              "      <td>232885.0</td>\n",
              "      <td>239820.0</td>\n",
              "      <td>246478.0</td>\n",
              "      <td>252605.0</td>\n",
              "      <td>...</td>\n",
              "      <td>79871.5</td>\n",
              "      <td>76713.4</td>\n",
              "      <td>74038.4</td>\n",
              "      <td>73694.4</td>\n",
              "      <td>72858.8</td>\n",
              "      <td>69432.9</td>\n",
              "      <td>66287.1</td>\n",
              "      <td>64690.1</td>\n",
              "      <td>64200.5</td>\n",
              "      <td>65122.9</td>\n",
              "    </tr>\n",
              "    <tr>\n",
              "      <th>3</th>\n",
              "      <td>True</td>\n",
              "      <td>0.238</td>\n",
              "      <td>3.225</td>\n",
              "      <td>3.463</td>\n",
              "      <td>295718.0</td>\n",
              "      <td>303733.0</td>\n",
              "      <td>311632.0</td>\n",
              "      <td>319355.0</td>\n",
              "      <td>326706.0</td>\n",
              "      <td>333419.0</td>\n",
              "      <td>...</td>\n",
              "      <td>103212.0</td>\n",
              "      <td>99360.4</td>\n",
              "      <td>95507.3</td>\n",
              "      <td>96183.6</td>\n",
              "      <td>97782.4</td>\n",
              "      <td>96121.2</td>\n",
              "      <td>93317.4</td>\n",
              "      <td>91037.1</td>\n",
              "      <td>89635.4</td>\n",
              "      <td>90149.7</td>\n",
              "    </tr>\n",
              "    <tr>\n",
              "      <th>4</th>\n",
              "      <td>True</td>\n",
              "      <td>0.415</td>\n",
              "      <td>3.744</td>\n",
              "      <td>4.159</td>\n",
              "      <td>326139.0</td>\n",
              "      <td>334950.0</td>\n",
              "      <td>343489.0</td>\n",
              "      <td>351643.0</td>\n",
              "      <td>359265.0</td>\n",
              "      <td>366171.0</td>\n",
              "      <td>...</td>\n",
              "      <td>122042.0</td>\n",
              "      <td>119156.0</td>\n",
              "      <td>116189.0</td>\n",
              "      <td>117152.0</td>\n",
              "      <td>118201.0</td>\n",
              "      <td>116130.0</td>\n",
              "      <td>113295.0</td>\n",
              "      <td>110994.0</td>\n",
              "      <td>109691.0</td>\n",
              "      <td>109699.0</td>\n",
              "    </tr>\n",
              "  </tbody>\n",
              "</table>\n",
              "<p>5 rows × 3330 columns</p>\n",
              "</div>\n",
              "      <button class=\"colab-df-convert\" onclick=\"convertToInteractive('df-70be8899-338f-48c5-802b-f3e8f296ad73')\"\n",
              "              title=\"Convert this dataframe to an interactive table.\"\n",
              "              style=\"display:none;\">\n",
              "        \n",
              "  <svg xmlns=\"http://www.w3.org/2000/svg\" height=\"24px\"viewBox=\"0 0 24 24\"\n",
              "       width=\"24px\">\n",
              "    <path d=\"M0 0h24v24H0V0z\" fill=\"none\"/>\n",
              "    <path d=\"M18.56 5.44l.94 2.06.94-2.06 2.06-.94-2.06-.94-.94-2.06-.94 2.06-2.06.94zm-11 1L8.5 8.5l.94-2.06 2.06-.94-2.06-.94L8.5 2.5l-.94 2.06-2.06.94zm10 10l.94 2.06.94-2.06 2.06-.94-2.06-.94-.94-2.06-.94 2.06-2.06.94z\"/><path d=\"M17.41 7.96l-1.37-1.37c-.4-.4-.92-.59-1.43-.59-.52 0-1.04.2-1.43.59L10.3 9.45l-7.72 7.72c-.78.78-.78 2.05 0 2.83L4 21.41c.39.39.9.59 1.41.59.51 0 1.02-.2 1.41-.59l7.78-7.78 2.81-2.81c.8-.78.8-2.07 0-2.86zM5.41 20L4 18.59l7.72-7.72 1.47 1.35L5.41 20z\"/>\n",
              "  </svg>\n",
              "      </button>\n",
              "      \n",
              "  <style>\n",
              "    .colab-df-container {\n",
              "      display:flex;\n",
              "      flex-wrap:wrap;\n",
              "      gap: 12px;\n",
              "    }\n",
              "\n",
              "    .colab-df-convert {\n",
              "      background-color: #E8F0FE;\n",
              "      border: none;\n",
              "      border-radius: 50%;\n",
              "      cursor: pointer;\n",
              "      display: none;\n",
              "      fill: #1967D2;\n",
              "      height: 32px;\n",
              "      padding: 0 0 0 0;\n",
              "      width: 32px;\n",
              "    }\n",
              "\n",
              "    .colab-df-convert:hover {\n",
              "      background-color: #E2EBFA;\n",
              "      box-shadow: 0px 1px 2px rgba(60, 64, 67, 0.3), 0px 1px 3px 1px rgba(60, 64, 67, 0.15);\n",
              "      fill: #174EA6;\n",
              "    }\n",
              "\n",
              "    [theme=dark] .colab-df-convert {\n",
              "      background-color: #3B4455;\n",
              "      fill: #D2E3FC;\n",
              "    }\n",
              "\n",
              "    [theme=dark] .colab-df-convert:hover {\n",
              "      background-color: #434B5C;\n",
              "      box-shadow: 0px 1px 3px 1px rgba(0, 0, 0, 0.15);\n",
              "      filter: drop-shadow(0px 1px 2px rgba(0, 0, 0, 0.3));\n",
              "      fill: #FFFFFF;\n",
              "    }\n",
              "  </style>\n",
              "\n",
              "      <script>\n",
              "        const buttonEl =\n",
              "          document.querySelector('#df-70be8899-338f-48c5-802b-f3e8f296ad73 button.colab-df-convert');\n",
              "        buttonEl.style.display =\n",
              "          google.colab.kernel.accessAllowed ? 'block' : 'none';\n",
              "\n",
              "        async function convertToInteractive(key) {\n",
              "          const element = document.querySelector('#df-70be8899-338f-48c5-802b-f3e8f296ad73');\n",
              "          const dataTable =\n",
              "            await google.colab.kernel.invokeFunction('convertToInteractive',\n",
              "                                                     [key], {});\n",
              "          if (!dataTable) return;\n",
              "\n",
              "          const docLinkHtml = 'Like what you see? Visit the ' +\n",
              "            '<a target=\"_blank\" href=https://colab.research.google.com/notebooks/data_table.ipynb>data table notebook</a>'\n",
              "            + ' to learn more about interactive tables.';\n",
              "          element.innerHTML = '';\n",
              "          dataTable['output_type'] = 'display_data';\n",
              "          await google.colab.output.renderOutput(dataTable, element);\n",
              "          const docLink = document.createElement('div');\n",
              "          docLink.innerHTML = docLinkHtml;\n",
              "          element.appendChild(docLink);\n",
              "        }\n",
              "      </script>\n",
              "    </div>\n",
              "  </div>\n",
              "  "
            ]
          },
          "metadata": {},
          "execution_count": 5
        }
      ]
    },
    {
      "cell_type": "code",
      "execution_count": null,
      "metadata": {
        "id": "1OqJKImVZgb8"
      },
      "outputs": [],
      "source": [
        "import multiprocessing\n",
        "import pandas as pd\n",
        "import numpy as pd\n",
        "import matplotlib.pyplot as plt\n",
        "plt.style.use(['seaborn-whitegrid'])"
      ]
    },
    {
      "cell_type": "code",
      "source": [
        "ai=[]\n",
        "for i in range(xx):\n",
        "    if data_a2.iloc[i,0]==False:\n",
        "        ai.append(i)\n",
        "data_a3=data_a2.drop(ai,axis=0) #\n",
        "data_a3\n",
        "len(ai)\n",
        "data_a3"
      ],
      "metadata": {
        "colab": {
          "base_uri": "https://localhost:8080/",
          "height": 505
        },
        "id": "Ac7BtP-wv4ro",
        "outputId": "b58010f2-0084-4440-c08b-dd0e22773cd1"
      },
      "execution_count": null,
      "outputs": [
        {
          "output_type": "execute_result",
          "data": {
            "text/plain": [
              "     ëª¨ë¸ í¬í¨     Y_1    Y_2     Y_3       100       101       102  \\\n",
              "0             True   0.152  0.554   0.706  146639.0  148544.0  150764.0   \n",
              "1             True   0.079  1.406   1.485  206566.0  209838.0  213493.0   \n",
              "2             True   0.100  2.243   2.343  218727.0  225835.0  232885.0   \n",
              "3             True   0.238  3.225   3.463  295718.0  303733.0  311632.0   \n",
              "4             True   0.415  3.744   4.159  326139.0  334950.0  343489.0   \n",
              "..             ...     ...    ...     ...       ...       ...       ...   \n",
              "399           True  11.800  9.680  21.480  482293.0  483557.0  482601.0   \n",
              "400           True  11.800  9.680  21.480  484101.0  485654.0  484926.0   \n",
              "401           True  11.800  9.680  21.480  484818.0  486237.0  485386.0   \n",
              "402           True  11.200  9.120  20.320  484521.0  486353.0  485478.0   \n",
              "403           True  11.200  9.120  20.320  486090.0  488018.0  487383.0   \n",
              "\n",
              "          103       104       105  ...       3416       3417       3418  \\\n",
              "0    153224.0  155800.0  158297.0  ...   334369.0   336153.0   334933.0   \n",
              "1    217388.0  221327.0  225052.0  ...   294614.0   294377.0   291739.0   \n",
              "2    239820.0  246478.0  252605.0  ...    79871.5    76713.4    74038.4   \n",
              "3    319355.0  326706.0  333419.0  ...   103212.0    99360.4    95507.3   \n",
              "4    351643.0  359265.0  366171.0  ...   122042.0   119156.0   116189.0   \n",
              "..        ...       ...       ...  ...        ...        ...        ...   \n",
              "399  479793.0  475776.0  471245.0  ...  1040000.0  1030000.0  1030000.0   \n",
              "400  482202.0  478097.0  473353.0  ...  1040000.0  1030000.0  1030000.0   \n",
              "401  482573.0  478443.0  473771.0  ...  1040000.0  1030000.0  1030000.0   \n",
              "402  482285.0  477566.0  472245.0  ...  1040000.0  1040000.0  1040000.0   \n",
              "403  484520.0  480127.0  475046.0  ...  1040000.0  1040000.0  1040000.0   \n",
              "\n",
              "          3419       3420       3421       3422       3423       3424  \\\n",
              "0     333409.0   334084.0   335164.0   333873.0   331936.0   333974.0   \n",
              "1     293169.0   296291.0   296085.0   293815.0   290288.0   287718.0   \n",
              "2      73694.4    72858.8    69432.9    66287.1    64690.1    64200.5   \n",
              "3      96183.6    97782.4    96121.2    93317.4    91037.1    89635.4   \n",
              "4     117152.0   118201.0   116130.0   113295.0   110994.0   109691.0   \n",
              "..         ...        ...        ...        ...        ...        ...   \n",
              "399  1030000.0  1040000.0  1040000.0  1040000.0  1050000.0  1060000.0   \n",
              "400  1030000.0  1040000.0  1040000.0  1040000.0  1050000.0  1050000.0   \n",
              "401  1030000.0  1030000.0  1040000.0  1040000.0  1050000.0  1050000.0   \n",
              "402  1040000.0  1040000.0  1040000.0  1050000.0  1050000.0  1060000.0   \n",
              "403  1040000.0  1050000.0  1050000.0  1050000.0  1050000.0  1060000.0   \n",
              "\n",
              "          3425  \n",
              "0     338195.0  \n",
              "1     289398.0  \n",
              "2      65122.9  \n",
              "3      90149.7  \n",
              "4     109699.0  \n",
              "..         ...  \n",
              "399  1070000.0  \n",
              "400  1060000.0  \n",
              "401  1060000.0  \n",
              "402  1070000.0  \n",
              "403  1060000.0  \n",
              "\n",
              "[359 rows x 3330 columns]"
            ],
            "text/html": [
              "\n",
              "  <div id=\"df-2a2e6ce0-a7a4-4699-b998-6604aa74e448\">\n",
              "    <div class=\"colab-df-container\">\n",
              "      <div>\n",
              "<style scoped>\n",
              "    .dataframe tbody tr th:only-of-type {\n",
              "        vertical-align: middle;\n",
              "    }\n",
              "\n",
              "    .dataframe tbody tr th {\n",
              "        vertical-align: top;\n",
              "    }\n",
              "\n",
              "    .dataframe thead th {\n",
              "        text-align: right;\n",
              "    }\n",
              "</style>\n",
              "<table border=\"1\" class=\"dataframe\">\n",
              "  <thead>\n",
              "    <tr style=\"text-align: right;\">\n",
              "      <th></th>\n",
              "      <th>ëª¨ë¸ í¬í¨</th>\n",
              "      <th>Y_1</th>\n",
              "      <th>Y_2</th>\n",
              "      <th>Y_3</th>\n",
              "      <th>100</th>\n",
              "      <th>101</th>\n",
              "      <th>102</th>\n",
              "      <th>103</th>\n",
              "      <th>104</th>\n",
              "      <th>105</th>\n",
              "      <th>...</th>\n",
              "      <th>3416</th>\n",
              "      <th>3417</th>\n",
              "      <th>3418</th>\n",
              "      <th>3419</th>\n",
              "      <th>3420</th>\n",
              "      <th>3421</th>\n",
              "      <th>3422</th>\n",
              "      <th>3423</th>\n",
              "      <th>3424</th>\n",
              "      <th>3425</th>\n",
              "    </tr>\n",
              "  </thead>\n",
              "  <tbody>\n",
              "    <tr>\n",
              "      <th>0</th>\n",
              "      <td>True</td>\n",
              "      <td>0.152</td>\n",
              "      <td>0.554</td>\n",
              "      <td>0.706</td>\n",
              "      <td>146639.0</td>\n",
              "      <td>148544.0</td>\n",
              "      <td>150764.0</td>\n",
              "      <td>153224.0</td>\n",
              "      <td>155800.0</td>\n",
              "      <td>158297.0</td>\n",
              "      <td>...</td>\n",
              "      <td>334369.0</td>\n",
              "      <td>336153.0</td>\n",
              "      <td>334933.0</td>\n",
              "      <td>333409.0</td>\n",
              "      <td>334084.0</td>\n",
              "      <td>335164.0</td>\n",
              "      <td>333873.0</td>\n",
              "      <td>331936.0</td>\n",
              "      <td>333974.0</td>\n",
              "      <td>338195.0</td>\n",
              "    </tr>\n",
              "    <tr>\n",
              "      <th>1</th>\n",
              "      <td>True</td>\n",
              "      <td>0.079</td>\n",
              "      <td>1.406</td>\n",
              "      <td>1.485</td>\n",
              "      <td>206566.0</td>\n",
              "      <td>209838.0</td>\n",
              "      <td>213493.0</td>\n",
              "      <td>217388.0</td>\n",
              "      <td>221327.0</td>\n",
              "      <td>225052.0</td>\n",
              "      <td>...</td>\n",
              "      <td>294614.0</td>\n",
              "      <td>294377.0</td>\n",
              "      <td>291739.0</td>\n",
              "      <td>293169.0</td>\n",
              "      <td>296291.0</td>\n",
              "      <td>296085.0</td>\n",
              "      <td>293815.0</td>\n",
              "      <td>290288.0</td>\n",
              "      <td>287718.0</td>\n",
              "      <td>289398.0</td>\n",
              "    </tr>\n",
              "    <tr>\n",
              "      <th>2</th>\n",
              "      <td>True</td>\n",
              "      <td>0.100</td>\n",
              "      <td>2.243</td>\n",
              "      <td>2.343</td>\n",
              "      <td>218727.0</td>\n",
              "      <td>225835.0</td>\n",
              "      <td>232885.0</td>\n",
              "      <td>239820.0</td>\n",
              "      <td>246478.0</td>\n",
              "      <td>252605.0</td>\n",
              "      <td>...</td>\n",
              "      <td>79871.5</td>\n",
              "      <td>76713.4</td>\n",
              "      <td>74038.4</td>\n",
              "      <td>73694.4</td>\n",
              "      <td>72858.8</td>\n",
              "      <td>69432.9</td>\n",
              "      <td>66287.1</td>\n",
              "      <td>64690.1</td>\n",
              "      <td>64200.5</td>\n",
              "      <td>65122.9</td>\n",
              "    </tr>\n",
              "    <tr>\n",
              "      <th>3</th>\n",
              "      <td>True</td>\n",
              "      <td>0.238</td>\n",
              "      <td>3.225</td>\n",
              "      <td>3.463</td>\n",
              "      <td>295718.0</td>\n",
              "      <td>303733.0</td>\n",
              "      <td>311632.0</td>\n",
              "      <td>319355.0</td>\n",
              "      <td>326706.0</td>\n",
              "      <td>333419.0</td>\n",
              "      <td>...</td>\n",
              "      <td>103212.0</td>\n",
              "      <td>99360.4</td>\n",
              "      <td>95507.3</td>\n",
              "      <td>96183.6</td>\n",
              "      <td>97782.4</td>\n",
              "      <td>96121.2</td>\n",
              "      <td>93317.4</td>\n",
              "      <td>91037.1</td>\n",
              "      <td>89635.4</td>\n",
              "      <td>90149.7</td>\n",
              "    </tr>\n",
              "    <tr>\n",
              "      <th>4</th>\n",
              "      <td>True</td>\n",
              "      <td>0.415</td>\n",
              "      <td>3.744</td>\n",
              "      <td>4.159</td>\n",
              "      <td>326139.0</td>\n",
              "      <td>334950.0</td>\n",
              "      <td>343489.0</td>\n",
              "      <td>351643.0</td>\n",
              "      <td>359265.0</td>\n",
              "      <td>366171.0</td>\n",
              "      <td>...</td>\n",
              "      <td>122042.0</td>\n",
              "      <td>119156.0</td>\n",
              "      <td>116189.0</td>\n",
              "      <td>117152.0</td>\n",
              "      <td>118201.0</td>\n",
              "      <td>116130.0</td>\n",
              "      <td>113295.0</td>\n",
              "      <td>110994.0</td>\n",
              "      <td>109691.0</td>\n",
              "      <td>109699.0</td>\n",
              "    </tr>\n",
              "    <tr>\n",
              "      <th>...</th>\n",
              "      <td>...</td>\n",
              "      <td>...</td>\n",
              "      <td>...</td>\n",
              "      <td>...</td>\n",
              "      <td>...</td>\n",
              "      <td>...</td>\n",
              "      <td>...</td>\n",
              "      <td>...</td>\n",
              "      <td>...</td>\n",
              "      <td>...</td>\n",
              "      <td>...</td>\n",
              "      <td>...</td>\n",
              "      <td>...</td>\n",
              "      <td>...</td>\n",
              "      <td>...</td>\n",
              "      <td>...</td>\n",
              "      <td>...</td>\n",
              "      <td>...</td>\n",
              "      <td>...</td>\n",
              "      <td>...</td>\n",
              "      <td>...</td>\n",
              "    </tr>\n",
              "    <tr>\n",
              "      <th>399</th>\n",
              "      <td>True</td>\n",
              "      <td>11.800</td>\n",
              "      <td>9.680</td>\n",
              "      <td>21.480</td>\n",
              "      <td>482293.0</td>\n",
              "      <td>483557.0</td>\n",
              "      <td>482601.0</td>\n",
              "      <td>479793.0</td>\n",
              "      <td>475776.0</td>\n",
              "      <td>471245.0</td>\n",
              "      <td>...</td>\n",
              "      <td>1040000.0</td>\n",
              "      <td>1030000.0</td>\n",
              "      <td>1030000.0</td>\n",
              "      <td>1030000.0</td>\n",
              "      <td>1040000.0</td>\n",
              "      <td>1040000.0</td>\n",
              "      <td>1040000.0</td>\n",
              "      <td>1050000.0</td>\n",
              "      <td>1060000.0</td>\n",
              "      <td>1070000.0</td>\n",
              "    </tr>\n",
              "    <tr>\n",
              "      <th>400</th>\n",
              "      <td>True</td>\n",
              "      <td>11.800</td>\n",
              "      <td>9.680</td>\n",
              "      <td>21.480</td>\n",
              "      <td>484101.0</td>\n",
              "      <td>485654.0</td>\n",
              "      <td>484926.0</td>\n",
              "      <td>482202.0</td>\n",
              "      <td>478097.0</td>\n",
              "      <td>473353.0</td>\n",
              "      <td>...</td>\n",
              "      <td>1040000.0</td>\n",
              "      <td>1030000.0</td>\n",
              "      <td>1030000.0</td>\n",
              "      <td>1030000.0</td>\n",
              "      <td>1040000.0</td>\n",
              "      <td>1040000.0</td>\n",
              "      <td>1040000.0</td>\n",
              "      <td>1050000.0</td>\n",
              "      <td>1050000.0</td>\n",
              "      <td>1060000.0</td>\n",
              "    </tr>\n",
              "    <tr>\n",
              "      <th>401</th>\n",
              "      <td>True</td>\n",
              "      <td>11.800</td>\n",
              "      <td>9.680</td>\n",
              "      <td>21.480</td>\n",
              "      <td>484818.0</td>\n",
              "      <td>486237.0</td>\n",
              "      <td>485386.0</td>\n",
              "      <td>482573.0</td>\n",
              "      <td>478443.0</td>\n",
              "      <td>473771.0</td>\n",
              "      <td>...</td>\n",
              "      <td>1040000.0</td>\n",
              "      <td>1030000.0</td>\n",
              "      <td>1030000.0</td>\n",
              "      <td>1030000.0</td>\n",
              "      <td>1030000.0</td>\n",
              "      <td>1040000.0</td>\n",
              "      <td>1040000.0</td>\n",
              "      <td>1050000.0</td>\n",
              "      <td>1050000.0</td>\n",
              "      <td>1060000.0</td>\n",
              "    </tr>\n",
              "    <tr>\n",
              "      <th>402</th>\n",
              "      <td>True</td>\n",
              "      <td>11.200</td>\n",
              "      <td>9.120</td>\n",
              "      <td>20.320</td>\n",
              "      <td>484521.0</td>\n",
              "      <td>486353.0</td>\n",
              "      <td>485478.0</td>\n",
              "      <td>482285.0</td>\n",
              "      <td>477566.0</td>\n",
              "      <td>472245.0</td>\n",
              "      <td>...</td>\n",
              "      <td>1040000.0</td>\n",
              "      <td>1040000.0</td>\n",
              "      <td>1040000.0</td>\n",
              "      <td>1040000.0</td>\n",
              "      <td>1040000.0</td>\n",
              "      <td>1040000.0</td>\n",
              "      <td>1050000.0</td>\n",
              "      <td>1050000.0</td>\n",
              "      <td>1060000.0</td>\n",
              "      <td>1070000.0</td>\n",
              "    </tr>\n",
              "    <tr>\n",
              "      <th>403</th>\n",
              "      <td>True</td>\n",
              "      <td>11.200</td>\n",
              "      <td>9.120</td>\n",
              "      <td>20.320</td>\n",
              "      <td>486090.0</td>\n",
              "      <td>488018.0</td>\n",
              "      <td>487383.0</td>\n",
              "      <td>484520.0</td>\n",
              "      <td>480127.0</td>\n",
              "      <td>475046.0</td>\n",
              "      <td>...</td>\n",
              "      <td>1040000.0</td>\n",
              "      <td>1040000.0</td>\n",
              "      <td>1040000.0</td>\n",
              "      <td>1040000.0</td>\n",
              "      <td>1050000.0</td>\n",
              "      <td>1050000.0</td>\n",
              "      <td>1050000.0</td>\n",
              "      <td>1050000.0</td>\n",
              "      <td>1060000.0</td>\n",
              "      <td>1060000.0</td>\n",
              "    </tr>\n",
              "  </tbody>\n",
              "</table>\n",
              "<p>359 rows × 3330 columns</p>\n",
              "</div>\n",
              "      <button class=\"colab-df-convert\" onclick=\"convertToInteractive('df-2a2e6ce0-a7a4-4699-b998-6604aa74e448')\"\n",
              "              title=\"Convert this dataframe to an interactive table.\"\n",
              "              style=\"display:none;\">\n",
              "        \n",
              "  <svg xmlns=\"http://www.w3.org/2000/svg\" height=\"24px\"viewBox=\"0 0 24 24\"\n",
              "       width=\"24px\">\n",
              "    <path d=\"M0 0h24v24H0V0z\" fill=\"none\"/>\n",
              "    <path d=\"M18.56 5.44l.94 2.06.94-2.06 2.06-.94-2.06-.94-.94-2.06-.94 2.06-2.06.94zm-11 1L8.5 8.5l.94-2.06 2.06-.94-2.06-.94L8.5 2.5l-.94 2.06-2.06.94zm10 10l.94 2.06.94-2.06 2.06-.94-2.06-.94-.94-2.06-.94 2.06-2.06.94z\"/><path d=\"M17.41 7.96l-1.37-1.37c-.4-.4-.92-.59-1.43-.59-.52 0-1.04.2-1.43.59L10.3 9.45l-7.72 7.72c-.78.78-.78 2.05 0 2.83L4 21.41c.39.39.9.59 1.41.59.51 0 1.02-.2 1.41-.59l7.78-7.78 2.81-2.81c.8-.78.8-2.07 0-2.86zM5.41 20L4 18.59l7.72-7.72 1.47 1.35L5.41 20z\"/>\n",
              "  </svg>\n",
              "      </button>\n",
              "      \n",
              "  <style>\n",
              "    .colab-df-container {\n",
              "      display:flex;\n",
              "      flex-wrap:wrap;\n",
              "      gap: 12px;\n",
              "    }\n",
              "\n",
              "    .colab-df-convert {\n",
              "      background-color: #E8F0FE;\n",
              "      border: none;\n",
              "      border-radius: 50%;\n",
              "      cursor: pointer;\n",
              "      display: none;\n",
              "      fill: #1967D2;\n",
              "      height: 32px;\n",
              "      padding: 0 0 0 0;\n",
              "      width: 32px;\n",
              "    }\n",
              "\n",
              "    .colab-df-convert:hover {\n",
              "      background-color: #E2EBFA;\n",
              "      box-shadow: 0px 1px 2px rgba(60, 64, 67, 0.3), 0px 1px 3px 1px rgba(60, 64, 67, 0.15);\n",
              "      fill: #174EA6;\n",
              "    }\n",
              "\n",
              "    [theme=dark] .colab-df-convert {\n",
              "      background-color: #3B4455;\n",
              "      fill: #D2E3FC;\n",
              "    }\n",
              "\n",
              "    [theme=dark] .colab-df-convert:hover {\n",
              "      background-color: #434B5C;\n",
              "      box-shadow: 0px 1px 3px 1px rgba(0, 0, 0, 0.15);\n",
              "      filter: drop-shadow(0px 1px 2px rgba(0, 0, 0, 0.3));\n",
              "      fill: #FFFFFF;\n",
              "    }\n",
              "  </style>\n",
              "\n",
              "      <script>\n",
              "        const buttonEl =\n",
              "          document.querySelector('#df-2a2e6ce0-a7a4-4699-b998-6604aa74e448 button.colab-df-convert');\n",
              "        buttonEl.style.display =\n",
              "          google.colab.kernel.accessAllowed ? 'block' : 'none';\n",
              "\n",
              "        async function convertToInteractive(key) {\n",
              "          const element = document.querySelector('#df-2a2e6ce0-a7a4-4699-b998-6604aa74e448');\n",
              "          const dataTable =\n",
              "            await google.colab.kernel.invokeFunction('convertToInteractive',\n",
              "                                                     [key], {});\n",
              "          if (!dataTable) return;\n",
              "\n",
              "          const docLinkHtml = 'Like what you see? Visit the ' +\n",
              "            '<a target=\"_blank\" href=https://colab.research.google.com/notebooks/data_table.ipynb>data table notebook</a>'\n",
              "            + ' to learn more about interactive tables.';\n",
              "          element.innerHTML = '';\n",
              "          dataTable['output_type'] = 'display_data';\n",
              "          await google.colab.output.renderOutput(dataTable, element);\n",
              "          const docLink = document.createElement('div');\n",
              "          docLink.innerHTML = docLinkHtml;\n",
              "          element.appendChild(docLink);\n",
              "        }\n",
              "      </script>\n",
              "    </div>\n",
              "  </div>\n",
              "  "
            ]
          },
          "metadata": {},
          "execution_count": 7
        }
      ]
    },
    {
      "cell_type": "code",
      "source": [
        "x1,y1=data_a3.shape\n",
        "data_a1=data_a3.iloc[0::,4:yy+1]\n",
        "data_a1"
      ],
      "metadata": {
        "colab": {
          "base_uri": "https://localhost:8080/",
          "height": 488
        },
        "id": "w_7Wm9mQwAhz",
        "outputId": "0fbd3ceb-ea63-4088-d79b-69ba7dcf8e79"
      },
      "execution_count": null,
      "outputs": [
        {
          "output_type": "execute_result",
          "data": {
            "text/plain": [
              "          100       101       102       103       104       105       106  \\\n",
              "0    146639.0  148544.0  150764.0  153224.0  155800.0  158297.0  160498.0   \n",
              "1    206566.0  209838.0  213493.0  217388.0  221327.0  225052.0  228310.0   \n",
              "2    218727.0  225835.0  232885.0  239820.0  246478.0  252605.0  257958.0   \n",
              "3    295718.0  303733.0  311632.0  319355.0  326706.0  333419.0  339271.0   \n",
              "4    326139.0  334950.0  343489.0  351643.0  359265.0  366171.0  372196.0   \n",
              "..        ...       ...       ...       ...       ...       ...       ...   \n",
              "399  482293.0  483557.0  482601.0  479793.0  475776.0  471245.0  466823.0   \n",
              "400  484101.0  485654.0  484926.0  482202.0  478097.0  473353.0  468685.0   \n",
              "401  484818.0  486237.0  485386.0  482573.0  478443.0  473771.0  469297.0   \n",
              "402  484521.0  486353.0  485478.0  482285.0  477566.0  472245.0  467179.0   \n",
              "403  486090.0  488018.0  487383.0  484520.0  480127.0  475046.0  470100.0   \n",
              "\n",
              "          107       108       109  ...       3416       3417       3418  \\\n",
              "0    162250.0  163542.0  164511.0  ...   334369.0   336153.0   334933.0   \n",
              "1    230962.0  233047.0  234760.0  ...   294614.0   294377.0   291739.0   \n",
              "2    262420.0  266083.0  269223.0  ...    79871.5    76713.4    74038.4   \n",
              "3    344191.0  348322.0  351983.0  ...   103212.0    99360.4    95507.3   \n",
              "4    377278.0  381526.0  385220.0  ...   122042.0   119156.0   116189.0   \n",
              "..        ...       ...       ...  ...        ...        ...        ...   \n",
              "399  463048.0  460382.0  459178.0  ...  1040000.0  1030000.0  1030000.0   \n",
              "400  464719.0  461956.0  460733.0  ...  1040000.0  1030000.0  1030000.0   \n",
              "401  465630.0  463201.0  462252.0  ...  1040000.0  1030000.0  1030000.0   \n",
              "402  463068.0  460422.0  459528.0  ...  1040000.0  1040000.0  1040000.0   \n",
              "403  465995.0  463278.0  462286.0  ...  1040000.0  1040000.0  1040000.0   \n",
              "\n",
              "          3419       3420       3421       3422       3423       3424  \\\n",
              "0     333409.0   334084.0   335164.0   333873.0   331936.0   333974.0   \n",
              "1     293169.0   296291.0   296085.0   293815.0   290288.0   287718.0   \n",
              "2      73694.4    72858.8    69432.9    66287.1    64690.1    64200.5   \n",
              "3      96183.6    97782.4    96121.2    93317.4    91037.1    89635.4   \n",
              "4     117152.0   118201.0   116130.0   113295.0   110994.0   109691.0   \n",
              "..         ...        ...        ...        ...        ...        ...   \n",
              "399  1030000.0  1040000.0  1040000.0  1040000.0  1050000.0  1060000.0   \n",
              "400  1030000.0  1040000.0  1040000.0  1040000.0  1050000.0  1050000.0   \n",
              "401  1030000.0  1030000.0  1040000.0  1040000.0  1050000.0  1050000.0   \n",
              "402  1040000.0  1040000.0  1040000.0  1050000.0  1050000.0  1060000.0   \n",
              "403  1040000.0  1050000.0  1050000.0  1050000.0  1050000.0  1060000.0   \n",
              "\n",
              "          3425  \n",
              "0     338195.0  \n",
              "1     289398.0  \n",
              "2      65122.9  \n",
              "3      90149.7  \n",
              "4     109699.0  \n",
              "..         ...  \n",
              "399  1070000.0  \n",
              "400  1060000.0  \n",
              "401  1060000.0  \n",
              "402  1070000.0  \n",
              "403  1060000.0  \n",
              "\n",
              "[359 rows x 3326 columns]"
            ],
            "text/html": [
              "\n",
              "  <div id=\"df-b96fdc42-b612-4f05-b266-27499b41c1d7\">\n",
              "    <div class=\"colab-df-container\">\n",
              "      <div>\n",
              "<style scoped>\n",
              "    .dataframe tbody tr th:only-of-type {\n",
              "        vertical-align: middle;\n",
              "    }\n",
              "\n",
              "    .dataframe tbody tr th {\n",
              "        vertical-align: top;\n",
              "    }\n",
              "\n",
              "    .dataframe thead th {\n",
              "        text-align: right;\n",
              "    }\n",
              "</style>\n",
              "<table border=\"1\" class=\"dataframe\">\n",
              "  <thead>\n",
              "    <tr style=\"text-align: right;\">\n",
              "      <th></th>\n",
              "      <th>100</th>\n",
              "      <th>101</th>\n",
              "      <th>102</th>\n",
              "      <th>103</th>\n",
              "      <th>104</th>\n",
              "      <th>105</th>\n",
              "      <th>106</th>\n",
              "      <th>107</th>\n",
              "      <th>108</th>\n",
              "      <th>109</th>\n",
              "      <th>...</th>\n",
              "      <th>3416</th>\n",
              "      <th>3417</th>\n",
              "      <th>3418</th>\n",
              "      <th>3419</th>\n",
              "      <th>3420</th>\n",
              "      <th>3421</th>\n",
              "      <th>3422</th>\n",
              "      <th>3423</th>\n",
              "      <th>3424</th>\n",
              "      <th>3425</th>\n",
              "    </tr>\n",
              "  </thead>\n",
              "  <tbody>\n",
              "    <tr>\n",
              "      <th>0</th>\n",
              "      <td>146639.0</td>\n",
              "      <td>148544.0</td>\n",
              "      <td>150764.0</td>\n",
              "      <td>153224.0</td>\n",
              "      <td>155800.0</td>\n",
              "      <td>158297.0</td>\n",
              "      <td>160498.0</td>\n",
              "      <td>162250.0</td>\n",
              "      <td>163542.0</td>\n",
              "      <td>164511.0</td>\n",
              "      <td>...</td>\n",
              "      <td>334369.0</td>\n",
              "      <td>336153.0</td>\n",
              "      <td>334933.0</td>\n",
              "      <td>333409.0</td>\n",
              "      <td>334084.0</td>\n",
              "      <td>335164.0</td>\n",
              "      <td>333873.0</td>\n",
              "      <td>331936.0</td>\n",
              "      <td>333974.0</td>\n",
              "      <td>338195.0</td>\n",
              "    </tr>\n",
              "    <tr>\n",
              "      <th>1</th>\n",
              "      <td>206566.0</td>\n",
              "      <td>209838.0</td>\n",
              "      <td>213493.0</td>\n",
              "      <td>217388.0</td>\n",
              "      <td>221327.0</td>\n",
              "      <td>225052.0</td>\n",
              "      <td>228310.0</td>\n",
              "      <td>230962.0</td>\n",
              "      <td>233047.0</td>\n",
              "      <td>234760.0</td>\n",
              "      <td>...</td>\n",
              "      <td>294614.0</td>\n",
              "      <td>294377.0</td>\n",
              "      <td>291739.0</td>\n",
              "      <td>293169.0</td>\n",
              "      <td>296291.0</td>\n",
              "      <td>296085.0</td>\n",
              "      <td>293815.0</td>\n",
              "      <td>290288.0</td>\n",
              "      <td>287718.0</td>\n",
              "      <td>289398.0</td>\n",
              "    </tr>\n",
              "    <tr>\n",
              "      <th>2</th>\n",
              "      <td>218727.0</td>\n",
              "      <td>225835.0</td>\n",
              "      <td>232885.0</td>\n",
              "      <td>239820.0</td>\n",
              "      <td>246478.0</td>\n",
              "      <td>252605.0</td>\n",
              "      <td>257958.0</td>\n",
              "      <td>262420.0</td>\n",
              "      <td>266083.0</td>\n",
              "      <td>269223.0</td>\n",
              "      <td>...</td>\n",
              "      <td>79871.5</td>\n",
              "      <td>76713.4</td>\n",
              "      <td>74038.4</td>\n",
              "      <td>73694.4</td>\n",
              "      <td>72858.8</td>\n",
              "      <td>69432.9</td>\n",
              "      <td>66287.1</td>\n",
              "      <td>64690.1</td>\n",
              "      <td>64200.5</td>\n",
              "      <td>65122.9</td>\n",
              "    </tr>\n",
              "    <tr>\n",
              "      <th>3</th>\n",
              "      <td>295718.0</td>\n",
              "      <td>303733.0</td>\n",
              "      <td>311632.0</td>\n",
              "      <td>319355.0</td>\n",
              "      <td>326706.0</td>\n",
              "      <td>333419.0</td>\n",
              "      <td>339271.0</td>\n",
              "      <td>344191.0</td>\n",
              "      <td>348322.0</td>\n",
              "      <td>351983.0</td>\n",
              "      <td>...</td>\n",
              "      <td>103212.0</td>\n",
              "      <td>99360.4</td>\n",
              "      <td>95507.3</td>\n",
              "      <td>96183.6</td>\n",
              "      <td>97782.4</td>\n",
              "      <td>96121.2</td>\n",
              "      <td>93317.4</td>\n",
              "      <td>91037.1</td>\n",
              "      <td>89635.4</td>\n",
              "      <td>90149.7</td>\n",
              "    </tr>\n",
              "    <tr>\n",
              "      <th>4</th>\n",
              "      <td>326139.0</td>\n",
              "      <td>334950.0</td>\n",
              "      <td>343489.0</td>\n",
              "      <td>351643.0</td>\n",
              "      <td>359265.0</td>\n",
              "      <td>366171.0</td>\n",
              "      <td>372196.0</td>\n",
              "      <td>377278.0</td>\n",
              "      <td>381526.0</td>\n",
              "      <td>385220.0</td>\n",
              "      <td>...</td>\n",
              "      <td>122042.0</td>\n",
              "      <td>119156.0</td>\n",
              "      <td>116189.0</td>\n",
              "      <td>117152.0</td>\n",
              "      <td>118201.0</td>\n",
              "      <td>116130.0</td>\n",
              "      <td>113295.0</td>\n",
              "      <td>110994.0</td>\n",
              "      <td>109691.0</td>\n",
              "      <td>109699.0</td>\n",
              "    </tr>\n",
              "    <tr>\n",
              "      <th>...</th>\n",
              "      <td>...</td>\n",
              "      <td>...</td>\n",
              "      <td>...</td>\n",
              "      <td>...</td>\n",
              "      <td>...</td>\n",
              "      <td>...</td>\n",
              "      <td>...</td>\n",
              "      <td>...</td>\n",
              "      <td>...</td>\n",
              "      <td>...</td>\n",
              "      <td>...</td>\n",
              "      <td>...</td>\n",
              "      <td>...</td>\n",
              "      <td>...</td>\n",
              "      <td>...</td>\n",
              "      <td>...</td>\n",
              "      <td>...</td>\n",
              "      <td>...</td>\n",
              "      <td>...</td>\n",
              "      <td>...</td>\n",
              "      <td>...</td>\n",
              "    </tr>\n",
              "    <tr>\n",
              "      <th>399</th>\n",
              "      <td>482293.0</td>\n",
              "      <td>483557.0</td>\n",
              "      <td>482601.0</td>\n",
              "      <td>479793.0</td>\n",
              "      <td>475776.0</td>\n",
              "      <td>471245.0</td>\n",
              "      <td>466823.0</td>\n",
              "      <td>463048.0</td>\n",
              "      <td>460382.0</td>\n",
              "      <td>459178.0</td>\n",
              "      <td>...</td>\n",
              "      <td>1040000.0</td>\n",
              "      <td>1030000.0</td>\n",
              "      <td>1030000.0</td>\n",
              "      <td>1030000.0</td>\n",
              "      <td>1040000.0</td>\n",
              "      <td>1040000.0</td>\n",
              "      <td>1040000.0</td>\n",
              "      <td>1050000.0</td>\n",
              "      <td>1060000.0</td>\n",
              "      <td>1070000.0</td>\n",
              "    </tr>\n",
              "    <tr>\n",
              "      <th>400</th>\n",
              "      <td>484101.0</td>\n",
              "      <td>485654.0</td>\n",
              "      <td>484926.0</td>\n",
              "      <td>482202.0</td>\n",
              "      <td>478097.0</td>\n",
              "      <td>473353.0</td>\n",
              "      <td>468685.0</td>\n",
              "      <td>464719.0</td>\n",
              "      <td>461956.0</td>\n",
              "      <td>460733.0</td>\n",
              "      <td>...</td>\n",
              "      <td>1040000.0</td>\n",
              "      <td>1030000.0</td>\n",
              "      <td>1030000.0</td>\n",
              "      <td>1030000.0</td>\n",
              "      <td>1040000.0</td>\n",
              "      <td>1040000.0</td>\n",
              "      <td>1040000.0</td>\n",
              "      <td>1050000.0</td>\n",
              "      <td>1050000.0</td>\n",
              "      <td>1060000.0</td>\n",
              "    </tr>\n",
              "    <tr>\n",
              "      <th>401</th>\n",
              "      <td>484818.0</td>\n",
              "      <td>486237.0</td>\n",
              "      <td>485386.0</td>\n",
              "      <td>482573.0</td>\n",
              "      <td>478443.0</td>\n",
              "      <td>473771.0</td>\n",
              "      <td>469297.0</td>\n",
              "      <td>465630.0</td>\n",
              "      <td>463201.0</td>\n",
              "      <td>462252.0</td>\n",
              "      <td>...</td>\n",
              "      <td>1040000.0</td>\n",
              "      <td>1030000.0</td>\n",
              "      <td>1030000.0</td>\n",
              "      <td>1030000.0</td>\n",
              "      <td>1030000.0</td>\n",
              "      <td>1040000.0</td>\n",
              "      <td>1040000.0</td>\n",
              "      <td>1050000.0</td>\n",
              "      <td>1050000.0</td>\n",
              "      <td>1060000.0</td>\n",
              "    </tr>\n",
              "    <tr>\n",
              "      <th>402</th>\n",
              "      <td>484521.0</td>\n",
              "      <td>486353.0</td>\n",
              "      <td>485478.0</td>\n",
              "      <td>482285.0</td>\n",
              "      <td>477566.0</td>\n",
              "      <td>472245.0</td>\n",
              "      <td>467179.0</td>\n",
              "      <td>463068.0</td>\n",
              "      <td>460422.0</td>\n",
              "      <td>459528.0</td>\n",
              "      <td>...</td>\n",
              "      <td>1040000.0</td>\n",
              "      <td>1040000.0</td>\n",
              "      <td>1040000.0</td>\n",
              "      <td>1040000.0</td>\n",
              "      <td>1040000.0</td>\n",
              "      <td>1040000.0</td>\n",
              "      <td>1050000.0</td>\n",
              "      <td>1050000.0</td>\n",
              "      <td>1060000.0</td>\n",
              "      <td>1070000.0</td>\n",
              "    </tr>\n",
              "    <tr>\n",
              "      <th>403</th>\n",
              "      <td>486090.0</td>\n",
              "      <td>488018.0</td>\n",
              "      <td>487383.0</td>\n",
              "      <td>484520.0</td>\n",
              "      <td>480127.0</td>\n",
              "      <td>475046.0</td>\n",
              "      <td>470100.0</td>\n",
              "      <td>465995.0</td>\n",
              "      <td>463278.0</td>\n",
              "      <td>462286.0</td>\n",
              "      <td>...</td>\n",
              "      <td>1040000.0</td>\n",
              "      <td>1040000.0</td>\n",
              "      <td>1040000.0</td>\n",
              "      <td>1040000.0</td>\n",
              "      <td>1050000.0</td>\n",
              "      <td>1050000.0</td>\n",
              "      <td>1050000.0</td>\n",
              "      <td>1050000.0</td>\n",
              "      <td>1060000.0</td>\n",
              "      <td>1060000.0</td>\n",
              "    </tr>\n",
              "  </tbody>\n",
              "</table>\n",
              "<p>359 rows × 3326 columns</p>\n",
              "</div>\n",
              "      <button class=\"colab-df-convert\" onclick=\"convertToInteractive('df-b96fdc42-b612-4f05-b266-27499b41c1d7')\"\n",
              "              title=\"Convert this dataframe to an interactive table.\"\n",
              "              style=\"display:none;\">\n",
              "        \n",
              "  <svg xmlns=\"http://www.w3.org/2000/svg\" height=\"24px\"viewBox=\"0 0 24 24\"\n",
              "       width=\"24px\">\n",
              "    <path d=\"M0 0h24v24H0V0z\" fill=\"none\"/>\n",
              "    <path d=\"M18.56 5.44l.94 2.06.94-2.06 2.06-.94-2.06-.94-.94-2.06-.94 2.06-2.06.94zm-11 1L8.5 8.5l.94-2.06 2.06-.94-2.06-.94L8.5 2.5l-.94 2.06-2.06.94zm10 10l.94 2.06.94-2.06 2.06-.94-2.06-.94-.94-2.06-.94 2.06-2.06.94z\"/><path d=\"M17.41 7.96l-1.37-1.37c-.4-.4-.92-.59-1.43-.59-.52 0-1.04.2-1.43.59L10.3 9.45l-7.72 7.72c-.78.78-.78 2.05 0 2.83L4 21.41c.39.39.9.59 1.41.59.51 0 1.02-.2 1.41-.59l7.78-7.78 2.81-2.81c.8-.78.8-2.07 0-2.86zM5.41 20L4 18.59l7.72-7.72 1.47 1.35L5.41 20z\"/>\n",
              "  </svg>\n",
              "      </button>\n",
              "      \n",
              "  <style>\n",
              "    .colab-df-container {\n",
              "      display:flex;\n",
              "      flex-wrap:wrap;\n",
              "      gap: 12px;\n",
              "    }\n",
              "\n",
              "    .colab-df-convert {\n",
              "      background-color: #E8F0FE;\n",
              "      border: none;\n",
              "      border-radius: 50%;\n",
              "      cursor: pointer;\n",
              "      display: none;\n",
              "      fill: #1967D2;\n",
              "      height: 32px;\n",
              "      padding: 0 0 0 0;\n",
              "      width: 32px;\n",
              "    }\n",
              "\n",
              "    .colab-df-convert:hover {\n",
              "      background-color: #E2EBFA;\n",
              "      box-shadow: 0px 1px 2px rgba(60, 64, 67, 0.3), 0px 1px 3px 1px rgba(60, 64, 67, 0.15);\n",
              "      fill: #174EA6;\n",
              "    }\n",
              "\n",
              "    [theme=dark] .colab-df-convert {\n",
              "      background-color: #3B4455;\n",
              "      fill: #D2E3FC;\n",
              "    }\n",
              "\n",
              "    [theme=dark] .colab-df-convert:hover {\n",
              "      background-color: #434B5C;\n",
              "      box-shadow: 0px 1px 3px 1px rgba(0, 0, 0, 0.15);\n",
              "      filter: drop-shadow(0px 1px 2px rgba(0, 0, 0, 0.3));\n",
              "      fill: #FFFFFF;\n",
              "    }\n",
              "  </style>\n",
              "\n",
              "      <script>\n",
              "        const buttonEl =\n",
              "          document.querySelector('#df-b96fdc42-b612-4f05-b266-27499b41c1d7 button.colab-df-convert');\n",
              "        buttonEl.style.display =\n",
              "          google.colab.kernel.accessAllowed ? 'block' : 'none';\n",
              "\n",
              "        async function convertToInteractive(key) {\n",
              "          const element = document.querySelector('#df-b96fdc42-b612-4f05-b266-27499b41c1d7');\n",
              "          const dataTable =\n",
              "            await google.colab.kernel.invokeFunction('convertToInteractive',\n",
              "                                                     [key], {});\n",
              "          if (!dataTable) return;\n",
              "\n",
              "          const docLinkHtml = 'Like what you see? Visit the ' +\n",
              "            '<a target=\"_blank\" href=https://colab.research.google.com/notebooks/data_table.ipynb>data table notebook</a>'\n",
              "            + ' to learn more about interactive tables.';\n",
              "          element.innerHTML = '';\n",
              "          dataTable['output_type'] = 'display_data';\n",
              "          await google.colab.output.renderOutput(dataTable, element);\n",
              "          const docLink = document.createElement('div');\n",
              "          docLink.innerHTML = docLinkHtml;\n",
              "          element.appendChild(docLink);\n",
              "        }\n",
              "      </script>\n",
              "    </div>\n",
              "  </div>\n",
              "  "
            ]
          },
          "metadata": {},
          "execution_count": 8
        }
      ]
    },
    {
      "cell_type": "code",
      "source": [
        "data_a1_n=data_a1.to_numpy()\n",
        "data_a1_input=data_a1_n\n",
        "data_a1_input"
      ],
      "metadata": {
        "colab": {
          "base_uri": "https://localhost:8080/"
        },
        "id": "tLKbsGSowQim",
        "outputId": "759e873b-0390-45ef-fff0-c059cc8e34d5"
      },
      "execution_count": null,
      "outputs": [
        {
          "output_type": "execute_result",
          "data": {
            "text/plain": [
              "array([[ 146639. ,  148544. ,  150764. , ...,  331936. ,  333974. ,\n",
              "         338195. ],\n",
              "       [ 206566. ,  209838. ,  213493. , ...,  290288. ,  287718. ,\n",
              "         289398. ],\n",
              "       [ 218727. ,  225835. ,  232885. , ...,   64690.1,   64200.5,\n",
              "          65122.9],\n",
              "       ...,\n",
              "       [ 484818. ,  486237. ,  485386. , ..., 1050000. , 1050000. ,\n",
              "        1060000. ],\n",
              "       [ 484521. ,  486353. ,  485478. , ..., 1050000. , 1060000. ,\n",
              "        1070000. ],\n",
              "       [ 486090. ,  488018. ,  487383. , ..., 1050000. , 1060000. ,\n",
              "        1060000. ]])"
            ]
          },
          "metadata": {},
          "execution_count": 9
        }
      ]
    },
    {
      "cell_type": "code",
      "source": [
        "data_a1_output=data_a3.iloc[0::,1:4]\n",
        "data_a1_output.head()"
      ],
      "metadata": {
        "colab": {
          "base_uri": "https://localhost:8080/",
          "height": 206
        },
        "id": "rhIm76bIwUow",
        "outputId": "60f3b15b-455e-451d-cc28-7ae8f35d205e"
      },
      "execution_count": null,
      "outputs": [
        {
          "output_type": "execute_result",
          "data": {
            "text/plain": [
              "     Y_1    Y_2    Y_3\n",
              "0  0.152  0.554  0.706\n",
              "1  0.079  1.406  1.485\n",
              "2  0.100  2.243  2.343\n",
              "3  0.238  3.225  3.463\n",
              "4  0.415  3.744  4.159"
            ],
            "text/html": [
              "\n",
              "  <div id=\"df-e72c61d7-cd39-486b-9352-dfde18a0c50c\">\n",
              "    <div class=\"colab-df-container\">\n",
              "      <div>\n",
              "<style scoped>\n",
              "    .dataframe tbody tr th:only-of-type {\n",
              "        vertical-align: middle;\n",
              "    }\n",
              "\n",
              "    .dataframe tbody tr th {\n",
              "        vertical-align: top;\n",
              "    }\n",
              "\n",
              "    .dataframe thead th {\n",
              "        text-align: right;\n",
              "    }\n",
              "</style>\n",
              "<table border=\"1\" class=\"dataframe\">\n",
              "  <thead>\n",
              "    <tr style=\"text-align: right;\">\n",
              "      <th></th>\n",
              "      <th>Y_1</th>\n",
              "      <th>Y_2</th>\n",
              "      <th>Y_3</th>\n",
              "    </tr>\n",
              "  </thead>\n",
              "  <tbody>\n",
              "    <tr>\n",
              "      <th>0</th>\n",
              "      <td>0.152</td>\n",
              "      <td>0.554</td>\n",
              "      <td>0.706</td>\n",
              "    </tr>\n",
              "    <tr>\n",
              "      <th>1</th>\n",
              "      <td>0.079</td>\n",
              "      <td>1.406</td>\n",
              "      <td>1.485</td>\n",
              "    </tr>\n",
              "    <tr>\n",
              "      <th>2</th>\n",
              "      <td>0.100</td>\n",
              "      <td>2.243</td>\n",
              "      <td>2.343</td>\n",
              "    </tr>\n",
              "    <tr>\n",
              "      <th>3</th>\n",
              "      <td>0.238</td>\n",
              "      <td>3.225</td>\n",
              "      <td>3.463</td>\n",
              "    </tr>\n",
              "    <tr>\n",
              "      <th>4</th>\n",
              "      <td>0.415</td>\n",
              "      <td>3.744</td>\n",
              "      <td>4.159</td>\n",
              "    </tr>\n",
              "  </tbody>\n",
              "</table>\n",
              "</div>\n",
              "      <button class=\"colab-df-convert\" onclick=\"convertToInteractive('df-e72c61d7-cd39-486b-9352-dfde18a0c50c')\"\n",
              "              title=\"Convert this dataframe to an interactive table.\"\n",
              "              style=\"display:none;\">\n",
              "        \n",
              "  <svg xmlns=\"http://www.w3.org/2000/svg\" height=\"24px\"viewBox=\"0 0 24 24\"\n",
              "       width=\"24px\">\n",
              "    <path d=\"M0 0h24v24H0V0z\" fill=\"none\"/>\n",
              "    <path d=\"M18.56 5.44l.94 2.06.94-2.06 2.06-.94-2.06-.94-.94-2.06-.94 2.06-2.06.94zm-11 1L8.5 8.5l.94-2.06 2.06-.94-2.06-.94L8.5 2.5l-.94 2.06-2.06.94zm10 10l.94 2.06.94-2.06 2.06-.94-2.06-.94-.94-2.06-.94 2.06-2.06.94z\"/><path d=\"M17.41 7.96l-1.37-1.37c-.4-.4-.92-.59-1.43-.59-.52 0-1.04.2-1.43.59L10.3 9.45l-7.72 7.72c-.78.78-.78 2.05 0 2.83L4 21.41c.39.39.9.59 1.41.59.51 0 1.02-.2 1.41-.59l7.78-7.78 2.81-2.81c.8-.78.8-2.07 0-2.86zM5.41 20L4 18.59l7.72-7.72 1.47 1.35L5.41 20z\"/>\n",
              "  </svg>\n",
              "      </button>\n",
              "      \n",
              "  <style>\n",
              "    .colab-df-container {\n",
              "      display:flex;\n",
              "      flex-wrap:wrap;\n",
              "      gap: 12px;\n",
              "    }\n",
              "\n",
              "    .colab-df-convert {\n",
              "      background-color: #E8F0FE;\n",
              "      border: none;\n",
              "      border-radius: 50%;\n",
              "      cursor: pointer;\n",
              "      display: none;\n",
              "      fill: #1967D2;\n",
              "      height: 32px;\n",
              "      padding: 0 0 0 0;\n",
              "      width: 32px;\n",
              "    }\n",
              "\n",
              "    .colab-df-convert:hover {\n",
              "      background-color: #E2EBFA;\n",
              "      box-shadow: 0px 1px 2px rgba(60, 64, 67, 0.3), 0px 1px 3px 1px rgba(60, 64, 67, 0.15);\n",
              "      fill: #174EA6;\n",
              "    }\n",
              "\n",
              "    [theme=dark] .colab-df-convert {\n",
              "      background-color: #3B4455;\n",
              "      fill: #D2E3FC;\n",
              "    }\n",
              "\n",
              "    [theme=dark] .colab-df-convert:hover {\n",
              "      background-color: #434B5C;\n",
              "      box-shadow: 0px 1px 3px 1px rgba(0, 0, 0, 0.15);\n",
              "      filter: drop-shadow(0px 1px 2px rgba(0, 0, 0, 0.3));\n",
              "      fill: #FFFFFF;\n",
              "    }\n",
              "  </style>\n",
              "\n",
              "      <script>\n",
              "        const buttonEl =\n",
              "          document.querySelector('#df-e72c61d7-cd39-486b-9352-dfde18a0c50c button.colab-df-convert');\n",
              "        buttonEl.style.display =\n",
              "          google.colab.kernel.accessAllowed ? 'block' : 'none';\n",
              "\n",
              "        async function convertToInteractive(key) {\n",
              "          const element = document.querySelector('#df-e72c61d7-cd39-486b-9352-dfde18a0c50c');\n",
              "          const dataTable =\n",
              "            await google.colab.kernel.invokeFunction('convertToInteractive',\n",
              "                                                     [key], {});\n",
              "          if (!dataTable) return;\n",
              "\n",
              "          const docLinkHtml = 'Like what you see? Visit the ' +\n",
              "            '<a target=\"_blank\" href=https://colab.research.google.com/notebooks/data_table.ipynb>data table notebook</a>'\n",
              "            + ' to learn more about interactive tables.';\n",
              "          element.innerHTML = '';\n",
              "          dataTable['output_type'] = 'display_data';\n",
              "          await google.colab.output.renderOutput(dataTable, element);\n",
              "          const docLink = document.createElement('div');\n",
              "          docLink.innerHTML = docLinkHtml;\n",
              "          element.appendChild(docLink);\n",
              "        }\n",
              "      </script>\n",
              "    </div>\n",
              "  </div>\n",
              "  "
            ]
          },
          "metadata": {},
          "execution_count": 10
        }
      ]
    },
    {
      "cell_type": "code",
      "source": [
        "#data_a1_output_n=data_a1_output.to_numpy().flatten()\n",
        "data_a1_output_n=data_a1_output.to_numpy()\n",
        "data_a1_target=data_a1_output_n\n",
        "data_a1_target"
      ],
      "metadata": {
        "colab": {
          "base_uri": "https://localhost:8080/"
        },
        "id": "NHYamJ0rwZhw",
        "outputId": "d501dcf4-a691-41bd-a011-47255527c31e"
      },
      "execution_count": null,
      "outputs": [
        {
          "output_type": "execute_result",
          "data": {
            "text/plain": [
              "array([[ 0.152,  0.554,  0.706],\n",
              "       [ 0.079,  1.406,  1.485],\n",
              "       [ 0.1  ,  2.243,  2.343],\n",
              "       ...,\n",
              "       [11.8  ,  9.68 , 21.48 ],\n",
              "       [11.2  ,  9.12 , 20.32 ],\n",
              "       [11.2  ,  9.12 , 20.32 ]])"
            ]
          },
          "metadata": {},
          "execution_count": 12
        }
      ]
    },
    {
      "cell_type": "code",
      "source": [
        "import multiprocessing\n",
        "import pandas as pd\n",
        "import numpy as np\n",
        "import matplotlib.pyplot as plt\n",
        "plt.style.use(['seaborn-whitegrid'])"
      ],
      "metadata": {
        "id": "PmkYa1Nx1Er9"
      },
      "execution_count": null,
      "outputs": []
    },
    {
      "cell_type": "code",
      "source": [
        "from sklearn.svm import SVR, SVC\n",
        "from sklearn.datasets import load_boston, load_diabetes\n",
        "from sklearn.datasets import load_breast_cancer, load_iris, load_wine\n",
        "from sklearn.pipeline import make_pipeline,Pipeline\n",
        "from sklearn.model_selection import train_test_split,cross_validate, GridSearchCV\n",
        "from sklearn.preprocessing import StandardScaler, MinMaxScaler\n",
        "from sklearn.manifold import TSNE\n"
      ],
      "metadata": {
        "id": "aTWrdJnlZ6QC"
      },
      "execution_count": null,
      "outputs": []
    },
    {
      "cell_type": "markdown",
      "source": [
        "#SVM을 사용한 분류모델 \n",
        "# 커널기법"
      ],
      "metadata": {
        "id": "BypkTxpIb6fd"
      }
    },
    {
      "cell_type": "code",
      "source": [
        "#X,y = load_boston(return_X_y=True)\n",
        "X=data_a1_input\n",
        "y=data_a1_target\n",
        "X_train, X_test, y_train, y_test=train_test_split(X, y, random_state=123)\n",
        "\n",
        "model = SVR()\n",
        "model.fit(X_train, y_train)\n",
        "\n",
        "print(\"힉습 데이터 점수:{}\".format(model.score(X_train, y_train)))\n",
        "print(\"평가 데이터 점수:{}\".format(model.score(X_test, y_test)))"
      ],
      "metadata": {
        "id": "S6s4Jpkjbzna",
        "colab": {
          "base_uri": "https://localhost:8080/",
          "height": 399
        },
        "outputId": "95bc6662-7fd5-4f41-c093-ad9ce648ca98"
      },
      "execution_count": null,
      "outputs": [
        {
          "output_type": "error",
          "ename": "ValueError",
          "evalue": "ignored",
          "traceback": [
            "\u001b[0;31m---------------------------------------------------------------------------\u001b[0m",
            "\u001b[0;31mValueError\u001b[0m                                Traceback (most recent call last)",
            "\u001b[0;32m<ipython-input-15-516eb5cb7e58>\u001b[0m in \u001b[0;36m<module>\u001b[0;34m\u001b[0m\n\u001b[1;32m      5\u001b[0m \u001b[0;34m\u001b[0m\u001b[0m\n\u001b[1;32m      6\u001b[0m \u001b[0mmodel\u001b[0m \u001b[0;34m=\u001b[0m \u001b[0mSVR\u001b[0m\u001b[0;34m(\u001b[0m\u001b[0;34m)\u001b[0m\u001b[0;34m\u001b[0m\u001b[0;34m\u001b[0m\u001b[0m\n\u001b[0;32m----> 7\u001b[0;31m \u001b[0mmodel\u001b[0m\u001b[0;34m.\u001b[0m\u001b[0mfit\u001b[0m\u001b[0;34m(\u001b[0m\u001b[0mX_train\u001b[0m\u001b[0;34m,\u001b[0m \u001b[0my_train\u001b[0m\u001b[0;34m)\u001b[0m\u001b[0;34m\u001b[0m\u001b[0;34m\u001b[0m\u001b[0m\n\u001b[0m\u001b[1;32m      8\u001b[0m \u001b[0;34m\u001b[0m\u001b[0m\n\u001b[1;32m      9\u001b[0m \u001b[0mprint\u001b[0m\u001b[0;34m(\u001b[0m\u001b[0;34m\"힉습 데이터 점수:{}\"\u001b[0m\u001b[0;34m.\u001b[0m\u001b[0mformat\u001b[0m\u001b[0;34m(\u001b[0m\u001b[0mmodel\u001b[0m\u001b[0;34m.\u001b[0m\u001b[0mscore\u001b[0m\u001b[0;34m(\u001b[0m\u001b[0mX_train\u001b[0m\u001b[0;34m,\u001b[0m \u001b[0my_train\u001b[0m\u001b[0;34m)\u001b[0m\u001b[0;34m)\u001b[0m\u001b[0;34m)\u001b[0m\u001b[0;34m\u001b[0m\u001b[0;34m\u001b[0m\u001b[0m\n",
            "\u001b[0;32m/usr/local/lib/python3.8/dist-packages/sklearn/svm/_base.py\u001b[0m in \u001b[0;36mfit\u001b[0;34m(self, X, y, sample_weight)\u001b[0m\n\u001b[1;32m    188\u001b[0m             \u001b[0mcheck_consistent_length\u001b[0m\u001b[0;34m(\u001b[0m\u001b[0mX\u001b[0m\u001b[0;34m,\u001b[0m \u001b[0my\u001b[0m\u001b[0;34m)\u001b[0m\u001b[0;34m\u001b[0m\u001b[0;34m\u001b[0m\u001b[0m\n\u001b[1;32m    189\u001b[0m         \u001b[0;32melse\u001b[0m\u001b[0;34m:\u001b[0m\u001b[0;34m\u001b[0m\u001b[0;34m\u001b[0m\u001b[0m\n\u001b[0;32m--> 190\u001b[0;31m             X, y = self._validate_data(\n\u001b[0m\u001b[1;32m    191\u001b[0m                 \u001b[0mX\u001b[0m\u001b[0;34m,\u001b[0m\u001b[0;34m\u001b[0m\u001b[0;34m\u001b[0m\u001b[0m\n\u001b[1;32m    192\u001b[0m                 \u001b[0my\u001b[0m\u001b[0;34m,\u001b[0m\u001b[0;34m\u001b[0m\u001b[0;34m\u001b[0m\u001b[0m\n",
            "\u001b[0;32m/usr/local/lib/python3.8/dist-packages/sklearn/base.py\u001b[0m in \u001b[0;36m_validate_data\u001b[0;34m(self, X, y, reset, validate_separately, **check_params)\u001b[0m\n\u001b[1;32m    579\u001b[0m                 \u001b[0my\u001b[0m \u001b[0;34m=\u001b[0m \u001b[0mcheck_array\u001b[0m\u001b[0;34m(\u001b[0m\u001b[0my\u001b[0m\u001b[0;34m,\u001b[0m \u001b[0;34m**\u001b[0m\u001b[0mcheck_y_params\u001b[0m\u001b[0;34m)\u001b[0m\u001b[0;34m\u001b[0m\u001b[0;34m\u001b[0m\u001b[0m\n\u001b[1;32m    580\u001b[0m             \u001b[0;32melse\u001b[0m\u001b[0;34m:\u001b[0m\u001b[0;34m\u001b[0m\u001b[0;34m\u001b[0m\u001b[0m\n\u001b[0;32m--> 581\u001b[0;31m                 \u001b[0mX\u001b[0m\u001b[0;34m,\u001b[0m \u001b[0my\u001b[0m \u001b[0;34m=\u001b[0m \u001b[0mcheck_X_y\u001b[0m\u001b[0;34m(\u001b[0m\u001b[0mX\u001b[0m\u001b[0;34m,\u001b[0m \u001b[0my\u001b[0m\u001b[0;34m,\u001b[0m \u001b[0;34m**\u001b[0m\u001b[0mcheck_params\u001b[0m\u001b[0;34m)\u001b[0m\u001b[0;34m\u001b[0m\u001b[0;34m\u001b[0m\u001b[0m\n\u001b[0m\u001b[1;32m    582\u001b[0m             \u001b[0mout\u001b[0m \u001b[0;34m=\u001b[0m \u001b[0mX\u001b[0m\u001b[0;34m,\u001b[0m \u001b[0my\u001b[0m\u001b[0;34m\u001b[0m\u001b[0;34m\u001b[0m\u001b[0m\n\u001b[1;32m    583\u001b[0m \u001b[0;34m\u001b[0m\u001b[0m\n",
            "\u001b[0;32m/usr/local/lib/python3.8/dist-packages/sklearn/utils/validation.py\u001b[0m in \u001b[0;36mcheck_X_y\u001b[0;34m(X, y, accept_sparse, accept_large_sparse, dtype, order, copy, force_all_finite, ensure_2d, allow_nd, multi_output, ensure_min_samples, ensure_min_features, y_numeric, estimator)\u001b[0m\n\u001b[1;32m    977\u001b[0m     )\n\u001b[1;32m    978\u001b[0m \u001b[0;34m\u001b[0m\u001b[0m\n\u001b[0;32m--> 979\u001b[0;31m     \u001b[0my\u001b[0m \u001b[0;34m=\u001b[0m \u001b[0m_check_y\u001b[0m\u001b[0;34m(\u001b[0m\u001b[0my\u001b[0m\u001b[0;34m,\u001b[0m \u001b[0mmulti_output\u001b[0m\u001b[0;34m=\u001b[0m\u001b[0mmulti_output\u001b[0m\u001b[0;34m,\u001b[0m \u001b[0my_numeric\u001b[0m\u001b[0;34m=\u001b[0m\u001b[0my_numeric\u001b[0m\u001b[0;34m)\u001b[0m\u001b[0;34m\u001b[0m\u001b[0;34m\u001b[0m\u001b[0m\n\u001b[0m\u001b[1;32m    980\u001b[0m \u001b[0;34m\u001b[0m\u001b[0m\n\u001b[1;32m    981\u001b[0m     \u001b[0mcheck_consistent_length\u001b[0m\u001b[0;34m(\u001b[0m\u001b[0mX\u001b[0m\u001b[0;34m,\u001b[0m \u001b[0my\u001b[0m\u001b[0;34m)\u001b[0m\u001b[0;34m\u001b[0m\u001b[0;34m\u001b[0m\u001b[0m\n",
            "\u001b[0;32m/usr/local/lib/python3.8/dist-packages/sklearn/utils/validation.py\u001b[0m in \u001b[0;36m_check_y\u001b[0;34m(y, multi_output, y_numeric)\u001b[0m\n\u001b[1;32m    991\u001b[0m         )\n\u001b[1;32m    992\u001b[0m     \u001b[0;32melse\u001b[0m\u001b[0;34m:\u001b[0m\u001b[0;34m\u001b[0m\u001b[0;34m\u001b[0m\u001b[0m\n\u001b[0;32m--> 993\u001b[0;31m         \u001b[0my\u001b[0m \u001b[0;34m=\u001b[0m \u001b[0mcolumn_or_1d\u001b[0m\u001b[0;34m(\u001b[0m\u001b[0my\u001b[0m\u001b[0;34m,\u001b[0m \u001b[0mwarn\u001b[0m\u001b[0;34m=\u001b[0m\u001b[0;32mTrue\u001b[0m\u001b[0;34m)\u001b[0m\u001b[0;34m\u001b[0m\u001b[0;34m\u001b[0m\u001b[0m\n\u001b[0m\u001b[1;32m    994\u001b[0m         \u001b[0m_assert_all_finite\u001b[0m\u001b[0;34m(\u001b[0m\u001b[0my\u001b[0m\u001b[0;34m)\u001b[0m\u001b[0;34m\u001b[0m\u001b[0;34m\u001b[0m\u001b[0m\n\u001b[1;32m    995\u001b[0m         \u001b[0m_ensure_no_complex_data\u001b[0m\u001b[0;34m(\u001b[0m\u001b[0my\u001b[0m\u001b[0;34m)\u001b[0m\u001b[0;34m\u001b[0m\u001b[0;34m\u001b[0m\u001b[0m\n",
            "\u001b[0;32m/usr/local/lib/python3.8/dist-packages/sklearn/utils/validation.py\u001b[0m in \u001b[0;36mcolumn_or_1d\u001b[0;34m(y, warn)\u001b[0m\n\u001b[1;32m   1036\u001b[0m         \u001b[0;32mreturn\u001b[0m \u001b[0mnp\u001b[0m\u001b[0;34m.\u001b[0m\u001b[0mravel\u001b[0m\u001b[0;34m(\u001b[0m\u001b[0my\u001b[0m\u001b[0;34m)\u001b[0m\u001b[0;34m\u001b[0m\u001b[0;34m\u001b[0m\u001b[0m\n\u001b[1;32m   1037\u001b[0m \u001b[0;34m\u001b[0m\u001b[0m\n\u001b[0;32m-> 1038\u001b[0;31m     raise ValueError(\n\u001b[0m\u001b[1;32m   1039\u001b[0m         \u001b[0;34m\"y should be a 1d array, got an array of shape {} instead.\"\u001b[0m\u001b[0;34m.\u001b[0m\u001b[0mformat\u001b[0m\u001b[0;34m(\u001b[0m\u001b[0mshape\u001b[0m\u001b[0;34m)\u001b[0m\u001b[0;34m\u001b[0m\u001b[0;34m\u001b[0m\u001b[0m\n\u001b[1;32m   1040\u001b[0m     )\n",
            "\u001b[0;31mValueError\u001b[0m: y should be a 1d array, got an array of shape (269, 3) instead."
          ]
        }
      ]
    },
    {
      "cell_type": "code",
      "source": [
        "#no\n",
        "X,y = load_breast_cancer(return_X_y=True)\n",
        "X_train, X_test, y_train, y_test=train_test_split(X, y, random_state=123)\n",
        "\n",
        "model = SVC()\n",
        "model.fit(X_train, y_train)\n",
        "\n",
        "print(\"힉습 데이터 점수:{}\".format(model.score(X_train, y_train)))\n",
        "print(\"평가 데이터 점수:{}\".format(model.score(X_test, y_test)))"
      ],
      "metadata": {
        "id": "alZPIHxUdbzy"
      },
      "execution_count": null,
      "outputs": []
    },
    {
      "cell_type": "markdown",
      "source": [
        "#커널기법"
      ],
      "metadata": {
        "id": "zYn_lqxCduc1"
      }
    },
    {
      "cell_type": "code",
      "source": [
        "#no\n",
        "X,y=load_boston(return_X_y=True)\n",
        "X_train, X_test,y_train, y_test=train_test_split(X,y,random_state=123)\n",
        "\n",
        "linear_svr=SVR(kernel='linear')\n",
        "linear_svr.fit(X_train,y_train)\n",
        "\n",
        "print(\"Linear SVR 힉습 데이터 점수:{}\".format(linear_svr.score(X_train, y_train)))\n",
        "print(\"Linear SVR 평가 데이터 점수:{}\".format(linear_svr.score(X_test, y_test)))\n",
        "\n",
        "poly_svr=SVR(kernel='poly')\n",
        "poly_svr.fit(X_train,y_train)\n",
        "\n",
        "print(\"Polynomial SVR 힉습 데이터 점수:{}\".format(poly_svr.score(X_train, y_train)))\n",
        "print(\"Polynomial SVR 평가 데이터 점수:{}\".format(poly_svr.score(X_test, y_test)))\n",
        "\n",
        "rbf_svr=SVR(kernel='rbf')\n",
        "rbf_svr.fit(X_train,y_train)\n",
        "\n",
        "print(\"RBF SVR 힉습 데이터 점수:{}\".format(rbf_svr.score(X_train, y_train)))\n",
        "print(\"RBF SVR 평가 데이터 점수:{}\".format(rbf_svr.score(X_test, y_test)))"
      ],
      "metadata": {
        "id": "wWAJqb1ZdrnN"
      },
      "execution_count": null,
      "outputs": []
    },
    {
      "cell_type": "code",
      "source": [
        "#no"
      ],
      "metadata": {
        "id": "dweo6Rzqful3"
      },
      "execution_count": null,
      "outputs": []
    },
    {
      "cell_type": "code",
      "source": [
        "X,y=load_breast_cancer(return_X_y=True)\n",
        "X_train, X_test,y_train, y_test=train_test_split(X,y,random_state=123)\n",
        "\n",
        "linear_svc=SVC(kernel='linear')\n",
        "linear_svc.fit(X_train,y_train)\n",
        "\n",
        "print(\"Linear SVC 힉습 데이터 점수:{}\".format(linear_svc.score(X_train, y_train)))\n",
        "print(\"Linear SVC 평가 데이터 점수:{}\".format(linear_svc.score(X_test, y_test)))\n",
        "\n",
        "poly_svc=SVC(kernel='poly')\n",
        "poly_svc.fit(X_train,y_train)\n",
        "\n",
        "print(\"Polynomial SVC 힉습 데이터 점수:{}\".format(poly_svc.score(X_train, y_train)))\n",
        "print(\"Polynomial SVC 평가 데이터 점수:{}\".format(poly_svc.score(X_test, y_test)))\n",
        "\n",
        "rbf_svc=SVC(kernel='rbf')\n",
        "rbf_svc.fit(X_train,y_train)\n",
        "\n",
        "print(\"RBF SVR 힉습 데이터 점수:{}\".format(rbf_svc.score(X_train, y_train)))\n",
        "print(\"RBF SVR 평가 데이터 점수:{}\".format(rbf_svc.score(X_test, y_test)))"
      ],
      "metadata": {
        "id": "0szD4XB9iLKv"
      },
      "execution_count": null,
      "outputs": []
    },
    {
      "cell_type": "markdown",
      "source": [
        "#매개변수 튜닝"
      ],
      "metadata": {
        "id": "35VKkXg-kxp7"
      }
    },
    {
      "cell_type": "code",
      "source": [
        "X,y=load_breast_cancer(return_X_y=True)\n",
        "X_train, X_test,y_train, y_test=train_test_split(X,y,random_state=123)\n",
        "\n",
        "poly_svc=SVC(kernel='poly',degree=2,C=0.1,gamma='auto')\n",
        "poly_svc.fit(X_train,y_train)\n",
        "\n",
        "print(\"kernel=poly, degree={},C={},gamma={}\".format(2,0.1,'auto'))\n",
        "\n",
        "print(\"Polynomial SVC 힉습 데이터 점수:{}\".format(poly_svc.score(X_train, y_train)))\n",
        "print(\"Polynomial SVC 평가 데이터 점수:{}\".format(poly_svc.score(X_test, y_test)))\n"
      ],
      "metadata": {
        "id": "to2eA5LNilKT"
      },
      "execution_count": null,
      "outputs": []
    },
    {
      "cell_type": "code",
      "source": [
        "rbf_svc=SVC(kernel='rbf',C=2.0, gamma='scale')\n",
        "rbf_svc.fit(X_train,y_train)\n",
        "print(\"kernel=rbf,C={},gamma={}\".format(2,0,'scale'))\n",
        "print(\"RBF SVR 힉습 데이터 점수:{}\".format(rbf_svc.score(X_train, y_train)))\n",
        "print(\"RBF SVR 평가 데이터 점수:{}\".format(rbf_svc.score(X_test, y_test)))"
      ],
      "metadata": {
        "id": "rLciKpcBmNt7"
      },
      "execution_count": null,
      "outputs": []
    },
    {
      "cell_type": "code",
      "source": [
        "scaler=MinMaxScaler()\n",
        "X_train=scaler.fit_transform(X_train)\n",
        "X_test=scaler.transform(X_test)"
      ],
      "metadata": {
        "id": "KAgJ6Lr4n-By"
      },
      "execution_count": null,
      "outputs": []
    },
    {
      "cell_type": "code",
      "source": [
        "model=SVC()\n",
        "model.fit(X_train,y_train)"
      ],
      "metadata": {
        "id": "jWf8erQwoUGB"
      },
      "execution_count": null,
      "outputs": []
    },
    {
      "cell_type": "code",
      "source": [
        "print(\"SVC 힉습 데이터 점수:{}\".format(model.score(X_train, y_train)))\n",
        "print(\"SVC 평가 데이터 점수:{}\".format(model.score(X_test, y_test)))"
      ],
      "metadata": {
        "id": "2NsYc03bomrx"
      },
      "execution_count": null,
      "outputs": []
    },
    {
      "cell_type": "code",
      "source": [
        "#no end "
      ],
      "metadata": {
        "id": "cMGWlAcBzbXa"
      },
      "execution_count": null,
      "outputs": []
    },
    {
      "cell_type": "markdown",
      "source": [
        "#Linear SVR"
      ],
      "metadata": {
        "id": "-ZnoCbjyo-1r"
      }
    },
    {
      "cell_type": "code",
      "source": [
        "#X,y=load_boston(return_X_y=True)\n",
        "X_train,X_test,y_train,y_test=train_test_split(X,y,test_size=0.2)"
      ],
      "metadata": {
        "id": "zoOIgUvfpBt0"
      },
      "execution_count": null,
      "outputs": []
    },
    {
      "cell_type": "code",
      "source": [
        "scaler=StandardScaler()\n",
        "scaler.fit(X_train)\n",
        "X_train=scaler.transform(X_train)\n",
        "X_test=scaler.transform(X_test)"
      ],
      "metadata": {
        "id": "QPrPS8n1pZDl"
      },
      "execution_count": null,
      "outputs": []
    },
    {
      "cell_type": "code",
      "source": [
        "model=SVR(kernel='linear')\n",
        "model.fit(X_train,y_train)"
      ],
      "metadata": {
        "id": "8K8jEukKp1fL",
        "colab": {
          "base_uri": "https://localhost:8080/"
        },
        "outputId": "74734f6d-4b67-438a-8c3c-98f6e9e619bd"
      },
      "execution_count": null,
      "outputs": [
        {
          "output_type": "execute_result",
          "data": {
            "text/plain": [
              "SVR(kernel='linear')"
            ]
          },
          "metadata": {},
          "execution_count": 15
        }
      ]
    },
    {
      "cell_type": "code",
      "source": [
        "print(\"학습 데이터 점수:{}\".format(model.score(X_train, y_train)))\n",
        "print(\"평가 데이터 점수:{}\".format(model.score(X_test, y_test)))"
      ],
      "metadata": {
        "id": "VVmW6qiTqBI8",
        "colab": {
          "base_uri": "https://localhost:8080/"
        },
        "outputId": "675197f7-a946-42f9-a438-1e6dee9e8483"
      },
      "execution_count": null,
      "outputs": [
        {
          "output_type": "stream",
          "name": "stdout",
          "text": [
            "학습 데이터 점수:0.9487989849013245\n",
            "평가 데이터 점수:0.91997162040816\n"
          ]
        }
      ]
    },
    {
      "cell_type": "code",
      "source": [
        "X_comp=TSNE(n_components=1).fit_transform(X)\n",
        "import matplotlib.pyplot as plt\n",
        "plt.scatter(X_comp,y);"
      ],
      "metadata": {
        "id": "lvlKrddRrEAK",
        "colab": {
          "base_uri": "https://localhost:8080/",
          "height": 358
        },
        "outputId": "69a55824-ee09-468a-e4cb-904668955862"
      },
      "execution_count": null,
      "outputs": [
        {
          "output_type": "stream",
          "name": "stderr",
          "text": [
            "/usr/local/lib/python3.8/dist-packages/sklearn/manifold/_t_sne.py:780: FutureWarning: The default initialization in TSNE will change from 'random' to 'pca' in 1.2.\n",
            "  warnings.warn(\n",
            "/usr/local/lib/python3.8/dist-packages/sklearn/manifold/_t_sne.py:790: FutureWarning: The default learning rate in TSNE will change from 200.0 to 'auto' in 1.2.\n",
            "  warnings.warn(\n"
          ]
        },
        {
          "output_type": "display_data",
          "data": {
            "text/plain": [
              "<Figure size 432x288 with 1 Axes>"
            ],
            "image/png": "[encoded data removed]"
          },
          "metadata": {
            "needs_background": "light"
          }
        }
      ]
    },
    {
      "cell_type": "code",
      "source": [
        "model.fit(X_comp,y)\n",
        "predict=model.predict(X_comp)\n",
        "plt.scatter(X_comp,y)\n",
        "plt.scatter(X_comp,predict)\n"
      ],
      "metadata": {
        "id": "LA-_hIQNr53J",
        "colab": {
          "base_uri": "https://localhost:8080/",
          "height": 283
        },
        "outputId": "a4cbc394-2a24-45f1-c914-9389a163b47e"
      },
      "execution_count": null,
      "outputs": [
        {
          "output_type": "execute_result",
          "data": {
            "text/plain": [
              "<matplotlib.collections.PathCollection at 0x7fb4614719a0>"
            ]
          },
          "metadata": {},
          "execution_count": 19
        },
        {
          "output_type": "display_data",
          "data": {
            "text/plain": [
              "<Figure size 432x288 with 1 Axes>"
            ],
            "image/png": "[encoded data removed]"
          },
          "metadata": {
            "needs_background": "light"
          }
        }
      ]
    },
    {
      "cell_type": "code",
      "source": [
        "estimator=make_pipeline(StandardScaler(), SVR(kernel='linear'))\n",
        "cross_validate(\n",
        "    estimator=estimator,\n",
        "    X=X, y=y,\n",
        "    cv=5,\n",
        "    n_jobs=multiprocessing.cpu_count(),\n",
        "    verbose=True\n",
        ")"
      ],
      "metadata": {
        "id": "WPLjeMfjriZw",
        "colab": {
          "base_uri": "https://localhost:8080/"
        },
        "outputId": "ae7744f5-a60b-4a8c-9ccd-e1f34ca09987"
      },
      "execution_count": null,
      "outputs": [
        {
          "output_type": "stream",
          "name": "stderr",
          "text": [
            "[Parallel(n_jobs=2)]: Using backend LokyBackend with 2 concurrent workers.\n",
            "[Parallel(n_jobs=2)]: Done   5 out of   5 | elapsed:    7.9s finished\n"
          ]
        },
        {
          "output_type": "execute_result",
          "data": {
            "text/plain": [
              "{'fit_time': array([2.64075994, 2.56744766, 2.61826396, 3.73437762, 1.40963888]),\n",
              " 'score_time': array([0.02303648, 0.02224994, 0.04854202, 0.0141573 , 0.01065993]),\n",
              " 'test_score': array([  0.46218678,   0.879314  ,   0.91794313,   0.91369283,\n",
              "        -14.3034247 ])}"
            ]
          },
          "metadata": {},
          "execution_count": 22
        }
      ]
    },
    {
      "cell_type": "code",
      "source": [
        "pipe=Pipeline([('scaler',StandardScaler()),\n",
        "               ('model', SVR(kernel='linear'))])\n",
        "param_grid=[{'model__gamma':['scale','auto'],\n",
        "              'model__C':[1.0, 0.1, 0.01],\n",
        "              'model__epsilon':[1.0, 0.1, 0.01]}]\n",
        "gs=GridSearchCV(\n",
        "    estimator=pipe,\n",
        "    param_grid = param_grid,\n",
        "    n_jobs=multiprocessing.cpu_count(),\n",
        "    cv=5,\n",
        "    verbose=True\n",
        ")\n",
        "\n"
      ],
      "metadata": {
        "id": "DCee17JJiOe9"
      },
      "execution_count": null,
      "outputs": []
    },
    {
      "cell_type": "code",
      "source": [
        "gs.fit(X,y)"
      ],
      "metadata": {
        "id": "eXCQnArGw8NV",
        "colab": {
          "base_uri": "https://localhost:8080/"
        },
        "outputId": "faefe65a-af85-47c3-fb46-752cc8b782d4"
      },
      "execution_count": null,
      "outputs": [
        {
          "output_type": "stream",
          "name": "stdout",
          "text": [
            "Fitting 5 folds for each of 18 candidates, totalling 90 fits\n"
          ]
        },
        {
          "output_type": "execute_result",
          "data": {
            "text/plain": [
              "GridSearchCV(cv=5,\n",
              "             estimator=Pipeline(steps=[('scaler', StandardScaler()),\n",
              "                                       ('model', SVR(kernel='linear'))]),\n",
              "             n_jobs=2,\n",
              "             param_grid=[{'model__C': [1.0, 0.1, 0.01],\n",
              "                          'model__epsilon': [1.0, 0.1, 0.01],\n",
              "                          'model__gamma': ['scale', 'auto']}],\n",
              "             verbose=True)"
            ]
          },
          "metadata": {},
          "execution_count": 24
        }
      ]
    },
    {
      "cell_type": "code",
      "source": [
        "gs.best_estimator_"
      ],
      "metadata": {
        "id": "m4yebLmcw-ta",
        "colab": {
          "base_uri": "https://localhost:8080/"
        },
        "outputId": "5452bbcd-e300-4767-bb1d-9968d8cbc9e4"
      },
      "execution_count": null,
      "outputs": [
        {
          "output_type": "execute_result",
          "data": {
            "text/plain": [
              "Pipeline(steps=[('scaler', StandardScaler()),\n",
              "                ('model', SVR(C=0.01, epsilon=1.0, kernel='linear'))])"
            ]
          },
          "metadata": {},
          "execution_count": 25
        }
      ]
    },
    {
      "cell_type": "code",
      "source": [
        "model=gs.best_estimator_\n",
        "model.fit(X_train, y_train)"
      ],
      "metadata": {
        "colab": {
          "base_uri": "https://localhost:8080/"
        },
        "id": "mF6V0XkM2ETf",
        "outputId": "d4bb87f1-fbee-44d3-beb1-1844eb9131e4"
      },
      "execution_count": null,
      "outputs": [
        {
          "output_type": "execute_result",
          "data": {
            "text/plain": [
              "Pipeline(steps=[('scaler', StandardScaler()),\n",
              "                ('model', SVR(C=0.01, epsilon=1.0, kernel='linear'))])"
            ]
          },
          "metadata": {},
          "execution_count": 26
        }
      ]
    },
    {
      "cell_type": "code",
      "source": [
        "print(\"학습 데이터 점수:{}\".format(model.score(X_train, y_train)))\n",
        "print(\"평가 데이터 점수:{}\".format(model.score(X_test, y_test)))"
      ],
      "metadata": {
        "colab": {
          "base_uri": "https://localhost:8080/"
        },
        "id": "aznhTZUB2ORA",
        "outputId": "3bd17f38-4849-4bd5-98e5-6147eae717ca"
      },
      "execution_count": null,
      "outputs": [
        {
          "output_type": "stream",
          "name": "stdout",
          "text": [
            "학습 데이터 점수:0.6523379101307836\n",
            "평가 데이터 점수:0.5823663057595562\n"
          ]
        }
      ]
    },
    {
      "cell_type": "code",
      "source": [
        "# no start------------------------------"
      ],
      "metadata": {
        "id": "nM6rQ9qn2S-F"
      },
      "execution_count": null,
      "outputs": []
    },
    {
      "cell_type": "markdown",
      "source": [
        "#당뇨병"
      ],
      "metadata": {
        "id": "-qAIvw75zOya"
      }
    },
    {
      "cell_type": "code",
      "source": [
        "X,y=load_diabetes(return_X_y=True)\n",
        "X_train,X_test,y_train,y_test=train_test_split(X,y,test_size=0.2)"
      ],
      "metadata": {
        "id": "TX68MLRBzj4B"
      },
      "execution_count": null,
      "outputs": []
    },
    {
      "cell_type": "code",
      "source": [
        "scaler=StandardScaler()\n",
        "scaler.fit(X_train)\n",
        "X_train=scaler.transform(X_train)\n",
        "X_test=scaler.transform(X_test)"
      ],
      "metadata": {
        "id": "baH1zwuezj4H"
      },
      "execution_count": null,
      "outputs": []
    },
    {
      "cell_type": "code",
      "source": [
        "model=SVR(kernel='linear')\n",
        "model.fit(X_train,y_train)"
      ],
      "metadata": {
        "id": "wenS-vJZzj4H"
      },
      "execution_count": null,
      "outputs": []
    },
    {
      "cell_type": "code",
      "source": [
        "print(\"학습 데이터 점수:{}\".format(model.score(X_train, y_train)))\n",
        "print(\"평가 데이터 점수:{}\".format(model.score(X_test, y_test)))"
      ],
      "metadata": {
        "id": "GdBe2FAZzj4H"
      },
      "execution_count": null,
      "outputs": []
    },
    {
      "cell_type": "code",
      "source": [
        "X_comp=TSNE(n_components=1).fit_transform(X)\n",
        "plt.scatter(X_comp,y);"
      ],
      "metadata": {
        "id": "ldS0Ro2jzj4I"
      },
      "execution_count": null,
      "outputs": []
    },
    {
      "cell_type": "code",
      "source": [
        "model.fit(X_comp,y)\n",
        "predict=model.predict(X_comp)\n",
        "plt.scatter(X_comp,y)\n",
        "plt.scatter(X_comp,predict)\n"
      ],
      "metadata": {
        "id": "uVJPEJGBzj4I"
      },
      "execution_count": null,
      "outputs": []
    },
    {
      "cell_type": "code",
      "source": [
        "estimator=make_pipeline(StandardScaler(), SVR(kernel='linear'))\n",
        "cross_validate(\n",
        "    estimator=estimator,\n",
        "    X=X, y=y,\n",
        "    cv=5,\n",
        "    n_jobs=multiprocessing.cpu_count(),\n",
        "    verbose=True\n",
        ")"
      ],
      "metadata": {
        "id": "edC5C3mEzj4I"
      },
      "execution_count": null,
      "outputs": []
    },
    {
      "cell_type": "code",
      "source": [
        "pipe=Pipeline([('scaler',StandardScaler()),\n",
        "               ('model', SVR(kernel='linear'))])\n",
        "param_grid=[{'model__gamma':['scale','auto'],\n",
        "              'model__C':[1.0, 0.1, 0.01],\n",
        "              'model__epsilon':[1.0, 0.1, 0.01]}]\n",
        "gs=GridSearchCV(\n",
        "    estimator=pipe,\n",
        "    param_grid = param_grid,\n",
        "    n_jobs=multiprocessing.cpu_count(),\n",
        "    cv=5,\n",
        "    verbose=True\n",
        ")\n",
        "\n"
      ],
      "metadata": {
        "id": "l3Zs0XcKzj4I"
      },
      "execution_count": null,
      "outputs": []
    },
    {
      "cell_type": "code",
      "source": [
        "gs.fit(X,y)"
      ],
      "metadata": {
        "id": "48AaGDiQzj4I"
      },
      "execution_count": null,
      "outputs": []
    },
    {
      "cell_type": "code",
      "source": [
        "gs.best_estimator_"
      ],
      "metadata": {
        "id": "lO2tXerczj4I"
      },
      "execution_count": null,
      "outputs": []
    },
    {
      "cell_type": "markdown",
      "source": [
        "#당뇨병\n"
      ],
      "metadata": {
        "id": "c-nPSFMy0oXK"
      }
    },
    {
      "cell_type": "code",
      "source": [
        "#no end ------------------------"
      ],
      "metadata": {
        "id": "TKG76Aw42fMl"
      },
      "execution_count": null,
      "outputs": []
    },
    {
      "cell_type": "code",
      "source": [
        "#X,y=load_diabetes(return_X_y=True)\n",
        "X_train,X_test,y_train,y_test=train_test_split(X,y,test_size=0.2)"
      ],
      "metadata": {
        "id": "Cdb3tb8H055L"
      },
      "execution_count": null,
      "outputs": []
    },
    {
      "cell_type": "code",
      "source": [
        "scaler=StandardScaler()\n",
        "scaler.fit(X_train)\n",
        "X_train=scaler.transform(X_train)\n",
        "X_test=scaler.transform(X_test)"
      ],
      "metadata": {
        "id": "q_rXdC-v055M"
      },
      "execution_count": null,
      "outputs": []
    },
    {
      "cell_type": "code",
      "source": [
        "model=SVR(kernel='rbf')\n",
        "model.fit(X_train,y_train)"
      ],
      "metadata": {
        "id": "umZH2l9k055M",
        "colab": {
          "base_uri": "https://localhost:8080/"
        },
        "outputId": "d3189509-59df-46b0-b987-3ea6c3236858"
      },
      "execution_count": null,
      "outputs": [
        {
          "output_type": "execute_result",
          "data": {
            "text/plain": [
              "SVR()"
            ]
          },
          "metadata": {},
          "execution_count": 30
        }
      ]
    },
    {
      "cell_type": "code",
      "source": [
        "print(\"학습 데이터 점수:{}\".format(model.score(X_train, y_train)))\n",
        "print(\"평가 데이터 점수:{}\".format(model.score(X_test, y_test)))"
      ],
      "metadata": {
        "id": "xWvibKiL055M",
        "colab": {
          "base_uri": "https://localhost:8080/"
        },
        "outputId": "3a3a23ec-45dd-4e57-a869-d1ba6fd5f8b2"
      },
      "execution_count": null,
      "outputs": [
        {
          "output_type": "stream",
          "name": "stdout",
          "text": [
            "학습 데이터 점수:0.2936224439043682\n",
            "평가 데이터 점수:0.2814792090711109\n"
          ]
        }
      ]
    },
    {
      "cell_type": "code",
      "source": [
        "X_comp=TSNE(n_components=1).fit_transform(X)\n",
        "plt.scatter(X_comp,y);"
      ],
      "metadata": {
        "id": "3jz_KMge055M",
        "colab": {
          "base_uri": "https://localhost:8080/",
          "height": 355
        },
        "outputId": "9535ae4a-7255-4f37-c48d-76ad88fdd031"
      },
      "execution_count": null,
      "outputs": [
        {
          "output_type": "stream",
          "name": "stderr",
          "text": [
            "/usr/local/lib/python3.8/dist-packages/sklearn/manifold/_t_sne.py:780: FutureWarning: The default initialization in TSNE will change from 'random' to 'pca' in 1.2.\n",
            "  warnings.warn(\n",
            "/usr/local/lib/python3.8/dist-packages/sklearn/manifold/_t_sne.py:790: FutureWarning: The default learning rate in TSNE will change from 200.0 to 'auto' in 1.2.\n",
            "  warnings.warn(\n"
          ]
        },
        {
          "output_type": "display_data",
          "data": {
            "text/plain": [
              "<Figure size 432x288 with 1 Axes>"
            ],
            "image/png": "[encoded data removed]"
          },
          "metadata": {}
        }
      ]
    },
    {
      "cell_type": "code",
      "source": [
        "model.fit(X_comp,y)\n",
        "predict=model.predict(X_comp)\n",
        "plt.scatter(X_comp,y)\n",
        "plt.scatter(X_comp,predict)\n"
      ],
      "metadata": {
        "id": "iaHNRoHT055M",
        "colab": {
          "base_uri": "https://localhost:8080/",
          "height": 280
        },
        "outputId": "9a10ff9d-273d-4b81-9b01-aa4303c7373c"
      },
      "execution_count": null,
      "outputs": [
        {
          "output_type": "execute_result",
          "data": {
            "text/plain": [
              "<matplotlib.collections.PathCollection at 0x7fb45ffa77f0>"
            ]
          },
          "metadata": {},
          "execution_count": 33
        },
        {
          "output_type": "display_data",
          "data": {
            "text/plain": [
              "<Figure size 432x288 with 1 Axes>"
            ],
            "image/png": "[encoded data removed]"
          },
          "metadata": {}
        }
      ]
    },
    {
      "cell_type": "code",
      "source": [
        "estimator=make_pipeline(StandardScaler(), SVR(kernel='rbf'))\n",
        "cross_validate(\n",
        "    estimator=estimator,\n",
        "    X=X, y=y,\n",
        "    cv=5,\n",
        "    n_jobs=multiprocessing.cpu_count(),\n",
        "    verbose=True\n",
        ")"
      ],
      "metadata": {
        "id": "OKWqahRi055M",
        "colab": {
          "base_uri": "https://localhost:8080/"
        },
        "outputId": "1d3add2f-08e6-4746-a21c-dadf9e571904"
      },
      "execution_count": null,
      "outputs": [
        {
          "output_type": "stream",
          "name": "stderr",
          "text": [
            "[Parallel(n_jobs=2)]: Using backend LokyBackend with 2 concurrent workers.\n",
            "[Parallel(n_jobs=2)]: Done   5 out of   5 | elapsed:    0.4s finished\n"
          ]
        },
        {
          "output_type": "execute_result",
          "data": {
            "text/plain": [
              "{'fit_time': array([0.10615492, 0.11666393, 0.09994841, 0.11162877, 0.06199884]),\n",
              " 'score_time': array([0.04698372, 0.03903961, 0.05120921, 0.04128766, 0.02304482]),\n",
              " 'test_score': array([-1.76611275e-01,  1.48032427e-03,  1.58547551e-01, -8.87295652e-04,\n",
              "        -1.19291320e+00])}"
            ]
          },
          "metadata": {},
          "execution_count": 34
        }
      ]
    },
    {
      "cell_type": "markdown",
      "source": [
        "#RBF, POlynomial, Sigmoid RBF--Best"
      ],
      "metadata": {
        "id": "p94y96tJ68M4"
      }
    },
    {
      "cell_type": "code",
      "source": [
        "pipe=Pipeline([('scaler',StandardScaler()),\n",
        "               ('model', SVR(kernel='rbf'))])\n",
        "param_grid=[{'model__kernel':['rbf','polynomial', 'sigmoid']}]\n",
        "        \n",
        "gs=GridSearchCV(\n",
        "    estimator=pipe,\n",
        "    param_grid = param_grid,\n",
        "    n_jobs=multiprocessing.cpu_count(),\n",
        "    cv=5,\n",
        "    verbose=True\n",
        ")\n",
        "\n"
      ],
      "metadata": {
        "id": "15nYjm50055M"
      },
      "execution_count": null,
      "outputs": []
    },
    {
      "cell_type": "code",
      "source": [
        "gs.fit(X,y)"
      ],
      "metadata": {
        "id": "e34bB6GI055N",
        "colab": {
          "base_uri": "https://localhost:8080/"
        },
        "outputId": "93e2bfdd-b287-4082-a2c9-3b6c9ed825a9"
      },
      "execution_count": null,
      "outputs": [
        {
          "output_type": "stream",
          "name": "stdout",
          "text": [
            "Fitting 5 folds for each of 3 candidates, totalling 15 fits\n"
          ]
        },
        {
          "output_type": "stream",
          "name": "stderr",
          "text": [
            "/usr/local/lib/python3.8/dist-packages/sklearn/model_selection/_validation.py:372: FitFailedWarning: \n",
            "5 fits failed out of a total of 15.\n",
            "The score on these train-test partitions for these parameters will be set to nan.\n",
            "If these failures are not expected, you can try to debug them by setting error_score='raise'.\n",
            "\n",
            "Below are more details about the failures:\n",
            "--------------------------------------------------------------------------------\n",
            "5 fits failed with the following error:\n",
            "Traceback (most recent call last):\n",
            "  File \"/usr/local/lib/python3.8/dist-packages/sklearn/model_selection/_validation.py\", line 680, in _fit_and_score\n",
            "    estimator.fit(X_train, y_train, **fit_params)\n",
            "  File \"/usr/local/lib/python3.8/dist-packages/sklearn/pipeline.py\", line 394, in fit\n",
            "    self._final_estimator.fit(Xt, y, **fit_params_last_step)\n",
            "  File \"/usr/local/lib/python3.8/dist-packages/sklearn/svm/_base.py\", line 255, in fit\n",
            "    fit(X, y, sample_weight, solver_type, kernel, random_seed=seed)\n",
            "  File \"/usr/local/lib/python3.8/dist-packages/sklearn/svm/_base.py\", line 315, in _dense_fit\n",
            "    ) = libsvm.fit(\n",
            "  File \"sklearn/svm/_libsvm.pyx\", line 173, in sklearn.svm._libsvm.fit\n",
            "ValueError: 'polynomial' is not in list\n",
            "\n",
            "  warnings.warn(some_fits_failed_message, FitFailedWarning)\n",
            "/usr/local/lib/python3.8/dist-packages/sklearn/model_selection/_search.py:969: UserWarning: One or more of the test scores are non-finite: [-0.24207678         nan -3.6900808 ]\n",
            "  warnings.warn(\n"
          ]
        },
        {
          "output_type": "execute_result",
          "data": {
            "text/plain": [
              "GridSearchCV(cv=5,\n",
              "             estimator=Pipeline(steps=[('scaler', StandardScaler()),\n",
              "                                       ('model', SVR())]),\n",
              "             n_jobs=2,\n",
              "             param_grid=[{'model__kernel': ['rbf', 'polynomial', 'sigmoid']}],\n",
              "             verbose=True)"
            ]
          },
          "metadata": {},
          "execution_count": 36
        }
      ]
    },
    {
      "cell_type": "code",
      "source": [
        "gs.best_estimator_"
      ],
      "metadata": {
        "id": "9X-iMxLe055N",
        "colab": {
          "base_uri": "https://localhost:8080/"
        },
        "outputId": "2df747ff-c3cf-406b-c392-ad42d5b54c2f"
      },
      "execution_count": null,
      "outputs": [
        {
          "output_type": "execute_result",
          "data": {
            "text/plain": [
              "Pipeline(steps=[('scaler', StandardScaler()), ('model', SVR())])"
            ]
          },
          "metadata": {},
          "execution_count": 38
        }
      ]
    },
    {
      "cell_type": "code",
      "source": [
        "model=gs.best_estimator_\n",
        "model.fit(X_train, y_train)"
      ],
      "metadata": {
        "colab": {
          "base_uri": "https://localhost:8080/"
        },
        "id": "dJG5BbUa3EE4",
        "outputId": "70d06bba-92c2-4c3d-dd7e-2ba1482c51be"
      },
      "execution_count": null,
      "outputs": [
        {
          "output_type": "execute_result",
          "data": {
            "text/plain": [
              "Pipeline(steps=[('scaler', StandardScaler()), ('model', SVR())])"
            ]
          },
          "metadata": {},
          "execution_count": 39
        }
      ]
    },
    {
      "cell_type": "code",
      "source": [
        "print(\"학습 데이터 점수:{}\".format(model.score(X_train, y_train)))\n",
        "print(\"평가 데이터 점수:{}\".format(model.score(X_test, y_test)))"
      ],
      "metadata": {
        "colab": {
          "base_uri": "https://localhost:8080/"
        },
        "id": "gw9lHAc43FPR",
        "outputId": "59934075-bc8e-4bf9-b118-b24bd2e0b70b"
      },
      "execution_count": null,
      "outputs": [
        {
          "output_type": "stream",
          "name": "stdout",
          "text": [
            "학습 데이터 점수:0.2936224439043682\n",
            "평가 데이터 점수:0.2814792090711108\n"
          ]
        }
      ]
    },
    {
      "cell_type": "markdown",
      "source": [
        "#RBF"
      ],
      "metadata": {
        "id": "M_coNyE14-WV"
      }
    },
    {
      "cell_type": "code",
      "source": [
        "pipe=Pipeline([('scaler',StandardScaler()),\n",
        "               ('model', SVR(kernel='rbf'))])\n",
        "param_grid=[{'model__gamma':['scale','auto'],\n",
        "             'model__C':[1.0, 0.1,0.01],\n",
        "             'model__epsilon':[1.0, 0.1, 0.01]}]\n",
        "        \n",
        "gs=GridSearchCV(\n",
        "    estimator=pipe,\n",
        "    param_grid = param_grid,\n",
        "    n_jobs=multiprocessing.cpu_count(),\n",
        "    cv=5,\n",
        "    verbose=True\n",
        ")\n",
        "\n"
      ],
      "metadata": {
        "id": "Ehqjb51S5B9h"
      },
      "execution_count": null,
      "outputs": []
    },
    {
      "cell_type": "code",
      "source": [
        "pipe=Pipeline([('scaler',StandardScaler()),\n",
        "               ('model', SVR(kernel='rbf'))])\n",
        "param_grid=[{'model__gamma':['scale','auto'],\n",
        "             'model__C':[1.0, 0.1,0.01],\n",
        "             'model__epsilon':[1.0, 0.1, 0.01]}]\n",
        "        \n",
        "gs=GridSearchCV(\n",
        "    estimator=pipe,\n",
        "    param_grid = param_grid,\n",
        "    n_jobs=multiprocessing.cpu_count(),\n",
        "    cv=5,\n",
        "    verbose=True\n",
        ")\n",
        "gs.fit(X,y)"
      ],
      "metadata": {
        "colab": {
          "base_uri": "https://localhost:8080/"
        },
        "id": "cHdo-hc45HA-",
        "outputId": "9733efc9-5b5f-4325-ac7a-3edf1c8ac2f9"
      },
      "execution_count": null,
      "outputs": [
        {
          "output_type": "stream",
          "name": "stdout",
          "text": [
            "Fitting 5 folds for each of 18 candidates, totalling 90 fits\n"
          ]
        },
        {
          "output_type": "execute_result",
          "data": {
            "text/plain": [
              "GridSearchCV(cv=5,\n",
              "             estimator=Pipeline(steps=[('scaler', StandardScaler()),\n",
              "                                       ('model', SVR())]),\n",
              "             n_jobs=2,\n",
              "             param_grid=[{'model__C': [1.0, 0.1, 0.01],\n",
              "                          'model__epsilon': [1.0, 0.1, 0.01],\n",
              "                          'model__gamma': ['scale', 'auto']}],\n",
              "             verbose=True)"
            ]
          },
          "metadata": {},
          "execution_count": 47
        }
      ]
    },
    {
      "cell_type": "code",
      "source": [
        "gs.best_estimator_"
      ],
      "metadata": {
        "colab": {
          "base_uri": "https://localhost:8080/"
        },
        "id": "Uv_mozjt5WqI",
        "outputId": "087fdd83-dd0e-4efa-90c0-cafea21d22d7"
      },
      "execution_count": null,
      "outputs": [
        {
          "output_type": "execute_result",
          "data": {
            "text/plain": [
              "Pipeline(steps=[('scaler', StandardScaler()), ('model', SVR(gamma='auto'))])"
            ]
          },
          "metadata": {},
          "execution_count": 48
        }
      ]
    },
    {
      "cell_type": "code",
      "source": [
        "model=gs.best_estimator_\n",
        "model.fit(X_train, y_train)"
      ],
      "metadata": {
        "colab": {
          "base_uri": "https://localhost:8080/"
        },
        "id": "CtLsey6i5bHe",
        "outputId": "b92d0348-01f7-405b-c1f5-756e3254e281"
      },
      "execution_count": null,
      "outputs": [
        {
          "output_type": "execute_result",
          "data": {
            "text/plain": [
              "Pipeline(steps=[('scaler', StandardScaler()), ('model', SVR(gamma='auto'))])"
            ]
          },
          "metadata": {},
          "execution_count": 49
        }
      ]
    },
    {
      "cell_type": "code",
      "source": [
        "print(\"학습 데이터 점수:{}\".format(model.score(X_train, y_train)))\n",
        "print(\"평가 데이터 점수:{}\".format(model.score(X_test, y_test)))"
      ],
      "metadata": {
        "colab": {
          "base_uri": "https://localhost:8080/"
        },
        "id": "53cnSgf15hPA",
        "outputId": "1520ba93-4839-4d22-a781-295423328ee5"
      },
      "execution_count": null,
      "outputs": [
        {
          "output_type": "stream",
          "name": "stdout",
          "text": [
            "학습 데이터 점수:0.2936224439043682\n",
            "평가 데이터 점수:0.2814792090711107\n"
          ]
        }
      ]
    },
    {
      "cell_type": "markdown",
      "source": [
        "#sigmoid"
      ],
      "metadata": {
        "id": "nzQmQgHJ5ncR"
      }
    },
    {
      "cell_type": "code",
      "source": [
        "pipe=Pipeline([('scaler',StandardScaler()),\n",
        "               ('model', SVR(kernel='sigmoid'))])\n",
        "param_grid=[{'model__gamma':['scale','auto'],\n",
        "             'model__C':[1.0, 0.1,0.01],\n",
        "             'model__epsilon':[1.0, 0.1, 0.01]}]\n",
        "        \n",
        "gs=GridSearchCV(\n",
        "    estimator=pipe,\n",
        "    param_grid = param_grid,\n",
        "    n_jobs=multiprocessing.cpu_count(),\n",
        "    cv=5,\n",
        "    verbose=True\n",
        ")\n",
        "\n"
      ],
      "metadata": {
        "id": "zvmgEtrU3RwR"
      },
      "execution_count": null,
      "outputs": []
    },
    {
      "cell_type": "code",
      "source": [
        "gs.fit(X,y)"
      ],
      "metadata": {
        "id": "9aSg6WLr3RwR",
        "colab": {
          "base_uri": "https://localhost:8080/"
        },
        "outputId": "4fa5d6e1-c66a-4d4f-e443-9f3b198c50e4"
      },
      "execution_count": null,
      "outputs": [
        {
          "output_type": "stream",
          "name": "stdout",
          "text": [
            "Fitting 5 folds for each of 18 candidates, totalling 90 fits\n"
          ]
        },
        {
          "output_type": "execute_result",
          "data": {
            "text/plain": [
              "GridSearchCV(cv=5,\n",
              "             estimator=Pipeline(steps=[('scaler', StandardScaler()),\n",
              "                                       ('model', SVR(kernel='sigmoid'))]),\n",
              "             n_jobs=2,\n",
              "             param_grid=[{'model__C': [1.0, 0.1, 0.01],\n",
              "                          'model__epsilon': [1.0, 0.1, 0.01],\n",
              "                          'model__gamma': ['scale', 'auto']}],\n",
              "             verbose=True)"
            ]
          },
          "metadata": {},
          "execution_count": 42
        }
      ]
    },
    {
      "cell_type": "code",
      "source": [
        "gs.best_estimator_"
      ],
      "metadata": {
        "id": "fnBJIGx93RwS",
        "colab": {
          "base_uri": "https://localhost:8080/"
        },
        "outputId": "d6cb1391-db14-4246-a1aa-f77f9f416c4d"
      },
      "execution_count": null,
      "outputs": [
        {
          "output_type": "execute_result",
          "data": {
            "text/plain": [
              "Pipeline(steps=[('scaler', StandardScaler()),\n",
              "                ('model', SVR(C=0.01, epsilon=0.01, kernel='sigmoid'))])"
            ]
          },
          "metadata": {},
          "execution_count": 43
        }
      ]
    },
    {
      "cell_type": "code",
      "source": [
        "model=gs.best_estimator_\n",
        "model.fit(X_train, y_train)"
      ],
      "metadata": {
        "id": "eIIA6sH-7OWJ",
        "colab": {
          "base_uri": "https://localhost:8080/"
        },
        "outputId": "9fad61ad-da7f-41f8-b5ae-67a682944bd2"
      },
      "execution_count": null,
      "outputs": [
        {
          "output_type": "execute_result",
          "data": {
            "text/plain": [
              "Pipeline(steps=[('scaler', StandardScaler()),\n",
              "                ('model', SVR(C=0.01, epsilon=0.01, kernel='sigmoid'))])"
            ]
          },
          "metadata": {},
          "execution_count": 44
        }
      ]
    },
    {
      "cell_type": "code",
      "source": [
        "print(\"학습 데이터 점수:{}\".format(model.score(X_train, y_train)))\n",
        "print(\"평가 데이터 점수:{}\".format(model.score(X_test, y_test)))"
      ],
      "metadata": {
        "id": "sdwoUQcX7Otf",
        "colab": {
          "base_uri": "https://localhost:8080/"
        },
        "outputId": "23c1bb6e-af6c-4bc2-8228-f909af9e9090"
      },
      "execution_count": null,
      "outputs": [
        {
          "output_type": "stream",
          "name": "stdout",
          "text": [
            "학습 데이터 점수:0.006912430734044572\n",
            "평가 데이터 점수:-0.007994401771863169\n"
          ]
        }
      ]
    },
    {
      "cell_type": "markdown",
      "source": [
        "#Polynomial"
      ],
      "metadata": {
        "id": "55Np9v_86Fp6"
      }
    },
    {
      "cell_type": "code",
      "source": [
        "pipe=Pipeline([('scaler',StandardScaler()),\n",
        "               ('model', SVR(kernel='sigmoid'))])\n",
        "param_grid=[{'model__gamma':['scale','auto'],\n",
        "             'model__C':[1.0, 0.1,0.01],\n",
        "             'model__epsilon':[1.0, 0.1, 0.01]}]\n",
        "        \n",
        "gs=GridSearchCV(\n",
        "    estimator=pipe,\n",
        "    param_grid = param_grid,\n",
        "    n_jobs=multiprocessing.cpu_count(),\n",
        "    cv=5,\n",
        "    verbose=True\n",
        ")\n",
        "gs.fit(X,y)"
      ],
      "metadata": {
        "colab": {
          "base_uri": "https://localhost:8080/"
        },
        "id": "YgBe_dy26E3S",
        "outputId": "0c9303b6-bf4a-4c05-b867-f923d41be759"
      },
      "execution_count": null,
      "outputs": [
        {
          "output_type": "stream",
          "name": "stdout",
          "text": [
            "Fitting 5 folds for each of 18 candidates, totalling 90 fits\n"
          ]
        },
        {
          "output_type": "execute_result",
          "data": {
            "text/plain": [
              "GridSearchCV(cv=5,\n",
              "             estimator=Pipeline(steps=[('scaler', StandardScaler()),\n",
              "                                       ('model', SVR(kernel='sigmoid'))]),\n",
              "             n_jobs=2,\n",
              "             param_grid=[{'model__C': [1.0, 0.1, 0.01],\n",
              "                          'model__epsilon': [1.0, 0.1, 0.01],\n",
              "                          'model__gamma': ['scale', 'auto']}],\n",
              "             verbose=True)"
            ]
          },
          "metadata": {},
          "execution_count": 51
        }
      ]
    },
    {
      "cell_type": "code",
      "source": [
        "gs.best_estimator_"
      ],
      "metadata": {
        "colab": {
          "base_uri": "https://localhost:8080/"
        },
        "id": "-EqAx6HI6RvO",
        "outputId": "44a53fa2-b182-4b15-fae6-fbacd5a4f2ef"
      },
      "execution_count": null,
      "outputs": [
        {
          "output_type": "execute_result",
          "data": {
            "text/plain": [
              "Pipeline(steps=[('scaler', StandardScaler()),\n",
              "                ('model', SVR(C=0.01, epsilon=0.01, kernel='sigmoid'))])"
            ]
          },
          "metadata": {},
          "execution_count": 52
        }
      ]
    },
    {
      "cell_type": "code",
      "source": [
        "model=gs.best_estimator_\n",
        "model.fit(X_train, y_train)"
      ],
      "metadata": {
        "colab": {
          "base_uri": "https://localhost:8080/"
        },
        "id": "m67ggUW86cuw",
        "outputId": "a2291db3-4f76-4a3b-c452-dd32b737db2b"
      },
      "execution_count": null,
      "outputs": [
        {
          "output_type": "execute_result",
          "data": {
            "text/plain": [
              "Pipeline(steps=[('scaler', StandardScaler()),\n",
              "                ('model', SVR(C=0.01, epsilon=0.01, kernel='sigmoid'))])"
            ]
          },
          "metadata": {},
          "execution_count": 53
        }
      ]
    },
    {
      "cell_type": "code",
      "source": [
        "print(\"학습 데이터 점수:{}\".format(model.score(X_train, y_train)))\n",
        "print(\"평가 데이터 점수:{}\".format(model.score(X_test, y_test)))"
      ],
      "metadata": {
        "colab": {
          "base_uri": "https://localhost:8080/"
        },
        "id": "vghpADHt6erS",
        "outputId": "921d96b3-a48c-47cc-8f0a-036815503a3a"
      },
      "execution_count": null,
      "outputs": [
        {
          "output_type": "stream",
          "name": "stdout",
          "text": [
            "학습 데이터 점수:0.006912430734044572\n",
            "평가 데이터 점수:-0.007994401771863169\n"
          ]
        }
      ]
    },
    {
      "cell_type": "code",
      "source": [
        "#no start---------------------------------------"
      ],
      "metadata": {
        "id": "TF6r7ZZg30gi"
      },
      "execution_count": null,
      "outputs": []
    },
    {
      "cell_type": "markdown",
      "source": [
        "# 이후는 분류기 문제임 \n",
        "#linear SVC\n",
        "#유방암 "
      ],
      "metadata": {
        "id": "znnqPBxL055N"
      }
    },
    {
      "cell_type": "code",
      "source": [
        "X,y=load_breast_cancer(return_X_y=True)\n",
        "X_train,X_test,y_train,y_test=train_test_split(X,y,test_size=0.2)"
      ],
      "metadata": {
        "id": "hzuxgQrR8Q5c"
      },
      "execution_count": null,
      "outputs": []
    },
    {
      "cell_type": "code",
      "source": [
        "scaler=StandardScaler()\n",
        "scaler.fit(X_train)\n",
        "X_train=scaler.transform(X_train)\n",
        "X_test=scaler.transform(X_test)"
      ],
      "metadata": {
        "id": "72f2yUfm8Q5d"
      },
      "execution_count": null,
      "outputs": []
    },
    {
      "cell_type": "code",
      "source": [
        "model=SVC(kernel='linear')\n",
        "model.fit(X_train,y_train)"
      ],
      "metadata": {
        "id": "lXo2ihSs8Q5d"
      },
      "execution_count": null,
      "outputs": []
    },
    {
      "cell_type": "code",
      "source": [
        "print(\"학습 데이터 점수:{}\".format(model.score(X_train, y_train)))\n",
        "print(\"평가 데이터 점수:{}\".format(model.score(X_test, y_test)))"
      ],
      "metadata": {
        "id": "BN60KBi-8Q5d"
      },
      "execution_count": null,
      "outputs": []
    },
    {
      "cell_type": "code",
      "source": [
        "import numpy as np\n",
        "def make_meshgrid(x,y,h=.02):\n",
        "    x_min,x_max=x.min()-1,x.max()+1\n",
        "    y_min,y_max=y.min()-1,y.max()+1\n",
        "    xx,yy = np.meshgrid(np.arange(x_min,x_max,h),\n",
        "                        np.arange(y_min,y_max,h))\n",
        "    return xx, yy"
      ],
      "metadata": {
        "id": "WzaBMxOo8wg9"
      },
      "execution_count": null,
      "outputs": []
    },
    {
      "cell_type": "code",
      "source": [
        "def plot_contours(clf,xx,yy,**params):\n",
        "    Z=clf.predict(np.c_[xx.ravel(),yy.ravel()])\n",
        "    Z=Z.reshape(xx.shape)\n",
        "    out=plt.contourf(xx,yy,Z,**params)\n",
        "\n",
        "    return out"
      ],
      "metadata": {
        "id": "1sc7kBtx9jjy"
      },
      "execution_count": null,
      "outputs": []
    },
    {
      "cell_type": "code",
      "source": [
        "X_comp=TSNE(n_components=2).fit_transform(X)\n",
        "X0,X1=X_comp[:,0],X_comp[:,1]\n",
        "xx,yy=make_meshgrid(X0,X1)"
      ],
      "metadata": {
        "id": "8-qQx3j28Q5d"
      },
      "execution_count": null,
      "outputs": []
    },
    {
      "cell_type": "code",
      "source": [
        "model.fit(X_comp,y)\n",
        "plot_contours(model, xx, yy, cmap=plt.cm.coolwarm, alpha=0.7)\n",
        "plt.scatter(X0,X1,c=y, cmap=plt.cm.coolwarm,s=20,edgecolors='k');\n"
      ],
      "metadata": {
        "id": "hzsByU_v8Q5d"
      },
      "execution_count": null,
      "outputs": []
    },
    {
      "cell_type": "code",
      "source": [
        "estimator=make_pipeline(StandardScaler(), SVC(kernel='linear'))\n",
        "cross_validate(\n",
        "    estimator=estimator,\n",
        "    X=X, y=y,\n",
        "    cv=5,\n",
        "    n_jobs=multiprocessing.cpu_count(),\n",
        "    verbose=True\n",
        ")"
      ],
      "metadata": {
        "id": "AKqerbKl8Q5d"
      },
      "execution_count": null,
      "outputs": []
    },
    {
      "cell_type": "code",
      "source": [
        "pipe=Pipeline([('scaler',StandardScaler()),\n",
        "               ('model', SVC(kernel='linear'))])\n",
        "param_grid=[{'model__gamma':['scale','auto'],\n",
        "             'model__C':[1.0,0.1,0.01]}]\n",
        "        \n",
        "gs=GridSearchCV(\n",
        "    estimator=pipe,\n",
        "    param_grid = param_grid,\n",
        "    n_jobs=multiprocessing.cpu_count(),\n",
        "    cv=5,\n",
        "    verbose=True\n",
        ")\n",
        "gs.fit(X,y)\n"
      ],
      "metadata": {
        "id": "l4FsjOV98Q5e"
      },
      "execution_count": null,
      "outputs": []
    },
    {
      "cell_type": "code",
      "source": [
        "gs.best_estimator_"
      ],
      "metadata": {
        "id": "IqrPvRKG8Q5e"
      },
      "execution_count": null,
      "outputs": []
    },
    {
      "cell_type": "code",
      "source": [
        "model=gs.best_estimator_\n",
        "model.fit(X_train, y_train)"
      ],
      "metadata": {
        "id": "ui8lX2Pe8Q5f"
      },
      "execution_count": null,
      "outputs": []
    },
    {
      "cell_type": "code",
      "source": [
        "print(\"학습 데이터 점수:{}\".format(model.score(X_train, y_train)))\n",
        "print(\"평가 데이터 점수:{}\".format(model.score(X_test, y_test)))"
      ],
      "metadata": {
        "id": "tQBdbPml8Q5f"
      },
      "execution_count": null,
      "outputs": []
    },
    {
      "cell_type": "markdown",
      "source": [
        "#붓꽃"
      ],
      "metadata": {
        "id": "NaWmq2g48Q5f"
      }
    },
    {
      "cell_type": "code",
      "source": [
        "X,y=load_iris(return_X_y=True)\n",
        "X_train,X_test,y_train,y_test=train_test_split(X,y,test_size=0.2)"
      ],
      "metadata": {
        "id": "av4Q7H74C2VZ"
      },
      "execution_count": null,
      "outputs": []
    },
    {
      "cell_type": "code",
      "source": [
        "scaler=StandardScaler()\n",
        "scaler.fit(X_train)\n",
        "X_train=scaler.transform(X_train)\n",
        "X_test=scaler.transform(X_test)"
      ],
      "metadata": {
        "id": "spAlmpBSC2Vd"
      },
      "execution_count": null,
      "outputs": []
    },
    {
      "cell_type": "code",
      "source": [
        "model=SVC(kernel='linear')\n",
        "model.fit(X_train,y_train)"
      ],
      "metadata": {
        "id": "ZO-ckFiaC2Ve"
      },
      "execution_count": null,
      "outputs": []
    },
    {
      "cell_type": "code",
      "source": [
        "print(\"학습 데이터 점수:{}\".format(model.score(X_train, y_train)))\n",
        "print(\"평가 데이터 점수:{}\".format(model.score(X_test, y_test)))"
      ],
      "metadata": {
        "id": "b-7j38bzC2Ve"
      },
      "execution_count": null,
      "outputs": []
    },
    {
      "cell_type": "code",
      "source": [
        "import numpy as np\n",
        "def make_meshgrid(x,y,h=.02):\n",
        "    x_min,x_max=x.min()-1,x.max()+1\n",
        "    y_min,y_max=y.min()-1,y.max()+1\n",
        "    xx,yy = np.meshgrid(np.arange(x_min,x_max,h),\n",
        "                        np.arange(y_min,y_max,h))\n",
        "    return xx, yy"
      ],
      "metadata": {
        "id": "DRFQ6Xc7C2Ve"
      },
      "execution_count": null,
      "outputs": []
    },
    {
      "cell_type": "code",
      "source": [
        "def plot_contours(clf,xx,yy,**params):\n",
        "    Z=clf.predict(np.c_[xx.ravel(),yy.ravel()])\n",
        "    Z=Z.reshape(xx.shape)\n",
        "    out=plt.contourf(xx,yy,Z,**params)\n",
        "\n",
        "    return out"
      ],
      "metadata": {
        "id": "U5iVEJPUC2Ve"
      },
      "execution_count": null,
      "outputs": []
    },
    {
      "cell_type": "code",
      "source": [
        "X_comp=TSNE(n_components=2).fit_transform(X)\n",
        "X0,X1=X_comp[:,0],X_comp[:,1]\n",
        "xx,yy=make_meshgrid(X0,X1)"
      ],
      "metadata": {
        "id": "1R5WkjRkC2Ve"
      },
      "execution_count": null,
      "outputs": []
    },
    {
      "cell_type": "code",
      "source": [
        "model.fit(X_comp,y)\n",
        "plot_contours(model, xx, yy, cmap=plt.cm.coolwarm, alpha=0.7)\n",
        "plt.scatter(X0,X1,c=y, cmap=plt.cm.coolwarm,s=20,edgecolors='k');\n"
      ],
      "metadata": {
        "id": "b-L6bRPVC2Ve"
      },
      "execution_count": null,
      "outputs": []
    },
    {
      "cell_type": "code",
      "source": [
        "estimator=make_pipeline(StandardScaler(), SVC(kernel='linear'))\n",
        "cross_validate(\n",
        "    estimator=estimator,\n",
        "    X=X, y=y,\n",
        "    cv=5,\n",
        "    n_jobs=multiprocessing.cpu_count(),\n",
        "    verbose=True\n",
        ")"
      ],
      "metadata": {
        "id": "X-O-yoTbC2Ve"
      },
      "execution_count": null,
      "outputs": []
    },
    {
      "cell_type": "code",
      "source": [
        "pipe=Pipeline([('scaler',StandardScaler()),\n",
        "               ('model', SVC(kernel='linear'))])\n",
        "param_grid=[{'model__gamma':['scale','auto'],\n",
        "             'model__C':[1.0,0.1,0.01]}]\n",
        "        \n",
        "gs=GridSearchCV(\n",
        "    estimator=pipe,\n",
        "    param_grid = param_grid,\n",
        "    n_jobs=multiprocessing.cpu_count(),\n",
        "    cv=5,\n",
        "    verbose=True\n",
        ")\n",
        "gs.fit(X,y)\n"
      ],
      "metadata": {
        "id": "0o3SS_wVC2Ve"
      },
      "execution_count": null,
      "outputs": []
    },
    {
      "cell_type": "code",
      "source": [
        "gs.best_estimator_"
      ],
      "metadata": {
        "id": "5EbJsWrjC2Ve"
      },
      "execution_count": null,
      "outputs": []
    },
    {
      "cell_type": "code",
      "source": [
        "model=gs.best_estimator_\n",
        "model.fit(X_train, y_train)"
      ],
      "metadata": {
        "id": "O2mhLykEC2Ve"
      },
      "execution_count": null,
      "outputs": []
    },
    {
      "cell_type": "code",
      "source": [
        "print(\"학습 데이터 점수:{}\".format(model.score(X_train, y_train)))\n",
        "print(\"평가 데이터 점수:{}\".format(model.score(X_test, y_test)))"
      ],
      "metadata": {
        "id": "pbwb55W4C2Ve"
      },
      "execution_count": null,
      "outputs": []
    },
    {
      "cell_type": "markdown",
      "source": [
        "#와인"
      ],
      "metadata": {
        "id": "JLlb_6wiC2Ve"
      }
    },
    {
      "cell_type": "code",
      "source": [
        "X,y=load_wine(return_X_y=True)\n",
        "X_train,X_test,y_train,y_test=train_test_split(X,y,test_size=0.2)"
      ],
      "metadata": {
        "id": "qmGnpBZRD6I4"
      },
      "execution_count": null,
      "outputs": []
    },
    {
      "cell_type": "code",
      "source": [
        "scaler=StandardScaler()\n",
        "scaler.fit(X_train)\n",
        "X_train=scaler.transform(X_train)\n",
        "X_test=scaler.transform(X_test)"
      ],
      "metadata": {
        "id": "iRS_jRIqD6JA"
      },
      "execution_count": null,
      "outputs": []
    },
    {
      "cell_type": "code",
      "source": [
        "model=SVC(kernel='linear')\n",
        "model.fit(X_train,y_train)"
      ],
      "metadata": {
        "id": "6zbdxlkYD6JA"
      },
      "execution_count": null,
      "outputs": []
    },
    {
      "cell_type": "code",
      "source": [
        "print(\"학습 데이터 점수:{}\".format(model.score(X_train, y_train)))\n",
        "print(\"평가 데이터 점수:{}\".format(model.score(X_test, y_test)))"
      ],
      "metadata": {
        "id": "29hCy09-D6JA"
      },
      "execution_count": null,
      "outputs": []
    },
    {
      "cell_type": "code",
      "source": [
        "import numpy as np\n",
        "def make_meshgrid(x,y,h=.02):\n",
        "    x_min,x_max=x.min()-1,x.max()+1\n",
        "    y_min,y_max=y.min()-1,y.max()+1\n",
        "    xx,yy = np.meshgrid(np.arange(x_min,x_max,h),\n",
        "                        np.arange(y_min,y_max,h))\n",
        "    return xx, yy"
      ],
      "metadata": {
        "id": "1uP4pxjuD6JA"
      },
      "execution_count": null,
      "outputs": []
    },
    {
      "cell_type": "code",
      "source": [
        "def plot_contours(clf,xx,yy,**params):\n",
        "    Z=clf.predict(np.c_[xx.ravel(),yy.ravel()])\n",
        "    Z=Z.reshape(xx.shape)\n",
        "    out=plt.contourf(xx,yy,Z,**params)\n",
        "\n",
        "    return out"
      ],
      "metadata": {
        "id": "oII0Sxz9D6JA"
      },
      "execution_count": null,
      "outputs": []
    },
    {
      "cell_type": "code",
      "source": [
        "X_comp=TSNE(n_components=2).fit_transform(X)\n",
        "X0,X1=X_comp[:,0],X_comp[:,1]\n",
        "xx,yy=make_meshgrid(X0,X1)"
      ],
      "metadata": {
        "id": "j0f0AGLND6JA"
      },
      "execution_count": null,
      "outputs": []
    },
    {
      "cell_type": "code",
      "source": [
        "model.fit(X_comp,y)\n",
        "plot_contours(model, xx, yy, cmap=plt.cm.coolwarm, alpha=0.7)\n",
        "plt.scatter(X0,X1,c=y, cmap=plt.cm.coolwarm,s=20,edgecolors='k');\n"
      ],
      "metadata": {
        "id": "p_rsLiaxD6JA"
      },
      "execution_count": null,
      "outputs": []
    },
    {
      "cell_type": "code",
      "source": [
        "estimator=make_pipeline(StandardScaler(), SVC(kernel='linear'))\n",
        "cross_validate(\n",
        "    estimator=estimator,\n",
        "    X=X, y=y,\n",
        "    cv=5,\n",
        "    n_jobs=multiprocessing.cpu_count(),\n",
        "    verbose=True\n",
        ")"
      ],
      "metadata": {
        "id": "x43NXxG7D6JA"
      },
      "execution_count": null,
      "outputs": []
    },
    {
      "cell_type": "code",
      "source": [
        "pipe=Pipeline([('scaler',StandardScaler()),\n",
        "               ('model', SVC(kernel='linear'))])\n",
        "param_grid=[{'model__gamma':['scale','auto'],\n",
        "             'model__C':[1.0,0.1,0.01]}]\n",
        "        \n",
        "gs=GridSearchCV(\n",
        "    estimator=pipe,\n",
        "    param_grid = param_grid,\n",
        "    n_jobs=multiprocessing.cpu_count(),\n",
        "    cv=5,\n",
        "    verbose=True\n",
        ")\n",
        "gs.fit(X,y)\n"
      ],
      "metadata": {
        "id": "PRGfS8XPD6JA"
      },
      "execution_count": null,
      "outputs": []
    },
    {
      "cell_type": "code",
      "source": [
        "gs.best_estimator_"
      ],
      "metadata": {
        "id": "esBameH_D6JB"
      },
      "execution_count": null,
      "outputs": []
    },
    {
      "cell_type": "code",
      "source": [
        "model=gs.best_estimator_\n",
        "model.fit(X_train, y_train)"
      ],
      "metadata": {
        "id": "DQTS6_dlD6JB"
      },
      "execution_count": null,
      "outputs": []
    },
    {
      "cell_type": "code",
      "source": [
        "print(\"학습 데이터 점수:{}\".format(model.score(X_train, y_train)))\n",
        "print(\"평가 데이터 점수:{}\".format(model.score(X_test, y_test)))"
      ],
      "metadata": {
        "id": "YWRwe52gD6JB"
      },
      "execution_count": null,
      "outputs": []
    },
    {
      "cell_type": "markdown",
      "source": [
        "#붓꽃"
      ],
      "metadata": {
        "id": "TI7yvLKsD6JC"
      }
    },
    {
      "cell_type": "code",
      "source": [],
      "metadata": {
        "id": "ovvq602A8Q5f"
      },
      "execution_count": null,
      "outputs": []
    },
    {
      "cell_type": "code",
      "source": [
        "print(\"학습 데이터 점수:{}\".format(model.score(X_train, y_train)))\n",
        "print(\"평가 데이터 점수:{}\".format(model.score(X_test, y_test)))"
      ],
      "metadata": {
        "id": "5x4ZZgov8Q5f"
      },
      "execution_count": null,
      "outputs": []
    },
    {
      "cell_type": "code",
      "source": [
        "print(\"학습 데이터 점수:{}\".format(model.score(X_train, y_train)))\n",
        "print(\"평가 데이터 점수:{}\".format(model.score(X_test, y_test)))"
      ],
      "metadata": {
        "id": "WV0NMwBe8Fvb"
      },
      "execution_count": null,
      "outputs": []
    },
    {
      "cell_type": "code",
      "source": [
        "pipe=Pipeline([('scaler',StandardScaler()),\n",
        "               ('model', SVR(kernel='rbf'))])\n",
        "param_grid=[{'model__kernel':['rbf','polynomial', 'sigmoid']}]\n",
        "        \n",
        "gs=GridSearchCV(\n",
        "    estimator=pipe,\n",
        "    param_grid = param_grid,\n",
        "    n_jobs=multiprocessing.cpu_count(),\n",
        "    cv=5,\n",
        "    verbose=True\n",
        ")\n",
        "\n"
      ],
      "metadata": {
        "id": "gemak4EP5Amd"
      },
      "execution_count": null,
      "outputs": []
    },
    {
      "cell_type": "code",
      "source": [
        "gs.fit(X,y)"
      ],
      "metadata": {
        "id": "sj6_4nBs5Ami"
      },
      "execution_count": null,
      "outputs": []
    },
    {
      "cell_type": "code",
      "source": [
        "gs.best_estimator_"
      ],
      "metadata": {
        "id": "zfemdaNC5Ami"
      },
      "execution_count": null,
      "outputs": []
    },
    {
      "cell_type": "markdown",
      "source": [
        "#유방암"
      ],
      "metadata": {
        "id": "bVzwhEaNFLJ6"
      }
    },
    {
      "cell_type": "code",
      "source": [
        "X,y=load_breast_cancer(return_X_y=True)\n",
        "X_train,X_test,y_train,y_test=train_test_split(X,y,test_size=0.2)"
      ],
      "metadata": {
        "id": "P6buRyd4FNTz"
      },
      "execution_count": null,
      "outputs": []
    },
    {
      "cell_type": "code",
      "source": [
        "scaler=StandardScaler()\n",
        "scaler.fit(X_train)\n",
        "X_train=scaler.transform(X_train)\n",
        "X_test=scaler.transform(X_test)"
      ],
      "metadata": {
        "id": "qs_UDAg8FNTz"
      },
      "execution_count": null,
      "outputs": []
    },
    {
      "cell_type": "code",
      "source": [
        "model=SVC(kernel='rbf')\n",
        "model.fit(X_train,y_train)"
      ],
      "metadata": {
        "id": "VerSaIyIFNTz"
      },
      "execution_count": null,
      "outputs": []
    },
    {
      "cell_type": "code",
      "source": [
        "print(\"학습 데이터 점수:{}\".format(model.score(X_train, y_train)))\n",
        "print(\"평가 데이터 점수:{}\".format(model.score(X_test, y_test)))"
      ],
      "metadata": {
        "id": "1tdUIARJFNTz"
      },
      "execution_count": null,
      "outputs": []
    },
    {
      "cell_type": "code",
      "source": [
        "import numpy as np\n",
        "def make_meshgrid(x,y,h=.02):\n",
        "    x_min,x_max=x.min()-1,x.max()+1\n",
        "    y_min,y_max=y.min()-1,y.max()+1\n",
        "    xx,yy = np.meshgrid(np.arange(x_min,x_max,h),\n",
        "                        np.arange(y_min,y_max,h))\n",
        "    return xx, yy"
      ],
      "metadata": {
        "id": "J9fn92iwFNT0"
      },
      "execution_count": null,
      "outputs": []
    },
    {
      "cell_type": "code",
      "source": [
        "def plot_contours(clf,xx,yy,**params):\n",
        "    Z=clf.predict(np.c_[xx.ravel(),yy.ravel()])\n",
        "    Z=Z.reshape(xx.shape)\n",
        "    out=plt.contourf(xx,yy,Z,**params)\n",
        "\n",
        "    return out"
      ],
      "metadata": {
        "id": "WGAdT2RFFNT0"
      },
      "execution_count": null,
      "outputs": []
    },
    {
      "cell_type": "code",
      "source": [
        "X_comp=TSNE(n_components=2).fit_transform(X)\n",
        "X0,X1=X_comp[:,0],X_comp[:,1]\n",
        "xx,yy=make_meshgrid(X0,X1)"
      ],
      "metadata": {
        "id": "Co6tEe2bFNT0"
      },
      "execution_count": null,
      "outputs": []
    },
    {
      "cell_type": "code",
      "source": [
        "model.fit(X_comp,y)\n",
        "plot_contours(model, xx, yy, cmap=plt.cm.coolwarm, alpha=0.7)\n",
        "plt.scatter(X0,X1,c=y, cmap=plt.cm.coolwarm,s=20,edgecolors='k');\n"
      ],
      "metadata": {
        "id": "JVEzXXxGFNT0"
      },
      "execution_count": null,
      "outputs": []
    },
    {
      "cell_type": "code",
      "source": [
        "estimator=make_pipeline(StandardScaler(), SVC(kernel='linear'))\n",
        "cross_validate(\n",
        "    estimator=estimator,\n",
        "    X=X, y=y,\n",
        "    cv=5,\n",
        "    n_jobs=multiprocessing.cpu_count(),\n",
        "    verbose=True\n",
        ")"
      ],
      "metadata": {
        "id": "tDWb4cHdFNT0"
      },
      "execution_count": null,
      "outputs": []
    },
    {
      "cell_type": "code",
      "source": [
        "pipe=Pipeline([('scaler',StandardScaler()),\n",
        "               ('model', SVC(kernel='rbf'))])\n",
        "param_grid=[{'model__gamma':['scale','auto'],\n",
        "             'model__C':[1.0,0.1,0.01]}]\n",
        "        \n",
        "gs=GridSearchCV(\n",
        "    estimator=pipe,\n",
        "    param_grid = param_grid,\n",
        "    n_jobs=multiprocessing.cpu_count(),\n",
        "    cv=5,\n",
        "    verbose=True\n",
        ")\n",
        "gs.fit(X,y)\n"
      ],
      "metadata": {
        "id": "tkmfYcKgFNT0"
      },
      "execution_count": null,
      "outputs": []
    },
    {
      "cell_type": "code",
      "source": [
        "gs.best_estimator_"
      ],
      "metadata": {
        "id": "PjAybXmaFNT1"
      },
      "execution_count": null,
      "outputs": []
    },
    {
      "cell_type": "code",
      "source": [
        "model=gs.best_estimator_\n",
        "model.fit(X_train, y_train)"
      ],
      "metadata": {
        "id": "WbWafhPDFNT1"
      },
      "execution_count": null,
      "outputs": []
    },
    {
      "cell_type": "code",
      "source": [
        "print(\"학습 데이터 점수:{}\".format(model.score(X_train, y_train)))\n",
        "print(\"평가 데이터 점수:{}\".format(model.score(X_test, y_test)))"
      ],
      "metadata": {
        "id": "UkPUglCIFNT1"
      },
      "execution_count": null,
      "outputs": []
    },
    {
      "cell_type": "markdown",
      "source": [
        "#붓꽃"
      ],
      "metadata": {
        "id": "sSKe_XUwFNT1"
      }
    },
    {
      "cell_type": "code",
      "source": [
        "X,y=load_iris(return_X_y=True)\n",
        "X_train,X_test,y_train,y_test=train_test_split(X,y,test_size=0.2)"
      ],
      "metadata": {
        "id": "EcVHkr8tGyIg"
      },
      "execution_count": null,
      "outputs": []
    },
    {
      "cell_type": "code",
      "source": [
        "scaler=StandardScaler()\n",
        "scaler.fit(X_train)\n",
        "X_train=scaler.transform(X_train)\n",
        "X_test=scaler.transform(X_test)"
      ],
      "metadata": {
        "id": "APNY93AfGyIo"
      },
      "execution_count": null,
      "outputs": []
    },
    {
      "cell_type": "code",
      "source": [
        "model=SVC(kernel='rbf')\n",
        "model.fit(X_train,y_train)"
      ],
      "metadata": {
        "id": "lmRHyr8uGyIo"
      },
      "execution_count": null,
      "outputs": []
    },
    {
      "cell_type": "code",
      "source": [
        "print(\"학습 데이터 점수:{}\".format(model.score(X_train, y_train)))\n",
        "print(\"평가 데이터 점수:{}\".format(model.score(X_test, y_test)))"
      ],
      "metadata": {
        "id": "siwhVv3qGyIo"
      },
      "execution_count": null,
      "outputs": []
    },
    {
      "cell_type": "code",
      "source": [
        "import numpy as np\n",
        "def make_meshgrid(x,y,h=.02):\n",
        "    x_min,x_max=x.min()-1,x.max()+1\n",
        "    y_min,y_max=y.min()-1,y.max()+1\n",
        "    xx,yy = np.meshgrid(np.arange(x_min,x_max,h),\n",
        "                        np.arange(y_min,y_max,h))\n",
        "    return xx, yy"
      ],
      "metadata": {
        "id": "2KMNg9amGyIo"
      },
      "execution_count": null,
      "outputs": []
    },
    {
      "cell_type": "code",
      "source": [
        "def plot_contours(clf,xx,yy,**params):\n",
        "    Z=clf.predict(np.c_[xx.ravel(),yy.ravel()])\n",
        "    Z=Z.reshape(xx.shape)\n",
        "    out=plt.contourf(xx,yy,Z,**params)\n",
        "\n",
        "    return out"
      ],
      "metadata": {
        "id": "4NC8PzEGGyIp"
      },
      "execution_count": null,
      "outputs": []
    },
    {
      "cell_type": "code",
      "source": [
        "X_comp=TSNE(n_components=2).fit_transform(X)\n",
        "X0,X1=X_comp[:,0],X_comp[:,1]\n",
        "xx,yy=make_meshgrid(X0,X1)"
      ],
      "metadata": {
        "id": "YInmqtwHGyIp"
      },
      "execution_count": null,
      "outputs": []
    },
    {
      "cell_type": "code",
      "source": [
        "model.fit(X_comp,y)\n",
        "plot_contours(model, xx, yy, cmap=plt.cm.coolwarm, alpha=0.7)\n",
        "plt.scatter(X0,X1,c=y, cmap=plt.cm.coolwarm,s=20,edgecolors='k');\n"
      ],
      "metadata": {
        "id": "VrbxfefVGyIp"
      },
      "execution_count": null,
      "outputs": []
    },
    {
      "cell_type": "code",
      "source": [
        "estimator=make_pipeline(StandardScaler(), SVC(kernel='linear'))\n",
        "cross_validate(\n",
        "    estimator=estimator,\n",
        "    X=X, y=y,\n",
        "    cv=5,\n",
        "    n_jobs=multiprocessing.cpu_count(),\n",
        "    verbose=True\n",
        ")"
      ],
      "metadata": {
        "id": "o2JLj9yeGyIp"
      },
      "execution_count": null,
      "outputs": []
    },
    {
      "cell_type": "code",
      "source": [
        "pipe=Pipeline([('scaler',StandardScaler()),\n",
        "               ('model', SVC(kernel='rbf'))])\n",
        "param_grid=[{'model__gamma':['scale','auto'],\n",
        "             'model__C':[1.0,0.1,0.01]}]\n",
        "        \n",
        "gs=GridSearchCV(\n",
        "    estimator=pipe,\n",
        "    param_grid = param_grid,\n",
        "    n_jobs=multiprocessing.cpu_count(),\n",
        "    cv=5,\n",
        "    verbose=True\n",
        ")\n",
        "gs.fit(X,y)\n"
      ],
      "metadata": {
        "id": "Ba2OBkCZGyIp"
      },
      "execution_count": null,
      "outputs": []
    },
    {
      "cell_type": "code",
      "source": [
        "gs.best_estimator_"
      ],
      "metadata": {
        "id": "fQWr3p90GyIp"
      },
      "execution_count": null,
      "outputs": []
    },
    {
      "cell_type": "code",
      "source": [
        "model=gs.best_estimator_\n",
        "model.fit(X_train, y_train)"
      ],
      "metadata": {
        "id": "jHpfJnDSGyIp"
      },
      "execution_count": null,
      "outputs": []
    },
    {
      "cell_type": "code",
      "source": [
        "print(\"학습 데이터 점수:{}\".format(model.score(X_train, y_train)))\n",
        "print(\"평가 데이터 점수:{}\".format(model.score(X_test, y_test)))"
      ],
      "metadata": {
        "id": "Wb_Reyn7GyIp"
      },
      "execution_count": null,
      "outputs": []
    },
    {
      "cell_type": "markdown",
      "source": [
        "#와인"
      ],
      "metadata": {
        "id": "HEmPL3W6GyIp"
      }
    },
    {
      "cell_type": "code",
      "source": [
        "X,y=load_wine(return_X_y=True)\n",
        "X_train,X_test,y_train,y_test=train_test_split(X,y,test_size=0.2)"
      ],
      "metadata": {
        "id": "lnd33uhXITwI"
      },
      "execution_count": null,
      "outputs": []
    },
    {
      "cell_type": "code",
      "source": [
        "scaler=StandardScaler()\n",
        "scaler.fit(X_train)\n",
        "X_train=scaler.transform(X_train)\n",
        "X_test=scaler.transform(X_test)"
      ],
      "metadata": {
        "id": "BRs-k5SJITwI"
      },
      "execution_count": null,
      "outputs": []
    },
    {
      "cell_type": "code",
      "source": [
        "model=SVC(kernel='rbf')\n",
        "model.fit(X_train,y_train)"
      ],
      "metadata": {
        "id": "AqDnllyCITwI"
      },
      "execution_count": null,
      "outputs": []
    },
    {
      "cell_type": "code",
      "source": [
        "print(\"학습 데이터 점수:{}\".format(model.score(X_train, y_train)))\n",
        "print(\"평가 데이터 점수:{}\".format(model.score(X_test, y_test)))"
      ],
      "metadata": {
        "id": "MAH4tGJLITwI"
      },
      "execution_count": null,
      "outputs": []
    },
    {
      "cell_type": "code",
      "source": [
        "import numpy as np\n",
        "def make_meshgrid(x,y,h=.02):\n",
        "    x_min,x_max=x.min()-1,x.max()+1\n",
        "    y_min,y_max=y.min()-1,y.max()+1\n",
        "    xx,yy = np.meshgrid(np.arange(x_min,x_max,h),\n",
        "                        np.arange(y_min,y_max,h))\n",
        "    return xx, yy"
      ],
      "metadata": {
        "id": "QnvGR6Y6ITwJ"
      },
      "execution_count": null,
      "outputs": []
    },
    {
      "cell_type": "code",
      "source": [
        "def plot_contours(clf,xx,yy,**params):\n",
        "    Z=clf.predict(np.c_[xx.ravel(),yy.ravel()])\n",
        "    Z=Z.reshape(xx.shape)\n",
        "    out=plt.contourf(xx,yy,Z,**params)\n",
        "\n",
        "    return out"
      ],
      "metadata": {
        "id": "ZVFvQjqHITwK"
      },
      "execution_count": null,
      "outputs": []
    },
    {
      "cell_type": "code",
      "source": [
        "X_comp=TSNE(n_components=2).fit_transform(X)\n",
        "X0,X1=X_comp[:,0],X_comp[:,1]\n",
        "xx,yy=make_meshgrid(X0,X1)"
      ],
      "metadata": {
        "id": "gLdVMYJZITwK"
      },
      "execution_count": null,
      "outputs": []
    },
    {
      "cell_type": "code",
      "source": [
        "model.fit(X_comp,y)\n",
        "plot_contours(model, xx, yy, cmap=plt.cm.coolwarm, alpha=0.7)\n",
        "plt.scatter(X0,X1,c=y, cmap=plt.cm.coolwarm,s=20,edgecolors='k');\n"
      ],
      "metadata": {
        "id": "BmcZibkSITwK"
      },
      "execution_count": null,
      "outputs": []
    },
    {
      "cell_type": "code",
      "source": [
        "estimator=make_pipeline(StandardScaler(), SVC(kernel='linear'))\n",
        "cross_validate(\n",
        "    estimator=estimator,\n",
        "    X=X, y=y,\n",
        "    cv=5,\n",
        "    n_jobs=multiprocessing.cpu_count(),\n",
        "    verbose=True\n",
        ")"
      ],
      "metadata": {
        "id": "w-2eb8AZITwK"
      },
      "execution_count": null,
      "outputs": []
    },
    {
      "cell_type": "code",
      "source": [
        "pipe=Pipeline([('scaler',StandardScaler()),\n",
        "               ('model', SVC(kernel='rbf'))])\n",
        "param_grid=[{'model__gamma':['scale','auto'],\n",
        "             'model__C':[1.0,0.1,0.01]}]\n",
        "        \n",
        "gs=GridSearchCV(\n",
        "    estimator=pipe,\n",
        "    param_grid = param_grid,\n",
        "    n_jobs=multiprocessing.cpu_count(),\n",
        "    cv=5,\n",
        "    verbose=True\n",
        ")\n",
        "gs.fit(X,y)\n"
      ],
      "metadata": {
        "id": "WesvtmXNITwL"
      },
      "execution_count": null,
      "outputs": []
    },
    {
      "cell_type": "code",
      "source": [
        "gs.best_estimator_"
      ],
      "metadata": {
        "id": "E2uxPJqtITwL"
      },
      "execution_count": null,
      "outputs": []
    },
    {
      "cell_type": "code",
      "source": [
        "model=gs.best_estimator_\n",
        "model.fit(X_train, y_train)"
      ],
      "metadata": {
        "id": "iJAPseeVITwL"
      },
      "execution_count": null,
      "outputs": []
    },
    {
      "cell_type": "code",
      "source": [
        "print(\"학습 데이터 점수:{}\".format(model.score(X_train, y_train)))\n",
        "print(\"평가 데이터 점수:{}\".format(model.score(X_test, y_test)))"
      ],
      "metadata": {
        "id": "7M8lHtm-ITwL"
      },
      "execution_count": null,
      "outputs": []
    },
    {
      "cell_type": "markdown",
      "source": [
        "#end"
      ],
      "metadata": {
        "id": "FuXEi1tnITwL"
      }
    },
    {
      "cell_type": "code",
      "source": [
        "#no end-----------------------------------"
      ],
      "metadata": {
        "id": "wLB7FFnv4LAN"
      },
      "execution_count": null,
      "outputs": []
    },
    {
      "cell_type": "code",
      "source": [],
      "metadata": {
        "id": "qWqBLAPFJl7l"
      },
      "execution_count": null,
      "outputs": []
    }
  ]
}