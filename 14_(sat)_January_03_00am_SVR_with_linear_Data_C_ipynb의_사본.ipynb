{
  "nbformat": 4,
  "nbformat_minor": 0,
  "metadata": {
    "colab": {
      "provenance": [],
      "authorship_tag": "ABX9TyN784Xn0Xq5v/FPwQ4zbc1+",
      "include_colab_link": true
    },
    "kernelspec": {
      "name": "python3",
      "display_name": "Python 3"
    },
    "language_info": {
      "name": "python"
    },
    "gpuClass": "standard"
  },
  "cells": [
    {
      "cell_type": "markdown",
      "metadata": {
        "id": "view-in-github",
        "colab_type": "text"
      },
      "source": [
        "<a href=\"https://colab.research.google.com/github/hwankang/chemometrics-tutorials/blob/master/14_(sat)_January_03_00am_SVR_with_linear_Data_C_ipynb%EC%9D%98_%EC%82%AC%EB%B3%B8.ipynb\" target=\"_parent\"><img src=\"https://colab.research.google.com/assets/colab-badge.svg\" alt=\"Open In Colab\"/></a>"
      ]
    },
    {
      "cell_type": "code",
      "source": [
        "from google.colab import drive\n",
        "drive.mount('/content/drive')"
      ],
      "metadata": {
        "id": "y6t3wE6bvI6C",
        "colab": {
          "base_uri": "https://localhost:8080/"
        },
        "outputId": "aa704ffa-e881-4521-baaa-4996d482454a"
      },
      "execution_count": 1,
      "outputs": [
        {
          "output_type": "stream",
          "name": "stdout",
          "text": [
            "Mounted at /content/drive\n"
          ]
        }
      ]
    },
    {
      "cell_type": "code",
      "source": [
        "filename_a='/content/drive/MyDrive/machine_learning/C_NIR_DATA_csv.csv'\n",
        "import pandas as pd\n",
        "data_a = pd.read_csv(filename_a,header=0, \n",
        "                   encoding=\"unicode-escape\")"
      ],
      "metadata": {
        "id": "D2WELDX-vfds"
      },
      "execution_count": 2,
      "outputs": []
    },
    {
      "cell_type": "code",
      "source": [
        "xx,yy=data_a.shape\n",
        "xx"
      ],
      "metadata": {
        "colab": {
          "base_uri": "https://localhost:8080/"
        },
        "id": "IpWM_SxKvqXd",
        "outputId": "7b7c5bfc-e496-4306-eb93-cfbb4985ab73"
      },
      "execution_count": 3,
      "outputs": [
        {
          "output_type": "execute_result",
          "data": {
            "text/plain": [
              "596"
            ]
          },
          "metadata": {},
          "execution_count": 3
        }
      ]
    },
    {
      "cell_type": "code",
      "source": [
        "data_a2=data_a.iloc[0::,1:yy+1]\n",
        "data_a2.head()"
      ],
      "metadata": {
        "colab": {
          "base_uri": "https://localhost:8080/",
          "height": 317
        },
        "id": "PhmuebIKvwJh",
        "outputId": "4c63ff98-4576-45a5-8733-ff815da78a30"
      },
      "execution_count": 4,
      "outputs": [
        {
          "output_type": "execute_result",
          "data": {
            "text/plain": [
              "   ¸ðµ¨ Æ÷ÇÔ   Y_C  899.9280058  900.2520706  900.5763689  900.9009009  \\\n",
              "0       True  13.7     0.275573     0.276255     0.277041     0.276786   \n",
              "1       True  13.7     0.267852     0.268512     0.269218     0.268729   \n",
              "2       True  13.7     0.255554     0.256688     0.257757     0.257284   \n",
              "3       True  14.0     0.261500     0.262497     0.263683     0.263337   \n",
              "4       True  14.0     0.255863     0.256474     0.257499     0.257194   \n",
              "\n",
              "   901.2256669  901.5506671  901.8759019  902.2013713  ...  2477.700694  \\\n",
              "0     0.276141     0.275785     0.275601     0.275486  ...     2.951816   \n",
              "1     0.267901     0.267559     0.267297     0.266783  ...     2.971480   \n",
              "2     0.256349     0.256152     0.256369     0.256413  ...     2.970865   \n",
              "3     0.262394     0.262080     0.262105     0.261908  ...     2.966876   \n",
              "4     0.256181     0.255774     0.256080     0.256470  ...     2.966953   \n",
              "\n",
              "   2480.15873  2482.621648  2485.089463  2487.562189  2490.039841  \\\n",
              "0    2.951513     2.943587     2.938735     2.943676     2.945165   \n",
              "1    2.976221     2.967798     2.960853     2.963925     2.963556   \n",
              "2    2.972623     2.962654     2.953213     2.955619     2.959005   \n",
              "3    2.969050     2.956999     2.946605     2.948800     2.954062   \n",
              "4    2.966520     2.955803     2.951290     2.957556     2.961537   \n",
              "\n",
              "   2492.522433  2495.00998  2497.502498      2500  \n",
              "0     2.934662    2.927990     2.933237  2.935392  \n",
              "1     2.951274    2.938635     2.938295  2.936243  \n",
              "2     2.948674    2.938407     2.937494  2.935717  \n",
              "3     2.944920    2.933199     2.932310  2.932233  \n",
              "4     2.949925    2.941067     2.944744  2.946329  \n",
              "\n",
              "[5 rows x 1781 columns]"
            ],
            "text/html": [
              "\n",
              "  <div id=\"df-1856d6f2-7196-4f32-8e79-273951edcda8\">\n",
              "    <div class=\"colab-df-container\">\n",
              "      <div>\n",
              "<style scoped>\n",
              "    .dataframe tbody tr th:only-of-type {\n",
              "        vertical-align: middle;\n",
              "    }\n",
              "\n",
              "    .dataframe tbody tr th {\n",
              "        vertical-align: top;\n",
              "    }\n",
              "\n",
              "    .dataframe thead th {\n",
              "        text-align: right;\n",
              "    }\n",
              "</style>\n",
              "<table border=\"1\" class=\"dataframe\">\n",
              "  <thead>\n",
              "    <tr style=\"text-align: right;\">\n",
              "      <th></th>\n",
              "      <th>¸ðµ¨ Æ÷ÇÔ</th>\n",
              "      <th>Y_C</th>\n",
              "      <th>899.9280058</th>\n",
              "      <th>900.2520706</th>\n",
              "      <th>900.5763689</th>\n",
              "      <th>900.9009009</th>\n",
              "      <th>901.2256669</th>\n",
              "      <th>901.5506671</th>\n",
              "      <th>901.8759019</th>\n",
              "      <th>902.2013713</th>\n",
              "      <th>...</th>\n",
              "      <th>2477.700694</th>\n",
              "      <th>2480.15873</th>\n",
              "      <th>2482.621648</th>\n",
              "      <th>2485.089463</th>\n",
              "      <th>2487.562189</th>\n",
              "      <th>2490.039841</th>\n",
              "      <th>2492.522433</th>\n",
              "      <th>2495.00998</th>\n",
              "      <th>2497.502498</th>\n",
              "      <th>2500</th>\n",
              "    </tr>\n",
              "  </thead>\n",
              "  <tbody>\n",
              "    <tr>\n",
              "      <th>0</th>\n",
              "      <td>True</td>\n",
              "      <td>13.7</td>\n",
              "      <td>0.275573</td>\n",
              "      <td>0.276255</td>\n",
              "      <td>0.277041</td>\n",
              "      <td>0.276786</td>\n",
              "      <td>0.276141</td>\n",
              "      <td>0.275785</td>\n",
              "      <td>0.275601</td>\n",
              "      <td>0.275486</td>\n",
              "      <td>...</td>\n",
              "      <td>2.951816</td>\n",
              "      <td>2.951513</td>\n",
              "      <td>2.943587</td>\n",
              "      <td>2.938735</td>\n",
              "      <td>2.943676</td>\n",
              "      <td>2.945165</td>\n",
              "      <td>2.934662</td>\n",
              "      <td>2.927990</td>\n",
              "      <td>2.933237</td>\n",
              "      <td>2.935392</td>\n",
              "    </tr>\n",
              "    <tr>\n",
              "      <th>1</th>\n",
              "      <td>True</td>\n",
              "      <td>13.7</td>\n",
              "      <td>0.267852</td>\n",
              "      <td>0.268512</td>\n",
              "      <td>0.269218</td>\n",
              "      <td>0.268729</td>\n",
              "      <td>0.267901</td>\n",
              "      <td>0.267559</td>\n",
              "      <td>0.267297</td>\n",
              "      <td>0.266783</td>\n",
              "      <td>...</td>\n",
              "      <td>2.971480</td>\n",
              "      <td>2.976221</td>\n",
              "      <td>2.967798</td>\n",
              "      <td>2.960853</td>\n",
              "      <td>2.963925</td>\n",
              "      <td>2.963556</td>\n",
              "      <td>2.951274</td>\n",
              "      <td>2.938635</td>\n",
              "      <td>2.938295</td>\n",
              "      <td>2.936243</td>\n",
              "    </tr>\n",
              "    <tr>\n",
              "      <th>2</th>\n",
              "      <td>True</td>\n",
              "      <td>13.7</td>\n",
              "      <td>0.255554</td>\n",
              "      <td>0.256688</td>\n",
              "      <td>0.257757</td>\n",
              "      <td>0.257284</td>\n",
              "      <td>0.256349</td>\n",
              "      <td>0.256152</td>\n",
              "      <td>0.256369</td>\n",
              "      <td>0.256413</td>\n",
              "      <td>...</td>\n",
              "      <td>2.970865</td>\n",
              "      <td>2.972623</td>\n",
              "      <td>2.962654</td>\n",
              "      <td>2.953213</td>\n",
              "      <td>2.955619</td>\n",
              "      <td>2.959005</td>\n",
              "      <td>2.948674</td>\n",
              "      <td>2.938407</td>\n",
              "      <td>2.937494</td>\n",
              "      <td>2.935717</td>\n",
              "    </tr>\n",
              "    <tr>\n",
              "      <th>3</th>\n",
              "      <td>True</td>\n",
              "      <td>14.0</td>\n",
              "      <td>0.261500</td>\n",
              "      <td>0.262497</td>\n",
              "      <td>0.263683</td>\n",
              "      <td>0.263337</td>\n",
              "      <td>0.262394</td>\n",
              "      <td>0.262080</td>\n",
              "      <td>0.262105</td>\n",
              "      <td>0.261908</td>\n",
              "      <td>...</td>\n",
              "      <td>2.966876</td>\n",
              "      <td>2.969050</td>\n",
              "      <td>2.956999</td>\n",
              "      <td>2.946605</td>\n",
              "      <td>2.948800</td>\n",
              "      <td>2.954062</td>\n",
              "      <td>2.944920</td>\n",
              "      <td>2.933199</td>\n",
              "      <td>2.932310</td>\n",
              "      <td>2.932233</td>\n",
              "    </tr>\n",
              "    <tr>\n",
              "      <th>4</th>\n",
              "      <td>True</td>\n",
              "      <td>14.0</td>\n",
              "      <td>0.255863</td>\n",
              "      <td>0.256474</td>\n",
              "      <td>0.257499</td>\n",
              "      <td>0.257194</td>\n",
              "      <td>0.256181</td>\n",
              "      <td>0.255774</td>\n",
              "      <td>0.256080</td>\n",
              "      <td>0.256470</td>\n",
              "      <td>...</td>\n",
              "      <td>2.966953</td>\n",
              "      <td>2.966520</td>\n",
              "      <td>2.955803</td>\n",
              "      <td>2.951290</td>\n",
              "      <td>2.957556</td>\n",
              "      <td>2.961537</td>\n",
              "      <td>2.949925</td>\n",
              "      <td>2.941067</td>\n",
              "      <td>2.944744</td>\n",
              "      <td>2.946329</td>\n",
              "    </tr>\n",
              "  </tbody>\n",
              "</table>\n",
              "<p>5 rows × 1781 columns</p>\n",
              "</div>\n",
              "      <button class=\"colab-df-convert\" onclick=\"convertToInteractive('df-1856d6f2-7196-4f32-8e79-273951edcda8')\"\n",
              "              title=\"Convert this dataframe to an interactive table.\"\n",
              "              style=\"display:none;\">\n",
              "        \n",
              "  <svg xmlns=\"http://www.w3.org/2000/svg\" height=\"24px\"viewBox=\"0 0 24 24\"\n",
              "       width=\"24px\">\n",
              "    <path d=\"M0 0h24v24H0V0z\" fill=\"none\"/>\n",
              "    <path d=\"M18.56 5.44l.94 2.06.94-2.06 2.06-.94-2.06-.94-.94-2.06-.94 2.06-2.06.94zm-11 1L8.5 8.5l.94-2.06 2.06-.94-2.06-.94L8.5 2.5l-.94 2.06-2.06.94zm10 10l.94 2.06.94-2.06 2.06-.94-2.06-.94-.94-2.06-.94 2.06-2.06.94z\"/><path d=\"M17.41 7.96l-1.37-1.37c-.4-.4-.92-.59-1.43-.59-.52 0-1.04.2-1.43.59L10.3 9.45l-7.72 7.72c-.78.78-.78 2.05 0 2.83L4 21.41c.39.39.9.59 1.41.59.51 0 1.02-.2 1.41-.59l7.78-7.78 2.81-2.81c.8-.78.8-2.07 0-2.86zM5.41 20L4 18.59l7.72-7.72 1.47 1.35L5.41 20z\"/>\n",
              "  </svg>\n",
              "      </button>\n",
              "      \n",
              "  <style>\n",
              "    .colab-df-container {\n",
              "      display:flex;\n",
              "      flex-wrap:wrap;\n",
              "      gap: 12px;\n",
              "    }\n",
              "\n",
              "    .colab-df-convert {\n",
              "      background-color: #E8F0FE;\n",
              "      border: none;\n",
              "      border-radius: 50%;\n",
              "      cursor: pointer;\n",
              "      display: none;\n",
              "      fill: #1967D2;\n",
              "      height: 32px;\n",
              "      padding: 0 0 0 0;\n",
              "      width: 32px;\n",
              "    }\n",
              "\n",
              "    .colab-df-convert:hover {\n",
              "      background-color: #E2EBFA;\n",
              "      box-shadow: 0px 1px 2px rgba(60, 64, 67, 0.3), 0px 1px 3px 1px rgba(60, 64, 67, 0.15);\n",
              "      fill: #174EA6;\n",
              "    }\n",
              "\n",
              "    [theme=dark] .colab-df-convert {\n",
              "      background-color: #3B4455;\n",
              "      fill: #D2E3FC;\n",
              "    }\n",
              "\n",
              "    [theme=dark] .colab-df-convert:hover {\n",
              "      background-color: #434B5C;\n",
              "      box-shadow: 0px 1px 3px 1px rgba(0, 0, 0, 0.15);\n",
              "      filter: drop-shadow(0px 1px 2px rgba(0, 0, 0, 0.3));\n",
              "      fill: #FFFFFF;\n",
              "    }\n",
              "  </style>\n",
              "\n",
              "      <script>\n",
              "        const buttonEl =\n",
              "          document.querySelector('#df-1856d6f2-7196-4f32-8e79-273951edcda8 button.colab-df-convert');\n",
              "        buttonEl.style.display =\n",
              "          google.colab.kernel.accessAllowed ? 'block' : 'none';\n",
              "\n",
              "        async function convertToInteractive(key) {\n",
              "          const element = document.querySelector('#df-1856d6f2-7196-4f32-8e79-273951edcda8');\n",
              "          const dataTable =\n",
              "            await google.colab.kernel.invokeFunction('convertToInteractive',\n",
              "                                                     [key], {});\n",
              "          if (!dataTable) return;\n",
              "\n",
              "          const docLinkHtml = 'Like what you see? Visit the ' +\n",
              "            '<a target=\"_blank\" href=https://colab.research.google.com/notebooks/data_table.ipynb>data table notebook</a>'\n",
              "            + ' to learn more about interactive tables.';\n",
              "          element.innerHTML = '';\n",
              "          dataTable['output_type'] = 'display_data';\n",
              "          await google.colab.output.renderOutput(dataTable, element);\n",
              "          const docLink = document.createElement('div');\n",
              "          docLink.innerHTML = docLinkHtml;\n",
              "          element.appendChild(docLink);\n",
              "        }\n",
              "      </script>\n",
              "    </div>\n",
              "  </div>\n",
              "  "
            ]
          },
          "metadata": {},
          "execution_count": 4
        }
      ]
    },
    {
      "cell_type": "code",
      "execution_count": 5,
      "metadata": {
        "id": "1OqJKImVZgb8"
      },
      "outputs": [],
      "source": [
        "import multiprocessing\n",
        "import pandas as pd\n",
        "import numpy as pd\n",
        "import matplotlib.pyplot as plt\n",
        "plt.style.use(['seaborn-whitegrid'])"
      ]
    },
    {
      "cell_type": "code",
      "source": [
        "ai=[]\n",
        "for i in range(xx):\n",
        "    if data_a2.iloc[i,0]==False:\n",
        "        ai.append(i)\n",
        "data_a3=data_a2.drop(ai,axis=0) #\n",
        "data_a3\n",
        "len(ai)\n",
        "data_a3"
      ],
      "metadata": {
        "colab": {
          "base_uri": "https://localhost:8080/",
          "height": 505
        },
        "id": "Ac7BtP-wv4ro",
        "outputId": "8721ac59-f748-440c-f440-e695a9fb5e28"
      },
      "execution_count": 6,
      "outputs": [
        {
          "output_type": "execute_result",
          "data": {
            "text/plain": [
              "     ¸ðµ¨ Æ÷ÇÔ   Y_C  899.9280058  900.2520706  900.5763689  900.9009009  \\\n",
              "0         True  13.7     0.275573     0.276255     0.277041     0.276786   \n",
              "1         True  13.7     0.267852     0.268512     0.269218     0.268729   \n",
              "2         True  13.7     0.255554     0.256688     0.257757     0.257284   \n",
              "3         True  14.0     0.261500     0.262497     0.263683     0.263337   \n",
              "4         True  14.0     0.255863     0.256474     0.257499     0.257194   \n",
              "..         ...   ...          ...          ...          ...          ...   \n",
              "591       True  32.4     0.135276     0.137610     0.140914     0.140053   \n",
              "592       True  32.4     0.137936     0.140017     0.142949     0.142035   \n",
              "593       True  32.1     0.155206     0.157314     0.160477     0.159783   \n",
              "594       True  32.1     0.151214     0.153485     0.156378     0.155283   \n",
              "595       True  32.1     0.137388     0.139658     0.142913     0.142301   \n",
              "\n",
              "     901.2256669  901.5506671  901.8759019  902.2013713  ...  2477.700694  \\\n",
              "0       0.276141     0.275785     0.275601     0.275486  ...     2.951816   \n",
              "1       0.267901     0.267559     0.267297     0.266783  ...     2.971480   \n",
              "2       0.256349     0.256152     0.256369     0.256413  ...     2.970865   \n",
              "3       0.262394     0.262080     0.262105     0.261908  ...     2.966876   \n",
              "4       0.256181     0.255774     0.256080     0.256470  ...     2.966953   \n",
              "..           ...          ...          ...          ...  ...          ...   \n",
              "591     0.136916     0.136157     0.137090     0.135747  ...     2.972613   \n",
              "592     0.138991     0.138004     0.138435     0.136726  ...     2.943456   \n",
              "593     0.156933     0.156270     0.157146     0.155810  ...     3.026505   \n",
              "594     0.152194     0.151318     0.151877     0.150316  ...     3.008188   \n",
              "595     0.139433     0.138634     0.139379     0.138016  ...     3.010504   \n",
              "\n",
              "     2480.15873  2482.621648  2485.089463  2487.562189  2490.039841  \\\n",
              "0      2.951513     2.943587     2.938735     2.943676     2.945165   \n",
              "1      2.976221     2.967798     2.960853     2.963925     2.963556   \n",
              "2      2.972623     2.962654     2.953213     2.955619     2.959005   \n",
              "3      2.969050     2.956999     2.946605     2.948800     2.954062   \n",
              "4      2.966520     2.955803     2.951290     2.957556     2.961537   \n",
              "..          ...          ...          ...          ...          ...   \n",
              "591    2.971403     2.958870     2.953819     2.958890     2.961540   \n",
              "592    2.949011     2.942728     2.932982     2.932143     2.930411   \n",
              "593    3.024793     3.014496     3.004638     3.003242     2.996760   \n",
              "594    3.006203     2.995358     2.985339     2.987618     2.992405   \n",
              "595    3.006377     2.996306     2.989503     2.990833     2.986667   \n",
              "\n",
              "     2492.522433  2495.00998  2497.502498      2500  \n",
              "0       2.934662    2.927990     2.933237  2.935392  \n",
              "1       2.951274    2.938635     2.938295  2.936243  \n",
              "2       2.948674    2.938407     2.937494  2.935717  \n",
              "3       2.944920    2.933199     2.932310  2.932233  \n",
              "4       2.949925    2.941067     2.944744  2.946329  \n",
              "..           ...         ...          ...       ...  \n",
              "591     2.946616    2.937330     2.938951  2.940291  \n",
              "592     2.918988    2.912270     2.914247  2.914833  \n",
              "593     2.983829    2.973830     2.975724  2.970771  \n",
              "594     2.987275    2.979156     2.979178  2.975309  \n",
              "595     2.972698    2.961714     2.961573  2.958299  \n",
              "\n",
              "[542 rows x 1781 columns]"
            ],
            "text/html": [
              "\n",
              "  <div id=\"df-d369cc76-1b97-4f35-bf4b-a7823052a3d3\">\n",
              "    <div class=\"colab-df-container\">\n",
              "      <div>\n",
              "<style scoped>\n",
              "    .dataframe tbody tr th:only-of-type {\n",
              "        vertical-align: middle;\n",
              "    }\n",
              "\n",
              "    .dataframe tbody tr th {\n",
              "        vertical-align: top;\n",
              "    }\n",
              "\n",
              "    .dataframe thead th {\n",
              "        text-align: right;\n",
              "    }\n",
              "</style>\n",
              "<table border=\"1\" class=\"dataframe\">\n",
              "  <thead>\n",
              "    <tr style=\"text-align: right;\">\n",
              "      <th></th>\n",
              "      <th>¸ðµ¨ Æ÷ÇÔ</th>\n",
              "      <th>Y_C</th>\n",
              "      <th>899.9280058</th>\n",
              "      <th>900.2520706</th>\n",
              "      <th>900.5763689</th>\n",
              "      <th>900.9009009</th>\n",
              "      <th>901.2256669</th>\n",
              "      <th>901.5506671</th>\n",
              "      <th>901.8759019</th>\n",
              "      <th>902.2013713</th>\n",
              "      <th>...</th>\n",
              "      <th>2477.700694</th>\n",
              "      <th>2480.15873</th>\n",
              "      <th>2482.621648</th>\n",
              "      <th>2485.089463</th>\n",
              "      <th>2487.562189</th>\n",
              "      <th>2490.039841</th>\n",
              "      <th>2492.522433</th>\n",
              "      <th>2495.00998</th>\n",
              "      <th>2497.502498</th>\n",
              "      <th>2500</th>\n",
              "    </tr>\n",
              "  </thead>\n",
              "  <tbody>\n",
              "    <tr>\n",
              "      <th>0</th>\n",
              "      <td>True</td>\n",
              "      <td>13.7</td>\n",
              "      <td>0.275573</td>\n",
              "      <td>0.276255</td>\n",
              "      <td>0.277041</td>\n",
              "      <td>0.276786</td>\n",
              "      <td>0.276141</td>\n",
              "      <td>0.275785</td>\n",
              "      <td>0.275601</td>\n",
              "      <td>0.275486</td>\n",
              "      <td>...</td>\n",
              "      <td>2.951816</td>\n",
              "      <td>2.951513</td>\n",
              "      <td>2.943587</td>\n",
              "      <td>2.938735</td>\n",
              "      <td>2.943676</td>\n",
              "      <td>2.945165</td>\n",
              "      <td>2.934662</td>\n",
              "      <td>2.927990</td>\n",
              "      <td>2.933237</td>\n",
              "      <td>2.935392</td>\n",
              "    </tr>\n",
              "    <tr>\n",
              "      <th>1</th>\n",
              "      <td>True</td>\n",
              "      <td>13.7</td>\n",
              "      <td>0.267852</td>\n",
              "      <td>0.268512</td>\n",
              "      <td>0.269218</td>\n",
              "      <td>0.268729</td>\n",
              "      <td>0.267901</td>\n",
              "      <td>0.267559</td>\n",
              "      <td>0.267297</td>\n",
              "      <td>0.266783</td>\n",
              "      <td>...</td>\n",
              "      <td>2.971480</td>\n",
              "      <td>2.976221</td>\n",
              "      <td>2.967798</td>\n",
              "      <td>2.960853</td>\n",
              "      <td>2.963925</td>\n",
              "      <td>2.963556</td>\n",
              "      <td>2.951274</td>\n",
              "      <td>2.938635</td>\n",
              "      <td>2.938295</td>\n",
              "      <td>2.936243</td>\n",
              "    </tr>\n",
              "    <tr>\n",
              "      <th>2</th>\n",
              "      <td>True</td>\n",
              "      <td>13.7</td>\n",
              "      <td>0.255554</td>\n",
              "      <td>0.256688</td>\n",
              "      <td>0.257757</td>\n",
              "      <td>0.257284</td>\n",
              "      <td>0.256349</td>\n",
              "      <td>0.256152</td>\n",
              "      <td>0.256369</td>\n",
              "      <td>0.256413</td>\n",
              "      <td>...</td>\n",
              "      <td>2.970865</td>\n",
              "      <td>2.972623</td>\n",
              "      <td>2.962654</td>\n",
              "      <td>2.953213</td>\n",
              "      <td>2.955619</td>\n",
              "      <td>2.959005</td>\n",
              "      <td>2.948674</td>\n",
              "      <td>2.938407</td>\n",
              "      <td>2.937494</td>\n",
              "      <td>2.935717</td>\n",
              "    </tr>\n",
              "    <tr>\n",
              "      <th>3</th>\n",
              "      <td>True</td>\n",
              "      <td>14.0</td>\n",
              "      <td>0.261500</td>\n",
              "      <td>0.262497</td>\n",
              "      <td>0.263683</td>\n",
              "      <td>0.263337</td>\n",
              "      <td>0.262394</td>\n",
              "      <td>0.262080</td>\n",
              "      <td>0.262105</td>\n",
              "      <td>0.261908</td>\n",
              "      <td>...</td>\n",
              "      <td>2.966876</td>\n",
              "      <td>2.969050</td>\n",
              "      <td>2.956999</td>\n",
              "      <td>2.946605</td>\n",
              "      <td>2.948800</td>\n",
              "      <td>2.954062</td>\n",
              "      <td>2.944920</td>\n",
              "      <td>2.933199</td>\n",
              "      <td>2.932310</td>\n",
              "      <td>2.932233</td>\n",
              "    </tr>\n",
              "    <tr>\n",
              "      <th>4</th>\n",
              "      <td>True</td>\n",
              "      <td>14.0</td>\n",
              "      <td>0.255863</td>\n",
              "      <td>0.256474</td>\n",
              "      <td>0.257499</td>\n",
              "      <td>0.257194</td>\n",
              "      <td>0.256181</td>\n",
              "      <td>0.255774</td>\n",
              "      <td>0.256080</td>\n",
              "      <td>0.256470</td>\n",
              "      <td>...</td>\n",
              "      <td>2.966953</td>\n",
              "      <td>2.966520</td>\n",
              "      <td>2.955803</td>\n",
              "      <td>2.951290</td>\n",
              "      <td>2.957556</td>\n",
              "      <td>2.961537</td>\n",
              "      <td>2.949925</td>\n",
              "      <td>2.941067</td>\n",
              "      <td>2.944744</td>\n",
              "      <td>2.946329</td>\n",
              "    </tr>\n",
              "    <tr>\n",
              "      <th>...</th>\n",
              "      <td>...</td>\n",
              "      <td>...</td>\n",
              "      <td>...</td>\n",
              "      <td>...</td>\n",
              "      <td>...</td>\n",
              "      <td>...</td>\n",
              "      <td>...</td>\n",
              "      <td>...</td>\n",
              "      <td>...</td>\n",
              "      <td>...</td>\n",
              "      <td>...</td>\n",
              "      <td>...</td>\n",
              "      <td>...</td>\n",
              "      <td>...</td>\n",
              "      <td>...</td>\n",
              "      <td>...</td>\n",
              "      <td>...</td>\n",
              "      <td>...</td>\n",
              "      <td>...</td>\n",
              "      <td>...</td>\n",
              "      <td>...</td>\n",
              "    </tr>\n",
              "    <tr>\n",
              "      <th>591</th>\n",
              "      <td>True</td>\n",
              "      <td>32.4</td>\n",
              "      <td>0.135276</td>\n",
              "      <td>0.137610</td>\n",
              "      <td>0.140914</td>\n",
              "      <td>0.140053</td>\n",
              "      <td>0.136916</td>\n",
              "      <td>0.136157</td>\n",
              "      <td>0.137090</td>\n",
              "      <td>0.135747</td>\n",
              "      <td>...</td>\n",
              "      <td>2.972613</td>\n",
              "      <td>2.971403</td>\n",
              "      <td>2.958870</td>\n",
              "      <td>2.953819</td>\n",
              "      <td>2.958890</td>\n",
              "      <td>2.961540</td>\n",
              "      <td>2.946616</td>\n",
              "      <td>2.937330</td>\n",
              "      <td>2.938951</td>\n",
              "      <td>2.940291</td>\n",
              "    </tr>\n",
              "    <tr>\n",
              "      <th>592</th>\n",
              "      <td>True</td>\n",
              "      <td>32.4</td>\n",
              "      <td>0.137936</td>\n",
              "      <td>0.140017</td>\n",
              "      <td>0.142949</td>\n",
              "      <td>0.142035</td>\n",
              "      <td>0.138991</td>\n",
              "      <td>0.138004</td>\n",
              "      <td>0.138435</td>\n",
              "      <td>0.136726</td>\n",
              "      <td>...</td>\n",
              "      <td>2.943456</td>\n",
              "      <td>2.949011</td>\n",
              "      <td>2.942728</td>\n",
              "      <td>2.932982</td>\n",
              "      <td>2.932143</td>\n",
              "      <td>2.930411</td>\n",
              "      <td>2.918988</td>\n",
              "      <td>2.912270</td>\n",
              "      <td>2.914247</td>\n",
              "      <td>2.914833</td>\n",
              "    </tr>\n",
              "    <tr>\n",
              "      <th>593</th>\n",
              "      <td>True</td>\n",
              "      <td>32.1</td>\n",
              "      <td>0.155206</td>\n",
              "      <td>0.157314</td>\n",
              "      <td>0.160477</td>\n",
              "      <td>0.159783</td>\n",
              "      <td>0.156933</td>\n",
              "      <td>0.156270</td>\n",
              "      <td>0.157146</td>\n",
              "      <td>0.155810</td>\n",
              "      <td>...</td>\n",
              "      <td>3.026505</td>\n",
              "      <td>3.024793</td>\n",
              "      <td>3.014496</td>\n",
              "      <td>3.004638</td>\n",
              "      <td>3.003242</td>\n",
              "      <td>2.996760</td>\n",
              "      <td>2.983829</td>\n",
              "      <td>2.973830</td>\n",
              "      <td>2.975724</td>\n",
              "      <td>2.970771</td>\n",
              "    </tr>\n",
              "    <tr>\n",
              "      <th>594</th>\n",
              "      <td>True</td>\n",
              "      <td>32.1</td>\n",
              "      <td>0.151214</td>\n",
              "      <td>0.153485</td>\n",
              "      <td>0.156378</td>\n",
              "      <td>0.155283</td>\n",
              "      <td>0.152194</td>\n",
              "      <td>0.151318</td>\n",
              "      <td>0.151877</td>\n",
              "      <td>0.150316</td>\n",
              "      <td>...</td>\n",
              "      <td>3.008188</td>\n",
              "      <td>3.006203</td>\n",
              "      <td>2.995358</td>\n",
              "      <td>2.985339</td>\n",
              "      <td>2.987618</td>\n",
              "      <td>2.992405</td>\n",
              "      <td>2.987275</td>\n",
              "      <td>2.979156</td>\n",
              "      <td>2.979178</td>\n",
              "      <td>2.975309</td>\n",
              "    </tr>\n",
              "    <tr>\n",
              "      <th>595</th>\n",
              "      <td>True</td>\n",
              "      <td>32.1</td>\n",
              "      <td>0.137388</td>\n",
              "      <td>0.139658</td>\n",
              "      <td>0.142913</td>\n",
              "      <td>0.142301</td>\n",
              "      <td>0.139433</td>\n",
              "      <td>0.138634</td>\n",
              "      <td>0.139379</td>\n",
              "      <td>0.138016</td>\n",
              "      <td>...</td>\n",
              "      <td>3.010504</td>\n",
              "      <td>3.006377</td>\n",
              "      <td>2.996306</td>\n",
              "      <td>2.989503</td>\n",
              "      <td>2.990833</td>\n",
              "      <td>2.986667</td>\n",
              "      <td>2.972698</td>\n",
              "      <td>2.961714</td>\n",
              "      <td>2.961573</td>\n",
              "      <td>2.958299</td>\n",
              "    </tr>\n",
              "  </tbody>\n",
              "</table>\n",
              "<p>542 rows × 1781 columns</p>\n",
              "</div>\n",
              "      <button class=\"colab-df-convert\" onclick=\"convertToInteractive('df-d369cc76-1b97-4f35-bf4b-a7823052a3d3')\"\n",
              "              title=\"Convert this dataframe to an interactive table.\"\n",
              "              style=\"display:none;\">\n",
              "        \n",
              "  <svg xmlns=\"http://www.w3.org/2000/svg\" height=\"24px\"viewBox=\"0 0 24 24\"\n",
              "       width=\"24px\">\n",
              "    <path d=\"M0 0h24v24H0V0z\" fill=\"none\"/>\n",
              "    <path d=\"M18.56 5.44l.94 2.06.94-2.06 2.06-.94-2.06-.94-.94-2.06-.94 2.06-2.06.94zm-11 1L8.5 8.5l.94-2.06 2.06-.94-2.06-.94L8.5 2.5l-.94 2.06-2.06.94zm10 10l.94 2.06.94-2.06 2.06-.94-2.06-.94-.94-2.06-.94 2.06-2.06.94z\"/><path d=\"M17.41 7.96l-1.37-1.37c-.4-.4-.92-.59-1.43-.59-.52 0-1.04.2-1.43.59L10.3 9.45l-7.72 7.72c-.78.78-.78 2.05 0 2.83L4 21.41c.39.39.9.59 1.41.59.51 0 1.02-.2 1.41-.59l7.78-7.78 2.81-2.81c.8-.78.8-2.07 0-2.86zM5.41 20L4 18.59l7.72-7.72 1.47 1.35L5.41 20z\"/>\n",
              "  </svg>\n",
              "      </button>\n",
              "      \n",
              "  <style>\n",
              "    .colab-df-container {\n",
              "      display:flex;\n",
              "      flex-wrap:wrap;\n",
              "      gap: 12px;\n",
              "    }\n",
              "\n",
              "    .colab-df-convert {\n",
              "      background-color: #E8F0FE;\n",
              "      border: none;\n",
              "      border-radius: 50%;\n",
              "      cursor: pointer;\n",
              "      display: none;\n",
              "      fill: #1967D2;\n",
              "      height: 32px;\n",
              "      padding: 0 0 0 0;\n",
              "      width: 32px;\n",
              "    }\n",
              "\n",
              "    .colab-df-convert:hover {\n",
              "      background-color: #E2EBFA;\n",
              "      box-shadow: 0px 1px 2px rgba(60, 64, 67, 0.3), 0px 1px 3px 1px rgba(60, 64, 67, 0.15);\n",
              "      fill: #174EA6;\n",
              "    }\n",
              "\n",
              "    [theme=dark] .colab-df-convert {\n",
              "      background-color: #3B4455;\n",
              "      fill: #D2E3FC;\n",
              "    }\n",
              "\n",
              "    [theme=dark] .colab-df-convert:hover {\n",
              "      background-color: #434B5C;\n",
              "      box-shadow: 0px 1px 3px 1px rgba(0, 0, 0, 0.15);\n",
              "      filter: drop-shadow(0px 1px 2px rgba(0, 0, 0, 0.3));\n",
              "      fill: #FFFFFF;\n",
              "    }\n",
              "  </style>\n",
              "\n",
              "      <script>\n",
              "        const buttonEl =\n",
              "          document.querySelector('#df-d369cc76-1b97-4f35-bf4b-a7823052a3d3 button.colab-df-convert');\n",
              "        buttonEl.style.display =\n",
              "          google.colab.kernel.accessAllowed ? 'block' : 'none';\n",
              "\n",
              "        async function convertToInteractive(key) {\n",
              "          const element = document.querySelector('#df-d369cc76-1b97-4f35-bf4b-a7823052a3d3');\n",
              "          const dataTable =\n",
              "            await google.colab.kernel.invokeFunction('convertToInteractive',\n",
              "                                                     [key], {});\n",
              "          if (!dataTable) return;\n",
              "\n",
              "          const docLinkHtml = 'Like what you see? Visit the ' +\n",
              "            '<a target=\"_blank\" href=https://colab.research.google.com/notebooks/data_table.ipynb>data table notebook</a>'\n",
              "            + ' to learn more about interactive tables.';\n",
              "          element.innerHTML = '';\n",
              "          dataTable['output_type'] = 'display_data';\n",
              "          await google.colab.output.renderOutput(dataTable, element);\n",
              "          const docLink = document.createElement('div');\n",
              "          docLink.innerHTML = docLinkHtml;\n",
              "          element.appendChild(docLink);\n",
              "        }\n",
              "      </script>\n",
              "    </div>\n",
              "  </div>\n",
              "  "
            ]
          },
          "metadata": {},
          "execution_count": 6
        }
      ]
    },
    {
      "cell_type": "code",
      "source": [
        "x1,y1=data_a3.shape\n",
        "data_a1=data_a3.iloc[0::,2:yy+1]\n",
        "data_a1"
      ],
      "metadata": {
        "colab": {
          "base_uri": "https://localhost:8080/",
          "height": 488
        },
        "id": "w_7Wm9mQwAhz",
        "outputId": "1a815453-35b7-4faf-a89e-815b28d9d0f4"
      },
      "execution_count": 7,
      "outputs": [
        {
          "output_type": "execute_result",
          "data": {
            "text/plain": [
              "     899.9280058  900.2520706  900.5763689  900.9009009  901.2256669  \\\n",
              "0       0.275573     0.276255     0.277041     0.276786     0.276141   \n",
              "1       0.267852     0.268512     0.269218     0.268729     0.267901   \n",
              "2       0.255554     0.256688     0.257757     0.257284     0.256349   \n",
              "3       0.261500     0.262497     0.263683     0.263337     0.262394   \n",
              "4       0.255863     0.256474     0.257499     0.257194     0.256181   \n",
              "..           ...          ...          ...          ...          ...   \n",
              "591     0.135276     0.137610     0.140914     0.140053     0.136916   \n",
              "592     0.137936     0.140017     0.142949     0.142035     0.138991   \n",
              "593     0.155206     0.157314     0.160477     0.159783     0.156933   \n",
              "594     0.151214     0.153485     0.156378     0.155283     0.152194   \n",
              "595     0.137388     0.139658     0.142913     0.142301     0.139433   \n",
              "\n",
              "     901.5506671  901.8759019  902.2013713  902.5270758  902.8530155  ...  \\\n",
              "0       0.275785     0.275601     0.275486     0.275550     0.274192  ...   \n",
              "1       0.267559     0.267297     0.266783     0.266419     0.264946  ...   \n",
              "2       0.256152     0.256369     0.256413     0.256452     0.255233  ...   \n",
              "3       0.262080     0.262105     0.261908     0.261728     0.260385  ...   \n",
              "4       0.255774     0.256080     0.256470     0.256531     0.254780  ...   \n",
              "..           ...          ...          ...          ...          ...  ...   \n",
              "591     0.136157     0.137090     0.135747     0.133233     0.133107  ...   \n",
              "592     0.138004     0.138435     0.136726     0.133999     0.133482  ...   \n",
              "593     0.156270     0.157146     0.155810     0.153363     0.153171  ...   \n",
              "594     0.151318     0.151877     0.150316     0.147899     0.147779  ...   \n",
              "595     0.138634     0.139379     0.138016     0.135591     0.135427  ...   \n",
              "\n",
              "     2477.700694  2480.15873  2482.621648  2485.089463  2487.562189  \\\n",
              "0       2.951816    2.951513     2.943587     2.938735     2.943676   \n",
              "1       2.971480    2.976221     2.967798     2.960853     2.963925   \n",
              "2       2.970865    2.972623     2.962654     2.953213     2.955619   \n",
              "3       2.966876    2.969050     2.956999     2.946605     2.948800   \n",
              "4       2.966953    2.966520     2.955803     2.951290     2.957556   \n",
              "..           ...         ...          ...          ...          ...   \n",
              "591     2.972613    2.971403     2.958870     2.953819     2.958890   \n",
              "592     2.943456    2.949011     2.942728     2.932982     2.932143   \n",
              "593     3.026505    3.024793     3.014496     3.004638     3.003242   \n",
              "594     3.008188    3.006203     2.995358     2.985339     2.987618   \n",
              "595     3.010504    3.006377     2.996306     2.989503     2.990833   \n",
              "\n",
              "     2490.039841  2492.522433  2495.00998  2497.502498      2500  \n",
              "0       2.945165     2.934662    2.927990     2.933237  2.935392  \n",
              "1       2.963556     2.951274    2.938635     2.938295  2.936243  \n",
              "2       2.959005     2.948674    2.938407     2.937494  2.935717  \n",
              "3       2.954062     2.944920    2.933199     2.932310  2.932233  \n",
              "4       2.961537     2.949925    2.941067     2.944744  2.946329  \n",
              "..           ...          ...         ...          ...       ...  \n",
              "591     2.961540     2.946616    2.937330     2.938951  2.940291  \n",
              "592     2.930411     2.918988    2.912270     2.914247  2.914833  \n",
              "593     2.996760     2.983829    2.973830     2.975724  2.970771  \n",
              "594     2.992405     2.987275    2.979156     2.979178  2.975309  \n",
              "595     2.986667     2.972698    2.961714     2.961573  2.958299  \n",
              "\n",
              "[542 rows x 1779 columns]"
            ],
            "text/html": [
              "\n",
              "  <div id=\"df-a1f87d37-b5f9-40e2-8f2b-0d210cda62c7\">\n",
              "    <div class=\"colab-df-container\">\n",
              "      <div>\n",
              "<style scoped>\n",
              "    .dataframe tbody tr th:only-of-type {\n",
              "        vertical-align: middle;\n",
              "    }\n",
              "\n",
              "    .dataframe tbody tr th {\n",
              "        vertical-align: top;\n",
              "    }\n",
              "\n",
              "    .dataframe thead th {\n",
              "        text-align: right;\n",
              "    }\n",
              "</style>\n",
              "<table border=\"1\" class=\"dataframe\">\n",
              "  <thead>\n",
              "    <tr style=\"text-align: right;\">\n",
              "      <th></th>\n",
              "      <th>899.9280058</th>\n",
              "      <th>900.2520706</th>\n",
              "      <th>900.5763689</th>\n",
              "      <th>900.9009009</th>\n",
              "      <th>901.2256669</th>\n",
              "      <th>901.5506671</th>\n",
              "      <th>901.8759019</th>\n",
              "      <th>902.2013713</th>\n",
              "      <th>902.5270758</th>\n",
              "      <th>902.8530155</th>\n",
              "      <th>...</th>\n",
              "      <th>2477.700694</th>\n",
              "      <th>2480.15873</th>\n",
              "      <th>2482.621648</th>\n",
              "      <th>2485.089463</th>\n",
              "      <th>2487.562189</th>\n",
              "      <th>2490.039841</th>\n",
              "      <th>2492.522433</th>\n",
              "      <th>2495.00998</th>\n",
              "      <th>2497.502498</th>\n",
              "      <th>2500</th>\n",
              "    </tr>\n",
              "  </thead>\n",
              "  <tbody>\n",
              "    <tr>\n",
              "      <th>0</th>\n",
              "      <td>0.275573</td>\n",
              "      <td>0.276255</td>\n",
              "      <td>0.277041</td>\n",
              "      <td>0.276786</td>\n",
              "      <td>0.276141</td>\n",
              "      <td>0.275785</td>\n",
              "      <td>0.275601</td>\n",
              "      <td>0.275486</td>\n",
              "      <td>0.275550</td>\n",
              "      <td>0.274192</td>\n",
              "      <td>...</td>\n",
              "      <td>2.951816</td>\n",
              "      <td>2.951513</td>\n",
              "      <td>2.943587</td>\n",
              "      <td>2.938735</td>\n",
              "      <td>2.943676</td>\n",
              "      <td>2.945165</td>\n",
              "      <td>2.934662</td>\n",
              "      <td>2.927990</td>\n",
              "      <td>2.933237</td>\n",
              "      <td>2.935392</td>\n",
              "    </tr>\n",
              "    <tr>\n",
              "      <th>1</th>\n",
              "      <td>0.267852</td>\n",
              "      <td>0.268512</td>\n",
              "      <td>0.269218</td>\n",
              "      <td>0.268729</td>\n",
              "      <td>0.267901</td>\n",
              "      <td>0.267559</td>\n",
              "      <td>0.267297</td>\n",
              "      <td>0.266783</td>\n",
              "      <td>0.266419</td>\n",
              "      <td>0.264946</td>\n",
              "      <td>...</td>\n",
              "      <td>2.971480</td>\n",
              "      <td>2.976221</td>\n",
              "      <td>2.967798</td>\n",
              "      <td>2.960853</td>\n",
              "      <td>2.963925</td>\n",
              "      <td>2.963556</td>\n",
              "      <td>2.951274</td>\n",
              "      <td>2.938635</td>\n",
              "      <td>2.938295</td>\n",
              "      <td>2.936243</td>\n",
              "    </tr>\n",
              "    <tr>\n",
              "      <th>2</th>\n",
              "      <td>0.255554</td>\n",
              "      <td>0.256688</td>\n",
              "      <td>0.257757</td>\n",
              "      <td>0.257284</td>\n",
              "      <td>0.256349</td>\n",
              "      <td>0.256152</td>\n",
              "      <td>0.256369</td>\n",
              "      <td>0.256413</td>\n",
              "      <td>0.256452</td>\n",
              "      <td>0.255233</td>\n",
              "      <td>...</td>\n",
              "      <td>2.970865</td>\n",
              "      <td>2.972623</td>\n",
              "      <td>2.962654</td>\n",
              "      <td>2.953213</td>\n",
              "      <td>2.955619</td>\n",
              "      <td>2.959005</td>\n",
              "      <td>2.948674</td>\n",
              "      <td>2.938407</td>\n",
              "      <td>2.937494</td>\n",
              "      <td>2.935717</td>\n",
              "    </tr>\n",
              "    <tr>\n",
              "      <th>3</th>\n",
              "      <td>0.261500</td>\n",
              "      <td>0.262497</td>\n",
              "      <td>0.263683</td>\n",
              "      <td>0.263337</td>\n",
              "      <td>0.262394</td>\n",
              "      <td>0.262080</td>\n",
              "      <td>0.262105</td>\n",
              "      <td>0.261908</td>\n",
              "      <td>0.261728</td>\n",
              "      <td>0.260385</td>\n",
              "      <td>...</td>\n",
              "      <td>2.966876</td>\n",
              "      <td>2.969050</td>\n",
              "      <td>2.956999</td>\n",
              "      <td>2.946605</td>\n",
              "      <td>2.948800</td>\n",
              "      <td>2.954062</td>\n",
              "      <td>2.944920</td>\n",
              "      <td>2.933199</td>\n",
              "      <td>2.932310</td>\n",
              "      <td>2.932233</td>\n",
              "    </tr>\n",
              "    <tr>\n",
              "      <th>4</th>\n",
              "      <td>0.255863</td>\n",
              "      <td>0.256474</td>\n",
              "      <td>0.257499</td>\n",
              "      <td>0.257194</td>\n",
              "      <td>0.256181</td>\n",
              "      <td>0.255774</td>\n",
              "      <td>0.256080</td>\n",
              "      <td>0.256470</td>\n",
              "      <td>0.256531</td>\n",
              "      <td>0.254780</td>\n",
              "      <td>...</td>\n",
              "      <td>2.966953</td>\n",
              "      <td>2.966520</td>\n",
              "      <td>2.955803</td>\n",
              "      <td>2.951290</td>\n",
              "      <td>2.957556</td>\n",
              "      <td>2.961537</td>\n",
              "      <td>2.949925</td>\n",
              "      <td>2.941067</td>\n",
              "      <td>2.944744</td>\n",
              "      <td>2.946329</td>\n",
              "    </tr>\n",
              "    <tr>\n",
              "      <th>...</th>\n",
              "      <td>...</td>\n",
              "      <td>...</td>\n",
              "      <td>...</td>\n",
              "      <td>...</td>\n",
              "      <td>...</td>\n",
              "      <td>...</td>\n",
              "      <td>...</td>\n",
              "      <td>...</td>\n",
              "      <td>...</td>\n",
              "      <td>...</td>\n",
              "      <td>...</td>\n",
              "      <td>...</td>\n",
              "      <td>...</td>\n",
              "      <td>...</td>\n",
              "      <td>...</td>\n",
              "      <td>...</td>\n",
              "      <td>...</td>\n",
              "      <td>...</td>\n",
              "      <td>...</td>\n",
              "      <td>...</td>\n",
              "      <td>...</td>\n",
              "    </tr>\n",
              "    <tr>\n",
              "      <th>591</th>\n",
              "      <td>0.135276</td>\n",
              "      <td>0.137610</td>\n",
              "      <td>0.140914</td>\n",
              "      <td>0.140053</td>\n",
              "      <td>0.136916</td>\n",
              "      <td>0.136157</td>\n",
              "      <td>0.137090</td>\n",
              "      <td>0.135747</td>\n",
              "      <td>0.133233</td>\n",
              "      <td>0.133107</td>\n",
              "      <td>...</td>\n",
              "      <td>2.972613</td>\n",
              "      <td>2.971403</td>\n",
              "      <td>2.958870</td>\n",
              "      <td>2.953819</td>\n",
              "      <td>2.958890</td>\n",
              "      <td>2.961540</td>\n",
              "      <td>2.946616</td>\n",
              "      <td>2.937330</td>\n",
              "      <td>2.938951</td>\n",
              "      <td>2.940291</td>\n",
              "    </tr>\n",
              "    <tr>\n",
              "      <th>592</th>\n",
              "      <td>0.137936</td>\n",
              "      <td>0.140017</td>\n",
              "      <td>0.142949</td>\n",
              "      <td>0.142035</td>\n",
              "      <td>0.138991</td>\n",
              "      <td>0.138004</td>\n",
              "      <td>0.138435</td>\n",
              "      <td>0.136726</td>\n",
              "      <td>0.133999</td>\n",
              "      <td>0.133482</td>\n",
              "      <td>...</td>\n",
              "      <td>2.943456</td>\n",
              "      <td>2.949011</td>\n",
              "      <td>2.942728</td>\n",
              "      <td>2.932982</td>\n",
              "      <td>2.932143</td>\n",
              "      <td>2.930411</td>\n",
              "      <td>2.918988</td>\n",
              "      <td>2.912270</td>\n",
              "      <td>2.914247</td>\n",
              "      <td>2.914833</td>\n",
              "    </tr>\n",
              "    <tr>\n",
              "      <th>593</th>\n",
              "      <td>0.155206</td>\n",
              "      <td>0.157314</td>\n",
              "      <td>0.160477</td>\n",
              "      <td>0.159783</td>\n",
              "      <td>0.156933</td>\n",
              "      <td>0.156270</td>\n",
              "      <td>0.157146</td>\n",
              "      <td>0.155810</td>\n",
              "      <td>0.153363</td>\n",
              "      <td>0.153171</td>\n",
              "      <td>...</td>\n",
              "      <td>3.026505</td>\n",
              "      <td>3.024793</td>\n",
              "      <td>3.014496</td>\n",
              "      <td>3.004638</td>\n",
              "      <td>3.003242</td>\n",
              "      <td>2.996760</td>\n",
              "      <td>2.983829</td>\n",
              "      <td>2.973830</td>\n",
              "      <td>2.975724</td>\n",
              "      <td>2.970771</td>\n",
              "    </tr>\n",
              "    <tr>\n",
              "      <th>594</th>\n",
              "      <td>0.151214</td>\n",
              "      <td>0.153485</td>\n",
              "      <td>0.156378</td>\n",
              "      <td>0.155283</td>\n",
              "      <td>0.152194</td>\n",
              "      <td>0.151318</td>\n",
              "      <td>0.151877</td>\n",
              "      <td>0.150316</td>\n",
              "      <td>0.147899</td>\n",
              "      <td>0.147779</td>\n",
              "      <td>...</td>\n",
              "      <td>3.008188</td>\n",
              "      <td>3.006203</td>\n",
              "      <td>2.995358</td>\n",
              "      <td>2.985339</td>\n",
              "      <td>2.987618</td>\n",
              "      <td>2.992405</td>\n",
              "      <td>2.987275</td>\n",
              "      <td>2.979156</td>\n",
              "      <td>2.979178</td>\n",
              "      <td>2.975309</td>\n",
              "    </tr>\n",
              "    <tr>\n",
              "      <th>595</th>\n",
              "      <td>0.137388</td>\n",
              "      <td>0.139658</td>\n",
              "      <td>0.142913</td>\n",
              "      <td>0.142301</td>\n",
              "      <td>0.139433</td>\n",
              "      <td>0.138634</td>\n",
              "      <td>0.139379</td>\n",
              "      <td>0.138016</td>\n",
              "      <td>0.135591</td>\n",
              "      <td>0.135427</td>\n",
              "      <td>...</td>\n",
              "      <td>3.010504</td>\n",
              "      <td>3.006377</td>\n",
              "      <td>2.996306</td>\n",
              "      <td>2.989503</td>\n",
              "      <td>2.990833</td>\n",
              "      <td>2.986667</td>\n",
              "      <td>2.972698</td>\n",
              "      <td>2.961714</td>\n",
              "      <td>2.961573</td>\n",
              "      <td>2.958299</td>\n",
              "    </tr>\n",
              "  </tbody>\n",
              "</table>\n",
              "<p>542 rows × 1779 columns</p>\n",
              "</div>\n",
              "      <button class=\"colab-df-convert\" onclick=\"convertToInteractive('df-a1f87d37-b5f9-40e2-8f2b-0d210cda62c7')\"\n",
              "              title=\"Convert this dataframe to an interactive table.\"\n",
              "              style=\"display:none;\">\n",
              "        \n",
              "  <svg xmlns=\"http://www.w3.org/2000/svg\" height=\"24px\"viewBox=\"0 0 24 24\"\n",
              "       width=\"24px\">\n",
              "    <path d=\"M0 0h24v24H0V0z\" fill=\"none\"/>\n",
              "    <path d=\"M18.56 5.44l.94 2.06.94-2.06 2.06-.94-2.06-.94-.94-2.06-.94 2.06-2.06.94zm-11 1L8.5 8.5l.94-2.06 2.06-.94-2.06-.94L8.5 2.5l-.94 2.06-2.06.94zm10 10l.94 2.06.94-2.06 2.06-.94-2.06-.94-.94-2.06-.94 2.06-2.06.94z\"/><path d=\"M17.41 7.96l-1.37-1.37c-.4-.4-.92-.59-1.43-.59-.52 0-1.04.2-1.43.59L10.3 9.45l-7.72 7.72c-.78.78-.78 2.05 0 2.83L4 21.41c.39.39.9.59 1.41.59.51 0 1.02-.2 1.41-.59l7.78-7.78 2.81-2.81c.8-.78.8-2.07 0-2.86zM5.41 20L4 18.59l7.72-7.72 1.47 1.35L5.41 20z\"/>\n",
              "  </svg>\n",
              "      </button>\n",
              "      \n",
              "  <style>\n",
              "    .colab-df-container {\n",
              "      display:flex;\n",
              "      flex-wrap:wrap;\n",
              "      gap: 12px;\n",
              "    }\n",
              "\n",
              "    .colab-df-convert {\n",
              "      background-color: #E8F0FE;\n",
              "      border: none;\n",
              "      border-radius: 50%;\n",
              "      cursor: pointer;\n",
              "      display: none;\n",
              "      fill: #1967D2;\n",
              "      height: 32px;\n",
              "      padding: 0 0 0 0;\n",
              "      width: 32px;\n",
              "    }\n",
              "\n",
              "    .colab-df-convert:hover {\n",
              "      background-color: #E2EBFA;\n",
              "      box-shadow: 0px 1px 2px rgba(60, 64, 67, 0.3), 0px 1px 3px 1px rgba(60, 64, 67, 0.15);\n",
              "      fill: #174EA6;\n",
              "    }\n",
              "\n",
              "    [theme=dark] .colab-df-convert {\n",
              "      background-color: #3B4455;\n",
              "      fill: #D2E3FC;\n",
              "    }\n",
              "\n",
              "    [theme=dark] .colab-df-convert:hover {\n",
              "      background-color: #434B5C;\n",
              "      box-shadow: 0px 1px 3px 1px rgba(0, 0, 0, 0.15);\n",
              "      filter: drop-shadow(0px 1px 2px rgba(0, 0, 0, 0.3));\n",
              "      fill: #FFFFFF;\n",
              "    }\n",
              "  </style>\n",
              "\n",
              "      <script>\n",
              "        const buttonEl =\n",
              "          document.querySelector('#df-a1f87d37-b5f9-40e2-8f2b-0d210cda62c7 button.colab-df-convert');\n",
              "        buttonEl.style.display =\n",
              "          google.colab.kernel.accessAllowed ? 'block' : 'none';\n",
              "\n",
              "        async function convertToInteractive(key) {\n",
              "          const element = document.querySelector('#df-a1f87d37-b5f9-40e2-8f2b-0d210cda62c7');\n",
              "          const dataTable =\n",
              "            await google.colab.kernel.invokeFunction('convertToInteractive',\n",
              "                                                     [key], {});\n",
              "          if (!dataTable) return;\n",
              "\n",
              "          const docLinkHtml = 'Like what you see? Visit the ' +\n",
              "            '<a target=\"_blank\" href=https://colab.research.google.com/notebooks/data_table.ipynb>data table notebook</a>'\n",
              "            + ' to learn more about interactive tables.';\n",
              "          element.innerHTML = '';\n",
              "          dataTable['output_type'] = 'display_data';\n",
              "          await google.colab.output.renderOutput(dataTable, element);\n",
              "          const docLink = document.createElement('div');\n",
              "          docLink.innerHTML = docLinkHtml;\n",
              "          element.appendChild(docLink);\n",
              "        }\n",
              "      </script>\n",
              "    </div>\n",
              "  </div>\n",
              "  "
            ]
          },
          "metadata": {},
          "execution_count": 7
        }
      ]
    },
    {
      "cell_type": "code",
      "source": [
        "data_a1_n=data_a1.to_numpy()\n",
        "data_a1_input=data_a1_n\n",
        "data_a1_input"
      ],
      "metadata": {
        "colab": {
          "base_uri": "https://localhost:8080/"
        },
        "id": "tLKbsGSowQim",
        "outputId": "122d6cf3-4083-42f6-9a53-80b39feb6034"
      },
      "execution_count": 8,
      "outputs": [
        {
          "output_type": "execute_result",
          "data": {
            "text/plain": [
              "array([[0.27557253, 0.2762548 , 0.27704053, ..., 2.92798956, 2.93323714,\n",
              "        2.93539235],\n",
              "       [0.2678517 , 0.26851152, 0.26921755, ..., 2.93863485, 2.93829515,\n",
              "        2.93624332],\n",
              "       [0.25555381, 0.25668817, 0.25775731, ..., 2.93840655, 2.93749385,\n",
              "        2.93571684],\n",
              "       ...,\n",
              "       [0.1552058 , 0.15731428, 0.16047743, ..., 2.97383025, 2.9757238 ,\n",
              "        2.97077119],\n",
              "       [0.15121435, 0.15348471, 0.15637839, ..., 2.97915567, 2.9791782 ,\n",
              "        2.97530898],\n",
              "       [0.13738812, 0.13965845, 0.14291282, ..., 2.96171401, 2.96157269,\n",
              "        2.95829893]])"
            ]
          },
          "metadata": {},
          "execution_count": 8
        }
      ]
    },
    {
      "cell_type": "code",
      "source": [
        "data_a1_output=data_a3.iloc[0::,1:2]\n",
        "data_a1_output.head()"
      ],
      "metadata": {
        "colab": {
          "base_uri": "https://localhost:8080/",
          "height": 206
        },
        "id": "rhIm76bIwUow",
        "outputId": "7c78bb95-cdf0-4354-de69-1af4a51d60c4"
      },
      "execution_count": 9,
      "outputs": [
        {
          "output_type": "execute_result",
          "data": {
            "text/plain": [
              "    Y_C\n",
              "0  13.7\n",
              "1  13.7\n",
              "2  13.7\n",
              "3  14.0\n",
              "4  14.0"
            ],
            "text/html": [
              "\n",
              "  <div id=\"df-1afdc03b-3ce3-4ff3-81e1-79c300eabc7c\">\n",
              "    <div class=\"colab-df-container\">\n",
              "      <div>\n",
              "<style scoped>\n",
              "    .dataframe tbody tr th:only-of-type {\n",
              "        vertical-align: middle;\n",
              "    }\n",
              "\n",
              "    .dataframe tbody tr th {\n",
              "        vertical-align: top;\n",
              "    }\n",
              "\n",
              "    .dataframe thead th {\n",
              "        text-align: right;\n",
              "    }\n",
              "</style>\n",
              "<table border=\"1\" class=\"dataframe\">\n",
              "  <thead>\n",
              "    <tr style=\"text-align: right;\">\n",
              "      <th></th>\n",
              "      <th>Y_C</th>\n",
              "    </tr>\n",
              "  </thead>\n",
              "  <tbody>\n",
              "    <tr>\n",
              "      <th>0</th>\n",
              "      <td>13.7</td>\n",
              "    </tr>\n",
              "    <tr>\n",
              "      <th>1</th>\n",
              "      <td>13.7</td>\n",
              "    </tr>\n",
              "    <tr>\n",
              "      <th>2</th>\n",
              "      <td>13.7</td>\n",
              "    </tr>\n",
              "    <tr>\n",
              "      <th>3</th>\n",
              "      <td>14.0</td>\n",
              "    </tr>\n",
              "    <tr>\n",
              "      <th>4</th>\n",
              "      <td>14.0</td>\n",
              "    </tr>\n",
              "  </tbody>\n",
              "</table>\n",
              "</div>\n",
              "      <button class=\"colab-df-convert\" onclick=\"convertToInteractive('df-1afdc03b-3ce3-4ff3-81e1-79c300eabc7c')\"\n",
              "              title=\"Convert this dataframe to an interactive table.\"\n",
              "              style=\"display:none;\">\n",
              "        \n",
              "  <svg xmlns=\"http://www.w3.org/2000/svg\" height=\"24px\"viewBox=\"0 0 24 24\"\n",
              "       width=\"24px\">\n",
              "    <path d=\"M0 0h24v24H0V0z\" fill=\"none\"/>\n",
              "    <path d=\"M18.56 5.44l.94 2.06.94-2.06 2.06-.94-2.06-.94-.94-2.06-.94 2.06-2.06.94zm-11 1L8.5 8.5l.94-2.06 2.06-.94-2.06-.94L8.5 2.5l-.94 2.06-2.06.94zm10 10l.94 2.06.94-2.06 2.06-.94-2.06-.94-.94-2.06-.94 2.06-2.06.94z\"/><path d=\"M17.41 7.96l-1.37-1.37c-.4-.4-.92-.59-1.43-.59-.52 0-1.04.2-1.43.59L10.3 9.45l-7.72 7.72c-.78.78-.78 2.05 0 2.83L4 21.41c.39.39.9.59 1.41.59.51 0 1.02-.2 1.41-.59l7.78-7.78 2.81-2.81c.8-.78.8-2.07 0-2.86zM5.41 20L4 18.59l7.72-7.72 1.47 1.35L5.41 20z\"/>\n",
              "  </svg>\n",
              "      </button>\n",
              "      \n",
              "  <style>\n",
              "    .colab-df-container {\n",
              "      display:flex;\n",
              "      flex-wrap:wrap;\n",
              "      gap: 12px;\n",
              "    }\n",
              "\n",
              "    .colab-df-convert {\n",
              "      background-color: #E8F0FE;\n",
              "      border: none;\n",
              "      border-radius: 50%;\n",
              "      cursor: pointer;\n",
              "      display: none;\n",
              "      fill: #1967D2;\n",
              "      height: 32px;\n",
              "      padding: 0 0 0 0;\n",
              "      width: 32px;\n",
              "    }\n",
              "\n",
              "    .colab-df-convert:hover {\n",
              "      background-color: #E2EBFA;\n",
              "      box-shadow: 0px 1px 2px rgba(60, 64, 67, 0.3), 0px 1px 3px 1px rgba(60, 64, 67, 0.15);\n",
              "      fill: #174EA6;\n",
              "    }\n",
              "\n",
              "    [theme=dark] .colab-df-convert {\n",
              "      background-color: #3B4455;\n",
              "      fill: #D2E3FC;\n",
              "    }\n",
              "\n",
              "    [theme=dark] .colab-df-convert:hover {\n",
              "      background-color: #434B5C;\n",
              "      box-shadow: 0px 1px 3px 1px rgba(0, 0, 0, 0.15);\n",
              "      filter: drop-shadow(0px 1px 2px rgba(0, 0, 0, 0.3));\n",
              "      fill: #FFFFFF;\n",
              "    }\n",
              "  </style>\n",
              "\n",
              "      <script>\n",
              "        const buttonEl =\n",
              "          document.querySelector('#df-1afdc03b-3ce3-4ff3-81e1-79c300eabc7c button.colab-df-convert');\n",
              "        buttonEl.style.display =\n",
              "          google.colab.kernel.accessAllowed ? 'block' : 'none';\n",
              "\n",
              "        async function convertToInteractive(key) {\n",
              "          const element = document.querySelector('#df-1afdc03b-3ce3-4ff3-81e1-79c300eabc7c');\n",
              "          const dataTable =\n",
              "            await google.colab.kernel.invokeFunction('convertToInteractive',\n",
              "                                                     [key], {});\n",
              "          if (!dataTable) return;\n",
              "\n",
              "          const docLinkHtml = 'Like what you see? Visit the ' +\n",
              "            '<a target=\"_blank\" href=https://colab.research.google.com/notebooks/data_table.ipynb>data table notebook</a>'\n",
              "            + ' to learn more about interactive tables.';\n",
              "          element.innerHTML = '';\n",
              "          dataTable['output_type'] = 'display_data';\n",
              "          await google.colab.output.renderOutput(dataTable, element);\n",
              "          const docLink = document.createElement('div');\n",
              "          docLink.innerHTML = docLinkHtml;\n",
              "          element.appendChild(docLink);\n",
              "        }\n",
              "      </script>\n",
              "    </div>\n",
              "  </div>\n",
              "  "
            ]
          },
          "metadata": {},
          "execution_count": 9
        }
      ]
    },
    {
      "cell_type": "code",
      "source": [
        "data_a1_output_n=data_a1_output.to_numpy().flatten()\n",
        "data_a1_target=data_a1_output_n\n",
        "data_a1_target"
      ],
      "metadata": {
        "colab": {
          "base_uri": "https://localhost:8080/"
        },
        "id": "NHYamJ0rwZhw",
        "outputId": "ee04f301-3d8e-4ad8-c2f5-1eb8c8cbdfc2"
      },
      "execution_count": 10,
      "outputs": [
        {
          "output_type": "execute_result",
          "data": {
            "text/plain": [
              "array([13.7 , 13.7 , 13.7 , 14.  , 14.  , 14.  , 14.  , 14.  , 14.  ,\n",
              "       14.2 , 14.2 , 14.2 , 14.6 , 14.6 , 14.6 , 13.2 , 13.2 , 13.2 ,\n",
              "       15.1 , 15.1 , 15.1 , 12.2 , 12.2 , 12.2 , 14.6 , 14.6 , 14.6 ,\n",
              "       12.5 , 12.5 , 12.5 , 13.4 , 13.4 , 13.4 , 14.3 , 14.3 , 14.3 ,\n",
              "       11.7 , 11.7 , 11.7 , 12.6 , 12.6 , 12.6 ,  6.1 ,  6.1 ,  6.1 ,\n",
              "        5.1 ,  5.1 ,  5.1 ,  5.7 ,  5.7 ,  5.7 ,  5.  ,  5.  ,  5.  ,\n",
              "        6.1 ,  6.1 ,  6.1 ,  5.2 ,  5.2 ,  5.2 ,  6.1 ,  6.1 ,  6.1 ,\n",
              "        5.7 ,  5.7 ,  5.7 ,  5.3 ,  5.3 ,  5.3 ,  5.5 ,  5.5 ,  5.5 ,\n",
              "        5.1 ,  5.1 ,  5.1 ,  4.8 ,  4.8 ,  4.8 ,  5.7 ,  5.7 ,  5.7 ,\n",
              "        5.4 ,  5.4 ,  5.4 , 23.4 , 23.4 , 23.4 , 24.3 , 24.3 , 24.3 ,\n",
              "       24.3 , 24.3 , 24.3 , 23.9 , 23.9 , 23.9 , 24.5 , 24.5 , 24.5 ,\n",
              "       23.2 , 23.2 , 23.2 , 25.4 , 25.4 , 25.4 , 21.4 , 21.4 , 21.4 ,\n",
              "       24.8 , 24.8 , 24.8 , 21.8 , 21.8 , 21.8 , 22.7 , 22.7 , 22.7 ,\n",
              "       24.  , 24.  , 24.  , 20.8 , 20.8 , 20.8 , 22.3 , 22.3 , 22.3 ,\n",
              "       12.7 , 12.7 , 12.7 , 10.5 , 10.5 , 10.5 , 11.6 , 11.6 , 11.6 ,\n",
              "       10.6 , 10.6 , 12.5 , 12.5 , 12.5 , 11.7 , 11.7 , 11.7 , 12.4 ,\n",
              "       12.4 , 12.4 , 12.3 , 12.3 , 12.3 , 10.7 , 10.7 , 10.7 , 11.5 ,\n",
              "       11.5 , 11.5 , 10.8 , 10.8 , 10.8 , 10.6 , 10.6 , 10.6 , 12.4 ,\n",
              "       12.4 , 12.4 , 11.2 , 11.2 , 11.2 , 13.7 , 13.7 , 13.7 , 14.  ,\n",
              "       14.  , 14.  , 14.  , 14.  , 14.  , 14.2 , 14.2 , 14.2 , 14.6 ,\n",
              "       14.6 , 14.6 , 13.2 , 13.2 , 13.2 , 15.1 , 15.1 , 15.1 , 12.2 ,\n",
              "       12.2 , 12.2 , 14.6 , 14.6 , 14.6 , 12.5 , 12.5 , 12.5 , 13.4 ,\n",
              "       13.4 , 13.4 , 14.3 , 14.3 , 14.3 , 11.7 , 11.7 , 11.7 , 12.6 ,\n",
              "       12.6 , 12.6 ,  6.1 ,  6.1 ,  6.1 ,  5.1 ,  5.1 ,  5.1 ,  5.7 ,\n",
              "        5.7 ,  5.7 ,  5.  ,  5.  ,  5.  ,  6.1 ,  6.1 ,  6.1 ,  5.2 ,\n",
              "        5.2 ,  5.2 ,  6.1 ,  6.1 ,  6.1 ,  5.7 ,  5.7 ,  5.7 ,  5.3 ,\n",
              "        5.3 ,  5.3 ,  5.5 ,  5.5 ,  5.5 ,  5.1 ,  5.1 ,  5.1 ,  4.8 ,\n",
              "        4.8 ,  4.8 ,  5.7 ,  5.7 ,  5.7 ,  5.4 ,  5.4 ,  5.4 , 23.4 ,\n",
              "       23.4 , 23.4 , 24.3 , 24.3 , 24.3 , 24.3 , 24.3 , 24.3 , 23.9 ,\n",
              "       23.9 , 23.9 , 24.5 , 24.5 , 24.5 , 23.2 , 23.2 , 23.2 , 25.4 ,\n",
              "       25.4 , 25.4 , 21.4 , 21.4 , 21.4 , 24.8 , 24.8 , 24.8 , 21.8 ,\n",
              "       21.8 , 21.8 , 22.7 , 22.7 , 22.7 , 24.  , 24.  , 24.  , 20.8 ,\n",
              "       20.8 , 20.8 , 22.3 , 22.3 , 22.3 , 12.7 , 12.7 , 12.7 , 10.5 ,\n",
              "       10.5 , 10.5 , 11.6 , 11.6 , 11.6 , 10.6 , 10.6 , 12.5 , 12.5 ,\n",
              "       12.5 , 11.7 , 11.7 , 11.7 , 12.4 , 12.4 , 12.4 , 12.3 , 12.3 ,\n",
              "       12.3 , 10.7 , 10.7 , 10.7 , 11.5 , 11.5 , 11.5 , 10.8 , 10.8 ,\n",
              "       10.8 , 10.6 , 10.6 , 10.6 , 12.4 , 12.4 , 12.4 , 11.2 , 11.2 ,\n",
              "       11.2 , 27.1 , 27.1 , 27.6 , 27.6 , 27.1 , 27.1 , 27.2 , 27.2 ,\n",
              "       29.4 , 29.4 , 29.2 , 29.2 , 30.5 , 30.5 , 30.7 , 30.7 , 31.  ,\n",
              "       31.  , 30.8 , 30.8 , 31.5 , 31.5 , 31.1 , 31.1 , 31.3 , 31.3 ,\n",
              "       28.2 , 28.2 , 28.8 , 28.8 , 27.9 , 27.9 , 28.7 , 28.7 , 23.6 ,\n",
              "       23.6 , 23.6 , 24.  , 24.  , 24.  , 25.7 , 25.7 , 25.7 , 25.2 ,\n",
              "       25.2 , 25.2 , 25.1 , 25.1 , 25.1 , 25.3 , 25.3 , 25.3 , 25.2 ,\n",
              "       25.2 , 25.2 , 25.  , 25.  , 25.  , 25.8 , 25.8 , 25.8 , 26.2 ,\n",
              "       26.2 , 26.2 , 25.9 , 25.9 , 25.9 , 26.6 , 26.6 , 26.6 , 27.5 ,\n",
              "       27.5 , 27.5 , 26.8 , 26.8 , 26.8 , 26.3 , 26.3 , 26.3 , 24.9 ,\n",
              "       24.9 , 24.9 , 26.1 , 26.1 , 26.1 , 27.3 , 27.3 , 27.3 , 26.6 ,\n",
              "       26.6 , 26.6 , 26.9 , 26.9 , 26.9 , 27.2 , 27.2 , 27.2 , 26.3 ,\n",
              "       26.3 , 26.3 , 26.4 , 26.4 , 26.4 , 27.  , 27.  , 27.  ,  6.07,\n",
              "        6.07,  6.07,  6.45,  6.45,  6.45, 12.32, 12.32, 12.32, 13.22,\n",
              "       13.22, 13.22,  6.17,  6.17,  6.17,  6.62,  6.62,  6.62,  9.33,\n",
              "        9.33,  9.33,  9.64,  9.64,  9.64, 17.91, 17.91, 17.91, 18.12,\n",
              "       18.12, 18.12, 11.84, 11.84, 11.84, 11.42, 11.42, 11.42,  6.87,\n",
              "        6.87,  6.87,  4.35,  4.35,  4.35,  8.22,  8.22,  8.22,  8.77,\n",
              "        8.77,  8.77, 22.36, 22.36, 22.36, 22.48, 22.48, 22.48,  4.5 ,\n",
              "        4.5 ,  4.5 ,  5.4 ,  5.4 ,  5.4 ,  5.6 ,  5.6 ,  5.6 ,  5.4 ,\n",
              "        5.4 ,  5.4 ,  4.5 ,  4.5 ,  4.5 ,  6.  ,  6.  ,  6.  ,  5.4 ,\n",
              "        5.4 ,  5.4 ,  5.  ,  5.  ,  5.  , 30.2 , 30.2 , 30.2 , 29.7 ,\n",
              "       29.7 , 29.7 , 30.8 , 30.8 , 30.8 , 31.7 , 31.7 , 31.7 , 32.1 ,\n",
              "       32.1 , 32.1 , 31.4 , 31.4 , 31.4 , 32.4 , 32.4 , 32.4 , 32.1 ,\n",
              "       32.1 , 32.1 ])"
            ]
          },
          "metadata": {},
          "execution_count": 10
        }
      ]
    },
    {
      "cell_type": "code",
      "source": [
        "import multiprocessing\n",
        "import pandas as pd\n",
        "import numpy as np\n",
        "import matplotlib.pyplot as plt\n",
        "plt.style.use(['seaborn-whitegrid'])"
      ],
      "metadata": {
        "id": "PmkYa1Nx1Er9"
      },
      "execution_count": 11,
      "outputs": []
    },
    {
      "cell_type": "code",
      "source": [
        "from sklearn.svm import SVR, SVC\n",
        "from sklearn.datasets import load_boston, load_diabetes\n",
        "from sklearn.datasets import load_breast_cancer, load_iris, load_wine\n",
        "from sklearn.pipeline import make_pipeline,Pipeline\n",
        "from sklearn.model_selection import train_test_split,cross_validate, GridSearchCV\n",
        "from sklearn.preprocessing import StandardScaler, MinMaxScaler\n",
        "from sklearn.manifold import TSNE\n"
      ],
      "metadata": {
        "id": "aTWrdJnlZ6QC"
      },
      "execution_count": 12,
      "outputs": []
    },
    {
      "cell_type": "markdown",
      "source": [
        "#SVM을 사용한 분류모델 \n",
        "# 커널기법"
      ],
      "metadata": {
        "id": "BypkTxpIb6fd"
      }
    },
    {
      "cell_type": "code",
      "source": [
        "#X,y = load_boston(return_X_y=True)\n",
        "X=data_a1_input\n",
        "y=data_a1_target\n",
        "X_train, X_test, y_train, y_test=train_test_split(X, y, random_state=123)\n",
        "\n",
        "model = SVR()\n",
        "model.fit(X_train, y_train)\n",
        "\n",
        "print(\"힉습 데이터 점수:{}\".format(model.score(X_train, y_train)))\n",
        "print(\"평가 데이터 점수:{}\".format(model.score(X_test, y_test)))"
      ],
      "metadata": {
        "id": "S6s4Jpkjbzna",
        "colab": {
          "base_uri": "https://localhost:8080/"
        },
        "outputId": "d6106c27-00ef-4381-beca-f868ea98283b"
      },
      "execution_count": 13,
      "outputs": [
        {
          "output_type": "stream",
          "name": "stdout",
          "text": [
            "힉습 데이터 점수:-0.06329327817670971\n",
            "평가 데이터 점수:-0.08630847888139415\n"
          ]
        }
      ]
    },
    {
      "cell_type": "markdown",
      "source": [
        "# 시작 아님"
      ],
      "metadata": {
        "id": "bOAoIGdv5Zep"
      }
    },
    {
      "cell_type": "code",
      "source": [
        "#no\n",
        "X,y = load_breast_cancer(return_X_y=True)\n",
        "X_train, X_test, y_train, y_test=train_test_split(X, y, random_state=123)\n",
        "\n",
        "model = SVC()\n",
        "model.fit(X_train, y_train)\n",
        "\n",
        "print(\"힉습 데이터 점수:{}\".format(model.score(X_train, y_train)))\n",
        "print(\"평가 데이터 점수:{}\".format(model.score(X_test, y_test)))"
      ],
      "metadata": {
        "id": "alZPIHxUdbzy"
      },
      "execution_count": null,
      "outputs": []
    },
    {
      "cell_type": "markdown",
      "source": [
        "#커널기법"
      ],
      "metadata": {
        "id": "zYn_lqxCduc1"
      }
    },
    {
      "cell_type": "code",
      "source": [
        "#no\n",
        "X,y=load_boston(return_X_y=True)\n",
        "X_train, X_test,y_train, y_test=train_test_split(X,y,random_state=123)\n",
        "\n",
        "linear_svr=SVR(kernel='linear')\n",
        "linear_svr.fit(X_train,y_train)\n",
        "\n",
        "print(\"Linear SVR 힉습 데이터 점수:{}\".format(linear_svr.score(X_train, y_train)))\n",
        "print(\"Linear SVR 평가 데이터 점수:{}\".format(linear_svr.score(X_test, y_test)))\n",
        "\n",
        "poly_svr=SVR(kernel='poly')\n",
        "poly_svr.fit(X_train,y_train)\n",
        "\n",
        "print(\"Polynomial SVR 힉습 데이터 점수:{}\".format(poly_svr.score(X_train, y_train)))\n",
        "print(\"Polynomial SVR 평가 데이터 점수:{}\".format(poly_svr.score(X_test, y_test)))\n",
        "\n",
        "rbf_svr=SVR(kernel='rbf')\n",
        "rbf_svr.fit(X_train,y_train)\n",
        "\n",
        "print(\"RBF SVR 힉습 데이터 점수:{}\".format(rbf_svr.score(X_train, y_train)))\n",
        "print(\"RBF SVR 평가 데이터 점수:{}\".format(rbf_svr.score(X_test, y_test)))"
      ],
      "metadata": {
        "id": "wWAJqb1ZdrnN"
      },
      "execution_count": null,
      "outputs": []
    },
    {
      "cell_type": "code",
      "source": [
        "#no"
      ],
      "metadata": {
        "id": "dweo6Rzqful3"
      },
      "execution_count": null,
      "outputs": []
    },
    {
      "cell_type": "code",
      "source": [
        "X,y=load_breast_cancer(return_X_y=True)\n",
        "X_train, X_test,y_train, y_test=train_test_split(X,y,random_state=123)\n",
        "\n",
        "linear_svc=SVC(kernel='linear')\n",
        "linear_svc.fit(X_train,y_train)\n",
        "\n",
        "print(\"Linear SVC 힉습 데이터 점수:{}\".format(linear_svc.score(X_train, y_train)))\n",
        "print(\"Linear SVC 평가 데이터 점수:{}\".format(linear_svc.score(X_test, y_test)))\n",
        "\n",
        "poly_svc=SVC(kernel='poly')\n",
        "poly_svc.fit(X_train,y_train)\n",
        "\n",
        "print(\"Polynomial SVC 힉습 데이터 점수:{}\".format(poly_svc.score(X_train, y_train)))\n",
        "print(\"Polynomial SVC 평가 데이터 점수:{}\".format(poly_svc.score(X_test, y_test)))\n",
        "\n",
        "rbf_svc=SVC(kernel='rbf')\n",
        "rbf_svc.fit(X_train,y_train)\n",
        "\n",
        "print(\"RBF SVR 힉습 데이터 점수:{}\".format(rbf_svc.score(X_train, y_train)))\n",
        "print(\"RBF SVR 평가 데이터 점수:{}\".format(rbf_svc.score(X_test, y_test)))"
      ],
      "metadata": {
        "id": "0szD4XB9iLKv"
      },
      "execution_count": null,
      "outputs": []
    },
    {
      "cell_type": "markdown",
      "source": [
        "#매개변수 튜닝"
      ],
      "metadata": {
        "id": "35VKkXg-kxp7"
      }
    },
    {
      "cell_type": "code",
      "source": [
        "X,y=load_breast_cancer(return_X_y=True)\n",
        "X_train, X_test,y_train, y_test=train_test_split(X,y,random_state=123)\n",
        "\n",
        "poly_svc=SVC(kernel='poly',degree=2,C=0.1,gamma='auto')\n",
        "poly_svc.fit(X_train,y_train)\n",
        "\n",
        "print(\"kernel=poly, degree={},C={},gamma={}\".format(2,0.1,'auto'))\n",
        "\n",
        "print(\"Polynomial SVC 힉습 데이터 점수:{}\".format(poly_svc.score(X_train, y_train)))\n",
        "print(\"Polynomial SVC 평가 데이터 점수:{}\".format(poly_svc.score(X_test, y_test)))\n"
      ],
      "metadata": {
        "id": "to2eA5LNilKT"
      },
      "execution_count": null,
      "outputs": []
    },
    {
      "cell_type": "code",
      "source": [
        "rbf_svc=SVC(kernel='rbf',C=2.0, gamma='scale')\n",
        "rbf_svc.fit(X_train,y_train)\n",
        "print(\"kernel=rbf,C={},gamma={}\".format(2,0,'scale'))\n",
        "print(\"RBF SVR 힉습 데이터 점수:{}\".format(rbf_svc.score(X_train, y_train)))\n",
        "print(\"RBF SVR 평가 데이터 점수:{}\".format(rbf_svc.score(X_test, y_test)))"
      ],
      "metadata": {
        "id": "rLciKpcBmNt7"
      },
      "execution_count": null,
      "outputs": []
    },
    {
      "cell_type": "code",
      "source": [
        "scaler=MinMaxScaler()\n",
        "X_train=scaler.fit_transform(X_train)\n",
        "X_test=scaler.transform(X_test)"
      ],
      "metadata": {
        "id": "KAgJ6Lr4n-By"
      },
      "execution_count": null,
      "outputs": []
    },
    {
      "cell_type": "code",
      "source": [
        "model=SVC()\n",
        "model.fit(X_train,y_train)"
      ],
      "metadata": {
        "id": "jWf8erQwoUGB"
      },
      "execution_count": null,
      "outputs": []
    },
    {
      "cell_type": "code",
      "source": [
        "print(\"SVC 힉습 데이터 점수:{}\".format(model.score(X_train, y_train)))\n",
        "print(\"SVC 평가 데이터 점수:{}\".format(model.score(X_test, y_test)))"
      ],
      "metadata": {
        "id": "2NsYc03bomrx"
      },
      "execution_count": null,
      "outputs": []
    },
    {
      "cell_type": "code",
      "source": [
        "#no end "
      ],
      "metadata": {
        "id": "cMGWlAcBzbXa"
      },
      "execution_count": null,
      "outputs": []
    },
    {
      "cell_type": "markdown",
      "source": [
        "#끝 아님"
      ],
      "metadata": {
        "id": "cVIUHWu55uFR"
      }
    },
    {
      "cell_type": "markdown",
      "source": [
        "#Linear SVR"
      ],
      "metadata": {
        "id": "-ZnoCbjyo-1r"
      }
    },
    {
      "cell_type": "code",
      "source": [
        "#X,y=load_boston(return_X_y=True)\n",
        "X_train,X_test,y_train,y_test=train_test_split(X,y,test_size=0.1)"
      ],
      "metadata": {
        "id": "zoOIgUvfpBt0"
      },
      "execution_count": 14,
      "outputs": []
    },
    {
      "cell_type": "code",
      "source": [
        "scaler=StandardScaler()\n",
        "scaler.fit(X_train)\n",
        "X_train=scaler.transform(X_train)\n",
        "X_test=scaler.transform(X_test)"
      ],
      "metadata": {
        "id": "QPrPS8n1pZDl"
      },
      "execution_count": 15,
      "outputs": []
    },
    {
      "cell_type": "code",
      "source": [
        "model=SVR(kernel='linear')\n",
        "model.fit(X_train,y_train)"
      ],
      "metadata": {
        "id": "8K8jEukKp1fL",
        "colab": {
          "base_uri": "https://localhost:8080/"
        },
        "outputId": "afdd6427-523c-41c6-846b-f76bd627e63d"
      },
      "execution_count": 16,
      "outputs": [
        {
          "output_type": "execute_result",
          "data": {
            "text/plain": [
              "SVR(kernel='linear')"
            ]
          },
          "metadata": {},
          "execution_count": 16
        }
      ]
    },
    {
      "cell_type": "code",
      "source": [
        "print(\"학습 데이터 점수:{}\".format(model.score(X_train, y_train)))\n",
        "print(\"평가 데이터 점수:{}\".format(model.score(X_test, y_test)))"
      ],
      "metadata": {
        "id": "VVmW6qiTqBI8",
        "colab": {
          "base_uri": "https://localhost:8080/"
        },
        "outputId": "1b50613e-8f63-464e-bbd9-e474e94a64a3"
      },
      "execution_count": 17,
      "outputs": [
        {
          "output_type": "stream",
          "name": "stdout",
          "text": [
            "학습 데이터 점수:0.9974050612418404\n",
            "평가 데이터 점수:0.9937625657255058\n"
          ]
        }
      ]
    },
    {
      "cell_type": "markdown",
      "source": [
        "#시작 아님"
      ],
      "metadata": {
        "id": "ZALFO53t6FzO"
      }
    },
    {
      "cell_type": "code",
      "source": [
        "X_comp=TSNE(n_components=1).fit_transform(X)\n",
        "import matplotlib.pyplot as plt\n",
        "plt.scatter(X_comp,y);"
      ],
      "metadata": {
        "id": "lvlKrddRrEAK",
        "colab": {
          "base_uri": "https://localhost:8080/",
          "height": 358
        },
        "outputId": "69a55824-ee09-468a-e4cb-904668955862"
      },
      "execution_count": null,
      "outputs": [
        {
          "output_type": "stream",
          "name": "stderr",
          "text": [
            "/usr/local/lib/python3.8/dist-packages/sklearn/manifold/_t_sne.py:780: FutureWarning: The default initialization in TSNE will change from 'random' to 'pca' in 1.2.\n",
            "  warnings.warn(\n",
            "/usr/local/lib/python3.8/dist-packages/sklearn/manifold/_t_sne.py:790: FutureWarning: The default learning rate in TSNE will change from 200.0 to 'auto' in 1.2.\n",
            "  warnings.warn(\n"
          ]
        },
        {
          "output_type": "display_data",
          "data": {
            "text/plain": [
              "<Figure size 432x288 with 1 Axes>"
            ],
            "image/png": "[encoded data removed]"
          },
          "metadata": {
            "needs_background": "light"
          }
        }
      ]
    },
    {
      "cell_type": "code",
      "source": [
        "model.fit(X_comp,y)\n",
        "predict=model.predict(X_comp)\n",
        "plt.scatter(X_comp,y)\n",
        "plt.scatter(X_comp,predict)\n"
      ],
      "metadata": {
        "id": "LA-_hIQNr53J",
        "colab": {
          "base_uri": "https://localhost:8080/",
          "height": 283
        },
        "outputId": "a4cbc394-2a24-45f1-c914-9389a163b47e"
      },
      "execution_count": null,
      "outputs": [
        {
          "output_type": "execute_result",
          "data": {
            "text/plain": [
              "<matplotlib.collections.PathCollection at 0x7fb4614719a0>"
            ]
          },
          "metadata": {},
          "execution_count": 19
        },
        {
          "output_type": "display_data",
          "data": {
            "text/plain": [
              "<Figure size 432x288 with 1 Axes>"
            ],
            "image/png": "[encoded data removed]"
          },
          "metadata": {
            "needs_background": "light"
          }
        }
      ]
    },
    {
      "cell_type": "markdown",
      "source": [
        "# 끝 아님"
      ],
      "metadata": {
        "id": "IR0QvnaL6LGP"
      }
    },
    {
      "cell_type": "code",
      "source": [
        "estimator=make_pipeline(StandardScaler(), SVR(kernel='linear'))\n",
        "cross_validate(\n",
        "    estimator=estimator,\n",
        "    X=X, y=y,\n",
        "    cv=10,\n",
        "    n_jobs=multiprocessing.cpu_count(),\n",
        "    verbose=True\n",
        ")"
      ],
      "metadata": {
        "id": "WPLjeMfjriZw",
        "colab": {
          "base_uri": "https://localhost:8080/"
        },
        "outputId": "0c224e0f-3b8c-4b0c-9057-2eadfcd506ec"
      },
      "execution_count": 18,
      "outputs": [
        {
          "output_type": "stream",
          "name": "stderr",
          "text": [
            "[Parallel(n_jobs=2)]: Using backend LokyBackend with 2 concurrent workers.\n",
            "[Parallel(n_jobs=2)]: Done  10 out of  10 | elapsed:  1.3min finished\n"
          ]
        },
        {
          "output_type": "execute_result",
          "data": {
            "text/plain": [
              "{'fit_time': array([19.07786608, 21.46923733, 15.37848091, 15.79028559, 14.74917078,\n",
              "        13.71317244, 14.08145332, 11.59778118, 16.76653457, 12.38208699]),\n",
              " 'score_time': array([0.02252531, 0.02206039, 0.02104187, 0.02078605, 0.02120352,\n",
              "        0.02045345, 0.02133036, 0.02019835, 0.01576781, 0.02009559]),\n",
              " 'test_score': array([ 0.98210634,  0.99773074,  0.99045286,  0.97461192,  0.9969334 ,\n",
              "         0.99004441,  0.9553763 , -0.09169362,  0.80388634,  0.85876126])}"
            ]
          },
          "metadata": {},
          "execution_count": 18
        }
      ]
    },
    {
      "cell_type": "code",
      "source": [
        "estimator=make_pipeline(StandardScaler(), SVR(C=1,epsilon=0.01, kernel='linear'))\n",
        "cross_validate(\n",
        "    estimator=estimator,\n",
        "    X=X, y=y,\n",
        "    cv=10,\n",
        "    n_jobs=multiprocessing.cpu_count(),\n",
        "    verbose=True\n",
        ")"
      ],
      "metadata": {
        "colab": {
          "base_uri": "https://localhost:8080/"
        },
        "id": "x9nzgkan9Xb5",
        "outputId": "e42996b7-112e-49b3-f818-92cba8f7a544"
      },
      "execution_count": 19,
      "outputs": [
        {
          "output_type": "stream",
          "name": "stderr",
          "text": [
            "[Parallel(n_jobs=2)]: Using backend LokyBackend with 2 concurrent workers.\n",
            "[Parallel(n_jobs=2)]: Done  10 out of  10 | elapsed:  1.4min finished\n"
          ]
        },
        {
          "output_type": "execute_result",
          "data": {
            "text/plain": [
              "{'fit_time': array([17.23521805, 14.07692528, 15.29909968, 13.35158348, 16.02171612,\n",
              "        19.5512948 , 17.32248235, 13.84812522, 20.34809232, 17.96328545]),\n",
              " 'score_time': array([0.02466297, 0.02361274, 0.02406287, 0.02216005, 0.02389574,\n",
              "        0.02293849, 0.02230215, 0.0436604 , 0.01843429, 0.02320194]),\n",
              " 'test_score': array([ 0.98265026,  0.99756965,  0.98848107,  0.97420444,  0.99631763,\n",
              "         0.98941102,  0.9558808 , -0.23128611,  0.8050847 ,  0.86593324])}"
            ]
          },
          "metadata": {},
          "execution_count": 19
        }
      ]
    },
    {
      "cell_type": "code",
      "source": [
        "estimator=make_pipeline(StandardScaler(), SVR(C=1,epsilon=0.1, kernel='linear'))\n",
        "cross_validate(\n",
        "    estimator=estimator,\n",
        "    X=X, y=y,\n",
        "    cv=10,\n",
        "    n_jobs=multiprocessing.cpu_count(),\n",
        "    verbose=True\n",
        ")"
      ],
      "metadata": {
        "colab": {
          "base_uri": "https://localhost:8080/"
        },
        "id": "3QGlUr2s-eSn",
        "outputId": "396e7793-2746-418d-bb87-47ac27e821df"
      },
      "execution_count": 20,
      "outputs": [
        {
          "output_type": "stream",
          "name": "stderr",
          "text": [
            "[Parallel(n_jobs=2)]: Using backend LokyBackend with 2 concurrent workers.\n",
            "[Parallel(n_jobs=2)]: Done  10 out of  10 | elapsed:  1.2min finished\n"
          ]
        },
        {
          "output_type": "execute_result",
          "data": {
            "text/plain": [
              "{'fit_time': array([13.94475007, 16.62571383, 15.37785864, 16.33008909, 15.33606935,\n",
              "        13.73674607, 13.75228143, 11.09688544, 16.74355435, 12.3988328 ]),\n",
              " 'score_time': array([0.0238688 , 0.02204537, 0.0610857 , 0.02008343, 0.02030349,\n",
              "        0.02035332, 0.02421165, 0.02091241, 0.01574802, 0.02445006]),\n",
              " 'test_score': array([ 0.98210634,  0.99773074,  0.99045286,  0.97461192,  0.9969334 ,\n",
              "         0.99004441,  0.9553763 , -0.09169362,  0.80388634,  0.85876126])}"
            ]
          },
          "metadata": {},
          "execution_count": 20
        }
      ]
    },
    {
      "cell_type": "code",
      "source": [
        "estimator=make_pipeline(StandardScaler(), SVR(C=1,epsilon=1, kernel='linear'))\n",
        "cross_validate(\n",
        "    estimator=estimator,\n",
        "    X=X, y=y,\n",
        "    cv=10,\n",
        "    n_jobs=multiprocessing.cpu_count(),\n",
        "    verbose=True\n",
        ")"
      ],
      "metadata": {
        "colab": {
          "base_uri": "https://localhost:8080/"
        },
        "id": "wY85LkBW_p9d",
        "outputId": "1646baad-b563-41e3-87e0-d848ef855ac0"
      },
      "execution_count": 21,
      "outputs": [
        {
          "output_type": "stream",
          "name": "stderr",
          "text": [
            "[Parallel(n_jobs=2)]: Using backend LokyBackend with 2 concurrent workers.\n",
            "[Parallel(n_jobs=2)]: Done  10 out of  10 | elapsed:    6.5s finished\n"
          ]
        },
        {
          "output_type": "execute_result",
          "data": {
            "text/plain": [
              "{'fit_time': array([1.68658614, 1.49428248, 1.45692778, 1.36790204, 1.68334723,\n",
              "        1.52232957, 1.24370813, 1.06645465, 0.40015388, 0.62331152]),\n",
              " 'score_time': array([0.00871801, 0.00792241, 0.00737619, 0.01020622, 0.01137686,\n",
              "        0.00725412, 0.00837922, 0.00712991, 0.00528479, 0.00511813]),\n",
              " 'test_score': array([ 0.97091301,  0.99553525,  0.96913532,  0.97161121,  0.99536396,\n",
              "         0.98075792,  0.97919676, -0.39470302,  0.45604121,  0.89307196])}"
            ]
          },
          "metadata": {},
          "execution_count": 21
        }
      ]
    },
    {
      "cell_type": "code",
      "source": [
        "estimator=make_pipeline(StandardScaler(), SVR(C=1,epsilon=0.005, kernel='linear'))\n",
        "cross_validate(\n",
        "    estimator=estimator,\n",
        "    X=X, y=y,\n",
        "    cv=10,\n",
        "    n_jobs=multiprocessing.cpu_count(),\n",
        "    verbose=True\n",
        ")"
      ],
      "metadata": {
        "colab": {
          "base_uri": "https://localhost:8080/"
        },
        "id": "mEqGfsQsA-UE",
        "outputId": "b8c4573a-9602-4223-d4a4-fc549392058f"
      },
      "execution_count": 22,
      "outputs": [
        {
          "output_type": "stream",
          "name": "stderr",
          "text": [
            "[Parallel(n_jobs=2)]: Using backend LokyBackend with 2 concurrent workers.\n",
            "[Parallel(n_jobs=2)]: Done  10 out of  10 | elapsed:  1.4min finished\n"
          ]
        },
        {
          "output_type": "execute_result",
          "data": {
            "text/plain": [
              "{'fit_time': array([18.48724985, 13.83816838, 17.08170938, 16.35237765, 15.44149899,\n",
              "        15.89272428, 19.70477557, 14.93776321, 20.51454592, 15.68735862]),\n",
              " 'score_time': array([0.02339935, 0.02356744, 0.02308989, 0.02360225, 0.02396584,\n",
              "        0.02363682, 0.02460384, 0.02280426, 0.02560902, 0.02291775]),\n",
              " 'test_score': array([ 0.98270505,  0.99756301,  0.98846361,  0.97428529,  0.99629758,\n",
              "         0.98938375,  0.95523591, -0.24316316,  0.80514125,  0.86661545])}"
            ]
          },
          "metadata": {},
          "execution_count": 22
        }
      ]
    },
    {
      "cell_type": "code",
      "source": [
        "estimator=make_pipeline(StandardScaler(), SVR(kernel='rbf'))\n",
        "cross_validate(\n",
        "    estimator=estimator,\n",
        "    X=X, y=y,\n",
        "    cv=10,\n",
        "    n_jobs=multiprocessing.cpu_count(),\n",
        "    verbose=True\n",
        ")"
      ],
      "metadata": {
        "colab": {
          "base_uri": "https://localhost:8080/"
        },
        "id": "QYqnS8UjzGf5",
        "outputId": "de22e805-a732-42e4-f4dd-e100e6ac32d7"
      },
      "execution_count": 23,
      "outputs": [
        {
          "output_type": "stream",
          "name": "stderr",
          "text": [
            "[Parallel(n_jobs=2)]: Using backend LokyBackend with 2 concurrent workers.\n",
            "[Parallel(n_jobs=2)]: Done  10 out of  10 | elapsed:    2.3s finished\n"
          ]
        },
        {
          "output_type": "execute_result",
          "data": {
            "text/plain": [
              "{'fit_time': array([0.40124774, 0.3687582 , 0.35125208, 0.41643167, 0.36205554,\n",
              "        0.37788224, 0.34844661, 0.37565088, 0.35169888, 0.33407521]),\n",
              " 'score_time': array([0.06906295, 0.07453251, 0.07425451, 0.07995582, 0.08603477,\n",
              "        0.08622503, 0.08067775, 0.07892823, 0.08222294, 0.036479  ]),\n",
              " 'test_score': array([ 0.58372223,  0.80030434,  0.64029506,  0.69929918,  0.79042216,\n",
              "         0.69831792,  0.42589322, -2.98063777, -1.63016745,  0.34199398])}"
            ]
          },
          "metadata": {},
          "execution_count": 23
        }
      ]
    },
    {
      "cell_type": "code",
      "source": [
        "estimator=make_pipeline(StandardScaler(), SVR(C=1, epsilon=0.001,kernel='rbf'))\n",
        "cross_validate(\n",
        "    estimator=estimator,\n",
        "    X=X, y=y,\n",
        "    cv=10,\n",
        "    n_jobs=multiprocessing.cpu_count(),\n",
        "    verbose=True\n",
        ")"
      ],
      "metadata": {
        "colab": {
          "base_uri": "https://localhost:8080/"
        },
        "id": "77iZyQeZRpqq",
        "outputId": "ee30c0e4-6f9d-465e-ca6d-8d91936b1fa6"
      },
      "execution_count": 27,
      "outputs": [
        {
          "output_type": "stream",
          "name": "stderr",
          "text": [
            "[Parallel(n_jobs=2)]: Using backend LokyBackend with 2 concurrent workers.\n",
            "[Parallel(n_jobs=2)]: Done  10 out of  10 | elapsed:    2.4s finished\n"
          ]
        },
        {
          "output_type": "execute_result",
          "data": {
            "text/plain": [
              "{'fit_time': array([0.41491699, 0.38050437, 0.41196537, 0.37855101, 0.38986564,\n",
              "        0.40060616, 0.37483454, 0.39576054, 0.36399031, 0.39347363]),\n",
              " 'score_time': array([0.07490444, 0.08441138, 0.07723522, 0.07676196, 0.08187866,\n",
              "        0.0864017 , 0.09170151, 0.07921028, 0.08522987, 0.04162288]),\n",
              " 'test_score': array([ 0.59137793,  0.80033634,  0.63371537,  0.68778536,  0.7887152 ,\n",
              "         0.69708412,  0.41190331, -2.92580489, -1.65380573,  0.34077406])}"
            ]
          },
          "metadata": {},
          "execution_count": 27
        }
      ]
    },
    {
      "cell_type": "code",
      "source": [
        "estimator=make_pipeline(StandardScaler(), SVR(C=0.1, epsilon=0.1,kernel='rbf'))\n",
        "cross_validate(\n",
        "    estimator=estimator,\n",
        "    X=X, y=y,\n",
        "    cv=10,\n",
        "    n_jobs=multiprocessing.cpu_count(),\n",
        "    verbose=True\n",
        ")"
      ],
      "metadata": {
        "colab": {
          "base_uri": "https://localhost:8080/"
        },
        "id": "o7VKNAs08K_4",
        "outputId": "d10c7a0f-b1be-499d-b085-a701765714d5"
      },
      "execution_count": 24,
      "outputs": [
        {
          "output_type": "stream",
          "name": "stderr",
          "text": [
            "[Parallel(n_jobs=2)]: Using backend LokyBackend with 2 concurrent workers.\n",
            "[Parallel(n_jobs=2)]: Done  10 out of  10 | elapsed:    2.5s finished\n"
          ]
        },
        {
          "output_type": "execute_result",
          "data": {
            "text/plain": [
              "{'fit_time': array([0.47985697, 0.4694016 , 0.46938634, 0.44995546, 0.3857317 ,\n",
              "        0.37992263, 0.3772819 , 0.4350884 , 0.35838842, 0.37098026]),\n",
              " 'score_time': array([0.10007906, 0.09006   , 0.07520914, 0.07476807, 0.07559919,\n",
              "        0.07356095, 0.08116865, 0.07671809, 0.0931747 , 0.04905319]),\n",
              " 'test_score': array([-4.01652131e-01,  1.35608344e-01,  5.22057373e-02, -1.52579495e-01,\n",
              "         1.65269956e-01,  1.49232249e-01, -2.50077563e+00, -1.94555281e+02,\n",
              "        -1.59017867e+00,  3.55817679e-02])}"
            ]
          },
          "metadata": {},
          "execution_count": 24
        }
      ]
    },
    {
      "cell_type": "code",
      "source": [
        "estimator=make_pipeline(StandardScaler(), SVR(kernel='poly'))\n",
        "cross_validate(\n",
        "    estimator=estimator,\n",
        "    X=X, y=y,\n",
        "    cv=10,\n",
        "    n_jobs=multiprocessing.cpu_count(),\n",
        "    verbose=True\n",
        ")"
      ],
      "metadata": {
        "colab": {
          "base_uri": "https://localhost:8080/"
        },
        "id": "fslrLWuBzQfg",
        "outputId": "b5b9e63a-cee8-4c91-cc35-f15d15759081"
      },
      "execution_count": 25,
      "outputs": [
        {
          "output_type": "stream",
          "name": "stderr",
          "text": [
            "[Parallel(n_jobs=2)]: Using backend LokyBackend with 2 concurrent workers.\n",
            "[Parallel(n_jobs=2)]: Done  10 out of  10 | elapsed:    2.2s finished\n"
          ]
        },
        {
          "output_type": "execute_result",
          "data": {
            "text/plain": [
              "{'fit_time': array([0.39803958, 0.38766193, 0.41077232, 0.39438224, 0.41247463,\n",
              "        0.4369278 , 0.36125493, 0.39182091, 0.34249806, 0.35377836]),\n",
              " 'score_time': array([0.03574967, 0.03574228, 0.04410934, 0.03200912, 0.03830695,\n",
              "        0.03781843, 0.05589199, 0.04047704, 0.03557086, 0.01822233]),\n",
              " 'test_score': array([-2.07190231e-01,  3.73972782e-01,  2.32124228e-01, -1.32895450e-01,\n",
              "         3.87063949e-01,  5.51756599e-01, -9.97755772e-02, -5.65712805e+01,\n",
              "         2.85943145e-02,  2.10858563e-01])}"
            ]
          },
          "metadata": {},
          "execution_count": 25
        }
      ]
    },
    {
      "cell_type": "code",
      "source": [
        "estimator=make_pipeline(StandardScaler(), SVR(kernel='sigmoid'))\n",
        "cross_validate(\n",
        "    estimator=estimator,\n",
        "    X=X, y=y,\n",
        "    cv=10,\n",
        "    n_jobs=multiprocessing.cpu_count(),\n",
        "    verbose=True\n",
        ")"
      ],
      "metadata": {
        "colab": {
          "base_uri": "https://localhost:8080/"
        },
        "id": "RrIFZC14zg_p",
        "outputId": "08096bf8-934b-45fd-cddb-8ee7f7cf8b8f"
      },
      "execution_count": 26,
      "outputs": [
        {
          "output_type": "stream",
          "name": "stderr",
          "text": [
            "[Parallel(n_jobs=2)]: Using backend LokyBackend with 2 concurrent workers.\n",
            "[Parallel(n_jobs=2)]: Done  10 out of  10 | elapsed:    2.2s finished\n"
          ]
        },
        {
          "output_type": "execute_result",
          "data": {
            "text/plain": [
              "{'fit_time': array([0.38246846, 0.39747286, 0.37853527, 0.40019178, 0.36525249,\n",
              "        0.38333392, 0.37756848, 0.39775991, 0.37523675, 0.37786794]),\n",
              " 'score_time': array([0.03862143, 0.03516388, 0.03956866, 0.03322625, 0.03839874,\n",
              "        0.0352273 , 0.03838658, 0.03873301, 0.04018545, 0.02070451]),\n",
              " 'test_score': array([  -0.52388426,    0.47625374,   -1.62319076,   -1.52770672,\n",
              "           0.42477008,   -1.42287755,   -3.85844141, -369.97215685,\n",
              "          -1.19530691,   -3.2636545 ])}"
            ]
          },
          "metadata": {},
          "execution_count": 26
        }
      ]
    },
    {
      "cell_type": "code",
      "source": [
        "pipe=Pipeline([('scaler',StandardScaler()),\n",
        "               ('model', SVR(kernel='linear'))])\n",
        "param_grid=[{'model__gamma':['scale','auto'],\n",
        "              'model__C':[1.0, 0.1, 0.01],\n",
        "              'model__epsilon':[1.0, 0.1, 0.01]}]\n",
        "gs=GridSearchCV(\n",
        "    estimator=pipe,\n",
        "    param_grid = param_grid,\n",
        "    n_jobs=multiprocessing.cpu_count(),\n",
        "    cv=5,\n",
        "    verbose=True\n",
        ")\n",
        "\n"
      ],
      "metadata": {
        "id": "DCee17JJiOe9"
      },
      "execution_count": null,
      "outputs": []
    },
    {
      "cell_type": "code",
      "source": [
        "gs.fit(X,y)"
      ],
      "metadata": {
        "id": "eXCQnArGw8NV",
        "colab": {
          "base_uri": "https://localhost:8080/"
        },
        "outputId": "37c3d17f-9ea6-489c-b49e-a0624f039723"
      },
      "execution_count": null,
      "outputs": [
        {
          "output_type": "stream",
          "name": "stdout",
          "text": [
            "Fitting 5 folds for each of 18 candidates, totalling 90 fits\n"
          ]
        },
        {
          "output_type": "execute_result",
          "data": {
            "text/plain": [
              "GridSearchCV(cv=5,\n",
              "             estimator=Pipeline(steps=[('scaler', StandardScaler()),\n",
              "                                       ('model', SVR(kernel='linear'))]),\n",
              "             n_jobs=2,\n",
              "             param_grid=[{'model__C': [1.0, 0.1, 0.01],\n",
              "                          'model__epsilon': [1.0, 0.1, 0.01],\n",
              "                          'model__gamma': ['scale', 'auto']}],\n",
              "             verbose=True)"
            ]
          },
          "metadata": {},
          "execution_count": 27
        }
      ]
    },
    {
      "cell_type": "code",
      "source": [
        "gs.best_estimator_"
      ],
      "metadata": {
        "id": "m4yebLmcw-ta",
        "colab": {
          "base_uri": "https://localhost:8080/"
        },
        "outputId": "a612cd0e-f404-40ef-9aab-34ce3b9e0593"
      },
      "execution_count": null,
      "outputs": [
        {
          "output_type": "execute_result",
          "data": {
            "text/plain": [
              "Pipeline(steps=[('scaler', StandardScaler()),\n",
              "                ('model', SVR(C=0.1, epsilon=0.01, kernel='linear'))])"
            ]
          },
          "metadata": {},
          "execution_count": 28
        }
      ]
    },
    {
      "cell_type": "code",
      "source": [
        "model=gs.best_estimator_\n",
        "model.fit(X_train, y_train)"
      ],
      "metadata": {
        "colab": {
          "base_uri": "https://localhost:8080/"
        },
        "id": "mF6V0XkM2ETf",
        "outputId": "57c08ed5-62b4-43e3-e7f6-96bc462452f8"
      },
      "execution_count": null,
      "outputs": [
        {
          "output_type": "execute_result",
          "data": {
            "text/plain": [
              "Pipeline(steps=[('scaler', StandardScaler()),\n",
              "                ('model', SVR(C=0.1, epsilon=0.01, kernel='linear'))])"
            ]
          },
          "metadata": {},
          "execution_count": 29
        }
      ]
    },
    {
      "cell_type": "code",
      "source": [
        "print(\"학습 데이터 점수:{}\".format(model.score(X_train, y_train)))\n",
        "print(\"평가 데이터 점수:{}\".format(model.score(X_test, y_test)))"
      ],
      "metadata": {
        "colab": {
          "base_uri": "https://localhost:8080/"
        },
        "id": "aznhTZUB2ORA",
        "outputId": "5eaaae18-0920-4afc-f139-fab5e87e4bc5"
      },
      "execution_count": null,
      "outputs": [
        {
          "output_type": "stream",
          "name": "stdout",
          "text": [
            "학습 데이터 점수:0.7523130233842064\n",
            "평가 데이터 점수:0.7126604225342954\n"
          ]
        }
      ]
    },
    {
      "cell_type": "code",
      "source": [
        "# no start------------------------------"
      ],
      "metadata": {
        "id": "nM6rQ9qn2S-F"
      },
      "execution_count": null,
      "outputs": []
    },
    {
      "cell_type": "markdown",
      "source": [
        "#당뇨병"
      ],
      "metadata": {
        "id": "-qAIvw75zOya"
      }
    },
    {
      "cell_type": "code",
      "source": [
        "X,y=load_diabetes(return_X_y=True)\n",
        "X_train,X_test,y_train,y_test=train_test_split(X,y,test_size=0.2)"
      ],
      "metadata": {
        "id": "TX68MLRBzj4B"
      },
      "execution_count": null,
      "outputs": []
    },
    {
      "cell_type": "code",
      "source": [
        "scaler=StandardScaler()\n",
        "scaler.fit(X_train)\n",
        "X_train=scaler.transform(X_train)\n",
        "X_test=scaler.transform(X_test)"
      ],
      "metadata": {
        "id": "baH1zwuezj4H"
      },
      "execution_count": null,
      "outputs": []
    },
    {
      "cell_type": "code",
      "source": [
        "model=SVR(kernel='linear')\n",
        "model.fit(X_train,y_train)"
      ],
      "metadata": {
        "id": "wenS-vJZzj4H"
      },
      "execution_count": null,
      "outputs": []
    },
    {
      "cell_type": "code",
      "source": [
        "print(\"학습 데이터 점수:{}\".format(model.score(X_train, y_train)))\n",
        "print(\"평가 데이터 점수:{}\".format(model.score(X_test, y_test)))"
      ],
      "metadata": {
        "id": "GdBe2FAZzj4H"
      },
      "execution_count": null,
      "outputs": []
    },
    {
      "cell_type": "code",
      "source": [
        "X_comp=TSNE(n_components=1).fit_transform(X)\n",
        "plt.scatter(X_comp,y);"
      ],
      "metadata": {
        "id": "ldS0Ro2jzj4I"
      },
      "execution_count": null,
      "outputs": []
    },
    {
      "cell_type": "code",
      "source": [
        "model.fit(X_comp,y)\n",
        "predict=model.predict(X_comp)\n",
        "plt.scatter(X_comp,y)\n",
        "plt.scatter(X_comp,predict)\n"
      ],
      "metadata": {
        "id": "uVJPEJGBzj4I"
      },
      "execution_count": null,
      "outputs": []
    },
    {
      "cell_type": "code",
      "source": [
        "estimator=make_pipeline(StandardScaler(), SVR(kernel='linear'))\n",
        "cross_validate(\n",
        "    estimator=estimator,\n",
        "    X=X, y=y,\n",
        "    cv=5,\n",
        "    n_jobs=multiprocessing.cpu_count(),\n",
        "    verbose=True\n",
        ")"
      ],
      "metadata": {
        "id": "edC5C3mEzj4I"
      },
      "execution_count": null,
      "outputs": []
    },
    {
      "cell_type": "code",
      "source": [
        "pipe=Pipeline([('scaler',StandardScaler()),\n",
        "               ('model', SVR(kernel='linear'))])\n",
        "param_grid=[{'model__gamma':['scale','auto'],\n",
        "              'model__C':[1.0, 0.1, 0.01],\n",
        "              'model__epsilon':[1.0, 0.1, 0.01]}]\n",
        "gs=GridSearchCV(\n",
        "    estimator=pipe,\n",
        "    param_grid = param_grid,\n",
        "    n_jobs=multiprocessing.cpu_count(),\n",
        "    cv=5,\n",
        "    verbose=True\n",
        ")\n",
        "\n"
      ],
      "metadata": {
        "id": "l3Zs0XcKzj4I"
      },
      "execution_count": null,
      "outputs": []
    },
    {
      "cell_type": "code",
      "source": [
        "gs.fit(X,y)"
      ],
      "metadata": {
        "id": "48AaGDiQzj4I"
      },
      "execution_count": null,
      "outputs": []
    },
    {
      "cell_type": "code",
      "source": [
        "gs.best_estimator_"
      ],
      "metadata": {
        "id": "lO2tXerczj4I"
      },
      "execution_count": null,
      "outputs": []
    },
    {
      "cell_type": "markdown",
      "source": [
        "#당뇨병\n"
      ],
      "metadata": {
        "id": "c-nPSFMy0oXK"
      }
    },
    {
      "cell_type": "code",
      "source": [
        "#no end ------------------------"
      ],
      "metadata": {
        "id": "TKG76Aw42fMl"
      },
      "execution_count": null,
      "outputs": []
    },
    {
      "cell_type": "code",
      "source": [
        "#X,y=load_diabetes(return_X_y=True)\n",
        "X_train,X_test,y_train,y_test=train_test_split(X,y,test_size=0.2)"
      ],
      "metadata": {
        "id": "Cdb3tb8H055L"
      },
      "execution_count": null,
      "outputs": []
    },
    {
      "cell_type": "code",
      "source": [
        "scaler=StandardScaler()\n",
        "scaler.fit(X_train)\n",
        "X_train=scaler.transform(X_train)\n",
        "X_test=scaler.transform(X_test)"
      ],
      "metadata": {
        "id": "q_rXdC-v055M"
      },
      "execution_count": null,
      "outputs": []
    },
    {
      "cell_type": "code",
      "source": [
        "model=SVR(kernel='rbf')\n",
        "model.fit(X_train,y_train)"
      ],
      "metadata": {
        "id": "umZH2l9k055M",
        "colab": {
          "base_uri": "https://localhost:8080/"
        },
        "outputId": "93547bcc-c6cc-4e46-9ee7-7c742e7c2d0b"
      },
      "execution_count": null,
      "outputs": [
        {
          "output_type": "execute_result",
          "data": {
            "text/plain": [
              "SVR()"
            ]
          },
          "metadata": {},
          "execution_count": 33
        }
      ]
    },
    {
      "cell_type": "code",
      "source": [
        "print(\"학습 데이터 점수:{}\".format(model.score(X_train, y_train)))\n",
        "print(\"평가 데이터 점수:{}\".format(model.score(X_test, y_test)))"
      ],
      "metadata": {
        "id": "xWvibKiL055M",
        "colab": {
          "base_uri": "https://localhost:8080/"
        },
        "outputId": "dc3a9b7e-68e4-43d5-bcc8-1a909b1f6893"
      },
      "execution_count": null,
      "outputs": [
        {
          "output_type": "stream",
          "name": "stdout",
          "text": [
            "학습 데이터 점수:0.36347457856147947\n",
            "평가 데이터 점수:0.28840860929878154\n"
          ]
        }
      ]
    },
    {
      "cell_type": "code",
      "source": [
        "X_comp=TSNE(n_components=1).fit_transform(X)\n",
        "plt.scatter(X_comp,y);"
      ],
      "metadata": {
        "id": "3jz_KMge055M",
        "colab": {
          "base_uri": "https://localhost:8080/",
          "height": 355
        },
        "outputId": "9535ae4a-7255-4f37-c48d-76ad88fdd031"
      },
      "execution_count": null,
      "outputs": [
        {
          "output_type": "stream",
          "name": "stderr",
          "text": [
            "/usr/local/lib/python3.8/dist-packages/sklearn/manifold/_t_sne.py:780: FutureWarning: The default initialization in TSNE will change from 'random' to 'pca' in 1.2.\n",
            "  warnings.warn(\n",
            "/usr/local/lib/python3.8/dist-packages/sklearn/manifold/_t_sne.py:790: FutureWarning: The default learning rate in TSNE will change from 200.0 to 'auto' in 1.2.\n",
            "  warnings.warn(\n"
          ]
        },
        {
          "output_type": "display_data",
          "data": {
            "text/plain": [
              "<Figure size 432x288 with 1 Axes>"
            ],
            "image/png": "[encoded data removed]"
          },
          "metadata": {}
        }
      ]
    },
    {
      "cell_type": "code",
      "source": [
        "model.fit(X_comp,y)\n",
        "predict=model.predict(X_comp)\n",
        "plt.scatter(X_comp,y)\n",
        "plt.scatter(X_comp,predict)\n"
      ],
      "metadata": {
        "id": "iaHNRoHT055M",
        "colab": {
          "base_uri": "https://localhost:8080/",
          "height": 280
        },
        "outputId": "9a10ff9d-273d-4b81-9b01-aa4303c7373c"
      },
      "execution_count": null,
      "outputs": [
        {
          "output_type": "execute_result",
          "data": {
            "text/plain": [
              "<matplotlib.collections.PathCollection at 0x7fb45ffa77f0>"
            ]
          },
          "metadata": {},
          "execution_count": 33
        },
        {
          "output_type": "display_data",
          "data": {
            "text/plain": [
              "<Figure size 432x288 with 1 Axes>"
            ],
            "image/png": "[encoded data removed]"
          },
          "metadata": {}
        }
      ]
    },
    {
      "cell_type": "code",
      "source": [
        "estimator=make_pipeline(StandardScaler(), SVR(kernel='rbf'))\n",
        "cross_validate(\n",
        "    estimator=estimator,\n",
        "    X=X, y=y,\n",
        "    cv=5,\n",
        "    n_jobs=multiprocessing.cpu_count(),\n",
        "    verbose=True\n",
        ")"
      ],
      "metadata": {
        "id": "OKWqahRi055M",
        "colab": {
          "base_uri": "https://localhost:8080/"
        },
        "outputId": "34580d97-7722-4e12-a74d-5df7c2e408d1"
      },
      "execution_count": null,
      "outputs": [
        {
          "output_type": "stream",
          "name": "stderr",
          "text": [
            "[Parallel(n_jobs=2)]: Using backend LokyBackend with 2 concurrent workers.\n",
            "[Parallel(n_jobs=2)]: Done   5 out of   5 | elapsed:    7.2s finished\n"
          ]
        },
        {
          "output_type": "execute_result",
          "data": {
            "text/plain": [
              "{'fit_time': array([2.16882086, 2.17559576, 2.08235359, 2.15419555, 0.964679  ]),\n",
              " 'score_time': array([0.77614141, 0.81867838, 0.74545097, 0.80946922, 0.38967323]),\n",
              " 'test_score': array([-1.15944887, -0.87340122, -0.08337016, -0.97905145, -1.48757937])}"
            ]
          },
          "metadata": {},
          "execution_count": 35
        }
      ]
    },
    {
      "cell_type": "markdown",
      "source": [
        "#RBF, POlynomial, Sigmoid RBF--Best"
      ],
      "metadata": {
        "id": "p94y96tJ68M4"
      }
    },
    {
      "cell_type": "code",
      "source": [
        "pipe=Pipeline([('scaler',StandardScaler()),\n",
        "               ('model', SVR(kernel='rbf'))])\n",
        "param_grid=[{'model__kernel':['rbf','polynomial', 'sigmoid']}]\n",
        "        \n",
        "gs=GridSearchCV(\n",
        "    estimator=pipe,\n",
        "    param_grid = param_grid,\n",
        "    n_jobs=multiprocessing.cpu_count(),\n",
        "    cv=5,\n",
        "    verbose=True\n",
        ")\n",
        "\n"
      ],
      "metadata": {
        "id": "15nYjm50055M"
      },
      "execution_count": null,
      "outputs": []
    },
    {
      "cell_type": "code",
      "source": [
        "gs.fit(X,y)"
      ],
      "metadata": {
        "id": "e34bB6GI055N",
        "colab": {
          "base_uri": "https://localhost:8080/"
        },
        "outputId": "f0ea3094-47e2-46d8-c646-71bb0bbaedbd"
      },
      "execution_count": null,
      "outputs": [
        {
          "output_type": "stream",
          "name": "stdout",
          "text": [
            "Fitting 5 folds for each of 3 candidates, totalling 15 fits\n"
          ]
        },
        {
          "output_type": "stream",
          "name": "stderr",
          "text": [
            "/usr/local/lib/python3.8/dist-packages/sklearn/model_selection/_validation.py:372: FitFailedWarning: \n",
            "5 fits failed out of a total of 15.\n",
            "The score on these train-test partitions for these parameters will be set to nan.\n",
            "If these failures are not expected, you can try to debug them by setting error_score='raise'.\n",
            "\n",
            "Below are more details about the failures:\n",
            "--------------------------------------------------------------------------------\n",
            "5 fits failed with the following error:\n",
            "Traceback (most recent call last):\n",
            "  File \"/usr/local/lib/python3.8/dist-packages/sklearn/model_selection/_validation.py\", line 680, in _fit_and_score\n",
            "    estimator.fit(X_train, y_train, **fit_params)\n",
            "  File \"/usr/local/lib/python3.8/dist-packages/sklearn/pipeline.py\", line 394, in fit\n",
            "    self._final_estimator.fit(Xt, y, **fit_params_last_step)\n",
            "  File \"/usr/local/lib/python3.8/dist-packages/sklearn/svm/_base.py\", line 255, in fit\n",
            "    fit(X, y, sample_weight, solver_type, kernel, random_seed=seed)\n",
            "  File \"/usr/local/lib/python3.8/dist-packages/sklearn/svm/_base.py\", line 315, in _dense_fit\n",
            "    ) = libsvm.fit(\n",
            "  File \"sklearn/svm/_libsvm.pyx\", line 173, in sklearn.svm._libsvm.fit\n",
            "ValueError: 'polynomial' is not in list\n",
            "\n",
            "  warnings.warn(some_fits_failed_message, FitFailedWarning)\n",
            "/usr/local/lib/python3.8/dist-packages/sklearn/model_selection/_search.py:969: UserWarning: One or more of the test scores are non-finite: [  -0.91657021           nan -649.26810986]\n",
            "  warnings.warn(\n"
          ]
        },
        {
          "output_type": "execute_result",
          "data": {
            "text/plain": [
              "GridSearchCV(cv=5,\n",
              "             estimator=Pipeline(steps=[('scaler', StandardScaler()),\n",
              "                                       ('model', SVR())]),\n",
              "             n_jobs=2,\n",
              "             param_grid=[{'model__kernel': ['rbf', 'polynomial', 'sigmoid']}],\n",
              "             verbose=True)"
            ]
          },
          "metadata": {},
          "execution_count": 37
        }
      ]
    },
    {
      "cell_type": "code",
      "source": [
        "gs.best_estimator_"
      ],
      "metadata": {
        "id": "9X-iMxLe055N",
        "colab": {
          "base_uri": "https://localhost:8080/"
        },
        "outputId": "129df713-d65b-40ac-9c2b-9dccca2a8d8b"
      },
      "execution_count": null,
      "outputs": [
        {
          "output_type": "execute_result",
          "data": {
            "text/plain": [
              "Pipeline(steps=[('scaler', StandardScaler()), ('model', SVR())])"
            ]
          },
          "metadata": {},
          "execution_count": 38
        }
      ]
    },
    {
      "cell_type": "code",
      "source": [
        "model=gs.best_estimator_\n",
        "model.fit(X_train, y_train)"
      ],
      "metadata": {
        "colab": {
          "base_uri": "https://localhost:8080/"
        },
        "id": "dJG5BbUa3EE4",
        "outputId": "159e4ebd-89b1-4f5a-bd5a-32f9aebeb241"
      },
      "execution_count": null,
      "outputs": [
        {
          "output_type": "execute_result",
          "data": {
            "text/plain": [
              "Pipeline(steps=[('scaler', StandardScaler()), ('model', SVR())])"
            ]
          },
          "metadata": {},
          "execution_count": 39
        }
      ]
    },
    {
      "cell_type": "code",
      "source": [
        "print(\"학습 데이터 점수:{}\".format(model.score(X_train, y_train)))\n",
        "print(\"평가 데이터 점수:{}\".format(model.score(X_test, y_test)))"
      ],
      "metadata": {
        "colab": {
          "base_uri": "https://localhost:8080/"
        },
        "id": "gw9lHAc43FPR",
        "outputId": "d0e5e249-941b-4bcb-b9b0-2d8133989631"
      },
      "execution_count": null,
      "outputs": [
        {
          "output_type": "stream",
          "name": "stdout",
          "text": [
            "학습 데이터 점수:0.3634745785614796\n",
            "평가 데이터 점수:0.2884086092987814\n"
          ]
        }
      ]
    },
    {
      "cell_type": "markdown",
      "source": [
        "#RBF"
      ],
      "metadata": {
        "id": "M_coNyE14-WV"
      }
    },
    {
      "cell_type": "code",
      "source": [
        "pipe=Pipeline([('scaler',StandardScaler()),\n",
        "               ('model', SVR(kernel='rbf'))])\n",
        "param_grid=[{'model__gamma':['scale','auto'],\n",
        "             'model__C':[1.0, 0.1,0.01],\n",
        "             'model__epsilon':[1.0, 0.1, 0.01]}]\n",
        "        \n",
        "gs=GridSearchCV(\n",
        "    estimator=pipe,\n",
        "    param_grid = param_grid,\n",
        "    n_jobs=multiprocessing.cpu_count(),\n",
        "    cv=5,\n",
        "    verbose=True\n",
        ")\n",
        "\n"
      ],
      "metadata": {
        "id": "Ehqjb51S5B9h"
      },
      "execution_count": null,
      "outputs": []
    },
    {
      "cell_type": "code",
      "source": [
        "pipe=Pipeline([('scaler',StandardScaler()),\n",
        "               ('model', SVR(kernel='rbf'))])\n",
        "param_grid=[{'model__gamma':['scale','auto'],\n",
        "             'model__C':[1.0, 0.1,0.01],\n",
        "             'model__epsilon':[1.0, 0.1, 0.01]}]\n",
        "        \n",
        "gs=GridSearchCV(\n",
        "    estimator=pipe,\n",
        "    param_grid = param_grid,\n",
        "    n_jobs=multiprocessing.cpu_count(),\n",
        "    cv=5,\n",
        "    verbose=True\n",
        ")\n",
        "gs.fit(X,y)"
      ],
      "metadata": {
        "colab": {
          "base_uri": "https://localhost:8080/"
        },
        "id": "cHdo-hc45HA-",
        "outputId": "5e92b3f4-bfcb-40df-d435-5600b2e6db02"
      },
      "execution_count": null,
      "outputs": [
        {
          "output_type": "stream",
          "name": "stdout",
          "text": [
            "Fitting 5 folds for each of 18 candidates, totalling 90 fits\n"
          ]
        },
        {
          "output_type": "execute_result",
          "data": {
            "text/plain": [
              "GridSearchCV(cv=5,\n",
              "             estimator=Pipeline(steps=[('scaler', StandardScaler()),\n",
              "                                       ('model', SVR())]),\n",
              "             n_jobs=2,\n",
              "             param_grid=[{'model__C': [1.0, 0.1, 0.01],\n",
              "                          'model__epsilon': [1.0, 0.1, 0.01],\n",
              "                          'model__gamma': ['scale', 'auto']}],\n",
              "             verbose=True)"
            ]
          },
          "metadata": {},
          "execution_count": 42
        }
      ]
    },
    {
      "cell_type": "code",
      "source": [
        "gs.best_estimator_"
      ],
      "metadata": {
        "colab": {
          "base_uri": "https://localhost:8080/"
        },
        "id": "Uv_mozjt5WqI",
        "outputId": "aa528c61-4d0a-41a7-c4a1-1b1d8efd1981"
      },
      "execution_count": null,
      "outputs": [
        {
          "output_type": "execute_result",
          "data": {
            "text/plain": [
              "Pipeline(steps=[('scaler', StandardScaler()),\n",
              "                ('model', SVR(C=0.01, epsilon=0.01))])"
            ]
          },
          "metadata": {},
          "execution_count": 43
        }
      ]
    },
    {
      "cell_type": "code",
      "source": [
        "model=gs.best_estimator_\n",
        "model.fit(X_train, y_train)"
      ],
      "metadata": {
        "colab": {
          "base_uri": "https://localhost:8080/"
        },
        "id": "CtLsey6i5bHe",
        "outputId": "1b175948-918e-4fa4-c905-d84d682225d8"
      },
      "execution_count": null,
      "outputs": [
        {
          "output_type": "execute_result",
          "data": {
            "text/plain": [
              "Pipeline(steps=[('scaler', StandardScaler()),\n",
              "                ('model', SVR(C=0.01, epsilon=0.01))])"
            ]
          },
          "metadata": {},
          "execution_count": 44
        }
      ]
    },
    {
      "cell_type": "code",
      "source": [
        "print(\"학습 데이터 점수:{}\".format(model.score(X_train, y_train)))\n",
        "print(\"평가 데이터 점수:{}\".format(model.score(X_test, y_test)))"
      ],
      "metadata": {
        "colab": {
          "base_uri": "https://localhost:8080/"
        },
        "id": "53cnSgf15hPA",
        "outputId": "207d0720-b9ac-4379-8f34-a9429221779b"
      },
      "execution_count": null,
      "outputs": [
        {
          "output_type": "stream",
          "name": "stdout",
          "text": [
            "학습 데이터 점수:0.02625742476922166\n",
            "평가 데이터 점수:0.014188933178353902\n"
          ]
        }
      ]
    },
    {
      "cell_type": "markdown",
      "source": [
        "#sigmoid"
      ],
      "metadata": {
        "id": "nzQmQgHJ5ncR"
      }
    },
    {
      "cell_type": "code",
      "source": [
        "pipe=Pipeline([('scaler',StandardScaler()),\n",
        "               ('model', SVR(kernel='sigmoid'))])\n",
        "param_grid=[{'model__gamma':['scale','auto'],\n",
        "             'model__C':[1.0, 0.1,0.01],\n",
        "             'model__epsilon':[1.0, 0.1, 0.01]}]\n",
        "        \n",
        "gs=GridSearchCV(\n",
        "    estimator=pipe,\n",
        "    param_grid = param_grid,\n",
        "    n_jobs=multiprocessing.cpu_count(),\n",
        "    cv=5,\n",
        "    verbose=True\n",
        ")\n",
        "\n"
      ],
      "metadata": {
        "id": "zvmgEtrU3RwR"
      },
      "execution_count": null,
      "outputs": []
    },
    {
      "cell_type": "code",
      "source": [
        "gs.fit(X,y)"
      ],
      "metadata": {
        "id": "9aSg6WLr3RwR",
        "colab": {
          "base_uri": "https://localhost:8080/"
        },
        "outputId": "9c34a99c-2976-4276-cec3-eab986e91a59"
      },
      "execution_count": null,
      "outputs": [
        {
          "output_type": "stream",
          "name": "stdout",
          "text": [
            "Fitting 5 folds for each of 18 candidates, totalling 90 fits\n"
          ]
        },
        {
          "output_type": "execute_result",
          "data": {
            "text/plain": [
              "GridSearchCV(cv=5,\n",
              "             estimator=Pipeline(steps=[('scaler', StandardScaler()),\n",
              "                                       ('model', SVR(kernel='sigmoid'))]),\n",
              "             n_jobs=2,\n",
              "             param_grid=[{'model__C': [1.0, 0.1, 0.01],\n",
              "                          'model__epsilon': [1.0, 0.1, 0.01],\n",
              "                          'model__gamma': ['scale', 'auto']}],\n",
              "             verbose=True)"
            ]
          },
          "metadata": {},
          "execution_count": 47
        }
      ]
    },
    {
      "cell_type": "code",
      "source": [
        "gs.best_estimator_"
      ],
      "metadata": {
        "id": "fnBJIGx93RwS",
        "colab": {
          "base_uri": "https://localhost:8080/"
        },
        "outputId": "88b86951-fa48-43f8-b527-e15b8c9a0ec8"
      },
      "execution_count": null,
      "outputs": [
        {
          "output_type": "execute_result",
          "data": {
            "text/plain": [
              "Pipeline(steps=[('scaler', StandardScaler()),\n",
              "                ('model', SVR(C=0.01, epsilon=0.01, kernel='sigmoid'))])"
            ]
          },
          "metadata": {},
          "execution_count": 48
        }
      ]
    },
    {
      "cell_type": "code",
      "source": [
        "model=gs.best_estimator_\n",
        "model.fit(X_train, y_train)"
      ],
      "metadata": {
        "id": "eIIA6sH-7OWJ",
        "colab": {
          "base_uri": "https://localhost:8080/"
        },
        "outputId": "5208046f-92ac-4f99-db37-9798e19a4335"
      },
      "execution_count": null,
      "outputs": [
        {
          "output_type": "execute_result",
          "data": {
            "text/plain": [
              "Pipeline(steps=[('scaler', StandardScaler()),\n",
              "                ('model', SVR(C=0.01, epsilon=0.01, kernel='sigmoid'))])"
            ]
          },
          "metadata": {},
          "execution_count": 49
        }
      ]
    },
    {
      "cell_type": "code",
      "source": [
        "print(\"학습 데이터 점수:{}\".format(model.score(X_train, y_train)))\n",
        "print(\"평가 데이터 점수:{}\".format(model.score(X_test, y_test)))"
      ],
      "metadata": {
        "id": "sdwoUQcX7Otf",
        "colab": {
          "base_uri": "https://localhost:8080/"
        },
        "outputId": "82ad5474-ab89-423e-dcd8-971bb72d5a40"
      },
      "execution_count": null,
      "outputs": [
        {
          "output_type": "stream",
          "name": "stdout",
          "text": [
            "학습 데이터 점수:-0.007698766626828446\n",
            "평가 데이터 점수:-0.00580195584963783\n"
          ]
        }
      ]
    },
    {
      "cell_type": "markdown",
      "source": [
        "#Polynomial"
      ],
      "metadata": {
        "id": "55Np9v_86Fp6"
      }
    },
    {
      "cell_type": "code",
      "source": [
        "pipe=Pipeline([('scaler',StandardScaler()),\n",
        "               ('model', SVR(kernel='sigmoid'))])\n",
        "param_grid=[{'model__gamma':['scale','auto'],\n",
        "             'model__C':[1.0, 0.1,0.01],\n",
        "             'model__epsilon':[1.0, 0.1, 0.01]}]\n",
        "        \n",
        "gs=GridSearchCV(\n",
        "    estimator=pipe,\n",
        "    param_grid = param_grid,\n",
        "    n_jobs=multiprocessing.cpu_count(),\n",
        "    cv=5,\n",
        "    verbose=True\n",
        ")\n",
        "gs.fit(X,y)"
      ],
      "metadata": {
        "colab": {
          "base_uri": "https://localhost:8080/"
        },
        "id": "YgBe_dy26E3S",
        "outputId": "dc2e0647-4793-4e04-c2de-c4995b159251"
      },
      "execution_count": null,
      "outputs": [
        {
          "output_type": "stream",
          "name": "stdout",
          "text": [
            "Fitting 5 folds for each of 18 candidates, totalling 90 fits\n"
          ]
        },
        {
          "output_type": "execute_result",
          "data": {
            "text/plain": [
              "GridSearchCV(cv=5,\n",
              "             estimator=Pipeline(steps=[('scaler', StandardScaler()),\n",
              "                                       ('model', SVR(kernel='sigmoid'))]),\n",
              "             n_jobs=2,\n",
              "             param_grid=[{'model__C': [1.0, 0.1, 0.01],\n",
              "                          'model__epsilon': [1.0, 0.1, 0.01],\n",
              "                          'model__gamma': ['scale', 'auto']}],\n",
              "             verbose=True)"
            ]
          },
          "metadata": {},
          "execution_count": 51
        }
      ]
    },
    {
      "cell_type": "code",
      "source": [
        "gs.best_estimator_"
      ],
      "metadata": {
        "colab": {
          "base_uri": "https://localhost:8080/"
        },
        "id": "-EqAx6HI6RvO",
        "outputId": "83b1ce91-7c80-4319-fd69-dffdf584b058"
      },
      "execution_count": null,
      "outputs": [
        {
          "output_type": "execute_result",
          "data": {
            "text/plain": [
              "Pipeline(steps=[('scaler', StandardScaler()),\n",
              "                ('model', SVR(C=0.01, epsilon=0.01, kernel='sigmoid'))])"
            ]
          },
          "metadata": {},
          "execution_count": 52
        }
      ]
    },
    {
      "cell_type": "code",
      "source": [
        "model=gs.best_estimator_\n",
        "model.fit(X_train, y_train)"
      ],
      "metadata": {
        "colab": {
          "base_uri": "https://localhost:8080/"
        },
        "id": "m67ggUW86cuw",
        "outputId": "9cfcf5fc-7cf9-4995-852e-923411e38f95"
      },
      "execution_count": null,
      "outputs": [
        {
          "output_type": "execute_result",
          "data": {
            "text/plain": [
              "Pipeline(steps=[('scaler', StandardScaler()),\n",
              "                ('model', SVR(C=0.01, epsilon=0.01, kernel='sigmoid'))])"
            ]
          },
          "metadata": {},
          "execution_count": 53
        }
      ]
    },
    {
      "cell_type": "code",
      "source": [
        "print(\"학습 데이터 점수:{}\".format(model.score(X_train, y_train)))\n",
        "print(\"평가 데이터 점수:{}\".format(model.score(X_test, y_test)))"
      ],
      "metadata": {
        "colab": {
          "base_uri": "https://localhost:8080/"
        },
        "id": "vghpADHt6erS",
        "outputId": "179f9571-92dd-4e6f-a8c8-90336dba8b64"
      },
      "execution_count": null,
      "outputs": [
        {
          "output_type": "stream",
          "name": "stdout",
          "text": [
            "학습 데이터 점수:-0.007698766626828446\n",
            "평가 데이터 점수:-0.00580195584963783\n"
          ]
        }
      ]
    },
    {
      "cell_type": "code",
      "source": [
        "#no start---------------------------------------"
      ],
      "metadata": {
        "id": "TF6r7ZZg30gi"
      },
      "execution_count": null,
      "outputs": []
    },
    {
      "cell_type": "markdown",
      "source": [
        "# 이후는 분류기 문제임 \n",
        "#linear SVC\n",
        "#유방암 "
      ],
      "metadata": {
        "id": "znnqPBxL055N"
      }
    },
    {
      "cell_type": "code",
      "source": [
        "X,y=load_breast_cancer(return_X_y=True)\n",
        "X_train,X_test,y_train,y_test=train_test_split(X,y,test_size=0.2)"
      ],
      "metadata": {
        "id": "hzuxgQrR8Q5c"
      },
      "execution_count": null,
      "outputs": []
    },
    {
      "cell_type": "code",
      "source": [
        "scaler=StandardScaler()\n",
        "scaler.fit(X_train)\n",
        "X_train=scaler.transform(X_train)\n",
        "X_test=scaler.transform(X_test)"
      ],
      "metadata": {
        "id": "72f2yUfm8Q5d"
      },
      "execution_count": null,
      "outputs": []
    },
    {
      "cell_type": "code",
      "source": [
        "model=SVC(kernel='linear')\n",
        "model.fit(X_train,y_train)"
      ],
      "metadata": {
        "id": "lXo2ihSs8Q5d"
      },
      "execution_count": null,
      "outputs": []
    },
    {
      "cell_type": "code",
      "source": [
        "print(\"학습 데이터 점수:{}\".format(model.score(X_train, y_train)))\n",
        "print(\"평가 데이터 점수:{}\".format(model.score(X_test, y_test)))"
      ],
      "metadata": {
        "id": "BN60KBi-8Q5d"
      },
      "execution_count": null,
      "outputs": []
    },
    {
      "cell_type": "code",
      "source": [
        "import numpy as np\n",
        "def make_meshgrid(x,y,h=.02):\n",
        "    x_min,x_max=x.min()-1,x.max()+1\n",
        "    y_min,y_max=y.min()-1,y.max()+1\n",
        "    xx,yy = np.meshgrid(np.arange(x_min,x_max,h),\n",
        "                        np.arange(y_min,y_max,h))\n",
        "    return xx, yy"
      ],
      "metadata": {
        "id": "WzaBMxOo8wg9"
      },
      "execution_count": null,
      "outputs": []
    },
    {
      "cell_type": "code",
      "source": [
        "def plot_contours(clf,xx,yy,**params):\n",
        "    Z=clf.predict(np.c_[xx.ravel(),yy.ravel()])\n",
        "    Z=Z.reshape(xx.shape)\n",
        "    out=plt.contourf(xx,yy,Z,**params)\n",
        "\n",
        "    return out"
      ],
      "metadata": {
        "id": "1sc7kBtx9jjy"
      },
      "execution_count": null,
      "outputs": []
    },
    {
      "cell_type": "code",
      "source": [
        "X_comp=TSNE(n_components=2).fit_transform(X)\n",
        "X0,X1=X_comp[:,0],X_comp[:,1]\n",
        "xx,yy=make_meshgrid(X0,X1)"
      ],
      "metadata": {
        "id": "8-qQx3j28Q5d"
      },
      "execution_count": null,
      "outputs": []
    },
    {
      "cell_type": "code",
      "source": [
        "model.fit(X_comp,y)\n",
        "plot_contours(model, xx, yy, cmap=plt.cm.coolwarm, alpha=0.7)\n",
        "plt.scatter(X0,X1,c=y, cmap=plt.cm.coolwarm,s=20,edgecolors='k');\n"
      ],
      "metadata": {
        "id": "hzsByU_v8Q5d"
      },
      "execution_count": null,
      "outputs": []
    },
    {
      "cell_type": "code",
      "source": [
        "estimator=make_pipeline(StandardScaler(), SVC(kernel='linear'))\n",
        "cross_validate(\n",
        "    estimator=estimator,\n",
        "    X=X, y=y,\n",
        "    cv=5,\n",
        "    n_jobs=multiprocessing.cpu_count(),\n",
        "    verbose=True\n",
        ")"
      ],
      "metadata": {
        "id": "AKqerbKl8Q5d"
      },
      "execution_count": null,
      "outputs": []
    },
    {
      "cell_type": "code",
      "source": [
        "pipe=Pipeline([('scaler',StandardScaler()),\n",
        "               ('model', SVC(kernel='linear'))])\n",
        "param_grid=[{'model__gamma':['scale','auto'],\n",
        "             'model__C':[1.0,0.1,0.01]}]\n",
        "        \n",
        "gs=GridSearchCV(\n",
        "    estimator=pipe,\n",
        "    param_grid = param_grid,\n",
        "    n_jobs=multiprocessing.cpu_count(),\n",
        "    cv=5,\n",
        "    verbose=True\n",
        ")\n",
        "gs.fit(X,y)\n"
      ],
      "metadata": {
        "id": "l4FsjOV98Q5e"
      },
      "execution_count": null,
      "outputs": []
    },
    {
      "cell_type": "code",
      "source": [
        "gs.best_estimator_"
      ],
      "metadata": {
        "id": "IqrPvRKG8Q5e"
      },
      "execution_count": null,
      "outputs": []
    },
    {
      "cell_type": "code",
      "source": [
        "model=gs.best_estimator_\n",
        "model.fit(X_train, y_train)"
      ],
      "metadata": {
        "id": "ui8lX2Pe8Q5f"
      },
      "execution_count": null,
      "outputs": []
    },
    {
      "cell_type": "code",
      "source": [
        "print(\"학습 데이터 점수:{}\".format(model.score(X_train, y_train)))\n",
        "print(\"평가 데이터 점수:{}\".format(model.score(X_test, y_test)))"
      ],
      "metadata": {
        "id": "tQBdbPml8Q5f"
      },
      "execution_count": null,
      "outputs": []
    },
    {
      "cell_type": "markdown",
      "source": [
        "#붓꽃"
      ],
      "metadata": {
        "id": "NaWmq2g48Q5f"
      }
    },
    {
      "cell_type": "code",
      "source": [
        "X,y=load_iris(return_X_y=True)\n",
        "X_train,X_test,y_train,y_test=train_test_split(X,y,test_size=0.2)"
      ],
      "metadata": {
        "id": "av4Q7H74C2VZ"
      },
      "execution_count": null,
      "outputs": []
    },
    {
      "cell_type": "code",
      "source": [
        "scaler=StandardScaler()\n",
        "scaler.fit(X_train)\n",
        "X_train=scaler.transform(X_train)\n",
        "X_test=scaler.transform(X_test)"
      ],
      "metadata": {
        "id": "spAlmpBSC2Vd"
      },
      "execution_count": null,
      "outputs": []
    },
    {
      "cell_type": "code",
      "source": [
        "model=SVC(kernel='linear')\n",
        "model.fit(X_train,y_train)"
      ],
      "metadata": {
        "id": "ZO-ckFiaC2Ve"
      },
      "execution_count": null,
      "outputs": []
    },
    {
      "cell_type": "code",
      "source": [
        "print(\"학습 데이터 점수:{}\".format(model.score(X_train, y_train)))\n",
        "print(\"평가 데이터 점수:{}\".format(model.score(X_test, y_test)))"
      ],
      "metadata": {
        "id": "b-7j38bzC2Ve"
      },
      "execution_count": null,
      "outputs": []
    },
    {
      "cell_type": "code",
      "source": [
        "import numpy as np\n",
        "def make_meshgrid(x,y,h=.02):\n",
        "    x_min,x_max=x.min()-1,x.max()+1\n",
        "    y_min,y_max=y.min()-1,y.max()+1\n",
        "    xx,yy = np.meshgrid(np.arange(x_min,x_max,h),\n",
        "                        np.arange(y_min,y_max,h))\n",
        "    return xx, yy"
      ],
      "metadata": {
        "id": "DRFQ6Xc7C2Ve"
      },
      "execution_count": null,
      "outputs": []
    },
    {
      "cell_type": "code",
      "source": [
        "def plot_contours(clf,xx,yy,**params):\n",
        "    Z=clf.predict(np.c_[xx.ravel(),yy.ravel()])\n",
        "    Z=Z.reshape(xx.shape)\n",
        "    out=plt.contourf(xx,yy,Z,**params)\n",
        "\n",
        "    return out"
      ],
      "metadata": {
        "id": "U5iVEJPUC2Ve"
      },
      "execution_count": null,
      "outputs": []
    },
    {
      "cell_type": "code",
      "source": [
        "X_comp=TSNE(n_components=2).fit_transform(X)\n",
        "X0,X1=X_comp[:,0],X_comp[:,1]\n",
        "xx,yy=make_meshgrid(X0,X1)"
      ],
      "metadata": {
        "id": "1R5WkjRkC2Ve"
      },
      "execution_count": null,
      "outputs": []
    },
    {
      "cell_type": "code",
      "source": [
        "model.fit(X_comp,y)\n",
        "plot_contours(model, xx, yy, cmap=plt.cm.coolwarm, alpha=0.7)\n",
        "plt.scatter(X0,X1,c=y, cmap=plt.cm.coolwarm,s=20,edgecolors='k');\n"
      ],
      "metadata": {
        "id": "b-L6bRPVC2Ve"
      },
      "execution_count": null,
      "outputs": []
    },
    {
      "cell_type": "code",
      "source": [
        "estimator=make_pipeline(StandardScaler(), SVC(kernel='linear'))\n",
        "cross_validate(\n",
        "    estimator=estimator,\n",
        "    X=X, y=y,\n",
        "    cv=5,\n",
        "    n_jobs=multiprocessing.cpu_count(),\n",
        "    verbose=True\n",
        ")"
      ],
      "metadata": {
        "id": "X-O-yoTbC2Ve"
      },
      "execution_count": null,
      "outputs": []
    },
    {
      "cell_type": "code",
      "source": [
        "pipe=Pipeline([('scaler',StandardScaler()),\n",
        "               ('model', SVC(kernel='linear'))])\n",
        "param_grid=[{'model__gamma':['scale','auto'],\n",
        "             'model__C':[1.0,0.1,0.01]}]\n",
        "        \n",
        "gs=GridSearchCV(\n",
        "    estimator=pipe,\n",
        "    param_grid = param_grid,\n",
        "    n_jobs=multiprocessing.cpu_count(),\n",
        "    cv=5,\n",
        "    verbose=True\n",
        ")\n",
        "gs.fit(X,y)\n"
      ],
      "metadata": {
        "id": "0o3SS_wVC2Ve"
      },
      "execution_count": null,
      "outputs": []
    },
    {
      "cell_type": "code",
      "source": [
        "gs.best_estimator_"
      ],
      "metadata": {
        "id": "5EbJsWrjC2Ve"
      },
      "execution_count": null,
      "outputs": []
    },
    {
      "cell_type": "code",
      "source": [
        "model=gs.best_estimator_\n",
        "model.fit(X_train, y_train)"
      ],
      "metadata": {
        "id": "O2mhLykEC2Ve"
      },
      "execution_count": null,
      "outputs": []
    },
    {
      "cell_type": "code",
      "source": [
        "print(\"학습 데이터 점수:{}\".format(model.score(X_train, y_train)))\n",
        "print(\"평가 데이터 점수:{}\".format(model.score(X_test, y_test)))"
      ],
      "metadata": {
        "id": "pbwb55W4C2Ve"
      },
      "execution_count": null,
      "outputs": []
    },
    {
      "cell_type": "markdown",
      "source": [
        "#와인"
      ],
      "metadata": {
        "id": "JLlb_6wiC2Ve"
      }
    },
    {
      "cell_type": "code",
      "source": [
        "X,y=load_wine(return_X_y=True)\n",
        "X_train,X_test,y_train,y_test=train_test_split(X,y,test_size=0.2)"
      ],
      "metadata": {
        "id": "qmGnpBZRD6I4"
      },
      "execution_count": null,
      "outputs": []
    },
    {
      "cell_type": "code",
      "source": [
        "scaler=StandardScaler()\n",
        "scaler.fit(X_train)\n",
        "X_train=scaler.transform(X_train)\n",
        "X_test=scaler.transform(X_test)"
      ],
      "metadata": {
        "id": "iRS_jRIqD6JA"
      },
      "execution_count": null,
      "outputs": []
    },
    {
      "cell_type": "code",
      "source": [
        "model=SVC(kernel='linear')\n",
        "model.fit(X_train,y_train)"
      ],
      "metadata": {
        "id": "6zbdxlkYD6JA"
      },
      "execution_count": null,
      "outputs": []
    },
    {
      "cell_type": "code",
      "source": [
        "print(\"학습 데이터 점수:{}\".format(model.score(X_train, y_train)))\n",
        "print(\"평가 데이터 점수:{}\".format(model.score(X_test, y_test)))"
      ],
      "metadata": {
        "id": "29hCy09-D6JA"
      },
      "execution_count": null,
      "outputs": []
    },
    {
      "cell_type": "code",
      "source": [
        "import numpy as np\n",
        "def make_meshgrid(x,y,h=.02):\n",
        "    x_min,x_max=x.min()-1,x.max()+1\n",
        "    y_min,y_max=y.min()-1,y.max()+1\n",
        "    xx,yy = np.meshgrid(np.arange(x_min,x_max,h),\n",
        "                        np.arange(y_min,y_max,h))\n",
        "    return xx, yy"
      ],
      "metadata": {
        "id": "1uP4pxjuD6JA"
      },
      "execution_count": null,
      "outputs": []
    },
    {
      "cell_type": "code",
      "source": [
        "def plot_contours(clf,xx,yy,**params):\n",
        "    Z=clf.predict(np.c_[xx.ravel(),yy.ravel()])\n",
        "    Z=Z.reshape(xx.shape)\n",
        "    out=plt.contourf(xx,yy,Z,**params)\n",
        "\n",
        "    return out"
      ],
      "metadata": {
        "id": "oII0Sxz9D6JA"
      },
      "execution_count": null,
      "outputs": []
    },
    {
      "cell_type": "code",
      "source": [
        "X_comp=TSNE(n_components=2).fit_transform(X)\n",
        "X0,X1=X_comp[:,0],X_comp[:,1]\n",
        "xx,yy=make_meshgrid(X0,X1)"
      ],
      "metadata": {
        "id": "j0f0AGLND6JA"
      },
      "execution_count": null,
      "outputs": []
    },
    {
      "cell_type": "code",
      "source": [
        "model.fit(X_comp,y)\n",
        "plot_contours(model, xx, yy, cmap=plt.cm.coolwarm, alpha=0.7)\n",
        "plt.scatter(X0,X1,c=y, cmap=plt.cm.coolwarm,s=20,edgecolors='k');\n"
      ],
      "metadata": {
        "id": "p_rsLiaxD6JA"
      },
      "execution_count": null,
      "outputs": []
    },
    {
      "cell_type": "code",
      "source": [
        "estimator=make_pipeline(StandardScaler(), SVC(kernel='linear'))\n",
        "cross_validate(\n",
        "    estimator=estimator,\n",
        "    X=X, y=y,\n",
        "    cv=5,\n",
        "    n_jobs=multiprocessing.cpu_count(),\n",
        "    verbose=True\n",
        ")"
      ],
      "metadata": {
        "id": "x43NXxG7D6JA"
      },
      "execution_count": null,
      "outputs": []
    },
    {
      "cell_type": "code",
      "source": [
        "pipe=Pipeline([('scaler',StandardScaler()),\n",
        "               ('model', SVC(kernel='linear'))])\n",
        "param_grid=[{'model__gamma':['scale','auto'],\n",
        "             'model__C':[1.0,0.1,0.01]}]\n",
        "        \n",
        "gs=GridSearchCV(\n",
        "    estimator=pipe,\n",
        "    param_grid = param_grid,\n",
        "    n_jobs=multiprocessing.cpu_count(),\n",
        "    cv=5,\n",
        "    verbose=True\n",
        ")\n",
        "gs.fit(X,y)\n"
      ],
      "metadata": {
        "id": "PRGfS8XPD6JA"
      },
      "execution_count": null,
      "outputs": []
    },
    {
      "cell_type": "code",
      "source": [
        "gs.best_estimator_"
      ],
      "metadata": {
        "id": "esBameH_D6JB"
      },
      "execution_count": null,
      "outputs": []
    },
    {
      "cell_type": "code",
      "source": [
        "model=gs.best_estimator_\n",
        "model.fit(X_train, y_train)"
      ],
      "metadata": {
        "id": "DQTS6_dlD6JB"
      },
      "execution_count": null,
      "outputs": []
    },
    {
      "cell_type": "code",
      "source": [
        "print(\"학습 데이터 점수:{}\".format(model.score(X_train, y_train)))\n",
        "print(\"평가 데이터 점수:{}\".format(model.score(X_test, y_test)))"
      ],
      "metadata": {
        "id": "YWRwe52gD6JB"
      },
      "execution_count": null,
      "outputs": []
    },
    {
      "cell_type": "markdown",
      "source": [
        "#붓꽃"
      ],
      "metadata": {
        "id": "TI7yvLKsD6JC"
      }
    },
    {
      "cell_type": "code",
      "source": [],
      "metadata": {
        "id": "ovvq602A8Q5f"
      },
      "execution_count": null,
      "outputs": []
    },
    {
      "cell_type": "code",
      "source": [
        "print(\"학습 데이터 점수:{}\".format(model.score(X_train, y_train)))\n",
        "print(\"평가 데이터 점수:{}\".format(model.score(X_test, y_test)))"
      ],
      "metadata": {
        "id": "5x4ZZgov8Q5f"
      },
      "execution_count": null,
      "outputs": []
    },
    {
      "cell_type": "code",
      "source": [
        "print(\"학습 데이터 점수:{}\".format(model.score(X_train, y_train)))\n",
        "print(\"평가 데이터 점수:{}\".format(model.score(X_test, y_test)))"
      ],
      "metadata": {
        "id": "WV0NMwBe8Fvb"
      },
      "execution_count": null,
      "outputs": []
    },
    {
      "cell_type": "code",
      "source": [
        "pipe=Pipeline([('scaler',StandardScaler()),\n",
        "               ('model', SVR(kernel='rbf'))])\n",
        "param_grid=[{'model__kernel':['rbf','polynomial', 'sigmoid']}]\n",
        "        \n",
        "gs=GridSearchCV(\n",
        "    estimator=pipe,\n",
        "    param_grid = param_grid,\n",
        "    n_jobs=multiprocessing.cpu_count(),\n",
        "    cv=5,\n",
        "    verbose=True\n",
        ")\n",
        "\n"
      ],
      "metadata": {
        "id": "gemak4EP5Amd"
      },
      "execution_count": null,
      "outputs": []
    },
    {
      "cell_type": "code",
      "source": [
        "gs.fit(X,y)"
      ],
      "metadata": {
        "id": "sj6_4nBs5Ami"
      },
      "execution_count": null,
      "outputs": []
    },
    {
      "cell_type": "code",
      "source": [
        "gs.best_estimator_"
      ],
      "metadata": {
        "id": "zfemdaNC5Ami"
      },
      "execution_count": null,
      "outputs": []
    },
    {
      "cell_type": "markdown",
      "source": [
        "#유방암"
      ],
      "metadata": {
        "id": "bVzwhEaNFLJ6"
      }
    },
    {
      "cell_type": "code",
      "source": [
        "X,y=load_breast_cancer(return_X_y=True)\n",
        "X_train,X_test,y_train,y_test=train_test_split(X,y,test_size=0.2)"
      ],
      "metadata": {
        "id": "P6buRyd4FNTz"
      },
      "execution_count": null,
      "outputs": []
    },
    {
      "cell_type": "code",
      "source": [
        "scaler=StandardScaler()\n",
        "scaler.fit(X_train)\n",
        "X_train=scaler.transform(X_train)\n",
        "X_test=scaler.transform(X_test)"
      ],
      "metadata": {
        "id": "qs_UDAg8FNTz"
      },
      "execution_count": null,
      "outputs": []
    },
    {
      "cell_type": "code",
      "source": [
        "model=SVC(kernel='rbf')\n",
        "model.fit(X_train,y_train)"
      ],
      "metadata": {
        "id": "VerSaIyIFNTz"
      },
      "execution_count": null,
      "outputs": []
    },
    {
      "cell_type": "code",
      "source": [
        "print(\"학습 데이터 점수:{}\".format(model.score(X_train, y_train)))\n",
        "print(\"평가 데이터 점수:{}\".format(model.score(X_test, y_test)))"
      ],
      "metadata": {
        "id": "1tdUIARJFNTz"
      },
      "execution_count": null,
      "outputs": []
    },
    {
      "cell_type": "code",
      "source": [
        "import numpy as np\n",
        "def make_meshgrid(x,y,h=.02):\n",
        "    x_min,x_max=x.min()-1,x.max()+1\n",
        "    y_min,y_max=y.min()-1,y.max()+1\n",
        "    xx,yy = np.meshgrid(np.arange(x_min,x_max,h),\n",
        "                        np.arange(y_min,y_max,h))\n",
        "    return xx, yy"
      ],
      "metadata": {
        "id": "J9fn92iwFNT0"
      },
      "execution_count": null,
      "outputs": []
    },
    {
      "cell_type": "code",
      "source": [
        "def plot_contours(clf,xx,yy,**params):\n",
        "    Z=clf.predict(np.c_[xx.ravel(),yy.ravel()])\n",
        "    Z=Z.reshape(xx.shape)\n",
        "    out=plt.contourf(xx,yy,Z,**params)\n",
        "\n",
        "    return out"
      ],
      "metadata": {
        "id": "WGAdT2RFFNT0"
      },
      "execution_count": null,
      "outputs": []
    },
    {
      "cell_type": "code",
      "source": [
        "X_comp=TSNE(n_components=2).fit_transform(X)\n",
        "X0,X1=X_comp[:,0],X_comp[:,1]\n",
        "xx,yy=make_meshgrid(X0,X1)"
      ],
      "metadata": {
        "id": "Co6tEe2bFNT0"
      },
      "execution_count": null,
      "outputs": []
    },
    {
      "cell_type": "code",
      "source": [
        "model.fit(X_comp,y)\n",
        "plot_contours(model, xx, yy, cmap=plt.cm.coolwarm, alpha=0.7)\n",
        "plt.scatter(X0,X1,c=y, cmap=plt.cm.coolwarm,s=20,edgecolors='k');\n"
      ],
      "metadata": {
        "id": "JVEzXXxGFNT0"
      },
      "execution_count": null,
      "outputs": []
    },
    {
      "cell_type": "code",
      "source": [
        "estimator=make_pipeline(StandardScaler(), SVC(kernel='linear'))\n",
        "cross_validate(\n",
        "    estimator=estimator,\n",
        "    X=X, y=y,\n",
        "    cv=5,\n",
        "    n_jobs=multiprocessing.cpu_count(),\n",
        "    verbose=True\n",
        ")"
      ],
      "metadata": {
        "id": "tDWb4cHdFNT0"
      },
      "execution_count": null,
      "outputs": []
    },
    {
      "cell_type": "code",
      "source": [
        "pipe=Pipeline([('scaler',StandardScaler()),\n",
        "               ('model', SVC(kernel='rbf'))])\n",
        "param_grid=[{'model__gamma':['scale','auto'],\n",
        "             'model__C':[1.0,0.1,0.01]}]\n",
        "        \n",
        "gs=GridSearchCV(\n",
        "    estimator=pipe,\n",
        "    param_grid = param_grid,\n",
        "    n_jobs=multiprocessing.cpu_count(),\n",
        "    cv=5,\n",
        "    verbose=True\n",
        ")\n",
        "gs.fit(X,y)\n"
      ],
      "metadata": {
        "id": "tkmfYcKgFNT0"
      },
      "execution_count": null,
      "outputs": []
    },
    {
      "cell_type": "code",
      "source": [
        "gs.best_estimator_"
      ],
      "metadata": {
        "id": "PjAybXmaFNT1"
      },
      "execution_count": null,
      "outputs": []
    },
    {
      "cell_type": "code",
      "source": [
        "model=gs.best_estimator_\n",
        "model.fit(X_train, y_train)"
      ],
      "metadata": {
        "id": "WbWafhPDFNT1"
      },
      "execution_count": null,
      "outputs": []
    },
    {
      "cell_type": "code",
      "source": [
        "print(\"학습 데이터 점수:{}\".format(model.score(X_train, y_train)))\n",
        "print(\"평가 데이터 점수:{}\".format(model.score(X_test, y_test)))"
      ],
      "metadata": {
        "id": "UkPUglCIFNT1"
      },
      "execution_count": null,
      "outputs": []
    },
    {
      "cell_type": "markdown",
      "source": [
        "#붓꽃"
      ],
      "metadata": {
        "id": "sSKe_XUwFNT1"
      }
    },
    {
      "cell_type": "code",
      "source": [
        "X,y=load_iris(return_X_y=True)\n",
        "X_train,X_test,y_train,y_test=train_test_split(X,y,test_size=0.2)"
      ],
      "metadata": {
        "id": "EcVHkr8tGyIg"
      },
      "execution_count": null,
      "outputs": []
    },
    {
      "cell_type": "code",
      "source": [
        "scaler=StandardScaler()\n",
        "scaler.fit(X_train)\n",
        "X_train=scaler.transform(X_train)\n",
        "X_test=scaler.transform(X_test)"
      ],
      "metadata": {
        "id": "APNY93AfGyIo"
      },
      "execution_count": null,
      "outputs": []
    },
    {
      "cell_type": "code",
      "source": [
        "model=SVC(kernel='rbf')\n",
        "model.fit(X_train,y_train)"
      ],
      "metadata": {
        "id": "lmRHyr8uGyIo"
      },
      "execution_count": null,
      "outputs": []
    },
    {
      "cell_type": "code",
      "source": [
        "print(\"학습 데이터 점수:{}\".format(model.score(X_train, y_train)))\n",
        "print(\"평가 데이터 점수:{}\".format(model.score(X_test, y_test)))"
      ],
      "metadata": {
        "id": "siwhVv3qGyIo"
      },
      "execution_count": null,
      "outputs": []
    },
    {
      "cell_type": "code",
      "source": [
        "import numpy as np\n",
        "def make_meshgrid(x,y,h=.02):\n",
        "    x_min,x_max=x.min()-1,x.max()+1\n",
        "    y_min,y_max=y.min()-1,y.max()+1\n",
        "    xx,yy = np.meshgrid(np.arange(x_min,x_max,h),\n",
        "                        np.arange(y_min,y_max,h))\n",
        "    return xx, yy"
      ],
      "metadata": {
        "id": "2KMNg9amGyIo"
      },
      "execution_count": null,
      "outputs": []
    },
    {
      "cell_type": "code",
      "source": [
        "def plot_contours(clf,xx,yy,**params):\n",
        "    Z=clf.predict(np.c_[xx.ravel(),yy.ravel()])\n",
        "    Z=Z.reshape(xx.shape)\n",
        "    out=plt.contourf(xx,yy,Z,**params)\n",
        "\n",
        "    return out"
      ],
      "metadata": {
        "id": "4NC8PzEGGyIp"
      },
      "execution_count": null,
      "outputs": []
    },
    {
      "cell_type": "code",
      "source": [
        "X_comp=TSNE(n_components=2).fit_transform(X)\n",
        "X0,X1=X_comp[:,0],X_comp[:,1]\n",
        "xx,yy=make_meshgrid(X0,X1)"
      ],
      "metadata": {
        "id": "YInmqtwHGyIp"
      },
      "execution_count": null,
      "outputs": []
    },
    {
      "cell_type": "code",
      "source": [
        "model.fit(X_comp,y)\n",
        "plot_contours(model, xx, yy, cmap=plt.cm.coolwarm, alpha=0.7)\n",
        "plt.scatter(X0,X1,c=y, cmap=plt.cm.coolwarm,s=20,edgecolors='k');\n"
      ],
      "metadata": {
        "id": "VrbxfefVGyIp"
      },
      "execution_count": null,
      "outputs": []
    },
    {
      "cell_type": "code",
      "source": [
        "estimator=make_pipeline(StandardScaler(), SVC(kernel='linear'))\n",
        "cross_validate(\n",
        "    estimator=estimator,\n",
        "    X=X, y=y,\n",
        "    cv=5,\n",
        "    n_jobs=multiprocessing.cpu_count(),\n",
        "    verbose=True\n",
        ")"
      ],
      "metadata": {
        "id": "o2JLj9yeGyIp"
      },
      "execution_count": null,
      "outputs": []
    },
    {
      "cell_type": "code",
      "source": [
        "pipe=Pipeline([('scaler',StandardScaler()),\n",
        "               ('model', SVC(kernel='rbf'))])\n",
        "param_grid=[{'model__gamma':['scale','auto'],\n",
        "             'model__C':[1.0,0.1,0.01]}]\n",
        "        \n",
        "gs=GridSearchCV(\n",
        "    estimator=pipe,\n",
        "    param_grid = param_grid,\n",
        "    n_jobs=multiprocessing.cpu_count(),\n",
        "    cv=5,\n",
        "    verbose=True\n",
        ")\n",
        "gs.fit(X,y)\n"
      ],
      "metadata": {
        "id": "Ba2OBkCZGyIp"
      },
      "execution_count": null,
      "outputs": []
    },
    {
      "cell_type": "code",
      "source": [
        "gs.best_estimator_"
      ],
      "metadata": {
        "id": "fQWr3p90GyIp"
      },
      "execution_count": null,
      "outputs": []
    },
    {
      "cell_type": "code",
      "source": [
        "model=gs.best_estimator_\n",
        "model.fit(X_train, y_train)"
      ],
      "metadata": {
        "id": "jHpfJnDSGyIp"
      },
      "execution_count": null,
      "outputs": []
    },
    {
      "cell_type": "code",
      "source": [
        "print(\"학습 데이터 점수:{}\".format(model.score(X_train, y_train)))\n",
        "print(\"평가 데이터 점수:{}\".format(model.score(X_test, y_test)))"
      ],
      "metadata": {
        "id": "Wb_Reyn7GyIp"
      },
      "execution_count": null,
      "outputs": []
    },
    {
      "cell_type": "markdown",
      "source": [
        "#와인"
      ],
      "metadata": {
        "id": "HEmPL3W6GyIp"
      }
    },
    {
      "cell_type": "code",
      "source": [
        "X,y=load_wine(return_X_y=True)\n",
        "X_train,X_test,y_train,y_test=train_test_split(X,y,test_size=0.2)"
      ],
      "metadata": {
        "id": "lnd33uhXITwI"
      },
      "execution_count": null,
      "outputs": []
    },
    {
      "cell_type": "code",
      "source": [
        "scaler=StandardScaler()\n",
        "scaler.fit(X_train)\n",
        "X_train=scaler.transform(X_train)\n",
        "X_test=scaler.transform(X_test)"
      ],
      "metadata": {
        "id": "BRs-k5SJITwI"
      },
      "execution_count": null,
      "outputs": []
    },
    {
      "cell_type": "code",
      "source": [
        "model=SVC(kernel='rbf')\n",
        "model.fit(X_train,y_train)"
      ],
      "metadata": {
        "id": "AqDnllyCITwI"
      },
      "execution_count": null,
      "outputs": []
    },
    {
      "cell_type": "code",
      "source": [
        "print(\"학습 데이터 점수:{}\".format(model.score(X_train, y_train)))\n",
        "print(\"평가 데이터 점수:{}\".format(model.score(X_test, y_test)))"
      ],
      "metadata": {
        "id": "MAH4tGJLITwI"
      },
      "execution_count": null,
      "outputs": []
    },
    {
      "cell_type": "code",
      "source": [
        "import numpy as np\n",
        "def make_meshgrid(x,y,h=.02):\n",
        "    x_min,x_max=x.min()-1,x.max()+1\n",
        "    y_min,y_max=y.min()-1,y.max()+1\n",
        "    xx,yy = np.meshgrid(np.arange(x_min,x_max,h),\n",
        "                        np.arange(y_min,y_max,h))\n",
        "    return xx, yy"
      ],
      "metadata": {
        "id": "QnvGR6Y6ITwJ"
      },
      "execution_count": null,
      "outputs": []
    },
    {
      "cell_type": "code",
      "source": [
        "def plot_contours(clf,xx,yy,**params):\n",
        "    Z=clf.predict(np.c_[xx.ravel(),yy.ravel()])\n",
        "    Z=Z.reshape(xx.shape)\n",
        "    out=plt.contourf(xx,yy,Z,**params)\n",
        "\n",
        "    return out"
      ],
      "metadata": {
        "id": "ZVFvQjqHITwK"
      },
      "execution_count": null,
      "outputs": []
    },
    {
      "cell_type": "code",
      "source": [
        "X_comp=TSNE(n_components=2).fit_transform(X)\n",
        "X0,X1=X_comp[:,0],X_comp[:,1]\n",
        "xx,yy=make_meshgrid(X0,X1)"
      ],
      "metadata": {
        "id": "gLdVMYJZITwK"
      },
      "execution_count": null,
      "outputs": []
    },
    {
      "cell_type": "code",
      "source": [
        "model.fit(X_comp,y)\n",
        "plot_contours(model, xx, yy, cmap=plt.cm.coolwarm, alpha=0.7)\n",
        "plt.scatter(X0,X1,c=y, cmap=plt.cm.coolwarm,s=20,edgecolors='k');\n"
      ],
      "metadata": {
        "id": "BmcZibkSITwK"
      },
      "execution_count": null,
      "outputs": []
    },
    {
      "cell_type": "code",
      "source": [
        "estimator=make_pipeline(StandardScaler(), SVC(kernel='linear'))\n",
        "cross_validate(\n",
        "    estimator=estimator,\n",
        "    X=X, y=y,\n",
        "    cv=5,\n",
        "    n_jobs=multiprocessing.cpu_count(),\n",
        "    verbose=True\n",
        ")"
      ],
      "metadata": {
        "id": "w-2eb8AZITwK"
      },
      "execution_count": null,
      "outputs": []
    },
    {
      "cell_type": "code",
      "source": [
        "pipe=Pipeline([('scaler',StandardScaler()),\n",
        "               ('model', SVC(kernel='rbf'))])\n",
        "param_grid=[{'model__gamma':['scale','auto'],\n",
        "             'model__C':[1.0,0.1,0.01]}]\n",
        "        \n",
        "gs=GridSearchCV(\n",
        "    estimator=pipe,\n",
        "    param_grid = param_grid,\n",
        "    n_jobs=multiprocessing.cpu_count(),\n",
        "    cv=5,\n",
        "    verbose=True\n",
        ")\n",
        "gs.fit(X,y)\n"
      ],
      "metadata": {
        "id": "WesvtmXNITwL"
      },
      "execution_count": null,
      "outputs": []
    },
    {
      "cell_type": "code",
      "source": [
        "gs.best_estimator_"
      ],
      "metadata": {
        "id": "E2uxPJqtITwL"
      },
      "execution_count": null,
      "outputs": []
    },
    {
      "cell_type": "code",
      "source": [
        "model=gs.best_estimator_\n",
        "model.fit(X_train, y_train)"
      ],
      "metadata": {
        "id": "iJAPseeVITwL"
      },
      "execution_count": null,
      "outputs": []
    },
    {
      "cell_type": "code",
      "source": [
        "print(\"학습 데이터 점수:{}\".format(model.score(X_train, y_train)))\n",
        "print(\"평가 데이터 점수:{}\".format(model.score(X_test, y_test)))"
      ],
      "metadata": {
        "id": "7M8lHtm-ITwL"
      },
      "execution_count": null,
      "outputs": []
    },
    {
      "cell_type": "markdown",
      "source": [
        "#end"
      ],
      "metadata": {
        "id": "FuXEi1tnITwL"
      }
    },
    {
      "cell_type": "code",
      "source": [
        "#no end-----------------------------------"
      ],
      "metadata": {
        "id": "wLB7FFnv4LAN"
      },
      "execution_count": null,
      "outputs": []
    },
    {
      "cell_type": "code",
      "source": [],
      "metadata": {
        "id": "qWqBLAPFJl7l"
      },
      "execution_count": null,
      "outputs": []
    }
  ]
}