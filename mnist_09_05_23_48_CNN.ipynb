{
  "nbformat": 4,
  "nbformat_minor": 0,
  "metadata": {
    "colab": {
      "private_outputs": true,
      "provenance": [],
      "authorship_tag": "ABX9TyPsjy6XfiqDVqy3/RUkEBYH",
      "include_colab_link": true
    },
    "kernelspec": {
      "name": "python3",
      "display_name": "Python 3"
    },
    "language_info": {
      "name": "python"
    },
    "accelerator": "GPU",
    "gpuClass": "standard"
  },
  "cells": [
    {
      "cell_type": "markdown",
      "metadata": {
        "id": "view-in-github",
        "colab_type": "text"
      },
      "source": [
        "<a href=\"https://colab.research.google.com/github/hwankang/chemometrics-tutorials/blob/master/mnist_09_05_23_48_CNN.ipynb\" target=\"_parent\"><img src=\"https://colab.research.google.com/assets/colab-badge.svg\" alt=\"Open In Colab\"/></a>"
      ]
    },
    {
      "cell_type": "code",
      "execution_count": null,
      "metadata": {
        "id": "neJB54RRYsuC"
      },
      "outputs": [],
      "source": [
        "import numpy as np\n",
        "from sklearn.datasets import load_sample_image\n",
        "import matplotlib.pyplot as plt\n",
        "plt.style.use('seaborn-white')\n",
        "\n",
        "from tensorflow.keras.layers import Conv2D"
      ]
    },
    {
      "cell_type": "code",
      "source": [
        "flower = load_sample_image('flower.jpg')/255\n",
        "print(flower.dtype)\n",
        "print(flower.shape)\n",
        "plt.imshow(flower)\n",
        "plt.show()"
      ],
      "metadata": {
        "id": "3aWPEIhgZ9Gw"
      },
      "execution_count": null,
      "outputs": []
    },
    {
      "cell_type": "code",
      "source": [
        "china = load_sample_image('china.jpg')/255\n",
        "print(china.dtype)\n",
        "print(china.shape)\n",
        "plt.imshow(china)\n",
        "plt.show()"
      ],
      "metadata": {
        "id": "eqZALzJxa1Wc"
      },
      "execution_count": null,
      "outputs": []
    },
    {
      "cell_type": "code",
      "source": [
        "images = np.array([china,flower])\n",
        "batch_size,height,width,channels = images.shape\n",
        "print(images.shape)"
      ],
      "metadata": {
        "id": "Hm69y-AMqmV_"
      },
      "execution_count": null,
      "outputs": []
    },
    {
      "cell_type": "code",
      "source": [
        "filters=np.zeros(shape=(7,7,channels, 2), dtype=np.float32)\n",
        "filters[:,3,:,0] =1\n",
        "filters[3,:,:,1]=1\n",
        "print(filters.shape)             "
      ],
      "metadata": {
        "id": "qO7S8mT4pUlD"
      },
      "execution_count": null,
      "outputs": []
    },
    {
      "cell_type": "code",
      "source": [
        "conv=Conv2D(filters=16,kernel_size=3,activation='relu')"
      ],
      "metadata": {
        "id": "Qe8_rLeSrj-p"
      },
      "execution_count": null,
      "outputs": []
    },
    {
      "cell_type": "code",
      "source": [
        "conv=Conv2D(filters=16,kernel_size=3, padding='same', strides=1, activation='relu')"
      ],
      "metadata": {
        "id": "ILUrwfRStTcX"
      },
      "execution_count": null,
      "outputs": []
    },
    {
      "cell_type": "code",
      "source": [
        "from tensorflow.keras.layers import MaxPool2D\n",
        "from tensorflow.keras.layers import Conv2D"
      ],
      "metadata": {
        "id": "RVlLf6WEaele"
      },
      "execution_count": null,
      "outputs": []
    },
    {
      "cell_type": "code",
      "source": [
        "print(flower.shape)\n",
        "flower=np.expand_dims(flower,axis=0)\n",
        "print(flower.shape)\n",
        "\n",
        "#max_pool=MaxPool2D(pool_size=2)\n",
        "output=Conv2D(filters=32, kernel_size=3, strides=1, padding='same', activation='relu')(flower)\n",
        "output=MaxPool2D(pool_size=2)(output)\n",
        "print(output.shape)"
      ],
      "metadata": {
        "id": "qNOXgrqHmlJn"
      },
      "execution_count": null,
      "outputs": []
    },
    {
      "cell_type": "code",
      "source": [
        "plt.imshow(output[0,:,:,8], cmap='gray')\n",
        "plt.show()"
      ],
      "metadata": {
        "id": "-LSjk-rsvS2k"
      },
      "execution_count": null,
      "outputs": []
    },
    {
      "cell_type": "code",
      "source": [
        "from tensorflow.keras.layers import AvgPool2D"
      ],
      "metadata": {
        "id": "xO2uF_yLwFfX"
      },
      "execution_count": null,
      "outputs": []
    },
    {
      "cell_type": "code",
      "source": [
        "print(flower.shape)\n",
        "output=Conv2D(filters=32,kernel_size=3, strides=1, padding='same', activation='relu')(flower)\n",
        "output=AvgPool2D(pool_size=2)(output)\n",
        "print(output.shape)"
      ],
      "metadata": {
        "id": "swX618O2yPir"
      },
      "execution_count": null,
      "outputs": []
    },
    {
      "cell_type": "code",
      "source": [
        "plt.imshow(output[0,:,:,2],cmap='gray')\n",
        "plt.show()"
      ],
      "metadata": {
        "id": "Veof06BIy6FS"
      },
      "execution_count": null,
      "outputs": []
    },
    {
      "cell_type": "code",
      "source": [
        "from tensorflow.keras.layers import Dense"
      ],
      "metadata": {
        "id": "blcuZiAJzriR"
      },
      "execution_count": null,
      "outputs": []
    },
    {
      "cell_type": "code",
      "source": [
        "output_size=64"
      ],
      "metadata": {
        "id": "3q0NWwWdz0ph"
      },
      "execution_count": null,
      "outputs": []
    },
    {
      "cell_type": "code",
      "source": [
        "fc=Dense(units=output_size, activation='relu')"
      ],
      "metadata": {
        "id": "praURVYPz6Dt"
      },
      "execution_count": null,
      "outputs": []
    },
    {
      "cell_type": "markdown",
      "source": [
        "# LeNet(data--MNIST)"
      ],
      "metadata": {
        "id": "4eJYlQNN2oKc"
      }
    },
    {
      "cell_type": "code",
      "source": [
        "from tensorflow.keras import Model\n",
        "from tensorflow.keras.layers import Conv2D, MaxPooling2D,Flatten, Dense\n",
        "from tensorflow.keras.callbacks import EarlyStopping, TensorBoard\n",
        "from tensorflow.keras.datasets import mnist \n",
        "\n",
        "import numpy as np"
      ],
      "metadata": {
        "id": "AQIQf9m92xYh"
      },
      "execution_count": null,
      "outputs": []
    },
    {
      "cell_type": "code",
      "source": [
        "(x_train, y_train),(x_test,y_test)=mnist.load_data()\n",
        "x_train,x_test=x_train[..., np.newaxis], x_test[..., np.newaxis]\n",
        "\n",
        "print(x_train.shape)\n",
        "print(y_train.shape)\n",
        "print(x_test.shape)\n",
        "print(y_test.shape)"
      ],
      "metadata": {
        "id": "2Ov76LWN3oGs"
      },
      "execution_count": null,
      "outputs": []
    },
    {
      "cell_type": "code",
      "source": [
        "plt.imshow(x_train[0,:,:,0])"
      ],
      "metadata": {
        "id": "whxjQ-Fy2uJk"
      },
      "execution_count": null,
      "outputs": []
    },
    {
      "cell_type": "code",
      "source": [
        "x_train, x_test=x_train/255.0, x_test/255.0"
      ],
      "metadata": {
        "id": "Sxfx5nVD2lx7"
      },
      "execution_count": null,
      "outputs": []
    },
    {
      "cell_type": "markdown",
      "source": [
        "모델구성"
      ],
      "metadata": {
        "id": "RKEqpR-26XV5"
      }
    },
    {
      "cell_type": "code",
      "source": [
        "num_classes =10\n",
        "epochs=30\n",
        "batch_size=32"
      ],
      "metadata": {
        "id": "tWFv0XRY6cq7"
      },
      "execution_count": null,
      "outputs": []
    },
    {
      "cell_type": "code",
      "source": [
        "class LeNet5(Model):\n",
        "    def __init__(self, num_classes):\n",
        "        super(LeNet5,self).__init__()\n",
        "        self.conv1=Conv2D(6, kernel_size=(5,5), padding='same', activation='relu')\n",
        "        self.conv2=Conv2D(16, kernel_size=(5,5), activation='relu')\n",
        "        self.max_pool=MaxPool2D(pool_size=(2,2))\n",
        "        self.flatten=Flatten()\n",
        "        self.dense1=Dense(120, activation='relu')\n",
        "        self.dense2=Dense(84, activation='relu')\n",
        "        self.dense3=Dense(num_classes,activation='softmax')\n",
        "\n",
        "    def call(self, input_data):\n",
        "        x=self.max_pool(self.conv1(input_data))\n",
        "        x=self.max_pool(self.conv2(x))\n",
        "        x=self.flatten(x)\n",
        "        x=self.dense3(self.dense2(self.dense1(x)))\n",
        "        return x"
      ],
      "metadata": {
        "id": "ZuOTszei6saT"
      },
      "execution_count": null,
      "outputs": []
    },
    {
      "cell_type": "code",
      "source": [
        "model=LeNet5(num_classes)"
      ],
      "metadata": {
        "id": "cF5QvbyS937E"
      },
      "execution_count": null,
      "outputs": []
    },
    {
      "cell_type": "code",
      "source": [
        "model.compile(optimizer='sgd',\n",
        "              loss='sparse_categorical_crossentropy',\n",
        "              metrics='accuracy')"
      ],
      "metadata": {
        "id": "P3KQ-EZU-Lk-"
      },
      "execution_count": null,
      "outputs": []
    },
    {
      "cell_type": "code",
      "source": [
        "callbacks = {EarlyStopping(patience=3, monitor='val_loss'),\n",
        "             TensorBoard(log_dir='./logs',histogram_freq=1)}"
      ],
      "metadata": {
        "id": "IHoyUXIw-l6r"
      },
      "execution_count": null,
      "outputs": []
    },
    {
      "cell_type": "markdown",
      "source": [
        "##model learning & valuation"
      ],
      "metadata": {
        "id": "IIig9K_e_ERe"
      }
    },
    {
      "cell_type": "code",
      "source": [
        "model.fit(x_train, y_train,\n",
        "          batch_size=batch_size,\n",
        "          epochs=epochs,\n",
        "          validation_data=(x_test,y_test), \n",
        "          callbacks=callbacks)"
      ],
      "metadata": {
        "id": "fHWo7Alr_Kqs"
      },
      "execution_count": null,
      "outputs": []
    },
    {
      "cell_type": "code",
      "source": [],
      "metadata": {
        "id": "j7a2TGi-6U96"
      },
      "execution_count": null,
      "outputs": []
    }
  ]
}