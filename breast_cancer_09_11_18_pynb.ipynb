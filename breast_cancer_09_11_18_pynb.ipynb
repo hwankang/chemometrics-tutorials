{
  "nbformat": 4,
  "nbformat_minor": 0,
  "metadata": {
    "colab": {
      "private_outputs": true,
      "provenance": [],
      "authorship_tag": "ABX9TyNzfr6FyzagVosFPusGQ3Jy",
      "include_colab_link": true
    },
    "kernelspec": {
      "name": "python3",
      "display_name": "Python 3"
    },
    "language_info": {
      "name": "python"
    }
  },
  "cells": [
    {
      "cell_type": "markdown",
      "metadata": {
        "id": "view-in-github",
        "colab_type": "text"
      },
      "source": [
        "<a href=\"https://colab.research.google.com/github/hwankang/chemometrics-tutorials/blob/master/breast_cancer_09_11_18_pynb.ipynb\" target=\"_parent\"><img src=\"https://colab.research.google.com/assets/colab-badge.svg\" alt=\"Open In Colab\"/></a>"
      ]
    },
    {
      "cell_type": "code",
      "execution_count": null,
      "metadata": {
        "id": "l6Cnasv-rrGr"
      },
      "outputs": [],
      "source": [
        "from sklearn import datasets \n",
        "import numpy as np\n",
        "breast = datasets.load_breast_cancer() \n",
        "print(breast.DESCR)\n"
      ]
    },
    {
      "cell_type": "code",
      "source": [
        "print(breast['feature_names'])"
      ],
      "metadata": {
        "id": "I7grR0ris4j2"
      },
      "execution_count": null,
      "outputs": []
    },
    {
      "cell_type": "code",
      "source": [
        "data=pd.read_csv('breast-cancer-wisconsin.csv')"
      ],
      "metadata": {
        "id": "OVBiO5p-5GP4"
      },
      "execution_count": null,
      "outputs": []
    },
    {
      "cell_type": "code",
      "source": [
        "import warnings\n",
        "warnings.filterwarnings(\"ignore\")\n",
        "import pandas as pd\n",
        "data = pd.read_csv('breast-cancer-wis.csv', encoding='utf-8')"
      ],
      "metadata": {
        "id": "d_uruOpzGMfH"
      },
      "execution_count": null,
      "outputs": []
    }
  ]
}