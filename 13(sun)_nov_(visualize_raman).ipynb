{
  "nbformat": 4,
  "nbformat_minor": 0,
  "metadata": {
    "colab": {
      "private_outputs": true,
      "provenance": [],
      "authorship_tag": "ABX9TyOO14ZOW6Yn8wePWOilHdL/",
      "include_colab_link": true
    },
    "kernelspec": {
      "name": "python3",
      "display_name": "Python 3"
    },
    "language_info": {
      "name": "python"
    },
    "gpuClass": "standard"
  },
  "cells": [
    {
      "cell_type": "markdown",
      "metadata": {
        "id": "view-in-github",
        "colab_type": "text"
      },
      "source": [
        "<a href=\"https://colab.research.google.com/github/hwankang/chemometrics-tutorials/blob/master/13(sun)_nov_(visualize_raman).ipynb\" target=\"_parent\"><img src=\"https://colab.research.google.com/assets/colab-badge.svg\" alt=\"Open In Colab\"/></a>"
      ]
    },
    {
      "cell_type": "code",
      "execution_count": null,
      "metadata": {
        "id": "t7QLkrdWBCOR"
      },
      "outputs": [],
      "source": [
        "from google.colab import drive\n",
        "drive.mount('/content/drive')"
      ]
    },
    {
      "cell_type": "code",
      "source": [
        "filename='/content/drive/MyDrive/machine_learning/123_Raman_DATA_csv.csv'\n",
        "import pandas as pd\n",
        "data = pd.read_csv(filename)"
      ],
      "metadata": {
        "id": "Z1-5EyQwBfOG"
      },
      "execution_count": null,
      "outputs": []
    },
    {
      "cell_type": "code",
      "source": [
        "data1=data.iloc[0::,5:3331]"
      ],
      "metadata": {
        "id": "WldH-XBuBvri"
      },
      "execution_count": null,
      "outputs": []
    },
    {
      "cell_type": "code",
      "source": [
        "data1_n=data1.to_numpy()\n",
        "raman=data1_n\n",
        "import numpy as np\n",
        "import matplotlib.pyplot as plt\n",
        "#plt.plot([100:3426], raman[:,0:1])\n",
        "xx=np.linspace(100,3425,3326)\n",
        "for i in range(404):\n",
        "    plt.plot(xx,raman[i:i+1,:].flatten())\n",
        "plt.xlabel('nm')\n",
        "plt.ylabel('raman intensity')\n",
        "plt.title('Raman spectroscopy')\n",
        "plt.show()"
      ],
      "metadata": {
        "id": "zFVjGLQbBrip"
      },
      "execution_count": null,
      "outputs": []
    },
    {
      "cell_type": "code",
      "source": [
        "data1_n=data1.to_numpy()\n",
        "raman=data1_n\n",
        "import numpy as np\n",
        "import matplotlib.pyplot as plt\n",
        "#plt.plot([100:3426], raman[:,0:1])\n",
        "xx=np.linspace(100,3425,3326)\n",
        "for i in range(1):\n",
        "    plt.plot(xx,raman[i:i+1,:].flatten())\n",
        "plt.xlabel('nm')\n",
        "plt.ylabel('raman intensity')\n",
        "plt.title('Raman spectroscopy')\n",
        "plt.show()"
      ],
      "metadata": {
        "id": "rqL37FHGNflJ"
      },
      "execution_count": null,
      "outputs": []
    },
    {
      "cell_type": "code",
      "source": [
        "data2=data.iloc[0::,2:3]\n",
        "data3=data.iloc[0::,3:4]\n",
        "data4=data.iloc[0::,4:5]\n",
        "data2\n",
        "Y_1=data2.to_numpy().flatten()\n",
        "Y_2=data3.to_numpy().flatten()\n",
        "Y_3=data4.to_numpy().flatten()"
      ],
      "metadata": {
        "id": "D4rwiSa7HOtF"
      },
      "execution_count": null,
      "outputs": []
    },
    {
      "cell_type": "code",
      "source": [
        "y=[Y_1[0],Y_2[0],Y_3[0]]\n",
        "x=np.arange(len(y))\n",
        "xlabel=['Y_1','Y_2','Y_3']\n",
        "plt.title(\"True Values\")\n",
        "plt.bar(x,y)\n",
        "plt.xticks(x,xlabel)\n",
        "plt.yticks(sorted(y))\n",
        "plt.xlabel(\"Chemicals\")\n",
        "plt.ylabel(\"measured values\")\n",
        "plt.show"
      ],
      "metadata": {
        "id": "SHn8RfODBtTH"
      },
      "execution_count": null,
      "outputs": []
    }
  ]
}