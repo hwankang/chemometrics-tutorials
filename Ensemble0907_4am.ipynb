{
  "nbformat": 4,
  "nbformat_minor": 0,
  "metadata": {
    "colab": {
      "private_outputs": true,
      "provenance": [],
      "authorship_tag": "ABX9TyPGPiqSM8CCE0hdQIt0dvBs",
      "include_colab_link": true
    },
    "kernelspec": {
      "name": "python3",
      "display_name": "Python 3"
    },
    "language_info": {
      "name": "python"
    }
  },
  "cells": [
    {
      "cell_type": "markdown",
      "metadata": {
        "id": "view-in-github",
        "colab_type": "text"
      },
      "source": [
        "<a href=\"https://colab.research.google.com/github/hwankang/chemometrics-tutorials/blob/master/Ensemble0907_4am.ipynb\" target=\"_parent\"><img src=\"https://colab.research.google.com/assets/colab-badge.svg\" alt=\"Open In Colab\"/></a>"
      ]
    },
    {
      "cell_type": "code",
      "execution_count": null,
      "metadata": {
        "id": "t3NY20D8rvFG"
      },
      "outputs": [],
      "source": [
        "from sklearn.datasets import load_iris, load_wine, load_breast_cancer,load_boston\n",
        "from sklearn.preprocessing import StandardScaler\n",
        "from sklearn.pipeline import make_pipeline\n",
        "from sklearn.model_selection import cross_validate"
      ]
    },
    {
      "cell_type": "code",
      "source": [
        "from sklearn.ensemble import BaggingClassifier\n",
        "from sklearn.neighbors import KNeighborsRegressor\n",
        "from sklearn.svm import SVR\n",
        "from sklearn.tree import DecisionTreeRegressor"
      ],
      "metadata": {
        "id": "vVRgEFEEuC_P"
      },
      "execution_count": null,
      "outputs": []
    },
    {
      "cell_type": "markdown",
      "source": [
        "#데이터셋 불러오기"
      ],
      "metadata": {
        "id": "t2TJwxTYxX5M"
      }
    },
    {
      "cell_type": "code",
      "source": [
        "iris=load_iris()\n",
        "wine=load_wine()\n",
        "cancer=load_breast_cancer()"
      ],
      "metadata": {
        "id": "VJ48UvlFxdYu"
      },
      "execution_count": null,
      "outputs": []
    },
    {
      "cell_type": "markdown",
      "source": [
        "#붓꽃 데이터"
      ],
      "metadata": {
        "id": "-4rsNiqZzDG-"
      }
    },
    {
      "cell_type": "code",
      "source": [
        "base_model= make_pipeline(\n",
        "    StandardScaler(),\n",
        "    KNeighborsClassifier()\n",
        ")\n",
        "\n",
        "bagging_model=BaggingClassifier(base_model, n_estimators=10, max_samples=0.5, max_features=0.5)"
      ],
      "metadata": {
        "id": "NOjE6bVazHgz"
      },
      "execution_count": null,
      "outputs": []
    },
    {
      "cell_type": "code",
      "source": [],
      "metadata": {
        "id": "ArU8L-bexUhy"
      },
      "execution_count": null,
      "outputs": []
    }
  ]
}