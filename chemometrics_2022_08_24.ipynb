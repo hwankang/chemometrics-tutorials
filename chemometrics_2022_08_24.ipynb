{
  "nbformat": 4,
  "nbformat_minor": 0,
  "metadata": {
    "colab": {
      "name": "chemometrics_2022_08_24.ipynb",
      "private_outputs": true,
      "provenance": [],
      "authorship_tag": "ABX9TyNTOCM11CehaOT8NQ3F+OZE",
      "include_colab_link": true
    },
    "kernelspec": {
      "name": "python3",
      "display_name": "Python 3"
    },
    "language_info": {
      "name": "python"
    }
  },
  "cells": [
    {
      "cell_type": "markdown",
      "metadata": {
        "id": "view-in-github",
        "colab_type": "text"
      },
      "source": [
        "<a href=\"https://colab.research.google.com/github/hwankang/chemometrics-tutorials/blob/master/chemometrics_2022_08_24.ipynb\" target=\"_parent\"><img src=\"https://colab.research.google.com/assets/colab-badge.svg\" alt=\"Open In Colab\"/></a>"
      ]
    },
    {
      "cell_type": "markdown",
      "source": [],
      "metadata": {
        "id": "FKaIG8BAjBSj"
      }
    },
    {
      "cell_type": "markdown",
      "source": [
        "# Multivariate Analysis"
      ],
      "metadata": {
        "id": "P-HDCf4yjD8B"
      }
    },
    {
      "cell_type": "code",
      "source": [
        "!pip uninstall -y tensorflow keras\n",
        "!git clone https://github.com/hwankang/chemometrics-tutorials"
      ],
      "metadata": {
        "id": "C0T4PkI9OONV"
      },
      "execution_count": null,
      "outputs": []
    },
    {
      "cell_type": "code",
      "source": [
        "%cd chemometrics-tutorials\n",
        "!pip install -r requirements.txt"
      ],
      "metadata": {
        "id": "VR8vizHSPDNX"
      },
      "execution_count": null,
      "outputs": []
    },
    {
      "cell_type": "markdown",
      "source": [
        "# Code import"
      ],
      "metadata": {
        "id": "1oOocuzqjXUu"
      }
    },
    {
      "cell_type": "code",
      "source": [
        "# Import the required python packages including \n",
        "# the custom Chemometric Model objects\n",
        "import numpy as np\n",
        "from sklearn import preprocessing\n",
        "import pandas as pds\n",
        "import matplotlib.pyplot as plt\n",
        "\n",
        "from pyChemometrics.ChemometricsPCA import ChemometricsPCA\n",
        "from pyChemometrics.ChemometricsScaler import ChemometricsScaler\n",
        "\n",
        "# Use to obtain same values as in the text\n",
        "np.random.seed(350)"
      ],
      "metadata": {
        "id": "_5MfSnXrPo2N"
      },
      "execution_count": null,
      "outputs": []
    },
    {
      "cell_type": "code",
      "source": [
        "# Import the datasets from the /data directory\n",
        "# X for the NMR spectra and Y for the 2 outcome variables\n",
        "X = np.genfromtxt(\"./data/X_spectra.csv\", delimiter=',', dtype=None)\n",
        "Y = pds.read_csv(\"./data/worm_yvars.csv\",delimiter=',',dtype=None, header=None)\n",
        "ppm = np.loadtxt(\"./data/ppm.csv\",delimiter=',')\n",
        "\n",
        "# Use pandas Categorical type to generate the dummy enconding of the Y vector (0 and 1) \n",
        "Y1 = pds.Categorical(Y.iloc[:, 0]).codes\n",
        "Y2 = pds.Categorical(Y.iloc[:, 1]).codes"
      ],
      "metadata": {
        "id": "cEuDE3kkQrZF"
      },
      "execution_count": null,
      "outputs": []
    },
    {
      "cell_type": "code",
      "source": [
        "Y_DataFrame = pds.read_csv(\"./data/worm_yvars.csv\",delimiter=',',dtype=None, header=None)\n",
        "YY=Y_DataFrame\n",
        "#print(X_DataFrame[1,0])\n",
        "YY.info()\n",
        "YY.head()\n",
        "YY.tail()"
      ],
      "metadata": {
        "id": "QTUXDhQ8pgGR"
      },
      "execution_count": null,
      "outputs": []
    },
    {
      "cell_type": "code",
      "source": [
        "ppm_DataFrame = pds.read_csv(\"./data/ppm.csv\",delimiter=',')\n",
        "PP=ppm_DataFrame\n",
        "#print(X_DataFrame[1,0])\n",
        "PP.info()\n",
        "PP.head()\n",
        "PP.tail()"
      ],
      "metadata": {
        "id": "w-B1mM2WySC_"
      },
      "execution_count": null,
      "outputs": []
    },
    {
      "cell_type": "code",
      "source": [
        "ppm.info()"
      ],
      "metadata": {
        "id": "WUW1Ywhhw1bq"
      },
      "execution_count": null,
      "outputs": []
    },
    {
      "cell_type": "code",
      "source": [
        "X_DataFrame = pds.read_csv(\"./data/X_spectra.csv\")\n",
        "X = X_DataFrame.values\n",
        "XX=X_DataFrame\n",
        "#print(X_DataFrame[1,0])\n",
        "XX.info()"
      ],
      "metadata": {
        "id": "kxHLomBVwTQJ"
      },
      "execution_count": null,
      "outputs": []
    },
    {
      "cell_type": "code",
      "source": [
        "import matplotlib.pyplot as plt"
      ],
      "metadata": {
        "id": "CAGdBsmOQzx0"
      },
      "execution_count": null,
      "outputs": []
    },
    {
      "cell_type": "code",
      "source": [
        "plt.figure()\n",
        "plt.plot(ppm, X.T)\n",
        "plt.title(\"X matrix of spectra\")\n",
        "plt.xlabel(\"$\\delta$ppm\")\n",
        "plt.gca().invert_xaxis()\n",
        "plt.ylabel(\"Intensity\")\n",
        "plt.show()"
      ],
      "metadata": {
        "id": "Ij7Yx0tlRA25"
      },
      "execution_count": null,
      "outputs": []
    },
    {
      "cell_type": "markdown",
      "source": [
        "# PCA model fitting and scaling\n",
        "##Scaling options and preliminary model fitting \n"
      ],
      "metadata": {
        "id": "4ydV4Ge3RXIX"
      }
    },
    {
      "cell_type": "code",
      "source": [
        "# Select the scaling options: \n",
        "# Here we are generating 3 scaling objects to explore the effect of scaling in PCA:\n",
        "\n",
        "# Unit-Variance (UV) scaling:\n",
        "scaling_object_uv = ChemometricsScaler(scale_power=1)\n",
        "\n",
        "# Mean Centering (MC):\n",
        "scaling_object_mc = ChemometricsScaler(scale_power=0)\n",
        "\n",
        "# Pareto scaling (Par):\n",
        "scaling_object_par = ChemometricsScaler(scale_power=0.5)"
      ],
      "metadata": {
        "id": "f91vIX-RR28L"
      },
      "execution_count": null,
      "outputs": []
    },
    {
      "cell_type": "markdown",
      "source": [],
      "metadata": {
        "id": "DyyzWMryR0a9"
      }
    },
    {
      "cell_type": "code",
      "source": [
        "# Create and fit the PCA model - starting with UV\n",
        "PCA_model_uv = ChemometricsPCA(ncomps=2, scaler=scaling_object_uv)\n",
        "PCA_model_uv.fit(X)"
      ],
      "metadata": {
        "id": "Zybtj1uyRwQz"
      },
      "execution_count": null,
      "outputs": []
    },
    {
      "cell_type": "code",
      "source": [
        "# Create and fit the PCA model - MC\n",
        "PCA_model_mc = ChemometricsPCA(ncomps=2, scaler=scaling_object_mc)\n",
        "PCA_model_mc.fit(X)"
      ],
      "metadata": {
        "id": "af_Py2JgRo5-"
      },
      "execution_count": null,
      "outputs": []
    },
    {
      "cell_type": "code",
      "source": [
        "# Create and fit the PCA model - Par\n",
        "PCA_model_par = ChemometricsPCA(ncomps=2, scaler=scaling_object_par)\n",
        "PCA_model_par.fit(X)"
      ],
      "metadata": {
        "id": "9Oz1_p9GSD-N"
      },
      "execution_count": null,
      "outputs": []
    },
    {
      "cell_type": "markdown",
      "source": [
        "# Effecr of scaling on PCA Score plots"
      ],
      "metadata": {
        "id": "JHOYajxKSHO6"
      }
    },
    {
      "cell_type": "code",
      "source": [
        "# PCA score plot for the mean centered model\n",
        "PCA_model_mc.plot_scores(comps=[0, 1], plot_title='Mean centering')"
      ],
      "metadata": {
        "id": "biYm5WCVSQNJ"
      },
      "execution_count": null,
      "outputs": []
    },
    {
      "cell_type": "code",
      "source": [
        "# Score plot for the Pareto scaled model\n",
        "PCA_model_par.plot_scores(comps=[0, 1], plot_title='Pareto scaling')"
      ],
      "metadata": {
        "id": "0D0oicQPSYCI"
      },
      "execution_count": null,
      "outputs": []
    },
    {
      "cell_type": "code",
      "source": [
        "# PCA score plot for UV scaled model\n",
        "PCA_model_uv.plot_scores(comps=[0, 1], plot_title='UV scaling')"
      ],
      "metadata": {
        "id": "5mqbqla_Sbb4"
      },
      "execution_count": null,
      "outputs": []
    },
    {
      "cell_type": "markdown",
      "source": [
        "Effect of scaling on PCA loadings"
      ],
      "metadata": {
        "id": "Qi1ijW-VSg8t"
      }
    },
    {
      "cell_type": "code",
      "source": [
        "# Plot of first principal component loadings of mean centering model\n",
        "ax = PCA_model_mc.plot_loadings(component=1, x=ppm)\n",
        "ax.invert_xaxis()"
      ],
      "metadata": {
        "id": "TJbaXdm4Sl_d"
      },
      "execution_count": null,
      "outputs": []
    },
    {
      "cell_type": "code",
      "source": [
        "# Plot of first principal component loadings of Pareto scaled model\n",
        "ax = PCA_model_par.plot_loadings(component=1, x=ppm)\n",
        "# Invert the axis to match the raw nmr spectra\n",
        "ax.invert_xaxis()"
      ],
      "metadata": {
        "id": "v4Z2mYlVStnO"
      },
      "execution_count": null,
      "outputs": []
    },
    {
      "cell_type": "code",
      "source": [
        "# Plot of first principal component loadings of Unit Variance scaled model\n",
        "ax = PCA_model_uv.plot_loadings(component=1, x=ppm)\n",
        "ax.invert_xaxis()"
      ],
      "metadata": {
        "id": "8WMw1gsxRkCl"
      },
      "execution_count": null,
      "outputs": []
    },
    {
      "cell_type": "markdown",
      "source": [
        "\n",
        "\n",
        "# 2)   Model cross-validation and component selection\n",
        "\n",
        "\n"
      ],
      "metadata": {
        "id": "oqevRC82S3UL"
      }
    },
    {
      "cell_type": "code",
      "source": [
        "PCA_model_uv.scree_plot(X, total_comps=10)"
      ],
      "metadata": {
        "id": "87kfJlNATIQw"
      },
      "execution_count": null,
      "outputs": []
    },
    {
      "cell_type": "code",
      "source": [
        "rep_cv = PCA_model_uv.repeated_cv(X, repeats=5)"
      ],
      "metadata": {
        "id": "yzLGdNU1TgCC"
      },
      "execution_count": null,
      "outputs": []
    },
    {
      "cell_type": "code",
      "source": [
        "# Create and fit the PCA model - UV scaling\n",
        "PCA_model_uv = ChemometricsPCA(ncomps=4, scaler=scaling_object_uv)\n",
        "PCA_model_uv.fit(X)\n",
        "PCA_model_uv.cross_validation(X)"
      ],
      "metadata": {
        "id": "neQgfdBgT_eQ"
      },
      "execution_count": null,
      "outputs": []
    },
    {
      "cell_type": "markdown",
      "source": [],
      "metadata": {
        "id": "618OSK1RSzOB"
      }
    },
    {
      "cell_type": "code",
      "source": [
        "PCA_model_uv.plot_loadings(component=1, sigma=2)"
      ],
      "metadata": {
        "id": "oAGxQ3nwUCXE"
      },
      "execution_count": null,
      "outputs": []
    },
    {
      "cell_type": "markdown",
      "source": [
        "#3) Outlier detection and model interpretation"
      ],
      "metadata": {
        "id": "5c-brsZvUIhT"
      }
    },
    {
      "cell_type": "code",
      "source": [
        "PCA_model_uv.plot_scores(comps=[0, 1])"
      ],
      "metadata": {
        "id": "AdEKJplXUSoa"
      },
      "execution_count": null,
      "outputs": []
    },
    {
      "cell_type": "code",
      "source": [
        "outlier_idx = PCA_model_uv.outlier(X)\n",
        "print(\"Outliers for the full 4 component model : {0}\".format(outlier_idx))\n",
        "outlier_idx = PCA_model_uv.outlier(X, comps=[1])\n",
        "print(\"Outliers for the 2nd principal component : {0}\".format(outlier_idx))"
      ],
      "metadata": {
        "id": "cUrSxGmQWe9A"
      },
      "execution_count": null,
      "outputs": []
    },
    {
      "cell_type": "code",
      "source": [
        "# plot the mean spectrum calculated from the raw data (blue) and the outlying spectra (red)\n",
        "plt.figure()\n",
        "plt.plot(ppm, X[outlier_idx, :].T, 'r')\n",
        "plt.plot(ppm, np.mean(X, axis=0), 'b')\n",
        "plt.gca().invert_xaxis()\n",
        "plt.show()"
      ],
      "metadata": {
        "id": "mPBTlaVXWj8e"
      },
      "execution_count": null,
      "outputs": []
    },
    {
      "cell_type": "code",
      "source": [
        "ax = PCA_model_uv.plot_loadings(component=1, x=ppm)\n",
        "ax.invert_xaxis()"
      ],
      "metadata": {
        "id": "jQ1h3elgWqBE"
      },
      "execution_count": null,
      "outputs": []
    },
    {
      "cell_type": "code",
      "source": [
        "# Use the center of the model as control \n",
        "model_center_sample = PCA_model_uv.inverse_transform([0, 0, 0 ,0])\n",
        "# Reconstruct spectra from the 5 outliers in PC2\n",
        "outlier_idx = PCA_model_uv.outlier(X, comps=[1])\n",
        "out_scores = PCA_model_uv.scores[outlier_idx, :]\n",
        "outliers = PCA_model_uv.inverse_transform(out_scores)\n",
        "# Reconstruct a spectrum for the \"mean\" of these outliers\n",
        "mean_outlier = PCA_model_uv.inverse_transform(out_scores.mean(axis=0))\n",
        "\n",
        "plt.figure()\n",
        "# \"center\" representative \"normal\" sample plotted in blue\n",
        "plt.plot(ppm, model_center_sample, 'b')\n",
        "# The outliers plotted in dashed red line\n",
        "plt.plot(ppm, outliers.T, 'r--',)\n",
        "# The mean outlier plotted in green\n",
        "plt.plot(ppm, mean_outlier, 'g')\n",
        "\n",
        "plt.gca().invert_xaxis()\n",
        "plt.show()"
      ],
      "metadata": {
        "id": "zx4Hri0bWsIT"
      },
      "execution_count": null,
      "outputs": []
    },
    {
      "cell_type": "code",
      "source": [
        "PCA_model_uv.plot_dmodx(X, label_outliers=True)"
      ],
      "metadata": {
        "id": "vaPpnBTEWywj"
      },
      "execution_count": null,
      "outputs": []
    },
    {
      "cell_type": "code",
      "source": [
        "# The outlier function can also be used to obtain the DmodX measure and outliers detected with it\n",
        "outlier_idx = PCA_model_uv.outlier(X, measure='DmodX', alpha=0.05)\n",
        "print(outlier_idx)"
      ],
      "metadata": {
        "id": "jkbHH5ivW4YV"
      },
      "execution_count": null,
      "outputs": []
    },
    {
      "cell_type": "markdown",
      "source": [
        "#Model interpretation"
      ],
      "metadata": {
        "id": "_Dq5DFngW80X"
      }
    },
    {
      "cell_type": "code",
      "source": [
        "outlier_idx = PCA_model_uv.outlier(X, comps=[1])\n",
        "\n",
        "print(\"The following samples (row index) have been detected as outliers: {0}\".format(outlier_idx))\n",
        "#Delete the outlier observations (rows)\n",
        "X_rem = np.delete(X, outlier_idx, axis=0)\n",
        "Y1_rem = np.delete(Y1, outlier_idx, axis=0)\n",
        "Y2_rem = np.delete(Y2, outlier_idx, axis=0)"
      ],
      "metadata": {
        "id": "YMGqwdFVXAp3"
      },
      "execution_count": null,
      "outputs": []
    },
    {
      "cell_type": "code",
      "source": [
        "# Create and fit the PCA model - UV scaling\n",
        "PCA_model_uv = ChemometricsPCA(ncomps=7, scaler=scaling_object_uv)\n",
        "PCA_model_uv.fit(X_rem)\n",
        "PCA_model_uv.scree_plot(X_rem, total_comps=10)"
      ],
      "metadata": {
        "id": "9VdVgxt3XEmD"
      },
      "execution_count": null,
      "outputs": []
    },
    {
      "cell_type": "code",
      "source": [
        "rep_cv = PCA_model_uv.repeated_cv(X_rem, repeats=5, total_comps=10)"
      ],
      "metadata": {
        "id": "3RXTmr_hXNkS"
      },
      "execution_count": null,
      "outputs": []
    },
    {
      "cell_type": "code",
      "source": [
        "PCA_model_uv.cross_validation(X_rem)\n",
        "print(\"The estimated Q2X from the model is {0}\".format(PCA_model_uv.cvParameters['Q2']))"
      ],
      "metadata": {
        "id": "bd35zVf6XrLm"
      },
      "execution_count": null,
      "outputs": []
    },
    {
      "cell_type": "code",
      "source": [
        "PCA_model_uv.plot_scores()"
      ],
      "metadata": {
        "id": "WHDLbkswXwiK"
      },
      "execution_count": null,
      "outputs": []
    },
    {
      "cell_type": "markdown",
      "source": [
        "#Exploring the trends in scope plots"
      ],
      "metadata": {
        "id": "yzNdb3AlX2ZS"
      }
    },
    {
      "cell_type": "code",
      "source": [
        "# Age seems to be one of the main driving forces of variation in the dataset, judging from component 1.\n",
        "PCA_model_uv.plot_scores(color=Y2_rem, discrete=True)"
      ],
      "metadata": {
        "id": "-x6DYtdXX9Mo"
      },
      "execution_count": null,
      "outputs": []
    },
    {
      "cell_type": "code",
      "source": [
        "# The loadings for component number 1\n",
        "PCA_model_uv.plot_loadings(component=1)"
      ],
      "metadata": {
        "id": "5fFKViCWYDRd"
      },
      "execution_count": null,
      "outputs": []
    },
    {
      "cell_type": "code",
      "source": [
        "PCA_model_uv.plot_scores(color=Y1_rem, discrete=True, comps=[1, 2])"
      ],
      "metadata": {
        "id": "_zWH3wfMYHf8"
      },
      "execution_count": null,
      "outputs": []
    },
    {
      "cell_type": "markdown",
      "source": [
        "###{PCA is a very usefull exploratory data analysis tool, especially valuable to visualise the main trends in complex multivariate datasets. It can be very usefull for outlier detection and for preliminary data quality assessement and presence of batch or run-order effects.}"
      ],
      "metadata": {
        "id": "9z6JBF0sYUR6"
      }
    },
    {
      "cell_type": "markdown",
      "source": [
        "#"
      ],
      "metadata": {
        "id": "3GoCB04RYSEQ"
      }
    }
  ]
}