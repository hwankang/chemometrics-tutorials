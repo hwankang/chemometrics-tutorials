{
  "nbformat": 4,
  "nbformat_minor": 0,
  "metadata": {
    "colab": {
      "name": "chemometrics_08_27.ipynb",
      "private_outputs": true,
      "provenance": [],
      "authorship_tag": "ABX9TyN5vJr5IKr1P/f4x50VOOSx",
      "include_colab_link": true
    },
    "kernelspec": {
      "name": "python3",
      "display_name": "Python 3"
    },
    "language_info": {
      "name": "python"
    }
  },
  "cells": [
    {
      "cell_type": "markdown",
      "metadata": {
        "id": "view-in-github",
        "colab_type": "text"
      },
      "source": [
        "<a href=\"https://colab.research.google.com/github/hwankang/chemometrics-tutorials/blob/master/chemometrics_08_27.ipynb\" target=\"_parent\"><img src=\"https://colab.research.google.com/assets/colab-badge.svg\" alt=\"Open In Colab\"/></a>"
      ]
    },
    {
      "cell_type": "code",
      "execution_count": null,
      "metadata": {
        "id": "5u-yaPVq_5RK"
      },
      "outputs": [],
      "source": [
        "!pip uninstall -y tensorflow keras\n",
        "!git clone https://github.com/hwankang/chemometrics-tutorials"
      ]
    },
    {
      "cell_type": "code",
      "source": [
        "%cd chemometrics-tutorials\n",
        "!pip install -r requirements.txt"
      ],
      "metadata": {
        "id": "xu4MD8wvAFXA"
      },
      "execution_count": null,
      "outputs": []
    },
    {
      "cell_type": "code",
      "source": [
        "# Import the required python packages including \n",
        "# the custom Chemometric Model objects\n",
        "import numpy as np\n",
        "from sklearn import preprocessing\n",
        "import pandas as pds\n",
        "import matplotlib.pyplot as plt\n",
        "import warnings\n",
        "from sklearn.exceptions import DataConversionWarning\n",
        "\n",
        "from pyChemometrics.ChemometricsPLSDA import ChemometricsPLSDA\n",
        "from pyChemometrics.ChemometricsScaler import ChemometricsScaler\n",
        "from pyChemometrics.ChemometricsOrthogonalPLSDA import ChemometricsOrthogonalPLSDA\n",
        "\n",
        "# Use to obtain same values as in the text\n",
        "np.random.seed(350)"
      ],
      "metadata": {
        "id": "Ywo5oyxaAT3e"
      },
      "execution_count": null,
      "outputs": []
    },
    {
      "cell_type": "code",
      "source": [
        "# Set the data conversion warnings to appear only once to avoid repetition during CV\n",
        "warnings.filterwarnings(\"ignore\", category=DataConversionWarning)"
      ],
      "metadata": {
        "id": "McG-046cAZc0"
      },
      "execution_count": null,
      "outputs": []
    },
    {
      "cell_type": "code",
      "source": [
        "# Set the plot backend to support interactive plotting\n",
        "#%matplotlib notebook"
      ],
      "metadata": {
        "id": "oxCq_OX5AdnC"
      },
      "execution_count": null,
      "outputs": []
    },
    {
      "cell_type": "code",
      "source": [
        "# Load the dataset\n",
        "X = np.genfromtxt(\"./data/X_spectra.csv\", delimiter=',', dtype=None)\n",
        "Y = pds.read_csv(\"./data/worm_yvars.csv\",delimiter=',',dtype=None, header=None)\n",
        "ppm = np.loadtxt(\"./data/ppm.csv\",delimiter=',')\n",
        "\n",
        "# Use pandas Categorical type to generate the dummy enconding of the Y vector (0 and 1) \n",
        "Y1 = pds.Categorical(Y.iloc[:, 0]).codes\n",
        "Y2 = pds.Categorical(Y.iloc[:, 1]).codes"
      ],
      "metadata": {
        "id": "-ZOeaACVAtMj"
      },
      "execution_count": null,
      "outputs": []
    },
    {
      "cell_type": "code",
      "source": [
        "# Plot the spectra in the dataset\n",
        "%matplotlib inline\n",
        "import matplotlib.pyplot as plt\n",
        "%matplotlib inline\n",
        "plt.figure()\n",
        "plt.plot(ppm, X.T)\n",
        "plt.title(\"X matrix of spectra\")\n",
        "plt.xlabel(\"$\\delta$ppm\")\n",
        "plt.gca().invert_xaxis()\n",
        "plt.ylabel(\"Intensity\")\n",
        "plt.show()"
      ],
      "metadata": {
        "id": "i1DUi_uLAz39"
      },
      "execution_count": null,
      "outputs": []
    },
    {
      "cell_type": "code",
      "source": [
        "# Select the scaling options: \n",
        "\n",
        "# Unit-Variance (UV) scaling:\n",
        "scaling_object_uv = ChemometricsScaler(scale_power=1)\n",
        "\n",
        "# Pareto scaling:\n",
        "scaling_object_par = ChemometricsScaler(scale_power=1/2)\n",
        "\n",
        "# Mean Centring:\n",
        "scaling_object_mc = ChemometricsScaler(scale_power=0)"
      ],
      "metadata": {
        "id": "0_UAFY9LB9Ja"
      },
      "execution_count": null,
      "outputs": []
    },
    {
      "cell_type": "code",
      "source": [
        "# Create and fit PLS-DA model\n",
        "pls_da = ChemometricsPLSDA(n_components=2, x_scaler=scaling_object_uv)\n",
        "pls_da.fit(X, Y1)"
      ],
      "metadata": {
        "id": "otZ8uI30CDoH"
      },
      "execution_count": null,
      "outputs": []
    },
    {
      "cell_type": "code",
      "source": [
        "# Plot the scores\n",
        "pls_da.plot_scores(color=Y1, discrete=True, label_outliers=True, plot_title=None)"
      ],
      "metadata": {
        "id": "NB5m3GabCK2z"
      },
      "execution_count": null,
      "outputs": []
    },
    {
      "cell_type": "code",
      "source": [
        "# Plot the weights and loadings.\n",
        "# w for weights, p for loadings,\n",
        "# ws for X rotations (rotated version of w) \n",
        "pls_da.plot_model_parameters(parameter='p', component=1)"
      ],
      "metadata": {
        "id": "vubMggWwCzXf"
      },
      "execution_count": null,
      "outputs": []
    },
    {
      "cell_type": "code",
      "source": [
        "# Plot the weights and loadings.\n",
        "# w for weights, p for loadings,\n",
        "# ws for X rotations (rotated version of w) \n",
        "pls_da.plot_model_parameters(parameter='w', component=1)"
      ],
      "metadata": {
        "id": "tJfLq1UYC5ck"
      },
      "execution_count": null,
      "outputs": []
    },
    {
      "cell_type": "markdown",
      "source": [
        "# 2) Model selection"
      ],
      "metadata": {
        "id": "jI-aWv6mDB46"
      }
    },
    {
      "cell_type": "code",
      "source": [
        "pls_da.scree_plot(X, Y1, total_comps=10)"
      ],
      "metadata": {
        "id": "FNHRnW9XDFj4"
      },
      "execution_count": null,
      "outputs": []
    },
    {
      "cell_type": "code",
      "source": [
        "# Repeated cross_validation\n",
        "rep_cv = pls_da.repeated_cv(X, Y1, repeats=5, total_comps=10)"
      ],
      "metadata": {
        "id": "R6KPKrLIDmCY"
      },
      "execution_count": null,
      "outputs": []
    },
    {
      "cell_type": "markdown",
      "source": [
        "##Outlier detection"
      ],
      "metadata": {
        "id": "Sup3iv9_EEAz"
      }
    },
    {
      "cell_type": "code",
      "source": [
        "pls_da.plot_scores(label_outliers=True)\n",
        "pls_da.outlier(X)"
      ],
      "metadata": {
        "id": "oVpr2VICEHpF"
      },
      "execution_count": null,
      "outputs": []
    },
    {
      "cell_type": "code",
      "source": [
        "pca_outliers = np.array([36, 100, 106, 113, 117])\n",
        "X = np.delete(X, pca_outliers, axis=0)\n",
        "Y1 = np.delete(Y1, pca_outliers, axis=0)\n",
        "Y2 = np.delete(Y2, pca_outliers, axis=0)"
      ],
      "metadata": {
        "id": "n_XEHn5mEN2k"
      },
      "execution_count": null,
      "outputs": []
    },
    {
      "cell_type": "code",
      "source": [
        "pls_da.scree_plot(X, Y1, total_comps=10)"
      ],
      "metadata": {
        "id": "u5h_fKf4EZQo"
      },
      "execution_count": null,
      "outputs": []
    },
    {
      "cell_type": "code",
      "source": [
        "# Repeated cross_validation\n",
        "rep_cv = pls_da.repeated_cv(X, Y1, repeats=5, total_comps=10)"
      ],
      "metadata": {
        "id": "29CWqkHAEkuI"
      },
      "execution_count": null,
      "outputs": []
    },
    {
      "cell_type": "markdown",
      "source": [
        " Refit the model"
      ],
      "metadata": {
        "id": "q2USDMsFFU9J"
      }
    },
    {
      "cell_type": "code",
      "source": [
        "# Refit the model with the selected number of components\n",
        "#pls_da = ChemometricsPLSDA(n_components=10, x_scaler=scaling_object_uv)\n",
        "pls_da = ChemometricsPLSDA(n_components=8, x_scaler=scaling_object_uv)\n",
        "pls_da.fit(X, Y1)"
      ],
      "metadata": {
        "id": "OSCEz8C5FZo2"
      },
      "execution_count": null,
      "outputs": []
    },
    {
      "cell_type": "code",
      "source": [
        "pls_da.plot_scores(color=Y1, discrete=True)"
      ],
      "metadata": {
        "id": "mNJEJFtXFeiw"
      },
      "execution_count": null,
      "outputs": []
    },
    {
      "cell_type": "code",
      "source": [
        "# Cross-validated ROC curve\n",
        "pls_da.cross_validation(X, Y1)\n",
        "pls_da.plot_cv_ROC()"
      ],
      "metadata": {
        "id": "6UcLL7o_FpSq"
      },
      "execution_count": null,
      "outputs": []
    },
    {
      "cell_type": "markdown",
      "source": [
        "#permutation test"
      ],
      "metadata": {
        "id": "YYvq2XOgLir4"
      }
    },
    {
      "cell_type": "code",
      "source": [
        "permt = pls_da.permutation_test(X, Y1, 1000)"
      ],
      "metadata": {
        "id": "C0sz-I7fLlsb"
      },
      "execution_count": null,
      "outputs": []
    },
    {
      "cell_type": "code",
      "source": [
        " np.save('permutations_plsda.npy', permt)\n",
        "permt = np.load('permutations_plsda.npy', allow_pickle=True)"
      ],
      "metadata": {
        "id": "RNq5wO2YMDfd"
      },
      "execution_count": null,
      "outputs": []
    },
    {
      "cell_type": "code",
      "source": [
        "# plot the results from the permuation test\n",
        "pls_da.plot_permutation_test(permt, metric='AUC')\n",
        "plt.xlabel('AUC')\n",
        "plt.ylabel('Counts')\n",
        "print(\"Permutation p-value for the AUC: {0}\".format(permt[1]['AUC']))"
      ],
      "metadata": {
        "id": "NWydn8X2MHd4"
      },
      "execution_count": null,
      "outputs": []
    },
    {
      "cell_type": "code",
      "source": [
        "# plot the results from the permuation test\n",
        "pls_da.plot_permutation_test(permt, metric='Q2Y')\n",
        "plt.xlabel('Q2Y')\n",
        "plt.ylabel('Counts')\n",
        "print(\"Permutation p-value for the Q2Y: {0}\".format(permt[1]['Q2Y']))"
      ],
      "metadata": {
        "id": "JRprdXghMK4N"
      },
      "execution_count": null,
      "outputs": []
    },
    {
      "cell_type": "markdown",
      "source": [
        "# 3) Model interpretation and variable importance"
      ],
      "metadata": {
        "id": "eeY-cxsXMN9O"
      }
    },
    {
      "cell_type": "code",
      "source": [
        "pls_da.plot_model_parameters('w', component=1, sigma=2, cross_val=True, xaxis=ppm)\n",
        "plt.gca().invert_xaxis()\n",
        "plt.gca().set_xlabel('ppm')"
      ],
      "metadata": {
        "id": "34xSqk0fMXq4"
      },
      "execution_count": null,
      "outputs": []
    },
    {
      "cell_type": "code",
      "source": [
        "pls_da.plot_model_parameters('VIP', sigma=2, cross_val=True, xaxis=ppm)\n",
        "plt.gca().invert_xaxis()\n",
        "plt.gca().set_xlabel('ppm')"
      ],
      "metadata": {
        "id": "gr644xYbNQMT"
      },
      "execution_count": null,
      "outputs": []
    },
    {
      "cell_type": "code",
      "source": [
        "pls_da.plot_model_parameters('beta', sigma=2, cross_val=True, xaxis=ppm)\n",
        "plt.gca().invert_xaxis()\n",
        "plt.gca().set_xlabel('ppm')"
      ],
      "metadata": {
        "id": "X-pNdFghNSnr"
      },
      "execution_count": null,
      "outputs": []
    },
    {
      "cell_type": "code",
      "source": [
        "fig, ax = plt.subplots(1,2, figsize=(8, 5))\n",
        "X_scaled = pls_da.x_scaler.transform(X)\n",
        "\n",
        "cov_x_y = np.dot(Y1.T - Y1.mean(), X_scaled) / (Y1.shape[0]-1)\n",
        "cov_x_y = cov_x_y/np.linalg.norm(cov_x_y)\n",
        "\n",
        "ax[0].plot(cov_x_y, 'orange')\n",
        "ax[1].plot(pls_da.weights_w[:, 0], 'green')\n",
        "ax[0].set_xlabel('Normalised $Cov(X_{i}, Y)$')\n",
        "ax[1].set_xlabel('$w$ for PLS component 1')\n",
        "fig.show()"
      ],
      "metadata": {
        "id": "eXmZ5eSYNVhT"
      },
      "execution_count": null,
      "outputs": []
    },
    {
      "cell_type": "code",
      "source": [
        "# Same model, but coloured by Age instead of Genotype\n",
        "pls_da.plot_scores(comps=[1, 2], color=Y2, discrete=True)\n",
        "pls_da.plot_model_parameters('p', component=2)"
      ],
      "metadata": {
        "id": "0F50718fNX7h"
      },
      "execution_count": null,
      "outputs": []
    },
    {
      "cell_type": "markdown",
      "source": [
        "##Orthogonal PLS"
      ],
      "metadata": {
        "id": "rOjOQPfQNa5m"
      }
    },
    {
      "cell_type": "code",
      "source": [
        "# Generate an Orthogonal PLS-DA version of the PLS-DA model fitted\n",
        "orthogonal_pls_da = ChemometricsOrthogonalPLSDA(ncomps=5, xscaler=scaling_object_uv)\n",
        "orthogonal_pls_da.fit(X, Y1)"
      ],
      "metadata": {
        "id": "WVhXkSIVNeLv"
      },
      "execution_count": null,
      "outputs": []
    },
    {
      "cell_type": "code",
      "source": [
        "orthogonal_pls_da.plot_scores(color=Y1, orthogonal_component=1, discrete=True)"
      ],
      "metadata": {
        "id": "q4zwTEEZNn5S"
      },
      "execution_count": null,
      "outputs": []
    },
    {
      "cell_type": "code",
      "source": [
        "orthogonal_pls_da.plot_scores(color=Y2, orthogonal_component=2, discrete=True, label_outliers=False)"
      ],
      "metadata": {
        "id": "ttJsFJJjNrdy"
      },
      "execution_count": null,
      "outputs": []
    },
    {
      "cell_type": "code",
      "source": [
        "orthogonal_pls_da.plot_model_parameters('p_pred', orthogonal_component = 1, xaxis=ppm)\n",
        "plt.gca().invert_xaxis()\n",
        "# \n",
        "orthogonal_pls_da.plot_model_parameters('p_ortho', orthogonal_component = 2, xaxis=ppm)\n",
        "plt.gca().invert_xaxis()"
      ],
      "metadata": {
        "id": "DswSHnoENt5q"
      },
      "execution_count": null,
      "outputs": []
    },
    {
      "cell_type": "markdown",
      "source": [
        "Permutation p-value for variable ranking"
      ],
      "metadata": {
        "id": "-t3UiLUEN0rI"
      }
    },
    {
      "cell_type": "code",
      "source": [
        "# Plot empirical null distributions for weights\n",
        "plt.figure()\n",
        "plt.hist(permt[0]['Weights_w'][:, 3000, 0], 100)\n",
        "plt.title(\"Permuted null distribution for weights (w), component 1, {0} $\\delta$ppm\".format(ppm[3000]))\n",
        "plt.show()\n",
        "\n",
        "plt.figure()\n",
        "plt.hist(permt[0]['Weights_w'][:, 10, 0], 100)\n",
        "plt.title(\"Permuted null distribution for weights (w), component 1, {0} $\\delta$ppm\".format(ppm[10]))\n",
        "plt.show()"
      ],
      "metadata": {
        "id": "U6sUZ0XNN8gf"
      },
      "execution_count": null,
      "outputs": []
    },
    {
      "cell_type": "code",
      "source": [
        "# Plot empirical null distributions for loadings\n",
        "# Notice how these are not unimodal and distributed around 0...\n",
        "plt.figure()\n",
        "plt.hist(permt[0]['Loadings_p'][:, 3000, 0], 100)\n",
        "plt.title(\"Permuted null distribution for loadings (p), component 1, {0} $\\delta$ppm\".format(ppm[3000]))\n",
        "plt.show()\n",
        "\n",
        "plt.figure()\n",
        "plt.hist(permt[0]['Loadings_p'][:, 10, 0], 100)\n",
        "plt.title(\"Permuted null distribution for loadings (p), component 1, {0} $\\delta$ppm\".format(ppm[10]))\n",
        "plt.show()"
      ],
      "metadata": {
        "id": "XR-2hutaN_gm"
      },
      "execution_count": null,
      "outputs": []
    },
    {
      "cell_type": "code",
      "source": [
        "# Plot empirical null distributions for regression coefficients\n",
        "plt.figure()\n",
        "plt.hist(permt[0][\"Beta\"][:, 3000], 100)\n",
        "plt.title(r\"Permuted null distribution for $\\beta$, {0} $\\delta$ppm\".format(ppm[3000]))\n",
        "plt.show()\n",
        "\n",
        "plt.figure()\n",
        "plt.hist(permt[0]['Beta'][:, 10], 100)\n",
        "plt.title(r\"Permuted null distribution for $\\beta$, {0} $\\delta$ppm\".format(ppm[10]))\n",
        "plt.show()"
      ],
      "metadata": {
        "id": "tMf03dU9OCBS"
      },
      "execution_count": null,
      "outputs": []
    },
    {
      "cell_type": "code",
      "source": [
        "# Always set *nperms* equal to the number of permutations used before\n",
        "nperms = permt[0]['R2Y'].size\n",
        "perm_indx = abs(permt[0]['Beta'].squeeze()) >= abs(pls_da.beta_coeffs.squeeze())\n",
        "counts = np.sum(perm_indx, axis=0)\n",
        "beta_pvals = (counts + 1) / (nperms + 1)\n",
        "\n",
        "perm_indx_W = abs(permt[0]['Weights_w'][:, :, 0].squeeze()) >= abs(pls_da.weights_w[:, 0].squeeze())\n",
        "counts = np.sum(perm_indx_W, axis=0)\n",
        "w_pvals = (counts + 1) / (nperms + 1)"
      ],
      "metadata": {
        "id": "ecWhV0uNOQct"
      },
      "execution_count": null,
      "outputs": []
    },
    {
      "cell_type": "code",
      "source": [
        "plt.figure()\n",
        "plt.title(r\"p-value distribution for the regression coefficients $\\beta$ \")\n",
        "z = plt.hist(beta_pvals, bins=100, alpha=0.8)\n",
        "plt.axvline(x=0.05, ymin=0, ymax=max(z[0]), color='r', linestyle='--') \n",
        "plt.show()\n",
        "\n",
        "plt.figure()\n",
        "plt.title(r\"p-value distribution for the weights corresponding to the first component\")\n",
        "z = plt.hist(w_pvals, bins=100, alpha=0.8)\n",
        "plt.axvline(x=0.05, ymin=0, ymax=max(z[0]), color='r', linestyle='--') \n",
        "plt.show()"
      ],
      "metadata": {
        "id": "WWqwWGQvOFHC"
      },
      "execution_count": null,
      "outputs": []
    },
    {
      "cell_type": "code",
      "source": [
        "signif_bpls_idx = np.where(beta_pvals <= 0.05)[0]\n",
        "\n",
        "print(\"Number of significant values: {0}\".format(len(signif_bpls_idx)))"
      ],
      "metadata": {
        "id": "CemsyLHsOMj5"
      },
      "execution_count": null,
      "outputs": []
    },
    {
      "cell_type": "markdown",
      "source": [
        "Comparison between variables highlighted in a multivariate PLS-DA with a univariate analysis"
      ],
      "metadata": {
        "id": "CutMNzqFOdf_"
      }
    },
    {
      "cell_type": "code",
      "source": [
        "#load the results of the univariate testing procedure\n",
        "univ_gen = pds.read_csv('./data/UnivariateAnalysis_Genotype.csv')\n",
        "\n",
        "# Select significant peaks from univariate analysis \n",
        "signif = np.where(univ_gen['genotype_q-value'] < 0.05)[0]"
      ],
      "metadata": {
        "id": "nIjFSs3GOrVA"
      },
      "execution_count": null,
      "outputs": []
    },
    {
      "cell_type": "code",
      "source": [
        "# p-values significant for association with genotype in both the PLS analysis and linear regression\n",
        "common_idx = np.array([x for x in signif_bpls_idx if x in signif])\n",
        "# p-values significant only in PLS\n",
        "pls_idx = np.array([x for x in signif_bpls_idx if x not in signif])\n",
        "# p-values significant only for linear regression\n",
        "reg_idx = np.array([x for x in signif if x not in signif_bpls_idx])"
      ],
      "metadata": {
        "id": "CPINs21aOuQf"
      },
      "execution_count": null,
      "outputs": []
    },
    {
      "cell_type": "code",
      "source": [
        "plt.figure()\n",
        "plt.plot(ppm, X.mean(axis=0))\n",
        "#plt.scatter(ppm[signif], X.mean(axis=0)[signif], c='red', s=30)\n",
        "plt.scatter(ppm[reg_idx], X.mean(axis=0)[reg_idx], c='red', s=30)\n",
        "plt.scatter(ppm[pls_idx], X.mean(axis=0)[pls_idx], c='orange', s=30)\n",
        "plt.scatter(ppm[common_idx], X.mean(axis=0)[common_idx], c='green', s=30)\n",
        "plt.gca().invert_xaxis()\n",
        "plt.legend(['Mean Spectrum', 'Both', 'Linear regression only', 'PLS only'])\n",
        "plt.show()"
      ],
      "metadata": {
        "id": "H8D6xBqwOziB"
      },
      "execution_count": null,
      "outputs": []
    }
  ]
}