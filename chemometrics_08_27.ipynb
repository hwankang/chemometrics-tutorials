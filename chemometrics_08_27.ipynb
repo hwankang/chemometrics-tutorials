{
  "nbformat": 4,
  "nbformat_minor": 0,
  "metadata": {
    "colab": {
      "name": "chemometrics_08_27.ipynb",
      "private_outputs": true,
      "provenance": [],
      "authorship_tag": "ABX9TyMGFgdIW3i0HY64vjNG8q5U",
      "include_colab_link": true
    },
    "kernelspec": {
      "name": "python3",
      "display_name": "Python 3"
    },
    "language_info": {
      "name": "python"
    }
  },
  "cells": [
    {
      "cell_type": "markdown",
      "metadata": {
        "id": "view-in-github",
        "colab_type": "text"
      },
      "source": [
        "<a href=\"https://colab.research.google.com/github/hwankang/chemometrics-tutorials/blob/master/chemometrics_08_27.ipynb\" target=\"_parent\"><img src=\"https://colab.research.google.com/assets/colab-badge.svg\" alt=\"Open In Colab\"/></a>"
      ]
    },
    {
      "cell_type": "code",
      "execution_count": null,
      "metadata": {
        "id": "5u-yaPVq_5RK"
      },
      "outputs": [],
      "source": [
        "!pip uninstall -y tensorflow keras\n",
        "!git clone https://github.com/hwankang/chemometrics-tutorials"
      ]
    },
    {
      "cell_type": "code",
      "source": [
        "%cd chemometrics-tutorials\n",
        "!pip install -r requirements.txt"
      ],
      "metadata": {
        "id": "xu4MD8wvAFXA"
      },
      "execution_count": null,
      "outputs": []
    },
    {
      "cell_type": "code",
      "source": [
        "# Import the required python packages including \n",
        "# the custom Chemometric Model objects\n",
        "import numpy as np\n",
        "from sklearn import preprocessing\n",
        "import pandas as pds\n",
        "import matplotlib.pyplot as plt\n",
        "import warnings\n",
        "from sklearn.exceptions import DataConversionWarning\n",
        "\n",
        "from pyChemometrics.ChemometricsPLSDA import ChemometricsPLSDA\n",
        "from pyChemometrics.ChemometricsScaler import ChemometricsScaler\n",
        "from pyChemometrics.ChemometricsOrthogonalPLSDA import ChemometricsOrthogonalPLSDA\n",
        "\n",
        "# Use to obtain same values as in the text\n",
        "np.random.seed(350)"
      ],
      "metadata": {
        "id": "Ywo5oyxaAT3e"
      },
      "execution_count": null,
      "outputs": []
    },
    {
      "cell_type": "code",
      "source": [
        "# Set the data conversion warnings to appear only once to avoid repetition during CV\n",
        "warnings.filterwarnings(\"ignore\", category=DataConversionWarning)"
      ],
      "metadata": {
        "id": "McG-046cAZc0"
      },
      "execution_count": null,
      "outputs": []
    },
    {
      "cell_type": "code",
      "source": [
        "# Set the plot backend to support interactive plotting\n",
        "%matplotlib notebook"
      ],
      "metadata": {
        "id": "oxCq_OX5AdnC"
      },
      "execution_count": null,
      "outputs": []
    },
    {
      "cell_type": "code",
      "source": [
        "# Load the dataset\n",
        "X = np.genfromtxt(\"./data/X_spectra.csv\", delimiter=',', dtype=None)\n",
        "Y = pds.read_csv(\"./data/worm_yvars.csv\",delimiter=',',dtype=None, header=None)\n",
        "ppm = np.loadtxt(\"./data/ppm.csv\",delimiter=',')\n",
        "\n",
        "# Use pandas Categorical type to generate the dummy enconding of the Y vector (0 and 1) \n",
        "Y1 = pds.Categorical(Y.iloc[:, 0]).codes\n",
        "Y2 = pds.Categorical(Y.iloc[:, 1]).codes"
      ],
      "metadata": {
        "id": "-ZOeaACVAtMj"
      },
      "execution_count": null,
      "outputs": []
    },
    {
      "cell_type": "code",
      "source": [
        "# Plot the spectra in the dataset\n",
        "%matplotlib inline\n",
        "import matplotlib.pyplot as plt\n",
        "%matplotlib inline\n",
        "plt.figure()\n",
        "plt.plot(ppm, X.T)\n",
        "plt.title(\"X matrix of spectra\")\n",
        "plt.xlabel(\"$\\delta$ppm\")\n",
        "plt.gca().invert_xaxis()\n",
        "plt.ylabel(\"Intensity\")\n",
        "plt.show()"
      ],
      "metadata": {
        "id": "i1DUi_uLAz39"
      },
      "execution_count": null,
      "outputs": []
    },
    {
      "cell_type": "code",
      "source": [
        "# Select the scaling options: \n",
        "\n",
        "# Unit-Variance (UV) scaling:\n",
        "scaling_object_uv = ChemometricsScaler(scale_power=1)\n",
        "\n",
        "# Pareto scaling:\n",
        "scaling_object_par = ChemometricsScaler(scale_power=1/2)\n",
        "\n",
        "# Mean Centring:\n",
        "scaling_object_mc = ChemometricsScaler(scale_power=0)"
      ],
      "metadata": {
        "id": "0_UAFY9LB9Ja"
      },
      "execution_count": null,
      "outputs": []
    },
    {
      "cell_type": "code",
      "source": [
        "# Create and fit PLS-DA model\n",
        "pls_da = ChemometricsPLSDA(n_components=2, x_scaler=scaling_object_uv)\n",
        "pls_da.fit(X, Y1)"
      ],
      "metadata": {
        "id": "otZ8uI30CDoH"
      },
      "execution_count": null,
      "outputs": []
    },
    {
      "cell_type": "code",
      "source": [
        "# Plot the scores\n",
        "pls_da.plot_scores(color=Y1, discrete=True, label_outliers=True, plot_title=None)"
      ],
      "metadata": {
        "id": "NB5m3GabCK2z"
      },
      "execution_count": null,
      "outputs": []
    },
    {
      "cell_type": "code",
      "source": [
        "# Plot the weights and loadings.\n",
        "# w for weights, p for loadings,\n",
        "# ws for X rotations (rotated version of w) \n",
        "pls_da.plot_model_parameters(parameter='p', component=1)"
      ],
      "metadata": {
        "id": "vubMggWwCzXf"
      },
      "execution_count": null,
      "outputs": []
    },
    {
      "cell_type": "code",
      "source": [
        "# Plot the weights and loadings.\n",
        "# w for weights, p for loadings,\n",
        "# ws for X rotations (rotated version of w) \n",
        "pls_da.plot_model_parameters(parameter='w', component=1)"
      ],
      "metadata": {
        "id": "tJfLq1UYC5ck"
      },
      "execution_count": null,
      "outputs": []
    },
    {
      "cell_type": "markdown",
      "source": [
        "# 2) Model selection"
      ],
      "metadata": {
        "id": "jI-aWv6mDB46"
      }
    },
    {
      "cell_type": "code",
      "source": [
        "pls_da.scree_plot(X, Y1, total_comps=10)"
      ],
      "metadata": {
        "id": "FNHRnW9XDFj4"
      },
      "execution_count": null,
      "outputs": []
    },
    {
      "cell_type": "code",
      "source": [
        "# Repeated cross_validation\n",
        "rep_cv = pls_da.repeated_cv(X, Y1, repeats=5, total_comps=10)"
      ],
      "metadata": {
        "id": "R6KPKrLIDmCY"
      },
      "execution_count": null,
      "outputs": []
    },
    {
      "cell_type": "markdown",
      "source": [
        "##Outlier detection"
      ],
      "metadata": {
        "id": "Sup3iv9_EEAz"
      }
    },
    {
      "cell_type": "code",
      "source": [
        "pls_da.plot_scores(label_outliers=True)\n",
        "pls_da.outlier(X)"
      ],
      "metadata": {
        "id": "oVpr2VICEHpF"
      },
      "execution_count": null,
      "outputs": []
    },
    {
      "cell_type": "code",
      "source": [
        "pca_outliers = np.array([36, 100, 106, 113, 117])\n",
        "X = np.delete(X, pca_outliers, axis=0)\n",
        "Y1 = np.delete(Y1, pca_outliers, axis=0)\n",
        "Y2 = np.delete(Y2, pca_outliers, axis=0)"
      ],
      "metadata": {
        "id": "n_XEHn5mEN2k"
      },
      "execution_count": null,
      "outputs": []
    },
    {
      "cell_type": "code",
      "source": [
        "pls_da.scree_plot(X, Y1, total_comps=10)"
      ],
      "metadata": {
        "id": "u5h_fKf4EZQo"
      },
      "execution_count": null,
      "outputs": []
    },
    {
      "cell_type": "code",
      "source": [
        "# Repeated cross_validation\n",
        "rep_cv = pls_da.repeated_cv(X, Y1, repeats=5, total_comps=10)"
      ],
      "metadata": {
        "id": "29CWqkHAEkuI"
      },
      "execution_count": null,
      "outputs": []
    },
    {
      "cell_type": "markdown",
      "source": [
        " Refit the model"
      ],
      "metadata": {
        "id": "q2USDMsFFU9J"
      }
    },
    {
      "cell_type": "code",
      "source": [
        "# Refit the model with the selected number of components\n",
        "pls_da = ChemometricsPLSDA(n_components=4, x_scaler=scaling_object_uv)\n",
        "pls_da.fit(X, Y1)"
      ],
      "metadata": {
        "id": "OSCEz8C5FZo2"
      },
      "execution_count": null,
      "outputs": []
    },
    {
      "cell_type": "code",
      "source": [
        "pls_da.plot_scores(color=Y1, discrete=True)"
      ],
      "metadata": {
        "id": "mNJEJFtXFeiw"
      },
      "execution_count": null,
      "outputs": []
    },
    {
      "cell_type": "code",
      "source": [
        "# Cross-validated ROC curve\n",
        "pls_da.cross_validation(X, Y1)\n",
        "pls_da.plot_cv_ROC()"
      ],
      "metadata": {
        "id": "6UcLL7o_FpSq"
      },
      "execution_count": null,
      "outputs": []
    }
  ]
}