{
  "nbformat": 4,
  "nbformat_minor": 0,
  "metadata": {
    "colab": {
      "provenance": [],
      "authorship_tag": "ABX9TyNj2Tj6ju5rzl6eQDRg8UJL",
      "include_colab_link": true
    },
    "kernelspec": {
      "name": "python3",
      "display_name": "Python 3"
    },
    "language_info": {
      "name": "python"
    },
    "gpuClass": "standard"
  },
  "cells": [
    {
      "cell_type": "markdown",
      "metadata": {
        "id": "view-in-github",
        "colab_type": "text"
      },
      "source": [
        "<a href=\"https://colab.research.google.com/github/hwankang/chemometrics-tutorials/blob/master/29(sat)_Nov__7_56_pm_R2_0_952(stacking)_Adaboost_0_196_Gradient_Boost_0_294_NIR_b.ipynb\" target=\"_parent\"><img src=\"https://colab.research.google.com/assets/colab-badge.svg\" alt=\"Open In Colab\"/></a>"
      ]
    },
    {
      "cell_type": "code",
      "execution_count": null,
      "metadata": {
        "id": "0XEtLrSaws01"
      },
      "outputs": [],
      "source": [
        "from google.colab import drive\n",
        "drive.mount('/content/drive')"
      ]
    },
    {
      "cell_type": "code",
      "source": [
        "filename='/content/drive/MyDrive/machine_learning/123_Raman_DATA_csv.csv'\n",
        "filename_a='/content/drive/MyDrive/machine_learning/B_NIR_DATA_csv.csv'\n",
        "import pandas as pd\n",
        "data_a = pd.read_csv(filename_a,header=0, \n",
        "                   encoding=\"unicode-escape\")"
      ],
      "metadata": {
        "id": "WeXe7TVuw6rl"
      },
      "execution_count": null,
      "outputs": []
    },
    {
      "cell_type": "code",
      "source": [
        "xx,yy=data_a.shape\n",
        "xx"
      ],
      "metadata": {
        "id": "I015htzuxA8f"
      },
      "execution_count": null,
      "outputs": []
    },
    {
      "cell_type": "code",
      "source": [
        "data_a2=data_a.iloc[0::,1:yy+1]\n",
        "data_a2.head()"
      ],
      "metadata": {
        "id": "9kyyE75qxvRj"
      },
      "execution_count": null,
      "outputs": []
    },
    {
      "cell_type": "code",
      "source": [
        "data_a2.iloc[4,0]"
      ],
      "metadata": {
        "id": "SNiQgUlFqnqm"
      },
      "execution_count": null,
      "outputs": []
    },
    {
      "cell_type": "code",
      "source": [
        "ai=[]\n",
        "for i in range(xx):\n",
        "    if data_a2.iloc[i,0]==False:\n",
        "        ai.append(i)\n",
        "data_a3=data_a2.drop(ai,axis=0) #\n",
        "data_a3\n",
        "len(ai)\n",
        "data_a3"
      ],
      "metadata": {
        "id": "RstzoQrFpxIm"
      },
      "execution_count": null,
      "outputs": []
    },
    {
      "cell_type": "code",
      "source": [
        "x1,y1=data_a3.shape\n",
        "data_a1=data_a3.iloc[0::,2:yy+1]\n",
        "data_a1"
      ],
      "metadata": {
        "id": "9VdA_HdZsSli"
      },
      "execution_count": null,
      "outputs": []
    },
    {
      "cell_type": "code",
      "source": [
        "#preperation\n",
        "df=pd.DataFrame({\n",
        "    'bool':['true','false','true','false'],\n",
        "    'int':[1,2,3,4]\n",
        "})\n",
        "df2=df\n",
        "df.iloc[0,0]\n",
        "df"
      ],
      "metadata": {
        "id": "cwNpqFozeoZH"
      },
      "execution_count": null,
      "outputs": []
    },
    {
      "cell_type": "code",
      "source": [
        "range(4)"
      ],
      "metadata": {
        "id": "jzMaWgomhKV-"
      },
      "execution_count": null,
      "outputs": []
    },
    {
      "cell_type": "code",
      "source": [
        "ai=[]\n",
        "for i in range(4):\n",
        "    if df.iloc[i,0]=='false':\n",
        "        ai.append(i)\n",
        "df2=df.drop(ai,axis=0) #\n",
        "df2"
      ],
      "metadata": {
        "id": "8B2RFUcqdAop"
      },
      "execution_count": null,
      "outputs": []
    },
    {
      "cell_type": "code",
      "source": [
        "data_a1_n=data_a1.to_numpy()\n",
        "data_a1_input=data_a1_n\n",
        "data_a1_input"
      ],
      "metadata": {
        "id": "V_jf7CQ6yb9k"
      },
      "execution_count": null,
      "outputs": []
    },
    {
      "cell_type": "code",
      "source": [
        "data_a1_output=data_a3.iloc[0::,1:2]\n",
        "data_a1_output.head()"
      ],
      "metadata": {
        "id": "BLFRIBkgz3CZ"
      },
      "execution_count": null,
      "outputs": []
    },
    {
      "cell_type": "code",
      "source": [
        "data_a1_output_n=data_a1_output.to_numpy().flatten()\n",
        "data_a1_target=data_a1_output_n\n",
        "data_a1_target"
      ],
      "metadata": {
        "id": "zoNeiduI0A39"
      },
      "execution_count": null,
      "outputs": []
    },
    {
      "cell_type": "code",
      "source": [
        "from sklearn.datasets import load_breast_cancer\n",
        "\n",
        "import numpy as np\n",
        "import pandas as pd\n",
        "from sklearn.preprocessing import StandardScaler\n",
        "from sklearn.linear_model import LogisticRegression\n",
        "from sklearn.model_selection import train_test_split\n",
        "from sklearn.metrics import roc_curve, accuracy_score, confusion_matrix, recall_score, precision_score\n",
        "\n",
        "import seaborn as sns\n",
        "import matplotlib.pyplot as plt \n",
        "import matplotlib.font_manager as fm "
      ],
      "metadata": {
        "id": "bVeSGhcR2SXm"
      },
      "execution_count": null,
      "outputs": []
    },
    {
      "cell_type": "code",
      "source": [
        "data_a1_input"
      ],
      "metadata": {
        "id": "p9V_yZ8kPtOs"
      },
      "execution_count": null,
      "outputs": []
    },
    {
      "cell_type": "code",
      "source": [
        "data_a1_target"
      ],
      "metadata": {
        "id": "2Nht4PFTPxO2"
      },
      "execution_count": null,
      "outputs": []
    },
    {
      "cell_type": "code",
      "source": [
        "from sklearn.pipeline import make_pipeline\n",
        "from sklearn.model_selection import cross_validate\n",
        "from sklearn.preprocessing import StandardScaler"
      ],
      "metadata": {
        "id": "Y6ZEMqfXP1sl"
      },
      "execution_count": null,
      "outputs": []
    },
    {
      "cell_type": "code",
      "source": [
        "from sklearn.ensemble import BaggingRegressor\n",
        "from sklearn.neighbors import KNeighborsRegressor\n",
        "from sklearn.svm import SVR\n",
        "from sklearn.tree import DecisionTreeRegressor"
      ],
      "metadata": {
        "id": "feXyLYlmP6vV"
      },
      "execution_count": null,
      "outputs": []
    },
    {
      "cell_type": "code",
      "source": [
        "from sklearn.ensemble import BaggingClassifier\n",
        "from sklearn.neighbors import KNeighborsClassifier\n",
        "from sklearn.svm import SVC\n",
        "from sklearn.tree import DecisionTreeClassifier"
      ],
      "metadata": {
        "id": "vLocwQSOP-Cw"
      },
      "execution_count": null,
      "outputs": []
    },
    {
      "cell_type": "code",
      "source": [
        "base_model= make_pipeline(\n",
        "    StandardScaler(),\n",
        "    KNeighborsRegressor()\n",
        ")\n",
        "\n",
        "#bagging_model=BaggingRegressor(base_model, n_estimators=10, max_samples=0.5, max_features=0.5)\n",
        "bagging_model=BaggingRegressor(base_model, n_estimators=10, max_samples=1, max_features=1)"
      ],
      "metadata": {
        "id": "oPdbAxKaQBwA"
      },
      "execution_count": null,
      "outputs": []
    },
    {
      "cell_type": "code",
      "source": [
        "cross_val=cross_validate(\n",
        "    estimator=base_model,\n",
        "#    X=boston.data, y=boston.target,\n",
        "#    X=raman, y=raman_target,\n",
        "     X=data_a1_input, y=data_a1_target,\n",
        "    cv=5)\n",
        "print('avg fit time: {} (+/-{})'.format(cross_val['fit_time'].mean(), cross_val['fit_time'].std()))\n",
        "print('avg score time: {} (+/- {})'.format(cross_val['score_time'].mean(), cross_val['score_time'].std()))\n",
        "print('avg test score: {} (+/- {})'.format(cross_val['test_score'].mean(), cross_val['test_score'].std()))"
      ],
      "metadata": {
        "id": "EnnbLCE7QG73"
      },
      "execution_count": null,
      "outputs": []
    },
    {
      "cell_type": "code",
      "source": [
        "cross_val=cross_validate(\n",
        "    estimator=bagging_model,\n",
        "#   X=raman, y=raman_target,\n",
        "    X=data_a1_input, y=data_a1_target,\n",
        "    cv=5)\n",
        "print('avg fit time: {} (+/-{})'.format(cross_val['fit_time'].mean(), cross_val['fit_time'].std()))\n",
        "print('avg score time: {} (+/- {})'.format(cross_val['score_time'].mean(), cross_val['score_time'].std()))\n",
        "print('avg test score: {} (+/- {})'.format(cross_val['test_score'].mean(), cross_val['test_score'].std()))"
      ],
      "metadata": {
        "id": "3W-RemVpQg2l"
      },
      "execution_count": null,
      "outputs": []
    },
    {
      "cell_type": "code",
      "source": [
        "base_model= make_pipeline(\n",
        "    StandardScaler(),\n",
        "    KNeighborsRegressor()\n",
        ")\n",
        "\n",
        "bagging_model=BaggingRegressor(base_model, n_estimators=10, max_samples=1, max_features=1)"
      ],
      "metadata": {
        "id": "PwNjC934Q2Jd"
      },
      "execution_count": null,
      "outputs": []
    },
    {
      "cell_type": "code",
      "source": [
        "cross_val=cross_validate(\n",
        "    estimator=bagging_model,\n",
        "#   X=raman, y=raman_target,\n",
        "    X=data_a1_input, y=data_a1_target,\n",
        "    cv=5)\n",
        "print('avg fit time: {} (+/-{})'.format(cross_val['fit_time'].mean(), cross_val['fit_time'].std()))\n",
        "print('avg score time: {} (+/- {})'.format(cross_val['score_time'].mean(), cross_val['score_time'].std()))\n",
        "print('avg test score: {} (+/- {})'.format(cross_val['test_score'].mean(), cross_val['test_score'].std()))"
      ],
      "metadata": {
        "id": "84IDQP5RQ30b"
      },
      "execution_count": null,
      "outputs": []
    },
    {
      "cell_type": "markdown",
      "source": [
        "SVR"
      ],
      "metadata": {
        "id": "lbCVOEQ8RO4Y"
      }
    },
    {
      "cell_type": "code",
      "source": [
        "base_model= make_pipeline(\n",
        "    StandardScaler(),\n",
        "    SVR()\n",
        ")"
      ],
      "metadata": {
        "id": "aMppnD9jRK36"
      },
      "execution_count": null,
      "outputs": []
    },
    {
      "cell_type": "code",
      "source": [
        "cross_val=cross_validate(\n",
        "    estimator=base_model,\n",
        "#   X=raman, y=raman_target,\n",
        "    X=data_a1_input, y=data_a1_target,\n",
        "    cv=5)\n",
        "print('avg fit time: {} (+/-{})'.format(cross_val['fit_time'].mean(), cross_val['fit_time'].std()))\n",
        "print('avg score time: {} (+/- {})'.format(cross_val['score_time'].mean(), cross_val['score_time'].std()))\n",
        "print('avg test score: {} (+/- {})'.format(cross_val['test_score'].mean(), cross_val['test_score'].std()))"
      ],
      "metadata": {
        "id": "SVo17h8VRUnL"
      },
      "execution_count": null,
      "outputs": []
    },
    {
      "cell_type": "code",
      "source": [
        "cross_val=cross_validate(\n",
        "    estimator=bagging_model,\n",
        "#   X=raman, y=raman_target,\n",
        "    X=data_a1_input, y=data_a1_target,\n",
        "    cv=5)\n",
        "print('avg fit time: {} (+/-{})'.format(cross_val['fit_time'].mean(), cross_val['fit_time'].std()))\n",
        "print('avg score time: {} (+/- {})'.format(cross_val['score_time'].mean(), cross_val['score_time'].std()))\n",
        "print('avg test score: {} (+/- {})'.format(cross_val['test_score'].mean(), cross_val['test_score'].std()))"
      ],
      "metadata": {
        "id": "AR0Sls0zRfk6"
      },
      "execution_count": null,
      "outputs": []
    },
    {
      "cell_type": "markdown",
      "source": [
        "Decision Tree"
      ],
      "metadata": {
        "id": "Jan6opIrR6CE"
      }
    },
    {
      "cell_type": "code",
      "source": [
        "base_model= make_pipeline(\n",
        "    StandardScaler(),\n",
        "    DecisionTreeRegressor()\n",
        ")\n",
        "\n",
        "bagging_model=BaggingRegressor(base_model, n_estimators=10, max_samples=0.5, max_features=0.5)"
      ],
      "metadata": {
        "id": "Y1SLPHWYRxmO"
      },
      "execution_count": null,
      "outputs": []
    },
    {
      "cell_type": "code",
      "source": [
        "cross_val=cross_validate(\n",
        "    estimator=base_model,\n",
        "    X=data_a1_input, y=data_a1_target,\n",
        "    cv=5)\n",
        "print('avg fit time: {} (+/-{})'.format(cross_val['fit_time'].mean(), cross_val['fit_time'].std()))\n",
        "print('avg score time: {} (+/- {})'.format(cross_val['score_time'].mean(), cross_val['score_time'].std()))\n",
        "print('avg test score: {} (+/- {})'.format(cross_val['test_score'].mean(), cross_val['test_score'].std()))"
      ],
      "metadata": {
        "id": "zhbBOtvZSBc2"
      },
      "execution_count": null,
      "outputs": []
    },
    {
      "cell_type": "code",
      "source": [
        "cross_val=cross_validate(\n",
        "    estimator=bagging_model,\n",
        "    X=data_a1_input, y=data_a1_target,\n",
        "    cv=5)\n",
        "print('avg fit time: {} (+/-{})'.format(cross_val['fit_time'].mean(), cross_val['fit_time'].std()))\n",
        "print('avg score time: {} (+/- {})'.format(cross_val['score_time'].mean(), cross_val['score_time'].std()))\n",
        "print('avg test score: {} (+/- {})'.format(cross_val['test_score'].mean(), cross_val['test_score'].std()))"
      ],
      "metadata": {
        "id": "QlJ6pcw_SOrR"
      },
      "execution_count": null,
      "outputs": []
    },
    {
      "cell_type": "markdown",
      "source": [
        "Forests of randomized trees"
      ],
      "metadata": {
        "id": "cJhoG55ASpgO"
      }
    },
    {
      "cell_type": "markdown",
      "source": [
        "##1)Random Forest\n",
        "##2) Extra-tree"
      ],
      "metadata": {
        "id": "UMcLq4JtSvcK"
      }
    },
    {
      "cell_type": "code",
      "source": [
        "from sklearn.ensemble import RandomForestClassifier,ExtraTreesClassifier\n",
        "from sklearn.ensemble import RandomForestRegressor,ExtraTreesRegressor"
      ],
      "metadata": {
        "id": "47nwrBvZSfNi"
      },
      "execution_count": null,
      "outputs": []
    },
    {
      "cell_type": "code",
      "source": [
        "model =make_pipeline(\n",
        "    StandardScaler(),\n",
        "    RandomForestRegressor()\n",
        ")"
      ],
      "metadata": {
        "id": "3VgZUOZ_XA7L"
      },
      "execution_count": null,
      "outputs": []
    },
    {
      "cell_type": "code",
      "source": [
        "cross_val=cross_validate(\n",
        "    estimator=model,\n",
        "    #X=boston.data, y=boston.target,\n",
        "    X=data_a1_input, y=data_a1_target,\n",
        "    cv=5)\n",
        "print('avg fit time: {} (+/-{})'.format(cross_val['fit_time'].mean(), cross_val['fit_time'].std()))\n",
        "print('avg score time: {} (+/- {})'.format(cross_val['score_time'].mean(), cross_val['score_time'].std()))\n",
        "print('avg test score: {} (+/- {})'.format(cross_val['test_score'].mean(), cross_val['test_score'].std()))"
      ],
      "metadata": {
        "id": "zqvjTNJgXJrN"
      },
      "execution_count": null,
      "outputs": []
    },
    {
      "cell_type": "markdown",
      "source": [
        "EXtremely Randomized Trees"
      ],
      "metadata": {
        "id": "RdjIijKVYHYq"
      }
    },
    {
      "cell_type": "code",
      "source": [
        "model =make_pipeline(\n",
        "    StandardScaler(),\n",
        "    ExtraTreesRegressor()\n",
        ")"
      ],
      "metadata": {
        "id": "Ybf1LDxWYLrW"
      },
      "execution_count": null,
      "outputs": []
    },
    {
      "cell_type": "code",
      "source": [
        "cross_val=cross_validate(\n",
        "    estimator=model,\n",
        "    #X=boston.data, y=boston.target,\n",
        "    X=data_a1_input, y=data_a1_target,\n",
        "    cv=5)\n",
        "print('avg fit time: {} (+/-{})'.format(cross_val['fit_time'].mean(), cross_val['fit_time'].std()))\n",
        "print('avg score time: {} (+/- {})'.format(cross_val['score_time'].mean(), cross_val['score_time'].std()))\n",
        "print('avg test score: {} (+/- {})'.format(cross_val['test_score'].mean(), cross_val['test_score'].std()))"
      ],
      "metadata": {
        "id": "KePzz2SYYPCt"
      },
      "execution_count": null,
      "outputs": []
    },
    {
      "cell_type": "markdown",
      "source": [
        "Adaboost"
      ],
      "metadata": {
        "id": "yta-oLBBY7wn"
      }
    },
    {
      "cell_type": "code",
      "source": [
        "from sklearn.ensemble import AdaBoostRegressor"
      ],
      "metadata": {
        "id": "jTbMMO3sZG6o"
      },
      "execution_count": null,
      "outputs": []
    },
    {
      "cell_type": "code",
      "source": [
        "model = make_pipeline(\n",
        "    StandardScaler(),\n",
        "    AdaBoostRegressor()\n",
        ")"
      ],
      "metadata": {
        "id": "a9WoZhPFY9il"
      },
      "execution_count": null,
      "outputs": []
    },
    {
      "cell_type": "code",
      "source": [
        "cross_val=cross_validate(\n",
        "    estimator=model,\n",
        "    #X=boston.data, y=boston.target,\n",
        "    X=data_a1_input, y=data_a1_target,\n",
        "    cv=10)\n",
        "print('avg fit time: {} (+/-{})'.format(cross_val['fit_time'].mean(), cross_val['fit_time'].std()))\n",
        "print('avg score time: {} (+/- {})'.format(cross_val['score_time'].mean(), cross_val['score_time'].std()))\n",
        "print('avg test score: {} (+/- {})'.format(cross_val['test_score'].mean(), cross_val['test_score'].std()))\n",
        "cross_val['test_score']"
      ],
      "metadata": {
        "id": "ODySNfEhZPtN"
      },
      "execution_count": null,
      "outputs": []
    },
    {
      "cell_type": "code",
      "source": [
        "cross_val=cross_validate(\n",
        "    estimator=model,\n",
        "    #X=boston.data, y=boston.target,\n",
        "    X=data_a1_input, y=data_a1_target,\n",
        "    cv=5)\n",
        "print('avg fit time: {} (+/-{})'.format(cross_val['fit_time'].mean(), cross_val['fit_time'].std()))\n",
        "print('avg score time: {} (+/- {})'.format(cross_val['score_time'].mean(), cross_val['score_time'].std()))\n",
        "print('avg test score: {} (+/- {})'.format(cross_val['test_score'].mean(), cross_val['test_score'].std()))"
      ],
      "metadata": {
        "id": "y7Q7EUEYZTz6"
      },
      "execution_count": null,
      "outputs": []
    },
    {
      "cell_type": "markdown",
      "source": [
        "Gradient Tree boosting"
      ],
      "metadata": {
        "id": "lDfA_k0eaF4V"
      }
    },
    {
      "cell_type": "code",
      "source": [
        "from sklearn.ensemble import GradientBoostingRegressor"
      ],
      "metadata": {
        "id": "5CqYtnYTZCzd"
      },
      "execution_count": null,
      "outputs": []
    },
    {
      "cell_type": "code",
      "source": [
        "model = make_pipeline(\n",
        "    StandardScaler(),\n",
        "    GradientBoostingRegressor()\n",
        ")"
      ],
      "metadata": {
        "id": "StVC-DclaM84"
      },
      "execution_count": null,
      "outputs": []
    },
    {
      "cell_type": "code",
      "source": [
        "cross_val=cross_validate(\n",
        "    estimator=model,\n",
        "    #X=boston.data, y=boston.target,\n",
        "    X=data_a1_input, y=data_a1_target,\n",
        "    cv=10)\n",
        "print('avg fit time: {} (+/-{})'.format(cross_val['fit_time'].mean(), cross_val['fit_time'].std()))\n",
        "print('avg score time: {} (+/- {})'.format(cross_val['score_time'].mean(), cross_val['score_time'].std()))\n",
        "print('avg test score: {} (+/- {})'.format(cross_val['test_score'].mean(), cross_val['test_score'].std()))\n",
        "cross_val['test_score']"
      ],
      "metadata": {
        "id": "jr2azuNNaca6"
      },
      "execution_count": null,
      "outputs": []
    },
    {
      "cell_type": "markdown",
      "source": [
        "Regressor vote"
      ],
      "metadata": {
        "id": "hEzKwi3_cjqb"
      }
    },
    {
      "cell_type": "code",
      "source": [
        "from sklearn.linear_model import LinearRegression\n",
        "from sklearn.ensemble import GradientBoostingRegressor\n",
        "from sklearn.ensemble import RandomForestRegressor\n",
        "from sklearn.ensemble import VotingRegressor\n",
        "from sklearn.model_selection import cross_val_score"
      ],
      "metadata": {
        "id": "8Ck74P5mcsAz"
      },
      "execution_count": null,
      "outputs": []
    },
    {
      "cell_type": "code",
      "source": [
        "model1=LinearRegression()\n",
        "model2=GradientBoostingRegressor()\n",
        "model3=RandomForestRegressor()\n",
        "vote_model =VotingRegressor(estimators=[('linear',model1),('gbr',model2),('rfr',model3)],\n",
        "                              weights=[1,1,1])"
      ],
      "metadata": {
        "id": "Y3aKM1QGcxCs"
      },
      "execution_count": null,
      "outputs": []
    },
    {
      "cell_type": "code",
      "source": [
        "for model in [model1,model2,model3,vote_model]:\n",
        "    model_name=str(type(model)).split('.')[-1][:-2]\n",
        "    scores=cross_val_score(model,data_a1_input,data_a1_target,cv=20)\n",
        "    print('R2: %0.2f (+/- %0.2f) [%s]' % ( scores.mean(), scores.std(), model_name))"
      ],
      "metadata": {
        "id": "nTHN_bp9cyvm"
      },
      "execution_count": null,
      "outputs": []
    },
    {
      "cell_type": "markdown",
      "source": [],
      "metadata": {
        "id": "hS5I6o8Tcqxg"
      }
    },
    {
      "cell_type": "markdown",
      "source": [
        "스택회귀"
      ],
      "metadata": {
        "id": "hoflYauXv0yK"
      }
    },
    {
      "cell_type": "code",
      "source": [
        "from sklearn.linear_model import Ridge, Lasso\n",
        "from sklearn.svm import SVR\n",
        "from sklearn.ensemble import GradientBoostingRegressor\n",
        "from sklearn.ensemble import StackingRegressor"
      ],
      "metadata": {
        "id": "rDPsyuQkcjNG"
      },
      "execution_count": null,
      "outputs": []
    },
    {
      "cell_type": "code",
      "source": [
        "estimators=[('ridge',Ridge()),\n",
        "            ('lasso',Lasso()),\n",
        "            ('svr',SVR())]"
      ],
      "metadata": {
        "id": "jh_l1Z2lv7AA"
      },
      "execution_count": null,
      "outputs": []
    },
    {
      "cell_type": "code",
      "source": [
        "reg = make_pipeline(\n",
        "    StandardScaler(),\n",
        "    StackingRegressor(\n",
        "        estimators=estimators,\n",
        "        final_estimator=GradientBoostingRegressor()\n",
        ")\n",
        ")"
      ],
      "metadata": {
        "id": "MIRDvY34v-m5"
      },
      "execution_count": null,
      "outputs": []
    },
    {
      "cell_type": "code",
      "source": [
        "cross_val=cross_validate(\n",
        "    estimator=reg,\n",
        "    X=data_a1_input, y=data_a1_target,\n",
        "    cv=10)\n",
        "print('avg fit time: {} (+/-{})'.format(cross_val['fit_time'].mean(), cross_val['fit_time'].std()))\n",
        "print('avg score time: {} (+/-{})'.format(cross_val['score_time'].mean(), cross_val['score_time'].std()))\n",
        "print('avg test score: {} (+/-{})'.format(cross_val['test_score'].mean(), cross_val['test_score'].std()))\n",
        "cross_val['test_score']"
      ],
      "metadata": {
        "id": "xz7Q4Ra-w3Je"
      },
      "execution_count": null,
      "outputs": []
    },
    {
      "cell_type": "code",
      "source": [],
      "metadata": {
        "id": "ar28dkfAwCkv"
      },
      "execution_count": null,
      "outputs": []
    }
  ]
}