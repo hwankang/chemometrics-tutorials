{
  "nbformat": 4,
  "nbformat_minor": 0,
  "metadata": {
    "colab": {
      "provenance": [],
      "authorship_tag": "ABX9TyP2cALgeYpRdsalKflQu/q5",
      "include_colab_link": true
    },
    "kernelspec": {
      "name": "python3",
      "display_name": "Python 3"
    },
    "language_info": {
      "name": "python"
    },
    "gpuClass": "standard"
  },
  "cells": [
    {
      "cell_type": "markdown",
      "metadata": {
        "id": "view-in-github",
        "colab_type": "text"
      },
      "source": [
        "<a href=\"https://colab.research.google.com/github/hwankang/chemometrics-tutorials/blob/master/14_(sat)_January_02_00am_SVR_with_linear_Data_A.ipynb\" target=\"_parent\"><img src=\"https://colab.research.google.com/assets/colab-badge.svg\" alt=\"Open In Colab\"/></a>"
      ]
    },
    {
      "cell_type": "code",
      "source": [
        "from google.colab import drive\n",
        "drive.mount('/content/drive')"
      ],
      "metadata": {
        "id": "y6t3wE6bvI6C",
        "colab": {
          "base_uri": "https://localhost:8080/"
        },
        "outputId": "5812e9b6-e58d-457b-bbf5-fdd24caa6d17"
      },
      "execution_count": 1,
      "outputs": [
        {
          "output_type": "stream",
          "name": "stdout",
          "text": [
            "Mounted at /content/drive\n"
          ]
        }
      ]
    },
    {
      "cell_type": "code",
      "source": [
        "filename_a='/content/drive/MyDrive/machine_learning/A_NIR_DATA_csv.csv'\n",
        "import pandas as pd\n",
        "data_a = pd.read_csv(filename_a,header=0, \n",
        "                   encoding=\"unicode-escape\")"
      ],
      "metadata": {
        "id": "D2WELDX-vfds"
      },
      "execution_count": 2,
      "outputs": []
    },
    {
      "cell_type": "code",
      "source": [
        "xx,yy=data_a.shape\n",
        "xx"
      ],
      "metadata": {
        "colab": {
          "base_uri": "https://localhost:8080/"
        },
        "id": "IpWM_SxKvqXd",
        "outputId": "ba55275f-6dff-4316-cc51-014a25f72beb"
      },
      "execution_count": 55,
      "outputs": [
        {
          "output_type": "execute_result",
          "data": {
            "text/plain": [
              "2039"
            ]
          },
          "metadata": {},
          "execution_count": 55
        }
      ]
    },
    {
      "cell_type": "code",
      "source": [
        "data_a2=data_a.iloc[0::,1:yy+1]\n",
        "data_a2.head()"
      ],
      "metadata": {
        "colab": {
          "base_uri": "https://localhost:8080/",
          "height": 317
        },
        "id": "PhmuebIKvwJh",
        "outputId": "af09416f-e847-480a-99d7-5b83adaadbf6"
      },
      "execution_count": 56,
      "outputs": [
        {
          "output_type": "execute_result",
          "data": {
            "text/plain": [
              "   ¸ðµ¨ Æ÷ÇÔ   Y_A  899.9280058  900.2520706  900.5763689  900.9009009  \\\n",
              "0       True  24.0     0.098681     0.100515     0.102056     0.100267   \n",
              "1       True  24.0     0.098081     0.099926     0.101394     0.099664   \n",
              "2       True  24.0     0.089885     0.092072     0.094055     0.092618   \n",
              "3       True  23.6     0.088701     0.090287     0.091825     0.090534   \n",
              "4       True  23.6     0.095273     0.096945     0.098684     0.097460   \n",
              "\n",
              "   901.2256669  901.5506671  901.8759019  902.2013713  ...  2477.700694  \\\n",
              "0     0.096954     0.096161     0.097151     0.096790  ...     2.968741   \n",
              "1     0.096598     0.095915     0.096567     0.095609  ...     2.960005   \n",
              "2     0.089560     0.088900     0.089790     0.089088  ...     2.943931   \n",
              "3     0.087883     0.087348     0.088151     0.087593  ...     2.935452   \n",
              "4     0.094674     0.093949     0.094563     0.093743  ...     2.966199   \n",
              "\n",
              "   2480.15873  2482.621648  2485.089463  2487.562189  2490.039841  \\\n",
              "0    2.968988     2.958685     2.950201     2.950122     2.948725   \n",
              "1    2.959948     2.951504     2.945633     2.947553     2.947326   \n",
              "2    2.943679     2.930295     2.919846     2.920668     2.922776   \n",
              "3    2.938259     2.928736     2.921757     2.924166     2.924666   \n",
              "4    2.968021     2.955198     2.942411     2.943006     2.942151   \n",
              "\n",
              "   2492.522433  2495.00998  2497.502498      2500  \n",
              "0     2.939113    2.929406     2.929555  2.927579  \n",
              "1     2.937901    2.926926     2.924102  2.920722  \n",
              "2     2.913596    2.904503     2.903535  2.901086  \n",
              "3     2.914831    2.905151     2.902643  2.897351  \n",
              "4     2.931640    2.918549     2.918717  2.917849  \n",
              "\n",
              "[5 rows x 1781 columns]"
            ],
            "text/html": [
              "\n",
              "  <div id=\"df-bf25c371-1f7d-4c56-a339-71fe27f898ce\">\n",
              "    <div class=\"colab-df-container\">\n",
              "      <div>\n",
              "<style scoped>\n",
              "    .dataframe tbody tr th:only-of-type {\n",
              "        vertical-align: middle;\n",
              "    }\n",
              "\n",
              "    .dataframe tbody tr th {\n",
              "        vertical-align: top;\n",
              "    }\n",
              "\n",
              "    .dataframe thead th {\n",
              "        text-align: right;\n",
              "    }\n",
              "</style>\n",
              "<table border=\"1\" class=\"dataframe\">\n",
              "  <thead>\n",
              "    <tr style=\"text-align: right;\">\n",
              "      <th></th>\n",
              "      <th>¸ðµ¨ Æ÷ÇÔ</th>\n",
              "      <th>Y_A</th>\n",
              "      <th>899.9280058</th>\n",
              "      <th>900.2520706</th>\n",
              "      <th>900.5763689</th>\n",
              "      <th>900.9009009</th>\n",
              "      <th>901.2256669</th>\n",
              "      <th>901.5506671</th>\n",
              "      <th>901.8759019</th>\n",
              "      <th>902.2013713</th>\n",
              "      <th>...</th>\n",
              "      <th>2477.700694</th>\n",
              "      <th>2480.15873</th>\n",
              "      <th>2482.621648</th>\n",
              "      <th>2485.089463</th>\n",
              "      <th>2487.562189</th>\n",
              "      <th>2490.039841</th>\n",
              "      <th>2492.522433</th>\n",
              "      <th>2495.00998</th>\n",
              "      <th>2497.502498</th>\n",
              "      <th>2500</th>\n",
              "    </tr>\n",
              "  </thead>\n",
              "  <tbody>\n",
              "    <tr>\n",
              "      <th>0</th>\n",
              "      <td>True</td>\n",
              "      <td>24.0</td>\n",
              "      <td>0.098681</td>\n",
              "      <td>0.100515</td>\n",
              "      <td>0.102056</td>\n",
              "      <td>0.100267</td>\n",
              "      <td>0.096954</td>\n",
              "      <td>0.096161</td>\n",
              "      <td>0.097151</td>\n",
              "      <td>0.096790</td>\n",
              "      <td>...</td>\n",
              "      <td>2.968741</td>\n",
              "      <td>2.968988</td>\n",
              "      <td>2.958685</td>\n",
              "      <td>2.950201</td>\n",
              "      <td>2.950122</td>\n",
              "      <td>2.948725</td>\n",
              "      <td>2.939113</td>\n",
              "      <td>2.929406</td>\n",
              "      <td>2.929555</td>\n",
              "      <td>2.927579</td>\n",
              "    </tr>\n",
              "    <tr>\n",
              "      <th>1</th>\n",
              "      <td>True</td>\n",
              "      <td>24.0</td>\n",
              "      <td>0.098081</td>\n",
              "      <td>0.099926</td>\n",
              "      <td>0.101394</td>\n",
              "      <td>0.099664</td>\n",
              "      <td>0.096598</td>\n",
              "      <td>0.095915</td>\n",
              "      <td>0.096567</td>\n",
              "      <td>0.095609</td>\n",
              "      <td>...</td>\n",
              "      <td>2.960005</td>\n",
              "      <td>2.959948</td>\n",
              "      <td>2.951504</td>\n",
              "      <td>2.945633</td>\n",
              "      <td>2.947553</td>\n",
              "      <td>2.947326</td>\n",
              "      <td>2.937901</td>\n",
              "      <td>2.926926</td>\n",
              "      <td>2.924102</td>\n",
              "      <td>2.920722</td>\n",
              "    </tr>\n",
              "    <tr>\n",
              "      <th>2</th>\n",
              "      <td>True</td>\n",
              "      <td>24.0</td>\n",
              "      <td>0.089885</td>\n",
              "      <td>0.092072</td>\n",
              "      <td>0.094055</td>\n",
              "      <td>0.092618</td>\n",
              "      <td>0.089560</td>\n",
              "      <td>0.088900</td>\n",
              "      <td>0.089790</td>\n",
              "      <td>0.089088</td>\n",
              "      <td>...</td>\n",
              "      <td>2.943931</td>\n",
              "      <td>2.943679</td>\n",
              "      <td>2.930295</td>\n",
              "      <td>2.919846</td>\n",
              "      <td>2.920668</td>\n",
              "      <td>2.922776</td>\n",
              "      <td>2.913596</td>\n",
              "      <td>2.904503</td>\n",
              "      <td>2.903535</td>\n",
              "      <td>2.901086</td>\n",
              "    </tr>\n",
              "    <tr>\n",
              "      <th>3</th>\n",
              "      <td>True</td>\n",
              "      <td>23.6</td>\n",
              "      <td>0.088701</td>\n",
              "      <td>0.090287</td>\n",
              "      <td>0.091825</td>\n",
              "      <td>0.090534</td>\n",
              "      <td>0.087883</td>\n",
              "      <td>0.087348</td>\n",
              "      <td>0.088151</td>\n",
              "      <td>0.087593</td>\n",
              "      <td>...</td>\n",
              "      <td>2.935452</td>\n",
              "      <td>2.938259</td>\n",
              "      <td>2.928736</td>\n",
              "      <td>2.921757</td>\n",
              "      <td>2.924166</td>\n",
              "      <td>2.924666</td>\n",
              "      <td>2.914831</td>\n",
              "      <td>2.905151</td>\n",
              "      <td>2.902643</td>\n",
              "      <td>2.897351</td>\n",
              "    </tr>\n",
              "    <tr>\n",
              "      <th>4</th>\n",
              "      <td>True</td>\n",
              "      <td>23.6</td>\n",
              "      <td>0.095273</td>\n",
              "      <td>0.096945</td>\n",
              "      <td>0.098684</td>\n",
              "      <td>0.097460</td>\n",
              "      <td>0.094674</td>\n",
              "      <td>0.093949</td>\n",
              "      <td>0.094563</td>\n",
              "      <td>0.093743</td>\n",
              "      <td>...</td>\n",
              "      <td>2.966199</td>\n",
              "      <td>2.968021</td>\n",
              "      <td>2.955198</td>\n",
              "      <td>2.942411</td>\n",
              "      <td>2.943006</td>\n",
              "      <td>2.942151</td>\n",
              "      <td>2.931640</td>\n",
              "      <td>2.918549</td>\n",
              "      <td>2.918717</td>\n",
              "      <td>2.917849</td>\n",
              "    </tr>\n",
              "  </tbody>\n",
              "</table>\n",
              "<p>5 rows × 1781 columns</p>\n",
              "</div>\n",
              "      <button class=\"colab-df-convert\" onclick=\"convertToInteractive('df-bf25c371-1f7d-4c56-a339-71fe27f898ce')\"\n",
              "              title=\"Convert this dataframe to an interactive table.\"\n",
              "              style=\"display:none;\">\n",
              "        \n",
              "  <svg xmlns=\"http://www.w3.org/2000/svg\" height=\"24px\"viewBox=\"0 0 24 24\"\n",
              "       width=\"24px\">\n",
              "    <path d=\"M0 0h24v24H0V0z\" fill=\"none\"/>\n",
              "    <path d=\"M18.56 5.44l.94 2.06.94-2.06 2.06-.94-2.06-.94-.94-2.06-.94 2.06-2.06.94zm-11 1L8.5 8.5l.94-2.06 2.06-.94-2.06-.94L8.5 2.5l-.94 2.06-2.06.94zm10 10l.94 2.06.94-2.06 2.06-.94-2.06-.94-.94-2.06-.94 2.06-2.06.94z\"/><path d=\"M17.41 7.96l-1.37-1.37c-.4-.4-.92-.59-1.43-.59-.52 0-1.04.2-1.43.59L10.3 9.45l-7.72 7.72c-.78.78-.78 2.05 0 2.83L4 21.41c.39.39.9.59 1.41.59.51 0 1.02-.2 1.41-.59l7.78-7.78 2.81-2.81c.8-.78.8-2.07 0-2.86zM5.41 20L4 18.59l7.72-7.72 1.47 1.35L5.41 20z\"/>\n",
              "  </svg>\n",
              "      </button>\n",
              "      \n",
              "  <style>\n",
              "    .colab-df-container {\n",
              "      display:flex;\n",
              "      flex-wrap:wrap;\n",
              "      gap: 12px;\n",
              "    }\n",
              "\n",
              "    .colab-df-convert {\n",
              "      background-color: #E8F0FE;\n",
              "      border: none;\n",
              "      border-radius: 50%;\n",
              "      cursor: pointer;\n",
              "      display: none;\n",
              "      fill: #1967D2;\n",
              "      height: 32px;\n",
              "      padding: 0 0 0 0;\n",
              "      width: 32px;\n",
              "    }\n",
              "\n",
              "    .colab-df-convert:hover {\n",
              "      background-color: #E2EBFA;\n",
              "      box-shadow: 0px 1px 2px rgba(60, 64, 67, 0.3), 0px 1px 3px 1px rgba(60, 64, 67, 0.15);\n",
              "      fill: #174EA6;\n",
              "    }\n",
              "\n",
              "    [theme=dark] .colab-df-convert {\n",
              "      background-color: #3B4455;\n",
              "      fill: #D2E3FC;\n",
              "    }\n",
              "\n",
              "    [theme=dark] .colab-df-convert:hover {\n",
              "      background-color: #434B5C;\n",
              "      box-shadow: 0px 1px 3px 1px rgba(0, 0, 0, 0.15);\n",
              "      filter: drop-shadow(0px 1px 2px rgba(0, 0, 0, 0.3));\n",
              "      fill: #FFFFFF;\n",
              "    }\n",
              "  </style>\n",
              "\n",
              "      <script>\n",
              "        const buttonEl =\n",
              "          document.querySelector('#df-bf25c371-1f7d-4c56-a339-71fe27f898ce button.colab-df-convert');\n",
              "        buttonEl.style.display =\n",
              "          google.colab.kernel.accessAllowed ? 'block' : 'none';\n",
              "\n",
              "        async function convertToInteractive(key) {\n",
              "          const element = document.querySelector('#df-bf25c371-1f7d-4c56-a339-71fe27f898ce');\n",
              "          const dataTable =\n",
              "            await google.colab.kernel.invokeFunction('convertToInteractive',\n",
              "                                                     [key], {});\n",
              "          if (!dataTable) return;\n",
              "\n",
              "          const docLinkHtml = 'Like what you see? Visit the ' +\n",
              "            '<a target=\"_blank\" href=https://colab.research.google.com/notebooks/data_table.ipynb>data table notebook</a>'\n",
              "            + ' to learn more about interactive tables.';\n",
              "          element.innerHTML = '';\n",
              "          dataTable['output_type'] = 'display_data';\n",
              "          await google.colab.output.renderOutput(dataTable, element);\n",
              "          const docLink = document.createElement('div');\n",
              "          docLink.innerHTML = docLinkHtml;\n",
              "          element.appendChild(docLink);\n",
              "        }\n",
              "      </script>\n",
              "    </div>\n",
              "  </div>\n",
              "  "
            ]
          },
          "metadata": {},
          "execution_count": 56
        }
      ]
    },
    {
      "cell_type": "code",
      "execution_count": 57,
      "metadata": {
        "id": "1OqJKImVZgb8"
      },
      "outputs": [],
      "source": [
        "import multiprocessing\n",
        "import pandas as pd\n",
        "import numpy as pd\n",
        "import matplotlib.pyplot as plt\n",
        "plt.style.use(['seaborn-whitegrid'])"
      ]
    },
    {
      "cell_type": "code",
      "source": [
        "ai=[]\n",
        "for i in range(xx):\n",
        "    if data_a2.iloc[i,0]==False:\n",
        "        ai.append(i)\n",
        "data_a3=data_a2.drop(ai,axis=0) #\n",
        "data_a3\n",
        "len(ai)\n",
        "data_a3"
      ],
      "metadata": {
        "colab": {
          "base_uri": "https://localhost:8080/",
          "height": 505
        },
        "id": "Ac7BtP-wv4ro",
        "outputId": "bf8bcf99-aeed-4262-920b-bdc50b5e3da7"
      },
      "execution_count": 58,
      "outputs": [
        {
          "output_type": "execute_result",
          "data": {
            "text/plain": [
              "      ¸ðµ¨ Æ÷ÇÔ    Y_A  899.9280058  900.2520706  900.5763689  900.9009009  \\\n",
              "0          True  24.00     0.098681     0.100515     0.102056     0.100267   \n",
              "1          True  24.00     0.098081     0.099926     0.101394     0.099664   \n",
              "2          True  24.00     0.089885     0.092072     0.094055     0.092618   \n",
              "3          True  23.60     0.088701     0.090287     0.091825     0.090534   \n",
              "4          True  23.60     0.095273     0.096945     0.098684     0.097460   \n",
              "...         ...    ...          ...          ...          ...          ...   \n",
              "2034       True  25.52     0.076506     0.075591     0.074629     0.072980   \n",
              "2035       True  25.52     0.071916     0.071201     0.070450     0.068871   \n",
              "2036       True  25.37     0.055557     0.054680     0.053789     0.052091   \n",
              "2037       True  25.37     0.050590     0.049846     0.049057     0.047327   \n",
              "2038       True  25.37     0.063837     0.062890     0.062142     0.060671   \n",
              "\n",
              "      901.2256669  901.5506671  901.8759019  902.2013713  ...  2477.700694  \\\n",
              "0        0.096954     0.096161     0.097151     0.096790  ...     2.968741   \n",
              "1        0.096598     0.095915     0.096567     0.095609  ...     2.960005   \n",
              "2        0.089560     0.088900     0.089790     0.089088  ...     2.943931   \n",
              "3        0.087883     0.087348     0.088151     0.087593  ...     2.935452   \n",
              "4        0.094674     0.093949     0.094563     0.093743  ...     2.966199   \n",
              "...           ...          ...          ...          ...  ...          ...   \n",
              "2034     0.072275     0.072979     0.072688     0.070171  ...     2.962918   \n",
              "2035     0.068104     0.068746     0.068455     0.065891  ...     2.982798   \n",
              "2036     0.051338     0.052176     0.052068     0.049510  ...     2.960384   \n",
              "2037     0.046489     0.047292     0.047258     0.044905  ...     2.968252   \n",
              "2038     0.060073     0.060987     0.060884     0.058203  ...     2.981493   \n",
              "\n",
              "      2480.15873  2482.621648  2485.089463  2487.562189  2490.039841  \\\n",
              "0       2.968988     2.958685     2.950201     2.950122     2.948725   \n",
              "1       2.959948     2.951504     2.945633     2.947553     2.947326   \n",
              "2       2.943679     2.930295     2.919846     2.920668     2.922776   \n",
              "3       2.938259     2.928736     2.921757     2.924166     2.924666   \n",
              "4       2.968021     2.955198     2.942411     2.943006     2.942151   \n",
              "...          ...          ...          ...          ...          ...   \n",
              "2034    2.970997     2.967865     2.957785     2.952054     2.949278   \n",
              "2035    2.982529     2.968697     2.958179     2.962882     2.967330   \n",
              "2036    2.958313     2.946722     2.938467     2.936874     2.936340   \n",
              "2037    2.967836     2.953877     2.942397     2.945923     2.948910   \n",
              "2038    2.981399     2.970350     2.962294     2.963960     2.962348   \n",
              "\n",
              "      2492.522433  2495.00998  2497.502498      2500  \n",
              "0        2.939113    2.929406     2.929555  2.927579  \n",
              "1        2.937901    2.926926     2.924102  2.920722  \n",
              "2        2.913596    2.904503     2.903535  2.901086  \n",
              "3        2.914831    2.905151     2.902643  2.897351  \n",
              "4        2.931640    2.918549     2.918717  2.917849  \n",
              "...           ...         ...          ...       ...  \n",
              "2034     2.941087    2.935639     2.936698  2.938116  \n",
              "2035     2.958188    2.948901     2.948394  2.943151  \n",
              "2036     2.925951    2.920350     2.921682  2.917657  \n",
              "2037     2.940729    2.926084     2.923839  2.919868  \n",
              "2038     2.953168    2.948091     2.949026  2.943110  \n",
              "\n",
              "[1823 rows x 1781 columns]"
            ],
            "text/html": [
              "\n",
              "  <div id=\"df-09951ce3-ae9d-44d0-b8eb-604d5151bde6\">\n",
              "    <div class=\"colab-df-container\">\n",
              "      <div>\n",
              "<style scoped>\n",
              "    .dataframe tbody tr th:only-of-type {\n",
              "        vertical-align: middle;\n",
              "    }\n",
              "\n",
              "    .dataframe tbody tr th {\n",
              "        vertical-align: top;\n",
              "    }\n",
              "\n",
              "    .dataframe thead th {\n",
              "        text-align: right;\n",
              "    }\n",
              "</style>\n",
              "<table border=\"1\" class=\"dataframe\">\n",
              "  <thead>\n",
              "    <tr style=\"text-align: right;\">\n",
              "      <th></th>\n",
              "      <th>¸ðµ¨ Æ÷ÇÔ</th>\n",
              "      <th>Y_A</th>\n",
              "      <th>899.9280058</th>\n",
              "      <th>900.2520706</th>\n",
              "      <th>900.5763689</th>\n",
              "      <th>900.9009009</th>\n",
              "      <th>901.2256669</th>\n",
              "      <th>901.5506671</th>\n",
              "      <th>901.8759019</th>\n",
              "      <th>902.2013713</th>\n",
              "      <th>...</th>\n",
              "      <th>2477.700694</th>\n",
              "      <th>2480.15873</th>\n",
              "      <th>2482.621648</th>\n",
              "      <th>2485.089463</th>\n",
              "      <th>2487.562189</th>\n",
              "      <th>2490.039841</th>\n",
              "      <th>2492.522433</th>\n",
              "      <th>2495.00998</th>\n",
              "      <th>2497.502498</th>\n",
              "      <th>2500</th>\n",
              "    </tr>\n",
              "  </thead>\n",
              "  <tbody>\n",
              "    <tr>\n",
              "      <th>0</th>\n",
              "      <td>True</td>\n",
              "      <td>24.00</td>\n",
              "      <td>0.098681</td>\n",
              "      <td>0.100515</td>\n",
              "      <td>0.102056</td>\n",
              "      <td>0.100267</td>\n",
              "      <td>0.096954</td>\n",
              "      <td>0.096161</td>\n",
              "      <td>0.097151</td>\n",
              "      <td>0.096790</td>\n",
              "      <td>...</td>\n",
              "      <td>2.968741</td>\n",
              "      <td>2.968988</td>\n",
              "      <td>2.958685</td>\n",
              "      <td>2.950201</td>\n",
              "      <td>2.950122</td>\n",
              "      <td>2.948725</td>\n",
              "      <td>2.939113</td>\n",
              "      <td>2.929406</td>\n",
              "      <td>2.929555</td>\n",
              "      <td>2.927579</td>\n",
              "    </tr>\n",
              "    <tr>\n",
              "      <th>1</th>\n",
              "      <td>True</td>\n",
              "      <td>24.00</td>\n",
              "      <td>0.098081</td>\n",
              "      <td>0.099926</td>\n",
              "      <td>0.101394</td>\n",
              "      <td>0.099664</td>\n",
              "      <td>0.096598</td>\n",
              "      <td>0.095915</td>\n",
              "      <td>0.096567</td>\n",
              "      <td>0.095609</td>\n",
              "      <td>...</td>\n",
              "      <td>2.960005</td>\n",
              "      <td>2.959948</td>\n",
              "      <td>2.951504</td>\n",
              "      <td>2.945633</td>\n",
              "      <td>2.947553</td>\n",
              "      <td>2.947326</td>\n",
              "      <td>2.937901</td>\n",
              "      <td>2.926926</td>\n",
              "      <td>2.924102</td>\n",
              "      <td>2.920722</td>\n",
              "    </tr>\n",
              "    <tr>\n",
              "      <th>2</th>\n",
              "      <td>True</td>\n",
              "      <td>24.00</td>\n",
              "      <td>0.089885</td>\n",
              "      <td>0.092072</td>\n",
              "      <td>0.094055</td>\n",
              "      <td>0.092618</td>\n",
              "      <td>0.089560</td>\n",
              "      <td>0.088900</td>\n",
              "      <td>0.089790</td>\n",
              "      <td>0.089088</td>\n",
              "      <td>...</td>\n",
              "      <td>2.943931</td>\n",
              "      <td>2.943679</td>\n",
              "      <td>2.930295</td>\n",
              "      <td>2.919846</td>\n",
              "      <td>2.920668</td>\n",
              "      <td>2.922776</td>\n",
              "      <td>2.913596</td>\n",
              "      <td>2.904503</td>\n",
              "      <td>2.903535</td>\n",
              "      <td>2.901086</td>\n",
              "    </tr>\n",
              "    <tr>\n",
              "      <th>3</th>\n",
              "      <td>True</td>\n",
              "      <td>23.60</td>\n",
              "      <td>0.088701</td>\n",
              "      <td>0.090287</td>\n",
              "      <td>0.091825</td>\n",
              "      <td>0.090534</td>\n",
              "      <td>0.087883</td>\n",
              "      <td>0.087348</td>\n",
              "      <td>0.088151</td>\n",
              "      <td>0.087593</td>\n",
              "      <td>...</td>\n",
              "      <td>2.935452</td>\n",
              "      <td>2.938259</td>\n",
              "      <td>2.928736</td>\n",
              "      <td>2.921757</td>\n",
              "      <td>2.924166</td>\n",
              "      <td>2.924666</td>\n",
              "      <td>2.914831</td>\n",
              "      <td>2.905151</td>\n",
              "      <td>2.902643</td>\n",
              "      <td>2.897351</td>\n",
              "    </tr>\n",
              "    <tr>\n",
              "      <th>4</th>\n",
              "      <td>True</td>\n",
              "      <td>23.60</td>\n",
              "      <td>0.095273</td>\n",
              "      <td>0.096945</td>\n",
              "      <td>0.098684</td>\n",
              "      <td>0.097460</td>\n",
              "      <td>0.094674</td>\n",
              "      <td>0.093949</td>\n",
              "      <td>0.094563</td>\n",
              "      <td>0.093743</td>\n",
              "      <td>...</td>\n",
              "      <td>2.966199</td>\n",
              "      <td>2.968021</td>\n",
              "      <td>2.955198</td>\n",
              "      <td>2.942411</td>\n",
              "      <td>2.943006</td>\n",
              "      <td>2.942151</td>\n",
              "      <td>2.931640</td>\n",
              "      <td>2.918549</td>\n",
              "      <td>2.918717</td>\n",
              "      <td>2.917849</td>\n",
              "    </tr>\n",
              "    <tr>\n",
              "      <th>...</th>\n",
              "      <td>...</td>\n",
              "      <td>...</td>\n",
              "      <td>...</td>\n",
              "      <td>...</td>\n",
              "      <td>...</td>\n",
              "      <td>...</td>\n",
              "      <td>...</td>\n",
              "      <td>...</td>\n",
              "      <td>...</td>\n",
              "      <td>...</td>\n",
              "      <td>...</td>\n",
              "      <td>...</td>\n",
              "      <td>...</td>\n",
              "      <td>...</td>\n",
              "      <td>...</td>\n",
              "      <td>...</td>\n",
              "      <td>...</td>\n",
              "      <td>...</td>\n",
              "      <td>...</td>\n",
              "      <td>...</td>\n",
              "      <td>...</td>\n",
              "    </tr>\n",
              "    <tr>\n",
              "      <th>2034</th>\n",
              "      <td>True</td>\n",
              "      <td>25.52</td>\n",
              "      <td>0.076506</td>\n",
              "      <td>0.075591</td>\n",
              "      <td>0.074629</td>\n",
              "      <td>0.072980</td>\n",
              "      <td>0.072275</td>\n",
              "      <td>0.072979</td>\n",
              "      <td>0.072688</td>\n",
              "      <td>0.070171</td>\n",
              "      <td>...</td>\n",
              "      <td>2.962918</td>\n",
              "      <td>2.970997</td>\n",
              "      <td>2.967865</td>\n",
              "      <td>2.957785</td>\n",
              "      <td>2.952054</td>\n",
              "      <td>2.949278</td>\n",
              "      <td>2.941087</td>\n",
              "      <td>2.935639</td>\n",
              "      <td>2.936698</td>\n",
              "      <td>2.938116</td>\n",
              "    </tr>\n",
              "    <tr>\n",
              "      <th>2035</th>\n",
              "      <td>True</td>\n",
              "      <td>25.52</td>\n",
              "      <td>0.071916</td>\n",
              "      <td>0.071201</td>\n",
              "      <td>0.070450</td>\n",
              "      <td>0.068871</td>\n",
              "      <td>0.068104</td>\n",
              "      <td>0.068746</td>\n",
              "      <td>0.068455</td>\n",
              "      <td>0.065891</td>\n",
              "      <td>...</td>\n",
              "      <td>2.982798</td>\n",
              "      <td>2.982529</td>\n",
              "      <td>2.968697</td>\n",
              "      <td>2.958179</td>\n",
              "      <td>2.962882</td>\n",
              "      <td>2.967330</td>\n",
              "      <td>2.958188</td>\n",
              "      <td>2.948901</td>\n",
              "      <td>2.948394</td>\n",
              "      <td>2.943151</td>\n",
              "    </tr>\n",
              "    <tr>\n",
              "      <th>2036</th>\n",
              "      <td>True</td>\n",
              "      <td>25.37</td>\n",
              "      <td>0.055557</td>\n",
              "      <td>0.054680</td>\n",
              "      <td>0.053789</td>\n",
              "      <td>0.052091</td>\n",
              "      <td>0.051338</td>\n",
              "      <td>0.052176</td>\n",
              "      <td>0.052068</td>\n",
              "      <td>0.049510</td>\n",
              "      <td>...</td>\n",
              "      <td>2.960384</td>\n",
              "      <td>2.958313</td>\n",
              "      <td>2.946722</td>\n",
              "      <td>2.938467</td>\n",
              "      <td>2.936874</td>\n",
              "      <td>2.936340</td>\n",
              "      <td>2.925951</td>\n",
              "      <td>2.920350</td>\n",
              "      <td>2.921682</td>\n",
              "      <td>2.917657</td>\n",
              "    </tr>\n",
              "    <tr>\n",
              "      <th>2037</th>\n",
              "      <td>True</td>\n",
              "      <td>25.37</td>\n",
              "      <td>0.050590</td>\n",
              "      <td>0.049846</td>\n",
              "      <td>0.049057</td>\n",
              "      <td>0.047327</td>\n",
              "      <td>0.046489</td>\n",
              "      <td>0.047292</td>\n",
              "      <td>0.047258</td>\n",
              "      <td>0.044905</td>\n",
              "      <td>...</td>\n",
              "      <td>2.968252</td>\n",
              "      <td>2.967836</td>\n",
              "      <td>2.953877</td>\n",
              "      <td>2.942397</td>\n",
              "      <td>2.945923</td>\n",
              "      <td>2.948910</td>\n",
              "      <td>2.940729</td>\n",
              "      <td>2.926084</td>\n",
              "      <td>2.923839</td>\n",
              "      <td>2.919868</td>\n",
              "    </tr>\n",
              "    <tr>\n",
              "      <th>2038</th>\n",
              "      <td>True</td>\n",
              "      <td>25.37</td>\n",
              "      <td>0.063837</td>\n",
              "      <td>0.062890</td>\n",
              "      <td>0.062142</td>\n",
              "      <td>0.060671</td>\n",
              "      <td>0.060073</td>\n",
              "      <td>0.060987</td>\n",
              "      <td>0.060884</td>\n",
              "      <td>0.058203</td>\n",
              "      <td>...</td>\n",
              "      <td>2.981493</td>\n",
              "      <td>2.981399</td>\n",
              "      <td>2.970350</td>\n",
              "      <td>2.962294</td>\n",
              "      <td>2.963960</td>\n",
              "      <td>2.962348</td>\n",
              "      <td>2.953168</td>\n",
              "      <td>2.948091</td>\n",
              "      <td>2.949026</td>\n",
              "      <td>2.943110</td>\n",
              "    </tr>\n",
              "  </tbody>\n",
              "</table>\n",
              "<p>1823 rows × 1781 columns</p>\n",
              "</div>\n",
              "      <button class=\"colab-df-convert\" onclick=\"convertToInteractive('df-09951ce3-ae9d-44d0-b8eb-604d5151bde6')\"\n",
              "              title=\"Convert this dataframe to an interactive table.\"\n",
              "              style=\"display:none;\">\n",
              "        \n",
              "  <svg xmlns=\"http://www.w3.org/2000/svg\" height=\"24px\"viewBox=\"0 0 24 24\"\n",
              "       width=\"24px\">\n",
              "    <path d=\"M0 0h24v24H0V0z\" fill=\"none\"/>\n",
              "    <path d=\"M18.56 5.44l.94 2.06.94-2.06 2.06-.94-2.06-.94-.94-2.06-.94 2.06-2.06.94zm-11 1L8.5 8.5l.94-2.06 2.06-.94-2.06-.94L8.5 2.5l-.94 2.06-2.06.94zm10 10l.94 2.06.94-2.06 2.06-.94-2.06-.94-.94-2.06-.94 2.06-2.06.94z\"/><path d=\"M17.41 7.96l-1.37-1.37c-.4-.4-.92-.59-1.43-.59-.52 0-1.04.2-1.43.59L10.3 9.45l-7.72 7.72c-.78.78-.78 2.05 0 2.83L4 21.41c.39.39.9.59 1.41.59.51 0 1.02-.2 1.41-.59l7.78-7.78 2.81-2.81c.8-.78.8-2.07 0-2.86zM5.41 20L4 18.59l7.72-7.72 1.47 1.35L5.41 20z\"/>\n",
              "  </svg>\n",
              "      </button>\n",
              "      \n",
              "  <style>\n",
              "    .colab-df-container {\n",
              "      display:flex;\n",
              "      flex-wrap:wrap;\n",
              "      gap: 12px;\n",
              "    }\n",
              "\n",
              "    .colab-df-convert {\n",
              "      background-color: #E8F0FE;\n",
              "      border: none;\n",
              "      border-radius: 50%;\n",
              "      cursor: pointer;\n",
              "      display: none;\n",
              "      fill: #1967D2;\n",
              "      height: 32px;\n",
              "      padding: 0 0 0 0;\n",
              "      width: 32px;\n",
              "    }\n",
              "\n",
              "    .colab-df-convert:hover {\n",
              "      background-color: #E2EBFA;\n",
              "      box-shadow: 0px 1px 2px rgba(60, 64, 67, 0.3), 0px 1px 3px 1px rgba(60, 64, 67, 0.15);\n",
              "      fill: #174EA6;\n",
              "    }\n",
              "\n",
              "    [theme=dark] .colab-df-convert {\n",
              "      background-color: #3B4455;\n",
              "      fill: #D2E3FC;\n",
              "    }\n",
              "\n",
              "    [theme=dark] .colab-df-convert:hover {\n",
              "      background-color: #434B5C;\n",
              "      box-shadow: 0px 1px 3px 1px rgba(0, 0, 0, 0.15);\n",
              "      filter: drop-shadow(0px 1px 2px rgba(0, 0, 0, 0.3));\n",
              "      fill: #FFFFFF;\n",
              "    }\n",
              "  </style>\n",
              "\n",
              "      <script>\n",
              "        const buttonEl =\n",
              "          document.querySelector('#df-09951ce3-ae9d-44d0-b8eb-604d5151bde6 button.colab-df-convert');\n",
              "        buttonEl.style.display =\n",
              "          google.colab.kernel.accessAllowed ? 'block' : 'none';\n",
              "\n",
              "        async function convertToInteractive(key) {\n",
              "          const element = document.querySelector('#df-09951ce3-ae9d-44d0-b8eb-604d5151bde6');\n",
              "          const dataTable =\n",
              "            await google.colab.kernel.invokeFunction('convertToInteractive',\n",
              "                                                     [key], {});\n",
              "          if (!dataTable) return;\n",
              "\n",
              "          const docLinkHtml = 'Like what you see? Visit the ' +\n",
              "            '<a target=\"_blank\" href=https://colab.research.google.com/notebooks/data_table.ipynb>data table notebook</a>'\n",
              "            + ' to learn more about interactive tables.';\n",
              "          element.innerHTML = '';\n",
              "          dataTable['output_type'] = 'display_data';\n",
              "          await google.colab.output.renderOutput(dataTable, element);\n",
              "          const docLink = document.createElement('div');\n",
              "          docLink.innerHTML = docLinkHtml;\n",
              "          element.appendChild(docLink);\n",
              "        }\n",
              "      </script>\n",
              "    </div>\n",
              "  </div>\n",
              "  "
            ]
          },
          "metadata": {},
          "execution_count": 58
        }
      ]
    },
    {
      "cell_type": "code",
      "source": [
        "x1,y1=data_a3.shape\n",
        "data_a1=data_a3.iloc[0::,2:yy+1]\n",
        "data_a1"
      ],
      "metadata": {
        "colab": {
          "base_uri": "https://localhost:8080/",
          "height": 488
        },
        "id": "w_7Wm9mQwAhz",
        "outputId": "84b3041c-01a3-4b7a-ff92-a624b9e1685f"
      },
      "execution_count": 59,
      "outputs": [
        {
          "output_type": "execute_result",
          "data": {
            "text/plain": [
              "      899.9280058  900.2520706  900.5763689  900.9009009  901.2256669  \\\n",
              "0        0.098681     0.100515     0.102056     0.100267     0.096954   \n",
              "1        0.098081     0.099926     0.101394     0.099664     0.096598   \n",
              "2        0.089885     0.092072     0.094055     0.092618     0.089560   \n",
              "3        0.088701     0.090287     0.091825     0.090534     0.087883   \n",
              "4        0.095273     0.096945     0.098684     0.097460     0.094674   \n",
              "...           ...          ...          ...          ...          ...   \n",
              "2034     0.076506     0.075591     0.074629     0.072980     0.072275   \n",
              "2035     0.071916     0.071201     0.070450     0.068871     0.068104   \n",
              "2036     0.055557     0.054680     0.053789     0.052091     0.051338   \n",
              "2037     0.050590     0.049846     0.049057     0.047327     0.046489   \n",
              "2038     0.063837     0.062890     0.062142     0.060671     0.060073   \n",
              "\n",
              "      901.5506671  901.8759019  902.2013713  902.5270758  902.8530155  ...  \\\n",
              "0        0.096161     0.097151     0.096790     0.095622     0.095521  ...   \n",
              "1        0.095915     0.096567     0.095609     0.094073     0.093994  ...   \n",
              "2        0.088900     0.089790     0.089088     0.087585     0.087353  ...   \n",
              "3        0.087348     0.088151     0.087593     0.086458     0.086425  ...   \n",
              "4        0.093949     0.094563     0.093743     0.092318     0.092116  ...   \n",
              "...           ...          ...          ...          ...          ...  ...   \n",
              "2034     0.072979     0.072688     0.070171     0.068566     0.069321  ...   \n",
              "2035     0.068746     0.068455     0.065891     0.064076     0.064532  ...   \n",
              "2036     0.052176     0.052068     0.049510     0.047720     0.048518  ...   \n",
              "2037     0.047292     0.047258     0.044905     0.043365     0.044220  ...   \n",
              "2038     0.060987     0.060884     0.058203     0.056162     0.056647  ...   \n",
              "\n",
              "      2477.700694  2480.15873  2482.621648  2485.089463  2487.562189  \\\n",
              "0        2.968741    2.968988     2.958685     2.950201     2.950122   \n",
              "1        2.960005    2.959948     2.951504     2.945633     2.947553   \n",
              "2        2.943931    2.943679     2.930295     2.919846     2.920668   \n",
              "3        2.935452    2.938259     2.928736     2.921757     2.924166   \n",
              "4        2.966199    2.968021     2.955198     2.942411     2.943006   \n",
              "...           ...         ...          ...          ...          ...   \n",
              "2034     2.962918    2.970997     2.967865     2.957785     2.952054   \n",
              "2035     2.982798    2.982529     2.968697     2.958179     2.962882   \n",
              "2036     2.960384    2.958313     2.946722     2.938467     2.936874   \n",
              "2037     2.968252    2.967836     2.953877     2.942397     2.945923   \n",
              "2038     2.981493    2.981399     2.970350     2.962294     2.963960   \n",
              "\n",
              "      2490.039841  2492.522433  2495.00998  2497.502498      2500  \n",
              "0        2.948725     2.939113    2.929406     2.929555  2.927579  \n",
              "1        2.947326     2.937901    2.926926     2.924102  2.920722  \n",
              "2        2.922776     2.913596    2.904503     2.903535  2.901086  \n",
              "3        2.924666     2.914831    2.905151     2.902643  2.897351  \n",
              "4        2.942151     2.931640    2.918549     2.918717  2.917849  \n",
              "...           ...          ...         ...          ...       ...  \n",
              "2034     2.949278     2.941087    2.935639     2.936698  2.938116  \n",
              "2035     2.967330     2.958188    2.948901     2.948394  2.943151  \n",
              "2036     2.936340     2.925951    2.920350     2.921682  2.917657  \n",
              "2037     2.948910     2.940729    2.926084     2.923839  2.919868  \n",
              "2038     2.962348     2.953168    2.948091     2.949026  2.943110  \n",
              "\n",
              "[1823 rows x 1779 columns]"
            ],
            "text/html": [
              "\n",
              "  <div id=\"df-48fd02d4-5dd4-47c2-a653-824a652ca5af\">\n",
              "    <div class=\"colab-df-container\">\n",
              "      <div>\n",
              "<style scoped>\n",
              "    .dataframe tbody tr th:only-of-type {\n",
              "        vertical-align: middle;\n",
              "    }\n",
              "\n",
              "    .dataframe tbody tr th {\n",
              "        vertical-align: top;\n",
              "    }\n",
              "\n",
              "    .dataframe thead th {\n",
              "        text-align: right;\n",
              "    }\n",
              "</style>\n",
              "<table border=\"1\" class=\"dataframe\">\n",
              "  <thead>\n",
              "    <tr style=\"text-align: right;\">\n",
              "      <th></th>\n",
              "      <th>899.9280058</th>\n",
              "      <th>900.2520706</th>\n",
              "      <th>900.5763689</th>\n",
              "      <th>900.9009009</th>\n",
              "      <th>901.2256669</th>\n",
              "      <th>901.5506671</th>\n",
              "      <th>901.8759019</th>\n",
              "      <th>902.2013713</th>\n",
              "      <th>902.5270758</th>\n",
              "      <th>902.8530155</th>\n",
              "      <th>...</th>\n",
              "      <th>2477.700694</th>\n",
              "      <th>2480.15873</th>\n",
              "      <th>2482.621648</th>\n",
              "      <th>2485.089463</th>\n",
              "      <th>2487.562189</th>\n",
              "      <th>2490.039841</th>\n",
              "      <th>2492.522433</th>\n",
              "      <th>2495.00998</th>\n",
              "      <th>2497.502498</th>\n",
              "      <th>2500</th>\n",
              "    </tr>\n",
              "  </thead>\n",
              "  <tbody>\n",
              "    <tr>\n",
              "      <th>0</th>\n",
              "      <td>0.098681</td>\n",
              "      <td>0.100515</td>\n",
              "      <td>0.102056</td>\n",
              "      <td>0.100267</td>\n",
              "      <td>0.096954</td>\n",
              "      <td>0.096161</td>\n",
              "      <td>0.097151</td>\n",
              "      <td>0.096790</td>\n",
              "      <td>0.095622</td>\n",
              "      <td>0.095521</td>\n",
              "      <td>...</td>\n",
              "      <td>2.968741</td>\n",
              "      <td>2.968988</td>\n",
              "      <td>2.958685</td>\n",
              "      <td>2.950201</td>\n",
              "      <td>2.950122</td>\n",
              "      <td>2.948725</td>\n",
              "      <td>2.939113</td>\n",
              "      <td>2.929406</td>\n",
              "      <td>2.929555</td>\n",
              "      <td>2.927579</td>\n",
              "    </tr>\n",
              "    <tr>\n",
              "      <th>1</th>\n",
              "      <td>0.098081</td>\n",
              "      <td>0.099926</td>\n",
              "      <td>0.101394</td>\n",
              "      <td>0.099664</td>\n",
              "      <td>0.096598</td>\n",
              "      <td>0.095915</td>\n",
              "      <td>0.096567</td>\n",
              "      <td>0.095609</td>\n",
              "      <td>0.094073</td>\n",
              "      <td>0.093994</td>\n",
              "      <td>...</td>\n",
              "      <td>2.960005</td>\n",
              "      <td>2.959948</td>\n",
              "      <td>2.951504</td>\n",
              "      <td>2.945633</td>\n",
              "      <td>2.947553</td>\n",
              "      <td>2.947326</td>\n",
              "      <td>2.937901</td>\n",
              "      <td>2.926926</td>\n",
              "      <td>2.924102</td>\n",
              "      <td>2.920722</td>\n",
              "    </tr>\n",
              "    <tr>\n",
              "      <th>2</th>\n",
              "      <td>0.089885</td>\n",
              "      <td>0.092072</td>\n",
              "      <td>0.094055</td>\n",
              "      <td>0.092618</td>\n",
              "      <td>0.089560</td>\n",
              "      <td>0.088900</td>\n",
              "      <td>0.089790</td>\n",
              "      <td>0.089088</td>\n",
              "      <td>0.087585</td>\n",
              "      <td>0.087353</td>\n",
              "      <td>...</td>\n",
              "      <td>2.943931</td>\n",
              "      <td>2.943679</td>\n",
              "      <td>2.930295</td>\n",
              "      <td>2.919846</td>\n",
              "      <td>2.920668</td>\n",
              "      <td>2.922776</td>\n",
              "      <td>2.913596</td>\n",
              "      <td>2.904503</td>\n",
              "      <td>2.903535</td>\n",
              "      <td>2.901086</td>\n",
              "    </tr>\n",
              "    <tr>\n",
              "      <th>3</th>\n",
              "      <td>0.088701</td>\n",
              "      <td>0.090287</td>\n",
              "      <td>0.091825</td>\n",
              "      <td>0.090534</td>\n",
              "      <td>0.087883</td>\n",
              "      <td>0.087348</td>\n",
              "      <td>0.088151</td>\n",
              "      <td>0.087593</td>\n",
              "      <td>0.086458</td>\n",
              "      <td>0.086425</td>\n",
              "      <td>...</td>\n",
              "      <td>2.935452</td>\n",
              "      <td>2.938259</td>\n",
              "      <td>2.928736</td>\n",
              "      <td>2.921757</td>\n",
              "      <td>2.924166</td>\n",
              "      <td>2.924666</td>\n",
              "      <td>2.914831</td>\n",
              "      <td>2.905151</td>\n",
              "      <td>2.902643</td>\n",
              "      <td>2.897351</td>\n",
              "    </tr>\n",
              "    <tr>\n",
              "      <th>4</th>\n",
              "      <td>0.095273</td>\n",
              "      <td>0.096945</td>\n",
              "      <td>0.098684</td>\n",
              "      <td>0.097460</td>\n",
              "      <td>0.094674</td>\n",
              "      <td>0.093949</td>\n",
              "      <td>0.094563</td>\n",
              "      <td>0.093743</td>\n",
              "      <td>0.092318</td>\n",
              "      <td>0.092116</td>\n",
              "      <td>...</td>\n",
              "      <td>2.966199</td>\n",
              "      <td>2.968021</td>\n",
              "      <td>2.955198</td>\n",
              "      <td>2.942411</td>\n",
              "      <td>2.943006</td>\n",
              "      <td>2.942151</td>\n",
              "      <td>2.931640</td>\n",
              "      <td>2.918549</td>\n",
              "      <td>2.918717</td>\n",
              "      <td>2.917849</td>\n",
              "    </tr>\n",
              "    <tr>\n",
              "      <th>...</th>\n",
              "      <td>...</td>\n",
              "      <td>...</td>\n",
              "      <td>...</td>\n",
              "      <td>...</td>\n",
              "      <td>...</td>\n",
              "      <td>...</td>\n",
              "      <td>...</td>\n",
              "      <td>...</td>\n",
              "      <td>...</td>\n",
              "      <td>...</td>\n",
              "      <td>...</td>\n",
              "      <td>...</td>\n",
              "      <td>...</td>\n",
              "      <td>...</td>\n",
              "      <td>...</td>\n",
              "      <td>...</td>\n",
              "      <td>...</td>\n",
              "      <td>...</td>\n",
              "      <td>...</td>\n",
              "      <td>...</td>\n",
              "      <td>...</td>\n",
              "    </tr>\n",
              "    <tr>\n",
              "      <th>2034</th>\n",
              "      <td>0.076506</td>\n",
              "      <td>0.075591</td>\n",
              "      <td>0.074629</td>\n",
              "      <td>0.072980</td>\n",
              "      <td>0.072275</td>\n",
              "      <td>0.072979</td>\n",
              "      <td>0.072688</td>\n",
              "      <td>0.070171</td>\n",
              "      <td>0.068566</td>\n",
              "      <td>0.069321</td>\n",
              "      <td>...</td>\n",
              "      <td>2.962918</td>\n",
              "      <td>2.970997</td>\n",
              "      <td>2.967865</td>\n",
              "      <td>2.957785</td>\n",
              "      <td>2.952054</td>\n",
              "      <td>2.949278</td>\n",
              "      <td>2.941087</td>\n",
              "      <td>2.935639</td>\n",
              "      <td>2.936698</td>\n",
              "      <td>2.938116</td>\n",
              "    </tr>\n",
              "    <tr>\n",
              "      <th>2035</th>\n",
              "      <td>0.071916</td>\n",
              "      <td>0.071201</td>\n",
              "      <td>0.070450</td>\n",
              "      <td>0.068871</td>\n",
              "      <td>0.068104</td>\n",
              "      <td>0.068746</td>\n",
              "      <td>0.068455</td>\n",
              "      <td>0.065891</td>\n",
              "      <td>0.064076</td>\n",
              "      <td>0.064532</td>\n",
              "      <td>...</td>\n",
              "      <td>2.982798</td>\n",
              "      <td>2.982529</td>\n",
              "      <td>2.968697</td>\n",
              "      <td>2.958179</td>\n",
              "      <td>2.962882</td>\n",
              "      <td>2.967330</td>\n",
              "      <td>2.958188</td>\n",
              "      <td>2.948901</td>\n",
              "      <td>2.948394</td>\n",
              "      <td>2.943151</td>\n",
              "    </tr>\n",
              "    <tr>\n",
              "      <th>2036</th>\n",
              "      <td>0.055557</td>\n",
              "      <td>0.054680</td>\n",
              "      <td>0.053789</td>\n",
              "      <td>0.052091</td>\n",
              "      <td>0.051338</td>\n",
              "      <td>0.052176</td>\n",
              "      <td>0.052068</td>\n",
              "      <td>0.049510</td>\n",
              "      <td>0.047720</td>\n",
              "      <td>0.048518</td>\n",
              "      <td>...</td>\n",
              "      <td>2.960384</td>\n",
              "      <td>2.958313</td>\n",
              "      <td>2.946722</td>\n",
              "      <td>2.938467</td>\n",
              "      <td>2.936874</td>\n",
              "      <td>2.936340</td>\n",
              "      <td>2.925951</td>\n",
              "      <td>2.920350</td>\n",
              "      <td>2.921682</td>\n",
              "      <td>2.917657</td>\n",
              "    </tr>\n",
              "    <tr>\n",
              "      <th>2037</th>\n",
              "      <td>0.050590</td>\n",
              "      <td>0.049846</td>\n",
              "      <td>0.049057</td>\n",
              "      <td>0.047327</td>\n",
              "      <td>0.046489</td>\n",
              "      <td>0.047292</td>\n",
              "      <td>0.047258</td>\n",
              "      <td>0.044905</td>\n",
              "      <td>0.043365</td>\n",
              "      <td>0.044220</td>\n",
              "      <td>...</td>\n",
              "      <td>2.968252</td>\n",
              "      <td>2.967836</td>\n",
              "      <td>2.953877</td>\n",
              "      <td>2.942397</td>\n",
              "      <td>2.945923</td>\n",
              "      <td>2.948910</td>\n",
              "      <td>2.940729</td>\n",
              "      <td>2.926084</td>\n",
              "      <td>2.923839</td>\n",
              "      <td>2.919868</td>\n",
              "    </tr>\n",
              "    <tr>\n",
              "      <th>2038</th>\n",
              "      <td>0.063837</td>\n",
              "      <td>0.062890</td>\n",
              "      <td>0.062142</td>\n",
              "      <td>0.060671</td>\n",
              "      <td>0.060073</td>\n",
              "      <td>0.060987</td>\n",
              "      <td>0.060884</td>\n",
              "      <td>0.058203</td>\n",
              "      <td>0.056162</td>\n",
              "      <td>0.056647</td>\n",
              "      <td>...</td>\n",
              "      <td>2.981493</td>\n",
              "      <td>2.981399</td>\n",
              "      <td>2.970350</td>\n",
              "      <td>2.962294</td>\n",
              "      <td>2.963960</td>\n",
              "      <td>2.962348</td>\n",
              "      <td>2.953168</td>\n",
              "      <td>2.948091</td>\n",
              "      <td>2.949026</td>\n",
              "      <td>2.943110</td>\n",
              "    </tr>\n",
              "  </tbody>\n",
              "</table>\n",
              "<p>1823 rows × 1779 columns</p>\n",
              "</div>\n",
              "      <button class=\"colab-df-convert\" onclick=\"convertToInteractive('df-48fd02d4-5dd4-47c2-a653-824a652ca5af')\"\n",
              "              title=\"Convert this dataframe to an interactive table.\"\n",
              "              style=\"display:none;\">\n",
              "        \n",
              "  <svg xmlns=\"http://www.w3.org/2000/svg\" height=\"24px\"viewBox=\"0 0 24 24\"\n",
              "       width=\"24px\">\n",
              "    <path d=\"M0 0h24v24H0V0z\" fill=\"none\"/>\n",
              "    <path d=\"M18.56 5.44l.94 2.06.94-2.06 2.06-.94-2.06-.94-.94-2.06-.94 2.06-2.06.94zm-11 1L8.5 8.5l.94-2.06 2.06-.94-2.06-.94L8.5 2.5l-.94 2.06-2.06.94zm10 10l.94 2.06.94-2.06 2.06-.94-2.06-.94-.94-2.06-.94 2.06-2.06.94z\"/><path d=\"M17.41 7.96l-1.37-1.37c-.4-.4-.92-.59-1.43-.59-.52 0-1.04.2-1.43.59L10.3 9.45l-7.72 7.72c-.78.78-.78 2.05 0 2.83L4 21.41c.39.39.9.59 1.41.59.51 0 1.02-.2 1.41-.59l7.78-7.78 2.81-2.81c.8-.78.8-2.07 0-2.86zM5.41 20L4 18.59l7.72-7.72 1.47 1.35L5.41 20z\"/>\n",
              "  </svg>\n",
              "      </button>\n",
              "      \n",
              "  <style>\n",
              "    .colab-df-container {\n",
              "      display:flex;\n",
              "      flex-wrap:wrap;\n",
              "      gap: 12px;\n",
              "    }\n",
              "\n",
              "    .colab-df-convert {\n",
              "      background-color: #E8F0FE;\n",
              "      border: none;\n",
              "      border-radius: 50%;\n",
              "      cursor: pointer;\n",
              "      display: none;\n",
              "      fill: #1967D2;\n",
              "      height: 32px;\n",
              "      padding: 0 0 0 0;\n",
              "      width: 32px;\n",
              "    }\n",
              "\n",
              "    .colab-df-convert:hover {\n",
              "      background-color: #E2EBFA;\n",
              "      box-shadow: 0px 1px 2px rgba(60, 64, 67, 0.3), 0px 1px 3px 1px rgba(60, 64, 67, 0.15);\n",
              "      fill: #174EA6;\n",
              "    }\n",
              "\n",
              "    [theme=dark] .colab-df-convert {\n",
              "      background-color: #3B4455;\n",
              "      fill: #D2E3FC;\n",
              "    }\n",
              "\n",
              "    [theme=dark] .colab-df-convert:hover {\n",
              "      background-color: #434B5C;\n",
              "      box-shadow: 0px 1px 3px 1px rgba(0, 0, 0, 0.15);\n",
              "      filter: drop-shadow(0px 1px 2px rgba(0, 0, 0, 0.3));\n",
              "      fill: #FFFFFF;\n",
              "    }\n",
              "  </style>\n",
              "\n",
              "      <script>\n",
              "        const buttonEl =\n",
              "          document.querySelector('#df-48fd02d4-5dd4-47c2-a653-824a652ca5af button.colab-df-convert');\n",
              "        buttonEl.style.display =\n",
              "          google.colab.kernel.accessAllowed ? 'block' : 'none';\n",
              "\n",
              "        async function convertToInteractive(key) {\n",
              "          const element = document.querySelector('#df-48fd02d4-5dd4-47c2-a653-824a652ca5af');\n",
              "          const dataTable =\n",
              "            await google.colab.kernel.invokeFunction('convertToInteractive',\n",
              "                                                     [key], {});\n",
              "          if (!dataTable) return;\n",
              "\n",
              "          const docLinkHtml = 'Like what you see? Visit the ' +\n",
              "            '<a target=\"_blank\" href=https://colab.research.google.com/notebooks/data_table.ipynb>data table notebook</a>'\n",
              "            + ' to learn more about interactive tables.';\n",
              "          element.innerHTML = '';\n",
              "          dataTable['output_type'] = 'display_data';\n",
              "          await google.colab.output.renderOutput(dataTable, element);\n",
              "          const docLink = document.createElement('div');\n",
              "          docLink.innerHTML = docLinkHtml;\n",
              "          element.appendChild(docLink);\n",
              "        }\n",
              "      </script>\n",
              "    </div>\n",
              "  </div>\n",
              "  "
            ]
          },
          "metadata": {},
          "execution_count": 59
        }
      ]
    },
    {
      "cell_type": "code",
      "source": [
        "data_a1_n=data_a1.to_numpy()\n",
        "data_a1_input=data_a1_n\n",
        "data_a1_input"
      ],
      "metadata": {
        "colab": {
          "base_uri": "https://localhost:8080/"
        },
        "id": "tLKbsGSowQim",
        "outputId": "bfb9b92f-6254-46f6-a1d2-d4ca8ae0eab0"
      },
      "execution_count": 60,
      "outputs": [
        {
          "output_type": "execute_result",
          "data": {
            "text/plain": [
              "array([[0.09868074, 0.1005148 , 0.10205633, ..., 2.92940605, 2.9295551 ,\n",
              "        2.92757921],\n",
              "       [0.0980814 , 0.09992567, 0.10139396, ..., 2.92692573, 2.92410227,\n",
              "        2.92072185],\n",
              "       [0.08988517, 0.09207206, 0.0940546 , ..., 2.90450321, 2.90353459,\n",
              "        2.90108571],\n",
              "       ...,\n",
              "       [0.05555697, 0.05468017, 0.05378911, ..., 2.92035018, 2.92168167,\n",
              "        2.917657  ],\n",
              "       [0.05058956, 0.0498458 , 0.04905745, ..., 2.92608398, 2.92383935,\n",
              "        2.91986778],\n",
              "       [0.06383698, 0.06289033, 0.06214161, ..., 2.94809062, 2.94902612,\n",
              "        2.9431105 ]])"
            ]
          },
          "metadata": {},
          "execution_count": 60
        }
      ]
    },
    {
      "cell_type": "code",
      "source": [
        "data_a1_output=data_a3.iloc[0::,1:2]\n",
        "data_a1_output.head()"
      ],
      "metadata": {
        "colab": {
          "base_uri": "https://localhost:8080/",
          "height": 206
        },
        "id": "rhIm76bIwUow",
        "outputId": "bab7bcff-97e3-4aaa-9b3c-6aa0bd89d046"
      },
      "execution_count": 61,
      "outputs": [
        {
          "output_type": "execute_result",
          "data": {
            "text/plain": [
              "    Y_A\n",
              "0  24.0\n",
              "1  24.0\n",
              "2  24.0\n",
              "3  23.6\n",
              "4  23.6"
            ],
            "text/html": [
              "\n",
              "  <div id=\"df-1ae27c5f-bab6-4b0c-9777-d2d7aa7d22cd\">\n",
              "    <div class=\"colab-df-container\">\n",
              "      <div>\n",
              "<style scoped>\n",
              "    .dataframe tbody tr th:only-of-type {\n",
              "        vertical-align: middle;\n",
              "    }\n",
              "\n",
              "    .dataframe tbody tr th {\n",
              "        vertical-align: top;\n",
              "    }\n",
              "\n",
              "    .dataframe thead th {\n",
              "        text-align: right;\n",
              "    }\n",
              "</style>\n",
              "<table border=\"1\" class=\"dataframe\">\n",
              "  <thead>\n",
              "    <tr style=\"text-align: right;\">\n",
              "      <th></th>\n",
              "      <th>Y_A</th>\n",
              "    </tr>\n",
              "  </thead>\n",
              "  <tbody>\n",
              "    <tr>\n",
              "      <th>0</th>\n",
              "      <td>24.0</td>\n",
              "    </tr>\n",
              "    <tr>\n",
              "      <th>1</th>\n",
              "      <td>24.0</td>\n",
              "    </tr>\n",
              "    <tr>\n",
              "      <th>2</th>\n",
              "      <td>24.0</td>\n",
              "    </tr>\n",
              "    <tr>\n",
              "      <th>3</th>\n",
              "      <td>23.6</td>\n",
              "    </tr>\n",
              "    <tr>\n",
              "      <th>4</th>\n",
              "      <td>23.6</td>\n",
              "    </tr>\n",
              "  </tbody>\n",
              "</table>\n",
              "</div>\n",
              "      <button class=\"colab-df-convert\" onclick=\"convertToInteractive('df-1ae27c5f-bab6-4b0c-9777-d2d7aa7d22cd')\"\n",
              "              title=\"Convert this dataframe to an interactive table.\"\n",
              "              style=\"display:none;\">\n",
              "        \n",
              "  <svg xmlns=\"http://www.w3.org/2000/svg\" height=\"24px\"viewBox=\"0 0 24 24\"\n",
              "       width=\"24px\">\n",
              "    <path d=\"M0 0h24v24H0V0z\" fill=\"none\"/>\n",
              "    <path d=\"M18.56 5.44l.94 2.06.94-2.06 2.06-.94-2.06-.94-.94-2.06-.94 2.06-2.06.94zm-11 1L8.5 8.5l.94-2.06 2.06-.94-2.06-.94L8.5 2.5l-.94 2.06-2.06.94zm10 10l.94 2.06.94-2.06 2.06-.94-2.06-.94-.94-2.06-.94 2.06-2.06.94z\"/><path d=\"M17.41 7.96l-1.37-1.37c-.4-.4-.92-.59-1.43-.59-.52 0-1.04.2-1.43.59L10.3 9.45l-7.72 7.72c-.78.78-.78 2.05 0 2.83L4 21.41c.39.39.9.59 1.41.59.51 0 1.02-.2 1.41-.59l7.78-7.78 2.81-2.81c.8-.78.8-2.07 0-2.86zM5.41 20L4 18.59l7.72-7.72 1.47 1.35L5.41 20z\"/>\n",
              "  </svg>\n",
              "      </button>\n",
              "      \n",
              "  <style>\n",
              "    .colab-df-container {\n",
              "      display:flex;\n",
              "      flex-wrap:wrap;\n",
              "      gap: 12px;\n",
              "    }\n",
              "\n",
              "    .colab-df-convert {\n",
              "      background-color: #E8F0FE;\n",
              "      border: none;\n",
              "      border-radius: 50%;\n",
              "      cursor: pointer;\n",
              "      display: none;\n",
              "      fill: #1967D2;\n",
              "      height: 32px;\n",
              "      padding: 0 0 0 0;\n",
              "      width: 32px;\n",
              "    }\n",
              "\n",
              "    .colab-df-convert:hover {\n",
              "      background-color: #E2EBFA;\n",
              "      box-shadow: 0px 1px 2px rgba(60, 64, 67, 0.3), 0px 1px 3px 1px rgba(60, 64, 67, 0.15);\n",
              "      fill: #174EA6;\n",
              "    }\n",
              "\n",
              "    [theme=dark] .colab-df-convert {\n",
              "      background-color: #3B4455;\n",
              "      fill: #D2E3FC;\n",
              "    }\n",
              "\n",
              "    [theme=dark] .colab-df-convert:hover {\n",
              "      background-color: #434B5C;\n",
              "      box-shadow: 0px 1px 3px 1px rgba(0, 0, 0, 0.15);\n",
              "      filter: drop-shadow(0px 1px 2px rgba(0, 0, 0, 0.3));\n",
              "      fill: #FFFFFF;\n",
              "    }\n",
              "  </style>\n",
              "\n",
              "      <script>\n",
              "        const buttonEl =\n",
              "          document.querySelector('#df-1ae27c5f-bab6-4b0c-9777-d2d7aa7d22cd button.colab-df-convert');\n",
              "        buttonEl.style.display =\n",
              "          google.colab.kernel.accessAllowed ? 'block' : 'none';\n",
              "\n",
              "        async function convertToInteractive(key) {\n",
              "          const element = document.querySelector('#df-1ae27c5f-bab6-4b0c-9777-d2d7aa7d22cd');\n",
              "          const dataTable =\n",
              "            await google.colab.kernel.invokeFunction('convertToInteractive',\n",
              "                                                     [key], {});\n",
              "          if (!dataTable) return;\n",
              "\n",
              "          const docLinkHtml = 'Like what you see? Visit the ' +\n",
              "            '<a target=\"_blank\" href=https://colab.research.google.com/notebooks/data_table.ipynb>data table notebook</a>'\n",
              "            + ' to learn more about interactive tables.';\n",
              "          element.innerHTML = '';\n",
              "          dataTable['output_type'] = 'display_data';\n",
              "          await google.colab.output.renderOutput(dataTable, element);\n",
              "          const docLink = document.createElement('div');\n",
              "          docLink.innerHTML = docLinkHtml;\n",
              "          element.appendChild(docLink);\n",
              "        }\n",
              "      </script>\n",
              "    </div>\n",
              "  </div>\n",
              "  "
            ]
          },
          "metadata": {},
          "execution_count": 61
        }
      ]
    },
    {
      "cell_type": "code",
      "source": [
        "data_a1_output_n=data_a1_output.to_numpy().flatten()\n",
        "data_a1_target=data_a1_output_n\n",
        "data_a1_target"
      ],
      "metadata": {
        "colab": {
          "base_uri": "https://localhost:8080/"
        },
        "id": "NHYamJ0rwZhw",
        "outputId": "ca7988cd-6376-488d-8c8c-0611c9e553b2"
      },
      "execution_count": 62,
      "outputs": [
        {
          "output_type": "execute_result",
          "data": {
            "text/plain": [
              "array([24.  , 24.  , 24.  , ..., 25.37, 25.37, 25.37])"
            ]
          },
          "metadata": {},
          "execution_count": 62
        }
      ]
    },
    {
      "cell_type": "code",
      "source": [
        "import multiprocessing\n",
        "import pandas as pd\n",
        "import numpy as np\n",
        "import matplotlib.pyplot as plt\n",
        "plt.style.use(['seaborn-whitegrid'])"
      ],
      "metadata": {
        "id": "PmkYa1Nx1Er9"
      },
      "execution_count": 63,
      "outputs": []
    },
    {
      "cell_type": "code",
      "source": [
        "from sklearn.svm import SVR, SVC\n",
        "from sklearn.datasets import load_boston, load_diabetes\n",
        "from sklearn.datasets import load_breast_cancer, load_iris, load_wine\n",
        "from sklearn.pipeline import make_pipeline,Pipeline\n",
        "from sklearn.model_selection import train_test_split,cross_validate, GridSearchCV\n",
        "from sklearn.preprocessing import StandardScaler, MinMaxScaler\n",
        "from sklearn.manifold import TSNE\n"
      ],
      "metadata": {
        "id": "aTWrdJnlZ6QC"
      },
      "execution_count": 64,
      "outputs": []
    },
    {
      "cell_type": "markdown",
      "source": [
        "#SVM을 사용한 분류모델 \n",
        "# 커널기법"
      ],
      "metadata": {
        "id": "BypkTxpIb6fd"
      }
    },
    {
      "cell_type": "code",
      "source": [
        "#X,y = load_boston(return_X_y=True)\n",
        "X=data_a1_input\n",
        "y=data_a1_target\n",
        "X_train, X_test, y_train, y_test=train_test_split(X, y, random_state=123)\n",
        "\n",
        "model = SVR()\n",
        "model.fit(X_train, y_train)\n",
        "\n",
        "print(\"힉습 데이터 점수:{}\".format(model.score(X_train, y_train)))\n",
        "print(\"평가 데이터 점수:{}\".format(model.score(X_test, y_test)))"
      ],
      "metadata": {
        "id": "S6s4Jpkjbzna",
        "colab": {
          "base_uri": "https://localhost:8080/"
        },
        "outputId": "ddd8d156-c270-485a-fe72-33be3e894ebd"
      },
      "execution_count": 65,
      "outputs": [
        {
          "output_type": "stream",
          "name": "stdout",
          "text": [
            "힉습 데이터 점수:-8.633173997396604e-05\n",
            "평가 데이터 점수:0.006401729979206516\n"
          ]
        }
      ]
    },
    {
      "cell_type": "markdown",
      "source": [
        "# 시작 아님"
      ],
      "metadata": {
        "id": "bOAoIGdv5Zep"
      }
    },
    {
      "cell_type": "code",
      "source": [
        "#no\n",
        "X,y = load_breast_cancer(return_X_y=True)\n",
        "X_train, X_test, y_train, y_test=train_test_split(X, y, random_state=123)\n",
        "\n",
        "model = SVC()\n",
        "model.fit(X_train, y_train)\n",
        "\n",
        "print(\"힉습 데이터 점수:{}\".format(model.score(X_train, y_train)))\n",
        "print(\"평가 데이터 점수:{}\".format(model.score(X_test, y_test)))"
      ],
      "metadata": {
        "id": "alZPIHxUdbzy"
      },
      "execution_count": null,
      "outputs": []
    },
    {
      "cell_type": "markdown",
      "source": [
        "#커널기법"
      ],
      "metadata": {
        "id": "zYn_lqxCduc1"
      }
    },
    {
      "cell_type": "code",
      "source": [
        "#no\n",
        "X,y=load_boston(return_X_y=True)\n",
        "X_train, X_test,y_train, y_test=train_test_split(X,y,random_state=123)\n",
        "\n",
        "linear_svr=SVR(kernel='linear')\n",
        "linear_svr.fit(X_train,y_train)\n",
        "\n",
        "print(\"Linear SVR 힉습 데이터 점수:{}\".format(linear_svr.score(X_train, y_train)))\n",
        "print(\"Linear SVR 평가 데이터 점수:{}\".format(linear_svr.score(X_test, y_test)))\n",
        "\n",
        "poly_svr=SVR(kernel='poly')\n",
        "poly_svr.fit(X_train,y_train)\n",
        "\n",
        "print(\"Polynomial SVR 힉습 데이터 점수:{}\".format(poly_svr.score(X_train, y_train)))\n",
        "print(\"Polynomial SVR 평가 데이터 점수:{}\".format(poly_svr.score(X_test, y_test)))\n",
        "\n",
        "rbf_svr=SVR(kernel='rbf')\n",
        "rbf_svr.fit(X_train,y_train)\n",
        "\n",
        "print(\"RBF SVR 힉습 데이터 점수:{}\".format(rbf_svr.score(X_train, y_train)))\n",
        "print(\"RBF SVR 평가 데이터 점수:{}\".format(rbf_svr.score(X_test, y_test)))"
      ],
      "metadata": {
        "id": "wWAJqb1ZdrnN"
      },
      "execution_count": null,
      "outputs": []
    },
    {
      "cell_type": "code",
      "source": [
        "#no"
      ],
      "metadata": {
        "id": "dweo6Rzqful3"
      },
      "execution_count": null,
      "outputs": []
    },
    {
      "cell_type": "code",
      "source": [
        "X,y=load_breast_cancer(return_X_y=True)\n",
        "X_train, X_test,y_train, y_test=train_test_split(X,y,random_state=123)\n",
        "\n",
        "linear_svc=SVC(kernel='linear')\n",
        "linear_svc.fit(X_train,y_train)\n",
        "\n",
        "print(\"Linear SVC 힉습 데이터 점수:{}\".format(linear_svc.score(X_train, y_train)))\n",
        "print(\"Linear SVC 평가 데이터 점수:{}\".format(linear_svc.score(X_test, y_test)))\n",
        "\n",
        "poly_svc=SVC(kernel='poly')\n",
        "poly_svc.fit(X_train,y_train)\n",
        "\n",
        "print(\"Polynomial SVC 힉습 데이터 점수:{}\".format(poly_svc.score(X_train, y_train)))\n",
        "print(\"Polynomial SVC 평가 데이터 점수:{}\".format(poly_svc.score(X_test, y_test)))\n",
        "\n",
        "rbf_svc=SVC(kernel='rbf')\n",
        "rbf_svc.fit(X_train,y_train)\n",
        "\n",
        "print(\"RBF SVR 힉습 데이터 점수:{}\".format(rbf_svc.score(X_train, y_train)))\n",
        "print(\"RBF SVR 평가 데이터 점수:{}\".format(rbf_svc.score(X_test, y_test)))"
      ],
      "metadata": {
        "id": "0szD4XB9iLKv"
      },
      "execution_count": null,
      "outputs": []
    },
    {
      "cell_type": "markdown",
      "source": [
        "#매개변수 튜닝"
      ],
      "metadata": {
        "id": "35VKkXg-kxp7"
      }
    },
    {
      "cell_type": "code",
      "source": [
        "X,y=load_breast_cancer(return_X_y=True)\n",
        "X_train, X_test,y_train, y_test=train_test_split(X,y,random_state=123)\n",
        "\n",
        "poly_svc=SVC(kernel='poly',degree=2,C=0.1,gamma='auto')\n",
        "poly_svc.fit(X_train,y_train)\n",
        "\n",
        "print(\"kernel=poly, degree={},C={},gamma={}\".format(2,0.1,'auto'))\n",
        "\n",
        "print(\"Polynomial SVC 힉습 데이터 점수:{}\".format(poly_svc.score(X_train, y_train)))\n",
        "print(\"Polynomial SVC 평가 데이터 점수:{}\".format(poly_svc.score(X_test, y_test)))\n"
      ],
      "metadata": {
        "id": "to2eA5LNilKT"
      },
      "execution_count": null,
      "outputs": []
    },
    {
      "cell_type": "code",
      "source": [
        "rbf_svc=SVC(kernel='rbf',C=2.0, gamma='scale')\n",
        "rbf_svc.fit(X_train,y_train)\n",
        "print(\"kernel=rbf,C={},gamma={}\".format(2,0,'scale'))\n",
        "print(\"RBF SVR 힉습 데이터 점수:{}\".format(rbf_svc.score(X_train, y_train)))\n",
        "print(\"RBF SVR 평가 데이터 점수:{}\".format(rbf_svc.score(X_test, y_test)))"
      ],
      "metadata": {
        "id": "rLciKpcBmNt7"
      },
      "execution_count": null,
      "outputs": []
    },
    {
      "cell_type": "code",
      "source": [
        "scaler=MinMaxScaler()\n",
        "X_train=scaler.fit_transform(X_train)\n",
        "X_test=scaler.transform(X_test)"
      ],
      "metadata": {
        "id": "KAgJ6Lr4n-By"
      },
      "execution_count": null,
      "outputs": []
    },
    {
      "cell_type": "code",
      "source": [
        "model=SVC()\n",
        "model.fit(X_train,y_train)"
      ],
      "metadata": {
        "id": "jWf8erQwoUGB"
      },
      "execution_count": null,
      "outputs": []
    },
    {
      "cell_type": "code",
      "source": [
        "print(\"SVC 힉습 데이터 점수:{}\".format(model.score(X_train, y_train)))\n",
        "print(\"SVC 평가 데이터 점수:{}\".format(model.score(X_test, y_test)))"
      ],
      "metadata": {
        "id": "2NsYc03bomrx"
      },
      "execution_count": null,
      "outputs": []
    },
    {
      "cell_type": "code",
      "source": [
        "#no end "
      ],
      "metadata": {
        "id": "cMGWlAcBzbXa"
      },
      "execution_count": null,
      "outputs": []
    },
    {
      "cell_type": "markdown",
      "source": [
        "#끝 아님"
      ],
      "metadata": {
        "id": "cVIUHWu55uFR"
      }
    },
    {
      "cell_type": "markdown",
      "source": [
        "#Linear SVR"
      ],
      "metadata": {
        "id": "-ZnoCbjyo-1r"
      }
    },
    {
      "cell_type": "code",
      "source": [
        "#X,y=load_boston(return_X_y=True)\n",
        "X_train,X_test,y_train,y_test=train_test_split(X,y,test_size=0.1)"
      ],
      "metadata": {
        "id": "zoOIgUvfpBt0"
      },
      "execution_count": 66,
      "outputs": []
    },
    {
      "cell_type": "code",
      "source": [
        "scaler=StandardScaler()\n",
        "scaler.fit(X_train)\n",
        "X_train=scaler.transform(X_train)\n",
        "X_test=scaler.transform(X_test)"
      ],
      "metadata": {
        "id": "QPrPS8n1pZDl"
      },
      "execution_count": 67,
      "outputs": []
    },
    {
      "cell_type": "code",
      "source": [
        "model=SVR(kernel='linear')\n",
        "model.fit(X_train,y_train)"
      ],
      "metadata": {
        "id": "8K8jEukKp1fL",
        "colab": {
          "base_uri": "https://localhost:8080/"
        },
        "outputId": "f9961e48-8463-42d1-927d-3b7ef8fe3312"
      },
      "execution_count": 68,
      "outputs": [
        {
          "output_type": "execute_result",
          "data": {
            "text/plain": [
              "SVR(kernel='linear')"
            ]
          },
          "metadata": {},
          "execution_count": 68
        }
      ]
    },
    {
      "cell_type": "code",
      "source": [
        "print(\"학습 데이터 점수:{}\".format(model.score(X_train, y_train)))\n",
        "print(\"평가 데이터 점수:{}\".format(model.score(X_test, y_test)))"
      ],
      "metadata": {
        "id": "VVmW6qiTqBI8",
        "colab": {
          "base_uri": "https://localhost:8080/"
        },
        "outputId": "471dd05a-dbc5-477b-bab5-0b7bd22a9475"
      },
      "execution_count": 69,
      "outputs": [
        {
          "output_type": "stream",
          "name": "stdout",
          "text": [
            "학습 데이터 점수:0.8359003386245629\n",
            "평가 데이터 점수:0.8190583760492958\n"
          ]
        }
      ]
    },
    {
      "cell_type": "markdown",
      "source": [
        "#시작 아님"
      ],
      "metadata": {
        "id": "ZALFO53t6FzO"
      }
    },
    {
      "cell_type": "code",
      "source": [
        "X_comp=TSNE(n_components=1).fit_transform(X)\n",
        "import matplotlib.pyplot as plt\n",
        "plt.scatter(X_comp,y);"
      ],
      "metadata": {
        "id": "lvlKrddRrEAK",
        "colab": {
          "base_uri": "https://localhost:8080/",
          "height": 358
        },
        "outputId": "69a55824-ee09-468a-e4cb-904668955862"
      },
      "execution_count": null,
      "outputs": [
        {
          "output_type": "stream",
          "name": "stderr",
          "text": [
            "/usr/local/lib/python3.8/dist-packages/sklearn/manifold/_t_sne.py:780: FutureWarning: The default initialization in TSNE will change from 'random' to 'pca' in 1.2.\n",
            "  warnings.warn(\n",
            "/usr/local/lib/python3.8/dist-packages/sklearn/manifold/_t_sne.py:790: FutureWarning: The default learning rate in TSNE will change from 200.0 to 'auto' in 1.2.\n",
            "  warnings.warn(\n"
          ]
        },
        {
          "output_type": "display_data",
          "data": {
            "text/plain": [
              "<Figure size 432x288 with 1 Axes>"
            ],
            "image/png": "[encoded data removed]"
          },
          "metadata": {
            "needs_background": "light"
          }
        }
      ]
    },
    {
      "cell_type": "code",
      "source": [
        "model.fit(X_comp,y)\n",
        "predict=model.predict(X_comp)\n",
        "plt.scatter(X_comp,y)\n",
        "plt.scatter(X_comp,predict)\n"
      ],
      "metadata": {
        "id": "LA-_hIQNr53J",
        "colab": {
          "base_uri": "https://localhost:8080/",
          "height": 283
        },
        "outputId": "a4cbc394-2a24-45f1-c914-9389a163b47e"
      },
      "execution_count": null,
      "outputs": [
        {
          "output_type": "execute_result",
          "data": {
            "text/plain": [
              "<matplotlib.collections.PathCollection at 0x7fb4614719a0>"
            ]
          },
          "metadata": {},
          "execution_count": 19
        },
        {
          "output_type": "display_data",
          "data": {
            "text/plain": [
              "<Figure size 432x288 with 1 Axes>"
            ],
            "image/png": "[encoded data removed]"
          },
          "metadata": {
            "needs_background": "light"
          }
        }
      ]
    },
    {
      "cell_type": "markdown",
      "source": [
        "# 끝 아님"
      ],
      "metadata": {
        "id": "IR0QvnaL6LGP"
      }
    },
    {
      "cell_type": "code",
      "source": [
        "estimator=make_pipeline(StandardScaler(), SVR(kernel='linear'))\n",
        "cross_validate(\n",
        "    estimator=estimator,\n",
        "    X=X, y=y,\n",
        "    cv=10,\n",
        "    n_jobs=multiprocessing.cpu_count(),\n",
        "    verbose=True\n",
        ")"
      ],
      "metadata": {
        "id": "WPLjeMfjriZw",
        "colab": {
          "base_uri": "https://localhost:8080/"
        },
        "outputId": "b4fe0059-a5ec-45cf-9e1c-4337d4b792c5"
      },
      "execution_count": 71,
      "outputs": [
        {
          "output_type": "stream",
          "name": "stderr",
          "text": [
            "[Parallel(n_jobs=2)]: Using backend LokyBackend with 2 concurrent workers.\n",
            "[Parallel(n_jobs=2)]: Done  10 out of  10 | elapsed:  3.3min finished\n"
          ]
        },
        {
          "output_type": "execute_result",
          "data": {
            "text/plain": [
              "{'fit_time': array([44.31094742, 38.25060463, 32.3033452 , 38.87156415, 37.28843188,\n",
              "        38.08276153, 35.63221478, 41.39483452, 36.03276968, 36.80864978]),\n",
              " 'score_time': array([0.10906577, 0.12387896, 0.14230728, 0.12940049, 0.13502312,\n",
              "        0.11634874, 0.11140013, 0.12912536, 0.11769128, 0.0915997 ]),\n",
              " 'test_score': array([-0.21539883,  0.74065441,  0.73518473, -0.09551218, -0.38930481,\n",
              "         0.30749357,  0.56183708,  0.26724156,  0.45920023, -0.91350975])}"
            ]
          },
          "metadata": {},
          "execution_count": 71
        }
      ]
    },
    {
      "cell_type": "code",
      "source": [
        "estimator=make_pipeline(StandardScaler(), SVR(C=1,epsilon=0.01, kernel='linear'))\n",
        "cross_validate(\n",
        "    estimator=estimator,\n",
        "    X=X, y=y,\n",
        "    cv=10,\n",
        "    n_jobs=multiprocessing.cpu_count(),\n",
        "    verbose=True\n",
        ")"
      ],
      "metadata": {
        "colab": {
          "base_uri": "https://localhost:8080/"
        },
        "id": "x9nzgkan9Xb5",
        "outputId": "0a7cf4ce-22e2-442d-9660-a87c58b71e36"
      },
      "execution_count": 74,
      "outputs": [
        {
          "output_type": "stream",
          "name": "stderr",
          "text": [
            "[Parallel(n_jobs=2)]: Using backend LokyBackend with 2 concurrent workers.\n",
            "[Parallel(n_jobs=2)]: Done  10 out of  10 | elapsed:  3.6min finished\n"
          ]
        },
        {
          "output_type": "execute_result",
          "data": {
            "text/plain": [
              "{'fit_time': array([54.86790538, 42.08279133, 38.49803638, 41.71678329, 41.59811091,\n",
              "        40.15093613, 34.21028447, 42.44644856, 40.9179554 , 37.99077439]),\n",
              " 'score_time': array([0.14520168, 0.15876818, 0.13994813, 0.18364024, 0.15139341,\n",
              "        0.16098428, 0.17294049, 0.14204597, 0.15835619, 0.12970066]),\n",
              " 'test_score': array([-0.21762199,  0.73031222,  0.74069704, -0.27143772, -0.42472406,\n",
              "         0.31427963,  0.54013538,  0.26577787,  0.44538794, -0.88835486])}"
            ]
          },
          "metadata": {},
          "execution_count": 74
        }
      ]
    },
    {
      "cell_type": "code",
      "source": [
        "estimator=make_pipeline(StandardScaler(), SVR(C=1,epsilon=0.1, kernel='linear'))\n",
        "cross_validate(\n",
        "    estimator=estimator,\n",
        "    X=X, y=y,\n",
        "    cv=10,\n",
        "    n_jobs=multiprocessing.cpu_count(),\n",
        "    verbose=True\n",
        ")"
      ],
      "metadata": {
        "colab": {
          "base_uri": "https://localhost:8080/"
        },
        "id": "3QGlUr2s-eSn",
        "outputId": "076ad087-2c2e-4d55-e674-b3927db4a1a5"
      },
      "execution_count": 76,
      "outputs": [
        {
          "output_type": "stream",
          "name": "stderr",
          "text": [
            "[Parallel(n_jobs=2)]: Using backend LokyBackend with 2 concurrent workers.\n",
            "[Parallel(n_jobs=2)]: Done  10 out of  10 | elapsed:  3.3min finished\n"
          ]
        },
        {
          "output_type": "execute_result",
          "data": {
            "text/plain": [
              "{'fit_time': array([43.3610239 , 37.35557556, 32.40018439, 38.49851894, 37.24690747,\n",
              "        37.16643381, 36.42470789, 42.50161791, 36.18902206, 37.23331022]),\n",
              " 'score_time': array([0.15127325, 0.11881876, 0.12438893, 0.13166332, 0.13200712,\n",
              "        0.11039472, 0.11659479, 0.11420822, 0.11578274, 0.09165406]),\n",
              " 'test_score': array([-0.21539883,  0.74065441,  0.73518473, -0.09551218, -0.38930481,\n",
              "         0.30749357,  0.56183708,  0.26724156,  0.45920023, -0.91350975])}"
            ]
          },
          "metadata": {},
          "execution_count": 76
        }
      ]
    },
    {
      "cell_type": "code",
      "source": [
        "estimator=make_pipeline(StandardScaler(), SVR(C=1,epsilon=1, kernel='linear'))\n",
        "cross_validate(\n",
        "    estimator=estimator,\n",
        "    X=X, y=y,\n",
        "    cv=10,\n",
        "    n_jobs=multiprocessing.cpu_count(),\n",
        "    verbose=True\n",
        ")"
      ],
      "metadata": {
        "colab": {
          "base_uri": "https://localhost:8080/"
        },
        "id": "wY85LkBW_p9d",
        "outputId": "ec791857-d548-4620-c98b-5bc91a68c844"
      },
      "execution_count": 77,
      "outputs": [
        {
          "output_type": "stream",
          "name": "stderr",
          "text": [
            "[Parallel(n_jobs=2)]: Using backend LokyBackend with 2 concurrent workers.\n",
            "[Parallel(n_jobs=2)]: Done  10 out of  10 | elapsed:  1.1min finished\n"
          ]
        },
        {
          "output_type": "execute_result",
          "data": {
            "text/plain": [
              "{'fit_time': array([12.9992044 , 11.83990788,  9.54909754, 14.66217375, 12.90816689,\n",
              "        13.88346076, 10.15343118, 14.12975073, 16.16010785,  9.75863791]),\n",
              " 'score_time': array([0.03947806, 0.0374558 , 0.03556204, 0.03851318, 0.03909206,\n",
              "        0.03477621, 0.03568673, 0.0377562 , 0.03924251, 0.02601385]),\n",
              " 'test_score': array([-0.20715028,  0.78076187,  0.65701595, -0.97369037, -0.65400639,\n",
              "         0.2942375 ,  0.61766293,  0.2854115 ,  0.50103402, -0.25202496])}"
            ]
          },
          "metadata": {},
          "execution_count": 77
        }
      ]
    },
    {
      "cell_type": "code",
      "source": [
        "estimator=make_pipeline(StandardScaler(), SVR(C=1,epsilon=0.005, kernel='linear'))\n",
        "cross_validate(\n",
        "    estimator=estimator,\n",
        "    X=X, y=y,\n",
        "    cv=10,\n",
        "    n_jobs=multiprocessing.cpu_count(),\n",
        "    verbose=True\n",
        ")"
      ],
      "metadata": {
        "colab": {
          "base_uri": "https://localhost:8080/"
        },
        "id": "mEqGfsQsA-UE",
        "outputId": "39086a15-253a-4e48-b5af-33c178455263"
      },
      "execution_count": 78,
      "outputs": [
        {
          "output_type": "stream",
          "name": "stderr",
          "text": [
            "[Parallel(n_jobs=2)]: Using backend LokyBackend with 2 concurrent workers.\n",
            "[Parallel(n_jobs=2)]: Done  10 out of  10 | elapsed:  3.7min finished\n"
          ]
        },
        {
          "output_type": "execute_result",
          "data": {
            "text/plain": [
              "{'fit_time': array([50.77648115, 41.19577026, 37.73348856, 41.04864931, 45.44198155,\n",
              "        39.57706904, 36.70932627, 44.29875088, 44.1561296 , 43.46740389]),\n",
              " 'score_time': array([0.16791821, 0.15479112, 0.13799405, 0.14439344, 0.15623999,\n",
              "        0.14823031, 0.14236999, 0.13988185, 0.14500451, 0.1332221 ]),\n",
              " 'test_score': array([-0.21698894,  0.7307842 ,  0.7408583 , -0.28305876, -0.42482602,\n",
              "         0.31704586,  0.53748149,  0.26725192,  0.44439404, -0.88317579])}"
            ]
          },
          "metadata": {},
          "execution_count": 78
        }
      ]
    },
    {
      "cell_type": "code",
      "source": [
        "estimator=make_pipeline(StandardScaler(), SVR(kernel='rbf'))\n",
        "cross_validate(\n",
        "    estimator=estimator,\n",
        "    X=X, y=y,\n",
        "    cv=10,\n",
        "    n_jobs=multiprocessing.cpu_count(),\n",
        "    verbose=True\n",
        ")"
      ],
      "metadata": {
        "colab": {
          "base_uri": "https://localhost:8080/"
        },
        "id": "QYqnS8UjzGf5",
        "outputId": "e179ec76-67fa-4f64-bc5a-d0de7213a331"
      },
      "execution_count": 72,
      "outputs": [
        {
          "output_type": "stream",
          "name": "stderr",
          "text": [
            "[Parallel(n_jobs=2)]: Using backend LokyBackend with 2 concurrent workers.\n",
            "[Parallel(n_jobs=2)]: Done  10 out of  10 | elapsed:   15.8s finished\n"
          ]
        },
        {
          "output_type": "execute_result",
          "data": {
            "text/plain": [
              "{'fit_time': array([2.79268479, 2.72805238, 2.75262761, 2.78262353, 2.71991611,\n",
              "        2.73942637, 2.71337438, 2.7714088 , 2.52840066, 2.62508821]),\n",
              " 'score_time': array([0.43856263, 0.42975545, 0.41449714, 0.43228221, 0.45034862,\n",
              "        0.42650151, 0.4560256 , 0.42637277, 0.46216726, 0.34010172]),\n",
              " 'test_score': array([-1.13085152, -0.06802894, -0.50600902, -1.23224366, -0.22152989,\n",
              "        -0.00750976, -1.23306007, -0.13875001, -0.06794645, -0.6500891 ])}"
            ]
          },
          "metadata": {},
          "execution_count": 72
        }
      ]
    },
    {
      "cell_type": "code",
      "source": [
        "estimator=make_pipeline(StandardScaler(), SVR(C=0.1, epsilon=0.1,kernel='rbf'))\n",
        "cross_validate(\n",
        "    estimator=estimator,\n",
        "    X=X, y=y,\n",
        "    cv=10,\n",
        "    n_jobs=multiprocessing.cpu_count(),\n",
        "    verbose=True\n",
        ")"
      ],
      "metadata": {
        "colab": {
          "base_uri": "https://localhost:8080/"
        },
        "id": "o7VKNAs08K_4",
        "outputId": "11e9b8e6-a347-49a1-d667-1b7fca846478"
      },
      "execution_count": 73,
      "outputs": [
        {
          "output_type": "stream",
          "name": "stderr",
          "text": [
            "[Parallel(n_jobs=2)]: Using backend LokyBackend with 2 concurrent workers.\n",
            "[Parallel(n_jobs=2)]: Done  10 out of  10 | elapsed:   16.1s finished\n"
          ]
        },
        {
          "output_type": "execute_result",
          "data": {
            "text/plain": [
              "{'fit_time': array([2.6910758 , 2.68198967, 2.75212026, 2.81838012, 2.79139543,\n",
              "        2.81386733, 2.83913136, 2.8734374 , 2.7264359 , 2.75623918]),\n",
              " 'score_time': array([0.41799116, 0.4227221 , 0.41686821, 0.42087173, 0.43119287,\n",
              "        0.40774965, 0.45306921, 0.45277977, 0.44497991, 0.38728976]),\n",
              " 'test_score': array([-1.75269975, -0.25070408, -0.72213641, -2.2350503 , -0.17842138,\n",
              "        -0.00249179, -1.0362993 , -0.18014915, -0.14742434, -0.47679032])}"
            ]
          },
          "metadata": {},
          "execution_count": 73
        }
      ]
    },
    {
      "cell_type": "code",
      "source": [
        "estimator=make_pipeline(StandardScaler(), SVR(kernel='poly'))\n",
        "cross_validate(\n",
        "    estimator=estimator,\n",
        "    X=X, y=y,\n",
        "    cv=10,\n",
        "    n_jobs=multiprocessing.cpu_count(),\n",
        "    verbose=True\n",
        ")"
      ],
      "metadata": {
        "colab": {
          "base_uri": "https://localhost:8080/"
        },
        "id": "fslrLWuBzQfg",
        "outputId": "c4db55e4-9308-481c-c63a-f3b2feb42a88"
      },
      "execution_count": 24,
      "outputs": [
        {
          "output_type": "stream",
          "name": "stderr",
          "text": [
            "[Parallel(n_jobs=2)]: Using backend LokyBackend with 2 concurrent workers.\n",
            "[Parallel(n_jobs=2)]: Done  10 out of  10 | elapsed:   15.7s finished\n"
          ]
        },
        {
          "output_type": "execute_result",
          "data": {
            "text/plain": [
              "{'fit_time': array([2.71706104, 2.72769785, 2.69516158, 2.65559673, 2.78679037,\n",
              "        2.77970552, 3.37390876, 3.07687998, 2.97727013, 3.01493335]),\n",
              " 'score_time': array([0.24581623, 0.26024127, 0.26982331, 0.27196884, 0.27044988,\n",
              "        0.26214695, 0.2523582 , 0.28508639, 0.2457273 , 0.08690429]),\n",
              " 'test_score': array([-1.87829323e+00, -2.81211017e-01, -3.40146217e-01, -8.41667750e-01,\n",
              "        -3.78486404e-01,  7.22886188e-02, -6.88182251e-01, -1.06393898e-03,\n",
              "         3.41467659e-01, -3.26115915e-02])}"
            ]
          },
          "metadata": {},
          "execution_count": 24
        }
      ]
    },
    {
      "cell_type": "code",
      "source": [
        "estimator=make_pipeline(StandardScaler(), SVR(kernel='sigmoid'))\n",
        "cross_validate(\n",
        "    estimator=estimator,\n",
        "    X=X, y=y,\n",
        "    cv=10,\n",
        "    n_jobs=multiprocessing.cpu_count(),\n",
        "    verbose=True\n",
        ")"
      ],
      "metadata": {
        "colab": {
          "base_uri": "https://localhost:8080/"
        },
        "id": "RrIFZC14zg_p",
        "outputId": "afc67af4-29c2-481d-ba17-826f2509a872"
      },
      "execution_count": 25,
      "outputs": [
        {
          "output_type": "stream",
          "name": "stderr",
          "text": [
            "[Parallel(n_jobs=2)]: Using backend LokyBackend with 2 concurrent workers.\n",
            "[Parallel(n_jobs=2)]: Done  10 out of  10 | elapsed:   16.4s finished\n"
          ]
        },
        {
          "output_type": "execute_result",
          "data": {
            "text/plain": [
              "{'fit_time': array([3.02157426, 3.00966644, 3.00670385, 3.00721645, 2.97930479,\n",
              "        2.99901819, 2.93117738, 2.97101021, 2.76421142, 2.83217263]),\n",
              " 'score_time': array([0.3363924 , 0.34201002, 0.3393271 , 0.33070302, 0.29472613,\n",
              "        0.30060935, 0.27944636, 0.30364823, 0.30064821, 0.22025824]),\n",
              " 'test_score': array([ -873.78244912,   -96.34059176,  -178.67718673, -1344.92533856,\n",
              "        -1079.66679828, -2013.27027487,   -87.31848416, -1259.36388426,\n",
              "         -749.92078475,  -763.55753072])}"
            ]
          },
          "metadata": {},
          "execution_count": 25
        }
      ]
    },
    {
      "cell_type": "code",
      "source": [
        "pipe=Pipeline([('scaler',StandardScaler()),\n",
        "               ('model', SVR(kernel='linear'))])\n",
        "param_grid=[{'model__gamma':['scale','auto'],\n",
        "              'model__C':[1.0, 0.1, 0.01],\n",
        "              'model__epsilon':[1.0, 0.1, 0.01]}]\n",
        "gs=GridSearchCV(\n",
        "    estimator=pipe,\n",
        "    param_grid = param_grid,\n",
        "    n_jobs=multiprocessing.cpu_count(),\n",
        "    cv=5,\n",
        "    verbose=True\n",
        ")\n",
        "\n"
      ],
      "metadata": {
        "id": "DCee17JJiOe9"
      },
      "execution_count": 26,
      "outputs": []
    },
    {
      "cell_type": "code",
      "source": [
        "gs.fit(X,y)"
      ],
      "metadata": {
        "id": "eXCQnArGw8NV",
        "colab": {
          "base_uri": "https://localhost:8080/"
        },
        "outputId": "37c3d17f-9ea6-489c-b49e-a0624f039723"
      },
      "execution_count": 27,
      "outputs": [
        {
          "output_type": "stream",
          "name": "stdout",
          "text": [
            "Fitting 5 folds for each of 18 candidates, totalling 90 fits\n"
          ]
        },
        {
          "output_type": "execute_result",
          "data": {
            "text/plain": [
              "GridSearchCV(cv=5,\n",
              "             estimator=Pipeline(steps=[('scaler', StandardScaler()),\n",
              "                                       ('model', SVR(kernel='linear'))]),\n",
              "             n_jobs=2,\n",
              "             param_grid=[{'model__C': [1.0, 0.1, 0.01],\n",
              "                          'model__epsilon': [1.0, 0.1, 0.01],\n",
              "                          'model__gamma': ['scale', 'auto']}],\n",
              "             verbose=True)"
            ]
          },
          "metadata": {},
          "execution_count": 27
        }
      ]
    },
    {
      "cell_type": "code",
      "source": [
        "gs.best_estimator_"
      ],
      "metadata": {
        "id": "m4yebLmcw-ta",
        "colab": {
          "base_uri": "https://localhost:8080/"
        },
        "outputId": "a612cd0e-f404-40ef-9aab-34ce3b9e0593"
      },
      "execution_count": 28,
      "outputs": [
        {
          "output_type": "execute_result",
          "data": {
            "text/plain": [
              "Pipeline(steps=[('scaler', StandardScaler()),\n",
              "                ('model', SVR(C=0.1, epsilon=0.01, kernel='linear'))])"
            ]
          },
          "metadata": {},
          "execution_count": 28
        }
      ]
    },
    {
      "cell_type": "code",
      "source": [
        "model=gs.best_estimator_\n",
        "model.fit(X_train, y_train)"
      ],
      "metadata": {
        "colab": {
          "base_uri": "https://localhost:8080/"
        },
        "id": "mF6V0XkM2ETf",
        "outputId": "57c08ed5-62b4-43e3-e7f6-96bc462452f8"
      },
      "execution_count": 29,
      "outputs": [
        {
          "output_type": "execute_result",
          "data": {
            "text/plain": [
              "Pipeline(steps=[('scaler', StandardScaler()),\n",
              "                ('model', SVR(C=0.1, epsilon=0.01, kernel='linear'))])"
            ]
          },
          "metadata": {},
          "execution_count": 29
        }
      ]
    },
    {
      "cell_type": "code",
      "source": [
        "print(\"학습 데이터 점수:{}\".format(model.score(X_train, y_train)))\n",
        "print(\"평가 데이터 점수:{}\".format(model.score(X_test, y_test)))"
      ],
      "metadata": {
        "colab": {
          "base_uri": "https://localhost:8080/"
        },
        "id": "aznhTZUB2ORA",
        "outputId": "5eaaae18-0920-4afc-f139-fab5e87e4bc5"
      },
      "execution_count": 30,
      "outputs": [
        {
          "output_type": "stream",
          "name": "stdout",
          "text": [
            "학습 데이터 점수:0.7523130233842064\n",
            "평가 데이터 점수:0.7126604225342954\n"
          ]
        }
      ]
    },
    {
      "cell_type": "code",
      "source": [
        "# no start------------------------------"
      ],
      "metadata": {
        "id": "nM6rQ9qn2S-F"
      },
      "execution_count": null,
      "outputs": []
    },
    {
      "cell_type": "markdown",
      "source": [
        "#당뇨병"
      ],
      "metadata": {
        "id": "-qAIvw75zOya"
      }
    },
    {
      "cell_type": "code",
      "source": [
        "X,y=load_diabetes(return_X_y=True)\n",
        "X_train,X_test,y_train,y_test=train_test_split(X,y,test_size=0.2)"
      ],
      "metadata": {
        "id": "TX68MLRBzj4B"
      },
      "execution_count": null,
      "outputs": []
    },
    {
      "cell_type": "code",
      "source": [
        "scaler=StandardScaler()\n",
        "scaler.fit(X_train)\n",
        "X_train=scaler.transform(X_train)\n",
        "X_test=scaler.transform(X_test)"
      ],
      "metadata": {
        "id": "baH1zwuezj4H"
      },
      "execution_count": null,
      "outputs": []
    },
    {
      "cell_type": "code",
      "source": [
        "model=SVR(kernel='linear')\n",
        "model.fit(X_train,y_train)"
      ],
      "metadata": {
        "id": "wenS-vJZzj4H"
      },
      "execution_count": null,
      "outputs": []
    },
    {
      "cell_type": "code",
      "source": [
        "print(\"학습 데이터 점수:{}\".format(model.score(X_train, y_train)))\n",
        "print(\"평가 데이터 점수:{}\".format(model.score(X_test, y_test)))"
      ],
      "metadata": {
        "id": "GdBe2FAZzj4H"
      },
      "execution_count": null,
      "outputs": []
    },
    {
      "cell_type": "code",
      "source": [
        "X_comp=TSNE(n_components=1).fit_transform(X)\n",
        "plt.scatter(X_comp,y);"
      ],
      "metadata": {
        "id": "ldS0Ro2jzj4I"
      },
      "execution_count": null,
      "outputs": []
    },
    {
      "cell_type": "code",
      "source": [
        "model.fit(X_comp,y)\n",
        "predict=model.predict(X_comp)\n",
        "plt.scatter(X_comp,y)\n",
        "plt.scatter(X_comp,predict)\n"
      ],
      "metadata": {
        "id": "uVJPEJGBzj4I"
      },
      "execution_count": null,
      "outputs": []
    },
    {
      "cell_type": "code",
      "source": [
        "estimator=make_pipeline(StandardScaler(), SVR(kernel='linear'))\n",
        "cross_validate(\n",
        "    estimator=estimator,\n",
        "    X=X, y=y,\n",
        "    cv=5,\n",
        "    n_jobs=multiprocessing.cpu_count(),\n",
        "    verbose=True\n",
        ")"
      ],
      "metadata": {
        "id": "edC5C3mEzj4I"
      },
      "execution_count": null,
      "outputs": []
    },
    {
      "cell_type": "code",
      "source": [
        "pipe=Pipeline([('scaler',StandardScaler()),\n",
        "               ('model', SVR(kernel='linear'))])\n",
        "param_grid=[{'model__gamma':['scale','auto'],\n",
        "              'model__C':[1.0, 0.1, 0.01],\n",
        "              'model__epsilon':[1.0, 0.1, 0.01]}]\n",
        "gs=GridSearchCV(\n",
        "    estimator=pipe,\n",
        "    param_grid = param_grid,\n",
        "    n_jobs=multiprocessing.cpu_count(),\n",
        "    cv=5,\n",
        "    verbose=True\n",
        ")\n",
        "\n"
      ],
      "metadata": {
        "id": "l3Zs0XcKzj4I"
      },
      "execution_count": null,
      "outputs": []
    },
    {
      "cell_type": "code",
      "source": [
        "gs.fit(X,y)"
      ],
      "metadata": {
        "id": "48AaGDiQzj4I"
      },
      "execution_count": null,
      "outputs": []
    },
    {
      "cell_type": "code",
      "source": [
        "gs.best_estimator_"
      ],
      "metadata": {
        "id": "lO2tXerczj4I"
      },
      "execution_count": null,
      "outputs": []
    },
    {
      "cell_type": "markdown",
      "source": [
        "#당뇨병\n"
      ],
      "metadata": {
        "id": "c-nPSFMy0oXK"
      }
    },
    {
      "cell_type": "code",
      "source": [
        "#no end ------------------------"
      ],
      "metadata": {
        "id": "TKG76Aw42fMl"
      },
      "execution_count": null,
      "outputs": []
    },
    {
      "cell_type": "code",
      "source": [
        "#X,y=load_diabetes(return_X_y=True)\n",
        "X_train,X_test,y_train,y_test=train_test_split(X,y,test_size=0.2)"
      ],
      "metadata": {
        "id": "Cdb3tb8H055L"
      },
      "execution_count": 31,
      "outputs": []
    },
    {
      "cell_type": "code",
      "source": [
        "scaler=StandardScaler()\n",
        "scaler.fit(X_train)\n",
        "X_train=scaler.transform(X_train)\n",
        "X_test=scaler.transform(X_test)"
      ],
      "metadata": {
        "id": "q_rXdC-v055M"
      },
      "execution_count": 32,
      "outputs": []
    },
    {
      "cell_type": "code",
      "source": [
        "model=SVR(kernel='rbf')\n",
        "model.fit(X_train,y_train)"
      ],
      "metadata": {
        "id": "umZH2l9k055M",
        "colab": {
          "base_uri": "https://localhost:8080/"
        },
        "outputId": "93547bcc-c6cc-4e46-9ee7-7c742e7c2d0b"
      },
      "execution_count": 33,
      "outputs": [
        {
          "output_type": "execute_result",
          "data": {
            "text/plain": [
              "SVR()"
            ]
          },
          "metadata": {},
          "execution_count": 33
        }
      ]
    },
    {
      "cell_type": "code",
      "source": [
        "print(\"학습 데이터 점수:{}\".format(model.score(X_train, y_train)))\n",
        "print(\"평가 데이터 점수:{}\".format(model.score(X_test, y_test)))"
      ],
      "metadata": {
        "id": "xWvibKiL055M",
        "colab": {
          "base_uri": "https://localhost:8080/"
        },
        "outputId": "dc3a9b7e-68e4-43d5-bcc8-1a909b1f6893"
      },
      "execution_count": 34,
      "outputs": [
        {
          "output_type": "stream",
          "name": "stdout",
          "text": [
            "학습 데이터 점수:0.36347457856147947\n",
            "평가 데이터 점수:0.28840860929878154\n"
          ]
        }
      ]
    },
    {
      "cell_type": "code",
      "source": [
        "X_comp=TSNE(n_components=1).fit_transform(X)\n",
        "plt.scatter(X_comp,y);"
      ],
      "metadata": {
        "id": "3jz_KMge055M",
        "colab": {
          "base_uri": "https://localhost:8080/",
          "height": 355
        },
        "outputId": "9535ae4a-7255-4f37-c48d-76ad88fdd031"
      },
      "execution_count": null,
      "outputs": [
        {
          "output_type": "stream",
          "name": "stderr",
          "text": [
            "/usr/local/lib/python3.8/dist-packages/sklearn/manifold/_t_sne.py:780: FutureWarning: The default initialization in TSNE will change from 'random' to 'pca' in 1.2.\n",
            "  warnings.warn(\n",
            "/usr/local/lib/python3.8/dist-packages/sklearn/manifold/_t_sne.py:790: FutureWarning: The default learning rate in TSNE will change from 200.0 to 'auto' in 1.2.\n",
            "  warnings.warn(\n"
          ]
        },
        {
          "output_type": "display_data",
          "data": {
            "text/plain": [
              "<Figure size 432x288 with 1 Axes>"
            ],
            "image/png": "[encoded data removed]"
          },
          "metadata": {}
        }
      ]
    },
    {
      "cell_type": "code",
      "source": [
        "model.fit(X_comp,y)\n",
        "predict=model.predict(X_comp)\n",
        "plt.scatter(X_comp,y)\n",
        "plt.scatter(X_comp,predict)\n"
      ],
      "metadata": {
        "id": "iaHNRoHT055M",
        "colab": {
          "base_uri": "https://localhost:8080/",
          "height": 280
        },
        "outputId": "9a10ff9d-273d-4b81-9b01-aa4303c7373c"
      },
      "execution_count": null,
      "outputs": [
        {
          "output_type": "execute_result",
          "data": {
            "text/plain": [
              "<matplotlib.collections.PathCollection at 0x7fb45ffa77f0>"
            ]
          },
          "metadata": {},
          "execution_count": 33
        },
        {
          "output_type": "display_data",
          "data": {
            "text/plain": [
              "<Figure size 432x288 with 1 Axes>"
            ],
            "image/png": "[encoded data removed]"
          },
          "metadata": {}
        }
      ]
    },
    {
      "cell_type": "code",
      "source": [
        "estimator=make_pipeline(StandardScaler(), SVR(kernel='rbf'))\n",
        "cross_validate(\n",
        "    estimator=estimator,\n",
        "    X=X, y=y,\n",
        "    cv=5,\n",
        "    n_jobs=multiprocessing.cpu_count(),\n",
        "    verbose=True\n",
        ")"
      ],
      "metadata": {
        "id": "OKWqahRi055M",
        "colab": {
          "base_uri": "https://localhost:8080/"
        },
        "outputId": "34580d97-7722-4e12-a74d-5df7c2e408d1"
      },
      "execution_count": 35,
      "outputs": [
        {
          "output_type": "stream",
          "name": "stderr",
          "text": [
            "[Parallel(n_jobs=2)]: Using backend LokyBackend with 2 concurrent workers.\n",
            "[Parallel(n_jobs=2)]: Done   5 out of   5 | elapsed:    7.2s finished\n"
          ]
        },
        {
          "output_type": "execute_result",
          "data": {
            "text/plain": [
              "{'fit_time': array([2.16882086, 2.17559576, 2.08235359, 2.15419555, 0.964679  ]),\n",
              " 'score_time': array([0.77614141, 0.81867838, 0.74545097, 0.80946922, 0.38967323]),\n",
              " 'test_score': array([-1.15944887, -0.87340122, -0.08337016, -0.97905145, -1.48757937])}"
            ]
          },
          "metadata": {},
          "execution_count": 35
        }
      ]
    },
    {
      "cell_type": "markdown",
      "source": [
        "#RBF, POlynomial, Sigmoid RBF--Best"
      ],
      "metadata": {
        "id": "p94y96tJ68M4"
      }
    },
    {
      "cell_type": "code",
      "source": [
        "pipe=Pipeline([('scaler',StandardScaler()),\n",
        "               ('model', SVR(kernel='rbf'))])\n",
        "param_grid=[{'model__kernel':['rbf','polynomial', 'sigmoid']}]\n",
        "        \n",
        "gs=GridSearchCV(\n",
        "    estimator=pipe,\n",
        "    param_grid = param_grid,\n",
        "    n_jobs=multiprocessing.cpu_count(),\n",
        "    cv=5,\n",
        "    verbose=True\n",
        ")\n",
        "\n"
      ],
      "metadata": {
        "id": "15nYjm50055M"
      },
      "execution_count": 36,
      "outputs": []
    },
    {
      "cell_type": "code",
      "source": [
        "gs.fit(X,y)"
      ],
      "metadata": {
        "id": "e34bB6GI055N",
        "colab": {
          "base_uri": "https://localhost:8080/"
        },
        "outputId": "f0ea3094-47e2-46d8-c646-71bb0bbaedbd"
      },
      "execution_count": 37,
      "outputs": [
        {
          "output_type": "stream",
          "name": "stdout",
          "text": [
            "Fitting 5 folds for each of 3 candidates, totalling 15 fits\n"
          ]
        },
        {
          "output_type": "stream",
          "name": "stderr",
          "text": [
            "/usr/local/lib/python3.8/dist-packages/sklearn/model_selection/_validation.py:372: FitFailedWarning: \n",
            "5 fits failed out of a total of 15.\n",
            "The score on these train-test partitions for these parameters will be set to nan.\n",
            "If these failures are not expected, you can try to debug them by setting error_score='raise'.\n",
            "\n",
            "Below are more details about the failures:\n",
            "--------------------------------------------------------------------------------\n",
            "5 fits failed with the following error:\n",
            "Traceback (most recent call last):\n",
            "  File \"/usr/local/lib/python3.8/dist-packages/sklearn/model_selection/_validation.py\", line 680, in _fit_and_score\n",
            "    estimator.fit(X_train, y_train, **fit_params)\n",
            "  File \"/usr/local/lib/python3.8/dist-packages/sklearn/pipeline.py\", line 394, in fit\n",
            "    self._final_estimator.fit(Xt, y, **fit_params_last_step)\n",
            "  File \"/usr/local/lib/python3.8/dist-packages/sklearn/svm/_base.py\", line 255, in fit\n",
            "    fit(X, y, sample_weight, solver_type, kernel, random_seed=seed)\n",
            "  File \"/usr/local/lib/python3.8/dist-packages/sklearn/svm/_base.py\", line 315, in _dense_fit\n",
            "    ) = libsvm.fit(\n",
            "  File \"sklearn/svm/_libsvm.pyx\", line 173, in sklearn.svm._libsvm.fit\n",
            "ValueError: 'polynomial' is not in list\n",
            "\n",
            "  warnings.warn(some_fits_failed_message, FitFailedWarning)\n",
            "/usr/local/lib/python3.8/dist-packages/sklearn/model_selection/_search.py:969: UserWarning: One or more of the test scores are non-finite: [  -0.91657021           nan -649.26810986]\n",
            "  warnings.warn(\n"
          ]
        },
        {
          "output_type": "execute_result",
          "data": {
            "text/plain": [
              "GridSearchCV(cv=5,\n",
              "             estimator=Pipeline(steps=[('scaler', StandardScaler()),\n",
              "                                       ('model', SVR())]),\n",
              "             n_jobs=2,\n",
              "             param_grid=[{'model__kernel': ['rbf', 'polynomial', 'sigmoid']}],\n",
              "             verbose=True)"
            ]
          },
          "metadata": {},
          "execution_count": 37
        }
      ]
    },
    {
      "cell_type": "code",
      "source": [
        "gs.best_estimator_"
      ],
      "metadata": {
        "id": "9X-iMxLe055N",
        "colab": {
          "base_uri": "https://localhost:8080/"
        },
        "outputId": "129df713-d65b-40ac-9c2b-9dccca2a8d8b"
      },
      "execution_count": 38,
      "outputs": [
        {
          "output_type": "execute_result",
          "data": {
            "text/plain": [
              "Pipeline(steps=[('scaler', StandardScaler()), ('model', SVR())])"
            ]
          },
          "metadata": {},
          "execution_count": 38
        }
      ]
    },
    {
      "cell_type": "code",
      "source": [
        "model=gs.best_estimator_\n",
        "model.fit(X_train, y_train)"
      ],
      "metadata": {
        "colab": {
          "base_uri": "https://localhost:8080/"
        },
        "id": "dJG5BbUa3EE4",
        "outputId": "159e4ebd-89b1-4f5a-bd5a-32f9aebeb241"
      },
      "execution_count": 39,
      "outputs": [
        {
          "output_type": "execute_result",
          "data": {
            "text/plain": [
              "Pipeline(steps=[('scaler', StandardScaler()), ('model', SVR())])"
            ]
          },
          "metadata": {},
          "execution_count": 39
        }
      ]
    },
    {
      "cell_type": "code",
      "source": [
        "print(\"학습 데이터 점수:{}\".format(model.score(X_train, y_train)))\n",
        "print(\"평가 데이터 점수:{}\".format(model.score(X_test, y_test)))"
      ],
      "metadata": {
        "colab": {
          "base_uri": "https://localhost:8080/"
        },
        "id": "gw9lHAc43FPR",
        "outputId": "d0e5e249-941b-4bcb-b9b0-2d8133989631"
      },
      "execution_count": 40,
      "outputs": [
        {
          "output_type": "stream",
          "name": "stdout",
          "text": [
            "학습 데이터 점수:0.3634745785614796\n",
            "평가 데이터 점수:0.2884086092987814\n"
          ]
        }
      ]
    },
    {
      "cell_type": "markdown",
      "source": [
        "#RBF"
      ],
      "metadata": {
        "id": "M_coNyE14-WV"
      }
    },
    {
      "cell_type": "code",
      "source": [
        "pipe=Pipeline([('scaler',StandardScaler()),\n",
        "               ('model', SVR(kernel='rbf'))])\n",
        "param_grid=[{'model__gamma':['scale','auto'],\n",
        "             'model__C':[1.0, 0.1,0.01],\n",
        "             'model__epsilon':[1.0, 0.1, 0.01]}]\n",
        "        \n",
        "gs=GridSearchCV(\n",
        "    estimator=pipe,\n",
        "    param_grid = param_grid,\n",
        "    n_jobs=multiprocessing.cpu_count(),\n",
        "    cv=5,\n",
        "    verbose=True\n",
        ")\n",
        "\n"
      ],
      "metadata": {
        "id": "Ehqjb51S5B9h"
      },
      "execution_count": 41,
      "outputs": []
    },
    {
      "cell_type": "code",
      "source": [
        "pipe=Pipeline([('scaler',StandardScaler()),\n",
        "               ('model', SVR(kernel='rbf'))])\n",
        "param_grid=[{'model__gamma':['scale','auto'],\n",
        "             'model__C':[1.0, 0.1,0.01],\n",
        "             'model__epsilon':[1.0, 0.1, 0.01]}]\n",
        "        \n",
        "gs=GridSearchCV(\n",
        "    estimator=pipe,\n",
        "    param_grid = param_grid,\n",
        "    n_jobs=multiprocessing.cpu_count(),\n",
        "    cv=5,\n",
        "    verbose=True\n",
        ")\n",
        "gs.fit(X,y)"
      ],
      "metadata": {
        "colab": {
          "base_uri": "https://localhost:8080/"
        },
        "id": "cHdo-hc45HA-",
        "outputId": "5e92b3f4-bfcb-40df-d435-5600b2e6db02"
      },
      "execution_count": 42,
      "outputs": [
        {
          "output_type": "stream",
          "name": "stdout",
          "text": [
            "Fitting 5 folds for each of 18 candidates, totalling 90 fits\n"
          ]
        },
        {
          "output_type": "execute_result",
          "data": {
            "text/plain": [
              "GridSearchCV(cv=5,\n",
              "             estimator=Pipeline(steps=[('scaler', StandardScaler()),\n",
              "                                       ('model', SVR())]),\n",
              "             n_jobs=2,\n",
              "             param_grid=[{'model__C': [1.0, 0.1, 0.01],\n",
              "                          'model__epsilon': [1.0, 0.1, 0.01],\n",
              "                          'model__gamma': ['scale', 'auto']}],\n",
              "             verbose=True)"
            ]
          },
          "metadata": {},
          "execution_count": 42
        }
      ]
    },
    {
      "cell_type": "code",
      "source": [
        "gs.best_estimator_"
      ],
      "metadata": {
        "colab": {
          "base_uri": "https://localhost:8080/"
        },
        "id": "Uv_mozjt5WqI",
        "outputId": "aa528c61-4d0a-41a7-c4a1-1b1d8efd1981"
      },
      "execution_count": 43,
      "outputs": [
        {
          "output_type": "execute_result",
          "data": {
            "text/plain": [
              "Pipeline(steps=[('scaler', StandardScaler()),\n",
              "                ('model', SVR(C=0.01, epsilon=0.01))])"
            ]
          },
          "metadata": {},
          "execution_count": 43
        }
      ]
    },
    {
      "cell_type": "code",
      "source": [
        "model=gs.best_estimator_\n",
        "model.fit(X_train, y_train)"
      ],
      "metadata": {
        "colab": {
          "base_uri": "https://localhost:8080/"
        },
        "id": "CtLsey6i5bHe",
        "outputId": "1b175948-918e-4fa4-c905-d84d682225d8"
      },
      "execution_count": 44,
      "outputs": [
        {
          "output_type": "execute_result",
          "data": {
            "text/plain": [
              "Pipeline(steps=[('scaler', StandardScaler()),\n",
              "                ('model', SVR(C=0.01, epsilon=0.01))])"
            ]
          },
          "metadata": {},
          "execution_count": 44
        }
      ]
    },
    {
      "cell_type": "code",
      "source": [
        "print(\"학습 데이터 점수:{}\".format(model.score(X_train, y_train)))\n",
        "print(\"평가 데이터 점수:{}\".format(model.score(X_test, y_test)))"
      ],
      "metadata": {
        "colab": {
          "base_uri": "https://localhost:8080/"
        },
        "id": "53cnSgf15hPA",
        "outputId": "207d0720-b9ac-4379-8f34-a9429221779b"
      },
      "execution_count": 45,
      "outputs": [
        {
          "output_type": "stream",
          "name": "stdout",
          "text": [
            "학습 데이터 점수:0.02625742476922166\n",
            "평가 데이터 점수:0.014188933178353902\n"
          ]
        }
      ]
    },
    {
      "cell_type": "markdown",
      "source": [
        "#sigmoid"
      ],
      "metadata": {
        "id": "nzQmQgHJ5ncR"
      }
    },
    {
      "cell_type": "code",
      "source": [
        "pipe=Pipeline([('scaler',StandardScaler()),\n",
        "               ('model', SVR(kernel='sigmoid'))])\n",
        "param_grid=[{'model__gamma':['scale','auto'],\n",
        "             'model__C':[1.0, 0.1,0.01],\n",
        "             'model__epsilon':[1.0, 0.1, 0.01]}]\n",
        "        \n",
        "gs=GridSearchCV(\n",
        "    estimator=pipe,\n",
        "    param_grid = param_grid,\n",
        "    n_jobs=multiprocessing.cpu_count(),\n",
        "    cv=5,\n",
        "    verbose=True\n",
        ")\n",
        "\n"
      ],
      "metadata": {
        "id": "zvmgEtrU3RwR"
      },
      "execution_count": 46,
      "outputs": []
    },
    {
      "cell_type": "code",
      "source": [
        "gs.fit(X,y)"
      ],
      "metadata": {
        "id": "9aSg6WLr3RwR",
        "colab": {
          "base_uri": "https://localhost:8080/"
        },
        "outputId": "9c34a99c-2976-4276-cec3-eab986e91a59"
      },
      "execution_count": 47,
      "outputs": [
        {
          "output_type": "stream",
          "name": "stdout",
          "text": [
            "Fitting 5 folds for each of 18 candidates, totalling 90 fits\n"
          ]
        },
        {
          "output_type": "execute_result",
          "data": {
            "text/plain": [
              "GridSearchCV(cv=5,\n",
              "             estimator=Pipeline(steps=[('scaler', StandardScaler()),\n",
              "                                       ('model', SVR(kernel='sigmoid'))]),\n",
              "             n_jobs=2,\n",
              "             param_grid=[{'model__C': [1.0, 0.1, 0.01],\n",
              "                          'model__epsilon': [1.0, 0.1, 0.01],\n",
              "                          'model__gamma': ['scale', 'auto']}],\n",
              "             verbose=True)"
            ]
          },
          "metadata": {},
          "execution_count": 47
        }
      ]
    },
    {
      "cell_type": "code",
      "source": [
        "gs.best_estimator_"
      ],
      "metadata": {
        "id": "fnBJIGx93RwS",
        "colab": {
          "base_uri": "https://localhost:8080/"
        },
        "outputId": "88b86951-fa48-43f8-b527-e15b8c9a0ec8"
      },
      "execution_count": 48,
      "outputs": [
        {
          "output_type": "execute_result",
          "data": {
            "text/plain": [
              "Pipeline(steps=[('scaler', StandardScaler()),\n",
              "                ('model', SVR(C=0.01, epsilon=0.01, kernel='sigmoid'))])"
            ]
          },
          "metadata": {},
          "execution_count": 48
        }
      ]
    },
    {
      "cell_type": "code",
      "source": [
        "model=gs.best_estimator_\n",
        "model.fit(X_train, y_train)"
      ],
      "metadata": {
        "id": "eIIA6sH-7OWJ",
        "colab": {
          "base_uri": "https://localhost:8080/"
        },
        "outputId": "5208046f-92ac-4f99-db37-9798e19a4335"
      },
      "execution_count": 49,
      "outputs": [
        {
          "output_type": "execute_result",
          "data": {
            "text/plain": [
              "Pipeline(steps=[('scaler', StandardScaler()),\n",
              "                ('model', SVR(C=0.01, epsilon=0.01, kernel='sigmoid'))])"
            ]
          },
          "metadata": {},
          "execution_count": 49
        }
      ]
    },
    {
      "cell_type": "code",
      "source": [
        "print(\"학습 데이터 점수:{}\".format(model.score(X_train, y_train)))\n",
        "print(\"평가 데이터 점수:{}\".format(model.score(X_test, y_test)))"
      ],
      "metadata": {
        "id": "sdwoUQcX7Otf",
        "colab": {
          "base_uri": "https://localhost:8080/"
        },
        "outputId": "82ad5474-ab89-423e-dcd8-971bb72d5a40"
      },
      "execution_count": 50,
      "outputs": [
        {
          "output_type": "stream",
          "name": "stdout",
          "text": [
            "학습 데이터 점수:-0.007698766626828446\n",
            "평가 데이터 점수:-0.00580195584963783\n"
          ]
        }
      ]
    },
    {
      "cell_type": "markdown",
      "source": [
        "#Polynomial"
      ],
      "metadata": {
        "id": "55Np9v_86Fp6"
      }
    },
    {
      "cell_type": "code",
      "source": [
        "pipe=Pipeline([('scaler',StandardScaler()),\n",
        "               ('model', SVR(kernel='sigmoid'))])\n",
        "param_grid=[{'model__gamma':['scale','auto'],\n",
        "             'model__C':[1.0, 0.1,0.01],\n",
        "             'model__epsilon':[1.0, 0.1, 0.01]}]\n",
        "        \n",
        "gs=GridSearchCV(\n",
        "    estimator=pipe,\n",
        "    param_grid = param_grid,\n",
        "    n_jobs=multiprocessing.cpu_count(),\n",
        "    cv=5,\n",
        "    verbose=True\n",
        ")\n",
        "gs.fit(X,y)"
      ],
      "metadata": {
        "colab": {
          "base_uri": "https://localhost:8080/"
        },
        "id": "YgBe_dy26E3S",
        "outputId": "dc2e0647-4793-4e04-c2de-c4995b159251"
      },
      "execution_count": 51,
      "outputs": [
        {
          "output_type": "stream",
          "name": "stdout",
          "text": [
            "Fitting 5 folds for each of 18 candidates, totalling 90 fits\n"
          ]
        },
        {
          "output_type": "execute_result",
          "data": {
            "text/plain": [
              "GridSearchCV(cv=5,\n",
              "             estimator=Pipeline(steps=[('scaler', StandardScaler()),\n",
              "                                       ('model', SVR(kernel='sigmoid'))]),\n",
              "             n_jobs=2,\n",
              "             param_grid=[{'model__C': [1.0, 0.1, 0.01],\n",
              "                          'model__epsilon': [1.0, 0.1, 0.01],\n",
              "                          'model__gamma': ['scale', 'auto']}],\n",
              "             verbose=True)"
            ]
          },
          "metadata": {},
          "execution_count": 51
        }
      ]
    },
    {
      "cell_type": "code",
      "source": [
        "gs.best_estimator_"
      ],
      "metadata": {
        "colab": {
          "base_uri": "https://localhost:8080/"
        },
        "id": "-EqAx6HI6RvO",
        "outputId": "83b1ce91-7c80-4319-fd69-dffdf584b058"
      },
      "execution_count": 52,
      "outputs": [
        {
          "output_type": "execute_result",
          "data": {
            "text/plain": [
              "Pipeline(steps=[('scaler', StandardScaler()),\n",
              "                ('model', SVR(C=0.01, epsilon=0.01, kernel='sigmoid'))])"
            ]
          },
          "metadata": {},
          "execution_count": 52
        }
      ]
    },
    {
      "cell_type": "code",
      "source": [
        "model=gs.best_estimator_\n",
        "model.fit(X_train, y_train)"
      ],
      "metadata": {
        "colab": {
          "base_uri": "https://localhost:8080/"
        },
        "id": "m67ggUW86cuw",
        "outputId": "9cfcf5fc-7cf9-4995-852e-923411e38f95"
      },
      "execution_count": 53,
      "outputs": [
        {
          "output_type": "execute_result",
          "data": {
            "text/plain": [
              "Pipeline(steps=[('scaler', StandardScaler()),\n",
              "                ('model', SVR(C=0.01, epsilon=0.01, kernel='sigmoid'))])"
            ]
          },
          "metadata": {},
          "execution_count": 53
        }
      ]
    },
    {
      "cell_type": "code",
      "source": [
        "print(\"학습 데이터 점수:{}\".format(model.score(X_train, y_train)))\n",
        "print(\"평가 데이터 점수:{}\".format(model.score(X_test, y_test)))"
      ],
      "metadata": {
        "colab": {
          "base_uri": "https://localhost:8080/"
        },
        "id": "vghpADHt6erS",
        "outputId": "179f9571-92dd-4e6f-a8c8-90336dba8b64"
      },
      "execution_count": 54,
      "outputs": [
        {
          "output_type": "stream",
          "name": "stdout",
          "text": [
            "학습 데이터 점수:-0.007698766626828446\n",
            "평가 데이터 점수:-0.00580195584963783\n"
          ]
        }
      ]
    },
    {
      "cell_type": "code",
      "source": [
        "#no start---------------------------------------"
      ],
      "metadata": {
        "id": "TF6r7ZZg30gi"
      },
      "execution_count": null,
      "outputs": []
    },
    {
      "cell_type": "markdown",
      "source": [
        "# 이후는 분류기 문제임 \n",
        "#linear SVC\n",
        "#유방암 "
      ],
      "metadata": {
        "id": "znnqPBxL055N"
      }
    },
    {
      "cell_type": "code",
      "source": [
        "X,y=load_breast_cancer(return_X_y=True)\n",
        "X_train,X_test,y_train,y_test=train_test_split(X,y,test_size=0.2)"
      ],
      "metadata": {
        "id": "hzuxgQrR8Q5c"
      },
      "execution_count": null,
      "outputs": []
    },
    {
      "cell_type": "code",
      "source": [
        "scaler=StandardScaler()\n",
        "scaler.fit(X_train)\n",
        "X_train=scaler.transform(X_train)\n",
        "X_test=scaler.transform(X_test)"
      ],
      "metadata": {
        "id": "72f2yUfm8Q5d"
      },
      "execution_count": null,
      "outputs": []
    },
    {
      "cell_type": "code",
      "source": [
        "model=SVC(kernel='linear')\n",
        "model.fit(X_train,y_train)"
      ],
      "metadata": {
        "id": "lXo2ihSs8Q5d"
      },
      "execution_count": null,
      "outputs": []
    },
    {
      "cell_type": "code",
      "source": [
        "print(\"학습 데이터 점수:{}\".format(model.score(X_train, y_train)))\n",
        "print(\"평가 데이터 점수:{}\".format(model.score(X_test, y_test)))"
      ],
      "metadata": {
        "id": "BN60KBi-8Q5d"
      },
      "execution_count": null,
      "outputs": []
    },
    {
      "cell_type": "code",
      "source": [
        "import numpy as np\n",
        "def make_meshgrid(x,y,h=.02):\n",
        "    x_min,x_max=x.min()-1,x.max()+1\n",
        "    y_min,y_max=y.min()-1,y.max()+1\n",
        "    xx,yy = np.meshgrid(np.arange(x_min,x_max,h),\n",
        "                        np.arange(y_min,y_max,h))\n",
        "    return xx, yy"
      ],
      "metadata": {
        "id": "WzaBMxOo8wg9"
      },
      "execution_count": null,
      "outputs": []
    },
    {
      "cell_type": "code",
      "source": [
        "def plot_contours(clf,xx,yy,**params):\n",
        "    Z=clf.predict(np.c_[xx.ravel(),yy.ravel()])\n",
        "    Z=Z.reshape(xx.shape)\n",
        "    out=plt.contourf(xx,yy,Z,**params)\n",
        "\n",
        "    return out"
      ],
      "metadata": {
        "id": "1sc7kBtx9jjy"
      },
      "execution_count": null,
      "outputs": []
    },
    {
      "cell_type": "code",
      "source": [
        "X_comp=TSNE(n_components=2).fit_transform(X)\n",
        "X0,X1=X_comp[:,0],X_comp[:,1]\n",
        "xx,yy=make_meshgrid(X0,X1)"
      ],
      "metadata": {
        "id": "8-qQx3j28Q5d"
      },
      "execution_count": null,
      "outputs": []
    },
    {
      "cell_type": "code",
      "source": [
        "model.fit(X_comp,y)\n",
        "plot_contours(model, xx, yy, cmap=plt.cm.coolwarm, alpha=0.7)\n",
        "plt.scatter(X0,X1,c=y, cmap=plt.cm.coolwarm,s=20,edgecolors='k');\n"
      ],
      "metadata": {
        "id": "hzsByU_v8Q5d"
      },
      "execution_count": null,
      "outputs": []
    },
    {
      "cell_type": "code",
      "source": [
        "estimator=make_pipeline(StandardScaler(), SVC(kernel='linear'))\n",
        "cross_validate(\n",
        "    estimator=estimator,\n",
        "    X=X, y=y,\n",
        "    cv=5,\n",
        "    n_jobs=multiprocessing.cpu_count(),\n",
        "    verbose=True\n",
        ")"
      ],
      "metadata": {
        "id": "AKqerbKl8Q5d"
      },
      "execution_count": null,
      "outputs": []
    },
    {
      "cell_type": "code",
      "source": [
        "pipe=Pipeline([('scaler',StandardScaler()),\n",
        "               ('model', SVC(kernel='linear'))])\n",
        "param_grid=[{'model__gamma':['scale','auto'],\n",
        "             'model__C':[1.0,0.1,0.01]}]\n",
        "        \n",
        "gs=GridSearchCV(\n",
        "    estimator=pipe,\n",
        "    param_grid = param_grid,\n",
        "    n_jobs=multiprocessing.cpu_count(),\n",
        "    cv=5,\n",
        "    verbose=True\n",
        ")\n",
        "gs.fit(X,y)\n"
      ],
      "metadata": {
        "id": "l4FsjOV98Q5e"
      },
      "execution_count": null,
      "outputs": []
    },
    {
      "cell_type": "code",
      "source": [
        "gs.best_estimator_"
      ],
      "metadata": {
        "id": "IqrPvRKG8Q5e"
      },
      "execution_count": null,
      "outputs": []
    },
    {
      "cell_type": "code",
      "source": [
        "model=gs.best_estimator_\n",
        "model.fit(X_train, y_train)"
      ],
      "metadata": {
        "id": "ui8lX2Pe8Q5f"
      },
      "execution_count": null,
      "outputs": []
    },
    {
      "cell_type": "code",
      "source": [
        "print(\"학습 데이터 점수:{}\".format(model.score(X_train, y_train)))\n",
        "print(\"평가 데이터 점수:{}\".format(model.score(X_test, y_test)))"
      ],
      "metadata": {
        "id": "tQBdbPml8Q5f"
      },
      "execution_count": null,
      "outputs": []
    },
    {
      "cell_type": "markdown",
      "source": [
        "#붓꽃"
      ],
      "metadata": {
        "id": "NaWmq2g48Q5f"
      }
    },
    {
      "cell_type": "code",
      "source": [
        "X,y=load_iris(return_X_y=True)\n",
        "X_train,X_test,y_train,y_test=train_test_split(X,y,test_size=0.2)"
      ],
      "metadata": {
        "id": "av4Q7H74C2VZ"
      },
      "execution_count": null,
      "outputs": []
    },
    {
      "cell_type": "code",
      "source": [
        "scaler=StandardScaler()\n",
        "scaler.fit(X_train)\n",
        "X_train=scaler.transform(X_train)\n",
        "X_test=scaler.transform(X_test)"
      ],
      "metadata": {
        "id": "spAlmpBSC2Vd"
      },
      "execution_count": null,
      "outputs": []
    },
    {
      "cell_type": "code",
      "source": [
        "model=SVC(kernel='linear')\n",
        "model.fit(X_train,y_train)"
      ],
      "metadata": {
        "id": "ZO-ckFiaC2Ve"
      },
      "execution_count": null,
      "outputs": []
    },
    {
      "cell_type": "code",
      "source": [
        "print(\"학습 데이터 점수:{}\".format(model.score(X_train, y_train)))\n",
        "print(\"평가 데이터 점수:{}\".format(model.score(X_test, y_test)))"
      ],
      "metadata": {
        "id": "b-7j38bzC2Ve"
      },
      "execution_count": null,
      "outputs": []
    },
    {
      "cell_type": "code",
      "source": [
        "import numpy as np\n",
        "def make_meshgrid(x,y,h=.02):\n",
        "    x_min,x_max=x.min()-1,x.max()+1\n",
        "    y_min,y_max=y.min()-1,y.max()+1\n",
        "    xx,yy = np.meshgrid(np.arange(x_min,x_max,h),\n",
        "                        np.arange(y_min,y_max,h))\n",
        "    return xx, yy"
      ],
      "metadata": {
        "id": "DRFQ6Xc7C2Ve"
      },
      "execution_count": null,
      "outputs": []
    },
    {
      "cell_type": "code",
      "source": [
        "def plot_contours(clf,xx,yy,**params):\n",
        "    Z=clf.predict(np.c_[xx.ravel(),yy.ravel()])\n",
        "    Z=Z.reshape(xx.shape)\n",
        "    out=plt.contourf(xx,yy,Z,**params)\n",
        "\n",
        "    return out"
      ],
      "metadata": {
        "id": "U5iVEJPUC2Ve"
      },
      "execution_count": null,
      "outputs": []
    },
    {
      "cell_type": "code",
      "source": [
        "X_comp=TSNE(n_components=2).fit_transform(X)\n",
        "X0,X1=X_comp[:,0],X_comp[:,1]\n",
        "xx,yy=make_meshgrid(X0,X1)"
      ],
      "metadata": {
        "id": "1R5WkjRkC2Ve"
      },
      "execution_count": null,
      "outputs": []
    },
    {
      "cell_type": "code",
      "source": [
        "model.fit(X_comp,y)\n",
        "plot_contours(model, xx, yy, cmap=plt.cm.coolwarm, alpha=0.7)\n",
        "plt.scatter(X0,X1,c=y, cmap=plt.cm.coolwarm,s=20,edgecolors='k');\n"
      ],
      "metadata": {
        "id": "b-L6bRPVC2Ve"
      },
      "execution_count": null,
      "outputs": []
    },
    {
      "cell_type": "code",
      "source": [
        "estimator=make_pipeline(StandardScaler(), SVC(kernel='linear'))\n",
        "cross_validate(\n",
        "    estimator=estimator,\n",
        "    X=X, y=y,\n",
        "    cv=5,\n",
        "    n_jobs=multiprocessing.cpu_count(),\n",
        "    verbose=True\n",
        ")"
      ],
      "metadata": {
        "id": "X-O-yoTbC2Ve"
      },
      "execution_count": null,
      "outputs": []
    },
    {
      "cell_type": "code",
      "source": [
        "pipe=Pipeline([('scaler',StandardScaler()),\n",
        "               ('model', SVC(kernel='linear'))])\n",
        "param_grid=[{'model__gamma':['scale','auto'],\n",
        "             'model__C':[1.0,0.1,0.01]}]\n",
        "        \n",
        "gs=GridSearchCV(\n",
        "    estimator=pipe,\n",
        "    param_grid = param_grid,\n",
        "    n_jobs=multiprocessing.cpu_count(),\n",
        "    cv=5,\n",
        "    verbose=True\n",
        ")\n",
        "gs.fit(X,y)\n"
      ],
      "metadata": {
        "id": "0o3SS_wVC2Ve"
      },
      "execution_count": null,
      "outputs": []
    },
    {
      "cell_type": "code",
      "source": [
        "gs.best_estimator_"
      ],
      "metadata": {
        "id": "5EbJsWrjC2Ve"
      },
      "execution_count": null,
      "outputs": []
    },
    {
      "cell_type": "code",
      "source": [
        "model=gs.best_estimator_\n",
        "model.fit(X_train, y_train)"
      ],
      "metadata": {
        "id": "O2mhLykEC2Ve"
      },
      "execution_count": null,
      "outputs": []
    },
    {
      "cell_type": "code",
      "source": [
        "print(\"학습 데이터 점수:{}\".format(model.score(X_train, y_train)))\n",
        "print(\"평가 데이터 점수:{}\".format(model.score(X_test, y_test)))"
      ],
      "metadata": {
        "id": "pbwb55W4C2Ve"
      },
      "execution_count": null,
      "outputs": []
    },
    {
      "cell_type": "markdown",
      "source": [
        "#와인"
      ],
      "metadata": {
        "id": "JLlb_6wiC2Ve"
      }
    },
    {
      "cell_type": "code",
      "source": [
        "X,y=load_wine(return_X_y=True)\n",
        "X_train,X_test,y_train,y_test=train_test_split(X,y,test_size=0.2)"
      ],
      "metadata": {
        "id": "qmGnpBZRD6I4"
      },
      "execution_count": null,
      "outputs": []
    },
    {
      "cell_type": "code",
      "source": [
        "scaler=StandardScaler()\n",
        "scaler.fit(X_train)\n",
        "X_train=scaler.transform(X_train)\n",
        "X_test=scaler.transform(X_test)"
      ],
      "metadata": {
        "id": "iRS_jRIqD6JA"
      },
      "execution_count": null,
      "outputs": []
    },
    {
      "cell_type": "code",
      "source": [
        "model=SVC(kernel='linear')\n",
        "model.fit(X_train,y_train)"
      ],
      "metadata": {
        "id": "6zbdxlkYD6JA"
      },
      "execution_count": null,
      "outputs": []
    },
    {
      "cell_type": "code",
      "source": [
        "print(\"학습 데이터 점수:{}\".format(model.score(X_train, y_train)))\n",
        "print(\"평가 데이터 점수:{}\".format(model.score(X_test, y_test)))"
      ],
      "metadata": {
        "id": "29hCy09-D6JA"
      },
      "execution_count": null,
      "outputs": []
    },
    {
      "cell_type": "code",
      "source": [
        "import numpy as np\n",
        "def make_meshgrid(x,y,h=.02):\n",
        "    x_min,x_max=x.min()-1,x.max()+1\n",
        "    y_min,y_max=y.min()-1,y.max()+1\n",
        "    xx,yy = np.meshgrid(np.arange(x_min,x_max,h),\n",
        "                        np.arange(y_min,y_max,h))\n",
        "    return xx, yy"
      ],
      "metadata": {
        "id": "1uP4pxjuD6JA"
      },
      "execution_count": null,
      "outputs": []
    },
    {
      "cell_type": "code",
      "source": [
        "def plot_contours(clf,xx,yy,**params):\n",
        "    Z=clf.predict(np.c_[xx.ravel(),yy.ravel()])\n",
        "    Z=Z.reshape(xx.shape)\n",
        "    out=plt.contourf(xx,yy,Z,**params)\n",
        "\n",
        "    return out"
      ],
      "metadata": {
        "id": "oII0Sxz9D6JA"
      },
      "execution_count": null,
      "outputs": []
    },
    {
      "cell_type": "code",
      "source": [
        "X_comp=TSNE(n_components=2).fit_transform(X)\n",
        "X0,X1=X_comp[:,0],X_comp[:,1]\n",
        "xx,yy=make_meshgrid(X0,X1)"
      ],
      "metadata": {
        "id": "j0f0AGLND6JA"
      },
      "execution_count": null,
      "outputs": []
    },
    {
      "cell_type": "code",
      "source": [
        "model.fit(X_comp,y)\n",
        "plot_contours(model, xx, yy, cmap=plt.cm.coolwarm, alpha=0.7)\n",
        "plt.scatter(X0,X1,c=y, cmap=plt.cm.coolwarm,s=20,edgecolors='k');\n"
      ],
      "metadata": {
        "id": "p_rsLiaxD6JA"
      },
      "execution_count": null,
      "outputs": []
    },
    {
      "cell_type": "code",
      "source": [
        "estimator=make_pipeline(StandardScaler(), SVC(kernel='linear'))\n",
        "cross_validate(\n",
        "    estimator=estimator,\n",
        "    X=X, y=y,\n",
        "    cv=5,\n",
        "    n_jobs=multiprocessing.cpu_count(),\n",
        "    verbose=True\n",
        ")"
      ],
      "metadata": {
        "id": "x43NXxG7D6JA"
      },
      "execution_count": null,
      "outputs": []
    },
    {
      "cell_type": "code",
      "source": [
        "pipe=Pipeline([('scaler',StandardScaler()),\n",
        "               ('model', SVC(kernel='linear'))])\n",
        "param_grid=[{'model__gamma':['scale','auto'],\n",
        "             'model__C':[1.0,0.1,0.01]}]\n",
        "        \n",
        "gs=GridSearchCV(\n",
        "    estimator=pipe,\n",
        "    param_grid = param_grid,\n",
        "    n_jobs=multiprocessing.cpu_count(),\n",
        "    cv=5,\n",
        "    verbose=True\n",
        ")\n",
        "gs.fit(X,y)\n"
      ],
      "metadata": {
        "id": "PRGfS8XPD6JA"
      },
      "execution_count": null,
      "outputs": []
    },
    {
      "cell_type": "code",
      "source": [
        "gs.best_estimator_"
      ],
      "metadata": {
        "id": "esBameH_D6JB"
      },
      "execution_count": null,
      "outputs": []
    },
    {
      "cell_type": "code",
      "source": [
        "model=gs.best_estimator_\n",
        "model.fit(X_train, y_train)"
      ],
      "metadata": {
        "id": "DQTS6_dlD6JB"
      },
      "execution_count": null,
      "outputs": []
    },
    {
      "cell_type": "code",
      "source": [
        "print(\"학습 데이터 점수:{}\".format(model.score(X_train, y_train)))\n",
        "print(\"평가 데이터 점수:{}\".format(model.score(X_test, y_test)))"
      ],
      "metadata": {
        "id": "YWRwe52gD6JB"
      },
      "execution_count": null,
      "outputs": []
    },
    {
      "cell_type": "markdown",
      "source": [
        "#붓꽃"
      ],
      "metadata": {
        "id": "TI7yvLKsD6JC"
      }
    },
    {
      "cell_type": "code",
      "source": [],
      "metadata": {
        "id": "ovvq602A8Q5f"
      },
      "execution_count": null,
      "outputs": []
    },
    {
      "cell_type": "code",
      "source": [
        "print(\"학습 데이터 점수:{}\".format(model.score(X_train, y_train)))\n",
        "print(\"평가 데이터 점수:{}\".format(model.score(X_test, y_test)))"
      ],
      "metadata": {
        "id": "5x4ZZgov8Q5f"
      },
      "execution_count": null,
      "outputs": []
    },
    {
      "cell_type": "code",
      "source": [
        "print(\"학습 데이터 점수:{}\".format(model.score(X_train, y_train)))\n",
        "print(\"평가 데이터 점수:{}\".format(model.score(X_test, y_test)))"
      ],
      "metadata": {
        "id": "WV0NMwBe8Fvb"
      },
      "execution_count": null,
      "outputs": []
    },
    {
      "cell_type": "code",
      "source": [
        "pipe=Pipeline([('scaler',StandardScaler()),\n",
        "               ('model', SVR(kernel='rbf'))])\n",
        "param_grid=[{'model__kernel':['rbf','polynomial', 'sigmoid']}]\n",
        "        \n",
        "gs=GridSearchCV(\n",
        "    estimator=pipe,\n",
        "    param_grid = param_grid,\n",
        "    n_jobs=multiprocessing.cpu_count(),\n",
        "    cv=5,\n",
        "    verbose=True\n",
        ")\n",
        "\n"
      ],
      "metadata": {
        "id": "gemak4EP5Amd"
      },
      "execution_count": null,
      "outputs": []
    },
    {
      "cell_type": "code",
      "source": [
        "gs.fit(X,y)"
      ],
      "metadata": {
        "id": "sj6_4nBs5Ami"
      },
      "execution_count": null,
      "outputs": []
    },
    {
      "cell_type": "code",
      "source": [
        "gs.best_estimator_"
      ],
      "metadata": {
        "id": "zfemdaNC5Ami"
      },
      "execution_count": null,
      "outputs": []
    },
    {
      "cell_type": "markdown",
      "source": [
        "#유방암"
      ],
      "metadata": {
        "id": "bVzwhEaNFLJ6"
      }
    },
    {
      "cell_type": "code",
      "source": [
        "X,y=load_breast_cancer(return_X_y=True)\n",
        "X_train,X_test,y_train,y_test=train_test_split(X,y,test_size=0.2)"
      ],
      "metadata": {
        "id": "P6buRyd4FNTz"
      },
      "execution_count": null,
      "outputs": []
    },
    {
      "cell_type": "code",
      "source": [
        "scaler=StandardScaler()\n",
        "scaler.fit(X_train)\n",
        "X_train=scaler.transform(X_train)\n",
        "X_test=scaler.transform(X_test)"
      ],
      "metadata": {
        "id": "qs_UDAg8FNTz"
      },
      "execution_count": null,
      "outputs": []
    },
    {
      "cell_type": "code",
      "source": [
        "model=SVC(kernel='rbf')\n",
        "model.fit(X_train,y_train)"
      ],
      "metadata": {
        "id": "VerSaIyIFNTz"
      },
      "execution_count": null,
      "outputs": []
    },
    {
      "cell_type": "code",
      "source": [
        "print(\"학습 데이터 점수:{}\".format(model.score(X_train, y_train)))\n",
        "print(\"평가 데이터 점수:{}\".format(model.score(X_test, y_test)))"
      ],
      "metadata": {
        "id": "1tdUIARJFNTz"
      },
      "execution_count": null,
      "outputs": []
    },
    {
      "cell_type": "code",
      "source": [
        "import numpy as np\n",
        "def make_meshgrid(x,y,h=.02):\n",
        "    x_min,x_max=x.min()-1,x.max()+1\n",
        "    y_min,y_max=y.min()-1,y.max()+1\n",
        "    xx,yy = np.meshgrid(np.arange(x_min,x_max,h),\n",
        "                        np.arange(y_min,y_max,h))\n",
        "    return xx, yy"
      ],
      "metadata": {
        "id": "J9fn92iwFNT0"
      },
      "execution_count": null,
      "outputs": []
    },
    {
      "cell_type": "code",
      "source": [
        "def plot_contours(clf,xx,yy,**params):\n",
        "    Z=clf.predict(np.c_[xx.ravel(),yy.ravel()])\n",
        "    Z=Z.reshape(xx.shape)\n",
        "    out=plt.contourf(xx,yy,Z,**params)\n",
        "\n",
        "    return out"
      ],
      "metadata": {
        "id": "WGAdT2RFFNT0"
      },
      "execution_count": null,
      "outputs": []
    },
    {
      "cell_type": "code",
      "source": [
        "X_comp=TSNE(n_components=2).fit_transform(X)\n",
        "X0,X1=X_comp[:,0],X_comp[:,1]\n",
        "xx,yy=make_meshgrid(X0,X1)"
      ],
      "metadata": {
        "id": "Co6tEe2bFNT0"
      },
      "execution_count": null,
      "outputs": []
    },
    {
      "cell_type": "code",
      "source": [
        "model.fit(X_comp,y)\n",
        "plot_contours(model, xx, yy, cmap=plt.cm.coolwarm, alpha=0.7)\n",
        "plt.scatter(X0,X1,c=y, cmap=plt.cm.coolwarm,s=20,edgecolors='k');\n"
      ],
      "metadata": {
        "id": "JVEzXXxGFNT0"
      },
      "execution_count": null,
      "outputs": []
    },
    {
      "cell_type": "code",
      "source": [
        "estimator=make_pipeline(StandardScaler(), SVC(kernel='linear'))\n",
        "cross_validate(\n",
        "    estimator=estimator,\n",
        "    X=X, y=y,\n",
        "    cv=5,\n",
        "    n_jobs=multiprocessing.cpu_count(),\n",
        "    verbose=True\n",
        ")"
      ],
      "metadata": {
        "id": "tDWb4cHdFNT0"
      },
      "execution_count": null,
      "outputs": []
    },
    {
      "cell_type": "code",
      "source": [
        "pipe=Pipeline([('scaler',StandardScaler()),\n",
        "               ('model', SVC(kernel='rbf'))])\n",
        "param_grid=[{'model__gamma':['scale','auto'],\n",
        "             'model__C':[1.0,0.1,0.01]}]\n",
        "        \n",
        "gs=GridSearchCV(\n",
        "    estimator=pipe,\n",
        "    param_grid = param_grid,\n",
        "    n_jobs=multiprocessing.cpu_count(),\n",
        "    cv=5,\n",
        "    verbose=True\n",
        ")\n",
        "gs.fit(X,y)\n"
      ],
      "metadata": {
        "id": "tkmfYcKgFNT0"
      },
      "execution_count": null,
      "outputs": []
    },
    {
      "cell_type": "code",
      "source": [
        "gs.best_estimator_"
      ],
      "metadata": {
        "id": "PjAybXmaFNT1"
      },
      "execution_count": null,
      "outputs": []
    },
    {
      "cell_type": "code",
      "source": [
        "model=gs.best_estimator_\n",
        "model.fit(X_train, y_train)"
      ],
      "metadata": {
        "id": "WbWafhPDFNT1"
      },
      "execution_count": null,
      "outputs": []
    },
    {
      "cell_type": "code",
      "source": [
        "print(\"학습 데이터 점수:{}\".format(model.score(X_train, y_train)))\n",
        "print(\"평가 데이터 점수:{}\".format(model.score(X_test, y_test)))"
      ],
      "metadata": {
        "id": "UkPUglCIFNT1"
      },
      "execution_count": null,
      "outputs": []
    },
    {
      "cell_type": "markdown",
      "source": [
        "#붓꽃"
      ],
      "metadata": {
        "id": "sSKe_XUwFNT1"
      }
    },
    {
      "cell_type": "code",
      "source": [
        "X,y=load_iris(return_X_y=True)\n",
        "X_train,X_test,y_train,y_test=train_test_split(X,y,test_size=0.2)"
      ],
      "metadata": {
        "id": "EcVHkr8tGyIg"
      },
      "execution_count": null,
      "outputs": []
    },
    {
      "cell_type": "code",
      "source": [
        "scaler=StandardScaler()\n",
        "scaler.fit(X_train)\n",
        "X_train=scaler.transform(X_train)\n",
        "X_test=scaler.transform(X_test)"
      ],
      "metadata": {
        "id": "APNY93AfGyIo"
      },
      "execution_count": null,
      "outputs": []
    },
    {
      "cell_type": "code",
      "source": [
        "model=SVC(kernel='rbf')\n",
        "model.fit(X_train,y_train)"
      ],
      "metadata": {
        "id": "lmRHyr8uGyIo"
      },
      "execution_count": null,
      "outputs": []
    },
    {
      "cell_type": "code",
      "source": [
        "print(\"학습 데이터 점수:{}\".format(model.score(X_train, y_train)))\n",
        "print(\"평가 데이터 점수:{}\".format(model.score(X_test, y_test)))"
      ],
      "metadata": {
        "id": "siwhVv3qGyIo"
      },
      "execution_count": null,
      "outputs": []
    },
    {
      "cell_type": "code",
      "source": [
        "import numpy as np\n",
        "def make_meshgrid(x,y,h=.02):\n",
        "    x_min,x_max=x.min()-1,x.max()+1\n",
        "    y_min,y_max=y.min()-1,y.max()+1\n",
        "    xx,yy = np.meshgrid(np.arange(x_min,x_max,h),\n",
        "                        np.arange(y_min,y_max,h))\n",
        "    return xx, yy"
      ],
      "metadata": {
        "id": "2KMNg9amGyIo"
      },
      "execution_count": null,
      "outputs": []
    },
    {
      "cell_type": "code",
      "source": [
        "def plot_contours(clf,xx,yy,**params):\n",
        "    Z=clf.predict(np.c_[xx.ravel(),yy.ravel()])\n",
        "    Z=Z.reshape(xx.shape)\n",
        "    out=plt.contourf(xx,yy,Z,**params)\n",
        "\n",
        "    return out"
      ],
      "metadata": {
        "id": "4NC8PzEGGyIp"
      },
      "execution_count": null,
      "outputs": []
    },
    {
      "cell_type": "code",
      "source": [
        "X_comp=TSNE(n_components=2).fit_transform(X)\n",
        "X0,X1=X_comp[:,0],X_comp[:,1]\n",
        "xx,yy=make_meshgrid(X0,X1)"
      ],
      "metadata": {
        "id": "YInmqtwHGyIp"
      },
      "execution_count": null,
      "outputs": []
    },
    {
      "cell_type": "code",
      "source": [
        "model.fit(X_comp,y)\n",
        "plot_contours(model, xx, yy, cmap=plt.cm.coolwarm, alpha=0.7)\n",
        "plt.scatter(X0,X1,c=y, cmap=plt.cm.coolwarm,s=20,edgecolors='k');\n"
      ],
      "metadata": {
        "id": "VrbxfefVGyIp"
      },
      "execution_count": null,
      "outputs": []
    },
    {
      "cell_type": "code",
      "source": [
        "estimator=make_pipeline(StandardScaler(), SVC(kernel='linear'))\n",
        "cross_validate(\n",
        "    estimator=estimator,\n",
        "    X=X, y=y,\n",
        "    cv=5,\n",
        "    n_jobs=multiprocessing.cpu_count(),\n",
        "    verbose=True\n",
        ")"
      ],
      "metadata": {
        "id": "o2JLj9yeGyIp"
      },
      "execution_count": null,
      "outputs": []
    },
    {
      "cell_type": "code",
      "source": [
        "pipe=Pipeline([('scaler',StandardScaler()),\n",
        "               ('model', SVC(kernel='rbf'))])\n",
        "param_grid=[{'model__gamma':['scale','auto'],\n",
        "             'model__C':[1.0,0.1,0.01]}]\n",
        "        \n",
        "gs=GridSearchCV(\n",
        "    estimator=pipe,\n",
        "    param_grid = param_grid,\n",
        "    n_jobs=multiprocessing.cpu_count(),\n",
        "    cv=5,\n",
        "    verbose=True\n",
        ")\n",
        "gs.fit(X,y)\n"
      ],
      "metadata": {
        "id": "Ba2OBkCZGyIp"
      },
      "execution_count": null,
      "outputs": []
    },
    {
      "cell_type": "code",
      "source": [
        "gs.best_estimator_"
      ],
      "metadata": {
        "id": "fQWr3p90GyIp"
      },
      "execution_count": null,
      "outputs": []
    },
    {
      "cell_type": "code",
      "source": [
        "model=gs.best_estimator_\n",
        "model.fit(X_train, y_train)"
      ],
      "metadata": {
        "id": "jHpfJnDSGyIp"
      },
      "execution_count": null,
      "outputs": []
    },
    {
      "cell_type": "code",
      "source": [
        "print(\"학습 데이터 점수:{}\".format(model.score(X_train, y_train)))\n",
        "print(\"평가 데이터 점수:{}\".format(model.score(X_test, y_test)))"
      ],
      "metadata": {
        "id": "Wb_Reyn7GyIp"
      },
      "execution_count": null,
      "outputs": []
    },
    {
      "cell_type": "markdown",
      "source": [
        "#와인"
      ],
      "metadata": {
        "id": "HEmPL3W6GyIp"
      }
    },
    {
      "cell_type": "code",
      "source": [
        "X,y=load_wine(return_X_y=True)\n",
        "X_train,X_test,y_train,y_test=train_test_split(X,y,test_size=0.2)"
      ],
      "metadata": {
        "id": "lnd33uhXITwI"
      },
      "execution_count": null,
      "outputs": []
    },
    {
      "cell_type": "code",
      "source": [
        "scaler=StandardScaler()\n",
        "scaler.fit(X_train)\n",
        "X_train=scaler.transform(X_train)\n",
        "X_test=scaler.transform(X_test)"
      ],
      "metadata": {
        "id": "BRs-k5SJITwI"
      },
      "execution_count": null,
      "outputs": []
    },
    {
      "cell_type": "code",
      "source": [
        "model=SVC(kernel='rbf')\n",
        "model.fit(X_train,y_train)"
      ],
      "metadata": {
        "id": "AqDnllyCITwI"
      },
      "execution_count": null,
      "outputs": []
    },
    {
      "cell_type": "code",
      "source": [
        "print(\"학습 데이터 점수:{}\".format(model.score(X_train, y_train)))\n",
        "print(\"평가 데이터 점수:{}\".format(model.score(X_test, y_test)))"
      ],
      "metadata": {
        "id": "MAH4tGJLITwI"
      },
      "execution_count": null,
      "outputs": []
    },
    {
      "cell_type": "code",
      "source": [
        "import numpy as np\n",
        "def make_meshgrid(x,y,h=.02):\n",
        "    x_min,x_max=x.min()-1,x.max()+1\n",
        "    y_min,y_max=y.min()-1,y.max()+1\n",
        "    xx,yy = np.meshgrid(np.arange(x_min,x_max,h),\n",
        "                        np.arange(y_min,y_max,h))\n",
        "    return xx, yy"
      ],
      "metadata": {
        "id": "QnvGR6Y6ITwJ"
      },
      "execution_count": null,
      "outputs": []
    },
    {
      "cell_type": "code",
      "source": [
        "def plot_contours(clf,xx,yy,**params):\n",
        "    Z=clf.predict(np.c_[xx.ravel(),yy.ravel()])\n",
        "    Z=Z.reshape(xx.shape)\n",
        "    out=plt.contourf(xx,yy,Z,**params)\n",
        "\n",
        "    return out"
      ],
      "metadata": {
        "id": "ZVFvQjqHITwK"
      },
      "execution_count": null,
      "outputs": []
    },
    {
      "cell_type": "code",
      "source": [
        "X_comp=TSNE(n_components=2).fit_transform(X)\n",
        "X0,X1=X_comp[:,0],X_comp[:,1]\n",
        "xx,yy=make_meshgrid(X0,X1)"
      ],
      "metadata": {
        "id": "gLdVMYJZITwK"
      },
      "execution_count": null,
      "outputs": []
    },
    {
      "cell_type": "code",
      "source": [
        "model.fit(X_comp,y)\n",
        "plot_contours(model, xx, yy, cmap=plt.cm.coolwarm, alpha=0.7)\n",
        "plt.scatter(X0,X1,c=y, cmap=plt.cm.coolwarm,s=20,edgecolors='k');\n"
      ],
      "metadata": {
        "id": "BmcZibkSITwK"
      },
      "execution_count": null,
      "outputs": []
    },
    {
      "cell_type": "code",
      "source": [
        "estimator=make_pipeline(StandardScaler(), SVC(kernel='linear'))\n",
        "cross_validate(\n",
        "    estimator=estimator,\n",
        "    X=X, y=y,\n",
        "    cv=5,\n",
        "    n_jobs=multiprocessing.cpu_count(),\n",
        "    verbose=True\n",
        ")"
      ],
      "metadata": {
        "id": "w-2eb8AZITwK"
      },
      "execution_count": null,
      "outputs": []
    },
    {
      "cell_type": "code",
      "source": [
        "pipe=Pipeline([('scaler',StandardScaler()),\n",
        "               ('model', SVC(kernel='rbf'))])\n",
        "param_grid=[{'model__gamma':['scale','auto'],\n",
        "             'model__C':[1.0,0.1,0.01]}]\n",
        "        \n",
        "gs=GridSearchCV(\n",
        "    estimator=pipe,\n",
        "    param_grid = param_grid,\n",
        "    n_jobs=multiprocessing.cpu_count(),\n",
        "    cv=5,\n",
        "    verbose=True\n",
        ")\n",
        "gs.fit(X,y)\n"
      ],
      "metadata": {
        "id": "WesvtmXNITwL"
      },
      "execution_count": null,
      "outputs": []
    },
    {
      "cell_type": "code",
      "source": [
        "gs.best_estimator_"
      ],
      "metadata": {
        "id": "E2uxPJqtITwL"
      },
      "execution_count": null,
      "outputs": []
    },
    {
      "cell_type": "code",
      "source": [
        "model=gs.best_estimator_\n",
        "model.fit(X_train, y_train)"
      ],
      "metadata": {
        "id": "iJAPseeVITwL"
      },
      "execution_count": null,
      "outputs": []
    },
    {
      "cell_type": "code",
      "source": [
        "print(\"학습 데이터 점수:{}\".format(model.score(X_train, y_train)))\n",
        "print(\"평가 데이터 점수:{}\".format(model.score(X_test, y_test)))"
      ],
      "metadata": {
        "id": "7M8lHtm-ITwL"
      },
      "execution_count": null,
      "outputs": []
    },
    {
      "cell_type": "markdown",
      "source": [
        "#end"
      ],
      "metadata": {
        "id": "FuXEi1tnITwL"
      }
    },
    {
      "cell_type": "code",
      "source": [
        "#no end-----------------------------------"
      ],
      "metadata": {
        "id": "wLB7FFnv4LAN"
      },
      "execution_count": null,
      "outputs": []
    },
    {
      "cell_type": "code",
      "source": [],
      "metadata": {
        "id": "qWqBLAPFJl7l"
      },
      "execution_count": null,
      "outputs": []
    }
  ]
}