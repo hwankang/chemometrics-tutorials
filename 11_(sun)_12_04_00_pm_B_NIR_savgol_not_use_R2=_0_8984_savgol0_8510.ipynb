{
  "nbformat": 4,
  "nbformat_minor": 0,
  "metadata": {
    "colab": {
      "provenance": [],
      "authorship_tag": "ABX9TyPSoQMAzG5dhO+8XhGIdqtB",
      "include_colab_link": true
    },
    "kernelspec": {
      "name": "python3",
      "display_name": "Python 3"
    },
    "language_info": {
      "name": "python"
    },
    "gpuClass": "standard"
  },
  "cells": [
    {
      "cell_type": "markdown",
      "metadata": {
        "id": "view-in-github",
        "colab_type": "text"
      },
      "source": [
        "<a href=\"https://colab.research.google.com/github/hwankang/chemometrics-tutorials/blob/master/11_(sun)_12_04_00_pm_B_NIR_savgol_not_use_R2%3D_0_8984_savgol0_8510.ipynb\" target=\"_parent\"><img src=\"https://colab.research.google.com/assets/colab-badge.svg\" alt=\"Open In Colab\"/></a>"
      ]
    },
    {
      "cell_type": "markdown",
      "source": [],
      "metadata": {
        "id": "8LessEUrBRsL"
      }
    },
    {
      "cell_type": "code",
      "execution_count": null,
      "metadata": {
        "id": "vbT_RUth2V70"
      },
      "outputs": [],
      "source": [
        "import numpy as np # linear algebra\n",
        "import pandas as pd # data processing, CSV file I/O (e.g. pd.read_csv)\n",
        "\n",
        "import plotly.graph_objects as go\n",
        "import plotly.express as px\n",
        "\n",
        "from scipy.signal import savgol_filter\n",
        "\n",
        "import matplotlib.pyplot as plt\n",
        "import seaborn as sns\n",
        "\n",
        "from sklearn.model_selection import KFold, cross_val_predict\n",
        "from sklearn.cross_decomposition import PLSRegression\n",
        "from sklearn.metrics import mean_squared_error, r2_score"
      ]
    },
    {
      "cell_type": "code",
      "source": [
        "from google.colab import drive\n",
        "drive.mount('/content/drive')"
      ],
      "metadata": {
        "colab": {
          "base_uri": "https://localhost:8080/"
        },
        "id": "mLuSTGZ04KvA",
        "outputId": "36c66582-121e-4cb8-fac5-819a85d49717"
      },
      "execution_count": null,
      "outputs": [
        {
          "output_type": "stream",
          "name": "stdout",
          "text": [
            "Mounted at /content/drive\n"
          ]
        }
      ]
    },
    {
      "cell_type": "code",
      "source": [
        "filename_a='/content/drive/MyDrive/machine_learning/B_NIR_DATA_csv.csv'\n",
        "import pandas as pd\n",
        "data_a = pd.read_csv(filename_a,header=0, \n",
        "                   encoding=\"unicode-escape\")\n",
        "data=data_a"
      ],
      "metadata": {
        "id": "m1DHyMAl43Lc"
      },
      "execution_count": null,
      "outputs": []
    },
    {
      "cell_type": "code",
      "source": [
        "data.head()"
      ],
      "metadata": {
        "colab": {
          "base_uri": "https://localhost:8080/",
          "height": 317
        },
        "id": "TPNnS0LT5BsV",
        "outputId": "0935f3f6-746e-4f0f-b430-a42f676c79bd"
      },
      "execution_count": null,
      "outputs": [
        {
          "output_type": "execute_result",
          "data": {
            "text/plain": [
              "   Unnamed: 0  ¸ðµ¨ Æ÷ÇÔ  Y_B  899.9280058  900.2520706  900.5763689  \\\n",
              "0           1       True  2.0     0.276093     0.279368     0.282974   \n",
              "1           2       True  1.8     0.199544     0.202455     0.206198   \n",
              "2           3       True  6.7     0.306803     0.309845     0.313508   \n",
              "3           4       True  6.2     0.286879     0.290392     0.294110   \n",
              "4           5      False  5.1     0.253218     0.256407     0.260161   \n",
              "\n",
              "   900.9009009  901.2256669  901.5506671  901.8759019  ...  2477.700694  \\\n",
              "0     0.283645     0.283141     0.282718     0.281553  ...     2.949425   \n",
              "1     0.207755     0.208028     0.207398     0.205435  ...     2.981332   \n",
              "2     0.314680     0.314671     0.314172     0.312433  ...     2.991938   \n",
              "3     0.294774     0.294035     0.293060     0.291292  ...     2.991402   \n",
              "4     0.261418     0.261547     0.261116     0.259408  ...     3.004459   \n",
              "\n",
              "   2480.15873  2482.621648  2485.089463  2487.562189  2490.039841  \\\n",
              "0    2.949937     2.940435     2.930193     2.927044     2.926591   \n",
              "1    2.984826     2.975499     2.964666     2.964128     2.967567   \n",
              "2    2.992541     2.984488     2.976776     2.975918     2.973828   \n",
              "3    2.990624     2.980183     2.970664     2.967151     2.961850   \n",
              "4    3.005398     3.000151     2.995331     2.997660     2.999729   \n",
              "\n",
              "   2492.522433  2495.00998  2497.502498      2500  \n",
              "0     2.917971    2.911627     2.911584  2.909855  \n",
              "1     2.960830    2.954538     2.956946  2.955335  \n",
              "2     2.963011    2.955492     2.954702  2.949301  \n",
              "3     2.948892    2.939125     2.938542  2.934796  \n",
              "4     2.992129    2.987290     2.988690  2.987576  \n",
              "\n",
              "[5 rows x 1782 columns]"
            ],
            "text/html": [
              "\n",
              "  <div id=\"df-227df55c-c118-47fe-8b3a-d729ea45ed7c\">\n",
              "    <div class=\"colab-df-container\">\n",
              "      <div>\n",
              "<style scoped>\n",
              "    .dataframe tbody tr th:only-of-type {\n",
              "        vertical-align: middle;\n",
              "    }\n",
              "\n",
              "    .dataframe tbody tr th {\n",
              "        vertical-align: top;\n",
              "    }\n",
              "\n",
              "    .dataframe thead th {\n",
              "        text-align: right;\n",
              "    }\n",
              "</style>\n",
              "<table border=\"1\" class=\"dataframe\">\n",
              "  <thead>\n",
              "    <tr style=\"text-align: right;\">\n",
              "      <th></th>\n",
              "      <th>Unnamed: 0</th>\n",
              "      <th>¸ðµ¨ Æ÷ÇÔ</th>\n",
              "      <th>Y_B</th>\n",
              "      <th>899.9280058</th>\n",
              "      <th>900.2520706</th>\n",
              "      <th>900.5763689</th>\n",
              "      <th>900.9009009</th>\n",
              "      <th>901.2256669</th>\n",
              "      <th>901.5506671</th>\n",
              "      <th>901.8759019</th>\n",
              "      <th>...</th>\n",
              "      <th>2477.700694</th>\n",
              "      <th>2480.15873</th>\n",
              "      <th>2482.621648</th>\n",
              "      <th>2485.089463</th>\n",
              "      <th>2487.562189</th>\n",
              "      <th>2490.039841</th>\n",
              "      <th>2492.522433</th>\n",
              "      <th>2495.00998</th>\n",
              "      <th>2497.502498</th>\n",
              "      <th>2500</th>\n",
              "    </tr>\n",
              "  </thead>\n",
              "  <tbody>\n",
              "    <tr>\n",
              "      <th>0</th>\n",
              "      <td>1</td>\n",
              "      <td>True</td>\n",
              "      <td>2.0</td>\n",
              "      <td>0.276093</td>\n",
              "      <td>0.279368</td>\n",
              "      <td>0.282974</td>\n",
              "      <td>0.283645</td>\n",
              "      <td>0.283141</td>\n",
              "      <td>0.282718</td>\n",
              "      <td>0.281553</td>\n",
              "      <td>...</td>\n",
              "      <td>2.949425</td>\n",
              "      <td>2.949937</td>\n",
              "      <td>2.940435</td>\n",
              "      <td>2.930193</td>\n",
              "      <td>2.927044</td>\n",
              "      <td>2.926591</td>\n",
              "      <td>2.917971</td>\n",
              "      <td>2.911627</td>\n",
              "      <td>2.911584</td>\n",
              "      <td>2.909855</td>\n",
              "    </tr>\n",
              "    <tr>\n",
              "      <th>1</th>\n",
              "      <td>2</td>\n",
              "      <td>True</td>\n",
              "      <td>1.8</td>\n",
              "      <td>0.199544</td>\n",
              "      <td>0.202455</td>\n",
              "      <td>0.206198</td>\n",
              "      <td>0.207755</td>\n",
              "      <td>0.208028</td>\n",
              "      <td>0.207398</td>\n",
              "      <td>0.205435</td>\n",
              "      <td>...</td>\n",
              "      <td>2.981332</td>\n",
              "      <td>2.984826</td>\n",
              "      <td>2.975499</td>\n",
              "      <td>2.964666</td>\n",
              "      <td>2.964128</td>\n",
              "      <td>2.967567</td>\n",
              "      <td>2.960830</td>\n",
              "      <td>2.954538</td>\n",
              "      <td>2.956946</td>\n",
              "      <td>2.955335</td>\n",
              "    </tr>\n",
              "    <tr>\n",
              "      <th>2</th>\n",
              "      <td>3</td>\n",
              "      <td>True</td>\n",
              "      <td>6.7</td>\n",
              "      <td>0.306803</td>\n",
              "      <td>0.309845</td>\n",
              "      <td>0.313508</td>\n",
              "      <td>0.314680</td>\n",
              "      <td>0.314671</td>\n",
              "      <td>0.314172</td>\n",
              "      <td>0.312433</td>\n",
              "      <td>...</td>\n",
              "      <td>2.991938</td>\n",
              "      <td>2.992541</td>\n",
              "      <td>2.984488</td>\n",
              "      <td>2.976776</td>\n",
              "      <td>2.975918</td>\n",
              "      <td>2.973828</td>\n",
              "      <td>2.963011</td>\n",
              "      <td>2.955492</td>\n",
              "      <td>2.954702</td>\n",
              "      <td>2.949301</td>\n",
              "    </tr>\n",
              "    <tr>\n",
              "      <th>3</th>\n",
              "      <td>4</td>\n",
              "      <td>True</td>\n",
              "      <td>6.2</td>\n",
              "      <td>0.286879</td>\n",
              "      <td>0.290392</td>\n",
              "      <td>0.294110</td>\n",
              "      <td>0.294774</td>\n",
              "      <td>0.294035</td>\n",
              "      <td>0.293060</td>\n",
              "      <td>0.291292</td>\n",
              "      <td>...</td>\n",
              "      <td>2.991402</td>\n",
              "      <td>2.990624</td>\n",
              "      <td>2.980183</td>\n",
              "      <td>2.970664</td>\n",
              "      <td>2.967151</td>\n",
              "      <td>2.961850</td>\n",
              "      <td>2.948892</td>\n",
              "      <td>2.939125</td>\n",
              "      <td>2.938542</td>\n",
              "      <td>2.934796</td>\n",
              "    </tr>\n",
              "    <tr>\n",
              "      <th>4</th>\n",
              "      <td>5</td>\n",
              "      <td>False</td>\n",
              "      <td>5.1</td>\n",
              "      <td>0.253218</td>\n",
              "      <td>0.256407</td>\n",
              "      <td>0.260161</td>\n",
              "      <td>0.261418</td>\n",
              "      <td>0.261547</td>\n",
              "      <td>0.261116</td>\n",
              "      <td>0.259408</td>\n",
              "      <td>...</td>\n",
              "      <td>3.004459</td>\n",
              "      <td>3.005398</td>\n",
              "      <td>3.000151</td>\n",
              "      <td>2.995331</td>\n",
              "      <td>2.997660</td>\n",
              "      <td>2.999729</td>\n",
              "      <td>2.992129</td>\n",
              "      <td>2.987290</td>\n",
              "      <td>2.988690</td>\n",
              "      <td>2.987576</td>\n",
              "    </tr>\n",
              "  </tbody>\n",
              "</table>\n",
              "<p>5 rows × 1782 columns</p>\n",
              "</div>\n",
              "      <button class=\"colab-df-convert\" onclick=\"convertToInteractive('df-227df55c-c118-47fe-8b3a-d729ea45ed7c')\"\n",
              "              title=\"Convert this dataframe to an interactive table.\"\n",
              "              style=\"display:none;\">\n",
              "        \n",
              "  <svg xmlns=\"http://www.w3.org/2000/svg\" height=\"24px\"viewBox=\"0 0 24 24\"\n",
              "       width=\"24px\">\n",
              "    <path d=\"M0 0h24v24H0V0z\" fill=\"none\"/>\n",
              "    <path d=\"M18.56 5.44l.94 2.06.94-2.06 2.06-.94-2.06-.94-.94-2.06-.94 2.06-2.06.94zm-11 1L8.5 8.5l.94-2.06 2.06-.94-2.06-.94L8.5 2.5l-.94 2.06-2.06.94zm10 10l.94 2.06.94-2.06 2.06-.94-2.06-.94-.94-2.06-.94 2.06-2.06.94z\"/><path d=\"M17.41 7.96l-1.37-1.37c-.4-.4-.92-.59-1.43-.59-.52 0-1.04.2-1.43.59L10.3 9.45l-7.72 7.72c-.78.78-.78 2.05 0 2.83L4 21.41c.39.39.9.59 1.41.59.51 0 1.02-.2 1.41-.59l7.78-7.78 2.81-2.81c.8-.78.8-2.07 0-2.86zM5.41 20L4 18.59l7.72-7.72 1.47 1.35L5.41 20z\"/>\n",
              "  </svg>\n",
              "      </button>\n",
              "      \n",
              "  <style>\n",
              "    .colab-df-container {\n",
              "      display:flex;\n",
              "      flex-wrap:wrap;\n",
              "      gap: 12px;\n",
              "    }\n",
              "\n",
              "    .colab-df-convert {\n",
              "      background-color: #E8F0FE;\n",
              "      border: none;\n",
              "      border-radius: 50%;\n",
              "      cursor: pointer;\n",
              "      display: none;\n",
              "      fill: #1967D2;\n",
              "      height: 32px;\n",
              "      padding: 0 0 0 0;\n",
              "      width: 32px;\n",
              "    }\n",
              "\n",
              "    .colab-df-convert:hover {\n",
              "      background-color: #E2EBFA;\n",
              "      box-shadow: 0px 1px 2px rgba(60, 64, 67, 0.3), 0px 1px 3px 1px rgba(60, 64, 67, 0.15);\n",
              "      fill: #174EA6;\n",
              "    }\n",
              "\n",
              "    [theme=dark] .colab-df-convert {\n",
              "      background-color: #3B4455;\n",
              "      fill: #D2E3FC;\n",
              "    }\n",
              "\n",
              "    [theme=dark] .colab-df-convert:hover {\n",
              "      background-color: #434B5C;\n",
              "      box-shadow: 0px 1px 3px 1px rgba(0, 0, 0, 0.15);\n",
              "      filter: drop-shadow(0px 1px 2px rgba(0, 0, 0, 0.3));\n",
              "      fill: #FFFFFF;\n",
              "    }\n",
              "  </style>\n",
              "\n",
              "      <script>\n",
              "        const buttonEl =\n",
              "          document.querySelector('#df-227df55c-c118-47fe-8b3a-d729ea45ed7c button.colab-df-convert');\n",
              "        buttonEl.style.display =\n",
              "          google.colab.kernel.accessAllowed ? 'block' : 'none';\n",
              "\n",
              "        async function convertToInteractive(key) {\n",
              "          const element = document.querySelector('#df-227df55c-c118-47fe-8b3a-d729ea45ed7c');\n",
              "          const dataTable =\n",
              "            await google.colab.kernel.invokeFunction('convertToInteractive',\n",
              "                                                     [key], {});\n",
              "          if (!dataTable) return;\n",
              "\n",
              "          const docLinkHtml = 'Like what you see? Visit the ' +\n",
              "            '<a target=\"_blank\" href=https://colab.research.google.com/notebooks/data_table.ipynb>data table notebook</a>'\n",
              "            + ' to learn more about interactive tables.';\n",
              "          element.innerHTML = '';\n",
              "          dataTable['output_type'] = 'display_data';\n",
              "          await google.colab.output.renderOutput(dataTable, element);\n",
              "          const docLink = document.createElement('div');\n",
              "          docLink.innerHTML = docLinkHtml;\n",
              "          element.appendChild(docLink);\n",
              "        }\n",
              "      </script>\n",
              "    </div>\n",
              "  </div>\n",
              "  "
            ]
          },
          "metadata": {},
          "execution_count": 7
        }
      ]
    },
    {
      "cell_type": "code",
      "source": [
        "xlen, ylen=data.shape\n",
        "xlen, ylen"
      ],
      "metadata": {
        "id": "ppgqtjVrgXtJ",
        "outputId": "1736d6aa-d692-4b4c-b225-8b3ede33680e",
        "colab": {
          "base_uri": "https://localhost:8080/"
        }
      },
      "execution_count": null,
      "outputs": [
        {
          "output_type": "execute_result",
          "data": {
            "text/plain": [
              "(624, 1782)"
            ]
          },
          "metadata": {},
          "execution_count": 45
        }
      ]
    },
    {
      "cell_type": "code",
      "source": [
        "xx2=data.columns[1]\n",
        "xx2"
      ],
      "metadata": {
        "id": "UK06tsrrgxSU",
        "outputId": "a6a1a2ab-5401-4b01-87fb-18e09ef5306a",
        "colab": {
          "base_uri": "https://localhost:8080/",
          "height": 35
        }
      },
      "execution_count": null,
      "outputs": [
        {
          "output_type": "execute_result",
          "data": {
            "text/plain": [
              "'¸ðµ¨ Æ÷ÇÔ'"
            ],
            "application/vnd.google.colaboratory.intrinsic+json": {
              "type": "string"
            }
          },
          "metadata": {},
          "execution_count": 25
        }
      ]
    },
    {
      "cell_type": "code",
      "source": [
        "xxx=range(6)\n",
        "xxx"
      ],
      "metadata": {
        "id": "nI3ZBjOvi-hY",
        "outputId": "8f54b879-a170-4f05-a788-24d83fa128aa",
        "colab": {
          "base_uri": "https://localhost:8080/"
        }
      },
      "execution_count": null,
      "outputs": [
        {
          "output_type": "execute_result",
          "data": {
            "text/plain": [
              "range(0, 6)"
            ]
          },
          "metadata": {},
          "execution_count": 38
        }
      ]
    },
    {
      "cell_type": "code",
      "source": [
        "data[xx2].values[4]==False"
      ],
      "metadata": {
        "id": "h0mvqPY3j6fJ",
        "outputId": "df05139d-c685-49e1-f407-48ac25c415b1",
        "colab": {
          "base_uri": "https://localhost:8080/"
        }
      },
      "execution_count": null,
      "outputs": [
        {
          "output_type": "execute_result",
          "data": {
            "text/plain": [
              "True"
            ]
          },
          "metadata": {},
          "execution_count": 44
        }
      ]
    },
    {
      "cell_type": "code",
      "source": [
        "a1=[]\n",
        "#xlen-6\n",
        "for i in range(0,xlen):\n",
        "    if data[xx2].values[i]==False:\n",
        "        a1.append(i)\n",
        "data2=data.drop(a1,axis=0)\n",
        "data2"
      ],
      "metadata": {
        "id": "41GBpg7eiKLM",
        "outputId": "0529a665-61a8-428c-d279-a964a89427cc",
        "colab": {
          "base_uri": "https://localhost:8080/",
          "height": 505
        }
      },
      "execution_count": null,
      "outputs": [
        {
          "output_type": "execute_result",
          "data": {
            "text/plain": [
              "     Unnamed: 0  ¸ðµ¨ Æ÷ÇÔ   Y_B  899.9280058  900.2520706  900.5763689  \\\n",
              "0             1       True   2.0     0.276093     0.279368     0.282974   \n",
              "1             2       True   1.8     0.199544     0.202455     0.206198   \n",
              "2             3       True   6.7     0.306803     0.309845     0.313508   \n",
              "3             4       True   6.2     0.286879     0.290392     0.294110   \n",
              "12           13       True   2.2     0.137633     0.141045     0.144793   \n",
              "..          ...        ...   ...          ...          ...          ...   \n",
              "619         620       True   8.6     0.231522     0.230534     0.231280   \n",
              "620         621       True  10.8     0.227531     0.226628     0.227406   \n",
              "621         622       True  12.2     0.224536     0.223379     0.224203   \n",
              "622         623       True  13.4     0.226519     0.225667     0.226440   \n",
              "623         624       True  15.8     0.233873     0.232724     0.233435   \n",
              "\n",
              "     900.9009009  901.2256669  901.5506671  901.8759019  ...  2477.700694  \\\n",
              "0       0.283645     0.283141     0.282718     0.281553  ...     2.949425   \n",
              "1       0.207755     0.208028     0.207398     0.205435  ...     2.981332   \n",
              "2       0.314680     0.314671     0.314172     0.312433  ...     2.991938   \n",
              "3       0.294774     0.294035     0.293060     0.291292  ...     2.991402   \n",
              "12      0.145757     0.145570     0.145180     0.143793  ...     2.912618   \n",
              "..           ...          ...          ...          ...  ...          ...   \n",
              "619     0.231104     0.230198     0.229698     0.229015  ...     2.925508   \n",
              "620     0.227385     0.226585     0.225993     0.225327  ...     2.945441   \n",
              "621     0.224431     0.223999     0.223736     0.222991  ...     2.966221   \n",
              "622     0.226193     0.225218     0.224726     0.224143  ...     2.936783   \n",
              "623     0.233191     0.232077     0.231309     0.230551  ...     2.936938   \n",
              "\n",
              "     2480.15873  2482.621648  2485.089463  2487.562189  2490.039841  \\\n",
              "0      2.949937     2.940435     2.930193     2.927044     2.926591   \n",
              "1      2.984826     2.975499     2.964666     2.964128     2.967567   \n",
              "2      2.992541     2.984488     2.976776     2.975918     2.973828   \n",
              "3      2.990624     2.980183     2.970664     2.967151     2.961850   \n",
              "12     2.911201     2.898590     2.887394     2.886869     2.887019   \n",
              "..          ...          ...          ...          ...          ...   \n",
              "619    2.927053     2.920447     2.915572     2.920224     2.922330   \n",
              "620    2.943505     2.933849     2.929372     2.934153     2.933573   \n",
              "621    2.969063     2.961253     2.952713     2.949854     2.944465   \n",
              "622    2.939133     2.927408     2.915374     2.913538     2.912847   \n",
              "623    2.938734     2.926707     2.915750     2.916544     2.919218   \n",
              "\n",
              "     2492.522433  2495.00998  2497.502498      2500  \n",
              "0       2.917971    2.911627     2.911584  2.909855  \n",
              "1       2.960830    2.954538     2.956946  2.955335  \n",
              "2       2.963011    2.955492     2.954702  2.949301  \n",
              "3       2.948892    2.939125     2.938542  2.934796  \n",
              "12      2.875892    2.863482     2.862177  2.858754  \n",
              "..           ...         ...          ...       ...  \n",
              "619     2.909775    2.897480     2.897737  2.897391  \n",
              "620     2.921115    2.910637     2.914499  2.916288  \n",
              "621     2.929207    2.920399     2.922437  2.923226  \n",
              "622     2.901005    2.891991     2.894289  2.893951  \n",
              "623     2.910248    2.899414     2.894074  2.890147  \n",
              "\n",
              "[313 rows x 1782 columns]"
            ],
            "text/html": [
              "\n",
              "  <div id=\"df-63bc2df9-2dc5-4837-b52a-50e694e724be\">\n",
              "    <div class=\"colab-df-container\">\n",
              "      <div>\n",
              "<style scoped>\n",
              "    .dataframe tbody tr th:only-of-type {\n",
              "        vertical-align: middle;\n",
              "    }\n",
              "\n",
              "    .dataframe tbody tr th {\n",
              "        vertical-align: top;\n",
              "    }\n",
              "\n",
              "    .dataframe thead th {\n",
              "        text-align: right;\n",
              "    }\n",
              "</style>\n",
              "<table border=\"1\" class=\"dataframe\">\n",
              "  <thead>\n",
              "    <tr style=\"text-align: right;\">\n",
              "      <th></th>\n",
              "      <th>Unnamed: 0</th>\n",
              "      <th>¸ðµ¨ Æ÷ÇÔ</th>\n",
              "      <th>Y_B</th>\n",
              "      <th>899.9280058</th>\n",
              "      <th>900.2520706</th>\n",
              "      <th>900.5763689</th>\n",
              "      <th>900.9009009</th>\n",
              "      <th>901.2256669</th>\n",
              "      <th>901.5506671</th>\n",
              "      <th>901.8759019</th>\n",
              "      <th>...</th>\n",
              "      <th>2477.700694</th>\n",
              "      <th>2480.15873</th>\n",
              "      <th>2482.621648</th>\n",
              "      <th>2485.089463</th>\n",
              "      <th>2487.562189</th>\n",
              "      <th>2490.039841</th>\n",
              "      <th>2492.522433</th>\n",
              "      <th>2495.00998</th>\n",
              "      <th>2497.502498</th>\n",
              "      <th>2500</th>\n",
              "    </tr>\n",
              "  </thead>\n",
              "  <tbody>\n",
              "    <tr>\n",
              "      <th>0</th>\n",
              "      <td>1</td>\n",
              "      <td>True</td>\n",
              "      <td>2.0</td>\n",
              "      <td>0.276093</td>\n",
              "      <td>0.279368</td>\n",
              "      <td>0.282974</td>\n",
              "      <td>0.283645</td>\n",
              "      <td>0.283141</td>\n",
              "      <td>0.282718</td>\n",
              "      <td>0.281553</td>\n",
              "      <td>...</td>\n",
              "      <td>2.949425</td>\n",
              "      <td>2.949937</td>\n",
              "      <td>2.940435</td>\n",
              "      <td>2.930193</td>\n",
              "      <td>2.927044</td>\n",
              "      <td>2.926591</td>\n",
              "      <td>2.917971</td>\n",
              "      <td>2.911627</td>\n",
              "      <td>2.911584</td>\n",
              "      <td>2.909855</td>\n",
              "    </tr>\n",
              "    <tr>\n",
              "      <th>1</th>\n",
              "      <td>2</td>\n",
              "      <td>True</td>\n",
              "      <td>1.8</td>\n",
              "      <td>0.199544</td>\n",
              "      <td>0.202455</td>\n",
              "      <td>0.206198</td>\n",
              "      <td>0.207755</td>\n",
              "      <td>0.208028</td>\n",
              "      <td>0.207398</td>\n",
              "      <td>0.205435</td>\n",
              "      <td>...</td>\n",
              "      <td>2.981332</td>\n",
              "      <td>2.984826</td>\n",
              "      <td>2.975499</td>\n",
              "      <td>2.964666</td>\n",
              "      <td>2.964128</td>\n",
              "      <td>2.967567</td>\n",
              "      <td>2.960830</td>\n",
              "      <td>2.954538</td>\n",
              "      <td>2.956946</td>\n",
              "      <td>2.955335</td>\n",
              "    </tr>\n",
              "    <tr>\n",
              "      <th>2</th>\n",
              "      <td>3</td>\n",
              "      <td>True</td>\n",
              "      <td>6.7</td>\n",
              "      <td>0.306803</td>\n",
              "      <td>0.309845</td>\n",
              "      <td>0.313508</td>\n",
              "      <td>0.314680</td>\n",
              "      <td>0.314671</td>\n",
              "      <td>0.314172</td>\n",
              "      <td>0.312433</td>\n",
              "      <td>...</td>\n",
              "      <td>2.991938</td>\n",
              "      <td>2.992541</td>\n",
              "      <td>2.984488</td>\n",
              "      <td>2.976776</td>\n",
              "      <td>2.975918</td>\n",
              "      <td>2.973828</td>\n",
              "      <td>2.963011</td>\n",
              "      <td>2.955492</td>\n",
              "      <td>2.954702</td>\n",
              "      <td>2.949301</td>\n",
              "    </tr>\n",
              "    <tr>\n",
              "      <th>3</th>\n",
              "      <td>4</td>\n",
              "      <td>True</td>\n",
              "      <td>6.2</td>\n",
              "      <td>0.286879</td>\n",
              "      <td>0.290392</td>\n",
              "      <td>0.294110</td>\n",
              "      <td>0.294774</td>\n",
              "      <td>0.294035</td>\n",
              "      <td>0.293060</td>\n",
              "      <td>0.291292</td>\n",
              "      <td>...</td>\n",
              "      <td>2.991402</td>\n",
              "      <td>2.990624</td>\n",
              "      <td>2.980183</td>\n",
              "      <td>2.970664</td>\n",
              "      <td>2.967151</td>\n",
              "      <td>2.961850</td>\n",
              "      <td>2.948892</td>\n",
              "      <td>2.939125</td>\n",
              "      <td>2.938542</td>\n",
              "      <td>2.934796</td>\n",
              "    </tr>\n",
              "    <tr>\n",
              "      <th>12</th>\n",
              "      <td>13</td>\n",
              "      <td>True</td>\n",
              "      <td>2.2</td>\n",
              "      <td>0.137633</td>\n",
              "      <td>0.141045</td>\n",
              "      <td>0.144793</td>\n",
              "      <td>0.145757</td>\n",
              "      <td>0.145570</td>\n",
              "      <td>0.145180</td>\n",
              "      <td>0.143793</td>\n",
              "      <td>...</td>\n",
              "      <td>2.912618</td>\n",
              "      <td>2.911201</td>\n",
              "      <td>2.898590</td>\n",
              "      <td>2.887394</td>\n",
              "      <td>2.886869</td>\n",
              "      <td>2.887019</td>\n",
              "      <td>2.875892</td>\n",
              "      <td>2.863482</td>\n",
              "      <td>2.862177</td>\n",
              "      <td>2.858754</td>\n",
              "    </tr>\n",
              "    <tr>\n",
              "      <th>...</th>\n",
              "      <td>...</td>\n",
              "      <td>...</td>\n",
              "      <td>...</td>\n",
              "      <td>...</td>\n",
              "      <td>...</td>\n",
              "      <td>...</td>\n",
              "      <td>...</td>\n",
              "      <td>...</td>\n",
              "      <td>...</td>\n",
              "      <td>...</td>\n",
              "      <td>...</td>\n",
              "      <td>...</td>\n",
              "      <td>...</td>\n",
              "      <td>...</td>\n",
              "      <td>...</td>\n",
              "      <td>...</td>\n",
              "      <td>...</td>\n",
              "      <td>...</td>\n",
              "      <td>...</td>\n",
              "      <td>...</td>\n",
              "      <td>...</td>\n",
              "    </tr>\n",
              "    <tr>\n",
              "      <th>619</th>\n",
              "      <td>620</td>\n",
              "      <td>True</td>\n",
              "      <td>8.6</td>\n",
              "      <td>0.231522</td>\n",
              "      <td>0.230534</td>\n",
              "      <td>0.231280</td>\n",
              "      <td>0.231104</td>\n",
              "      <td>0.230198</td>\n",
              "      <td>0.229698</td>\n",
              "      <td>0.229015</td>\n",
              "      <td>...</td>\n",
              "      <td>2.925508</td>\n",
              "      <td>2.927053</td>\n",
              "      <td>2.920447</td>\n",
              "      <td>2.915572</td>\n",
              "      <td>2.920224</td>\n",
              "      <td>2.922330</td>\n",
              "      <td>2.909775</td>\n",
              "      <td>2.897480</td>\n",
              "      <td>2.897737</td>\n",
              "      <td>2.897391</td>\n",
              "    </tr>\n",
              "    <tr>\n",
              "      <th>620</th>\n",
              "      <td>621</td>\n",
              "      <td>True</td>\n",
              "      <td>10.8</td>\n",
              "      <td>0.227531</td>\n",
              "      <td>0.226628</td>\n",
              "      <td>0.227406</td>\n",
              "      <td>0.227385</td>\n",
              "      <td>0.226585</td>\n",
              "      <td>0.225993</td>\n",
              "      <td>0.225327</td>\n",
              "      <td>...</td>\n",
              "      <td>2.945441</td>\n",
              "      <td>2.943505</td>\n",
              "      <td>2.933849</td>\n",
              "      <td>2.929372</td>\n",
              "      <td>2.934153</td>\n",
              "      <td>2.933573</td>\n",
              "      <td>2.921115</td>\n",
              "      <td>2.910637</td>\n",
              "      <td>2.914499</td>\n",
              "      <td>2.916288</td>\n",
              "    </tr>\n",
              "    <tr>\n",
              "      <th>621</th>\n",
              "      <td>622</td>\n",
              "      <td>True</td>\n",
              "      <td>12.2</td>\n",
              "      <td>0.224536</td>\n",
              "      <td>0.223379</td>\n",
              "      <td>0.224203</td>\n",
              "      <td>0.224431</td>\n",
              "      <td>0.223999</td>\n",
              "      <td>0.223736</td>\n",
              "      <td>0.222991</td>\n",
              "      <td>...</td>\n",
              "      <td>2.966221</td>\n",
              "      <td>2.969063</td>\n",
              "      <td>2.961253</td>\n",
              "      <td>2.952713</td>\n",
              "      <td>2.949854</td>\n",
              "      <td>2.944465</td>\n",
              "      <td>2.929207</td>\n",
              "      <td>2.920399</td>\n",
              "      <td>2.922437</td>\n",
              "      <td>2.923226</td>\n",
              "    </tr>\n",
              "    <tr>\n",
              "      <th>622</th>\n",
              "      <td>623</td>\n",
              "      <td>True</td>\n",
              "      <td>13.4</td>\n",
              "      <td>0.226519</td>\n",
              "      <td>0.225667</td>\n",
              "      <td>0.226440</td>\n",
              "      <td>0.226193</td>\n",
              "      <td>0.225218</td>\n",
              "      <td>0.224726</td>\n",
              "      <td>0.224143</td>\n",
              "      <td>...</td>\n",
              "      <td>2.936783</td>\n",
              "      <td>2.939133</td>\n",
              "      <td>2.927408</td>\n",
              "      <td>2.915374</td>\n",
              "      <td>2.913538</td>\n",
              "      <td>2.912847</td>\n",
              "      <td>2.901005</td>\n",
              "      <td>2.891991</td>\n",
              "      <td>2.894289</td>\n",
              "      <td>2.893951</td>\n",
              "    </tr>\n",
              "    <tr>\n",
              "      <th>623</th>\n",
              "      <td>624</td>\n",
              "      <td>True</td>\n",
              "      <td>15.8</td>\n",
              "      <td>0.233873</td>\n",
              "      <td>0.232724</td>\n",
              "      <td>0.233435</td>\n",
              "      <td>0.233191</td>\n",
              "      <td>0.232077</td>\n",
              "      <td>0.231309</td>\n",
              "      <td>0.230551</td>\n",
              "      <td>...</td>\n",
              "      <td>2.936938</td>\n",
              "      <td>2.938734</td>\n",
              "      <td>2.926707</td>\n",
              "      <td>2.915750</td>\n",
              "      <td>2.916544</td>\n",
              "      <td>2.919218</td>\n",
              "      <td>2.910248</td>\n",
              "      <td>2.899414</td>\n",
              "      <td>2.894074</td>\n",
              "      <td>2.890147</td>\n",
              "    </tr>\n",
              "  </tbody>\n",
              "</table>\n",
              "<p>313 rows × 1782 columns</p>\n",
              "</div>\n",
              "      <button class=\"colab-df-convert\" onclick=\"convertToInteractive('df-63bc2df9-2dc5-4837-b52a-50e694e724be')\"\n",
              "              title=\"Convert this dataframe to an interactive table.\"\n",
              "              style=\"display:none;\">\n",
              "        \n",
              "  <svg xmlns=\"http://www.w3.org/2000/svg\" height=\"24px\"viewBox=\"0 0 24 24\"\n",
              "       width=\"24px\">\n",
              "    <path d=\"M0 0h24v24H0V0z\" fill=\"none\"/>\n",
              "    <path d=\"M18.56 5.44l.94 2.06.94-2.06 2.06-.94-2.06-.94-.94-2.06-.94 2.06-2.06.94zm-11 1L8.5 8.5l.94-2.06 2.06-.94-2.06-.94L8.5 2.5l-.94 2.06-2.06.94zm10 10l.94 2.06.94-2.06 2.06-.94-2.06-.94-.94-2.06-.94 2.06-2.06.94z\"/><path d=\"M17.41 7.96l-1.37-1.37c-.4-.4-.92-.59-1.43-.59-.52 0-1.04.2-1.43.59L10.3 9.45l-7.72 7.72c-.78.78-.78 2.05 0 2.83L4 21.41c.39.39.9.59 1.41.59.51 0 1.02-.2 1.41-.59l7.78-7.78 2.81-2.81c.8-.78.8-2.07 0-2.86zM5.41 20L4 18.59l7.72-7.72 1.47 1.35L5.41 20z\"/>\n",
              "  </svg>\n",
              "      </button>\n",
              "      \n",
              "  <style>\n",
              "    .colab-df-container {\n",
              "      display:flex;\n",
              "      flex-wrap:wrap;\n",
              "      gap: 12px;\n",
              "    }\n",
              "\n",
              "    .colab-df-convert {\n",
              "      background-color: #E8F0FE;\n",
              "      border: none;\n",
              "      border-radius: 50%;\n",
              "      cursor: pointer;\n",
              "      display: none;\n",
              "      fill: #1967D2;\n",
              "      height: 32px;\n",
              "      padding: 0 0 0 0;\n",
              "      width: 32px;\n",
              "    }\n",
              "\n",
              "    .colab-df-convert:hover {\n",
              "      background-color: #E2EBFA;\n",
              "      box-shadow: 0px 1px 2px rgba(60, 64, 67, 0.3), 0px 1px 3px 1px rgba(60, 64, 67, 0.15);\n",
              "      fill: #174EA6;\n",
              "    }\n",
              "\n",
              "    [theme=dark] .colab-df-convert {\n",
              "      background-color: #3B4455;\n",
              "      fill: #D2E3FC;\n",
              "    }\n",
              "\n",
              "    [theme=dark] .colab-df-convert:hover {\n",
              "      background-color: #434B5C;\n",
              "      box-shadow: 0px 1px 3px 1px rgba(0, 0, 0, 0.15);\n",
              "      filter: drop-shadow(0px 1px 2px rgba(0, 0, 0, 0.3));\n",
              "      fill: #FFFFFF;\n",
              "    }\n",
              "  </style>\n",
              "\n",
              "      <script>\n",
              "        const buttonEl =\n",
              "          document.querySelector('#df-63bc2df9-2dc5-4837-b52a-50e694e724be button.colab-df-convert');\n",
              "        buttonEl.style.display =\n",
              "          google.colab.kernel.accessAllowed ? 'block' : 'none';\n",
              "\n",
              "        async function convertToInteractive(key) {\n",
              "          const element = document.querySelector('#df-63bc2df9-2dc5-4837-b52a-50e694e724be');\n",
              "          const dataTable =\n",
              "            await google.colab.kernel.invokeFunction('convertToInteractive',\n",
              "                                                     [key], {});\n",
              "          if (!dataTable) return;\n",
              "\n",
              "          const docLinkHtml = 'Like what you see? Visit the ' +\n",
              "            '<a target=\"_blank\" href=https://colab.research.google.com/notebooks/data_table.ipynb>data table notebook</a>'\n",
              "            + ' to learn more about interactive tables.';\n",
              "          element.innerHTML = '';\n",
              "          dataTable['output_type'] = 'display_data';\n",
              "          await google.colab.output.renderOutput(dataTable, element);\n",
              "          const docLink = document.createElement('div');\n",
              "          docLink.innerHTML = docLinkHtml;\n",
              "          element.appendChild(docLink);\n",
              "        }\n",
              "      </script>\n",
              "    </div>\n",
              "  </div>\n",
              "  "
            ]
          },
          "metadata": {},
          "execution_count": 49
        }
      ]
    },
    {
      "cell_type": "code",
      "source": [
        "xdata=list(data2.columns)[3:]\n"
      ],
      "metadata": {
        "id": "bkgcMgbx5O53"
      },
      "execution_count": null,
      "outputs": []
    },
    {
      "cell_type": "code",
      "source": [
        "y=data2['Y_B'].values\n",
        "X=data2.values[:,3:]\n",
        "X\n",
        "y"
      ],
      "metadata": {
        "id": "dPKrkDGT5EQ_",
        "colab": {
          "base_uri": "https://localhost:8080/"
        },
        "outputId": "e3fe7c21-66bf-44e2-bdcf-27ad1ecc16d7"
      },
      "execution_count": null,
      "outputs": [
        {
          "output_type": "execute_result",
          "data": {
            "text/plain": [
              "array([ 2.   ,  1.8  ,  6.7  ,  6.2  ,  2.2  ,  2.4  ,  4.   ,  7.8  ,\n",
              "        9.4  ,  8.2  ,  3.7  ,  3.6  ,  5.7  ,  7.8  ,  6.4  , 11.9  ,\n",
              "        3.7  ,  6.   ,  7.9  ,  6.5  , 12.2  ,  3.8  ,  3.1  ,  3.7  ,\n",
              "        8.2  ,  9.8  ,  3.9  ,  3.7  ,  6.1  ,  8.5  ,  9.7  , 12.6  ,\n",
              "        3.5  ,  3.7  ,  5.5  ,  7.7  ,  9.4  , 10.9  ,  0.6  ,  2.   ,\n",
              "        3.3  ,  5.4  ,  9.7  ,  2.2  ,  2.4  ,  4.   ,  7.8  ,  9.4  ,\n",
              "        8.2  ,  3.7  ,  3.6  ,  5.7  ,  7.8  ,  6.4  ,  3.7  ,  1.8  ,\n",
              "        6.   ,  7.9  ,  6.5  , 12.2  ,  3.8  ,  3.1  ,  3.7  ,  8.2  ,\n",
              "        9.8  ,  3.9  ,  3.7  ,  6.1  ,  8.5  ,  9.7  , 12.6  ,  3.5  ,\n",
              "        3.7  ,  5.5  ,  7.7  ,  9.4  , 10.9  ,  0.6  ,  2.   ,  3.3  ,\n",
              "        5.4  ,  9.7  ,  3.256,  3.185,  5.303,  7.076,  7.907, 10.775,\n",
              "        2.921,  3.19 ,  5.359,  7.221,  8.563, 10.755,  3.102,  2.792,\n",
              "        5.231,  7.233,  8.376, 10.826,  3.154,  2.9  ,  5.334,  7.223,\n",
              "        8.483, 10.932,  3.128,  3.234,  5.305,  7.323,  8.33 , 10.531,\n",
              "        2.986,  2.901,  5.401,  7.02 ,  8.24 , 10.469,  3.216,  3.195,\n",
              "        5.374,  7.185,  8.558, 10.598,  3.26 ,  3.177,  5.172,  7.359,\n",
              "        8.419, 10.668,  3.256,  3.185,  5.303,  7.076,  7.907, 10.775,\n",
              "        2.921,  3.19 ,  5.359,  7.221,  8.563, 10.755,  3.102,  2.792,\n",
              "        5.231,  7.233,  8.376, 10.826,  3.154,  2.9  ,  5.334,  8.483,\n",
              "       10.932,  3.128,  3.234,  5.305,  7.323,  8.33 , 10.531,  2.986,\n",
              "        2.901,  5.401,  7.02 ,  8.24 , 10.469,  3.216,  3.195,  5.374,\n",
              "        7.185,  8.558, 10.598,  3.26 ,  3.177,  5.172,  7.359,  8.419,\n",
              "       10.668,  8.384, 11.333, 13.737,  5.242,  5.168,  7.542,  9.867,\n",
              "       11.494, 13.964,  5.236,  4.871,  7.49 , 10.044, 11.46 , 13.886,\n",
              "        4.75 ,  4.964,  7.757,  9.855, 11.179, 14.043,  4.7  ,  4.587,\n",
              "        7.42 , 10.527, 10.943, 14.415,  4.571,  4.653,  7.257, 10.015,\n",
              "       11.99 , 14.429,  4.962,  4.58 ,  7.415,  9.556, 11.293, 14.139,\n",
              "        5.332,  5.604,  7.469, 10.453, 12.409, 16.332,  8.384, 11.333,\n",
              "       13.737,  5.242,  5.168,  7.542,  9.867, 11.494, 13.964,  5.236,\n",
              "        4.871,  7.49 , 10.044, 11.46 , 13.886,  4.75 ,  4.964,  7.757,\n",
              "        9.855, 11.179, 14.043,  4.7  ,  4.587,  7.42 , 10.527, 10.943,\n",
              "       14.415,  4.571,  4.653,  7.257, 10.015, 11.99 , 14.429,  4.962,\n",
              "        4.58 ,  7.415,  9.556, 11.293, 14.139,  5.332,  5.604,  7.469,\n",
              "       10.453, 12.409, 16.332,  6.4  ,  8.6  , 10.4  , 11.7  , 13.1  ,\n",
              "        9.6  ,  9.7  , 11.8  , 13.3  , 13.9  , 16.1  ,  7.1  ,  6.6  ,\n",
              "        8.6  , 10.6  , 11.6  , 13.5  ,  8.4  ,  8.2  , 10.2  , 11.7  ,\n",
              "       12.7  ,  7.1  ,  6.9  ,  9.2  , 10.9  , 11.9  , 13.7  ,  8.4  ,\n",
              "        8.3  , 10.5  , 12.3  , 13.3  , 15.3  ,  6.8  ,  6.6  ,  8.8  ,\n",
              "       10.8  , 11.9  , 13.6  ,  8.5  ,  8.6  , 10.8  , 12.2  , 13.4  ,\n",
              "       15.8  ])"
            ]
          },
          "metadata": {},
          "execution_count": 54
        }
      ]
    },
    {
      "cell_type": "code",
      "source": [
        "X.shape, y.shape\n"
      ],
      "metadata": {
        "colab": {
          "base_uri": "https://localhost:8080/"
        },
        "id": "v9gCHorRGzJI",
        "outputId": "b2c309aa-dde3-4f8a-8d0e-e0e35230e316"
      },
      "execution_count": null,
      "outputs": [
        {
          "output_type": "execute_result",
          "data": {
            "text/plain": [
              "((313, 1779), (313,))"
            ]
          },
          "metadata": {},
          "execution_count": 91
        }
      ]
    },
    {
      "cell_type": "code",
      "source": [
        "with plt.style.context('ggplot'):\n",
        "    plt.plot(xdata, X.T)\n",
        "    plt.xlabel(\"Wavelengths (nm)\")\n",
        "    plt.ylabel(\"Absorbance\")"
      ],
      "metadata": {
        "colab": {
          "base_uri": "https://localhost:8080/",
          "height": 282
        },
        "id": "RGae_y82G_wF",
        "outputId": "f9478a8d-6971-446c-c349-c4e5ba5d96cc"
      },
      "execution_count": null,
      "outputs": [
        {
          "output_type": "display_data",
          "data": {
            "text/plain": [
              "<Figure size 432x288 with 1 Axes>"
            ],
            "image/png": "[encoded data removed]"
          },
          "metadata": {}
        }
      ]
    },
    {
      "cell_type": "code",
      "source": [
        "#X2 = savgol_filter(X, 17, polyorder=2, deriv=2)\n",
        "#X2 = savgol_filter(X, 17, polyorder=2, deriv=1)\n",
        "X2=X"
      ],
      "metadata": {
        "id": "aq9d0fD3Hmsg"
      },
      "execution_count": null,
      "outputs": []
    },
    {
      "cell_type": "code",
      "source": [
        "def optimise_pls_cv(X, y, n_comp):\n",
        "    # Define PLS object\n",
        "    pls = PLSRegression(n_components=n_comp)\n",
        "\n",
        "    # Cross-validation\n",
        "    y_cv = cross_val_predict(pls, X, y, cv=10)\n",
        "\n",
        "    # Calculate scores\n",
        "    r2 = r2_score(y, y_cv)\n",
        "    mse = mean_squared_error(y, y_cv)\n",
        "    rpd = y.std()/np.sqrt(mse)\n",
        "    \n",
        "    return (y_cv, r2, mse, rpd)"
      ],
      "metadata": {
        "id": "ZPPa76uBH-I7"
      },
      "execution_count": null,
      "outputs": []
    },
    {
      "cell_type": "code",
      "source": [
        "r2s = []\n",
        "mses = []\n",
        "rpds = []\n",
        "xticks = np.arange(1, 41)\n",
        "for n_comp in xticks:\n",
        "    y_cv, r2, mse, rpd = optimise_pls_cv(X2, y, n_comp)\n",
        "    r2s.append(r2)\n",
        "    mses.append(mse)\n",
        "    rpds.append(rpd)"
      ],
      "metadata": {
        "id": "GqkwH4KbICX1"
      },
      "execution_count": null,
      "outputs": []
    },
    {
      "cell_type": "code",
      "source": [
        "# Plot the mses\n",
        "def plot_metrics(vals, ylabel, objective):\n",
        "    with plt.style.context('ggplot'):\n",
        "        plt.plot(xticks, np.array(vals), '-v', color='blue', mfc='blue')\n",
        "        if objective=='min':\n",
        "            idx = np.argmin(vals)\n",
        "        else:\n",
        "            idx = np.argmax(vals)\n",
        "        plt.plot(xticks[idx], np.array(vals)[idx], 'P', ms=10, mfc='red')\n",
        "\n",
        "        plt.xlabel('Number of PLS components')\n",
        "        plt.xticks = xticks\n",
        "        plt.ylabel(ylabel)\n",
        "        plt.title('PLS')\n",
        "\n",
        "    plt.show()"
      ],
      "metadata": {
        "id": "ox6doYc4IFo1"
      },
      "execution_count": null,
      "outputs": []
    },
    {
      "cell_type": "code",
      "source": [
        "plot_metrics(mses, 'MSE', 'min')"
      ],
      "metadata": {
        "colab": {
          "base_uri": "https://localhost:8080/",
          "height": 299
        },
        "id": "2sZ4jIxjIRri",
        "outputId": "df12a4dc-8085-42f0-c4b7-b90b00405f4e"
      },
      "execution_count": null,
      "outputs": [
        {
          "output_type": "display_data",
          "data": {
            "text/plain": [
              "<Figure size 432x288 with 1 Axes>"
            ],
            "image/png": "[encoded data removed]"
          },
          "metadata": {}
        }
      ]
    },
    {
      "cell_type": "code",
      "source": [
        "plot_metrics(rpds, 'RPD', 'max')"
      ],
      "metadata": {
        "colab": {
          "base_uri": "https://localhost:8080/",
          "height": 299
        },
        "id": "vzFaHbVQIVHM",
        "outputId": "3b3075be-a7af-4c7b-adb4-7fbb3db1c0b0"
      },
      "execution_count": null,
      "outputs": [
        {
          "output_type": "display_data",
          "data": {
            "text/plain": [
              "<Figure size 432x288 with 1 Axes>"
            ],
            "image/png": "[encoded data removed]"
          },
          "metadata": {}
        }
      ]
    },
    {
      "cell_type": "code",
      "source": [
        "plot_metrics(r2s, 'R2', 'max')"
      ],
      "metadata": {
        "colab": {
          "base_uri": "https://localhost:8080/",
          "height": 299
        },
        "id": "JlIk1mzIIZIW",
        "outputId": "b569ffca-5f2f-4af6-cb67-c3a23b08072f"
      },
      "execution_count": null,
      "outputs": [
        {
          "output_type": "display_data",
          "data": {
            "text/plain": [
              "<Figure size 432x288 with 1 Axes>"
            ],
            "image/png": "[encoded data removed]"
          },
          "metadata": {}
        }
      ]
    },
    {
      "cell_type": "code",
      "source": [
        "y_cv, r2, mse, rpd = optimise_pls_cv(X2, y, 7)"
      ],
      "metadata": {
        "id": "9KWIFI-SIetP"
      },
      "execution_count": null,
      "outputs": []
    },
    {
      "cell_type": "code",
      "source": [
        "print('R2: %0.4f, MSE: %0.4f, RPD: %0.4f' %(r2, mse, rpd))"
      ],
      "metadata": {
        "colab": {
          "base_uri": "https://localhost:8080/"
        },
        "id": "2iocK2FbIkbh",
        "outputId": "1682a754-d6d2-4bb6-fd10-03f32615d60d"
      },
      "execution_count": null,
      "outputs": [
        {
          "output_type": "stream",
          "name": "stdout",
          "text": [
            "R2: 0.3320, MSE: 8.2807, RPD: 1.2235\n"
          ]
        }
      ]
    },
    {
      "cell_type": "code",
      "source": [
        "y_cv, r2, mse, rpd = optimise_pls_cv(X2, y, 8)\n",
        "print('R2: %0.4f, MSE: %0.4f, RPD: %0.4f' %(r2, mse, rpd))"
      ],
      "metadata": {
        "id": "HC-SSdlwzefi",
        "outputId": "f88d8d13-4e57-4eb9-b610-e9ad7f915fbc",
        "colab": {
          "base_uri": "https://localhost:8080/"
        }
      },
      "execution_count": null,
      "outputs": [
        {
          "output_type": "stream",
          "name": "stdout",
          "text": [
            "R2: 0.2610, MSE: 9.1609, RPD: 1.1632\n"
          ]
        }
      ]
    },
    {
      "cell_type": "code",
      "source": [
        "y_cv, r2, mse, rpd = optimise_pls_cv(X2, y, 9)\n",
        "print('R2: %0.4f, MSE: %0.4f, RPD: %0.4f' %(r2, mse, rpd))"
      ],
      "metadata": {
        "id": "PdS0bZau0efk",
        "outputId": "662bd332-7b98-4421-b652-a2fb46ced391",
        "colab": {
          "base_uri": "https://localhost:8080/"
        }
      },
      "execution_count": null,
      "outputs": [
        {
          "output_type": "stream",
          "name": "stdout",
          "text": [
            "R2: 0.3019, MSE: 8.6538, RPD: 1.1968\n"
          ]
        }
      ]
    },
    {
      "cell_type": "code",
      "source": [
        "y_cv, r2, mse, rpd = optimise_pls_cv(X2, y, 10)\n",
        "print('R2: %0.4f, MSE: %0.4f, RPD: %0.4f' %(r2, mse, rpd))\n"
      ],
      "metadata": {
        "id": "V9ZzOl_VvoLb",
        "outputId": "192f3bb7-99c0-4f20-8475-ec2548335e39",
        "colab": {
          "base_uri": "https://localhost:8080/"
        }
      },
      "execution_count": null,
      "outputs": [
        {
          "output_type": "stream",
          "name": "stdout",
          "text": [
            "R2: 0.4511, MSE: 6.8045, RPD: 1.3497\n"
          ]
        }
      ]
    },
    {
      "cell_type": "code",
      "source": [
        "y_cv, r2, mse, rpd = optimise_pls_cv(X2, y, 11)\n",
        "print('R2: %0.4f, MSE: %0.4f, RPD: %0.4f' %(r2, mse, rpd))"
      ],
      "metadata": {
        "id": "DUPg9MIc05rJ",
        "outputId": "56078784-6657-4281-9920-121c78accbc1",
        "colab": {
          "base_uri": "https://localhost:8080/"
        }
      },
      "execution_count": null,
      "outputs": [
        {
          "output_type": "stream",
          "name": "stdout",
          "text": [
            "R2: 0.5925, MSE: 5.0518, RPD: 1.5664\n"
          ]
        }
      ]
    },
    {
      "cell_type": "code",
      "source": [
        "y_cv, r2, mse, rpd = optimise_pls_cv(X2, y, 25)\n",
        "print('R2: %0.4f, MSE: %0.4f, RPD: %0.4f' %(r2, mse, rpd))"
      ],
      "metadata": {
        "id": "jmm5UHck1WsW",
        "outputId": "46a27333-9c22-4b96-c393-c043f5b22f38",
        "colab": {
          "base_uri": "https://localhost:8080/"
        }
      },
      "execution_count": null,
      "outputs": [
        {
          "output_type": "stream",
          "name": "stdout",
          "text": [
            "R2: 0.8984, MSE: 1.2598, RPD: 3.1369\n"
          ]
        }
      ]
    },
    {
      "cell_type": "code",
      "source": [
        "plt.figure(figsize=(6, 6))\n",
        "with plt.style.context('ggplot'):\n",
        "    plt.scatter(y, y_cv, color='red')\n",
        "    plt.plot(y, y, '-g', label='Expected regression line')\n",
        "    z = np.polyfit(y, y_cv, 1)\n",
        "    plt.plot(np.polyval(z, y), y, color='blue', label='Predicted regression line')\n",
        "    plt.xlabel('Actual')\n",
        "    plt.ylabel('Predicted')\n",
        "    plt.legend()\n",
        "    plt.plot()"
      ],
      "metadata": {
        "id": "PbScVfYSwFG8",
        "outputId": "aa448e45-ca6c-4f5e-953f-1f37a5f0d841",
        "colab": {
          "base_uri": "https://localhost:8080/",
          "height": 391
        }
      },
      "execution_count": null,
      "outputs": [
        {
          "output_type": "display_data",
          "data": {
            "text/plain": [
              "<Figure size 432x432 with 1 Axes>"
            ],
            "image/png": "[encoded data removed]"
          },
          "metadata": {
            "needs_background": "light"
          }
        }
      ]
    },
    {
      "cell_type": "code",
      "source": [
        "y_cv, r2, mse, rpd = optimise_pls_cv(X2, y, 7)\n",
        "print('R2: %0.4f, MSE: %0.4f, RPD: %0.4f' %(r2, mse, rpd))"
      ],
      "metadata": {
        "id": "CHdLEov1v0EV",
        "outputId": "8a014d2b-0f69-424b-a6bb-be099f503e92",
        "colab": {
          "base_uri": "https://localhost:8080/"
        }
      },
      "execution_count": null,
      "outputs": [
        {
          "output_type": "stream",
          "name": "stdout",
          "text": [
            "R2: 0.8451, MSE: 1.9196, RPD: 2.5411\n"
          ]
        }
      ]
    },
    {
      "cell_type": "code",
      "source": [
        "plt.figure(figsize=(6, 6))\n",
        "with plt.style.context('ggplot'):\n",
        "    plt.scatter(y, y_cv, color='red')\n",
        "    plt.plot(y, y, '-g', label='Expected regression line')\n",
        "    z = np.polyfit(y, y_cv, 1)\n",
        "    plt.plot(np.polyval(z, y), y, color='blue', label='Predicted regression line')\n",
        "    plt.xlabel('Actual')\n",
        "    plt.ylabel('Predicted')\n",
        "    plt.legend()\n",
        "    plt.plot()"
      ],
      "metadata": {
        "colab": {
          "base_uri": "https://localhost:8080/",
          "height": 391
        },
        "id": "W9zQXWgyInZ8",
        "outputId": "a85979af-9bfe-45f2-fd49-3e58903b1e12"
      },
      "execution_count": null,
      "outputs": [
        {
          "output_type": "display_data",
          "data": {
            "text/plain": [
              "<Figure size 432x432 with 1 Axes>"
            ],
            "image/png": "[encoded data removed]"
          },
          "metadata": {
            "needs_background": "light"
          }
        }
      ]
    },
    {
      "cell_type": "code",
      "source": [
        "y_cv, r2, mse, rpd = optimise_pls_cv(X2, y, 9)\n",
        "print('R2: %0.4f, MSE: %0.4f, RPD: %0.4f' %(r2, mse, rpd))"
      ],
      "metadata": {
        "id": "pWrE7oKvzBIR"
      },
      "execution_count": null,
      "outputs": []
    },
    {
      "cell_type": "code",
      "source": [
        "X2 = savgol_filter(X, 17, polyorder=2, deriv=2)\n",
        "#X2 = savgol_filter(X, 17, polyorder=2, deriv=1)\n",
        "#X2=X"
      ],
      "metadata": {
        "id": "P0MyqxjHtKiB"
      },
      "execution_count": null,
      "outputs": []
    },
    {
      "cell_type": "code",
      "source": [
        "def optimise_pls_cv(X, y, n_comp):\n",
        "    # Define PLS object\n",
        "    pls = PLSRegression(n_components=n_comp)\n",
        "\n",
        "    # Cross-validation\n",
        "    y_cv = cross_val_predict(pls, X, y, cv=10)\n",
        "\n",
        "    # Calculate scores\n",
        "    r2 = r2_score(y, y_cv)\n",
        "    mse = mean_squared_error(y, y_cv)\n",
        "    rpd = y.std()/np.sqrt(mse)\n",
        "    \n",
        "    return (y_cv, r2, mse, rpd)"
      ],
      "metadata": {
        "id": "bN1i-AbvIrh_"
      },
      "execution_count": null,
      "outputs": []
    },
    {
      "cell_type": "code",
      "source": [
        "r2s = []\n",
        "mses = []\n",
        "rpds = []\n",
        "xticks = np.arange(1, 41)\n",
        "for n_comp in xticks:\n",
        "    y_cv, r2, mse, rpd = optimise_pls_cv(X2, y, n_comp)\n",
        "    r2s.append(r2)\n",
        "    mses.append(mse)\n",
        "    rpds.append(rpd)"
      ],
      "metadata": {
        "id": "TnIz5Au5tb2B"
      },
      "execution_count": null,
      "outputs": []
    },
    {
      "cell_type": "code",
      "source": [
        "# Plot the mses\n",
        "def plot_metrics(vals, ylabel, objective):\n",
        "    with plt.style.context('ggplot'):\n",
        "        plt.plot(xticks, np.array(vals), '-v', color='blue', mfc='blue')\n",
        "        if objective=='min':\n",
        "            idx = np.argmin(vals)\n",
        "        else:\n",
        "            idx = np.argmax(vals)\n",
        "        plt.plot(xticks[idx], np.array(vals)[idx], 'P', ms=10, mfc='red')\n",
        "\n",
        "        plt.xlabel('Number of PLS components')\n",
        "        plt.xticks = xticks\n",
        "        plt.ylabel(ylabel)\n",
        "        plt.title('PLS')\n",
        "\n",
        "    plt.show()"
      ],
      "metadata": {
        "id": "ZS9uEyU-tr1G"
      },
      "execution_count": null,
      "outputs": []
    },
    {
      "cell_type": "code",
      "source": [
        "plot_metrics(mses, 'MSE', 'min')"
      ],
      "metadata": {
        "id": "laFsRB3mtxJK",
        "outputId": "1c9d29c5-b8fa-48dc-efcb-ea9198553f36",
        "colab": {
          "base_uri": "https://localhost:8080/",
          "height": 299
        }
      },
      "execution_count": null,
      "outputs": [
        {
          "output_type": "display_data",
          "data": {
            "text/plain": [
              "<Figure size 432x288 with 1 Axes>"
            ],
            "image/png": "[encoded data removed]"
          },
          "metadata": {}
        }
      ]
    },
    {
      "cell_type": "code",
      "source": [
        "plot_metrics(rpds, 'RPD', 'max')"
      ],
      "metadata": {
        "id": "GVXhDBqAtUGT",
        "outputId": "8e70820e-6e36-4747-f137-9ab7a7fe12ad",
        "colab": {
          "base_uri": "https://localhost:8080/",
          "height": 299
        }
      },
      "execution_count": null,
      "outputs": [
        {
          "output_type": "display_data",
          "data": {
            "text/plain": [
              "<Figure size 432x288 with 1 Axes>"
            ],
            "image/png": "[encoded data removed]"
          },
          "metadata": {}
        }
      ]
    },
    {
      "cell_type": "code",
      "source": [
        "plot_metrics(r2s, 'R2', 'max')"
      ],
      "metadata": {
        "id": "Rk0WpaMPt4q3",
        "outputId": "e59762f7-3154-4c8d-bff7-242173e9f1ce",
        "colab": {
          "base_uri": "https://localhost:8080/",
          "height": 299
        }
      },
      "execution_count": null,
      "outputs": [
        {
          "output_type": "display_data",
          "data": {
            "text/plain": [
              "<Figure size 432x288 with 1 Axes>"
            ],
            "image/png": "[encoded data removed]"
          },
          "metadata": {}
        }
      ]
    },
    {
      "cell_type": "code",
      "source": [
        "y_cv, r2, mse, rpd = optimise_pls_cv(X2, y, 6)\n",
        "print('R2: %0.4f, MSE: %0.4f, RPD: %0.4f' %(r2, mse, rpd))"
      ],
      "metadata": {
        "id": "hzZFY5kxxJQr",
        "outputId": "b16cecf1-59a4-4c89-ab0a-8a8fc9ec0c3e",
        "colab": {
          "base_uri": "https://localhost:8080/"
        }
      },
      "execution_count": null,
      "outputs": [
        {
          "output_type": "stream",
          "name": "stdout",
          "text": [
            "R2: 0.8275, MSE: 2.1378, RPD: 2.4080\n"
          ]
        }
      ]
    },
    {
      "cell_type": "code",
      "source": [
        "y_cv, r2, mse, rpd = optimise_pls_cv(X2, y, 7)"
      ],
      "metadata": {
        "id": "ZlZxxgtCt3um"
      },
      "execution_count": null,
      "outputs": []
    },
    {
      "cell_type": "code",
      "source": [
        "print('R2: %0.4f, MSE: %0.4f, RPD: %0.4f' %(r2, mse, rpd))"
      ],
      "metadata": {
        "id": "hZZvjop1uFIw",
        "outputId": "8922bd07-89fc-4dcc-fbdd-ddab8e2ecbe2",
        "colab": {
          "base_uri": "https://localhost:8080/"
        }
      },
      "execution_count": null,
      "outputs": [
        {
          "output_type": "stream",
          "name": "stdout",
          "text": [
            "R2: 0.8451, MSE: 1.9196, RPD: 2.5411\n"
          ]
        }
      ]
    },
    {
      "cell_type": "code",
      "source": [
        "y_cv, r2, mse, rpd = optimise_pls_cv(X2, y, 9)\n",
        "print('R2: %0.4f, MSE: %0.4f, RPD: %0.4f' %(r2, mse, rpd))"
      ],
      "metadata": {
        "id": "4zPCxbY_xuJ8",
        "outputId": "1918e1f8-8e99-48e8-94ad-170b75c31fd0",
        "colab": {
          "base_uri": "https://localhost:8080/"
        }
      },
      "execution_count": null,
      "outputs": [
        {
          "output_type": "stream",
          "name": "stdout",
          "text": [
            "R2: 0.8510, MSE: 1.8474, RPD: 2.5903\n"
          ]
        }
      ]
    },
    {
      "cell_type": "code",
      "source": [
        "y_cv, r2, mse, rpd = optimise_pls_cv(X2, y, 9)\n",
        "print('R2: %0.4f, MSE: %0.4f, RPD: %0.4f' %(r2, mse, rpd))"
      ],
      "metadata": {
        "id": "hiyXmGwJw8O4",
        "outputId": "274b9ab4-61b8-4891-a36f-06b336d20018",
        "colab": {
          "base_uri": "https://localhost:8080/"
        }
      },
      "execution_count": null,
      "outputs": [
        {
          "output_type": "stream",
          "name": "stdout",
          "text": [
            "R2: 0.8510, MSE: 1.8474, RPD: 2.5903\n"
          ]
        }
      ]
    },
    {
      "cell_type": "code",
      "source": [
        "y_cv, r2, mse, rpd = optimise_pls_cv(X2, y, 10)\n",
        "print('R2: %0.4f, MSE: %0.4f, RPD: %0.4f' %(r2, mse, rpd))"
      ],
      "metadata": {
        "id": "VkIPq6ZgwqcC",
        "outputId": "a4fa198f-873c-4576-ef59-7b7fa0b26600",
        "colab": {
          "base_uri": "https://localhost:8080/"
        }
      },
      "execution_count": null,
      "outputs": [
        {
          "output_type": "stream",
          "name": "stdout",
          "text": [
            "R2: 0.8476, MSE: 1.8897, RPD: 2.5612\n"
          ]
        }
      ]
    },
    {
      "cell_type": "code",
      "source": [
        "y_cv, r2, mse, rpd = optimise_pls_cv(X2, y, 11)\n",
        "print('R2: %0.4f, MSE: %0.4f, RPD: %0.4f' %(r2, mse, rpd))"
      ],
      "metadata": {
        "id": "cBFNzfsfwy4C",
        "outputId": "a9490b0e-29cb-46ad-a459-f2b3de72d1e5",
        "colab": {
          "base_uri": "https://localhost:8080/"
        }
      },
      "execution_count": null,
      "outputs": [
        {
          "output_type": "stream",
          "name": "stdout",
          "text": [
            "R2: 0.8457, MSE: 1.9132, RPD: 2.5454\n"
          ]
        }
      ]
    },
    {
      "cell_type": "code",
      "source": [
        "y_cv, r2, mse, rpd = optimise_pls_cv(X2, y, 12)\n",
        "print('R2: %0.4f, MSE: %0.4f, RPD: %0.4f' %(r2, mse, rpd))"
      ],
      "metadata": {
        "id": "U0v0F1EWxS98",
        "outputId": "ff95b3c1-9915-462f-deac-55a4463c837e",
        "colab": {
          "base_uri": "https://localhost:8080/"
        }
      },
      "execution_count": null,
      "outputs": [
        {
          "output_type": "stream",
          "name": "stdout",
          "text": [
            "R2: 0.8417, MSE: 1.9625, RPD: 2.5132\n"
          ]
        }
      ]
    },
    {
      "cell_type": "code",
      "source": [
        "plt.figure(figsize=(6, 6))\n",
        "with plt.style.context('ggplot'):\n",
        "    plt.scatter(y, y_cv, color='red')\n",
        "    plt.plot(y, y, '-g', label='Expected regression line')\n",
        "    z = np.polyfit(y, y_cv, 1)\n",
        "    plt.plot(np.polyval(z, y), y, color='blue', label='Predicted regression line')\n",
        "    plt.xlabel('Actual')\n",
        "    plt.ylabel('Predicted')\n",
        "    plt.legend()\n",
        "    plt.plot()"
      ],
      "metadata": {
        "id": "4G_MGDCUuNYO",
        "outputId": "51b424de-8d18-4f57-a487-ab4b904c692f",
        "colab": {
          "base_uri": "https://localhost:8080/",
          "height": 391
        }
      },
      "execution_count": null,
      "outputs": [
        {
          "output_type": "display_data",
          "data": {
            "text/plain": [
              "<Figure size 432x432 with 1 Axes>"
            ],
            "image/png": "[encoded data removed]"
          },
          "metadata": {
            "needs_background": "light"
          }
        }
      ]
    },
    {
      "cell_type": "code",
      "source": [],
      "metadata": {
        "id": "57tXHrCWuTox"
      },
      "execution_count": null,
      "outputs": []
    }
  ]
}