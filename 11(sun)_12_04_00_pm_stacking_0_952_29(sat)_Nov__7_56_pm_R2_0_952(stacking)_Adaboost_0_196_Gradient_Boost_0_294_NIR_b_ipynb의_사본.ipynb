{
  "nbformat": 4,
  "nbformat_minor": 0,
  "metadata": {
    "colab": {
      "provenance": [],
      "authorship_tag": "ABX9TyOj4zHTyy/+JFr+MWDWlZvO",
      "include_colab_link": true
    },
    "kernelspec": {
      "name": "python3",
      "display_name": "Python 3"
    },
    "language_info": {
      "name": "python"
    },
    "gpuClass": "standard"
  },
  "cells": [
    {
      "cell_type": "markdown",
      "metadata": {
        "id": "view-in-github",
        "colab_type": "text"
      },
      "source": [
        "<a href=\"https://colab.research.google.com/github/hwankang/chemometrics-tutorials/blob/master/11(sun)_12_04_00_pm_stacking_0_952_29(sat)_Nov__7_56_pm_R2_0_952(stacking)_Adaboost_0_196_Gradient_Boost_0_294_NIR_b_ipynb%EC%9D%98_%EC%82%AC%EB%B3%B8.ipynb\" target=\"_parent\"><img src=\"https://colab.research.google.com/assets/colab-badge.svg\" alt=\"Open In Colab\"/></a>"
      ]
    },
    {
      "cell_type": "code",
      "execution_count": 2,
      "metadata": {
        "id": "0XEtLrSaws01",
        "colab": {
          "base_uri": "https://localhost:8080/"
        },
        "outputId": "2231db4a-875f-4561-c4f3-8a679ec72b01"
      },
      "outputs": [
        {
          "output_type": "stream",
          "name": "stdout",
          "text": [
            "Mounted at /content/drive\n"
          ]
        }
      ],
      "source": [
        "from google.colab import drive\n",
        "drive.mount('/content/drive')"
      ]
    },
    {
      "cell_type": "code",
      "source": [
        "filename='/content/drive/MyDrive/machine_learning/123_Raman_DATA_csv.csv'\n",
        "filename_a='/content/drive/MyDrive/machine_learning/B_NIR_DATA_csv.csv'\n",
        "import pandas as pd\n",
        "data_a = pd.read_csv(filename_a,header=0, \n",
        "                   encoding=\"unicode-escape\")"
      ],
      "metadata": {
        "id": "WeXe7TVuw6rl"
      },
      "execution_count": 3,
      "outputs": []
    },
    {
      "cell_type": "code",
      "source": [
        "xx,yy=data_a.shape\n",
        "xx"
      ],
      "metadata": {
        "id": "I015htzuxA8f",
        "colab": {
          "base_uri": "https://localhost:8080/"
        },
        "outputId": "cebd7dc7-b0aa-460f-9af0-6836636591ae"
      },
      "execution_count": 4,
      "outputs": [
        {
          "output_type": "execute_result",
          "data": {
            "text/plain": [
              "624"
            ]
          },
          "metadata": {},
          "execution_count": 4
        }
      ]
    },
    {
      "cell_type": "code",
      "source": [
        "data_a2=data_a.iloc[0::,1:yy+1]\n",
        "data_a2.head()"
      ],
      "metadata": {
        "id": "9kyyE75qxvRj",
        "colab": {
          "base_uri": "https://localhost:8080/",
          "height": 317
        },
        "outputId": "82ee6eed-527b-4c8b-8256-dff6f430b5db"
      },
      "execution_count": 5,
      "outputs": [
        {
          "output_type": "execute_result",
          "data": {
            "text/plain": [
              "   ¸ðµ¨ Æ÷ÇÔ  Y_B  899.9280058  900.2520706  900.5763689  900.9009009  \\\n",
              "0       True  2.0     0.276093     0.279368     0.282974     0.283645   \n",
              "1       True  1.8     0.199544     0.202455     0.206198     0.207755   \n",
              "2       True  6.7     0.306803     0.309845     0.313508     0.314680   \n",
              "3       True  6.2     0.286879     0.290392     0.294110     0.294774   \n",
              "4      False  5.1     0.253218     0.256407     0.260161     0.261418   \n",
              "\n",
              "   901.2256669  901.5506671  901.8759019  902.2013713  ...  2477.700694  \\\n",
              "0     0.283141     0.282718     0.281553     0.279137  ...     2.949425   \n",
              "1     0.208028     0.207398     0.205435     0.202679  ...     2.981332   \n",
              "2     0.314671     0.314172     0.312433     0.309447  ...     2.991938   \n",
              "3     0.294035     0.293060     0.291292     0.288594  ...     2.991402   \n",
              "4     0.261547     0.261116     0.259408     0.256675  ...     3.004459   \n",
              "\n",
              "   2480.15873  2482.621648  2485.089463  2487.562189  2490.039841  \\\n",
              "0    2.949937     2.940435     2.930193     2.927044     2.926591   \n",
              "1    2.984826     2.975499     2.964666     2.964128     2.967567   \n",
              "2    2.992541     2.984488     2.976776     2.975918     2.973828   \n",
              "3    2.990624     2.980183     2.970664     2.967151     2.961850   \n",
              "4    3.005398     3.000151     2.995331     2.997660     2.999729   \n",
              "\n",
              "   2492.522433  2495.00998  2497.502498      2500  \n",
              "0     2.917971    2.911627     2.911584  2.909855  \n",
              "1     2.960830    2.954538     2.956946  2.955335  \n",
              "2     2.963011    2.955492     2.954702  2.949301  \n",
              "3     2.948892    2.939125     2.938542  2.934796  \n",
              "4     2.992129    2.987290     2.988690  2.987576  \n",
              "\n",
              "[5 rows x 1781 columns]"
            ],
            "text/html": [
              "\n",
              "  <div id=\"df-60d60b06-22c2-44bf-b92e-aa3b2ebf5ed9\">\n",
              "    <div class=\"colab-df-container\">\n",
              "      <div>\n",
              "<style scoped>\n",
              "    .dataframe tbody tr th:only-of-type {\n",
              "        vertical-align: middle;\n",
              "    }\n",
              "\n",
              "    .dataframe tbody tr th {\n",
              "        vertical-align: top;\n",
              "    }\n",
              "\n",
              "    .dataframe thead th {\n",
              "        text-align: right;\n",
              "    }\n",
              "</style>\n",
              "<table border=\"1\" class=\"dataframe\">\n",
              "  <thead>\n",
              "    <tr style=\"text-align: right;\">\n",
              "      <th></th>\n",
              "      <th>¸ðµ¨ Æ÷ÇÔ</th>\n",
              "      <th>Y_B</th>\n",
              "      <th>899.9280058</th>\n",
              "      <th>900.2520706</th>\n",
              "      <th>900.5763689</th>\n",
              "      <th>900.9009009</th>\n",
              "      <th>901.2256669</th>\n",
              "      <th>901.5506671</th>\n",
              "      <th>901.8759019</th>\n",
              "      <th>902.2013713</th>\n",
              "      <th>...</th>\n",
              "      <th>2477.700694</th>\n",
              "      <th>2480.15873</th>\n",
              "      <th>2482.621648</th>\n",
              "      <th>2485.089463</th>\n",
              "      <th>2487.562189</th>\n",
              "      <th>2490.039841</th>\n",
              "      <th>2492.522433</th>\n",
              "      <th>2495.00998</th>\n",
              "      <th>2497.502498</th>\n",
              "      <th>2500</th>\n",
              "    </tr>\n",
              "  </thead>\n",
              "  <tbody>\n",
              "    <tr>\n",
              "      <th>0</th>\n",
              "      <td>True</td>\n",
              "      <td>2.0</td>\n",
              "      <td>0.276093</td>\n",
              "      <td>0.279368</td>\n",
              "      <td>0.282974</td>\n",
              "      <td>0.283645</td>\n",
              "      <td>0.283141</td>\n",
              "      <td>0.282718</td>\n",
              "      <td>0.281553</td>\n",
              "      <td>0.279137</td>\n",
              "      <td>...</td>\n",
              "      <td>2.949425</td>\n",
              "      <td>2.949937</td>\n",
              "      <td>2.940435</td>\n",
              "      <td>2.930193</td>\n",
              "      <td>2.927044</td>\n",
              "      <td>2.926591</td>\n",
              "      <td>2.917971</td>\n",
              "      <td>2.911627</td>\n",
              "      <td>2.911584</td>\n",
              "      <td>2.909855</td>\n",
              "    </tr>\n",
              "    <tr>\n",
              "      <th>1</th>\n",
              "      <td>True</td>\n",
              "      <td>1.8</td>\n",
              "      <td>0.199544</td>\n",
              "      <td>0.202455</td>\n",
              "      <td>0.206198</td>\n",
              "      <td>0.207755</td>\n",
              "      <td>0.208028</td>\n",
              "      <td>0.207398</td>\n",
              "      <td>0.205435</td>\n",
              "      <td>0.202679</td>\n",
              "      <td>...</td>\n",
              "      <td>2.981332</td>\n",
              "      <td>2.984826</td>\n",
              "      <td>2.975499</td>\n",
              "      <td>2.964666</td>\n",
              "      <td>2.964128</td>\n",
              "      <td>2.967567</td>\n",
              "      <td>2.960830</td>\n",
              "      <td>2.954538</td>\n",
              "      <td>2.956946</td>\n",
              "      <td>2.955335</td>\n",
              "    </tr>\n",
              "    <tr>\n",
              "      <th>2</th>\n",
              "      <td>True</td>\n",
              "      <td>6.7</td>\n",
              "      <td>0.306803</td>\n",
              "      <td>0.309845</td>\n",
              "      <td>0.313508</td>\n",
              "      <td>0.314680</td>\n",
              "      <td>0.314671</td>\n",
              "      <td>0.314172</td>\n",
              "      <td>0.312433</td>\n",
              "      <td>0.309447</td>\n",
              "      <td>...</td>\n",
              "      <td>2.991938</td>\n",
              "      <td>2.992541</td>\n",
              "      <td>2.984488</td>\n",
              "      <td>2.976776</td>\n",
              "      <td>2.975918</td>\n",
              "      <td>2.973828</td>\n",
              "      <td>2.963011</td>\n",
              "      <td>2.955492</td>\n",
              "      <td>2.954702</td>\n",
              "      <td>2.949301</td>\n",
              "    </tr>\n",
              "    <tr>\n",
              "      <th>3</th>\n",
              "      <td>True</td>\n",
              "      <td>6.2</td>\n",
              "      <td>0.286879</td>\n",
              "      <td>0.290392</td>\n",
              "      <td>0.294110</td>\n",
              "      <td>0.294774</td>\n",
              "      <td>0.294035</td>\n",
              "      <td>0.293060</td>\n",
              "      <td>0.291292</td>\n",
              "      <td>0.288594</td>\n",
              "      <td>...</td>\n",
              "      <td>2.991402</td>\n",
              "      <td>2.990624</td>\n",
              "      <td>2.980183</td>\n",
              "      <td>2.970664</td>\n",
              "      <td>2.967151</td>\n",
              "      <td>2.961850</td>\n",
              "      <td>2.948892</td>\n",
              "      <td>2.939125</td>\n",
              "      <td>2.938542</td>\n",
              "      <td>2.934796</td>\n",
              "    </tr>\n",
              "    <tr>\n",
              "      <th>4</th>\n",
              "      <td>False</td>\n",
              "      <td>5.1</td>\n",
              "      <td>0.253218</td>\n",
              "      <td>0.256407</td>\n",
              "      <td>0.260161</td>\n",
              "      <td>0.261418</td>\n",
              "      <td>0.261547</td>\n",
              "      <td>0.261116</td>\n",
              "      <td>0.259408</td>\n",
              "      <td>0.256675</td>\n",
              "      <td>...</td>\n",
              "      <td>3.004459</td>\n",
              "      <td>3.005398</td>\n",
              "      <td>3.000151</td>\n",
              "      <td>2.995331</td>\n",
              "      <td>2.997660</td>\n",
              "      <td>2.999729</td>\n",
              "      <td>2.992129</td>\n",
              "      <td>2.987290</td>\n",
              "      <td>2.988690</td>\n",
              "      <td>2.987576</td>\n",
              "    </tr>\n",
              "  </tbody>\n",
              "</table>\n",
              "<p>5 rows × 1781 columns</p>\n",
              "</div>\n",
              "      <button class=\"colab-df-convert\" onclick=\"convertToInteractive('df-60d60b06-22c2-44bf-b92e-aa3b2ebf5ed9')\"\n",
              "              title=\"Convert this dataframe to an interactive table.\"\n",
              "              style=\"display:none;\">\n",
              "        \n",
              "  <svg xmlns=\"http://www.w3.org/2000/svg\" height=\"24px\"viewBox=\"0 0 24 24\"\n",
              "       width=\"24px\">\n",
              "    <path d=\"M0 0h24v24H0V0z\" fill=\"none\"/>\n",
              "    <path d=\"M18.56 5.44l.94 2.06.94-2.06 2.06-.94-2.06-.94-.94-2.06-.94 2.06-2.06.94zm-11 1L8.5 8.5l.94-2.06 2.06-.94-2.06-.94L8.5 2.5l-.94 2.06-2.06.94zm10 10l.94 2.06.94-2.06 2.06-.94-2.06-.94-.94-2.06-.94 2.06-2.06.94z\"/><path d=\"M17.41 7.96l-1.37-1.37c-.4-.4-.92-.59-1.43-.59-.52 0-1.04.2-1.43.59L10.3 9.45l-7.72 7.72c-.78.78-.78 2.05 0 2.83L4 21.41c.39.39.9.59 1.41.59.51 0 1.02-.2 1.41-.59l7.78-7.78 2.81-2.81c.8-.78.8-2.07 0-2.86zM5.41 20L4 18.59l7.72-7.72 1.47 1.35L5.41 20z\"/>\n",
              "  </svg>\n",
              "      </button>\n",
              "      \n",
              "  <style>\n",
              "    .colab-df-container {\n",
              "      display:flex;\n",
              "      flex-wrap:wrap;\n",
              "      gap: 12px;\n",
              "    }\n",
              "\n",
              "    .colab-df-convert {\n",
              "      background-color: #E8F0FE;\n",
              "      border: none;\n",
              "      border-radius: 50%;\n",
              "      cursor: pointer;\n",
              "      display: none;\n",
              "      fill: #1967D2;\n",
              "      height: 32px;\n",
              "      padding: 0 0 0 0;\n",
              "      width: 32px;\n",
              "    }\n",
              "\n",
              "    .colab-df-convert:hover {\n",
              "      background-color: #E2EBFA;\n",
              "      box-shadow: 0px 1px 2px rgba(60, 64, 67, 0.3), 0px 1px 3px 1px rgba(60, 64, 67, 0.15);\n",
              "      fill: #174EA6;\n",
              "    }\n",
              "\n",
              "    [theme=dark] .colab-df-convert {\n",
              "      background-color: #3B4455;\n",
              "      fill: #D2E3FC;\n",
              "    }\n",
              "\n",
              "    [theme=dark] .colab-df-convert:hover {\n",
              "      background-color: #434B5C;\n",
              "      box-shadow: 0px 1px 3px 1px rgba(0, 0, 0, 0.15);\n",
              "      filter: drop-shadow(0px 1px 2px rgba(0, 0, 0, 0.3));\n",
              "      fill: #FFFFFF;\n",
              "    }\n",
              "  </style>\n",
              "\n",
              "      <script>\n",
              "        const buttonEl =\n",
              "          document.querySelector('#df-60d60b06-22c2-44bf-b92e-aa3b2ebf5ed9 button.colab-df-convert');\n",
              "        buttonEl.style.display =\n",
              "          google.colab.kernel.accessAllowed ? 'block' : 'none';\n",
              "\n",
              "        async function convertToInteractive(key) {\n",
              "          const element = document.querySelector('#df-60d60b06-22c2-44bf-b92e-aa3b2ebf5ed9');\n",
              "          const dataTable =\n",
              "            await google.colab.kernel.invokeFunction('convertToInteractive',\n",
              "                                                     [key], {});\n",
              "          if (!dataTable) return;\n",
              "\n",
              "          const docLinkHtml = 'Like what you see? Visit the ' +\n",
              "            '<a target=\"_blank\" href=https://colab.research.google.com/notebooks/data_table.ipynb>data table notebook</a>'\n",
              "            + ' to learn more about interactive tables.';\n",
              "          element.innerHTML = '';\n",
              "          dataTable['output_type'] = 'display_data';\n",
              "          await google.colab.output.renderOutput(dataTable, element);\n",
              "          const docLink = document.createElement('div');\n",
              "          docLink.innerHTML = docLinkHtml;\n",
              "          element.appendChild(docLink);\n",
              "        }\n",
              "      </script>\n",
              "    </div>\n",
              "  </div>\n",
              "  "
            ]
          },
          "metadata": {},
          "execution_count": 5
        }
      ]
    },
    {
      "cell_type": "code",
      "source": [
        "data_a2.iloc[4,0]"
      ],
      "metadata": {
        "id": "SNiQgUlFqnqm",
        "colab": {
          "base_uri": "https://localhost:8080/"
        },
        "outputId": "558649ef-fe42-4cf2-8154-22982b561b65"
      },
      "execution_count": 6,
      "outputs": [
        {
          "output_type": "execute_result",
          "data": {
            "text/plain": [
              "False"
            ]
          },
          "metadata": {},
          "execution_count": 6
        }
      ]
    },
    {
      "cell_type": "code",
      "source": [
        "ai=[]\n",
        "for i in range(xx):\n",
        "    if data_a2.iloc[i,0]==False:\n",
        "        ai.append(i)\n",
        "data_a3=data_a2.drop(ai,axis=0) #\n",
        "data_a3\n",
        "len(ai)\n",
        "data_a3"
      ],
      "metadata": {
        "id": "RstzoQrFpxIm",
        "colab": {
          "base_uri": "https://localhost:8080/",
          "height": 505
        },
        "outputId": "8b890e5c-1034-4204-d739-d3096eaa57cd"
      },
      "execution_count": 7,
      "outputs": [
        {
          "output_type": "execute_result",
          "data": {
            "text/plain": [
              "     ¸ðµ¨ Æ÷ÇÔ   Y_B  899.9280058  900.2520706  900.5763689  900.9009009  \\\n",
              "0         True   2.0     0.276093     0.279368     0.282974     0.283645   \n",
              "1         True   1.8     0.199544     0.202455     0.206198     0.207755   \n",
              "2         True   6.7     0.306803     0.309845     0.313508     0.314680   \n",
              "3         True   6.2     0.286879     0.290392     0.294110     0.294774   \n",
              "12        True   2.2     0.137633     0.141045     0.144793     0.145757   \n",
              "..         ...   ...          ...          ...          ...          ...   \n",
              "619       True   8.6     0.231522     0.230534     0.231280     0.231104   \n",
              "620       True  10.8     0.227531     0.226628     0.227406     0.227385   \n",
              "621       True  12.2     0.224536     0.223379     0.224203     0.224431   \n",
              "622       True  13.4     0.226519     0.225667     0.226440     0.226193   \n",
              "623       True  15.8     0.233873     0.232724     0.233435     0.233191   \n",
              "\n",
              "     901.2256669  901.5506671  901.8759019  902.2013713  ...  2477.700694  \\\n",
              "0       0.283141     0.282718     0.281553     0.279137  ...     2.949425   \n",
              "1       0.208028     0.207398     0.205435     0.202679  ...     2.981332   \n",
              "2       0.314671     0.314172     0.312433     0.309447  ...     2.991938   \n",
              "3       0.294035     0.293060     0.291292     0.288594  ...     2.991402   \n",
              "12      0.145570     0.145180     0.143793     0.141257  ...     2.912618   \n",
              "..           ...          ...          ...          ...  ...          ...   \n",
              "619     0.230198     0.229698     0.229015     0.227028  ...     2.925508   \n",
              "620     0.226585     0.225993     0.225327     0.223806  ...     2.945441   \n",
              "621     0.223999     0.223736     0.222991     0.220813  ...     2.966221   \n",
              "622     0.225218     0.224726     0.224143     0.222250  ...     2.936783   \n",
              "623     0.232077     0.231309     0.230551     0.228832  ...     2.936938   \n",
              "\n",
              "     2480.15873  2482.621648  2485.089463  2487.562189  2490.039841  \\\n",
              "0      2.949937     2.940435     2.930193     2.927044     2.926591   \n",
              "1      2.984826     2.975499     2.964666     2.964128     2.967567   \n",
              "2      2.992541     2.984488     2.976776     2.975918     2.973828   \n",
              "3      2.990624     2.980183     2.970664     2.967151     2.961850   \n",
              "12     2.911201     2.898590     2.887394     2.886869     2.887019   \n",
              "..          ...          ...          ...          ...          ...   \n",
              "619    2.927053     2.920447     2.915572     2.920224     2.922330   \n",
              "620    2.943505     2.933849     2.929372     2.934153     2.933573   \n",
              "621    2.969063     2.961253     2.952713     2.949854     2.944465   \n",
              "622    2.939133     2.927408     2.915374     2.913538     2.912847   \n",
              "623    2.938734     2.926707     2.915750     2.916544     2.919218   \n",
              "\n",
              "     2492.522433  2495.00998  2497.502498      2500  \n",
              "0       2.917971    2.911627     2.911584  2.909855  \n",
              "1       2.960830    2.954538     2.956946  2.955335  \n",
              "2       2.963011    2.955492     2.954702  2.949301  \n",
              "3       2.948892    2.939125     2.938542  2.934796  \n",
              "12      2.875892    2.863482     2.862177  2.858754  \n",
              "..           ...         ...          ...       ...  \n",
              "619     2.909775    2.897480     2.897737  2.897391  \n",
              "620     2.921115    2.910637     2.914499  2.916288  \n",
              "621     2.929207    2.920399     2.922437  2.923226  \n",
              "622     2.901005    2.891991     2.894289  2.893951  \n",
              "623     2.910248    2.899414     2.894074  2.890147  \n",
              "\n",
              "[313 rows x 1781 columns]"
            ],
            "text/html": [
              "\n",
              "  <div id=\"df-6b268307-f75c-4a61-8af5-0588676bc6e9\">\n",
              "    <div class=\"colab-df-container\">\n",
              "      <div>\n",
              "<style scoped>\n",
              "    .dataframe tbody tr th:only-of-type {\n",
              "        vertical-align: middle;\n",
              "    }\n",
              "\n",
              "    .dataframe tbody tr th {\n",
              "        vertical-align: top;\n",
              "    }\n",
              "\n",
              "    .dataframe thead th {\n",
              "        text-align: right;\n",
              "    }\n",
              "</style>\n",
              "<table border=\"1\" class=\"dataframe\">\n",
              "  <thead>\n",
              "    <tr style=\"text-align: right;\">\n",
              "      <th></th>\n",
              "      <th>¸ðµ¨ Æ÷ÇÔ</th>\n",
              "      <th>Y_B</th>\n",
              "      <th>899.9280058</th>\n",
              "      <th>900.2520706</th>\n",
              "      <th>900.5763689</th>\n",
              "      <th>900.9009009</th>\n",
              "      <th>901.2256669</th>\n",
              "      <th>901.5506671</th>\n",
              "      <th>901.8759019</th>\n",
              "      <th>902.2013713</th>\n",
              "      <th>...</th>\n",
              "      <th>2477.700694</th>\n",
              "      <th>2480.15873</th>\n",
              "      <th>2482.621648</th>\n",
              "      <th>2485.089463</th>\n",
              "      <th>2487.562189</th>\n",
              "      <th>2490.039841</th>\n",
              "      <th>2492.522433</th>\n",
              "      <th>2495.00998</th>\n",
              "      <th>2497.502498</th>\n",
              "      <th>2500</th>\n",
              "    </tr>\n",
              "  </thead>\n",
              "  <tbody>\n",
              "    <tr>\n",
              "      <th>0</th>\n",
              "      <td>True</td>\n",
              "      <td>2.0</td>\n",
              "      <td>0.276093</td>\n",
              "      <td>0.279368</td>\n",
              "      <td>0.282974</td>\n",
              "      <td>0.283645</td>\n",
              "      <td>0.283141</td>\n",
              "      <td>0.282718</td>\n",
              "      <td>0.281553</td>\n",
              "      <td>0.279137</td>\n",
              "      <td>...</td>\n",
              "      <td>2.949425</td>\n",
              "      <td>2.949937</td>\n",
              "      <td>2.940435</td>\n",
              "      <td>2.930193</td>\n",
              "      <td>2.927044</td>\n",
              "      <td>2.926591</td>\n",
              "      <td>2.917971</td>\n",
              "      <td>2.911627</td>\n",
              "      <td>2.911584</td>\n",
              "      <td>2.909855</td>\n",
              "    </tr>\n",
              "    <tr>\n",
              "      <th>1</th>\n",
              "      <td>True</td>\n",
              "      <td>1.8</td>\n",
              "      <td>0.199544</td>\n",
              "      <td>0.202455</td>\n",
              "      <td>0.206198</td>\n",
              "      <td>0.207755</td>\n",
              "      <td>0.208028</td>\n",
              "      <td>0.207398</td>\n",
              "      <td>0.205435</td>\n",
              "      <td>0.202679</td>\n",
              "      <td>...</td>\n",
              "      <td>2.981332</td>\n",
              "      <td>2.984826</td>\n",
              "      <td>2.975499</td>\n",
              "      <td>2.964666</td>\n",
              "      <td>2.964128</td>\n",
              "      <td>2.967567</td>\n",
              "      <td>2.960830</td>\n",
              "      <td>2.954538</td>\n",
              "      <td>2.956946</td>\n",
              "      <td>2.955335</td>\n",
              "    </tr>\n",
              "    <tr>\n",
              "      <th>2</th>\n",
              "      <td>True</td>\n",
              "      <td>6.7</td>\n",
              "      <td>0.306803</td>\n",
              "      <td>0.309845</td>\n",
              "      <td>0.313508</td>\n",
              "      <td>0.314680</td>\n",
              "      <td>0.314671</td>\n",
              "      <td>0.314172</td>\n",
              "      <td>0.312433</td>\n",
              "      <td>0.309447</td>\n",
              "      <td>...</td>\n",
              "      <td>2.991938</td>\n",
              "      <td>2.992541</td>\n",
              "      <td>2.984488</td>\n",
              "      <td>2.976776</td>\n",
              "      <td>2.975918</td>\n",
              "      <td>2.973828</td>\n",
              "      <td>2.963011</td>\n",
              "      <td>2.955492</td>\n",
              "      <td>2.954702</td>\n",
              "      <td>2.949301</td>\n",
              "    </tr>\n",
              "    <tr>\n",
              "      <th>3</th>\n",
              "      <td>True</td>\n",
              "      <td>6.2</td>\n",
              "      <td>0.286879</td>\n",
              "      <td>0.290392</td>\n",
              "      <td>0.294110</td>\n",
              "      <td>0.294774</td>\n",
              "      <td>0.294035</td>\n",
              "      <td>0.293060</td>\n",
              "      <td>0.291292</td>\n",
              "      <td>0.288594</td>\n",
              "      <td>...</td>\n",
              "      <td>2.991402</td>\n",
              "      <td>2.990624</td>\n",
              "      <td>2.980183</td>\n",
              "      <td>2.970664</td>\n",
              "      <td>2.967151</td>\n",
              "      <td>2.961850</td>\n",
              "      <td>2.948892</td>\n",
              "      <td>2.939125</td>\n",
              "      <td>2.938542</td>\n",
              "      <td>2.934796</td>\n",
              "    </tr>\n",
              "    <tr>\n",
              "      <th>12</th>\n",
              "      <td>True</td>\n",
              "      <td>2.2</td>\n",
              "      <td>0.137633</td>\n",
              "      <td>0.141045</td>\n",
              "      <td>0.144793</td>\n",
              "      <td>0.145757</td>\n",
              "      <td>0.145570</td>\n",
              "      <td>0.145180</td>\n",
              "      <td>0.143793</td>\n",
              "      <td>0.141257</td>\n",
              "      <td>...</td>\n",
              "      <td>2.912618</td>\n",
              "      <td>2.911201</td>\n",
              "      <td>2.898590</td>\n",
              "      <td>2.887394</td>\n",
              "      <td>2.886869</td>\n",
              "      <td>2.887019</td>\n",
              "      <td>2.875892</td>\n",
              "      <td>2.863482</td>\n",
              "      <td>2.862177</td>\n",
              "      <td>2.858754</td>\n",
              "    </tr>\n",
              "    <tr>\n",
              "      <th>...</th>\n",
              "      <td>...</td>\n",
              "      <td>...</td>\n",
              "      <td>...</td>\n",
              "      <td>...</td>\n",
              "      <td>...</td>\n",
              "      <td>...</td>\n",
              "      <td>...</td>\n",
              "      <td>...</td>\n",
              "      <td>...</td>\n",
              "      <td>...</td>\n",
              "      <td>...</td>\n",
              "      <td>...</td>\n",
              "      <td>...</td>\n",
              "      <td>...</td>\n",
              "      <td>...</td>\n",
              "      <td>...</td>\n",
              "      <td>...</td>\n",
              "      <td>...</td>\n",
              "      <td>...</td>\n",
              "      <td>...</td>\n",
              "      <td>...</td>\n",
              "    </tr>\n",
              "    <tr>\n",
              "      <th>619</th>\n",
              "      <td>True</td>\n",
              "      <td>8.6</td>\n",
              "      <td>0.231522</td>\n",
              "      <td>0.230534</td>\n",
              "      <td>0.231280</td>\n",
              "      <td>0.231104</td>\n",
              "      <td>0.230198</td>\n",
              "      <td>0.229698</td>\n",
              "      <td>0.229015</td>\n",
              "      <td>0.227028</td>\n",
              "      <td>...</td>\n",
              "      <td>2.925508</td>\n",
              "      <td>2.927053</td>\n",
              "      <td>2.920447</td>\n",
              "      <td>2.915572</td>\n",
              "      <td>2.920224</td>\n",
              "      <td>2.922330</td>\n",
              "      <td>2.909775</td>\n",
              "      <td>2.897480</td>\n",
              "      <td>2.897737</td>\n",
              "      <td>2.897391</td>\n",
              "    </tr>\n",
              "    <tr>\n",
              "      <th>620</th>\n",
              "      <td>True</td>\n",
              "      <td>10.8</td>\n",
              "      <td>0.227531</td>\n",
              "      <td>0.226628</td>\n",
              "      <td>0.227406</td>\n",
              "      <td>0.227385</td>\n",
              "      <td>0.226585</td>\n",
              "      <td>0.225993</td>\n",
              "      <td>0.225327</td>\n",
              "      <td>0.223806</td>\n",
              "      <td>...</td>\n",
              "      <td>2.945441</td>\n",
              "      <td>2.943505</td>\n",
              "      <td>2.933849</td>\n",
              "      <td>2.929372</td>\n",
              "      <td>2.934153</td>\n",
              "      <td>2.933573</td>\n",
              "      <td>2.921115</td>\n",
              "      <td>2.910637</td>\n",
              "      <td>2.914499</td>\n",
              "      <td>2.916288</td>\n",
              "    </tr>\n",
              "    <tr>\n",
              "      <th>621</th>\n",
              "      <td>True</td>\n",
              "      <td>12.2</td>\n",
              "      <td>0.224536</td>\n",
              "      <td>0.223379</td>\n",
              "      <td>0.224203</td>\n",
              "      <td>0.224431</td>\n",
              "      <td>0.223999</td>\n",
              "      <td>0.223736</td>\n",
              "      <td>0.222991</td>\n",
              "      <td>0.220813</td>\n",
              "      <td>...</td>\n",
              "      <td>2.966221</td>\n",
              "      <td>2.969063</td>\n",
              "      <td>2.961253</td>\n",
              "      <td>2.952713</td>\n",
              "      <td>2.949854</td>\n",
              "      <td>2.944465</td>\n",
              "      <td>2.929207</td>\n",
              "      <td>2.920399</td>\n",
              "      <td>2.922437</td>\n",
              "      <td>2.923226</td>\n",
              "    </tr>\n",
              "    <tr>\n",
              "      <th>622</th>\n",
              "      <td>True</td>\n",
              "      <td>13.4</td>\n",
              "      <td>0.226519</td>\n",
              "      <td>0.225667</td>\n",
              "      <td>0.226440</td>\n",
              "      <td>0.226193</td>\n",
              "      <td>0.225218</td>\n",
              "      <td>0.224726</td>\n",
              "      <td>0.224143</td>\n",
              "      <td>0.222250</td>\n",
              "      <td>...</td>\n",
              "      <td>2.936783</td>\n",
              "      <td>2.939133</td>\n",
              "      <td>2.927408</td>\n",
              "      <td>2.915374</td>\n",
              "      <td>2.913538</td>\n",
              "      <td>2.912847</td>\n",
              "      <td>2.901005</td>\n",
              "      <td>2.891991</td>\n",
              "      <td>2.894289</td>\n",
              "      <td>2.893951</td>\n",
              "    </tr>\n",
              "    <tr>\n",
              "      <th>623</th>\n",
              "      <td>True</td>\n",
              "      <td>15.8</td>\n",
              "      <td>0.233873</td>\n",
              "      <td>0.232724</td>\n",
              "      <td>0.233435</td>\n",
              "      <td>0.233191</td>\n",
              "      <td>0.232077</td>\n",
              "      <td>0.231309</td>\n",
              "      <td>0.230551</td>\n",
              "      <td>0.228832</td>\n",
              "      <td>...</td>\n",
              "      <td>2.936938</td>\n",
              "      <td>2.938734</td>\n",
              "      <td>2.926707</td>\n",
              "      <td>2.915750</td>\n",
              "      <td>2.916544</td>\n",
              "      <td>2.919218</td>\n",
              "      <td>2.910248</td>\n",
              "      <td>2.899414</td>\n",
              "      <td>2.894074</td>\n",
              "      <td>2.890147</td>\n",
              "    </tr>\n",
              "  </tbody>\n",
              "</table>\n",
              "<p>313 rows × 1781 columns</p>\n",
              "</div>\n",
              "      <button class=\"colab-df-convert\" onclick=\"convertToInteractive('df-6b268307-f75c-4a61-8af5-0588676bc6e9')\"\n",
              "              title=\"Convert this dataframe to an interactive table.\"\n",
              "              style=\"display:none;\">\n",
              "        \n",
              "  <svg xmlns=\"http://www.w3.org/2000/svg\" height=\"24px\"viewBox=\"0 0 24 24\"\n",
              "       width=\"24px\">\n",
              "    <path d=\"M0 0h24v24H0V0z\" fill=\"none\"/>\n",
              "    <path d=\"M18.56 5.44l.94 2.06.94-2.06 2.06-.94-2.06-.94-.94-2.06-.94 2.06-2.06.94zm-11 1L8.5 8.5l.94-2.06 2.06-.94-2.06-.94L8.5 2.5l-.94 2.06-2.06.94zm10 10l.94 2.06.94-2.06 2.06-.94-2.06-.94-.94-2.06-.94 2.06-2.06.94z\"/><path d=\"M17.41 7.96l-1.37-1.37c-.4-.4-.92-.59-1.43-.59-.52 0-1.04.2-1.43.59L10.3 9.45l-7.72 7.72c-.78.78-.78 2.05 0 2.83L4 21.41c.39.39.9.59 1.41.59.51 0 1.02-.2 1.41-.59l7.78-7.78 2.81-2.81c.8-.78.8-2.07 0-2.86zM5.41 20L4 18.59l7.72-7.72 1.47 1.35L5.41 20z\"/>\n",
              "  </svg>\n",
              "      </button>\n",
              "      \n",
              "  <style>\n",
              "    .colab-df-container {\n",
              "      display:flex;\n",
              "      flex-wrap:wrap;\n",
              "      gap: 12px;\n",
              "    }\n",
              "\n",
              "    .colab-df-convert {\n",
              "      background-color: #E8F0FE;\n",
              "      border: none;\n",
              "      border-radius: 50%;\n",
              "      cursor: pointer;\n",
              "      display: none;\n",
              "      fill: #1967D2;\n",
              "      height: 32px;\n",
              "      padding: 0 0 0 0;\n",
              "      width: 32px;\n",
              "    }\n",
              "\n",
              "    .colab-df-convert:hover {\n",
              "      background-color: #E2EBFA;\n",
              "      box-shadow: 0px 1px 2px rgba(60, 64, 67, 0.3), 0px 1px 3px 1px rgba(60, 64, 67, 0.15);\n",
              "      fill: #174EA6;\n",
              "    }\n",
              "\n",
              "    [theme=dark] .colab-df-convert {\n",
              "      background-color: #3B4455;\n",
              "      fill: #D2E3FC;\n",
              "    }\n",
              "\n",
              "    [theme=dark] .colab-df-convert:hover {\n",
              "      background-color: #434B5C;\n",
              "      box-shadow: 0px 1px 3px 1px rgba(0, 0, 0, 0.15);\n",
              "      filter: drop-shadow(0px 1px 2px rgba(0, 0, 0, 0.3));\n",
              "      fill: #FFFFFF;\n",
              "    }\n",
              "  </style>\n",
              "\n",
              "      <script>\n",
              "        const buttonEl =\n",
              "          document.querySelector('#df-6b268307-f75c-4a61-8af5-0588676bc6e9 button.colab-df-convert');\n",
              "        buttonEl.style.display =\n",
              "          google.colab.kernel.accessAllowed ? 'block' : 'none';\n",
              "\n",
              "        async function convertToInteractive(key) {\n",
              "          const element = document.querySelector('#df-6b268307-f75c-4a61-8af5-0588676bc6e9');\n",
              "          const dataTable =\n",
              "            await google.colab.kernel.invokeFunction('convertToInteractive',\n",
              "                                                     [key], {});\n",
              "          if (!dataTable) return;\n",
              "\n",
              "          const docLinkHtml = 'Like what you see? Visit the ' +\n",
              "            '<a target=\"_blank\" href=https://colab.research.google.com/notebooks/data_table.ipynb>data table notebook</a>'\n",
              "            + ' to learn more about interactive tables.';\n",
              "          element.innerHTML = '';\n",
              "          dataTable['output_type'] = 'display_data';\n",
              "          await google.colab.output.renderOutput(dataTable, element);\n",
              "          const docLink = document.createElement('div');\n",
              "          docLink.innerHTML = docLinkHtml;\n",
              "          element.appendChild(docLink);\n",
              "        }\n",
              "      </script>\n",
              "    </div>\n",
              "  </div>\n",
              "  "
            ]
          },
          "metadata": {},
          "execution_count": 7
        }
      ]
    },
    {
      "cell_type": "code",
      "source": [
        "x1,y1=data_a3.shape\n",
        "data_a1=data_a3.iloc[0::,2:yy+1]\n",
        "data_a1"
      ],
      "metadata": {
        "id": "9VdA_HdZsSli",
        "colab": {
          "base_uri": "https://localhost:8080/",
          "height": 488
        },
        "outputId": "aabd1963-ee41-4593-aa68-b72d3661d655"
      },
      "execution_count": 8,
      "outputs": [
        {
          "output_type": "execute_result",
          "data": {
            "text/plain": [
              "     899.9280058  900.2520706  900.5763689  900.9009009  901.2256669  \\\n",
              "0       0.276093     0.279368     0.282974     0.283645     0.283141   \n",
              "1       0.199544     0.202455     0.206198     0.207755     0.208028   \n",
              "2       0.306803     0.309845     0.313508     0.314680     0.314671   \n",
              "3       0.286879     0.290392     0.294110     0.294774     0.294035   \n",
              "12      0.137633     0.141045     0.144793     0.145757     0.145570   \n",
              "..           ...          ...          ...          ...          ...   \n",
              "619     0.231522     0.230534     0.231280     0.231104     0.230198   \n",
              "620     0.227531     0.226628     0.227406     0.227385     0.226585   \n",
              "621     0.224536     0.223379     0.224203     0.224431     0.223999   \n",
              "622     0.226519     0.225667     0.226440     0.226193     0.225218   \n",
              "623     0.233873     0.232724     0.233435     0.233191     0.232077   \n",
              "\n",
              "     901.5506671  901.8759019  902.2013713  902.5270758  902.8530155  ...  \\\n",
              "0       0.282718     0.281553     0.279137     0.279341     0.282978  ...   \n",
              "1       0.207398     0.205435     0.202679     0.203198     0.207066  ...   \n",
              "2       0.314172     0.312433     0.309447     0.309265     0.312464  ...   \n",
              "3       0.293060     0.291292     0.288594     0.288835     0.292392  ...   \n",
              "12      0.145180     0.143793     0.141257     0.141577     0.145204  ...   \n",
              "..           ...          ...          ...          ...          ...  ...   \n",
              "619     0.229698     0.229015     0.227028     0.224940     0.224793  ...   \n",
              "620     0.225993     0.225327     0.223806     0.222423     0.222653  ...   \n",
              "621     0.223736     0.222991     0.220813     0.218589     0.218392  ...   \n",
              "622     0.224726     0.224143     0.222250     0.220084     0.219543  ...   \n",
              "623     0.231309     0.230551     0.228832     0.227284     0.227713  ...   \n",
              "\n",
              "     2477.700694  2480.15873  2482.621648  2485.089463  2487.562189  \\\n",
              "0       2.949425    2.949937     2.940435     2.930193     2.927044   \n",
              "1       2.981332    2.984826     2.975499     2.964666     2.964128   \n",
              "2       2.991938    2.992541     2.984488     2.976776     2.975918   \n",
              "3       2.991402    2.990624     2.980183     2.970664     2.967151   \n",
              "12      2.912618    2.911201     2.898590     2.887394     2.886869   \n",
              "..           ...         ...          ...          ...          ...   \n",
              "619     2.925508    2.927053     2.920447     2.915572     2.920224   \n",
              "620     2.945441    2.943505     2.933849     2.929372     2.934153   \n",
              "621     2.966221    2.969063     2.961253     2.952713     2.949854   \n",
              "622     2.936783    2.939133     2.927408     2.915374     2.913538   \n",
              "623     2.936938    2.938734     2.926707     2.915750     2.916544   \n",
              "\n",
              "     2490.039841  2492.522433  2495.00998  2497.502498      2500  \n",
              "0       2.926591     2.917971    2.911627     2.911584  2.909855  \n",
              "1       2.967567     2.960830    2.954538     2.956946  2.955335  \n",
              "2       2.973828     2.963011    2.955492     2.954702  2.949301  \n",
              "3       2.961850     2.948892    2.939125     2.938542  2.934796  \n",
              "12      2.887019     2.875892    2.863482     2.862177  2.858754  \n",
              "..           ...          ...         ...          ...       ...  \n",
              "619     2.922330     2.909775    2.897480     2.897737  2.897391  \n",
              "620     2.933573     2.921115    2.910637     2.914499  2.916288  \n",
              "621     2.944465     2.929207    2.920399     2.922437  2.923226  \n",
              "622     2.912847     2.901005    2.891991     2.894289  2.893951  \n",
              "623     2.919218     2.910248    2.899414     2.894074  2.890147  \n",
              "\n",
              "[313 rows x 1779 columns]"
            ],
            "text/html": [
              "\n",
              "  <div id=\"df-ca30a851-a2fd-4bd3-be51-0e24cd6be7be\">\n",
              "    <div class=\"colab-df-container\">\n",
              "      <div>\n",
              "<style scoped>\n",
              "    .dataframe tbody tr th:only-of-type {\n",
              "        vertical-align: middle;\n",
              "    }\n",
              "\n",
              "    .dataframe tbody tr th {\n",
              "        vertical-align: top;\n",
              "    }\n",
              "\n",
              "    .dataframe thead th {\n",
              "        text-align: right;\n",
              "    }\n",
              "</style>\n",
              "<table border=\"1\" class=\"dataframe\">\n",
              "  <thead>\n",
              "    <tr style=\"text-align: right;\">\n",
              "      <th></th>\n",
              "      <th>899.9280058</th>\n",
              "      <th>900.2520706</th>\n",
              "      <th>900.5763689</th>\n",
              "      <th>900.9009009</th>\n",
              "      <th>901.2256669</th>\n",
              "      <th>901.5506671</th>\n",
              "      <th>901.8759019</th>\n",
              "      <th>902.2013713</th>\n",
              "      <th>902.5270758</th>\n",
              "      <th>902.8530155</th>\n",
              "      <th>...</th>\n",
              "      <th>2477.700694</th>\n",
              "      <th>2480.15873</th>\n",
              "      <th>2482.621648</th>\n",
              "      <th>2485.089463</th>\n",
              "      <th>2487.562189</th>\n",
              "      <th>2490.039841</th>\n",
              "      <th>2492.522433</th>\n",
              "      <th>2495.00998</th>\n",
              "      <th>2497.502498</th>\n",
              "      <th>2500</th>\n",
              "    </tr>\n",
              "  </thead>\n",
              "  <tbody>\n",
              "    <tr>\n",
              "      <th>0</th>\n",
              "      <td>0.276093</td>\n",
              "      <td>0.279368</td>\n",
              "      <td>0.282974</td>\n",
              "      <td>0.283645</td>\n",
              "      <td>0.283141</td>\n",
              "      <td>0.282718</td>\n",
              "      <td>0.281553</td>\n",
              "      <td>0.279137</td>\n",
              "      <td>0.279341</td>\n",
              "      <td>0.282978</td>\n",
              "      <td>...</td>\n",
              "      <td>2.949425</td>\n",
              "      <td>2.949937</td>\n",
              "      <td>2.940435</td>\n",
              "      <td>2.930193</td>\n",
              "      <td>2.927044</td>\n",
              "      <td>2.926591</td>\n",
              "      <td>2.917971</td>\n",
              "      <td>2.911627</td>\n",
              "      <td>2.911584</td>\n",
              "      <td>2.909855</td>\n",
              "    </tr>\n",
              "    <tr>\n",
              "      <th>1</th>\n",
              "      <td>0.199544</td>\n",
              "      <td>0.202455</td>\n",
              "      <td>0.206198</td>\n",
              "      <td>0.207755</td>\n",
              "      <td>0.208028</td>\n",
              "      <td>0.207398</td>\n",
              "      <td>0.205435</td>\n",
              "      <td>0.202679</td>\n",
              "      <td>0.203198</td>\n",
              "      <td>0.207066</td>\n",
              "      <td>...</td>\n",
              "      <td>2.981332</td>\n",
              "      <td>2.984826</td>\n",
              "      <td>2.975499</td>\n",
              "      <td>2.964666</td>\n",
              "      <td>2.964128</td>\n",
              "      <td>2.967567</td>\n",
              "      <td>2.960830</td>\n",
              "      <td>2.954538</td>\n",
              "      <td>2.956946</td>\n",
              "      <td>2.955335</td>\n",
              "    </tr>\n",
              "    <tr>\n",
              "      <th>2</th>\n",
              "      <td>0.306803</td>\n",
              "      <td>0.309845</td>\n",
              "      <td>0.313508</td>\n",
              "      <td>0.314680</td>\n",
              "      <td>0.314671</td>\n",
              "      <td>0.314172</td>\n",
              "      <td>0.312433</td>\n",
              "      <td>0.309447</td>\n",
              "      <td>0.309265</td>\n",
              "      <td>0.312464</td>\n",
              "      <td>...</td>\n",
              "      <td>2.991938</td>\n",
              "      <td>2.992541</td>\n",
              "      <td>2.984488</td>\n",
              "      <td>2.976776</td>\n",
              "      <td>2.975918</td>\n",
              "      <td>2.973828</td>\n",
              "      <td>2.963011</td>\n",
              "      <td>2.955492</td>\n",
              "      <td>2.954702</td>\n",
              "      <td>2.949301</td>\n",
              "    </tr>\n",
              "    <tr>\n",
              "      <th>3</th>\n",
              "      <td>0.286879</td>\n",
              "      <td>0.290392</td>\n",
              "      <td>0.294110</td>\n",
              "      <td>0.294774</td>\n",
              "      <td>0.294035</td>\n",
              "      <td>0.293060</td>\n",
              "      <td>0.291292</td>\n",
              "      <td>0.288594</td>\n",
              "      <td>0.288835</td>\n",
              "      <td>0.292392</td>\n",
              "      <td>...</td>\n",
              "      <td>2.991402</td>\n",
              "      <td>2.990624</td>\n",
              "      <td>2.980183</td>\n",
              "      <td>2.970664</td>\n",
              "      <td>2.967151</td>\n",
              "      <td>2.961850</td>\n",
              "      <td>2.948892</td>\n",
              "      <td>2.939125</td>\n",
              "      <td>2.938542</td>\n",
              "      <td>2.934796</td>\n",
              "    </tr>\n",
              "    <tr>\n",
              "      <th>12</th>\n",
              "      <td>0.137633</td>\n",
              "      <td>0.141045</td>\n",
              "      <td>0.144793</td>\n",
              "      <td>0.145757</td>\n",
              "      <td>0.145570</td>\n",
              "      <td>0.145180</td>\n",
              "      <td>0.143793</td>\n",
              "      <td>0.141257</td>\n",
              "      <td>0.141577</td>\n",
              "      <td>0.145204</td>\n",
              "      <td>...</td>\n",
              "      <td>2.912618</td>\n",
              "      <td>2.911201</td>\n",
              "      <td>2.898590</td>\n",
              "      <td>2.887394</td>\n",
              "      <td>2.886869</td>\n",
              "      <td>2.887019</td>\n",
              "      <td>2.875892</td>\n",
              "      <td>2.863482</td>\n",
              "      <td>2.862177</td>\n",
              "      <td>2.858754</td>\n",
              "    </tr>\n",
              "    <tr>\n",
              "      <th>...</th>\n",
              "      <td>...</td>\n",
              "      <td>...</td>\n",
              "      <td>...</td>\n",
              "      <td>...</td>\n",
              "      <td>...</td>\n",
              "      <td>...</td>\n",
              "      <td>...</td>\n",
              "      <td>...</td>\n",
              "      <td>...</td>\n",
              "      <td>...</td>\n",
              "      <td>...</td>\n",
              "      <td>...</td>\n",
              "      <td>...</td>\n",
              "      <td>...</td>\n",
              "      <td>...</td>\n",
              "      <td>...</td>\n",
              "      <td>...</td>\n",
              "      <td>...</td>\n",
              "      <td>...</td>\n",
              "      <td>...</td>\n",
              "      <td>...</td>\n",
              "    </tr>\n",
              "    <tr>\n",
              "      <th>619</th>\n",
              "      <td>0.231522</td>\n",
              "      <td>0.230534</td>\n",
              "      <td>0.231280</td>\n",
              "      <td>0.231104</td>\n",
              "      <td>0.230198</td>\n",
              "      <td>0.229698</td>\n",
              "      <td>0.229015</td>\n",
              "      <td>0.227028</td>\n",
              "      <td>0.224940</td>\n",
              "      <td>0.224793</td>\n",
              "      <td>...</td>\n",
              "      <td>2.925508</td>\n",
              "      <td>2.927053</td>\n",
              "      <td>2.920447</td>\n",
              "      <td>2.915572</td>\n",
              "      <td>2.920224</td>\n",
              "      <td>2.922330</td>\n",
              "      <td>2.909775</td>\n",
              "      <td>2.897480</td>\n",
              "      <td>2.897737</td>\n",
              "      <td>2.897391</td>\n",
              "    </tr>\n",
              "    <tr>\n",
              "      <th>620</th>\n",
              "      <td>0.227531</td>\n",
              "      <td>0.226628</td>\n",
              "      <td>0.227406</td>\n",
              "      <td>0.227385</td>\n",
              "      <td>0.226585</td>\n",
              "      <td>0.225993</td>\n",
              "      <td>0.225327</td>\n",
              "      <td>0.223806</td>\n",
              "      <td>0.222423</td>\n",
              "      <td>0.222653</td>\n",
              "      <td>...</td>\n",
              "      <td>2.945441</td>\n",
              "      <td>2.943505</td>\n",
              "      <td>2.933849</td>\n",
              "      <td>2.929372</td>\n",
              "      <td>2.934153</td>\n",
              "      <td>2.933573</td>\n",
              "      <td>2.921115</td>\n",
              "      <td>2.910637</td>\n",
              "      <td>2.914499</td>\n",
              "      <td>2.916288</td>\n",
              "    </tr>\n",
              "    <tr>\n",
              "      <th>621</th>\n",
              "      <td>0.224536</td>\n",
              "      <td>0.223379</td>\n",
              "      <td>0.224203</td>\n",
              "      <td>0.224431</td>\n",
              "      <td>0.223999</td>\n",
              "      <td>0.223736</td>\n",
              "      <td>0.222991</td>\n",
              "      <td>0.220813</td>\n",
              "      <td>0.218589</td>\n",
              "      <td>0.218392</td>\n",
              "      <td>...</td>\n",
              "      <td>2.966221</td>\n",
              "      <td>2.969063</td>\n",
              "      <td>2.961253</td>\n",
              "      <td>2.952713</td>\n",
              "      <td>2.949854</td>\n",
              "      <td>2.944465</td>\n",
              "      <td>2.929207</td>\n",
              "      <td>2.920399</td>\n",
              "      <td>2.922437</td>\n",
              "      <td>2.923226</td>\n",
              "    </tr>\n",
              "    <tr>\n",
              "      <th>622</th>\n",
              "      <td>0.226519</td>\n",
              "      <td>0.225667</td>\n",
              "      <td>0.226440</td>\n",
              "      <td>0.226193</td>\n",
              "      <td>0.225218</td>\n",
              "      <td>0.224726</td>\n",
              "      <td>0.224143</td>\n",
              "      <td>0.222250</td>\n",
              "      <td>0.220084</td>\n",
              "      <td>0.219543</td>\n",
              "      <td>...</td>\n",
              "      <td>2.936783</td>\n",
              "      <td>2.939133</td>\n",
              "      <td>2.927408</td>\n",
              "      <td>2.915374</td>\n",
              "      <td>2.913538</td>\n",
              "      <td>2.912847</td>\n",
              "      <td>2.901005</td>\n",
              "      <td>2.891991</td>\n",
              "      <td>2.894289</td>\n",
              "      <td>2.893951</td>\n",
              "    </tr>\n",
              "    <tr>\n",
              "      <th>623</th>\n",
              "      <td>0.233873</td>\n",
              "      <td>0.232724</td>\n",
              "      <td>0.233435</td>\n",
              "      <td>0.233191</td>\n",
              "      <td>0.232077</td>\n",
              "      <td>0.231309</td>\n",
              "      <td>0.230551</td>\n",
              "      <td>0.228832</td>\n",
              "      <td>0.227284</td>\n",
              "      <td>0.227713</td>\n",
              "      <td>...</td>\n",
              "      <td>2.936938</td>\n",
              "      <td>2.938734</td>\n",
              "      <td>2.926707</td>\n",
              "      <td>2.915750</td>\n",
              "      <td>2.916544</td>\n",
              "      <td>2.919218</td>\n",
              "      <td>2.910248</td>\n",
              "      <td>2.899414</td>\n",
              "      <td>2.894074</td>\n",
              "      <td>2.890147</td>\n",
              "    </tr>\n",
              "  </tbody>\n",
              "</table>\n",
              "<p>313 rows × 1779 columns</p>\n",
              "</div>\n",
              "      <button class=\"colab-df-convert\" onclick=\"convertToInteractive('df-ca30a851-a2fd-4bd3-be51-0e24cd6be7be')\"\n",
              "              title=\"Convert this dataframe to an interactive table.\"\n",
              "              style=\"display:none;\">\n",
              "        \n",
              "  <svg xmlns=\"http://www.w3.org/2000/svg\" height=\"24px\"viewBox=\"0 0 24 24\"\n",
              "       width=\"24px\">\n",
              "    <path d=\"M0 0h24v24H0V0z\" fill=\"none\"/>\n",
              "    <path d=\"M18.56 5.44l.94 2.06.94-2.06 2.06-.94-2.06-.94-.94-2.06-.94 2.06-2.06.94zm-11 1L8.5 8.5l.94-2.06 2.06-.94-2.06-.94L8.5 2.5l-.94 2.06-2.06.94zm10 10l.94 2.06.94-2.06 2.06-.94-2.06-.94-.94-2.06-.94 2.06-2.06.94z\"/><path d=\"M17.41 7.96l-1.37-1.37c-.4-.4-.92-.59-1.43-.59-.52 0-1.04.2-1.43.59L10.3 9.45l-7.72 7.72c-.78.78-.78 2.05 0 2.83L4 21.41c.39.39.9.59 1.41.59.51 0 1.02-.2 1.41-.59l7.78-7.78 2.81-2.81c.8-.78.8-2.07 0-2.86zM5.41 20L4 18.59l7.72-7.72 1.47 1.35L5.41 20z\"/>\n",
              "  </svg>\n",
              "      </button>\n",
              "      \n",
              "  <style>\n",
              "    .colab-df-container {\n",
              "      display:flex;\n",
              "      flex-wrap:wrap;\n",
              "      gap: 12px;\n",
              "    }\n",
              "\n",
              "    .colab-df-convert {\n",
              "      background-color: #E8F0FE;\n",
              "      border: none;\n",
              "      border-radius: 50%;\n",
              "      cursor: pointer;\n",
              "      display: none;\n",
              "      fill: #1967D2;\n",
              "      height: 32px;\n",
              "      padding: 0 0 0 0;\n",
              "      width: 32px;\n",
              "    }\n",
              "\n",
              "    .colab-df-convert:hover {\n",
              "      background-color: #E2EBFA;\n",
              "      box-shadow: 0px 1px 2px rgba(60, 64, 67, 0.3), 0px 1px 3px 1px rgba(60, 64, 67, 0.15);\n",
              "      fill: #174EA6;\n",
              "    }\n",
              "\n",
              "    [theme=dark] .colab-df-convert {\n",
              "      background-color: #3B4455;\n",
              "      fill: #D2E3FC;\n",
              "    }\n",
              "\n",
              "    [theme=dark] .colab-df-convert:hover {\n",
              "      background-color: #434B5C;\n",
              "      box-shadow: 0px 1px 3px 1px rgba(0, 0, 0, 0.15);\n",
              "      filter: drop-shadow(0px 1px 2px rgba(0, 0, 0, 0.3));\n",
              "      fill: #FFFFFF;\n",
              "    }\n",
              "  </style>\n",
              "\n",
              "      <script>\n",
              "        const buttonEl =\n",
              "          document.querySelector('#df-ca30a851-a2fd-4bd3-be51-0e24cd6be7be button.colab-df-convert');\n",
              "        buttonEl.style.display =\n",
              "          google.colab.kernel.accessAllowed ? 'block' : 'none';\n",
              "\n",
              "        async function convertToInteractive(key) {\n",
              "          const element = document.querySelector('#df-ca30a851-a2fd-4bd3-be51-0e24cd6be7be');\n",
              "          const dataTable =\n",
              "            await google.colab.kernel.invokeFunction('convertToInteractive',\n",
              "                                                     [key], {});\n",
              "          if (!dataTable) return;\n",
              "\n",
              "          const docLinkHtml = 'Like what you see? Visit the ' +\n",
              "            '<a target=\"_blank\" href=https://colab.research.google.com/notebooks/data_table.ipynb>data table notebook</a>'\n",
              "            + ' to learn more about interactive tables.';\n",
              "          element.innerHTML = '';\n",
              "          dataTable['output_type'] = 'display_data';\n",
              "          await google.colab.output.renderOutput(dataTable, element);\n",
              "          const docLink = document.createElement('div');\n",
              "          docLink.innerHTML = docLinkHtml;\n",
              "          element.appendChild(docLink);\n",
              "        }\n",
              "      </script>\n",
              "    </div>\n",
              "  </div>\n",
              "  "
            ]
          },
          "metadata": {},
          "execution_count": 8
        }
      ]
    },
    {
      "cell_type": "code",
      "source": [
        "data_a1_n=data_a1.to_numpy()\n",
        "data_a1_input=data_a1_n\n",
        "data_a1_input"
      ],
      "metadata": {
        "id": "V_jf7CQ6yb9k",
        "colab": {
          "base_uri": "https://localhost:8080/"
        },
        "outputId": "7241e2bb-5883-4a9f-9799-bf40be60591a"
      },
      "execution_count": 9,
      "outputs": [
        {
          "output_type": "execute_result",
          "data": {
            "text/plain": [
              "array([[0.27609259, 0.27936762, 0.28297358, ..., 2.91162677, 2.91158401,\n",
              "        2.90985458],\n",
              "       [0.19954403, 0.20245471, 0.20619798, ..., 2.95453844, 2.95694632,\n",
              "        2.95533475],\n",
              "       [0.3068027 , 0.3098446 , 0.31350789, ..., 2.95549201, 2.9547023 ,\n",
              "        2.94930113],\n",
              "       ...,\n",
              "       [0.22453563, 0.22337879, 0.22420344, ..., 2.92039857, 2.92243662,\n",
              "        2.92322634],\n",
              "       [0.22651915, 0.22566712, 0.22644003, ..., 2.89199138, 2.89428919,\n",
              "        2.8939513 ],\n",
              "       [0.23387301, 0.23272414, 0.23343534, ..., 2.89941353, 2.89407375,\n",
              "        2.89014733]])"
            ]
          },
          "metadata": {},
          "execution_count": 9
        }
      ]
    },
    {
      "cell_type": "code",
      "source": [
        "data_a1_output=data_a3.iloc[0::,1:2]\n",
        "data_a1_output.head()"
      ],
      "metadata": {
        "id": "BLFRIBkgz3CZ",
        "colab": {
          "base_uri": "https://localhost:8080/",
          "height": 206
        },
        "outputId": "e8775736-fc1f-4c15-a406-02d1c0963f7e"
      },
      "execution_count": 10,
      "outputs": [
        {
          "output_type": "execute_result",
          "data": {
            "text/plain": [
              "    Y_B\n",
              "0   2.0\n",
              "1   1.8\n",
              "2   6.7\n",
              "3   6.2\n",
              "12  2.2"
            ],
            "text/html": [
              "\n",
              "  <div id=\"df-69c2a4b2-3b77-490c-a749-6a0965a0da17\">\n",
              "    <div class=\"colab-df-container\">\n",
              "      <div>\n",
              "<style scoped>\n",
              "    .dataframe tbody tr th:only-of-type {\n",
              "        vertical-align: middle;\n",
              "    }\n",
              "\n",
              "    .dataframe tbody tr th {\n",
              "        vertical-align: top;\n",
              "    }\n",
              "\n",
              "    .dataframe thead th {\n",
              "        text-align: right;\n",
              "    }\n",
              "</style>\n",
              "<table border=\"1\" class=\"dataframe\">\n",
              "  <thead>\n",
              "    <tr style=\"text-align: right;\">\n",
              "      <th></th>\n",
              "      <th>Y_B</th>\n",
              "    </tr>\n",
              "  </thead>\n",
              "  <tbody>\n",
              "    <tr>\n",
              "      <th>0</th>\n",
              "      <td>2.0</td>\n",
              "    </tr>\n",
              "    <tr>\n",
              "      <th>1</th>\n",
              "      <td>1.8</td>\n",
              "    </tr>\n",
              "    <tr>\n",
              "      <th>2</th>\n",
              "      <td>6.7</td>\n",
              "    </tr>\n",
              "    <tr>\n",
              "      <th>3</th>\n",
              "      <td>6.2</td>\n",
              "    </tr>\n",
              "    <tr>\n",
              "      <th>12</th>\n",
              "      <td>2.2</td>\n",
              "    </tr>\n",
              "  </tbody>\n",
              "</table>\n",
              "</div>\n",
              "      <button class=\"colab-df-convert\" onclick=\"convertToInteractive('df-69c2a4b2-3b77-490c-a749-6a0965a0da17')\"\n",
              "              title=\"Convert this dataframe to an interactive table.\"\n",
              "              style=\"display:none;\">\n",
              "        \n",
              "  <svg xmlns=\"http://www.w3.org/2000/svg\" height=\"24px\"viewBox=\"0 0 24 24\"\n",
              "       width=\"24px\">\n",
              "    <path d=\"M0 0h24v24H0V0z\" fill=\"none\"/>\n",
              "    <path d=\"M18.56 5.44l.94 2.06.94-2.06 2.06-.94-2.06-.94-.94-2.06-.94 2.06-2.06.94zm-11 1L8.5 8.5l.94-2.06 2.06-.94-2.06-.94L8.5 2.5l-.94 2.06-2.06.94zm10 10l.94 2.06.94-2.06 2.06-.94-2.06-.94-.94-2.06-.94 2.06-2.06.94z\"/><path d=\"M17.41 7.96l-1.37-1.37c-.4-.4-.92-.59-1.43-.59-.52 0-1.04.2-1.43.59L10.3 9.45l-7.72 7.72c-.78.78-.78 2.05 0 2.83L4 21.41c.39.39.9.59 1.41.59.51 0 1.02-.2 1.41-.59l7.78-7.78 2.81-2.81c.8-.78.8-2.07 0-2.86zM5.41 20L4 18.59l7.72-7.72 1.47 1.35L5.41 20z\"/>\n",
              "  </svg>\n",
              "      </button>\n",
              "      \n",
              "  <style>\n",
              "    .colab-df-container {\n",
              "      display:flex;\n",
              "      flex-wrap:wrap;\n",
              "      gap: 12px;\n",
              "    }\n",
              "\n",
              "    .colab-df-convert {\n",
              "      background-color: #E8F0FE;\n",
              "      border: none;\n",
              "      border-radius: 50%;\n",
              "      cursor: pointer;\n",
              "      display: none;\n",
              "      fill: #1967D2;\n",
              "      height: 32px;\n",
              "      padding: 0 0 0 0;\n",
              "      width: 32px;\n",
              "    }\n",
              "\n",
              "    .colab-df-convert:hover {\n",
              "      background-color: #E2EBFA;\n",
              "      box-shadow: 0px 1px 2px rgba(60, 64, 67, 0.3), 0px 1px 3px 1px rgba(60, 64, 67, 0.15);\n",
              "      fill: #174EA6;\n",
              "    }\n",
              "\n",
              "    [theme=dark] .colab-df-convert {\n",
              "      background-color: #3B4455;\n",
              "      fill: #D2E3FC;\n",
              "    }\n",
              "\n",
              "    [theme=dark] .colab-df-convert:hover {\n",
              "      background-color: #434B5C;\n",
              "      box-shadow: 0px 1px 3px 1px rgba(0, 0, 0, 0.15);\n",
              "      filter: drop-shadow(0px 1px 2px rgba(0, 0, 0, 0.3));\n",
              "      fill: #FFFFFF;\n",
              "    }\n",
              "  </style>\n",
              "\n",
              "      <script>\n",
              "        const buttonEl =\n",
              "          document.querySelector('#df-69c2a4b2-3b77-490c-a749-6a0965a0da17 button.colab-df-convert');\n",
              "        buttonEl.style.display =\n",
              "          google.colab.kernel.accessAllowed ? 'block' : 'none';\n",
              "\n",
              "        async function convertToInteractive(key) {\n",
              "          const element = document.querySelector('#df-69c2a4b2-3b77-490c-a749-6a0965a0da17');\n",
              "          const dataTable =\n",
              "            await google.colab.kernel.invokeFunction('convertToInteractive',\n",
              "                                                     [key], {});\n",
              "          if (!dataTable) return;\n",
              "\n",
              "          const docLinkHtml = 'Like what you see? Visit the ' +\n",
              "            '<a target=\"_blank\" href=https://colab.research.google.com/notebooks/data_table.ipynb>data table notebook</a>'\n",
              "            + ' to learn more about interactive tables.';\n",
              "          element.innerHTML = '';\n",
              "          dataTable['output_type'] = 'display_data';\n",
              "          await google.colab.output.renderOutput(dataTable, element);\n",
              "          const docLink = document.createElement('div');\n",
              "          docLink.innerHTML = docLinkHtml;\n",
              "          element.appendChild(docLink);\n",
              "        }\n",
              "      </script>\n",
              "    </div>\n",
              "  </div>\n",
              "  "
            ]
          },
          "metadata": {},
          "execution_count": 10
        }
      ]
    },
    {
      "cell_type": "code",
      "source": [
        "data_a1_output_n=data_a1_output.to_numpy().flatten()\n",
        "data_a1_target=data_a1_output_n\n",
        "data_a1_target"
      ],
      "metadata": {
        "id": "zoNeiduI0A39",
        "colab": {
          "base_uri": "https://localhost:8080/"
        },
        "outputId": "0f3c60d6-a148-4dc9-ae4d-5329d1d657a2"
      },
      "execution_count": 11,
      "outputs": [
        {
          "output_type": "execute_result",
          "data": {
            "text/plain": [
              "array([ 2.   ,  1.8  ,  6.7  ,  6.2  ,  2.2  ,  2.4  ,  4.   ,  7.8  ,\n",
              "        9.4  ,  8.2  ,  3.7  ,  3.6  ,  5.7  ,  7.8  ,  6.4  , 11.9  ,\n",
              "        3.7  ,  6.   ,  7.9  ,  6.5  , 12.2  ,  3.8  ,  3.1  ,  3.7  ,\n",
              "        8.2  ,  9.8  ,  3.9  ,  3.7  ,  6.1  ,  8.5  ,  9.7  , 12.6  ,\n",
              "        3.5  ,  3.7  ,  5.5  ,  7.7  ,  9.4  , 10.9  ,  0.6  ,  2.   ,\n",
              "        3.3  ,  5.4  ,  9.7  ,  2.2  ,  2.4  ,  4.   ,  7.8  ,  9.4  ,\n",
              "        8.2  ,  3.7  ,  3.6  ,  5.7  ,  7.8  ,  6.4  ,  3.7  ,  1.8  ,\n",
              "        6.   ,  7.9  ,  6.5  , 12.2  ,  3.8  ,  3.1  ,  3.7  ,  8.2  ,\n",
              "        9.8  ,  3.9  ,  3.7  ,  6.1  ,  8.5  ,  9.7  , 12.6  ,  3.5  ,\n",
              "        3.7  ,  5.5  ,  7.7  ,  9.4  , 10.9  ,  0.6  ,  2.   ,  3.3  ,\n",
              "        5.4  ,  9.7  ,  3.256,  3.185,  5.303,  7.076,  7.907, 10.775,\n",
              "        2.921,  3.19 ,  5.359,  7.221,  8.563, 10.755,  3.102,  2.792,\n",
              "        5.231,  7.233,  8.376, 10.826,  3.154,  2.9  ,  5.334,  7.223,\n",
              "        8.483, 10.932,  3.128,  3.234,  5.305,  7.323,  8.33 , 10.531,\n",
              "        2.986,  2.901,  5.401,  7.02 ,  8.24 , 10.469,  3.216,  3.195,\n",
              "        5.374,  7.185,  8.558, 10.598,  3.26 ,  3.177,  5.172,  7.359,\n",
              "        8.419, 10.668,  3.256,  3.185,  5.303,  7.076,  7.907, 10.775,\n",
              "        2.921,  3.19 ,  5.359,  7.221,  8.563, 10.755,  3.102,  2.792,\n",
              "        5.231,  7.233,  8.376, 10.826,  3.154,  2.9  ,  5.334,  8.483,\n",
              "       10.932,  3.128,  3.234,  5.305,  7.323,  8.33 , 10.531,  2.986,\n",
              "        2.901,  5.401,  7.02 ,  8.24 , 10.469,  3.216,  3.195,  5.374,\n",
              "        7.185,  8.558, 10.598,  3.26 ,  3.177,  5.172,  7.359,  8.419,\n",
              "       10.668,  8.384, 11.333, 13.737,  5.242,  5.168,  7.542,  9.867,\n",
              "       11.494, 13.964,  5.236,  4.871,  7.49 , 10.044, 11.46 , 13.886,\n",
              "        4.75 ,  4.964,  7.757,  9.855, 11.179, 14.043,  4.7  ,  4.587,\n",
              "        7.42 , 10.527, 10.943, 14.415,  4.571,  4.653,  7.257, 10.015,\n",
              "       11.99 , 14.429,  4.962,  4.58 ,  7.415,  9.556, 11.293, 14.139,\n",
              "        5.332,  5.604,  7.469, 10.453, 12.409, 16.332,  8.384, 11.333,\n",
              "       13.737,  5.242,  5.168,  7.542,  9.867, 11.494, 13.964,  5.236,\n",
              "        4.871,  7.49 , 10.044, 11.46 , 13.886,  4.75 ,  4.964,  7.757,\n",
              "        9.855, 11.179, 14.043,  4.7  ,  4.587,  7.42 , 10.527, 10.943,\n",
              "       14.415,  4.571,  4.653,  7.257, 10.015, 11.99 , 14.429,  4.962,\n",
              "        4.58 ,  7.415,  9.556, 11.293, 14.139,  5.332,  5.604,  7.469,\n",
              "       10.453, 12.409, 16.332,  6.4  ,  8.6  , 10.4  , 11.7  , 13.1  ,\n",
              "        9.6  ,  9.7  , 11.8  , 13.3  , 13.9  , 16.1  ,  7.1  ,  6.6  ,\n",
              "        8.6  , 10.6  , 11.6  , 13.5  ,  8.4  ,  8.2  , 10.2  , 11.7  ,\n",
              "       12.7  ,  7.1  ,  6.9  ,  9.2  , 10.9  , 11.9  , 13.7  ,  8.4  ,\n",
              "        8.3  , 10.5  , 12.3  , 13.3  , 15.3  ,  6.8  ,  6.6  ,  8.8  ,\n",
              "       10.8  , 11.9  , 13.6  ,  8.5  ,  8.6  , 10.8  , 12.2  , 13.4  ,\n",
              "       15.8  ])"
            ]
          },
          "metadata": {},
          "execution_count": 11
        }
      ]
    },
    {
      "cell_type": "code",
      "source": [
        "from sklearn.datasets import load_breast_cancer\n",
        "\n",
        "import numpy as np\n",
        "import pandas as pd\n",
        "from sklearn.preprocessing import StandardScaler\n",
        "from sklearn.linear_model import LogisticRegression\n",
        "from sklearn.model_selection import train_test_split\n",
        "from sklearn.metrics import roc_curve, accuracy_score, confusion_matrix, recall_score, precision_score\n",
        "\n",
        "import seaborn as sns\n",
        "import matplotlib.pyplot as plt \n",
        "import matplotlib.font_manager as fm "
      ],
      "metadata": {
        "id": "bVeSGhcR2SXm"
      },
      "execution_count": 12,
      "outputs": []
    },
    {
      "cell_type": "code",
      "source": [
        "data_a1_input"
      ],
      "metadata": {
        "id": "p9V_yZ8kPtOs",
        "colab": {
          "base_uri": "https://localhost:8080/"
        },
        "outputId": "bf802e6d-e8f9-442b-e1cc-c1591dad3093"
      },
      "execution_count": 13,
      "outputs": [
        {
          "output_type": "execute_result",
          "data": {
            "text/plain": [
              "array([[0.27609259, 0.27936762, 0.28297358, ..., 2.91162677, 2.91158401,\n",
              "        2.90985458],\n",
              "       [0.19954403, 0.20245471, 0.20619798, ..., 2.95453844, 2.95694632,\n",
              "        2.95533475],\n",
              "       [0.3068027 , 0.3098446 , 0.31350789, ..., 2.95549201, 2.9547023 ,\n",
              "        2.94930113],\n",
              "       ...,\n",
              "       [0.22453563, 0.22337879, 0.22420344, ..., 2.92039857, 2.92243662,\n",
              "        2.92322634],\n",
              "       [0.22651915, 0.22566712, 0.22644003, ..., 2.89199138, 2.89428919,\n",
              "        2.8939513 ],\n",
              "       [0.23387301, 0.23272414, 0.23343534, ..., 2.89941353, 2.89407375,\n",
              "        2.89014733]])"
            ]
          },
          "metadata": {},
          "execution_count": 13
        }
      ]
    },
    {
      "cell_type": "code",
      "source": [
        "data_a1_target"
      ],
      "metadata": {
        "id": "2Nht4PFTPxO2",
        "colab": {
          "base_uri": "https://localhost:8080/"
        },
        "outputId": "37a5a476-8f20-4aed-afea-a0d2f489afcd"
      },
      "execution_count": 14,
      "outputs": [
        {
          "output_type": "execute_result",
          "data": {
            "text/plain": [
              "array([ 2.   ,  1.8  ,  6.7  ,  6.2  ,  2.2  ,  2.4  ,  4.   ,  7.8  ,\n",
              "        9.4  ,  8.2  ,  3.7  ,  3.6  ,  5.7  ,  7.8  ,  6.4  , 11.9  ,\n",
              "        3.7  ,  6.   ,  7.9  ,  6.5  , 12.2  ,  3.8  ,  3.1  ,  3.7  ,\n",
              "        8.2  ,  9.8  ,  3.9  ,  3.7  ,  6.1  ,  8.5  ,  9.7  , 12.6  ,\n",
              "        3.5  ,  3.7  ,  5.5  ,  7.7  ,  9.4  , 10.9  ,  0.6  ,  2.   ,\n",
              "        3.3  ,  5.4  ,  9.7  ,  2.2  ,  2.4  ,  4.   ,  7.8  ,  9.4  ,\n",
              "        8.2  ,  3.7  ,  3.6  ,  5.7  ,  7.8  ,  6.4  ,  3.7  ,  1.8  ,\n",
              "        6.   ,  7.9  ,  6.5  , 12.2  ,  3.8  ,  3.1  ,  3.7  ,  8.2  ,\n",
              "        9.8  ,  3.9  ,  3.7  ,  6.1  ,  8.5  ,  9.7  , 12.6  ,  3.5  ,\n",
              "        3.7  ,  5.5  ,  7.7  ,  9.4  , 10.9  ,  0.6  ,  2.   ,  3.3  ,\n",
              "        5.4  ,  9.7  ,  3.256,  3.185,  5.303,  7.076,  7.907, 10.775,\n",
              "        2.921,  3.19 ,  5.359,  7.221,  8.563, 10.755,  3.102,  2.792,\n",
              "        5.231,  7.233,  8.376, 10.826,  3.154,  2.9  ,  5.334,  7.223,\n",
              "        8.483, 10.932,  3.128,  3.234,  5.305,  7.323,  8.33 , 10.531,\n",
              "        2.986,  2.901,  5.401,  7.02 ,  8.24 , 10.469,  3.216,  3.195,\n",
              "        5.374,  7.185,  8.558, 10.598,  3.26 ,  3.177,  5.172,  7.359,\n",
              "        8.419, 10.668,  3.256,  3.185,  5.303,  7.076,  7.907, 10.775,\n",
              "        2.921,  3.19 ,  5.359,  7.221,  8.563, 10.755,  3.102,  2.792,\n",
              "        5.231,  7.233,  8.376, 10.826,  3.154,  2.9  ,  5.334,  8.483,\n",
              "       10.932,  3.128,  3.234,  5.305,  7.323,  8.33 , 10.531,  2.986,\n",
              "        2.901,  5.401,  7.02 ,  8.24 , 10.469,  3.216,  3.195,  5.374,\n",
              "        7.185,  8.558, 10.598,  3.26 ,  3.177,  5.172,  7.359,  8.419,\n",
              "       10.668,  8.384, 11.333, 13.737,  5.242,  5.168,  7.542,  9.867,\n",
              "       11.494, 13.964,  5.236,  4.871,  7.49 , 10.044, 11.46 , 13.886,\n",
              "        4.75 ,  4.964,  7.757,  9.855, 11.179, 14.043,  4.7  ,  4.587,\n",
              "        7.42 , 10.527, 10.943, 14.415,  4.571,  4.653,  7.257, 10.015,\n",
              "       11.99 , 14.429,  4.962,  4.58 ,  7.415,  9.556, 11.293, 14.139,\n",
              "        5.332,  5.604,  7.469, 10.453, 12.409, 16.332,  8.384, 11.333,\n",
              "       13.737,  5.242,  5.168,  7.542,  9.867, 11.494, 13.964,  5.236,\n",
              "        4.871,  7.49 , 10.044, 11.46 , 13.886,  4.75 ,  4.964,  7.757,\n",
              "        9.855, 11.179, 14.043,  4.7  ,  4.587,  7.42 , 10.527, 10.943,\n",
              "       14.415,  4.571,  4.653,  7.257, 10.015, 11.99 , 14.429,  4.962,\n",
              "        4.58 ,  7.415,  9.556, 11.293, 14.139,  5.332,  5.604,  7.469,\n",
              "       10.453, 12.409, 16.332,  6.4  ,  8.6  , 10.4  , 11.7  , 13.1  ,\n",
              "        9.6  ,  9.7  , 11.8  , 13.3  , 13.9  , 16.1  ,  7.1  ,  6.6  ,\n",
              "        8.6  , 10.6  , 11.6  , 13.5  ,  8.4  ,  8.2  , 10.2  , 11.7  ,\n",
              "       12.7  ,  7.1  ,  6.9  ,  9.2  , 10.9  , 11.9  , 13.7  ,  8.4  ,\n",
              "        8.3  , 10.5  , 12.3  , 13.3  , 15.3  ,  6.8  ,  6.6  ,  8.8  ,\n",
              "       10.8  , 11.9  , 13.6  ,  8.5  ,  8.6  , 10.8  , 12.2  , 13.4  ,\n",
              "       15.8  ])"
            ]
          },
          "metadata": {},
          "execution_count": 14
        }
      ]
    },
    {
      "cell_type": "code",
      "source": [
        "from sklearn.pipeline import make_pipeline\n",
        "from sklearn.model_selection import cross_validate\n",
        "from sklearn.preprocessing import StandardScaler"
      ],
      "metadata": {
        "id": "Y6ZEMqfXP1sl"
      },
      "execution_count": 15,
      "outputs": []
    },
    {
      "cell_type": "code",
      "source": [
        "from sklearn.ensemble import BaggingRegressor\n",
        "from sklearn.neighbors import KNeighborsRegressor\n",
        "from sklearn.svm import SVR\n",
        "from sklearn.tree import DecisionTreeRegressor"
      ],
      "metadata": {
        "id": "feXyLYlmP6vV"
      },
      "execution_count": 16,
      "outputs": []
    },
    {
      "cell_type": "code",
      "source": [
        "from sklearn.ensemble import BaggingClassifier\n",
        "from sklearn.neighbors import KNeighborsClassifier\n",
        "from sklearn.svm import SVC\n",
        "from sklearn.tree import DecisionTreeClassifier"
      ],
      "metadata": {
        "id": "vLocwQSOP-Cw"
      },
      "execution_count": 17,
      "outputs": []
    },
    {
      "cell_type": "code",
      "source": [
        "base_model= make_pipeline(\n",
        "    StandardScaler(),\n",
        "    KNeighborsRegressor()\n",
        ")\n",
        "\n",
        "#bagging_model=BaggingRegressor(base_model, n_estimators=10, max_samples=0.5, max_features=0.5)\n",
        "bagging_model=BaggingRegressor(base_model, n_estimators=10, max_samples=1, max_features=1)"
      ],
      "metadata": {
        "id": "oPdbAxKaQBwA"
      },
      "execution_count": 19,
      "outputs": []
    },
    {
      "cell_type": "code",
      "source": [
        "cross_val=cross_validate(\n",
        "    estimator=base_model,\n",
        "#    X=boston.data, y=boston.target,\n",
        "#    X=raman, y=raman_target,\n",
        "     X=data_a1_input, y=data_a1_target,\n",
        "    cv=5)\n",
        "print('avg fit time: {} (+/-{})'.format(cross_val['fit_time'].mean(), cross_val['fit_time'].std()))\n",
        "print('avg score time: {} (+/- {})'.format(cross_val['score_time'].mean(), cross_val['score_time'].std()))\n",
        "print('avg test score: {} (+/- {})'.format(cross_val['test_score'].mean(), cross_val['test_score'].std()))"
      ],
      "metadata": {
        "id": "EnnbLCE7QG73"
      },
      "execution_count": null,
      "outputs": []
    },
    {
      "cell_type": "code",
      "source": [
        "cross_val=cross_validate(\n",
        "    estimator=bagging_model,\n",
        "#   X=raman, y=raman_target,\n",
        "    X=data_a1_input, y=data_a1_target,\n",
        "    cv=5)\n",
        "print('avg fit time: {} (+/-{})'.format(cross_val['fit_time'].mean(), cross_val['fit_time'].std()))\n",
        "print('avg score time: {} (+/- {})'.format(cross_val['score_time'].mean(), cross_val['score_time'].std()))\n",
        "print('avg test score: {} (+/- {})'.format(cross_val['test_score'].mean(), cross_val['test_score'].std()))"
      ],
      "metadata": {
        "id": "3W-RemVpQg2l"
      },
      "execution_count": null,
      "outputs": []
    },
    {
      "cell_type": "code",
      "source": [
        "base_model= make_pipeline(\n",
        "    StandardScaler(),\n",
        "    KNeighborsRegressor()\n",
        ")\n",
        "\n",
        "bagging_model=BaggingRegressor(base_model, n_estimators=10, max_samples=1, max_features=1)"
      ],
      "metadata": {
        "id": "PwNjC934Q2Jd"
      },
      "execution_count": null,
      "outputs": []
    },
    {
      "cell_type": "code",
      "source": [
        "cross_val=cross_validate(\n",
        "    estimator=bagging_model,\n",
        "#   X=raman, y=raman_target,\n",
        "    X=data_a1_input, y=data_a1_target,\n",
        "    cv=5)\n",
        "print('avg fit time: {} (+/-{})'.format(cross_val['fit_time'].mean(), cross_val['fit_time'].std()))\n",
        "print('avg score time: {} (+/- {})'.format(cross_val['score_time'].mean(), cross_val['score_time'].std()))\n",
        "print('avg test score: {} (+/- {})'.format(cross_val['test_score'].mean(), cross_val['test_score'].std()))"
      ],
      "metadata": {
        "id": "84IDQP5RQ30b"
      },
      "execution_count": null,
      "outputs": []
    },
    {
      "cell_type": "markdown",
      "source": [
        "SVR"
      ],
      "metadata": {
        "id": "lbCVOEQ8RO4Y"
      }
    },
    {
      "cell_type": "code",
      "source": [
        "base_model= make_pipeline(\n",
        "    StandardScaler(),\n",
        "    SVR()\n",
        ")"
      ],
      "metadata": {
        "id": "aMppnD9jRK36"
      },
      "execution_count": null,
      "outputs": []
    },
    {
      "cell_type": "code",
      "source": [
        "cross_val=cross_validate(\n",
        "    estimator=base_model,\n",
        "#   X=raman, y=raman_target,\n",
        "    X=data_a1_input, y=data_a1_target,\n",
        "    cv=5)\n",
        "print('avg fit time: {} (+/-{})'.format(cross_val['fit_time'].mean(), cross_val['fit_time'].std()))\n",
        "print('avg score time: {} (+/- {})'.format(cross_val['score_time'].mean(), cross_val['score_time'].std()))\n",
        "print('avg test score: {} (+/- {})'.format(cross_val['test_score'].mean(), cross_val['test_score'].std()))"
      ],
      "metadata": {
        "id": "SVo17h8VRUnL"
      },
      "execution_count": null,
      "outputs": []
    },
    {
      "cell_type": "code",
      "source": [
        "cross_val=cross_validate(\n",
        "    estimator=bagging_model,\n",
        "#   X=raman, y=raman_target,\n",
        "    X=data_a1_input, y=data_a1_target,\n",
        "    cv=5)\n",
        "print('avg fit time: {} (+/-{})'.format(cross_val['fit_time'].mean(), cross_val['fit_time'].std()))\n",
        "print('avg score time: {} (+/- {})'.format(cross_val['score_time'].mean(), cross_val['score_time'].std()))\n",
        "print('avg test score: {} (+/- {})'.format(cross_val['test_score'].mean(), cross_val['test_score'].std()))"
      ],
      "metadata": {
        "id": "AR0Sls0zRfk6"
      },
      "execution_count": null,
      "outputs": []
    },
    {
      "cell_type": "markdown",
      "source": [
        "Decision Tree"
      ],
      "metadata": {
        "id": "Jan6opIrR6CE"
      }
    },
    {
      "cell_type": "code",
      "source": [
        "base_model= make_pipeline(\n",
        "    StandardScaler(),\n",
        "    DecisionTreeRegressor()\n",
        ")\n",
        "\n",
        "bagging_model=BaggingRegressor(base_model, n_estimators=10, max_samples=0.5, max_features=0.5)"
      ],
      "metadata": {
        "id": "Y1SLPHWYRxmO"
      },
      "execution_count": null,
      "outputs": []
    },
    {
      "cell_type": "code",
      "source": [
        "cross_val=cross_validate(\n",
        "    estimator=base_model,\n",
        "    X=data_a1_input, y=data_a1_target,\n",
        "    cv=5)\n",
        "print('avg fit time: {} (+/-{})'.format(cross_val['fit_time'].mean(), cross_val['fit_time'].std()))\n",
        "print('avg score time: {} (+/- {})'.format(cross_val['score_time'].mean(), cross_val['score_time'].std()))\n",
        "print('avg test score: {} (+/- {})'.format(cross_val['test_score'].mean(), cross_val['test_score'].std()))"
      ],
      "metadata": {
        "id": "zhbBOtvZSBc2"
      },
      "execution_count": null,
      "outputs": []
    },
    {
      "cell_type": "code",
      "source": [
        "cross_val=cross_validate(\n",
        "    estimator=bagging_model,\n",
        "    X=data_a1_input, y=data_a1_target,\n",
        "    cv=5)\n",
        "print('avg fit time: {} (+/-{})'.format(cross_val['fit_time'].mean(), cross_val['fit_time'].std()))\n",
        "print('avg score time: {} (+/- {})'.format(cross_val['score_time'].mean(), cross_val['score_time'].std()))\n",
        "print('avg test score: {} (+/- {})'.format(cross_val['test_score'].mean(), cross_val['test_score'].std()))"
      ],
      "metadata": {
        "id": "QlJ6pcw_SOrR"
      },
      "execution_count": null,
      "outputs": []
    },
    {
      "cell_type": "markdown",
      "source": [
        "Forests of randomized trees"
      ],
      "metadata": {
        "id": "cJhoG55ASpgO"
      }
    },
    {
      "cell_type": "markdown",
      "source": [
        "##1)Random Forest\n",
        "##2) Extra-tree"
      ],
      "metadata": {
        "id": "UMcLq4JtSvcK"
      }
    },
    {
      "cell_type": "code",
      "source": [
        "from sklearn.ensemble import RandomForestClassifier,ExtraTreesClassifier\n",
        "from sklearn.ensemble import RandomForestRegressor,ExtraTreesRegressor"
      ],
      "metadata": {
        "id": "47nwrBvZSfNi"
      },
      "execution_count": 20,
      "outputs": []
    },
    {
      "cell_type": "code",
      "source": [
        "model =make_pipeline(\n",
        "    StandardScaler(),\n",
        "    RandomForestRegressor()\n",
        ")"
      ],
      "metadata": {
        "id": "3VgZUOZ_XA7L"
      },
      "execution_count": 21,
      "outputs": []
    },
    {
      "cell_type": "code",
      "source": [
        "cross_val=cross_validate(\n",
        "    estimator=model,\n",
        "    #X=boston.data, y=boston.target,\n",
        "    X=data_a1_input, y=data_a1_target,\n",
        "    cv=5)\n",
        "print('avg fit time: {} (+/-{})'.format(cross_val['fit_time'].mean(), cross_val['fit_time'].std()))\n",
        "print('avg score time: {} (+/- {})'.format(cross_val['score_time'].mean(), cross_val['score_time'].std()))\n",
        "print('avg test score: {} (+/- {})'.format(cross_val['test_score'].mean(), cross_val['test_score'].std()))"
      ],
      "metadata": {
        "id": "zqvjTNJgXJrN"
      },
      "execution_count": null,
      "outputs": []
    },
    {
      "cell_type": "markdown",
      "source": [
        "EXtremely Randomized Trees"
      ],
      "metadata": {
        "id": "RdjIijKVYHYq"
      }
    },
    {
      "cell_type": "code",
      "source": [
        "model =make_pipeline(\n",
        "    StandardScaler(),\n",
        "    ExtraTreesRegressor()\n",
        ")"
      ],
      "metadata": {
        "id": "Ybf1LDxWYLrW"
      },
      "execution_count": 22,
      "outputs": []
    },
    {
      "cell_type": "code",
      "source": [
        "cross_val=cross_validate(\n",
        "    estimator=model,\n",
        "    #X=boston.data, y=boston.target,\n",
        "    X=data_a1_input, y=data_a1_target,\n",
        "    cv=5)\n",
        "print('avg fit time: {} (+/-{})'.format(cross_val['fit_time'].mean(), cross_val['fit_time'].std()))\n",
        "print('avg score time: {} (+/- {})'.format(cross_val['score_time'].mean(), cross_val['score_time'].std()))\n",
        "print('avg test score: {} (+/- {})'.format(cross_val['test_score'].mean(), cross_val['test_score'].std()))"
      ],
      "metadata": {
        "id": "KePzz2SYYPCt"
      },
      "execution_count": null,
      "outputs": []
    },
    {
      "cell_type": "markdown",
      "source": [
        "Adaboost"
      ],
      "metadata": {
        "id": "yta-oLBBY7wn"
      }
    },
    {
      "cell_type": "code",
      "source": [
        "from sklearn.ensemble import AdaBoostRegressor"
      ],
      "metadata": {
        "id": "jTbMMO3sZG6o"
      },
      "execution_count": 23,
      "outputs": []
    },
    {
      "cell_type": "code",
      "source": [
        "model = make_pipeline(\n",
        "    StandardScaler(),\n",
        "    AdaBoostRegressor()\n",
        ")"
      ],
      "metadata": {
        "id": "a9WoZhPFY9il"
      },
      "execution_count": 24,
      "outputs": []
    },
    {
      "cell_type": "code",
      "source": [
        "cross_val=cross_validate(\n",
        "    estimator=model,\n",
        "    #X=boston.data, y=boston.target,\n",
        "    X=data_a1_input, y=data_a1_target,\n",
        "    cv=10)\n",
        "print('avg fit time: {} (+/-{})'.format(cross_val['fit_time'].mean(), cross_val['fit_time'].std()))\n",
        "print('avg score time: {} (+/- {})'.format(cross_val['score_time'].mean(), cross_val['score_time'].std()))\n",
        "print('avg test score: {} (+/- {})'.format(cross_val['test_score'].mean(), cross_val['test_score'].std()))\n",
        "cross_val['test_score']"
      ],
      "metadata": {
        "id": "ODySNfEhZPtN"
      },
      "execution_count": null,
      "outputs": []
    },
    {
      "cell_type": "code",
      "source": [
        "cross_val=cross_validate(\n",
        "    estimator=model,\n",
        "    #X=boston.data, y=boston.target,\n",
        "    X=data_a1_input, y=data_a1_target,\n",
        "    cv=5)\n",
        "print('avg fit time: {} (+/-{})'.format(cross_val['fit_time'].mean(), cross_val['fit_time'].std()))\n",
        "print('avg score time: {} (+/- {})'.format(cross_val['score_time'].mean(), cross_val['score_time'].std()))\n",
        "print('avg test score: {} (+/- {})'.format(cross_val['test_score'].mean(), cross_val['test_score'].std()))"
      ],
      "metadata": {
        "id": "y7Q7EUEYZTz6"
      },
      "execution_count": null,
      "outputs": []
    },
    {
      "cell_type": "markdown",
      "source": [
        "Gradient Tree boosting"
      ],
      "metadata": {
        "id": "lDfA_k0eaF4V"
      }
    },
    {
      "cell_type": "code",
      "source": [
        "from sklearn.ensemble import GradientBoostingRegressor"
      ],
      "metadata": {
        "id": "5CqYtnYTZCzd"
      },
      "execution_count": 25,
      "outputs": []
    },
    {
      "cell_type": "code",
      "source": [
        "model = make_pipeline(\n",
        "    StandardScaler(),\n",
        "    GradientBoostingRegressor()\n",
        ")"
      ],
      "metadata": {
        "id": "StVC-DclaM84"
      },
      "execution_count": 26,
      "outputs": []
    },
    {
      "cell_type": "code",
      "source": [
        "cross_val=cross_validate(\n",
        "    estimator=model,\n",
        "    #X=boston.data, y=boston.target,\n",
        "    X=data_a1_input, y=data_a1_target,\n",
        "    cv=10)\n",
        "print('avg fit time: {} (+/-{})'.format(cross_val['fit_time'].mean(), cross_val['fit_time'].std()))\n",
        "print('avg score time: {} (+/- {})'.format(cross_val['score_time'].mean(), cross_val['score_time'].std()))\n",
        "print('avg test score: {} (+/- {})'.format(cross_val['test_score'].mean(), cross_val['test_score'].std()))\n",
        "cross_val['test_score']"
      ],
      "metadata": {
        "id": "jr2azuNNaca6"
      },
      "execution_count": null,
      "outputs": []
    },
    {
      "cell_type": "markdown",
      "source": [
        "Regressor vote"
      ],
      "metadata": {
        "id": "hEzKwi3_cjqb"
      }
    },
    {
      "cell_type": "code",
      "source": [
        "from sklearn.linear_model import LinearRegression\n",
        "from sklearn.ensemble import GradientBoostingRegressor\n",
        "from sklearn.ensemble import RandomForestRegressor\n",
        "from sklearn.ensemble import VotingRegressor\n",
        "from sklearn.model_selection import cross_val_score"
      ],
      "metadata": {
        "id": "8Ck74P5mcsAz"
      },
      "execution_count": 27,
      "outputs": []
    },
    {
      "cell_type": "code",
      "source": [
        "model1=LinearRegression()\n",
        "model2=GradientBoostingRegressor()\n",
        "model3=RandomForestRegressor()\n",
        "vote_model =VotingRegressor(estimators=[('linear',model1),('gbr',model2),('rfr',model3)],\n",
        "                              weights=[1,1,1])"
      ],
      "metadata": {
        "id": "Y3aKM1QGcxCs"
      },
      "execution_count": 28,
      "outputs": []
    },
    {
      "cell_type": "code",
      "source": [
        "for model in [model1,model2,model3,vote_model]:\n",
        "    model_name=str(type(model)).split('.')[-1][:-2]\n",
        "    scores=cross_val_score(model,data_a1_input,data_a1_target,cv=20)\n",
        "    print('R2: %0.2f (+/- %0.2f) [%s]' % ( scores.mean(), scores.std(), model_name))"
      ],
      "metadata": {
        "id": "nTHN_bp9cyvm"
      },
      "execution_count": null,
      "outputs": []
    },
    {
      "cell_type": "markdown",
      "source": [],
      "metadata": {
        "id": "hS5I6o8Tcqxg"
      }
    },
    {
      "cell_type": "markdown",
      "source": [
        "스택회귀"
      ],
      "metadata": {
        "id": "hoflYauXv0yK"
      }
    },
    {
      "cell_type": "code",
      "source": [
        "from sklearn.linear_model import Ridge, Lasso\n",
        "from sklearn.svm import SVR\n",
        "from sklearn.ensemble import GradientBoostingRegressor\n",
        "from sklearn.ensemble import StackingRegressor"
      ],
      "metadata": {
        "id": "rDPsyuQkcjNG"
      },
      "execution_count": 29,
      "outputs": []
    },
    {
      "cell_type": "code",
      "source": [
        "estimators=[('ridge',Ridge()),\n",
        "            ('lasso',Lasso()),\n",
        "            ('svr',SVR())]"
      ],
      "metadata": {
        "id": "jh_l1Z2lv7AA"
      },
      "execution_count": 30,
      "outputs": []
    },
    {
      "cell_type": "code",
      "source": [
        "reg = make_pipeline(\n",
        "    StandardScaler(),\n",
        "    StackingRegressor(\n",
        "        estimators=estimators,\n",
        "        final_estimator=GradientBoostingRegressor()\n",
        ")\n",
        ")"
      ],
      "metadata": {
        "id": "MIRDvY34v-m5"
      },
      "execution_count": 31,
      "outputs": []
    },
    {
      "cell_type": "code",
      "source": [
        "cross_val=cross_validate(\n",
        "    estimator=reg,\n",
        "    X=data_a1_input, y=data_a1_target,\n",
        "    cv=10)\n",
        "print('avg fit time: {} (+/-{})'.format(cross_val['fit_time'].mean(), cross_val['fit_time'].std()))\n",
        "print('avg score time: {} (+/-{})'.format(cross_val['score_time'].mean(), cross_val['score_time'].std()))\n",
        "print('avg test score: {} (+/-{})'.format(cross_val['test_score'].mean(), cross_val['test_score'].std()))\n",
        "cross_val['test_score']"
      ],
      "metadata": {
        "id": "xz7Q4Ra-w3Je",
        "colab": {
          "base_uri": "https://localhost:8080/"
        },
        "outputId": "0dbfe90a-0c21-40bf-b895-2624c4ac198e"
      },
      "execution_count": 32,
      "outputs": [
        {
          "output_type": "stream",
          "name": "stdout",
          "text": [
            "avg fit time: 1.1271006107330321 (+/-0.12507418371749296)\n",
            "avg score time: 0.020705223083496094 (+/-0.001175355794217074)\n",
            "avg test score: 0.8159259982299302 (+/-0.10861394014758106)\n"
          ]
        },
        {
          "output_type": "execute_result",
          "data": {
            "text/plain": [
              "array([0.69247363, 0.74673477, 0.8629787 , 0.95236475, 0.88950746,\n",
              "       0.90080231, 0.85469437, 0.82935544, 0.86096368, 0.56938487])"
            ]
          },
          "metadata": {},
          "execution_count": 32
        }
      ]
    },
    {
      "cell_type": "code",
      "source": [],
      "metadata": {
        "id": "ar28dkfAwCkv"
      },
      "execution_count": null,
      "outputs": []
    }
  ]
}