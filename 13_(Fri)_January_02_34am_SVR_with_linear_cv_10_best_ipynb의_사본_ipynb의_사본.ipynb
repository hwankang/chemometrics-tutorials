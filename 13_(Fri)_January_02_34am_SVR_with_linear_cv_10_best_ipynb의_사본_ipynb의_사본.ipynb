{
  "nbformat": 4,
  "nbformat_minor": 0,
  "metadata": {
    "colab": {
      "provenance": [],
      "authorship_tag": "ABX9TyNxzbrdDopZTWWb3ARCY8zy",
      "include_colab_link": true
    },
    "kernelspec": {
      "name": "python3",
      "display_name": "Python 3"
    },
    "language_info": {
      "name": "python"
    },
    "gpuClass": "standard"
  },
  "cells": [
    {
      "cell_type": "markdown",
      "metadata": {
        "id": "view-in-github",
        "colab_type": "text"
      },
      "source": [
        "<a href=\"https://colab.research.google.com/github/hwankang/chemometrics-tutorials/blob/master/13_(Fri)_January_02_34am_SVR_with_linear_cv_10_best_ipynb%EC%9D%98_%EC%82%AC%EB%B3%B8_ipynb%EC%9D%98_%EC%82%AC%EB%B3%B8.ipynb\" target=\"_parent\"><img src=\"https://colab.research.google.com/assets/colab-badge.svg\" alt=\"Open In Colab\"/></a>"
      ]
    },
    {
      "cell_type": "code",
      "source": [
        "from google.colab import drive\n",
        "drive.mount('/content/drive')"
      ],
      "metadata": {
        "id": "y6t3wE6bvI6C",
        "colab": {
          "base_uri": "https://localhost:8080/"
        },
        "outputId": "5f86da02-5880-421d-8dd4-cd7ad31f4771"
      },
      "execution_count": 2,
      "outputs": [
        {
          "output_type": "stream",
          "name": "stdout",
          "text": [
            "Mounted at /content/drive\n"
          ]
        }
      ]
    },
    {
      "cell_type": "code",
      "source": [
        "filename_a='/content/drive/MyDrive/machine_learning/B_NIR_DATA_csv.csv'\n",
        "import pandas as pd\n",
        "data_a = pd.read_csv(filename_a,header=0, \n",
        "                   encoding=\"unicode-escape\")"
      ],
      "metadata": {
        "id": "D2WELDX-vfds"
      },
      "execution_count": 3,
      "outputs": []
    },
    {
      "cell_type": "code",
      "source": [
        "xx,yy=data_a.shape\n",
        "xx"
      ],
      "metadata": {
        "colab": {
          "base_uri": "https://localhost:8080/"
        },
        "id": "IpWM_SxKvqXd",
        "outputId": "84a767b6-8ac5-401a-805c-5ddec8e66d7b"
      },
      "execution_count": 4,
      "outputs": [
        {
          "output_type": "execute_result",
          "data": {
            "text/plain": [
              "624"
            ]
          },
          "metadata": {},
          "execution_count": 4
        }
      ]
    },
    {
      "cell_type": "code",
      "source": [
        "data_a2=data_a.iloc[0::,1:yy+1]\n",
        "data_a2.head()"
      ],
      "metadata": {
        "colab": {
          "base_uri": "https://localhost:8080/",
          "height": 317
        },
        "id": "PhmuebIKvwJh",
        "outputId": "7b7eb555-6c76-4fc6-94c5-d25c181140bc"
      },
      "execution_count": 5,
      "outputs": [
        {
          "output_type": "execute_result",
          "data": {
            "text/plain": [
              "   ¸ðµ¨ Æ÷ÇÔ  Y_B  899.9280058  900.2520706  900.5763689  900.9009009  \\\n",
              "0       True  2.0     0.276093     0.279368     0.282974     0.283645   \n",
              "1       True  1.8     0.199544     0.202455     0.206198     0.207755   \n",
              "2       True  6.7     0.306803     0.309845     0.313508     0.314680   \n",
              "3       True  6.2     0.286879     0.290392     0.294110     0.294774   \n",
              "4      False  5.1     0.253218     0.256407     0.260161     0.261418   \n",
              "\n",
              "   901.2256669  901.5506671  901.8759019  902.2013713  ...  2477.700694  \\\n",
              "0     0.283141     0.282718     0.281553     0.279137  ...     2.949425   \n",
              "1     0.208028     0.207398     0.205435     0.202679  ...     2.981332   \n",
              "2     0.314671     0.314172     0.312433     0.309447  ...     2.991938   \n",
              "3     0.294035     0.293060     0.291292     0.288594  ...     2.991402   \n",
              "4     0.261547     0.261116     0.259408     0.256675  ...     3.004459   \n",
              "\n",
              "   2480.15873  2482.621648  2485.089463  2487.562189  2490.039841  \\\n",
              "0    2.949937     2.940435     2.930193     2.927044     2.926591   \n",
              "1    2.984826     2.975499     2.964666     2.964128     2.967567   \n",
              "2    2.992541     2.984488     2.976776     2.975918     2.973828   \n",
              "3    2.990624     2.980183     2.970664     2.967151     2.961850   \n",
              "4    3.005398     3.000151     2.995331     2.997660     2.999729   \n",
              "\n",
              "   2492.522433  2495.00998  2497.502498      2500  \n",
              "0     2.917971    2.911627     2.911584  2.909855  \n",
              "1     2.960830    2.954538     2.956946  2.955335  \n",
              "2     2.963011    2.955492     2.954702  2.949301  \n",
              "3     2.948892    2.939125     2.938542  2.934796  \n",
              "4     2.992129    2.987290     2.988690  2.987576  \n",
              "\n",
              "[5 rows x 1781 columns]"
            ],
            "text/html": [
              "\n",
              "  <div id=\"df-b86b684d-1040-4bf7-9187-5d8fbbd22303\">\n",
              "    <div class=\"colab-df-container\">\n",
              "      <div>\n",
              "<style scoped>\n",
              "    .dataframe tbody tr th:only-of-type {\n",
              "        vertical-align: middle;\n",
              "    }\n",
              "\n",
              "    .dataframe tbody tr th {\n",
              "        vertical-align: top;\n",
              "    }\n",
              "\n",
              "    .dataframe thead th {\n",
              "        text-align: right;\n",
              "    }\n",
              "</style>\n",
              "<table border=\"1\" class=\"dataframe\">\n",
              "  <thead>\n",
              "    <tr style=\"text-align: right;\">\n",
              "      <th></th>\n",
              "      <th>¸ðµ¨ Æ÷ÇÔ</th>\n",
              "      <th>Y_B</th>\n",
              "      <th>899.9280058</th>\n",
              "      <th>900.2520706</th>\n",
              "      <th>900.5763689</th>\n",
              "      <th>900.9009009</th>\n",
              "      <th>901.2256669</th>\n",
              "      <th>901.5506671</th>\n",
              "      <th>901.8759019</th>\n",
              "      <th>902.2013713</th>\n",
              "      <th>...</th>\n",
              "      <th>2477.700694</th>\n",
              "      <th>2480.15873</th>\n",
              "      <th>2482.621648</th>\n",
              "      <th>2485.089463</th>\n",
              "      <th>2487.562189</th>\n",
              "      <th>2490.039841</th>\n",
              "      <th>2492.522433</th>\n",
              "      <th>2495.00998</th>\n",
              "      <th>2497.502498</th>\n",
              "      <th>2500</th>\n",
              "    </tr>\n",
              "  </thead>\n",
              "  <tbody>\n",
              "    <tr>\n",
              "      <th>0</th>\n",
              "      <td>True</td>\n",
              "      <td>2.0</td>\n",
              "      <td>0.276093</td>\n",
              "      <td>0.279368</td>\n",
              "      <td>0.282974</td>\n",
              "      <td>0.283645</td>\n",
              "      <td>0.283141</td>\n",
              "      <td>0.282718</td>\n",
              "      <td>0.281553</td>\n",
              "      <td>0.279137</td>\n",
              "      <td>...</td>\n",
              "      <td>2.949425</td>\n",
              "      <td>2.949937</td>\n",
              "      <td>2.940435</td>\n",
              "      <td>2.930193</td>\n",
              "      <td>2.927044</td>\n",
              "      <td>2.926591</td>\n",
              "      <td>2.917971</td>\n",
              "      <td>2.911627</td>\n",
              "      <td>2.911584</td>\n",
              "      <td>2.909855</td>\n",
              "    </tr>\n",
              "    <tr>\n",
              "      <th>1</th>\n",
              "      <td>True</td>\n",
              "      <td>1.8</td>\n",
              "      <td>0.199544</td>\n",
              "      <td>0.202455</td>\n",
              "      <td>0.206198</td>\n",
              "      <td>0.207755</td>\n",
              "      <td>0.208028</td>\n",
              "      <td>0.207398</td>\n",
              "      <td>0.205435</td>\n",
              "      <td>0.202679</td>\n",
              "      <td>...</td>\n",
              "      <td>2.981332</td>\n",
              "      <td>2.984826</td>\n",
              "      <td>2.975499</td>\n",
              "      <td>2.964666</td>\n",
              "      <td>2.964128</td>\n",
              "      <td>2.967567</td>\n",
              "      <td>2.960830</td>\n",
              "      <td>2.954538</td>\n",
              "      <td>2.956946</td>\n",
              "      <td>2.955335</td>\n",
              "    </tr>\n",
              "    <tr>\n",
              "      <th>2</th>\n",
              "      <td>True</td>\n",
              "      <td>6.7</td>\n",
              "      <td>0.306803</td>\n",
              "      <td>0.309845</td>\n",
              "      <td>0.313508</td>\n",
              "      <td>0.314680</td>\n",
              "      <td>0.314671</td>\n",
              "      <td>0.314172</td>\n",
              "      <td>0.312433</td>\n",
              "      <td>0.309447</td>\n",
              "      <td>...</td>\n",
              "      <td>2.991938</td>\n",
              "      <td>2.992541</td>\n",
              "      <td>2.984488</td>\n",
              "      <td>2.976776</td>\n",
              "      <td>2.975918</td>\n",
              "      <td>2.973828</td>\n",
              "      <td>2.963011</td>\n",
              "      <td>2.955492</td>\n",
              "      <td>2.954702</td>\n",
              "      <td>2.949301</td>\n",
              "    </tr>\n",
              "    <tr>\n",
              "      <th>3</th>\n",
              "      <td>True</td>\n",
              "      <td>6.2</td>\n",
              "      <td>0.286879</td>\n",
              "      <td>0.290392</td>\n",
              "      <td>0.294110</td>\n",
              "      <td>0.294774</td>\n",
              "      <td>0.294035</td>\n",
              "      <td>0.293060</td>\n",
              "      <td>0.291292</td>\n",
              "      <td>0.288594</td>\n",
              "      <td>...</td>\n",
              "      <td>2.991402</td>\n",
              "      <td>2.990624</td>\n",
              "      <td>2.980183</td>\n",
              "      <td>2.970664</td>\n",
              "      <td>2.967151</td>\n",
              "      <td>2.961850</td>\n",
              "      <td>2.948892</td>\n",
              "      <td>2.939125</td>\n",
              "      <td>2.938542</td>\n",
              "      <td>2.934796</td>\n",
              "    </tr>\n",
              "    <tr>\n",
              "      <th>4</th>\n",
              "      <td>False</td>\n",
              "      <td>5.1</td>\n",
              "      <td>0.253218</td>\n",
              "      <td>0.256407</td>\n",
              "      <td>0.260161</td>\n",
              "      <td>0.261418</td>\n",
              "      <td>0.261547</td>\n",
              "      <td>0.261116</td>\n",
              "      <td>0.259408</td>\n",
              "      <td>0.256675</td>\n",
              "      <td>...</td>\n",
              "      <td>3.004459</td>\n",
              "      <td>3.005398</td>\n",
              "      <td>3.000151</td>\n",
              "      <td>2.995331</td>\n",
              "      <td>2.997660</td>\n",
              "      <td>2.999729</td>\n",
              "      <td>2.992129</td>\n",
              "      <td>2.987290</td>\n",
              "      <td>2.988690</td>\n",
              "      <td>2.987576</td>\n",
              "    </tr>\n",
              "  </tbody>\n",
              "</table>\n",
              "<p>5 rows × 1781 columns</p>\n",
              "</div>\n",
              "      <button class=\"colab-df-convert\" onclick=\"convertToInteractive('df-b86b684d-1040-4bf7-9187-5d8fbbd22303')\"\n",
              "              title=\"Convert this dataframe to an interactive table.\"\n",
              "              style=\"display:none;\">\n",
              "        \n",
              "  <svg xmlns=\"http://www.w3.org/2000/svg\" height=\"24px\"viewBox=\"0 0 24 24\"\n",
              "       width=\"24px\">\n",
              "    <path d=\"M0 0h24v24H0V0z\" fill=\"none\"/>\n",
              "    <path d=\"M18.56 5.44l.94 2.06.94-2.06 2.06-.94-2.06-.94-.94-2.06-.94 2.06-2.06.94zm-11 1L8.5 8.5l.94-2.06 2.06-.94-2.06-.94L8.5 2.5l-.94 2.06-2.06.94zm10 10l.94 2.06.94-2.06 2.06-.94-2.06-.94-.94-2.06-.94 2.06-2.06.94z\"/><path d=\"M17.41 7.96l-1.37-1.37c-.4-.4-.92-.59-1.43-.59-.52 0-1.04.2-1.43.59L10.3 9.45l-7.72 7.72c-.78.78-.78 2.05 0 2.83L4 21.41c.39.39.9.59 1.41.59.51 0 1.02-.2 1.41-.59l7.78-7.78 2.81-2.81c.8-.78.8-2.07 0-2.86zM5.41 20L4 18.59l7.72-7.72 1.47 1.35L5.41 20z\"/>\n",
              "  </svg>\n",
              "      </button>\n",
              "      \n",
              "  <style>\n",
              "    .colab-df-container {\n",
              "      display:flex;\n",
              "      flex-wrap:wrap;\n",
              "      gap: 12px;\n",
              "    }\n",
              "\n",
              "    .colab-df-convert {\n",
              "      background-color: #E8F0FE;\n",
              "      border: none;\n",
              "      border-radius: 50%;\n",
              "      cursor: pointer;\n",
              "      display: none;\n",
              "      fill: #1967D2;\n",
              "      height: 32px;\n",
              "      padding: 0 0 0 0;\n",
              "      width: 32px;\n",
              "    }\n",
              "\n",
              "    .colab-df-convert:hover {\n",
              "      background-color: #E2EBFA;\n",
              "      box-shadow: 0px 1px 2px rgba(60, 64, 67, 0.3), 0px 1px 3px 1px rgba(60, 64, 67, 0.15);\n",
              "      fill: #174EA6;\n",
              "    }\n",
              "\n",
              "    [theme=dark] .colab-df-convert {\n",
              "      background-color: #3B4455;\n",
              "      fill: #D2E3FC;\n",
              "    }\n",
              "\n",
              "    [theme=dark] .colab-df-convert:hover {\n",
              "      background-color: #434B5C;\n",
              "      box-shadow: 0px 1px 3px 1px rgba(0, 0, 0, 0.15);\n",
              "      filter: drop-shadow(0px 1px 2px rgba(0, 0, 0, 0.3));\n",
              "      fill: #FFFFFF;\n",
              "    }\n",
              "  </style>\n",
              "\n",
              "      <script>\n",
              "        const buttonEl =\n",
              "          document.querySelector('#df-b86b684d-1040-4bf7-9187-5d8fbbd22303 button.colab-df-convert');\n",
              "        buttonEl.style.display =\n",
              "          google.colab.kernel.accessAllowed ? 'block' : 'none';\n",
              "\n",
              "        async function convertToInteractive(key) {\n",
              "          const element = document.querySelector('#df-b86b684d-1040-4bf7-9187-5d8fbbd22303');\n",
              "          const dataTable =\n",
              "            await google.colab.kernel.invokeFunction('convertToInteractive',\n",
              "                                                     [key], {});\n",
              "          if (!dataTable) return;\n",
              "\n",
              "          const docLinkHtml = 'Like what you see? Visit the ' +\n",
              "            '<a target=\"_blank\" href=https://colab.research.google.com/notebooks/data_table.ipynb>data table notebook</a>'\n",
              "            + ' to learn more about interactive tables.';\n",
              "          element.innerHTML = '';\n",
              "          dataTable['output_type'] = 'display_data';\n",
              "          await google.colab.output.renderOutput(dataTable, element);\n",
              "          const docLink = document.createElement('div');\n",
              "          docLink.innerHTML = docLinkHtml;\n",
              "          element.appendChild(docLink);\n",
              "        }\n",
              "      </script>\n",
              "    </div>\n",
              "  </div>\n",
              "  "
            ]
          },
          "metadata": {},
          "execution_count": 5
        }
      ]
    },
    {
      "cell_type": "code",
      "execution_count": 6,
      "metadata": {
        "id": "1OqJKImVZgb8"
      },
      "outputs": [],
      "source": [
        "import multiprocessing\n",
        "import pandas as pd\n",
        "import numpy as pd\n",
        "import matplotlib.pyplot as plt\n",
        "plt.style.use(['seaborn-whitegrid'])"
      ]
    },
    {
      "cell_type": "code",
      "source": [
        "ai=[]\n",
        "for i in range(xx):\n",
        "    if data_a2.iloc[i,0]==False:\n",
        "        ai.append(i)\n",
        "data_a3=data_a2.drop(ai,axis=0) #\n",
        "data_a3\n",
        "len(ai)\n",
        "data_a3"
      ],
      "metadata": {
        "colab": {
          "base_uri": "https://localhost:8080/",
          "height": 505
        },
        "id": "Ac7BtP-wv4ro",
        "outputId": "72d6644d-6697-4459-e89e-81fae1dfa6ec"
      },
      "execution_count": 7,
      "outputs": [
        {
          "output_type": "execute_result",
          "data": {
            "text/plain": [
              "     ¸ðµ¨ Æ÷ÇÔ   Y_B  899.9280058  900.2520706  900.5763689  900.9009009  \\\n",
              "0         True   2.0     0.276093     0.279368     0.282974     0.283645   \n",
              "1         True   1.8     0.199544     0.202455     0.206198     0.207755   \n",
              "2         True   6.7     0.306803     0.309845     0.313508     0.314680   \n",
              "3         True   6.2     0.286879     0.290392     0.294110     0.294774   \n",
              "12        True   2.2     0.137633     0.141045     0.144793     0.145757   \n",
              "..         ...   ...          ...          ...          ...          ...   \n",
              "619       True   8.6     0.231522     0.230534     0.231280     0.231104   \n",
              "620       True  10.8     0.227531     0.226628     0.227406     0.227385   \n",
              "621       True  12.2     0.224536     0.223379     0.224203     0.224431   \n",
              "622       True  13.4     0.226519     0.225667     0.226440     0.226193   \n",
              "623       True  15.8     0.233873     0.232724     0.233435     0.233191   \n",
              "\n",
              "     901.2256669  901.5506671  901.8759019  902.2013713  ...  2477.700694  \\\n",
              "0       0.283141     0.282718     0.281553     0.279137  ...     2.949425   \n",
              "1       0.208028     0.207398     0.205435     0.202679  ...     2.981332   \n",
              "2       0.314671     0.314172     0.312433     0.309447  ...     2.991938   \n",
              "3       0.294035     0.293060     0.291292     0.288594  ...     2.991402   \n",
              "12      0.145570     0.145180     0.143793     0.141257  ...     2.912618   \n",
              "..           ...          ...          ...          ...  ...          ...   \n",
              "619     0.230198     0.229698     0.229015     0.227028  ...     2.925508   \n",
              "620     0.226585     0.225993     0.225327     0.223806  ...     2.945441   \n",
              "621     0.223999     0.223736     0.222991     0.220813  ...     2.966221   \n",
              "622     0.225218     0.224726     0.224143     0.222250  ...     2.936783   \n",
              "623     0.232077     0.231309     0.230551     0.228832  ...     2.936938   \n",
              "\n",
              "     2480.15873  2482.621648  2485.089463  2487.562189  2490.039841  \\\n",
              "0      2.949937     2.940435     2.930193     2.927044     2.926591   \n",
              "1      2.984826     2.975499     2.964666     2.964128     2.967567   \n",
              "2      2.992541     2.984488     2.976776     2.975918     2.973828   \n",
              "3      2.990624     2.980183     2.970664     2.967151     2.961850   \n",
              "12     2.911201     2.898590     2.887394     2.886869     2.887019   \n",
              "..          ...          ...          ...          ...          ...   \n",
              "619    2.927053     2.920447     2.915572     2.920224     2.922330   \n",
              "620    2.943505     2.933849     2.929372     2.934153     2.933573   \n",
              "621    2.969063     2.961253     2.952713     2.949854     2.944465   \n",
              "622    2.939133     2.927408     2.915374     2.913538     2.912847   \n",
              "623    2.938734     2.926707     2.915750     2.916544     2.919218   \n",
              "\n",
              "     2492.522433  2495.00998  2497.502498      2500  \n",
              "0       2.917971    2.911627     2.911584  2.909855  \n",
              "1       2.960830    2.954538     2.956946  2.955335  \n",
              "2       2.963011    2.955492     2.954702  2.949301  \n",
              "3       2.948892    2.939125     2.938542  2.934796  \n",
              "12      2.875892    2.863482     2.862177  2.858754  \n",
              "..           ...         ...          ...       ...  \n",
              "619     2.909775    2.897480     2.897737  2.897391  \n",
              "620     2.921115    2.910637     2.914499  2.916288  \n",
              "621     2.929207    2.920399     2.922437  2.923226  \n",
              "622     2.901005    2.891991     2.894289  2.893951  \n",
              "623     2.910248    2.899414     2.894074  2.890147  \n",
              "\n",
              "[313 rows x 1781 columns]"
            ],
            "text/html": [
              "\n",
              "  <div id=\"df-616d7811-2b83-45cf-a19e-e944bb65a4e3\">\n",
              "    <div class=\"colab-df-container\">\n",
              "      <div>\n",
              "<style scoped>\n",
              "    .dataframe tbody tr th:only-of-type {\n",
              "        vertical-align: middle;\n",
              "    }\n",
              "\n",
              "    .dataframe tbody tr th {\n",
              "        vertical-align: top;\n",
              "    }\n",
              "\n",
              "    .dataframe thead th {\n",
              "        text-align: right;\n",
              "    }\n",
              "</style>\n",
              "<table border=\"1\" class=\"dataframe\">\n",
              "  <thead>\n",
              "    <tr style=\"text-align: right;\">\n",
              "      <th></th>\n",
              "      <th>¸ðµ¨ Æ÷ÇÔ</th>\n",
              "      <th>Y_B</th>\n",
              "      <th>899.9280058</th>\n",
              "      <th>900.2520706</th>\n",
              "      <th>900.5763689</th>\n",
              "      <th>900.9009009</th>\n",
              "      <th>901.2256669</th>\n",
              "      <th>901.5506671</th>\n",
              "      <th>901.8759019</th>\n",
              "      <th>902.2013713</th>\n",
              "      <th>...</th>\n",
              "      <th>2477.700694</th>\n",
              "      <th>2480.15873</th>\n",
              "      <th>2482.621648</th>\n",
              "      <th>2485.089463</th>\n",
              "      <th>2487.562189</th>\n",
              "      <th>2490.039841</th>\n",
              "      <th>2492.522433</th>\n",
              "      <th>2495.00998</th>\n",
              "      <th>2497.502498</th>\n",
              "      <th>2500</th>\n",
              "    </tr>\n",
              "  </thead>\n",
              "  <tbody>\n",
              "    <tr>\n",
              "      <th>0</th>\n",
              "      <td>True</td>\n",
              "      <td>2.0</td>\n",
              "      <td>0.276093</td>\n",
              "      <td>0.279368</td>\n",
              "      <td>0.282974</td>\n",
              "      <td>0.283645</td>\n",
              "      <td>0.283141</td>\n",
              "      <td>0.282718</td>\n",
              "      <td>0.281553</td>\n",
              "      <td>0.279137</td>\n",
              "      <td>...</td>\n",
              "      <td>2.949425</td>\n",
              "      <td>2.949937</td>\n",
              "      <td>2.940435</td>\n",
              "      <td>2.930193</td>\n",
              "      <td>2.927044</td>\n",
              "      <td>2.926591</td>\n",
              "      <td>2.917971</td>\n",
              "      <td>2.911627</td>\n",
              "      <td>2.911584</td>\n",
              "      <td>2.909855</td>\n",
              "    </tr>\n",
              "    <tr>\n",
              "      <th>1</th>\n",
              "      <td>True</td>\n",
              "      <td>1.8</td>\n",
              "      <td>0.199544</td>\n",
              "      <td>0.202455</td>\n",
              "      <td>0.206198</td>\n",
              "      <td>0.207755</td>\n",
              "      <td>0.208028</td>\n",
              "      <td>0.207398</td>\n",
              "      <td>0.205435</td>\n",
              "      <td>0.202679</td>\n",
              "      <td>...</td>\n",
              "      <td>2.981332</td>\n",
              "      <td>2.984826</td>\n",
              "      <td>2.975499</td>\n",
              "      <td>2.964666</td>\n",
              "      <td>2.964128</td>\n",
              "      <td>2.967567</td>\n",
              "      <td>2.960830</td>\n",
              "      <td>2.954538</td>\n",
              "      <td>2.956946</td>\n",
              "      <td>2.955335</td>\n",
              "    </tr>\n",
              "    <tr>\n",
              "      <th>2</th>\n",
              "      <td>True</td>\n",
              "      <td>6.7</td>\n",
              "      <td>0.306803</td>\n",
              "      <td>0.309845</td>\n",
              "      <td>0.313508</td>\n",
              "      <td>0.314680</td>\n",
              "      <td>0.314671</td>\n",
              "      <td>0.314172</td>\n",
              "      <td>0.312433</td>\n",
              "      <td>0.309447</td>\n",
              "      <td>...</td>\n",
              "      <td>2.991938</td>\n",
              "      <td>2.992541</td>\n",
              "      <td>2.984488</td>\n",
              "      <td>2.976776</td>\n",
              "      <td>2.975918</td>\n",
              "      <td>2.973828</td>\n",
              "      <td>2.963011</td>\n",
              "      <td>2.955492</td>\n",
              "      <td>2.954702</td>\n",
              "      <td>2.949301</td>\n",
              "    </tr>\n",
              "    <tr>\n",
              "      <th>3</th>\n",
              "      <td>True</td>\n",
              "      <td>6.2</td>\n",
              "      <td>0.286879</td>\n",
              "      <td>0.290392</td>\n",
              "      <td>0.294110</td>\n",
              "      <td>0.294774</td>\n",
              "      <td>0.294035</td>\n",
              "      <td>0.293060</td>\n",
              "      <td>0.291292</td>\n",
              "      <td>0.288594</td>\n",
              "      <td>...</td>\n",
              "      <td>2.991402</td>\n",
              "      <td>2.990624</td>\n",
              "      <td>2.980183</td>\n",
              "      <td>2.970664</td>\n",
              "      <td>2.967151</td>\n",
              "      <td>2.961850</td>\n",
              "      <td>2.948892</td>\n",
              "      <td>2.939125</td>\n",
              "      <td>2.938542</td>\n",
              "      <td>2.934796</td>\n",
              "    </tr>\n",
              "    <tr>\n",
              "      <th>12</th>\n",
              "      <td>True</td>\n",
              "      <td>2.2</td>\n",
              "      <td>0.137633</td>\n",
              "      <td>0.141045</td>\n",
              "      <td>0.144793</td>\n",
              "      <td>0.145757</td>\n",
              "      <td>0.145570</td>\n",
              "      <td>0.145180</td>\n",
              "      <td>0.143793</td>\n",
              "      <td>0.141257</td>\n",
              "      <td>...</td>\n",
              "      <td>2.912618</td>\n",
              "      <td>2.911201</td>\n",
              "      <td>2.898590</td>\n",
              "      <td>2.887394</td>\n",
              "      <td>2.886869</td>\n",
              "      <td>2.887019</td>\n",
              "      <td>2.875892</td>\n",
              "      <td>2.863482</td>\n",
              "      <td>2.862177</td>\n",
              "      <td>2.858754</td>\n",
              "    </tr>\n",
              "    <tr>\n",
              "      <th>...</th>\n",
              "      <td>...</td>\n",
              "      <td>...</td>\n",
              "      <td>...</td>\n",
              "      <td>...</td>\n",
              "      <td>...</td>\n",
              "      <td>...</td>\n",
              "      <td>...</td>\n",
              "      <td>...</td>\n",
              "      <td>...</td>\n",
              "      <td>...</td>\n",
              "      <td>...</td>\n",
              "      <td>...</td>\n",
              "      <td>...</td>\n",
              "      <td>...</td>\n",
              "      <td>...</td>\n",
              "      <td>...</td>\n",
              "      <td>...</td>\n",
              "      <td>...</td>\n",
              "      <td>...</td>\n",
              "      <td>...</td>\n",
              "      <td>...</td>\n",
              "    </tr>\n",
              "    <tr>\n",
              "      <th>619</th>\n",
              "      <td>True</td>\n",
              "      <td>8.6</td>\n",
              "      <td>0.231522</td>\n",
              "      <td>0.230534</td>\n",
              "      <td>0.231280</td>\n",
              "      <td>0.231104</td>\n",
              "      <td>0.230198</td>\n",
              "      <td>0.229698</td>\n",
              "      <td>0.229015</td>\n",
              "      <td>0.227028</td>\n",
              "      <td>...</td>\n",
              "      <td>2.925508</td>\n",
              "      <td>2.927053</td>\n",
              "      <td>2.920447</td>\n",
              "      <td>2.915572</td>\n",
              "      <td>2.920224</td>\n",
              "      <td>2.922330</td>\n",
              "      <td>2.909775</td>\n",
              "      <td>2.897480</td>\n",
              "      <td>2.897737</td>\n",
              "      <td>2.897391</td>\n",
              "    </tr>\n",
              "    <tr>\n",
              "      <th>620</th>\n",
              "      <td>True</td>\n",
              "      <td>10.8</td>\n",
              "      <td>0.227531</td>\n",
              "      <td>0.226628</td>\n",
              "      <td>0.227406</td>\n",
              "      <td>0.227385</td>\n",
              "      <td>0.226585</td>\n",
              "      <td>0.225993</td>\n",
              "      <td>0.225327</td>\n",
              "      <td>0.223806</td>\n",
              "      <td>...</td>\n",
              "      <td>2.945441</td>\n",
              "      <td>2.943505</td>\n",
              "      <td>2.933849</td>\n",
              "      <td>2.929372</td>\n",
              "      <td>2.934153</td>\n",
              "      <td>2.933573</td>\n",
              "      <td>2.921115</td>\n",
              "      <td>2.910637</td>\n",
              "      <td>2.914499</td>\n",
              "      <td>2.916288</td>\n",
              "    </tr>\n",
              "    <tr>\n",
              "      <th>621</th>\n",
              "      <td>True</td>\n",
              "      <td>12.2</td>\n",
              "      <td>0.224536</td>\n",
              "      <td>0.223379</td>\n",
              "      <td>0.224203</td>\n",
              "      <td>0.224431</td>\n",
              "      <td>0.223999</td>\n",
              "      <td>0.223736</td>\n",
              "      <td>0.222991</td>\n",
              "      <td>0.220813</td>\n",
              "      <td>...</td>\n",
              "      <td>2.966221</td>\n",
              "      <td>2.969063</td>\n",
              "      <td>2.961253</td>\n",
              "      <td>2.952713</td>\n",
              "      <td>2.949854</td>\n",
              "      <td>2.944465</td>\n",
              "      <td>2.929207</td>\n",
              "      <td>2.920399</td>\n",
              "      <td>2.922437</td>\n",
              "      <td>2.923226</td>\n",
              "    </tr>\n",
              "    <tr>\n",
              "      <th>622</th>\n",
              "      <td>True</td>\n",
              "      <td>13.4</td>\n",
              "      <td>0.226519</td>\n",
              "      <td>0.225667</td>\n",
              "      <td>0.226440</td>\n",
              "      <td>0.226193</td>\n",
              "      <td>0.225218</td>\n",
              "      <td>0.224726</td>\n",
              "      <td>0.224143</td>\n",
              "      <td>0.222250</td>\n",
              "      <td>...</td>\n",
              "      <td>2.936783</td>\n",
              "      <td>2.939133</td>\n",
              "      <td>2.927408</td>\n",
              "      <td>2.915374</td>\n",
              "      <td>2.913538</td>\n",
              "      <td>2.912847</td>\n",
              "      <td>2.901005</td>\n",
              "      <td>2.891991</td>\n",
              "      <td>2.894289</td>\n",
              "      <td>2.893951</td>\n",
              "    </tr>\n",
              "    <tr>\n",
              "      <th>623</th>\n",
              "      <td>True</td>\n",
              "      <td>15.8</td>\n",
              "      <td>0.233873</td>\n",
              "      <td>0.232724</td>\n",
              "      <td>0.233435</td>\n",
              "      <td>0.233191</td>\n",
              "      <td>0.232077</td>\n",
              "      <td>0.231309</td>\n",
              "      <td>0.230551</td>\n",
              "      <td>0.228832</td>\n",
              "      <td>...</td>\n",
              "      <td>2.936938</td>\n",
              "      <td>2.938734</td>\n",
              "      <td>2.926707</td>\n",
              "      <td>2.915750</td>\n",
              "      <td>2.916544</td>\n",
              "      <td>2.919218</td>\n",
              "      <td>2.910248</td>\n",
              "      <td>2.899414</td>\n",
              "      <td>2.894074</td>\n",
              "      <td>2.890147</td>\n",
              "    </tr>\n",
              "  </tbody>\n",
              "</table>\n",
              "<p>313 rows × 1781 columns</p>\n",
              "</div>\n",
              "      <button class=\"colab-df-convert\" onclick=\"convertToInteractive('df-616d7811-2b83-45cf-a19e-e944bb65a4e3')\"\n",
              "              title=\"Convert this dataframe to an interactive table.\"\n",
              "              style=\"display:none;\">\n",
              "        \n",
              "  <svg xmlns=\"http://www.w3.org/2000/svg\" height=\"24px\"viewBox=\"0 0 24 24\"\n",
              "       width=\"24px\">\n",
              "    <path d=\"M0 0h24v24H0V0z\" fill=\"none\"/>\n",
              "    <path d=\"M18.56 5.44l.94 2.06.94-2.06 2.06-.94-2.06-.94-.94-2.06-.94 2.06-2.06.94zm-11 1L8.5 8.5l.94-2.06 2.06-.94-2.06-.94L8.5 2.5l-.94 2.06-2.06.94zm10 10l.94 2.06.94-2.06 2.06-.94-2.06-.94-.94-2.06-.94 2.06-2.06.94z\"/><path d=\"M17.41 7.96l-1.37-1.37c-.4-.4-.92-.59-1.43-.59-.52 0-1.04.2-1.43.59L10.3 9.45l-7.72 7.72c-.78.78-.78 2.05 0 2.83L4 21.41c.39.39.9.59 1.41.59.51 0 1.02-.2 1.41-.59l7.78-7.78 2.81-2.81c.8-.78.8-2.07 0-2.86zM5.41 20L4 18.59l7.72-7.72 1.47 1.35L5.41 20z\"/>\n",
              "  </svg>\n",
              "      </button>\n",
              "      \n",
              "  <style>\n",
              "    .colab-df-container {\n",
              "      display:flex;\n",
              "      flex-wrap:wrap;\n",
              "      gap: 12px;\n",
              "    }\n",
              "\n",
              "    .colab-df-convert {\n",
              "      background-color: #E8F0FE;\n",
              "      border: none;\n",
              "      border-radius: 50%;\n",
              "      cursor: pointer;\n",
              "      display: none;\n",
              "      fill: #1967D2;\n",
              "      height: 32px;\n",
              "      padding: 0 0 0 0;\n",
              "      width: 32px;\n",
              "    }\n",
              "\n",
              "    .colab-df-convert:hover {\n",
              "      background-color: #E2EBFA;\n",
              "      box-shadow: 0px 1px 2px rgba(60, 64, 67, 0.3), 0px 1px 3px 1px rgba(60, 64, 67, 0.15);\n",
              "      fill: #174EA6;\n",
              "    }\n",
              "\n",
              "    [theme=dark] .colab-df-convert {\n",
              "      background-color: #3B4455;\n",
              "      fill: #D2E3FC;\n",
              "    }\n",
              "\n",
              "    [theme=dark] .colab-df-convert:hover {\n",
              "      background-color: #434B5C;\n",
              "      box-shadow: 0px 1px 3px 1px rgba(0, 0, 0, 0.15);\n",
              "      filter: drop-shadow(0px 1px 2px rgba(0, 0, 0, 0.3));\n",
              "      fill: #FFFFFF;\n",
              "    }\n",
              "  </style>\n",
              "\n",
              "      <script>\n",
              "        const buttonEl =\n",
              "          document.querySelector('#df-616d7811-2b83-45cf-a19e-e944bb65a4e3 button.colab-df-convert');\n",
              "        buttonEl.style.display =\n",
              "          google.colab.kernel.accessAllowed ? 'block' : 'none';\n",
              "\n",
              "        async function convertToInteractive(key) {\n",
              "          const element = document.querySelector('#df-616d7811-2b83-45cf-a19e-e944bb65a4e3');\n",
              "          const dataTable =\n",
              "            await google.colab.kernel.invokeFunction('convertToInteractive',\n",
              "                                                     [key], {});\n",
              "          if (!dataTable) return;\n",
              "\n",
              "          const docLinkHtml = 'Like what you see? Visit the ' +\n",
              "            '<a target=\"_blank\" href=https://colab.research.google.com/notebooks/data_table.ipynb>data table notebook</a>'\n",
              "            + ' to learn more about interactive tables.';\n",
              "          element.innerHTML = '';\n",
              "          dataTable['output_type'] = 'display_data';\n",
              "          await google.colab.output.renderOutput(dataTable, element);\n",
              "          const docLink = document.createElement('div');\n",
              "          docLink.innerHTML = docLinkHtml;\n",
              "          element.appendChild(docLink);\n",
              "        }\n",
              "      </script>\n",
              "    </div>\n",
              "  </div>\n",
              "  "
            ]
          },
          "metadata": {},
          "execution_count": 7
        }
      ]
    },
    {
      "cell_type": "code",
      "source": [
        "x1,y1=data_a3.shape\n",
        "data_a1=data_a3.iloc[0::,2:yy+1]\n",
        "data_a1"
      ],
      "metadata": {
        "colab": {
          "base_uri": "https://localhost:8080/",
          "height": 488
        },
        "id": "w_7Wm9mQwAhz",
        "outputId": "cf75d5e2-2aa0-4101-e0e8-23a869580aa0"
      },
      "execution_count": 8,
      "outputs": [
        {
          "output_type": "execute_result",
          "data": {
            "text/plain": [
              "     899.9280058  900.2520706  900.5763689  900.9009009  901.2256669  \\\n",
              "0       0.276093     0.279368     0.282974     0.283645     0.283141   \n",
              "1       0.199544     0.202455     0.206198     0.207755     0.208028   \n",
              "2       0.306803     0.309845     0.313508     0.314680     0.314671   \n",
              "3       0.286879     0.290392     0.294110     0.294774     0.294035   \n",
              "12      0.137633     0.141045     0.144793     0.145757     0.145570   \n",
              "..           ...          ...          ...          ...          ...   \n",
              "619     0.231522     0.230534     0.231280     0.231104     0.230198   \n",
              "620     0.227531     0.226628     0.227406     0.227385     0.226585   \n",
              "621     0.224536     0.223379     0.224203     0.224431     0.223999   \n",
              "622     0.226519     0.225667     0.226440     0.226193     0.225218   \n",
              "623     0.233873     0.232724     0.233435     0.233191     0.232077   \n",
              "\n",
              "     901.5506671  901.8759019  902.2013713  902.5270758  902.8530155  ...  \\\n",
              "0       0.282718     0.281553     0.279137     0.279341     0.282978  ...   \n",
              "1       0.207398     0.205435     0.202679     0.203198     0.207066  ...   \n",
              "2       0.314172     0.312433     0.309447     0.309265     0.312464  ...   \n",
              "3       0.293060     0.291292     0.288594     0.288835     0.292392  ...   \n",
              "12      0.145180     0.143793     0.141257     0.141577     0.145204  ...   \n",
              "..           ...          ...          ...          ...          ...  ...   \n",
              "619     0.229698     0.229015     0.227028     0.224940     0.224793  ...   \n",
              "620     0.225993     0.225327     0.223806     0.222423     0.222653  ...   \n",
              "621     0.223736     0.222991     0.220813     0.218589     0.218392  ...   \n",
              "622     0.224726     0.224143     0.222250     0.220084     0.219543  ...   \n",
              "623     0.231309     0.230551     0.228832     0.227284     0.227713  ...   \n",
              "\n",
              "     2477.700694  2480.15873  2482.621648  2485.089463  2487.562189  \\\n",
              "0       2.949425    2.949937     2.940435     2.930193     2.927044   \n",
              "1       2.981332    2.984826     2.975499     2.964666     2.964128   \n",
              "2       2.991938    2.992541     2.984488     2.976776     2.975918   \n",
              "3       2.991402    2.990624     2.980183     2.970664     2.967151   \n",
              "12      2.912618    2.911201     2.898590     2.887394     2.886869   \n",
              "..           ...         ...          ...          ...          ...   \n",
              "619     2.925508    2.927053     2.920447     2.915572     2.920224   \n",
              "620     2.945441    2.943505     2.933849     2.929372     2.934153   \n",
              "621     2.966221    2.969063     2.961253     2.952713     2.949854   \n",
              "622     2.936783    2.939133     2.927408     2.915374     2.913538   \n",
              "623     2.936938    2.938734     2.926707     2.915750     2.916544   \n",
              "\n",
              "     2490.039841  2492.522433  2495.00998  2497.502498      2500  \n",
              "0       2.926591     2.917971    2.911627     2.911584  2.909855  \n",
              "1       2.967567     2.960830    2.954538     2.956946  2.955335  \n",
              "2       2.973828     2.963011    2.955492     2.954702  2.949301  \n",
              "3       2.961850     2.948892    2.939125     2.938542  2.934796  \n",
              "12      2.887019     2.875892    2.863482     2.862177  2.858754  \n",
              "..           ...          ...         ...          ...       ...  \n",
              "619     2.922330     2.909775    2.897480     2.897737  2.897391  \n",
              "620     2.933573     2.921115    2.910637     2.914499  2.916288  \n",
              "621     2.944465     2.929207    2.920399     2.922437  2.923226  \n",
              "622     2.912847     2.901005    2.891991     2.894289  2.893951  \n",
              "623     2.919218     2.910248    2.899414     2.894074  2.890147  \n",
              "\n",
              "[313 rows x 1779 columns]"
            ],
            "text/html": [
              "\n",
              "  <div id=\"df-3cb8eed1-e936-4f54-9c73-e7d042b9d0c4\">\n",
              "    <div class=\"colab-df-container\">\n",
              "      <div>\n",
              "<style scoped>\n",
              "    .dataframe tbody tr th:only-of-type {\n",
              "        vertical-align: middle;\n",
              "    }\n",
              "\n",
              "    .dataframe tbody tr th {\n",
              "        vertical-align: top;\n",
              "    }\n",
              "\n",
              "    .dataframe thead th {\n",
              "        text-align: right;\n",
              "    }\n",
              "</style>\n",
              "<table border=\"1\" class=\"dataframe\">\n",
              "  <thead>\n",
              "    <tr style=\"text-align: right;\">\n",
              "      <th></th>\n",
              "      <th>899.9280058</th>\n",
              "      <th>900.2520706</th>\n",
              "      <th>900.5763689</th>\n",
              "      <th>900.9009009</th>\n",
              "      <th>901.2256669</th>\n",
              "      <th>901.5506671</th>\n",
              "      <th>901.8759019</th>\n",
              "      <th>902.2013713</th>\n",
              "      <th>902.5270758</th>\n",
              "      <th>902.8530155</th>\n",
              "      <th>...</th>\n",
              "      <th>2477.700694</th>\n",
              "      <th>2480.15873</th>\n",
              "      <th>2482.621648</th>\n",
              "      <th>2485.089463</th>\n",
              "      <th>2487.562189</th>\n",
              "      <th>2490.039841</th>\n",
              "      <th>2492.522433</th>\n",
              "      <th>2495.00998</th>\n",
              "      <th>2497.502498</th>\n",
              "      <th>2500</th>\n",
              "    </tr>\n",
              "  </thead>\n",
              "  <tbody>\n",
              "    <tr>\n",
              "      <th>0</th>\n",
              "      <td>0.276093</td>\n",
              "      <td>0.279368</td>\n",
              "      <td>0.282974</td>\n",
              "      <td>0.283645</td>\n",
              "      <td>0.283141</td>\n",
              "      <td>0.282718</td>\n",
              "      <td>0.281553</td>\n",
              "      <td>0.279137</td>\n",
              "      <td>0.279341</td>\n",
              "      <td>0.282978</td>\n",
              "      <td>...</td>\n",
              "      <td>2.949425</td>\n",
              "      <td>2.949937</td>\n",
              "      <td>2.940435</td>\n",
              "      <td>2.930193</td>\n",
              "      <td>2.927044</td>\n",
              "      <td>2.926591</td>\n",
              "      <td>2.917971</td>\n",
              "      <td>2.911627</td>\n",
              "      <td>2.911584</td>\n",
              "      <td>2.909855</td>\n",
              "    </tr>\n",
              "    <tr>\n",
              "      <th>1</th>\n",
              "      <td>0.199544</td>\n",
              "      <td>0.202455</td>\n",
              "      <td>0.206198</td>\n",
              "      <td>0.207755</td>\n",
              "      <td>0.208028</td>\n",
              "      <td>0.207398</td>\n",
              "      <td>0.205435</td>\n",
              "      <td>0.202679</td>\n",
              "      <td>0.203198</td>\n",
              "      <td>0.207066</td>\n",
              "      <td>...</td>\n",
              "      <td>2.981332</td>\n",
              "      <td>2.984826</td>\n",
              "      <td>2.975499</td>\n",
              "      <td>2.964666</td>\n",
              "      <td>2.964128</td>\n",
              "      <td>2.967567</td>\n",
              "      <td>2.960830</td>\n",
              "      <td>2.954538</td>\n",
              "      <td>2.956946</td>\n",
              "      <td>2.955335</td>\n",
              "    </tr>\n",
              "    <tr>\n",
              "      <th>2</th>\n",
              "      <td>0.306803</td>\n",
              "      <td>0.309845</td>\n",
              "      <td>0.313508</td>\n",
              "      <td>0.314680</td>\n",
              "      <td>0.314671</td>\n",
              "      <td>0.314172</td>\n",
              "      <td>0.312433</td>\n",
              "      <td>0.309447</td>\n",
              "      <td>0.309265</td>\n",
              "      <td>0.312464</td>\n",
              "      <td>...</td>\n",
              "      <td>2.991938</td>\n",
              "      <td>2.992541</td>\n",
              "      <td>2.984488</td>\n",
              "      <td>2.976776</td>\n",
              "      <td>2.975918</td>\n",
              "      <td>2.973828</td>\n",
              "      <td>2.963011</td>\n",
              "      <td>2.955492</td>\n",
              "      <td>2.954702</td>\n",
              "      <td>2.949301</td>\n",
              "    </tr>\n",
              "    <tr>\n",
              "      <th>3</th>\n",
              "      <td>0.286879</td>\n",
              "      <td>0.290392</td>\n",
              "      <td>0.294110</td>\n",
              "      <td>0.294774</td>\n",
              "      <td>0.294035</td>\n",
              "      <td>0.293060</td>\n",
              "      <td>0.291292</td>\n",
              "      <td>0.288594</td>\n",
              "      <td>0.288835</td>\n",
              "      <td>0.292392</td>\n",
              "      <td>...</td>\n",
              "      <td>2.991402</td>\n",
              "      <td>2.990624</td>\n",
              "      <td>2.980183</td>\n",
              "      <td>2.970664</td>\n",
              "      <td>2.967151</td>\n",
              "      <td>2.961850</td>\n",
              "      <td>2.948892</td>\n",
              "      <td>2.939125</td>\n",
              "      <td>2.938542</td>\n",
              "      <td>2.934796</td>\n",
              "    </tr>\n",
              "    <tr>\n",
              "      <th>12</th>\n",
              "      <td>0.137633</td>\n",
              "      <td>0.141045</td>\n",
              "      <td>0.144793</td>\n",
              "      <td>0.145757</td>\n",
              "      <td>0.145570</td>\n",
              "      <td>0.145180</td>\n",
              "      <td>0.143793</td>\n",
              "      <td>0.141257</td>\n",
              "      <td>0.141577</td>\n",
              "      <td>0.145204</td>\n",
              "      <td>...</td>\n",
              "      <td>2.912618</td>\n",
              "      <td>2.911201</td>\n",
              "      <td>2.898590</td>\n",
              "      <td>2.887394</td>\n",
              "      <td>2.886869</td>\n",
              "      <td>2.887019</td>\n",
              "      <td>2.875892</td>\n",
              "      <td>2.863482</td>\n",
              "      <td>2.862177</td>\n",
              "      <td>2.858754</td>\n",
              "    </tr>\n",
              "    <tr>\n",
              "      <th>...</th>\n",
              "      <td>...</td>\n",
              "      <td>...</td>\n",
              "      <td>...</td>\n",
              "      <td>...</td>\n",
              "      <td>...</td>\n",
              "      <td>...</td>\n",
              "      <td>...</td>\n",
              "      <td>...</td>\n",
              "      <td>...</td>\n",
              "      <td>...</td>\n",
              "      <td>...</td>\n",
              "      <td>...</td>\n",
              "      <td>...</td>\n",
              "      <td>...</td>\n",
              "      <td>...</td>\n",
              "      <td>...</td>\n",
              "      <td>...</td>\n",
              "      <td>...</td>\n",
              "      <td>...</td>\n",
              "      <td>...</td>\n",
              "      <td>...</td>\n",
              "    </tr>\n",
              "    <tr>\n",
              "      <th>619</th>\n",
              "      <td>0.231522</td>\n",
              "      <td>0.230534</td>\n",
              "      <td>0.231280</td>\n",
              "      <td>0.231104</td>\n",
              "      <td>0.230198</td>\n",
              "      <td>0.229698</td>\n",
              "      <td>0.229015</td>\n",
              "      <td>0.227028</td>\n",
              "      <td>0.224940</td>\n",
              "      <td>0.224793</td>\n",
              "      <td>...</td>\n",
              "      <td>2.925508</td>\n",
              "      <td>2.927053</td>\n",
              "      <td>2.920447</td>\n",
              "      <td>2.915572</td>\n",
              "      <td>2.920224</td>\n",
              "      <td>2.922330</td>\n",
              "      <td>2.909775</td>\n",
              "      <td>2.897480</td>\n",
              "      <td>2.897737</td>\n",
              "      <td>2.897391</td>\n",
              "    </tr>\n",
              "    <tr>\n",
              "      <th>620</th>\n",
              "      <td>0.227531</td>\n",
              "      <td>0.226628</td>\n",
              "      <td>0.227406</td>\n",
              "      <td>0.227385</td>\n",
              "      <td>0.226585</td>\n",
              "      <td>0.225993</td>\n",
              "      <td>0.225327</td>\n",
              "      <td>0.223806</td>\n",
              "      <td>0.222423</td>\n",
              "      <td>0.222653</td>\n",
              "      <td>...</td>\n",
              "      <td>2.945441</td>\n",
              "      <td>2.943505</td>\n",
              "      <td>2.933849</td>\n",
              "      <td>2.929372</td>\n",
              "      <td>2.934153</td>\n",
              "      <td>2.933573</td>\n",
              "      <td>2.921115</td>\n",
              "      <td>2.910637</td>\n",
              "      <td>2.914499</td>\n",
              "      <td>2.916288</td>\n",
              "    </tr>\n",
              "    <tr>\n",
              "      <th>621</th>\n",
              "      <td>0.224536</td>\n",
              "      <td>0.223379</td>\n",
              "      <td>0.224203</td>\n",
              "      <td>0.224431</td>\n",
              "      <td>0.223999</td>\n",
              "      <td>0.223736</td>\n",
              "      <td>0.222991</td>\n",
              "      <td>0.220813</td>\n",
              "      <td>0.218589</td>\n",
              "      <td>0.218392</td>\n",
              "      <td>...</td>\n",
              "      <td>2.966221</td>\n",
              "      <td>2.969063</td>\n",
              "      <td>2.961253</td>\n",
              "      <td>2.952713</td>\n",
              "      <td>2.949854</td>\n",
              "      <td>2.944465</td>\n",
              "      <td>2.929207</td>\n",
              "      <td>2.920399</td>\n",
              "      <td>2.922437</td>\n",
              "      <td>2.923226</td>\n",
              "    </tr>\n",
              "    <tr>\n",
              "      <th>622</th>\n",
              "      <td>0.226519</td>\n",
              "      <td>0.225667</td>\n",
              "      <td>0.226440</td>\n",
              "      <td>0.226193</td>\n",
              "      <td>0.225218</td>\n",
              "      <td>0.224726</td>\n",
              "      <td>0.224143</td>\n",
              "      <td>0.222250</td>\n",
              "      <td>0.220084</td>\n",
              "      <td>0.219543</td>\n",
              "      <td>...</td>\n",
              "      <td>2.936783</td>\n",
              "      <td>2.939133</td>\n",
              "      <td>2.927408</td>\n",
              "      <td>2.915374</td>\n",
              "      <td>2.913538</td>\n",
              "      <td>2.912847</td>\n",
              "      <td>2.901005</td>\n",
              "      <td>2.891991</td>\n",
              "      <td>2.894289</td>\n",
              "      <td>2.893951</td>\n",
              "    </tr>\n",
              "    <tr>\n",
              "      <th>623</th>\n",
              "      <td>0.233873</td>\n",
              "      <td>0.232724</td>\n",
              "      <td>0.233435</td>\n",
              "      <td>0.233191</td>\n",
              "      <td>0.232077</td>\n",
              "      <td>0.231309</td>\n",
              "      <td>0.230551</td>\n",
              "      <td>0.228832</td>\n",
              "      <td>0.227284</td>\n",
              "      <td>0.227713</td>\n",
              "      <td>...</td>\n",
              "      <td>2.936938</td>\n",
              "      <td>2.938734</td>\n",
              "      <td>2.926707</td>\n",
              "      <td>2.915750</td>\n",
              "      <td>2.916544</td>\n",
              "      <td>2.919218</td>\n",
              "      <td>2.910248</td>\n",
              "      <td>2.899414</td>\n",
              "      <td>2.894074</td>\n",
              "      <td>2.890147</td>\n",
              "    </tr>\n",
              "  </tbody>\n",
              "</table>\n",
              "<p>313 rows × 1779 columns</p>\n",
              "</div>\n",
              "      <button class=\"colab-df-convert\" onclick=\"convertToInteractive('df-3cb8eed1-e936-4f54-9c73-e7d042b9d0c4')\"\n",
              "              title=\"Convert this dataframe to an interactive table.\"\n",
              "              style=\"display:none;\">\n",
              "        \n",
              "  <svg xmlns=\"http://www.w3.org/2000/svg\" height=\"24px\"viewBox=\"0 0 24 24\"\n",
              "       width=\"24px\">\n",
              "    <path d=\"M0 0h24v24H0V0z\" fill=\"none\"/>\n",
              "    <path d=\"M18.56 5.44l.94 2.06.94-2.06 2.06-.94-2.06-.94-.94-2.06-.94 2.06-2.06.94zm-11 1L8.5 8.5l.94-2.06 2.06-.94-2.06-.94L8.5 2.5l-.94 2.06-2.06.94zm10 10l.94 2.06.94-2.06 2.06-.94-2.06-.94-.94-2.06-.94 2.06-2.06.94z\"/><path d=\"M17.41 7.96l-1.37-1.37c-.4-.4-.92-.59-1.43-.59-.52 0-1.04.2-1.43.59L10.3 9.45l-7.72 7.72c-.78.78-.78 2.05 0 2.83L4 21.41c.39.39.9.59 1.41.59.51 0 1.02-.2 1.41-.59l7.78-7.78 2.81-2.81c.8-.78.8-2.07 0-2.86zM5.41 20L4 18.59l7.72-7.72 1.47 1.35L5.41 20z\"/>\n",
              "  </svg>\n",
              "      </button>\n",
              "      \n",
              "  <style>\n",
              "    .colab-df-container {\n",
              "      display:flex;\n",
              "      flex-wrap:wrap;\n",
              "      gap: 12px;\n",
              "    }\n",
              "\n",
              "    .colab-df-convert {\n",
              "      background-color: #E8F0FE;\n",
              "      border: none;\n",
              "      border-radius: 50%;\n",
              "      cursor: pointer;\n",
              "      display: none;\n",
              "      fill: #1967D2;\n",
              "      height: 32px;\n",
              "      padding: 0 0 0 0;\n",
              "      width: 32px;\n",
              "    }\n",
              "\n",
              "    .colab-df-convert:hover {\n",
              "      background-color: #E2EBFA;\n",
              "      box-shadow: 0px 1px 2px rgba(60, 64, 67, 0.3), 0px 1px 3px 1px rgba(60, 64, 67, 0.15);\n",
              "      fill: #174EA6;\n",
              "    }\n",
              "\n",
              "    [theme=dark] .colab-df-convert {\n",
              "      background-color: #3B4455;\n",
              "      fill: #D2E3FC;\n",
              "    }\n",
              "\n",
              "    [theme=dark] .colab-df-convert:hover {\n",
              "      background-color: #434B5C;\n",
              "      box-shadow: 0px 1px 3px 1px rgba(0, 0, 0, 0.15);\n",
              "      filter: drop-shadow(0px 1px 2px rgba(0, 0, 0, 0.3));\n",
              "      fill: #FFFFFF;\n",
              "    }\n",
              "  </style>\n",
              "\n",
              "      <script>\n",
              "        const buttonEl =\n",
              "          document.querySelector('#df-3cb8eed1-e936-4f54-9c73-e7d042b9d0c4 button.colab-df-convert');\n",
              "        buttonEl.style.display =\n",
              "          google.colab.kernel.accessAllowed ? 'block' : 'none';\n",
              "\n",
              "        async function convertToInteractive(key) {\n",
              "          const element = document.querySelector('#df-3cb8eed1-e936-4f54-9c73-e7d042b9d0c4');\n",
              "          const dataTable =\n",
              "            await google.colab.kernel.invokeFunction('convertToInteractive',\n",
              "                                                     [key], {});\n",
              "          if (!dataTable) return;\n",
              "\n",
              "          const docLinkHtml = 'Like what you see? Visit the ' +\n",
              "            '<a target=\"_blank\" href=https://colab.research.google.com/notebooks/data_table.ipynb>data table notebook</a>'\n",
              "            + ' to learn more about interactive tables.';\n",
              "          element.innerHTML = '';\n",
              "          dataTable['output_type'] = 'display_data';\n",
              "          await google.colab.output.renderOutput(dataTable, element);\n",
              "          const docLink = document.createElement('div');\n",
              "          docLink.innerHTML = docLinkHtml;\n",
              "          element.appendChild(docLink);\n",
              "        }\n",
              "      </script>\n",
              "    </div>\n",
              "  </div>\n",
              "  "
            ]
          },
          "metadata": {},
          "execution_count": 8
        }
      ]
    },
    {
      "cell_type": "code",
      "source": [
        "data_a1_n=data_a1.to_numpy()\n",
        "data_a1_input=data_a1_n\n",
        "data_a1_input"
      ],
      "metadata": {
        "colab": {
          "base_uri": "https://localhost:8080/"
        },
        "id": "tLKbsGSowQim",
        "outputId": "3153bf88-095c-4afc-f86d-a87d03ee15a2"
      },
      "execution_count": 9,
      "outputs": [
        {
          "output_type": "execute_result",
          "data": {
            "text/plain": [
              "array([[0.27609259, 0.27936762, 0.28297358, ..., 2.91162677, 2.91158401,\n",
              "        2.90985458],\n",
              "       [0.19954403, 0.20245471, 0.20619798, ..., 2.95453844, 2.95694632,\n",
              "        2.95533475],\n",
              "       [0.3068027 , 0.3098446 , 0.31350789, ..., 2.95549201, 2.9547023 ,\n",
              "        2.94930113],\n",
              "       ...,\n",
              "       [0.22453563, 0.22337879, 0.22420344, ..., 2.92039857, 2.92243662,\n",
              "        2.92322634],\n",
              "       [0.22651915, 0.22566712, 0.22644003, ..., 2.89199138, 2.89428919,\n",
              "        2.8939513 ],\n",
              "       [0.23387301, 0.23272414, 0.23343534, ..., 2.89941353, 2.89407375,\n",
              "        2.89014733]])"
            ]
          },
          "metadata": {},
          "execution_count": 9
        }
      ]
    },
    {
      "cell_type": "code",
      "source": [
        "data_a1_output=data_a3.iloc[0::,1:2]\n",
        "data_a1_output.head()"
      ],
      "metadata": {
        "colab": {
          "base_uri": "https://localhost:8080/",
          "height": 206
        },
        "id": "rhIm76bIwUow",
        "outputId": "3c7ac4bc-0315-4631-c355-8aa1d3905f52"
      },
      "execution_count": 10,
      "outputs": [
        {
          "output_type": "execute_result",
          "data": {
            "text/plain": [
              "    Y_B\n",
              "0   2.0\n",
              "1   1.8\n",
              "2   6.7\n",
              "3   6.2\n",
              "12  2.2"
            ],
            "text/html": [
              "\n",
              "  <div id=\"df-37834fcb-304c-4726-9c5f-e18fd3b159b8\">\n",
              "    <div class=\"colab-df-container\">\n",
              "      <div>\n",
              "<style scoped>\n",
              "    .dataframe tbody tr th:only-of-type {\n",
              "        vertical-align: middle;\n",
              "    }\n",
              "\n",
              "    .dataframe tbody tr th {\n",
              "        vertical-align: top;\n",
              "    }\n",
              "\n",
              "    .dataframe thead th {\n",
              "        text-align: right;\n",
              "    }\n",
              "</style>\n",
              "<table border=\"1\" class=\"dataframe\">\n",
              "  <thead>\n",
              "    <tr style=\"text-align: right;\">\n",
              "      <th></th>\n",
              "      <th>Y_B</th>\n",
              "    </tr>\n",
              "  </thead>\n",
              "  <tbody>\n",
              "    <tr>\n",
              "      <th>0</th>\n",
              "      <td>2.0</td>\n",
              "    </tr>\n",
              "    <tr>\n",
              "      <th>1</th>\n",
              "      <td>1.8</td>\n",
              "    </tr>\n",
              "    <tr>\n",
              "      <th>2</th>\n",
              "      <td>6.7</td>\n",
              "    </tr>\n",
              "    <tr>\n",
              "      <th>3</th>\n",
              "      <td>6.2</td>\n",
              "    </tr>\n",
              "    <tr>\n",
              "      <th>12</th>\n",
              "      <td>2.2</td>\n",
              "    </tr>\n",
              "  </tbody>\n",
              "</table>\n",
              "</div>\n",
              "      <button class=\"colab-df-convert\" onclick=\"convertToInteractive('df-37834fcb-304c-4726-9c5f-e18fd3b159b8')\"\n",
              "              title=\"Convert this dataframe to an interactive table.\"\n",
              "              style=\"display:none;\">\n",
              "        \n",
              "  <svg xmlns=\"http://www.w3.org/2000/svg\" height=\"24px\"viewBox=\"0 0 24 24\"\n",
              "       width=\"24px\">\n",
              "    <path d=\"M0 0h24v24H0V0z\" fill=\"none\"/>\n",
              "    <path d=\"M18.56 5.44l.94 2.06.94-2.06 2.06-.94-2.06-.94-.94-2.06-.94 2.06-2.06.94zm-11 1L8.5 8.5l.94-2.06 2.06-.94-2.06-.94L8.5 2.5l-.94 2.06-2.06.94zm10 10l.94 2.06.94-2.06 2.06-.94-2.06-.94-.94-2.06-.94 2.06-2.06.94z\"/><path d=\"M17.41 7.96l-1.37-1.37c-.4-.4-.92-.59-1.43-.59-.52 0-1.04.2-1.43.59L10.3 9.45l-7.72 7.72c-.78.78-.78 2.05 0 2.83L4 21.41c.39.39.9.59 1.41.59.51 0 1.02-.2 1.41-.59l7.78-7.78 2.81-2.81c.8-.78.8-2.07 0-2.86zM5.41 20L4 18.59l7.72-7.72 1.47 1.35L5.41 20z\"/>\n",
              "  </svg>\n",
              "      </button>\n",
              "      \n",
              "  <style>\n",
              "    .colab-df-container {\n",
              "      display:flex;\n",
              "      flex-wrap:wrap;\n",
              "      gap: 12px;\n",
              "    }\n",
              "\n",
              "    .colab-df-convert {\n",
              "      background-color: #E8F0FE;\n",
              "      border: none;\n",
              "      border-radius: 50%;\n",
              "      cursor: pointer;\n",
              "      display: none;\n",
              "      fill: #1967D2;\n",
              "      height: 32px;\n",
              "      padding: 0 0 0 0;\n",
              "      width: 32px;\n",
              "    }\n",
              "\n",
              "    .colab-df-convert:hover {\n",
              "      background-color: #E2EBFA;\n",
              "      box-shadow: 0px 1px 2px rgba(60, 64, 67, 0.3), 0px 1px 3px 1px rgba(60, 64, 67, 0.15);\n",
              "      fill: #174EA6;\n",
              "    }\n",
              "\n",
              "    [theme=dark] .colab-df-convert {\n",
              "      background-color: #3B4455;\n",
              "      fill: #D2E3FC;\n",
              "    }\n",
              "\n",
              "    [theme=dark] .colab-df-convert:hover {\n",
              "      background-color: #434B5C;\n",
              "      box-shadow: 0px 1px 3px 1px rgba(0, 0, 0, 0.15);\n",
              "      filter: drop-shadow(0px 1px 2px rgba(0, 0, 0, 0.3));\n",
              "      fill: #FFFFFF;\n",
              "    }\n",
              "  </style>\n",
              "\n",
              "      <script>\n",
              "        const buttonEl =\n",
              "          document.querySelector('#df-37834fcb-304c-4726-9c5f-e18fd3b159b8 button.colab-df-convert');\n",
              "        buttonEl.style.display =\n",
              "          google.colab.kernel.accessAllowed ? 'block' : 'none';\n",
              "\n",
              "        async function convertToInteractive(key) {\n",
              "          const element = document.querySelector('#df-37834fcb-304c-4726-9c5f-e18fd3b159b8');\n",
              "          const dataTable =\n",
              "            await google.colab.kernel.invokeFunction('convertToInteractive',\n",
              "                                                     [key], {});\n",
              "          if (!dataTable) return;\n",
              "\n",
              "          const docLinkHtml = 'Like what you see? Visit the ' +\n",
              "            '<a target=\"_blank\" href=https://colab.research.google.com/notebooks/data_table.ipynb>data table notebook</a>'\n",
              "            + ' to learn more about interactive tables.';\n",
              "          element.innerHTML = '';\n",
              "          dataTable['output_type'] = 'display_data';\n",
              "          await google.colab.output.renderOutput(dataTable, element);\n",
              "          const docLink = document.createElement('div');\n",
              "          docLink.innerHTML = docLinkHtml;\n",
              "          element.appendChild(docLink);\n",
              "        }\n",
              "      </script>\n",
              "    </div>\n",
              "  </div>\n",
              "  "
            ]
          },
          "metadata": {},
          "execution_count": 10
        }
      ]
    },
    {
      "cell_type": "code",
      "source": [
        "data_a1_output_n=data_a1_output.to_numpy().flatten()\n",
        "data_a1_target=data_a1_output_n\n",
        "data_a1_target"
      ],
      "metadata": {
        "colab": {
          "base_uri": "https://localhost:8080/"
        },
        "id": "NHYamJ0rwZhw",
        "outputId": "d19ed37f-2f51-4867-9202-13f009065f75"
      },
      "execution_count": 11,
      "outputs": [
        {
          "output_type": "execute_result",
          "data": {
            "text/plain": [
              "array([ 2.   ,  1.8  ,  6.7  ,  6.2  ,  2.2  ,  2.4  ,  4.   ,  7.8  ,\n",
              "        9.4  ,  8.2  ,  3.7  ,  3.6  ,  5.7  ,  7.8  ,  6.4  , 11.9  ,\n",
              "        3.7  ,  6.   ,  7.9  ,  6.5  , 12.2  ,  3.8  ,  3.1  ,  3.7  ,\n",
              "        8.2  ,  9.8  ,  3.9  ,  3.7  ,  6.1  ,  8.5  ,  9.7  , 12.6  ,\n",
              "        3.5  ,  3.7  ,  5.5  ,  7.7  ,  9.4  , 10.9  ,  0.6  ,  2.   ,\n",
              "        3.3  ,  5.4  ,  9.7  ,  2.2  ,  2.4  ,  4.   ,  7.8  ,  9.4  ,\n",
              "        8.2  ,  3.7  ,  3.6  ,  5.7  ,  7.8  ,  6.4  ,  3.7  ,  1.8  ,\n",
              "        6.   ,  7.9  ,  6.5  , 12.2  ,  3.8  ,  3.1  ,  3.7  ,  8.2  ,\n",
              "        9.8  ,  3.9  ,  3.7  ,  6.1  ,  8.5  ,  9.7  , 12.6  ,  3.5  ,\n",
              "        3.7  ,  5.5  ,  7.7  ,  9.4  , 10.9  ,  0.6  ,  2.   ,  3.3  ,\n",
              "        5.4  ,  9.7  ,  3.256,  3.185,  5.303,  7.076,  7.907, 10.775,\n",
              "        2.921,  3.19 ,  5.359,  7.221,  8.563, 10.755,  3.102,  2.792,\n",
              "        5.231,  7.233,  8.376, 10.826,  3.154,  2.9  ,  5.334,  7.223,\n",
              "        8.483, 10.932,  3.128,  3.234,  5.305,  7.323,  8.33 , 10.531,\n",
              "        2.986,  2.901,  5.401,  7.02 ,  8.24 , 10.469,  3.216,  3.195,\n",
              "        5.374,  7.185,  8.558, 10.598,  3.26 ,  3.177,  5.172,  7.359,\n",
              "        8.419, 10.668,  3.256,  3.185,  5.303,  7.076,  7.907, 10.775,\n",
              "        2.921,  3.19 ,  5.359,  7.221,  8.563, 10.755,  3.102,  2.792,\n",
              "        5.231,  7.233,  8.376, 10.826,  3.154,  2.9  ,  5.334,  8.483,\n",
              "       10.932,  3.128,  3.234,  5.305,  7.323,  8.33 , 10.531,  2.986,\n",
              "        2.901,  5.401,  7.02 ,  8.24 , 10.469,  3.216,  3.195,  5.374,\n",
              "        7.185,  8.558, 10.598,  3.26 ,  3.177,  5.172,  7.359,  8.419,\n",
              "       10.668,  8.384, 11.333, 13.737,  5.242,  5.168,  7.542,  9.867,\n",
              "       11.494, 13.964,  5.236,  4.871,  7.49 , 10.044, 11.46 , 13.886,\n",
              "        4.75 ,  4.964,  7.757,  9.855, 11.179, 14.043,  4.7  ,  4.587,\n",
              "        7.42 , 10.527, 10.943, 14.415,  4.571,  4.653,  7.257, 10.015,\n",
              "       11.99 , 14.429,  4.962,  4.58 ,  7.415,  9.556, 11.293, 14.139,\n",
              "        5.332,  5.604,  7.469, 10.453, 12.409, 16.332,  8.384, 11.333,\n",
              "       13.737,  5.242,  5.168,  7.542,  9.867, 11.494, 13.964,  5.236,\n",
              "        4.871,  7.49 , 10.044, 11.46 , 13.886,  4.75 ,  4.964,  7.757,\n",
              "        9.855, 11.179, 14.043,  4.7  ,  4.587,  7.42 , 10.527, 10.943,\n",
              "       14.415,  4.571,  4.653,  7.257, 10.015, 11.99 , 14.429,  4.962,\n",
              "        4.58 ,  7.415,  9.556, 11.293, 14.139,  5.332,  5.604,  7.469,\n",
              "       10.453, 12.409, 16.332,  6.4  ,  8.6  , 10.4  , 11.7  , 13.1  ,\n",
              "        9.6  ,  9.7  , 11.8  , 13.3  , 13.9  , 16.1  ,  7.1  ,  6.6  ,\n",
              "        8.6  , 10.6  , 11.6  , 13.5  ,  8.4  ,  8.2  , 10.2  , 11.7  ,\n",
              "       12.7  ,  7.1  ,  6.9  ,  9.2  , 10.9  , 11.9  , 13.7  ,  8.4  ,\n",
              "        8.3  , 10.5  , 12.3  , 13.3  , 15.3  ,  6.8  ,  6.6  ,  8.8  ,\n",
              "       10.8  , 11.9  , 13.6  ,  8.5  ,  8.6  , 10.8  , 12.2  , 13.4  ,\n",
              "       15.8  ])"
            ]
          },
          "metadata": {},
          "execution_count": 11
        }
      ]
    },
    {
      "cell_type": "code",
      "source": [
        "import multiprocessing\n",
        "import pandas as pd\n",
        "import numpy as np\n",
        "import matplotlib.pyplot as plt\n",
        "plt.style.use(['seaborn-whitegrid'])"
      ],
      "metadata": {
        "id": "PmkYa1Nx1Er9"
      },
      "execution_count": 12,
      "outputs": []
    },
    {
      "cell_type": "code",
      "source": [
        "from sklearn.svm import SVR, SVC\n",
        "from sklearn.datasets import load_boston, load_diabetes\n",
        "from sklearn.datasets import load_breast_cancer, load_iris, load_wine\n",
        "from sklearn.pipeline import make_pipeline,Pipeline\n",
        "from sklearn.model_selection import train_test_split,cross_validate, GridSearchCV\n",
        "from sklearn.preprocessing import StandardScaler, MinMaxScaler\n",
        "from sklearn.manifold import TSNE\n"
      ],
      "metadata": {
        "id": "aTWrdJnlZ6QC"
      },
      "execution_count": 13,
      "outputs": []
    },
    {
      "cell_type": "markdown",
      "source": [
        "#SVM을 사용한 분류모델 \n",
        "# 커널기법"
      ],
      "metadata": {
        "id": "BypkTxpIb6fd"
      }
    },
    {
      "cell_type": "code",
      "source": [
        "#X,y = load_boston(return_X_y=True)\n",
        "X=data_a1_input\n",
        "y=data_a1_target\n",
        "X_train, X_test, y_train, y_test=train_test_split(X, y, random_state=123)\n",
        "\n",
        "model = SVR()\n",
        "model.fit(X_train, y_train)\n",
        "\n",
        "print(\"힉습 데이터 점수:{}\".format(model.score(X_train, y_train)))\n",
        "print(\"평가 데이터 점수:{}\".format(model.score(X_test, y_test)))"
      ],
      "metadata": {
        "id": "S6s4Jpkjbzna",
        "colab": {
          "base_uri": "https://localhost:8080/"
        },
        "outputId": "6aa1ef8d-deed-40ae-f08b-b4a31101ff45"
      },
      "execution_count": 14,
      "outputs": [
        {
          "output_type": "stream",
          "name": "stdout",
          "text": [
            "힉습 데이터 점수:0.006362068818078992\n",
            "평가 데이터 점수:0.0019910856900428042\n"
          ]
        }
      ]
    },
    {
      "cell_type": "code",
      "source": [
        "#no\n",
        "X,y = load_breast_cancer(return_X_y=True)\n",
        "X_train, X_test, y_train, y_test=train_test_split(X, y, random_state=123)\n",
        "\n",
        "model = SVC()\n",
        "model.fit(X_train, y_train)\n",
        "\n",
        "print(\"힉습 데이터 점수:{}\".format(model.score(X_train, y_train)))\n",
        "print(\"평가 데이터 점수:{}\".format(model.score(X_test, y_test)))"
      ],
      "metadata": {
        "id": "alZPIHxUdbzy"
      },
      "execution_count": null,
      "outputs": []
    },
    {
      "cell_type": "markdown",
      "source": [
        "#커널기법"
      ],
      "metadata": {
        "id": "zYn_lqxCduc1"
      }
    },
    {
      "cell_type": "code",
      "source": [
        "#no\n",
        "X,y=load_boston(return_X_y=True)\n",
        "X_train, X_test,y_train, y_test=train_test_split(X,y,random_state=123)\n",
        "\n",
        "linear_svr=SVR(kernel='linear')\n",
        "linear_svr.fit(X_train,y_train)\n",
        "\n",
        "print(\"Linear SVR 힉습 데이터 점수:{}\".format(linear_svr.score(X_train, y_train)))\n",
        "print(\"Linear SVR 평가 데이터 점수:{}\".format(linear_svr.score(X_test, y_test)))\n",
        "\n",
        "poly_svr=SVR(kernel='poly')\n",
        "poly_svr.fit(X_train,y_train)\n",
        "\n",
        "print(\"Polynomial SVR 힉습 데이터 점수:{}\".format(poly_svr.score(X_train, y_train)))\n",
        "print(\"Polynomial SVR 평가 데이터 점수:{}\".format(poly_svr.score(X_test, y_test)))\n",
        "\n",
        "rbf_svr=SVR(kernel='rbf')\n",
        "rbf_svr.fit(X_train,y_train)\n",
        "\n",
        "print(\"RBF SVR 힉습 데이터 점수:{}\".format(rbf_svr.score(X_train, y_train)))\n",
        "print(\"RBF SVR 평가 데이터 점수:{}\".format(rbf_svr.score(X_test, y_test)))"
      ],
      "metadata": {
        "id": "wWAJqb1ZdrnN"
      },
      "execution_count": null,
      "outputs": []
    },
    {
      "cell_type": "code",
      "source": [
        "#no"
      ],
      "metadata": {
        "id": "dweo6Rzqful3"
      },
      "execution_count": null,
      "outputs": []
    },
    {
      "cell_type": "code",
      "source": [
        "X,y=load_breast_cancer(return_X_y=True)\n",
        "X_train, X_test,y_train, y_test=train_test_split(X,y,random_state=123)\n",
        "\n",
        "linear_svc=SVC(kernel='linear')\n",
        "linear_svc.fit(X_train,y_train)\n",
        "\n",
        "print(\"Linear SVC 힉습 데이터 점수:{}\".format(linear_svc.score(X_train, y_train)))\n",
        "print(\"Linear SVC 평가 데이터 점수:{}\".format(linear_svc.score(X_test, y_test)))\n",
        "\n",
        "poly_svc=SVC(kernel='poly')\n",
        "poly_svc.fit(X_train,y_train)\n",
        "\n",
        "print(\"Polynomial SVC 힉습 데이터 점수:{}\".format(poly_svc.score(X_train, y_train)))\n",
        "print(\"Polynomial SVC 평가 데이터 점수:{}\".format(poly_svc.score(X_test, y_test)))\n",
        "\n",
        "rbf_svc=SVC(kernel='rbf')\n",
        "rbf_svc.fit(X_train,y_train)\n",
        "\n",
        "print(\"RBF SVR 힉습 데이터 점수:{}\".format(rbf_svc.score(X_train, y_train)))\n",
        "print(\"RBF SVR 평가 데이터 점수:{}\".format(rbf_svc.score(X_test, y_test)))"
      ],
      "metadata": {
        "id": "0szD4XB9iLKv"
      },
      "execution_count": null,
      "outputs": []
    },
    {
      "cell_type": "markdown",
      "source": [
        "#매개변수 튜닝"
      ],
      "metadata": {
        "id": "35VKkXg-kxp7"
      }
    },
    {
      "cell_type": "code",
      "source": [
        "X,y=load_breast_cancer(return_X_y=True)\n",
        "X_train, X_test,y_train, y_test=train_test_split(X,y,random_state=123)\n",
        "\n",
        "poly_svc=SVC(kernel='poly',degree=2,C=0.1,gamma='auto')\n",
        "poly_svc.fit(X_train,y_train)\n",
        "\n",
        "print(\"kernel=poly, degree={},C={},gamma={}\".format(2,0.1,'auto'))\n",
        "\n",
        "print(\"Polynomial SVC 힉습 데이터 점수:{}\".format(poly_svc.score(X_train, y_train)))\n",
        "print(\"Polynomial SVC 평가 데이터 점수:{}\".format(poly_svc.score(X_test, y_test)))\n"
      ],
      "metadata": {
        "id": "to2eA5LNilKT"
      },
      "execution_count": null,
      "outputs": []
    },
    {
      "cell_type": "code",
      "source": [
        "rbf_svc=SVC(kernel='rbf',C=2.0, gamma='scale')\n",
        "rbf_svc.fit(X_train,y_train)\n",
        "print(\"kernel=rbf,C={},gamma={}\".format(2,0,'scale'))\n",
        "print(\"RBF SVR 힉습 데이터 점수:{}\".format(rbf_svc.score(X_train, y_train)))\n",
        "print(\"RBF SVR 평가 데이터 점수:{}\".format(rbf_svc.score(X_test, y_test)))"
      ],
      "metadata": {
        "id": "rLciKpcBmNt7"
      },
      "execution_count": null,
      "outputs": []
    },
    {
      "cell_type": "code",
      "source": [
        "scaler=MinMaxScaler()\n",
        "X_train=scaler.fit_transform(X_train)\n",
        "X_test=scaler.transform(X_test)"
      ],
      "metadata": {
        "id": "KAgJ6Lr4n-By"
      },
      "execution_count": null,
      "outputs": []
    },
    {
      "cell_type": "code",
      "source": [
        "model=SVC()\n",
        "model.fit(X_train,y_train)"
      ],
      "metadata": {
        "id": "jWf8erQwoUGB"
      },
      "execution_count": null,
      "outputs": []
    },
    {
      "cell_type": "code",
      "source": [
        "print(\"SVC 힉습 데이터 점수:{}\".format(model.score(X_train, y_train)))\n",
        "print(\"SVC 평가 데이터 점수:{}\".format(model.score(X_test, y_test)))"
      ],
      "metadata": {
        "id": "2NsYc03bomrx"
      },
      "execution_count": null,
      "outputs": []
    },
    {
      "cell_type": "code",
      "source": [
        "#no end "
      ],
      "metadata": {
        "id": "cMGWlAcBzbXa"
      },
      "execution_count": null,
      "outputs": []
    },
    {
      "cell_type": "markdown",
      "source": [
        "#Linear SVR"
      ],
      "metadata": {
        "id": "-ZnoCbjyo-1r"
      }
    },
    {
      "cell_type": "code",
      "source": [
        "#X,y=load_boston(return_X_y=True)\n",
        "X_train,X_test,y_train,y_test=train_test_split(X,y,test_size=0.2)\n",
        "#X_train,X_test,y_train,y_test=train_test_split(X,y,test_size=0.1)"
      ],
      "metadata": {
        "id": "zoOIgUvfpBt0"
      },
      "execution_count": 19,
      "outputs": []
    },
    {
      "cell_type": "code",
      "source": [
        "scaler=StandardScaler()\n",
        "scaler.fit(X_train)\n",
        "X_train=scaler.transform(X_train)\n",
        "X_test=scaler.transform(X_test)"
      ],
      "metadata": {
        "id": "QPrPS8n1pZDl"
      },
      "execution_count": 20,
      "outputs": []
    },
    {
      "cell_type": "code",
      "source": [
        "model=SVR(kernel='linear')\n",
        "model.fit(X_train,y_train)"
      ],
      "metadata": {
        "id": "8K8jEukKp1fL",
        "colab": {
          "base_uri": "https://localhost:8080/"
        },
        "outputId": "59d0af89-b97f-4e00-ec05-4b0ecd76e57b"
      },
      "execution_count": 21,
      "outputs": [
        {
          "output_type": "execute_result",
          "data": {
            "text/plain": [
              "SVR(kernel='linear')"
            ]
          },
          "metadata": {},
          "execution_count": 21
        }
      ]
    },
    {
      "cell_type": "code",
      "source": [
        "print(\"학습 데이터 점수:{}\".format(model.score(X_train, y_train)))\n",
        "print(\"평가 데이터 점수:{}\".format(model.score(X_test, y_test)))"
      ],
      "metadata": {
        "id": "VVmW6qiTqBI8",
        "colab": {
          "base_uri": "https://localhost:8080/"
        },
        "outputId": "a9f080a0-9a09-409f-ab9a-3c816094d110"
      },
      "execution_count": 22,
      "outputs": [
        {
          "output_type": "stream",
          "name": "stdout",
          "text": [
            "학습 데이터 점수:0.955186888416511\n",
            "평가 데이터 점수:0.8663251604980244\n"
          ]
        }
      ]
    },
    {
      "cell_type": "code",
      "source": [
        "X_comp=TSNE(n_components=1).fit_transform(X)\n",
        "import matplotlib.pyplot as plt\n",
        "plt.scatter(X_comp,y);"
      ],
      "metadata": {
        "id": "lvlKrddRrEAK",
        "colab": {
          "base_uri": "https://localhost:8080/",
          "height": 355
        },
        "outputId": "1631f125-bee6-4601-ecfd-d52a9084dfa4"
      },
      "execution_count": 23,
      "outputs": [
        {
          "output_type": "stream",
          "name": "stderr",
          "text": [
            "/usr/local/lib/python3.8/dist-packages/sklearn/manifold/_t_sne.py:780: FutureWarning: The default initialization in TSNE will change from 'random' to 'pca' in 1.2.\n",
            "  warnings.warn(\n",
            "/usr/local/lib/python3.8/dist-packages/sklearn/manifold/_t_sne.py:790: FutureWarning: The default learning rate in TSNE will change from 200.0 to 'auto' in 1.2.\n",
            "  warnings.warn(\n"
          ]
        },
        {
          "output_type": "display_data",
          "data": {
            "text/plain": [
              "<Figure size 432x288 with 1 Axes>"
            ],
            "image/png": "[encoded data removed]"
          },
          "metadata": {}
        }
      ]
    },
    {
      "cell_type": "code",
      "source": [
        "model.fit(X_comp,y)\n",
        "predict=model.predict(X_comp)\n",
        "plt.scatter(X_comp,y)\n",
        "plt.scatter(X_comp,predict)\n"
      ],
      "metadata": {
        "id": "LA-_hIQNr53J",
        "colab": {
          "base_uri": "https://localhost:8080/",
          "height": 280
        },
        "outputId": "34934264-35cb-483c-e790-9bb8c0d0a77a"
      },
      "execution_count": 24,
      "outputs": [
        {
          "output_type": "execute_result",
          "data": {
            "text/plain": [
              "<matplotlib.collections.PathCollection at 0x7f21a0cedf40>"
            ]
          },
          "metadata": {},
          "execution_count": 24
        },
        {
          "output_type": "display_data",
          "data": {
            "text/plain": [
              "<Figure size 432x288 with 1 Axes>"
            ],
            "image/png": "[encoded data removed]"
          },
          "metadata": {}
        }
      ]
    },
    {
      "cell_type": "code",
      "source": [
        "estimator=make_pipeline(StandardScaler(), SVR(kernel='linear'))\n",
        "cross_validate(\n",
        "    estimator=estimator,\n",
        "    X=X, y=y,\n",
        "    cv=5,\n",
        "    n_jobs=multiprocessing.cpu_count(),\n",
        "    verbose=True\n",
        ")"
      ],
      "metadata": {
        "id": "WPLjeMfjriZw",
        "colab": {
          "base_uri": "https://localhost:8080/"
        },
        "outputId": "7078195a-f126-453c-9995-e046061c2a51"
      },
      "execution_count": 25,
      "outputs": [
        {
          "output_type": "stream",
          "name": "stderr",
          "text": [
            "[Parallel(n_jobs=2)]: Using backend LokyBackend with 2 concurrent workers.\n",
            "[Parallel(n_jobs=2)]: Done   5 out of   5 | elapsed:    7.0s finished\n"
          ]
        },
        {
          "output_type": "execute_result",
          "data": {
            "text/plain": [
              "{'fit_time': array([2.53474903, 2.48722577, 2.05989742, 3.03434634, 1.32254148]),\n",
              " 'score_time': array([0.01198387, 0.01321077, 0.01218772, 0.01217723, 0.00957799]),\n",
              " 'test_score': array([  0.46218678,   0.879314  ,   0.91794313,   0.91369283,\n",
              "        -14.3034247 ])}"
            ]
          },
          "metadata": {},
          "execution_count": 25
        }
      ]
    },
    {
      "cell_type": "code",
      "source": [
        "pipe=Pipeline([('scaler',StandardScaler()),\n",
        "               ('model', SVR(kernel='linear'))])\n",
        "param_grid=[{'model__gamma':['scale','auto'],\n",
        "              'model__C':[1.0, 0.1, 0.01],\n",
        "              'model__epsilon':[1.0, 0.1, 0.01]}]\n",
        "gs=GridSearchCV(\n",
        "    estimator=pipe,\n",
        "    param_grid = param_grid,\n",
        "    n_jobs=multiprocessing.cpu_count(),\n",
        "    cv=5,\n",
        "    verbose=True\n",
        ")\n",
        "\n",
        "gs.fit(X,y)"
      ],
      "metadata": {
        "id": "DCee17JJiOe9",
        "colab": {
          "base_uri": "https://localhost:8080/"
        },
        "outputId": "995765c3-28ea-4257-8ee9-2af97d81b6c9"
      },
      "execution_count": 26,
      "outputs": [
        {
          "output_type": "stream",
          "name": "stdout",
          "text": [
            "Fitting 5 folds for each of 18 candidates, totalling 90 fits\n"
          ]
        },
        {
          "output_type": "execute_result",
          "data": {
            "text/plain": [
              "GridSearchCV(cv=5,\n",
              "             estimator=Pipeline(steps=[('scaler', StandardScaler()),\n",
              "                                       ('model', SVR(kernel='linear'))]),\n",
              "             n_jobs=2,\n",
              "             param_grid=[{'model__C': [1.0, 0.1, 0.01],\n",
              "                          'model__epsilon': [1.0, 0.1, 0.01],\n",
              "                          'model__gamma': ['scale', 'auto']}],\n",
              "             verbose=True)"
            ]
          },
          "metadata": {},
          "execution_count": 26
        }
      ]
    },
    {
      "cell_type": "code",
      "source": [
        "gs.best_estimator_"
      ],
      "metadata": {
        "id": "m4yebLmcw-ta",
        "colab": {
          "base_uri": "https://localhost:8080/"
        },
        "outputId": "7dcb5cc3-0687-4030-8d28-f19f8e87c56a"
      },
      "execution_count": 27,
      "outputs": [
        {
          "output_type": "execute_result",
          "data": {
            "text/plain": [
              "Pipeline(steps=[('scaler', StandardScaler()),\n",
              "                ('model', SVR(C=0.01, epsilon=1.0, kernel='linear'))])"
            ]
          },
          "metadata": {},
          "execution_count": 27
        }
      ]
    },
    {
      "cell_type": "code",
      "source": [
        "model=gs.best_estimator_\n",
        "model.fit(X_train, y_train)"
      ],
      "metadata": {
        "colab": {
          "base_uri": "https://localhost:8080/"
        },
        "id": "mF6V0XkM2ETf",
        "outputId": "7b01a52b-0c33-401f-98a8-2304d1458cf7"
      },
      "execution_count": 28,
      "outputs": [
        {
          "output_type": "execute_result",
          "data": {
            "text/plain": [
              "Pipeline(steps=[('scaler', StandardScaler()),\n",
              "                ('model', SVR(C=0.01, epsilon=1.0, kernel='linear'))])"
            ]
          },
          "metadata": {},
          "execution_count": 28
        }
      ]
    },
    {
      "cell_type": "code",
      "source": [
        "print(\"학습 데이터 점수:{}\".format(model.score(X_train, y_train)))\n",
        "print(\"평가 데이터 점수:{}\".format(model.score(X_test, y_test)))"
      ],
      "metadata": {
        "colab": {
          "base_uri": "https://localhost:8080/"
        },
        "id": "aznhTZUB2ORA",
        "outputId": "b0e405ac-e2ff-4527-83b6-da722ed698d9"
      },
      "execution_count": 29,
      "outputs": [
        {
          "output_type": "stream",
          "name": "stdout",
          "text": [
            "학습 데이터 점수:0.6499309457823914\n",
            "평가 데이터 점수:0.5594716297866429\n"
          ]
        }
      ]
    },
    {
      "cell_type": "code",
      "source": [
        "estimator=make_pipeline(StandardScaler(), SVR(C=1.2, epsilon=0.01,kernel='linear'))\n",
        "cross_validate(\n",
        "    estimator=estimator,\n",
        "    X=X, y=y,\n",
        "    cv=10,\n",
        "    n_jobs=multiprocessing.cpu_count(),\n",
        "    verbose=True\n",
        ")"
      ],
      "metadata": {
        "colab": {
          "base_uri": "https://localhost:8080/"
        },
        "id": "aih7XH3b8bnJ",
        "outputId": "398325e4-4531-4613-fefd-abd977dba82c"
      },
      "execution_count": 40,
      "outputs": [
        {
          "output_type": "stream",
          "name": "stderr",
          "text": [
            "[Parallel(n_jobs=2)]: Using backend LokyBackend with 2 concurrent workers.\n",
            "[Parallel(n_jobs=2)]: Done  10 out of  10 | elapsed:   22.8s finished\n"
          ]
        },
        {
          "output_type": "execute_result",
          "data": {
            "text/plain": [
              "{'fit_time': array([6.05391097, 4.31976557, 3.64655161, 3.23633838, 3.95945382,\n",
              "        3.45726514, 3.41730714, 3.75113082, 4.11068869, 3.4340415 ]),\n",
              " 'score_time': array([0.0082581 , 0.00855589, 0.00778317, 0.00783706, 0.00773883,\n",
              "        0.00765133, 0.00766206, 0.0077405 , 0.00760508, 0.00642276]),\n",
              " 'test_score': array([0.62065291, 0.64350582, 0.87230527, 0.94080285, 0.88556812,\n",
              "        0.95254027, 0.91388941, 0.92245065, 0.89916229, 0.78965139])}"
            ]
          },
          "metadata": {},
          "execution_count": 40
        }
      ]
    },
    {
      "cell_type": "code",
      "source": [
        "estimator=make_pipeline(StandardScaler(), SVR(C=0.01, epsilon=1.0,kernel='rbf'))\n",
        "cross_validate(\n",
        "    estimator=estimator,\n",
        "    X=X, y=y,\n",
        "    cv=10,\n",
        "    n_jobs=multiprocessing.cpu_count(),\n",
        "    verbose=True\n",
        ")"
      ],
      "metadata": {
        "colab": {
          "base_uri": "https://localhost:8080/"
        },
        "id": "ipVd647nAetU",
        "outputId": "fde7fccc-d093-4793-af6b-9f646b45e737"
      },
      "execution_count": 45,
      "outputs": [
        {
          "output_type": "stream",
          "name": "stderr",
          "text": [
            "[Parallel(n_jobs=2)]: Using backend LokyBackend with 2 concurrent workers.\n",
            "[Parallel(n_jobs=2)]: Done   7 out of  10 | elapsed:    0.6s remaining:    0.3s\n",
            "[Parallel(n_jobs=2)]: Done  10 out of  10 | elapsed:    0.7s finished\n"
          ]
        },
        {
          "output_type": "execute_result",
          "data": {
            "text/plain": [
              "{'fit_time': array([0.13491535, 0.10610795, 0.07392716, 0.15999246, 0.10094166,\n",
              "        0.08853865, 0.18507218, 0.10720134, 0.09286761, 0.07681727]),\n",
              " 'score_time': array([0.03365183, 0.02460623, 0.01575565, 0.03908181, 0.01527333,\n",
              "        0.01973343, 0.04134512, 0.01360822, 0.01707244, 0.01650739]),\n",
              " 'test_score': array([-0.18133953, -0.45444257, -0.17580758, -0.20095998, -0.15036454,\n",
              "         0.01036588, -0.18810945, -0.24329923, -0.72465364, -2.27118693])}"
            ]
          },
          "metadata": {},
          "execution_count": 45
        }
      ]
    },
    {
      "cell_type": "code",
      "source": [
        "estimator=make_pipeline(StandardScaler(), SVR(C=1.2, epsilon=0.01,kernel='poly'))\n",
        "cross_validate(\n",
        "    estimator=estimator,\n",
        "    X=X, y=y,\n",
        "    cv=10,\n",
        "    n_jobs=multiprocessing.cpu_count(),\n",
        "    verbose=True\n",
        ")"
      ],
      "metadata": {
        "colab": {
          "base_uri": "https://localhost:8080/"
        },
        "id": "nHvEa5NQAofm",
        "outputId": "ea0045ed-9a24-4d5f-bfe4-f677e8c44f19"
      },
      "execution_count": 42,
      "outputs": [
        {
          "output_type": "stream",
          "name": "stderr",
          "text": [
            "[Parallel(n_jobs=2)]: Using backend LokyBackend with 2 concurrent workers.\n",
            "[Parallel(n_jobs=2)]: Done  10 out of  10 | elapsed:    0.7s finished\n"
          ]
        },
        {
          "output_type": "execute_result",
          "data": {
            "text/plain": [
              "{'fit_time': array([0.10985398, 0.13406324, 0.14002252, 0.11733127, 0.11945796,\n",
              "        0.12803817, 0.11897445, 0.1135776 , 0.12825942, 0.12147093]),\n",
              " 'score_time': array([0.0127368 , 0.0094924 , 0.01303601, 0.01628494, 0.0107069 ,\n",
              "        0.00947237, 0.01033068, 0.01051044, 0.01294446, 0.01202512]),\n",
              " 'test_score': array([-2.30460324e+01, -4.43694158e-01, -3.11375331e-02, -1.03031592e-01,\n",
              "        -6.32402685e-02, -6.89644323e-03, -2.57864615e-01, -1.02497057e-01,\n",
              "        -9.62265916e-02, -6.35919533e-01])}"
            ]
          },
          "metadata": {},
          "execution_count": 42
        }
      ]
    },
    {
      "cell_type": "code",
      "source": [
        "estimator=make_pipeline(StandardScaler(), SVR(C=1.2, epsilon=0.01,kernel='sigmoid'))\n",
        "cross_validate(\n",
        "    estimator=estimator,\n",
        "    X=X, y=y,\n",
        "    cv=10,\n",
        "    n_jobs=multiprocessing.cpu_count(),\n",
        "    verbose=True\n",
        ")"
      ],
      "metadata": {
        "colab": {
          "base_uri": "https://localhost:8080/"
        },
        "id": "i3VpzfW3Av07",
        "outputId": "6d4f5390-a2e2-4524-d809-f9a5f89d6a5a"
      },
      "execution_count": 43,
      "outputs": [
        {
          "output_type": "stream",
          "name": "stderr",
          "text": [
            "[Parallel(n_jobs=2)]: Using backend LokyBackend with 2 concurrent workers.\n",
            "[Parallel(n_jobs=2)]: Done  10 out of  10 | elapsed:    0.9s finished\n"
          ]
        },
        {
          "output_type": "execute_result",
          "data": {
            "text/plain": [
              "{'fit_time': array([0.16854835, 0.16245508, 0.13541198, 0.16159177, 0.16835546,\n",
              "        0.10246277, 0.11334538, 0.20254564, 0.15186834, 0.11462688]),\n",
              " 'score_time': array([0.02088451, 0.02296901, 0.02130079, 0.00965881, 0.00942564,\n",
              "        0.01131725, 0.02521348, 0.00883031, 0.01845026, 0.00872493]),\n",
              " 'test_score': array([-36.96455965,  -3.67685976,  -0.50208791, -13.66433619,\n",
              "         -2.34727218,  -3.27586923,  -9.2735055 ,  -5.88806881,\n",
              "         -4.93580411,  -6.21288126])}"
            ]
          },
          "metadata": {},
          "execution_count": 43
        }
      ]
    },
    {
      "cell_type": "code",
      "source": [
        "estimator=make_pipeline(StandardScaler(), SVR(C=1.2, epsilon=0.01,kernel='precomputed'))\n",
        "cross_validate(\n",
        "    estimator=estimator,\n",
        "    X=X, y=y,\n",
        "    cv=10,\n",
        "    n_jobs=multiprocessing.cpu_count(),\n",
        "    verbose=True\n",
        ")"
      ],
      "metadata": {
        "colab": {
          "base_uri": "https://localhost:8080/"
        },
        "id": "5oh0Uqc0A2dv",
        "outputId": "3199c9a7-d62c-4bfc-82a4-eedb3303d577"
      },
      "execution_count": 44,
      "outputs": [
        {
          "output_type": "stream",
          "name": "stderr",
          "text": [
            "[Parallel(n_jobs=2)]: Using backend LokyBackend with 2 concurrent workers.\n",
            "[Parallel(n_jobs=2)]: Done  10 out of  10 | elapsed:    0.1s finished\n",
            "/usr/local/lib/python3.8/dist-packages/sklearn/model_selection/_validation.py:372: FitFailedWarning: \n",
            "10 fits failed out of a total of 10.\n",
            "The score on these train-test partitions for these parameters will be set to nan.\n",
            "If these failures are not expected, you can try to debug them by setting error_score='raise'.\n",
            "\n",
            "Below are more details about the failures:\n",
            "--------------------------------------------------------------------------------\n",
            "3 fits failed with the following error:\n",
            "Traceback (most recent call last):\n",
            "  File \"/usr/local/lib/python3.8/dist-packages/sklearn/model_selection/_validation.py\", line 680, in _fit_and_score\n",
            "    estimator.fit(X_train, y_train, **fit_params)\n",
            "  File \"/usr/local/lib/python3.8/dist-packages/sklearn/pipeline.py\", line 394, in fit\n",
            "    self._final_estimator.fit(Xt, y, **fit_params_last_step)\n",
            "  File \"/usr/local/lib/python3.8/dist-packages/sklearn/svm/_base.py\", line 215, in fit\n",
            "    raise ValueError(\n",
            "ValueError: Precomputed matrix must be a square matrix. Input is a 281x1779 matrix.\n",
            "\n",
            "--------------------------------------------------------------------------------\n",
            "7 fits failed with the following error:\n",
            "Traceback (most recent call last):\n",
            "  File \"/usr/local/lib/python3.8/dist-packages/sklearn/model_selection/_validation.py\", line 680, in _fit_and_score\n",
            "    estimator.fit(X_train, y_train, **fit_params)\n",
            "  File \"/usr/local/lib/python3.8/dist-packages/sklearn/pipeline.py\", line 394, in fit\n",
            "    self._final_estimator.fit(Xt, y, **fit_params_last_step)\n",
            "  File \"/usr/local/lib/python3.8/dist-packages/sklearn/svm/_base.py\", line 215, in fit\n",
            "    raise ValueError(\n",
            "ValueError: Precomputed matrix must be a square matrix. Input is a 282x1779 matrix.\n",
            "\n",
            "  warnings.warn(some_fits_failed_message, FitFailedWarning)\n"
          ]
        },
        {
          "output_type": "execute_result",
          "data": {
            "text/plain": [
              "{'fit_time': array([0.01584792, 0.01481819, 0.01581931, 0.01645279, 0.01918578,\n",
              "        0.01725698, 0.0179143 , 0.01719642, 0.01762009, 0.0174036 ]),\n",
              " 'score_time': array([0., 0., 0., 0., 0., 0., 0., 0., 0., 0.]),\n",
              " 'test_score': array([nan, nan, nan, nan, nan, nan, nan, nan, nan, nan])}"
            ]
          },
          "metadata": {},
          "execution_count": 44
        }
      ]
    },
    {
      "cell_type": "code",
      "source": [
        "# no start------------------------------"
      ],
      "metadata": {
        "id": "nM6rQ9qn2S-F"
      },
      "execution_count": null,
      "outputs": []
    },
    {
      "cell_type": "markdown",
      "source": [
        "#당뇨병"
      ],
      "metadata": {
        "id": "-qAIvw75zOya"
      }
    },
    {
      "cell_type": "code",
      "source": [
        "X,y=load_diabetes(return_X_y=True)\n",
        "X_train,X_test,y_train,y_test=train_test_split(X,y,test_size=0.2)"
      ],
      "metadata": {
        "id": "TX68MLRBzj4B"
      },
      "execution_count": null,
      "outputs": []
    },
    {
      "cell_type": "code",
      "source": [
        "scaler=StandardScaler()\n",
        "scaler.fit(X_train)\n",
        "X_train=scaler.transform(X_train)\n",
        "X_test=scaler.transform(X_test)"
      ],
      "metadata": {
        "id": "baH1zwuezj4H"
      },
      "execution_count": null,
      "outputs": []
    },
    {
      "cell_type": "code",
      "source": [
        "model=SVR(kernel='linear')\n",
        "model.fit(X_train,y_train)"
      ],
      "metadata": {
        "id": "wenS-vJZzj4H"
      },
      "execution_count": null,
      "outputs": []
    },
    {
      "cell_type": "code",
      "source": [
        "print(\"학습 데이터 점수:{}\".format(model.score(X_train, y_train)))\n",
        "print(\"평가 데이터 점수:{}\".format(model.score(X_test, y_test)))"
      ],
      "metadata": {
        "id": "GdBe2FAZzj4H"
      },
      "execution_count": null,
      "outputs": []
    },
    {
      "cell_type": "code",
      "source": [
        "X_comp=TSNE(n_components=1).fit_transform(X)\n",
        "plt.scatter(X_comp,y);"
      ],
      "metadata": {
        "id": "ldS0Ro2jzj4I"
      },
      "execution_count": null,
      "outputs": []
    },
    {
      "cell_type": "code",
      "source": [
        "model.fit(X_comp,y)\n",
        "predict=model.predict(X_comp)\n",
        "plt.scatter(X_comp,y)\n",
        "plt.scatter(X_comp,predict)\n"
      ],
      "metadata": {
        "id": "uVJPEJGBzj4I"
      },
      "execution_count": null,
      "outputs": []
    },
    {
      "cell_type": "code",
      "source": [
        "estimator=make_pipeline(StandardScaler(), SVR(kernel='linear'))\n",
        "cross_validate(\n",
        "    estimator=estimator,\n",
        "    X=X, y=y,\n",
        "    cv=5,\n",
        "    n_jobs=multiprocessing.cpu_count(),\n",
        "    verbose=True\n",
        ")"
      ],
      "metadata": {
        "id": "edC5C3mEzj4I"
      },
      "execution_count": null,
      "outputs": []
    },
    {
      "cell_type": "code",
      "source": [
        "pipe=Pipeline([('scaler',StandardScaler()),\n",
        "               ('model', SVR(kernel='linear'))])\n",
        "param_grid=[{'model__gamma':['scale','auto'],\n",
        "              'model__C':[1.0, 0.1, 0.01],\n",
        "              'model__epsilon':[1.0, 0.1, 0.01]}]\n",
        "gs=GridSearchCV(\n",
        "    estimator=pipe,\n",
        "    param_grid = param_grid,\n",
        "    n_jobs=multiprocessing.cpu_count(),\n",
        "    cv=5,\n",
        "    verbose=True\n",
        ")\n",
        "\n"
      ],
      "metadata": {
        "id": "l3Zs0XcKzj4I"
      },
      "execution_count": null,
      "outputs": []
    },
    {
      "cell_type": "code",
      "source": [
        "gs.fit(X,y)"
      ],
      "metadata": {
        "id": "48AaGDiQzj4I"
      },
      "execution_count": null,
      "outputs": []
    },
    {
      "cell_type": "code",
      "source": [
        "gs.best_estimator_"
      ],
      "metadata": {
        "id": "lO2tXerczj4I"
      },
      "execution_count": null,
      "outputs": []
    },
    {
      "cell_type": "markdown",
      "source": [
        "#당뇨병\n"
      ],
      "metadata": {
        "id": "c-nPSFMy0oXK"
      }
    },
    {
      "cell_type": "code",
      "source": [
        "#no end ------------------------"
      ],
      "metadata": {
        "id": "TKG76Aw42fMl"
      },
      "execution_count": null,
      "outputs": []
    },
    {
      "cell_type": "code",
      "source": [
        "#X,y=load_diabetes(return_X_y=True)\n",
        "X_train,X_test,y_train,y_test=train_test_split(X,y,test_size=0.2)"
      ],
      "metadata": {
        "id": "Cdb3tb8H055L"
      },
      "execution_count": null,
      "outputs": []
    },
    {
      "cell_type": "code",
      "source": [
        "scaler=StandardScaler()\n",
        "scaler.fit(X_train)\n",
        "X_train=scaler.transform(X_train)\n",
        "X_test=scaler.transform(X_test)"
      ],
      "metadata": {
        "id": "q_rXdC-v055M"
      },
      "execution_count": null,
      "outputs": []
    },
    {
      "cell_type": "code",
      "source": [
        "model=SVR(kernel='rbf')\n",
        "model.fit(X_train,y_train)"
      ],
      "metadata": {
        "id": "umZH2l9k055M",
        "colab": {
          "base_uri": "https://localhost:8080/"
        },
        "outputId": "d3189509-59df-46b0-b987-3ea6c3236858"
      },
      "execution_count": null,
      "outputs": [
        {
          "output_type": "execute_result",
          "data": {
            "text/plain": [
              "SVR()"
            ]
          },
          "metadata": {},
          "execution_count": 30
        }
      ]
    },
    {
      "cell_type": "code",
      "source": [
        "print(\"학습 데이터 점수:{}\".format(model.score(X_train, y_train)))\n",
        "print(\"평가 데이터 점수:{}\".format(model.score(X_test, y_test)))"
      ],
      "metadata": {
        "id": "xWvibKiL055M",
        "colab": {
          "base_uri": "https://localhost:8080/"
        },
        "outputId": "3a3a23ec-45dd-4e57-a869-d1ba6fd5f8b2"
      },
      "execution_count": null,
      "outputs": [
        {
          "output_type": "stream",
          "name": "stdout",
          "text": [
            "학습 데이터 점수:0.2936224439043682\n",
            "평가 데이터 점수:0.2814792090711109\n"
          ]
        }
      ]
    },
    {
      "cell_type": "code",
      "source": [
        "X_comp=TSNE(n_components=1).fit_transform(X)\n",
        "plt.scatter(X_comp,y);"
      ],
      "metadata": {
        "id": "3jz_KMge055M",
        "colab": {
          "base_uri": "https://localhost:8080/",
          "height": 355
        },
        "outputId": "9535ae4a-7255-4f37-c48d-76ad88fdd031"
      },
      "execution_count": null,
      "outputs": [
        {
          "output_type": "stream",
          "name": "stderr",
          "text": [
            "/usr/local/lib/python3.8/dist-packages/sklearn/manifold/_t_sne.py:780: FutureWarning: The default initialization in TSNE will change from 'random' to 'pca' in 1.2.\n",
            "  warnings.warn(\n",
            "/usr/local/lib/python3.8/dist-packages/sklearn/manifold/_t_sne.py:790: FutureWarning: The default learning rate in TSNE will change from 200.0 to 'auto' in 1.2.\n",
            "  warnings.warn(\n"
          ]
        },
        {
          "output_type": "display_data",
          "data": {
            "text/plain": [
              "<Figure size 432x288 with 1 Axes>"
            ],
            "image/png": "[encoded data removed]"
          },
          "metadata": {}
        }
      ]
    },
    {
      "cell_type": "code",
      "source": [
        "model.fit(X_comp,y)\n",
        "predict=model.predict(X_comp)\n",
        "plt.scatter(X_comp,y)\n",
        "plt.scatter(X_comp,predict)\n"
      ],
      "metadata": {
        "id": "iaHNRoHT055M",
        "colab": {
          "base_uri": "https://localhost:8080/",
          "height": 280
        },
        "outputId": "9a10ff9d-273d-4b81-9b01-aa4303c7373c"
      },
      "execution_count": null,
      "outputs": [
        {
          "output_type": "execute_result",
          "data": {
            "text/plain": [
              "<matplotlib.collections.PathCollection at 0x7fb45ffa77f0>"
            ]
          },
          "metadata": {},
          "execution_count": 33
        },
        {
          "output_type": "display_data",
          "data": {
            "text/plain": [
              "<Figure size 432x288 with 1 Axes>"
            ],
            "image/png": "[encoded data removed]"
          },
          "metadata": {}
        }
      ]
    },
    {
      "cell_type": "code",
      "source": [
        "estimator=make_pipeline(StandardScaler(), SVR(kernel='rbf'))\n",
        "cross_validate(\n",
        "    estimator=estimator,\n",
        "    X=X, y=y,\n",
        "    cv=5,\n",
        "    n_jobs=multiprocessing.cpu_count(),\n",
        "    verbose=True\n",
        ")"
      ],
      "metadata": {
        "id": "OKWqahRi055M",
        "colab": {
          "base_uri": "https://localhost:8080/"
        },
        "outputId": "1d3add2f-08e6-4746-a21c-dadf9e571904"
      },
      "execution_count": null,
      "outputs": [
        {
          "output_type": "stream",
          "name": "stderr",
          "text": [
            "[Parallel(n_jobs=2)]: Using backend LokyBackend with 2 concurrent workers.\n",
            "[Parallel(n_jobs=2)]: Done   5 out of   5 | elapsed:    0.4s finished\n"
          ]
        },
        {
          "output_type": "execute_result",
          "data": {
            "text/plain": [
              "{'fit_time': array([0.10615492, 0.11666393, 0.09994841, 0.11162877, 0.06199884]),\n",
              " 'score_time': array([0.04698372, 0.03903961, 0.05120921, 0.04128766, 0.02304482]),\n",
              " 'test_score': array([-1.76611275e-01,  1.48032427e-03,  1.58547551e-01, -8.87295652e-04,\n",
              "        -1.19291320e+00])}"
            ]
          },
          "metadata": {},
          "execution_count": 34
        }
      ]
    },
    {
      "cell_type": "markdown",
      "source": [
        "#RBF, POlynomial, Sigmoid RBF--Best"
      ],
      "metadata": {
        "id": "p94y96tJ68M4"
      }
    },
    {
      "cell_type": "code",
      "source": [
        "pipe=Pipeline([('scaler',StandardScaler()),\n",
        "               ('model', SVR(kernel='rbf'))])\n",
        "param_grid=[{'model__kernel':['rbf','polynomial', 'sigmoid']}]\n",
        "        \n",
        "gs=GridSearchCV(\n",
        "    estimator=pipe,\n",
        "    param_grid = param_grid,\n",
        "    n_jobs=multiprocessing.cpu_count(),\n",
        "    cv=5,\n",
        "    verbose=True\n",
        ")\n",
        "\n"
      ],
      "metadata": {
        "id": "15nYjm50055M"
      },
      "execution_count": null,
      "outputs": []
    },
    {
      "cell_type": "code",
      "source": [
        "gs.fit(X,y)"
      ],
      "metadata": {
        "id": "e34bB6GI055N",
        "colab": {
          "base_uri": "https://localhost:8080/"
        },
        "outputId": "93e2bfdd-b287-4082-a2c9-3b6c9ed825a9"
      },
      "execution_count": null,
      "outputs": [
        {
          "output_type": "stream",
          "name": "stdout",
          "text": [
            "Fitting 5 folds for each of 3 candidates, totalling 15 fits\n"
          ]
        },
        {
          "output_type": "stream",
          "name": "stderr",
          "text": [
            "/usr/local/lib/python3.8/dist-packages/sklearn/model_selection/_validation.py:372: FitFailedWarning: \n",
            "5 fits failed out of a total of 15.\n",
            "The score on these train-test partitions for these parameters will be set to nan.\n",
            "If these failures are not expected, you can try to debug them by setting error_score='raise'.\n",
            "\n",
            "Below are more details about the failures:\n",
            "--------------------------------------------------------------------------------\n",
            "5 fits failed with the following error:\n",
            "Traceback (most recent call last):\n",
            "  File \"/usr/local/lib/python3.8/dist-packages/sklearn/model_selection/_validation.py\", line 680, in _fit_and_score\n",
            "    estimator.fit(X_train, y_train, **fit_params)\n",
            "  File \"/usr/local/lib/python3.8/dist-packages/sklearn/pipeline.py\", line 394, in fit\n",
            "    self._final_estimator.fit(Xt, y, **fit_params_last_step)\n",
            "  File \"/usr/local/lib/python3.8/dist-packages/sklearn/svm/_base.py\", line 255, in fit\n",
            "    fit(X, y, sample_weight, solver_type, kernel, random_seed=seed)\n",
            "  File \"/usr/local/lib/python3.8/dist-packages/sklearn/svm/_base.py\", line 315, in _dense_fit\n",
            "    ) = libsvm.fit(\n",
            "  File \"sklearn/svm/_libsvm.pyx\", line 173, in sklearn.svm._libsvm.fit\n",
            "ValueError: 'polynomial' is not in list\n",
            "\n",
            "  warnings.warn(some_fits_failed_message, FitFailedWarning)\n",
            "/usr/local/lib/python3.8/dist-packages/sklearn/model_selection/_search.py:969: UserWarning: One or more of the test scores are non-finite: [-0.24207678         nan -3.6900808 ]\n",
            "  warnings.warn(\n"
          ]
        },
        {
          "output_type": "execute_result",
          "data": {
            "text/plain": [
              "GridSearchCV(cv=5,\n",
              "             estimator=Pipeline(steps=[('scaler', StandardScaler()),\n",
              "                                       ('model', SVR())]),\n",
              "             n_jobs=2,\n",
              "             param_grid=[{'model__kernel': ['rbf', 'polynomial', 'sigmoid']}],\n",
              "             verbose=True)"
            ]
          },
          "metadata": {},
          "execution_count": 36
        }
      ]
    },
    {
      "cell_type": "code",
      "source": [
        "gs.best_estimator_"
      ],
      "metadata": {
        "id": "9X-iMxLe055N",
        "colab": {
          "base_uri": "https://localhost:8080/"
        },
        "outputId": "2df747ff-c3cf-406b-c392-ad42d5b54c2f"
      },
      "execution_count": null,
      "outputs": [
        {
          "output_type": "execute_result",
          "data": {
            "text/plain": [
              "Pipeline(steps=[('scaler', StandardScaler()), ('model', SVR())])"
            ]
          },
          "metadata": {},
          "execution_count": 38
        }
      ]
    },
    {
      "cell_type": "code",
      "source": [
        "model=gs.best_estimator_\n",
        "model.fit(X_train, y_train)"
      ],
      "metadata": {
        "colab": {
          "base_uri": "https://localhost:8080/"
        },
        "id": "dJG5BbUa3EE4",
        "outputId": "70d06bba-92c2-4c3d-dd7e-2ba1482c51be"
      },
      "execution_count": null,
      "outputs": [
        {
          "output_type": "execute_result",
          "data": {
            "text/plain": [
              "Pipeline(steps=[('scaler', StandardScaler()), ('model', SVR())])"
            ]
          },
          "metadata": {},
          "execution_count": 39
        }
      ]
    },
    {
      "cell_type": "code",
      "source": [
        "print(\"학습 데이터 점수:{}\".format(model.score(X_train, y_train)))\n",
        "print(\"평가 데이터 점수:{}\".format(model.score(X_test, y_test)))"
      ],
      "metadata": {
        "colab": {
          "base_uri": "https://localhost:8080/"
        },
        "id": "gw9lHAc43FPR",
        "outputId": "59934075-bc8e-4bf9-b118-b24bd2e0b70b"
      },
      "execution_count": null,
      "outputs": [
        {
          "output_type": "stream",
          "name": "stdout",
          "text": [
            "학습 데이터 점수:0.2936224439043682\n",
            "평가 데이터 점수:0.2814792090711108\n"
          ]
        }
      ]
    },
    {
      "cell_type": "markdown",
      "source": [
        "#RBF"
      ],
      "metadata": {
        "id": "M_coNyE14-WV"
      }
    },
    {
      "cell_type": "code",
      "source": [
        "pipe=Pipeline([('scaler',StandardScaler()),\n",
        "               ('model', SVR(kernel='rbf'))])\n",
        "param_grid=[{'model__gamma':['scale','auto'],\n",
        "             'model__C':[1.0, 0.1,0.01],\n",
        "             'model__epsilon':[1.0, 0.1, 0.01]}]\n",
        "        \n",
        "gs=GridSearchCV(\n",
        "    estimator=pipe,\n",
        "    param_grid = param_grid,\n",
        "    n_jobs=multiprocessing.cpu_count(),\n",
        "    cv=5,\n",
        "    verbose=True\n",
        ")\n",
        "\n"
      ],
      "metadata": {
        "id": "Ehqjb51S5B9h"
      },
      "execution_count": null,
      "outputs": []
    },
    {
      "cell_type": "code",
      "source": [
        "pipe=Pipeline([('scaler',StandardScaler()),\n",
        "               ('model', SVR(kernel='rbf'))])\n",
        "param_grid=[{'model__gamma':['scale','auto'],\n",
        "             'model__C':[1.0, 0.1,0.01],\n",
        "             'model__epsilon':[1.0, 0.1, 0.01]}]\n",
        "        \n",
        "gs=GridSearchCV(\n",
        "    estimator=pipe,\n",
        "    param_grid = param_grid,\n",
        "    n_jobs=multiprocessing.cpu_count(),\n",
        "    cv=5,\n",
        "    verbose=True\n",
        ")\n",
        "gs.fit(X,y)"
      ],
      "metadata": {
        "colab": {
          "base_uri": "https://localhost:8080/"
        },
        "id": "cHdo-hc45HA-",
        "outputId": "9733efc9-5b5f-4325-ac7a-3edf1c8ac2f9"
      },
      "execution_count": null,
      "outputs": [
        {
          "output_type": "stream",
          "name": "stdout",
          "text": [
            "Fitting 5 folds for each of 18 candidates, totalling 90 fits\n"
          ]
        },
        {
          "output_type": "execute_result",
          "data": {
            "text/plain": [
              "GridSearchCV(cv=5,\n",
              "             estimator=Pipeline(steps=[('scaler', StandardScaler()),\n",
              "                                       ('model', SVR())]),\n",
              "             n_jobs=2,\n",
              "             param_grid=[{'model__C': [1.0, 0.1, 0.01],\n",
              "                          'model__epsilon': [1.0, 0.1, 0.01],\n",
              "                          'model__gamma': ['scale', 'auto']}],\n",
              "             verbose=True)"
            ]
          },
          "metadata": {},
          "execution_count": 47
        }
      ]
    },
    {
      "cell_type": "code",
      "source": [
        "gs.best_estimator_"
      ],
      "metadata": {
        "colab": {
          "base_uri": "https://localhost:8080/"
        },
        "id": "Uv_mozjt5WqI",
        "outputId": "087fdd83-dd0e-4efa-90c0-cafea21d22d7"
      },
      "execution_count": null,
      "outputs": [
        {
          "output_type": "execute_result",
          "data": {
            "text/plain": [
              "Pipeline(steps=[('scaler', StandardScaler()), ('model', SVR(gamma='auto'))])"
            ]
          },
          "metadata": {},
          "execution_count": 48
        }
      ]
    },
    {
      "cell_type": "code",
      "source": [
        "model=gs.best_estimator_\n",
        "model.fit(X_train, y_train)"
      ],
      "metadata": {
        "colab": {
          "base_uri": "https://localhost:8080/"
        },
        "id": "CtLsey6i5bHe",
        "outputId": "b92d0348-01f7-405b-c1f5-756e3254e281"
      },
      "execution_count": null,
      "outputs": [
        {
          "output_type": "execute_result",
          "data": {
            "text/plain": [
              "Pipeline(steps=[('scaler', StandardScaler()), ('model', SVR(gamma='auto'))])"
            ]
          },
          "metadata": {},
          "execution_count": 49
        }
      ]
    },
    {
      "cell_type": "code",
      "source": [
        "print(\"학습 데이터 점수:{}\".format(model.score(X_train, y_train)))\n",
        "print(\"평가 데이터 점수:{}\".format(model.score(X_test, y_test)))"
      ],
      "metadata": {
        "colab": {
          "base_uri": "https://localhost:8080/"
        },
        "id": "53cnSgf15hPA",
        "outputId": "1520ba93-4839-4d22-a781-295423328ee5"
      },
      "execution_count": null,
      "outputs": [
        {
          "output_type": "stream",
          "name": "stdout",
          "text": [
            "학습 데이터 점수:0.2936224439043682\n",
            "평가 데이터 점수:0.2814792090711107\n"
          ]
        }
      ]
    },
    {
      "cell_type": "markdown",
      "source": [
        "#sigmoid"
      ],
      "metadata": {
        "id": "nzQmQgHJ5ncR"
      }
    },
    {
      "cell_type": "code",
      "source": [
        "pipe=Pipeline([('scaler',StandardScaler()),\n",
        "               ('model', SVR(kernel='sigmoid'))])\n",
        "param_grid=[{'model__gamma':['scale','auto'],\n",
        "             'model__C':[1.0, 0.1,0.01],\n",
        "             'model__epsilon':[1.0, 0.1, 0.01]}]\n",
        "        \n",
        "gs=GridSearchCV(\n",
        "    estimator=pipe,\n",
        "    param_grid = param_grid,\n",
        "    n_jobs=multiprocessing.cpu_count(),\n",
        "    cv=5,\n",
        "    verbose=True\n",
        ")\n",
        "\n"
      ],
      "metadata": {
        "id": "zvmgEtrU3RwR"
      },
      "execution_count": null,
      "outputs": []
    },
    {
      "cell_type": "code",
      "source": [
        "gs.fit(X,y)"
      ],
      "metadata": {
        "id": "9aSg6WLr3RwR",
        "colab": {
          "base_uri": "https://localhost:8080/"
        },
        "outputId": "4fa5d6e1-c66a-4d4f-e443-9f3b198c50e4"
      },
      "execution_count": null,
      "outputs": [
        {
          "output_type": "stream",
          "name": "stdout",
          "text": [
            "Fitting 5 folds for each of 18 candidates, totalling 90 fits\n"
          ]
        },
        {
          "output_type": "execute_result",
          "data": {
            "text/plain": [
              "GridSearchCV(cv=5,\n",
              "             estimator=Pipeline(steps=[('scaler', StandardScaler()),\n",
              "                                       ('model', SVR(kernel='sigmoid'))]),\n",
              "             n_jobs=2,\n",
              "             param_grid=[{'model__C': [1.0, 0.1, 0.01],\n",
              "                          'model__epsilon': [1.0, 0.1, 0.01],\n",
              "                          'model__gamma': ['scale', 'auto']}],\n",
              "             verbose=True)"
            ]
          },
          "metadata": {},
          "execution_count": 42
        }
      ]
    },
    {
      "cell_type": "code",
      "source": [
        "gs.best_estimator_"
      ],
      "metadata": {
        "id": "fnBJIGx93RwS",
        "colab": {
          "base_uri": "https://localhost:8080/"
        },
        "outputId": "d6cb1391-db14-4246-a1aa-f77f9f416c4d"
      },
      "execution_count": null,
      "outputs": [
        {
          "output_type": "execute_result",
          "data": {
            "text/plain": [
              "Pipeline(steps=[('scaler', StandardScaler()),\n",
              "                ('model', SVR(C=0.01, epsilon=0.01, kernel='sigmoid'))])"
            ]
          },
          "metadata": {},
          "execution_count": 43
        }
      ]
    },
    {
      "cell_type": "code",
      "source": [
        "model=gs.best_estimator_\n",
        "model.fit(X_train, y_train)"
      ],
      "metadata": {
        "id": "eIIA6sH-7OWJ",
        "colab": {
          "base_uri": "https://localhost:8080/"
        },
        "outputId": "9fad61ad-da7f-41f8-b5ae-67a682944bd2"
      },
      "execution_count": null,
      "outputs": [
        {
          "output_type": "execute_result",
          "data": {
            "text/plain": [
              "Pipeline(steps=[('scaler', StandardScaler()),\n",
              "                ('model', SVR(C=0.01, epsilon=0.01, kernel='sigmoid'))])"
            ]
          },
          "metadata": {},
          "execution_count": 44
        }
      ]
    },
    {
      "cell_type": "code",
      "source": [
        "print(\"학습 데이터 점수:{}\".format(model.score(X_train, y_train)))\n",
        "print(\"평가 데이터 점수:{}\".format(model.score(X_test, y_test)))"
      ],
      "metadata": {
        "id": "sdwoUQcX7Otf",
        "colab": {
          "base_uri": "https://localhost:8080/"
        },
        "outputId": "23c1bb6e-af6c-4bc2-8228-f909af9e9090"
      },
      "execution_count": null,
      "outputs": [
        {
          "output_type": "stream",
          "name": "stdout",
          "text": [
            "학습 데이터 점수:0.006912430734044572\n",
            "평가 데이터 점수:-0.007994401771863169\n"
          ]
        }
      ]
    },
    {
      "cell_type": "markdown",
      "source": [
        "#Polynomial"
      ],
      "metadata": {
        "id": "55Np9v_86Fp6"
      }
    },
    {
      "cell_type": "code",
      "source": [
        "pipe=Pipeline([('scaler',StandardScaler()),\n",
        "               ('model', SVR(kernel='sigmoid'))])\n",
        "param_grid=[{'model__gamma':['scale','auto'],\n",
        "             'model__C':[1.0, 0.1,0.01],\n",
        "             'model__epsilon':[1.0, 0.1, 0.01]}]\n",
        "        \n",
        "gs=GridSearchCV(\n",
        "    estimator=pipe,\n",
        "    param_grid = param_grid,\n",
        "    n_jobs=multiprocessing.cpu_count(),\n",
        "    cv=5,\n",
        "    verbose=True\n",
        ")\n",
        "gs.fit(X,y)"
      ],
      "metadata": {
        "colab": {
          "base_uri": "https://localhost:8080/"
        },
        "id": "YgBe_dy26E3S",
        "outputId": "0c9303b6-bf4a-4c05-b867-f923d41be759"
      },
      "execution_count": null,
      "outputs": [
        {
          "output_type": "stream",
          "name": "stdout",
          "text": [
            "Fitting 5 folds for each of 18 candidates, totalling 90 fits\n"
          ]
        },
        {
          "output_type": "execute_result",
          "data": {
            "text/plain": [
              "GridSearchCV(cv=5,\n",
              "             estimator=Pipeline(steps=[('scaler', StandardScaler()),\n",
              "                                       ('model', SVR(kernel='sigmoid'))]),\n",
              "             n_jobs=2,\n",
              "             param_grid=[{'model__C': [1.0, 0.1, 0.01],\n",
              "                          'model__epsilon': [1.0, 0.1, 0.01],\n",
              "                          'model__gamma': ['scale', 'auto']}],\n",
              "             verbose=True)"
            ]
          },
          "metadata": {},
          "execution_count": 51
        }
      ]
    },
    {
      "cell_type": "code",
      "source": [
        "gs.best_estimator_"
      ],
      "metadata": {
        "colab": {
          "base_uri": "https://localhost:8080/"
        },
        "id": "-EqAx6HI6RvO",
        "outputId": "44a53fa2-b182-4b15-fae6-fbacd5a4f2ef"
      },
      "execution_count": null,
      "outputs": [
        {
          "output_type": "execute_result",
          "data": {
            "text/plain": [
              "Pipeline(steps=[('scaler', StandardScaler()),\n",
              "                ('model', SVR(C=0.01, epsilon=0.01, kernel='sigmoid'))])"
            ]
          },
          "metadata": {},
          "execution_count": 52
        }
      ]
    },
    {
      "cell_type": "code",
      "source": [
        "model=gs.best_estimator_\n",
        "model.fit(X_train, y_train)"
      ],
      "metadata": {
        "colab": {
          "base_uri": "https://localhost:8080/"
        },
        "id": "m67ggUW86cuw",
        "outputId": "a2291db3-4f76-4a3b-c452-dd32b737db2b"
      },
      "execution_count": null,
      "outputs": [
        {
          "output_type": "execute_result",
          "data": {
            "text/plain": [
              "Pipeline(steps=[('scaler', StandardScaler()),\n",
              "                ('model', SVR(C=0.01, epsilon=0.01, kernel='sigmoid'))])"
            ]
          },
          "metadata": {},
          "execution_count": 53
        }
      ]
    },
    {
      "cell_type": "code",
      "source": [
        "print(\"학습 데이터 점수:{}\".format(model.score(X_train, y_train)))\n",
        "print(\"평가 데이터 점수:{}\".format(model.score(X_test, y_test)))"
      ],
      "metadata": {
        "colab": {
          "base_uri": "https://localhost:8080/"
        },
        "id": "vghpADHt6erS",
        "outputId": "921d96b3-a48c-47cc-8f0a-036815503a3a"
      },
      "execution_count": null,
      "outputs": [
        {
          "output_type": "stream",
          "name": "stdout",
          "text": [
            "학습 데이터 점수:0.006912430734044572\n",
            "평가 데이터 점수:-0.007994401771863169\n"
          ]
        }
      ]
    },
    {
      "cell_type": "code",
      "source": [
        "#no start---------------------------------------"
      ],
      "metadata": {
        "id": "TF6r7ZZg30gi"
      },
      "execution_count": null,
      "outputs": []
    },
    {
      "cell_type": "markdown",
      "source": [
        "# 이후는 분류기 문제임 \n",
        "#linear SVC\n",
        "#유방암 "
      ],
      "metadata": {
        "id": "znnqPBxL055N"
      }
    },
    {
      "cell_type": "code",
      "source": [
        "X,y=load_breast_cancer(return_X_y=True)\n",
        "X_train,X_test,y_train,y_test=train_test_split(X,y,test_size=0.2)"
      ],
      "metadata": {
        "id": "hzuxgQrR8Q5c"
      },
      "execution_count": null,
      "outputs": []
    },
    {
      "cell_type": "code",
      "source": [
        "scaler=StandardScaler()\n",
        "scaler.fit(X_train)\n",
        "X_train=scaler.transform(X_train)\n",
        "X_test=scaler.transform(X_test)"
      ],
      "metadata": {
        "id": "72f2yUfm8Q5d"
      },
      "execution_count": null,
      "outputs": []
    },
    {
      "cell_type": "code",
      "source": [
        "model=SVC(kernel='linear')\n",
        "model.fit(X_train,y_train)"
      ],
      "metadata": {
        "id": "lXo2ihSs8Q5d"
      },
      "execution_count": null,
      "outputs": []
    },
    {
      "cell_type": "code",
      "source": [
        "print(\"학습 데이터 점수:{}\".format(model.score(X_train, y_train)))\n",
        "print(\"평가 데이터 점수:{}\".format(model.score(X_test, y_test)))"
      ],
      "metadata": {
        "id": "BN60KBi-8Q5d"
      },
      "execution_count": null,
      "outputs": []
    },
    {
      "cell_type": "code",
      "source": [
        "import numpy as np\n",
        "def make_meshgrid(x,y,h=.02):\n",
        "    x_min,x_max=x.min()-1,x.max()+1\n",
        "    y_min,y_max=y.min()-1,y.max()+1\n",
        "    xx,yy = np.meshgrid(np.arange(x_min,x_max,h),\n",
        "                        np.arange(y_min,y_max,h))\n",
        "    return xx, yy"
      ],
      "metadata": {
        "id": "WzaBMxOo8wg9"
      },
      "execution_count": null,
      "outputs": []
    },
    {
      "cell_type": "code",
      "source": [
        "def plot_contours(clf,xx,yy,**params):\n",
        "    Z=clf.predict(np.c_[xx.ravel(),yy.ravel()])\n",
        "    Z=Z.reshape(xx.shape)\n",
        "    out=plt.contourf(xx,yy,Z,**params)\n",
        "\n",
        "    return out"
      ],
      "metadata": {
        "id": "1sc7kBtx9jjy"
      },
      "execution_count": null,
      "outputs": []
    },
    {
      "cell_type": "code",
      "source": [
        "X_comp=TSNE(n_components=2).fit_transform(X)\n",
        "X0,X1=X_comp[:,0],X_comp[:,1]\n",
        "xx,yy=make_meshgrid(X0,X1)"
      ],
      "metadata": {
        "id": "8-qQx3j28Q5d"
      },
      "execution_count": null,
      "outputs": []
    },
    {
      "cell_type": "code",
      "source": [
        "model.fit(X_comp,y)\n",
        "plot_contours(model, xx, yy, cmap=plt.cm.coolwarm, alpha=0.7)\n",
        "plt.scatter(X0,X1,c=y, cmap=plt.cm.coolwarm,s=20,edgecolors='k');\n"
      ],
      "metadata": {
        "id": "hzsByU_v8Q5d"
      },
      "execution_count": null,
      "outputs": []
    },
    {
      "cell_type": "code",
      "source": [
        "estimator=make_pipeline(StandardScaler(), SVC(kernel='linear'))\n",
        "cross_validate(\n",
        "    estimator=estimator,\n",
        "    X=X, y=y,\n",
        "    cv=5,\n",
        "    n_jobs=multiprocessing.cpu_count(),\n",
        "    verbose=True\n",
        ")"
      ],
      "metadata": {
        "id": "AKqerbKl8Q5d"
      },
      "execution_count": null,
      "outputs": []
    },
    {
      "cell_type": "code",
      "source": [
        "pipe=Pipeline([('scaler',StandardScaler()),\n",
        "               ('model', SVC(kernel='linear'))])\n",
        "param_grid=[{'model__gamma':['scale','auto'],\n",
        "             'model__C':[1.0,0.1,0.01]}]\n",
        "        \n",
        "gs=GridSearchCV(\n",
        "    estimator=pipe,\n",
        "    param_grid = param_grid,\n",
        "    n_jobs=multiprocessing.cpu_count(),\n",
        "    cv=5,\n",
        "    verbose=True\n",
        ")\n",
        "gs.fit(X,y)\n"
      ],
      "metadata": {
        "id": "l4FsjOV98Q5e"
      },
      "execution_count": null,
      "outputs": []
    },
    {
      "cell_type": "code",
      "source": [
        "gs.best_estimator_"
      ],
      "metadata": {
        "id": "IqrPvRKG8Q5e"
      },
      "execution_count": null,
      "outputs": []
    },
    {
      "cell_type": "code",
      "source": [
        "model=gs.best_estimator_\n",
        "model.fit(X_train, y_train)"
      ],
      "metadata": {
        "id": "ui8lX2Pe8Q5f"
      },
      "execution_count": null,
      "outputs": []
    },
    {
      "cell_type": "code",
      "source": [
        "print(\"학습 데이터 점수:{}\".format(model.score(X_train, y_train)))\n",
        "print(\"평가 데이터 점수:{}\".format(model.score(X_test, y_test)))"
      ],
      "metadata": {
        "id": "tQBdbPml8Q5f"
      },
      "execution_count": null,
      "outputs": []
    },
    {
      "cell_type": "markdown",
      "source": [
        "#붓꽃"
      ],
      "metadata": {
        "id": "NaWmq2g48Q5f"
      }
    },
    {
      "cell_type": "code",
      "source": [
        "X,y=load_iris(return_X_y=True)\n",
        "X_train,X_test,y_train,y_test=train_test_split(X,y,test_size=0.2)"
      ],
      "metadata": {
        "id": "av4Q7H74C2VZ"
      },
      "execution_count": null,
      "outputs": []
    },
    {
      "cell_type": "code",
      "source": [
        "scaler=StandardScaler()\n",
        "scaler.fit(X_train)\n",
        "X_train=scaler.transform(X_train)\n",
        "X_test=scaler.transform(X_test)"
      ],
      "metadata": {
        "id": "spAlmpBSC2Vd"
      },
      "execution_count": null,
      "outputs": []
    },
    {
      "cell_type": "code",
      "source": [
        "model=SVC(kernel='linear')\n",
        "model.fit(X_train,y_train)"
      ],
      "metadata": {
        "id": "ZO-ckFiaC2Ve"
      },
      "execution_count": null,
      "outputs": []
    },
    {
      "cell_type": "code",
      "source": [
        "print(\"학습 데이터 점수:{}\".format(model.score(X_train, y_train)))\n",
        "print(\"평가 데이터 점수:{}\".format(model.score(X_test, y_test)))"
      ],
      "metadata": {
        "id": "b-7j38bzC2Ve"
      },
      "execution_count": null,
      "outputs": []
    },
    {
      "cell_type": "code",
      "source": [
        "import numpy as np\n",
        "def make_meshgrid(x,y,h=.02):\n",
        "    x_min,x_max=x.min()-1,x.max()+1\n",
        "    y_min,y_max=y.min()-1,y.max()+1\n",
        "    xx,yy = np.meshgrid(np.arange(x_min,x_max,h),\n",
        "                        np.arange(y_min,y_max,h))\n",
        "    return xx, yy"
      ],
      "metadata": {
        "id": "DRFQ6Xc7C2Ve"
      },
      "execution_count": null,
      "outputs": []
    },
    {
      "cell_type": "code",
      "source": [
        "def plot_contours(clf,xx,yy,**params):\n",
        "    Z=clf.predict(np.c_[xx.ravel(),yy.ravel()])\n",
        "    Z=Z.reshape(xx.shape)\n",
        "    out=plt.contourf(xx,yy,Z,**params)\n",
        "\n",
        "    return out"
      ],
      "metadata": {
        "id": "U5iVEJPUC2Ve"
      },
      "execution_count": null,
      "outputs": []
    },
    {
      "cell_type": "code",
      "source": [
        "X_comp=TSNE(n_components=2).fit_transform(X)\n",
        "X0,X1=X_comp[:,0],X_comp[:,1]\n",
        "xx,yy=make_meshgrid(X0,X1)"
      ],
      "metadata": {
        "id": "1R5WkjRkC2Ve"
      },
      "execution_count": null,
      "outputs": []
    },
    {
      "cell_type": "code",
      "source": [
        "model.fit(X_comp,y)\n",
        "plot_contours(model, xx, yy, cmap=plt.cm.coolwarm, alpha=0.7)\n",
        "plt.scatter(X0,X1,c=y, cmap=plt.cm.coolwarm,s=20,edgecolors='k');\n"
      ],
      "metadata": {
        "id": "b-L6bRPVC2Ve"
      },
      "execution_count": null,
      "outputs": []
    },
    {
      "cell_type": "code",
      "source": [
        "estimator=make_pipeline(StandardScaler(), SVC(kernel='linear'))\n",
        "cross_validate(\n",
        "    estimator=estimator,\n",
        "    X=X, y=y,\n",
        "    cv=5,\n",
        "    n_jobs=multiprocessing.cpu_count(),\n",
        "    verbose=True\n",
        ")"
      ],
      "metadata": {
        "id": "X-O-yoTbC2Ve"
      },
      "execution_count": null,
      "outputs": []
    },
    {
      "cell_type": "code",
      "source": [
        "pipe=Pipeline([('scaler',StandardScaler()),\n",
        "               ('model', SVC(kernel='linear'))])\n",
        "param_grid=[{'model__gamma':['scale','auto'],\n",
        "             'model__C':[1.0,0.1,0.01]}]\n",
        "        \n",
        "gs=GridSearchCV(\n",
        "    estimator=pipe,\n",
        "    param_grid = param_grid,\n",
        "    n_jobs=multiprocessing.cpu_count(),\n",
        "    cv=5,\n",
        "    verbose=True\n",
        ")\n",
        "gs.fit(X,y)\n"
      ],
      "metadata": {
        "id": "0o3SS_wVC2Ve"
      },
      "execution_count": null,
      "outputs": []
    },
    {
      "cell_type": "code",
      "source": [
        "gs.best_estimator_"
      ],
      "metadata": {
        "id": "5EbJsWrjC2Ve"
      },
      "execution_count": null,
      "outputs": []
    },
    {
      "cell_type": "code",
      "source": [
        "model=gs.best_estimator_\n",
        "model.fit(X_train, y_train)"
      ],
      "metadata": {
        "id": "O2mhLykEC2Ve"
      },
      "execution_count": null,
      "outputs": []
    },
    {
      "cell_type": "code",
      "source": [
        "print(\"학습 데이터 점수:{}\".format(model.score(X_train, y_train)))\n",
        "print(\"평가 데이터 점수:{}\".format(model.score(X_test, y_test)))"
      ],
      "metadata": {
        "id": "pbwb55W4C2Ve"
      },
      "execution_count": null,
      "outputs": []
    },
    {
      "cell_type": "markdown",
      "source": [
        "#와인"
      ],
      "metadata": {
        "id": "JLlb_6wiC2Ve"
      }
    },
    {
      "cell_type": "code",
      "source": [
        "X,y=load_wine(return_X_y=True)\n",
        "X_train,X_test,y_train,y_test=train_test_split(X,y,test_size=0.2)"
      ],
      "metadata": {
        "id": "qmGnpBZRD6I4"
      },
      "execution_count": null,
      "outputs": []
    },
    {
      "cell_type": "code",
      "source": [
        "scaler=StandardScaler()\n",
        "scaler.fit(X_train)\n",
        "X_train=scaler.transform(X_train)\n",
        "X_test=scaler.transform(X_test)"
      ],
      "metadata": {
        "id": "iRS_jRIqD6JA"
      },
      "execution_count": null,
      "outputs": []
    },
    {
      "cell_type": "code",
      "source": [
        "model=SVC(kernel='linear')\n",
        "model.fit(X_train,y_train)"
      ],
      "metadata": {
        "id": "6zbdxlkYD6JA"
      },
      "execution_count": null,
      "outputs": []
    },
    {
      "cell_type": "code",
      "source": [
        "print(\"학습 데이터 점수:{}\".format(model.score(X_train, y_train)))\n",
        "print(\"평가 데이터 점수:{}\".format(model.score(X_test, y_test)))"
      ],
      "metadata": {
        "id": "29hCy09-D6JA"
      },
      "execution_count": null,
      "outputs": []
    },
    {
      "cell_type": "code",
      "source": [
        "import numpy as np\n",
        "def make_meshgrid(x,y,h=.02):\n",
        "    x_min,x_max=x.min()-1,x.max()+1\n",
        "    y_min,y_max=y.min()-1,y.max()+1\n",
        "    xx,yy = np.meshgrid(np.arange(x_min,x_max,h),\n",
        "                        np.arange(y_min,y_max,h))\n",
        "    return xx, yy"
      ],
      "metadata": {
        "id": "1uP4pxjuD6JA"
      },
      "execution_count": null,
      "outputs": []
    },
    {
      "cell_type": "code",
      "source": [
        "def plot_contours(clf,xx,yy,**params):\n",
        "    Z=clf.predict(np.c_[xx.ravel(),yy.ravel()])\n",
        "    Z=Z.reshape(xx.shape)\n",
        "    out=plt.contourf(xx,yy,Z,**params)\n",
        "\n",
        "    return out"
      ],
      "metadata": {
        "id": "oII0Sxz9D6JA"
      },
      "execution_count": null,
      "outputs": []
    },
    {
      "cell_type": "code",
      "source": [
        "X_comp=TSNE(n_components=2).fit_transform(X)\n",
        "X0,X1=X_comp[:,0],X_comp[:,1]\n",
        "xx,yy=make_meshgrid(X0,X1)"
      ],
      "metadata": {
        "id": "j0f0AGLND6JA"
      },
      "execution_count": null,
      "outputs": []
    },
    {
      "cell_type": "code",
      "source": [
        "model.fit(X_comp,y)\n",
        "plot_contours(model, xx, yy, cmap=plt.cm.coolwarm, alpha=0.7)\n",
        "plt.scatter(X0,X1,c=y, cmap=plt.cm.coolwarm,s=20,edgecolors='k');\n"
      ],
      "metadata": {
        "id": "p_rsLiaxD6JA"
      },
      "execution_count": null,
      "outputs": []
    },
    {
      "cell_type": "code",
      "source": [
        "estimator=make_pipeline(StandardScaler(), SVC(kernel='linear'))\n",
        "cross_validate(\n",
        "    estimator=estimator,\n",
        "    X=X, y=y,\n",
        "    cv=5,\n",
        "    n_jobs=multiprocessing.cpu_count(),\n",
        "    verbose=True\n",
        ")"
      ],
      "metadata": {
        "id": "x43NXxG7D6JA"
      },
      "execution_count": null,
      "outputs": []
    },
    {
      "cell_type": "code",
      "source": [
        "pipe=Pipeline([('scaler',StandardScaler()),\n",
        "               ('model', SVC(kernel='linear'))])\n",
        "param_grid=[{'model__gamma':['scale','auto'],\n",
        "             'model__C':[1.0,0.1,0.01]}]\n",
        "        \n",
        "gs=GridSearchCV(\n",
        "    estimator=pipe,\n",
        "    param_grid = param_grid,\n",
        "    n_jobs=multiprocessing.cpu_count(),\n",
        "    cv=5,\n",
        "    verbose=True\n",
        ")\n",
        "gs.fit(X,y)\n"
      ],
      "metadata": {
        "id": "PRGfS8XPD6JA"
      },
      "execution_count": null,
      "outputs": []
    },
    {
      "cell_type": "code",
      "source": [
        "gs.best_estimator_"
      ],
      "metadata": {
        "id": "esBameH_D6JB"
      },
      "execution_count": null,
      "outputs": []
    },
    {
      "cell_type": "code",
      "source": [
        "model=gs.best_estimator_\n",
        "model.fit(X_train, y_train)"
      ],
      "metadata": {
        "id": "DQTS6_dlD6JB"
      },
      "execution_count": null,
      "outputs": []
    },
    {
      "cell_type": "code",
      "source": [
        "print(\"학습 데이터 점수:{}\".format(model.score(X_train, y_train)))\n",
        "print(\"평가 데이터 점수:{}\".format(model.score(X_test, y_test)))"
      ],
      "metadata": {
        "id": "YWRwe52gD6JB"
      },
      "execution_count": null,
      "outputs": []
    },
    {
      "cell_type": "markdown",
      "source": [
        "#붓꽃"
      ],
      "metadata": {
        "id": "TI7yvLKsD6JC"
      }
    },
    {
      "cell_type": "code",
      "source": [],
      "metadata": {
        "id": "ovvq602A8Q5f"
      },
      "execution_count": null,
      "outputs": []
    },
    {
      "cell_type": "code",
      "source": [
        "print(\"학습 데이터 점수:{}\".format(model.score(X_train, y_train)))\n",
        "print(\"평가 데이터 점수:{}\".format(model.score(X_test, y_test)))"
      ],
      "metadata": {
        "id": "5x4ZZgov8Q5f"
      },
      "execution_count": null,
      "outputs": []
    },
    {
      "cell_type": "code",
      "source": [
        "print(\"학습 데이터 점수:{}\".format(model.score(X_train, y_train)))\n",
        "print(\"평가 데이터 점수:{}\".format(model.score(X_test, y_test)))"
      ],
      "metadata": {
        "id": "WV0NMwBe8Fvb"
      },
      "execution_count": null,
      "outputs": []
    },
    {
      "cell_type": "code",
      "source": [
        "pipe=Pipeline([('scaler',StandardScaler()),\n",
        "               ('model', SVR(kernel='rbf'))])\n",
        "param_grid=[{'model__kernel':['rbf','polynomial', 'sigmoid']}]\n",
        "        \n",
        "gs=GridSearchCV(\n",
        "    estimator=pipe,\n",
        "    param_grid = param_grid,\n",
        "    n_jobs=multiprocessing.cpu_count(),\n",
        "    cv=5,\n",
        "    verbose=True\n",
        ")\n",
        "\n"
      ],
      "metadata": {
        "id": "gemak4EP5Amd"
      },
      "execution_count": null,
      "outputs": []
    },
    {
      "cell_type": "code",
      "source": [
        "gs.fit(X,y)"
      ],
      "metadata": {
        "id": "sj6_4nBs5Ami"
      },
      "execution_count": null,
      "outputs": []
    },
    {
      "cell_type": "code",
      "source": [
        "gs.best_estimator_"
      ],
      "metadata": {
        "id": "zfemdaNC5Ami"
      },
      "execution_count": null,
      "outputs": []
    },
    {
      "cell_type": "markdown",
      "source": [
        "#유방암"
      ],
      "metadata": {
        "id": "bVzwhEaNFLJ6"
      }
    },
    {
      "cell_type": "code",
      "source": [
        "X,y=load_breast_cancer(return_X_y=True)\n",
        "X_train,X_test,y_train,y_test=train_test_split(X,y,test_size=0.2)"
      ],
      "metadata": {
        "id": "P6buRyd4FNTz"
      },
      "execution_count": null,
      "outputs": []
    },
    {
      "cell_type": "code",
      "source": [
        "scaler=StandardScaler()\n",
        "scaler.fit(X_train)\n",
        "X_train=scaler.transform(X_train)\n",
        "X_test=scaler.transform(X_test)"
      ],
      "metadata": {
        "id": "qs_UDAg8FNTz"
      },
      "execution_count": null,
      "outputs": []
    },
    {
      "cell_type": "code",
      "source": [
        "model=SVC(kernel='rbf')\n",
        "model.fit(X_train,y_train)"
      ],
      "metadata": {
        "id": "VerSaIyIFNTz"
      },
      "execution_count": null,
      "outputs": []
    },
    {
      "cell_type": "code",
      "source": [
        "print(\"학습 데이터 점수:{}\".format(model.score(X_train, y_train)))\n",
        "print(\"평가 데이터 점수:{}\".format(model.score(X_test, y_test)))"
      ],
      "metadata": {
        "id": "1tdUIARJFNTz"
      },
      "execution_count": null,
      "outputs": []
    },
    {
      "cell_type": "code",
      "source": [
        "import numpy as np\n",
        "def make_meshgrid(x,y,h=.02):\n",
        "    x_min,x_max=x.min()-1,x.max()+1\n",
        "    y_min,y_max=y.min()-1,y.max()+1\n",
        "    xx,yy = np.meshgrid(np.arange(x_min,x_max,h),\n",
        "                        np.arange(y_min,y_max,h))\n",
        "    return xx, yy"
      ],
      "metadata": {
        "id": "J9fn92iwFNT0"
      },
      "execution_count": null,
      "outputs": []
    },
    {
      "cell_type": "code",
      "source": [
        "def plot_contours(clf,xx,yy,**params):\n",
        "    Z=clf.predict(np.c_[xx.ravel(),yy.ravel()])\n",
        "    Z=Z.reshape(xx.shape)\n",
        "    out=plt.contourf(xx,yy,Z,**params)\n",
        "\n",
        "    return out"
      ],
      "metadata": {
        "id": "WGAdT2RFFNT0"
      },
      "execution_count": null,
      "outputs": []
    },
    {
      "cell_type": "code",
      "source": [
        "X_comp=TSNE(n_components=2).fit_transform(X)\n",
        "X0,X1=X_comp[:,0],X_comp[:,1]\n",
        "xx,yy=make_meshgrid(X0,X1)"
      ],
      "metadata": {
        "id": "Co6tEe2bFNT0"
      },
      "execution_count": null,
      "outputs": []
    },
    {
      "cell_type": "code",
      "source": [
        "model.fit(X_comp,y)\n",
        "plot_contours(model, xx, yy, cmap=plt.cm.coolwarm, alpha=0.7)\n",
        "plt.scatter(X0,X1,c=y, cmap=plt.cm.coolwarm,s=20,edgecolors='k');\n"
      ],
      "metadata": {
        "id": "JVEzXXxGFNT0"
      },
      "execution_count": null,
      "outputs": []
    },
    {
      "cell_type": "code",
      "source": [
        "estimator=make_pipeline(StandardScaler(), SVC(kernel='linear'))\n",
        "cross_validate(\n",
        "    estimator=estimator,\n",
        "    X=X, y=y,\n",
        "    cv=5,\n",
        "    n_jobs=multiprocessing.cpu_count(),\n",
        "    verbose=True\n",
        ")"
      ],
      "metadata": {
        "id": "tDWb4cHdFNT0"
      },
      "execution_count": null,
      "outputs": []
    },
    {
      "cell_type": "code",
      "source": [
        "pipe=Pipeline([('scaler',StandardScaler()),\n",
        "               ('model', SVC(kernel='rbf'))])\n",
        "param_grid=[{'model__gamma':['scale','auto'],\n",
        "             'model__C':[1.0,0.1,0.01]}]\n",
        "        \n",
        "gs=GridSearchCV(\n",
        "    estimator=pipe,\n",
        "    param_grid = param_grid,\n",
        "    n_jobs=multiprocessing.cpu_count(),\n",
        "    cv=5,\n",
        "    verbose=True\n",
        ")\n",
        "gs.fit(X,y)\n"
      ],
      "metadata": {
        "id": "tkmfYcKgFNT0"
      },
      "execution_count": null,
      "outputs": []
    },
    {
      "cell_type": "code",
      "source": [
        "gs.best_estimator_"
      ],
      "metadata": {
        "id": "PjAybXmaFNT1"
      },
      "execution_count": null,
      "outputs": []
    },
    {
      "cell_type": "code",
      "source": [
        "model=gs.best_estimator_\n",
        "model.fit(X_train, y_train)"
      ],
      "metadata": {
        "id": "WbWafhPDFNT1"
      },
      "execution_count": null,
      "outputs": []
    },
    {
      "cell_type": "code",
      "source": [
        "print(\"학습 데이터 점수:{}\".format(model.score(X_train, y_train)))\n",
        "print(\"평가 데이터 점수:{}\".format(model.score(X_test, y_test)))"
      ],
      "metadata": {
        "id": "UkPUglCIFNT1"
      },
      "execution_count": null,
      "outputs": []
    },
    {
      "cell_type": "markdown",
      "source": [
        "#붓꽃"
      ],
      "metadata": {
        "id": "sSKe_XUwFNT1"
      }
    },
    {
      "cell_type": "code",
      "source": [
        "X,y=load_iris(return_X_y=True)\n",
        "X_train,X_test,y_train,y_test=train_test_split(X,y,test_size=0.2)"
      ],
      "metadata": {
        "id": "EcVHkr8tGyIg"
      },
      "execution_count": null,
      "outputs": []
    },
    {
      "cell_type": "code",
      "source": [
        "scaler=StandardScaler()\n",
        "scaler.fit(X_train)\n",
        "X_train=scaler.transform(X_train)\n",
        "X_test=scaler.transform(X_test)"
      ],
      "metadata": {
        "id": "APNY93AfGyIo"
      },
      "execution_count": null,
      "outputs": []
    },
    {
      "cell_type": "code",
      "source": [
        "model=SVC(kernel='rbf')\n",
        "model.fit(X_train,y_train)"
      ],
      "metadata": {
        "id": "lmRHyr8uGyIo"
      },
      "execution_count": null,
      "outputs": []
    },
    {
      "cell_type": "code",
      "source": [
        "print(\"학습 데이터 점수:{}\".format(model.score(X_train, y_train)))\n",
        "print(\"평가 데이터 점수:{}\".format(model.score(X_test, y_test)))"
      ],
      "metadata": {
        "id": "siwhVv3qGyIo"
      },
      "execution_count": null,
      "outputs": []
    },
    {
      "cell_type": "code",
      "source": [
        "import numpy as np\n",
        "def make_meshgrid(x,y,h=.02):\n",
        "    x_min,x_max=x.min()-1,x.max()+1\n",
        "    y_min,y_max=y.min()-1,y.max()+1\n",
        "    xx,yy = np.meshgrid(np.arange(x_min,x_max,h),\n",
        "                        np.arange(y_min,y_max,h))\n",
        "    return xx, yy"
      ],
      "metadata": {
        "id": "2KMNg9amGyIo"
      },
      "execution_count": null,
      "outputs": []
    },
    {
      "cell_type": "code",
      "source": [
        "def plot_contours(clf,xx,yy,**params):\n",
        "    Z=clf.predict(np.c_[xx.ravel(),yy.ravel()])\n",
        "    Z=Z.reshape(xx.shape)\n",
        "    out=plt.contourf(xx,yy,Z,**params)\n",
        "\n",
        "    return out"
      ],
      "metadata": {
        "id": "4NC8PzEGGyIp"
      },
      "execution_count": null,
      "outputs": []
    },
    {
      "cell_type": "code",
      "source": [
        "X_comp=TSNE(n_components=2).fit_transform(X)\n",
        "X0,X1=X_comp[:,0],X_comp[:,1]\n",
        "xx,yy=make_meshgrid(X0,X1)"
      ],
      "metadata": {
        "id": "YInmqtwHGyIp"
      },
      "execution_count": null,
      "outputs": []
    },
    {
      "cell_type": "code",
      "source": [
        "model.fit(X_comp,y)\n",
        "plot_contours(model, xx, yy, cmap=plt.cm.coolwarm, alpha=0.7)\n",
        "plt.scatter(X0,X1,c=y, cmap=plt.cm.coolwarm,s=20,edgecolors='k');\n"
      ],
      "metadata": {
        "id": "VrbxfefVGyIp"
      },
      "execution_count": null,
      "outputs": []
    },
    {
      "cell_type": "code",
      "source": [
        "estimator=make_pipeline(StandardScaler(), SVC(kernel='linear'))\n",
        "cross_validate(\n",
        "    estimator=estimator,\n",
        "    X=X, y=y,\n",
        "    cv=5,\n",
        "    n_jobs=multiprocessing.cpu_count(),\n",
        "    verbose=True\n",
        ")"
      ],
      "metadata": {
        "id": "o2JLj9yeGyIp"
      },
      "execution_count": null,
      "outputs": []
    },
    {
      "cell_type": "code",
      "source": [
        "pipe=Pipeline([('scaler',StandardScaler()),\n",
        "               ('model', SVC(kernel='rbf'))])\n",
        "param_grid=[{'model__gamma':['scale','auto'],\n",
        "             'model__C':[1.0,0.1,0.01]}]\n",
        "        \n",
        "gs=GridSearchCV(\n",
        "    estimator=pipe,\n",
        "    param_grid = param_grid,\n",
        "    n_jobs=multiprocessing.cpu_count(),\n",
        "    cv=5,\n",
        "    verbose=True\n",
        ")\n",
        "gs.fit(X,y)\n"
      ],
      "metadata": {
        "id": "Ba2OBkCZGyIp"
      },
      "execution_count": null,
      "outputs": []
    },
    {
      "cell_type": "code",
      "source": [
        "gs.best_estimator_"
      ],
      "metadata": {
        "id": "fQWr3p90GyIp"
      },
      "execution_count": null,
      "outputs": []
    },
    {
      "cell_type": "code",
      "source": [
        "model=gs.best_estimator_\n",
        "model.fit(X_train, y_train)"
      ],
      "metadata": {
        "id": "jHpfJnDSGyIp"
      },
      "execution_count": null,
      "outputs": []
    },
    {
      "cell_type": "code",
      "source": [
        "print(\"학습 데이터 점수:{}\".format(model.score(X_train, y_train)))\n",
        "print(\"평가 데이터 점수:{}\".format(model.score(X_test, y_test)))"
      ],
      "metadata": {
        "id": "Wb_Reyn7GyIp"
      },
      "execution_count": null,
      "outputs": []
    },
    {
      "cell_type": "markdown",
      "source": [
        "#와인"
      ],
      "metadata": {
        "id": "HEmPL3W6GyIp"
      }
    },
    {
      "cell_type": "code",
      "source": [
        "X,y=load_wine(return_X_y=True)\n",
        "X_train,X_test,y_train,y_test=train_test_split(X,y,test_size=0.2)"
      ],
      "metadata": {
        "id": "lnd33uhXITwI"
      },
      "execution_count": null,
      "outputs": []
    },
    {
      "cell_type": "code",
      "source": [
        "scaler=StandardScaler()\n",
        "scaler.fit(X_train)\n",
        "X_train=scaler.transform(X_train)\n",
        "X_test=scaler.transform(X_test)"
      ],
      "metadata": {
        "id": "BRs-k5SJITwI"
      },
      "execution_count": null,
      "outputs": []
    },
    {
      "cell_type": "code",
      "source": [
        "model=SVC(kernel='rbf')\n",
        "model.fit(X_train,y_train)"
      ],
      "metadata": {
        "id": "AqDnllyCITwI"
      },
      "execution_count": null,
      "outputs": []
    },
    {
      "cell_type": "code",
      "source": [
        "print(\"학습 데이터 점수:{}\".format(model.score(X_train, y_train)))\n",
        "print(\"평가 데이터 점수:{}\".format(model.score(X_test, y_test)))"
      ],
      "metadata": {
        "id": "MAH4tGJLITwI"
      },
      "execution_count": null,
      "outputs": []
    },
    {
      "cell_type": "code",
      "source": [
        "import numpy as np\n",
        "def make_meshgrid(x,y,h=.02):\n",
        "    x_min,x_max=x.min()-1,x.max()+1\n",
        "    y_min,y_max=y.min()-1,y.max()+1\n",
        "    xx,yy = np.meshgrid(np.arange(x_min,x_max,h),\n",
        "                        np.arange(y_min,y_max,h))\n",
        "    return xx, yy"
      ],
      "metadata": {
        "id": "QnvGR6Y6ITwJ"
      },
      "execution_count": null,
      "outputs": []
    },
    {
      "cell_type": "code",
      "source": [
        "def plot_contours(clf,xx,yy,**params):\n",
        "    Z=clf.predict(np.c_[xx.ravel(),yy.ravel()])\n",
        "    Z=Z.reshape(xx.shape)\n",
        "    out=plt.contourf(xx,yy,Z,**params)\n",
        "\n",
        "    return out"
      ],
      "metadata": {
        "id": "ZVFvQjqHITwK"
      },
      "execution_count": null,
      "outputs": []
    },
    {
      "cell_type": "code",
      "source": [
        "X_comp=TSNE(n_components=2).fit_transform(X)\n",
        "X0,X1=X_comp[:,0],X_comp[:,1]\n",
        "xx,yy=make_meshgrid(X0,X1)"
      ],
      "metadata": {
        "id": "gLdVMYJZITwK"
      },
      "execution_count": null,
      "outputs": []
    },
    {
      "cell_type": "code",
      "source": [
        "model.fit(X_comp,y)\n",
        "plot_contours(model, xx, yy, cmap=plt.cm.coolwarm, alpha=0.7)\n",
        "plt.scatter(X0,X1,c=y, cmap=plt.cm.coolwarm,s=20,edgecolors='k');\n"
      ],
      "metadata": {
        "id": "BmcZibkSITwK"
      },
      "execution_count": null,
      "outputs": []
    },
    {
      "cell_type": "code",
      "source": [
        "estimator=make_pipeline(StandardScaler(), SVC(kernel='linear'))\n",
        "cross_validate(\n",
        "    estimator=estimator,\n",
        "    X=X, y=y,\n",
        "    cv=5,\n",
        "    n_jobs=multiprocessing.cpu_count(),\n",
        "    verbose=True\n",
        ")"
      ],
      "metadata": {
        "id": "w-2eb8AZITwK"
      },
      "execution_count": null,
      "outputs": []
    },
    {
      "cell_type": "code",
      "source": [
        "pipe=Pipeline([('scaler',StandardScaler()),\n",
        "               ('model', SVC(kernel='rbf'))])\n",
        "param_grid=[{'model__gamma':['scale','auto'],\n",
        "             'model__C':[1.0,0.1,0.01]}]\n",
        "        \n",
        "gs=GridSearchCV(\n",
        "    estimator=pipe,\n",
        "    param_grid = param_grid,\n",
        "    n_jobs=multiprocessing.cpu_count(),\n",
        "    cv=5,\n",
        "    verbose=True\n",
        ")\n",
        "gs.fit(X,y)\n"
      ],
      "metadata": {
        "id": "WesvtmXNITwL"
      },
      "execution_count": null,
      "outputs": []
    },
    {
      "cell_type": "code",
      "source": [
        "gs.best_estimator_"
      ],
      "metadata": {
        "id": "E2uxPJqtITwL"
      },
      "execution_count": null,
      "outputs": []
    },
    {
      "cell_type": "code",
      "source": [
        "model=gs.best_estimator_\n",
        "model.fit(X_train, y_train)"
      ],
      "metadata": {
        "id": "iJAPseeVITwL"
      },
      "execution_count": null,
      "outputs": []
    },
    {
      "cell_type": "code",
      "source": [
        "print(\"학습 데이터 점수:{}\".format(model.score(X_train, y_train)))\n",
        "print(\"평가 데이터 점수:{}\".format(model.score(X_test, y_test)))"
      ],
      "metadata": {
        "id": "7M8lHtm-ITwL"
      },
      "execution_count": null,
      "outputs": []
    },
    {
      "cell_type": "markdown",
      "source": [
        "#end"
      ],
      "metadata": {
        "id": "FuXEi1tnITwL"
      }
    },
    {
      "cell_type": "code",
      "source": [
        "#no end-----------------------------------"
      ],
      "metadata": {
        "id": "wLB7FFnv4LAN"
      },
      "execution_count": null,
      "outputs": []
    },
    {
      "cell_type": "code",
      "source": [],
      "metadata": {
        "id": "qWqBLAPFJl7l"
      },
      "execution_count": null,
      "outputs": []
    }
  ]
}